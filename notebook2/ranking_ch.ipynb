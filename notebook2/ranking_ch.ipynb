{
 "cells": [
  {
   "cell_type": "markdown",
   "id": "fe3787e3",
   "metadata": {
    "execution": {
     "iopub.execute_input": "2022-03-15T16:11:22.880270Z",
     "iopub.status.busy": "2022-03-15T16:11:22.878561Z",
     "iopub.status.idle": "2022-03-15T16:11:22.882776Z",
     "shell.execute_reply": "2022-03-15T16:11:22.883868Z",
     "shell.execute_reply.started": "2022-03-15T16:00:30.14947Z"
    },
    "papermill": {
     "duration": 0.057027,
     "end_time": "2022-03-15T16:11:22.884185",
     "exception": false,
     "start_time": "2022-03-15T16:11:22.827158",
     "status": "completed"
    },
    "tags": []
   },
   "source": [
    "\n",
    "## Online/Offline 出し分けモデル"
   ]
  },
  {
   "cell_type": "code",
   "execution_count": 1,
   "id": "657b96eb",
   "metadata": {
    "execution": {
     "iopub.execute_input": "2022-03-15T16:11:22.978215Z",
     "iopub.status.busy": "2022-03-15T16:11:22.977239Z",
     "iopub.status.idle": "2022-03-15T16:11:23.063378Z",
     "shell.execute_reply": "2022-03-15T16:11:23.062182Z",
     "shell.execute_reply.started": "2022-03-15T16:00:30.155634Z"
    },
    "papermill": {
     "duration": 0.13338,
     "end_time": "2022-03-15T16:11:23.063547",
     "exception": false,
     "start_time": "2022-03-15T16:11:22.930167",
     "status": "completed"
    },
    "tags": []
   },
   "outputs": [],
   "source": [
    "import numpy as np\n",
    "import pandas as pd\n",
    "import gc\n",
    "import os\n",
    "import time\n",
    "import random\n",
    "from tqdm.auto import tqdm"
   ]
  },
  {
   "cell_type": "code",
   "execution_count": 2,
   "id": "0427fdf3",
   "metadata": {
    "execution": {
     "iopub.execute_input": "2022-03-15T16:11:23.159260Z",
     "iopub.status.busy": "2022-03-15T16:11:23.158162Z",
     "iopub.status.idle": "2022-03-15T16:11:23.160890Z",
     "shell.execute_reply": "2022-03-15T16:11:23.160245Z",
     "shell.execute_reply.started": "2022-03-15T16:00:30.171649Z"
    },
    "papermill": {
     "duration": 0.051483,
     "end_time": "2022-03-15T16:11:23.161067",
     "exception": false,
     "start_time": "2022-03-15T16:11:23.109584",
     "status": "completed"
    },
    "tags": []
   },
   "outputs": [],
   "source": [
    "def visualize_df(df):\n",
    "    print(df.shape)\n",
    "    display(df.head())"
   ]
  },
  {
   "cell_type": "code",
   "execution_count": 3,
   "id": "13d897a3",
   "metadata": {},
   "outputs": [],
   "source": [
    "# parameter\n",
    "val_start_date = '2020-09-16'\n",
    "#val_start_date = '2020-09-09'\n",
    "#val_start_date = '2020-09-02'\n",
    "#topk = 50\n",
    "topk = 30\n"
   ]
  },
  {
   "cell_type": "code",
   "execution_count": 4,
   "id": "6d7fdd9e",
   "metadata": {},
   "outputs": [],
   "source": [
    "from datetime import datetime, date, timedelta\n",
    "val_end_date = pd.to_datetime(val_start_date) + timedelta(days=7)"
   ]
  },
  {
   "cell_type": "code",
   "execution_count": 5,
   "id": "efff251a",
   "metadata": {},
   "outputs": [
    {
     "name": "stdout",
     "output_type": "stream",
     "text": [
      "2020-09-16 2020-09-23\n"
     ]
    }
   ],
   "source": [
    "val_end_date = str(val_end_date.strftime('%Y-%m-%d'))\n",
    "print(val_start_date, val_end_date)"
   ]
  },
  {
   "cell_type": "code",
   "execution_count": 6,
   "id": "0ea423ef",
   "metadata": {
    "_cell_guid": "b1076dfc-b9ad-4769-8c92-a6c4dae69d19",
    "_uuid": "8f2839f25d086af736a60e9eeb907d3b93b6e0e5",
    "execution": {
     "iopub.execute_input": "2022-03-15T16:11:23.254925Z",
     "iopub.status.busy": "2022-03-15T16:11:23.254210Z",
     "iopub.status.idle": "2022-03-15T16:12:29.811226Z",
     "shell.execute_reply": "2022-03-15T16:12:29.811901Z",
     "shell.execute_reply.started": "2022-03-15T16:00:30.18808Z"
    },
    "papermill": {
     "duration": 66.606834,
     "end_time": "2022-03-15T16:12:29.812110",
     "exception": false,
     "start_time": "2022-03-15T16:11:23.205276",
     "status": "completed"
    },
    "tags": []
   },
   "outputs": [],
   "source": [
    "# データの読み込み\n",
    "dir = 'h-and-m-personalized-fashion-recommendations/'\n",
    "path = '../input/' + dir \n",
    "\n",
    "#customers = pd.read_csv(path + 'customers.csv')\n",
    "#articles = pd.read_csv(path + 'articles.csv')\n",
    "transactions_train = pd.read_csv(path + 'transactions_train.csv')"
   ]
  },
  {
   "cell_type": "code",
   "execution_count": 7,
   "id": "522152bb",
   "metadata": {},
   "outputs": [],
   "source": [
    "# save memory https://www.kaggle.com/c/h-and-m-personalized-fashion-recommendations/discussion/308635\n",
    "# 64文字もあるが、末尾16文字だけでcustomerを一意にid可能\n",
    "# 使われている文字は0-9, a-fなので16進数で変換してintで扱える\n",
    "# 16進数 = 4bit, 4bit * 16 / 8 = 8 byte\n",
    "# 64 byte -> 8 byteに削減, int64で表現可能\n",
    "transactions_train['customer_id'] = transactions_train['customer_id'].apply(lambda x: int(x[-16:],16) ).astype('int64')\n",
    "# メモリ削減\n",
    "transactions_train['article_id'] = transactions_train['article_id'].astype('int32')"
   ]
  },
  {
   "cell_type": "code",
   "execution_count": 8,
   "id": "cb6551b1",
   "metadata": {
    "execution": {
     "iopub.execute_input": "2022-03-15T16:12:29.904247Z",
     "iopub.status.busy": "2022-03-15T16:12:29.903550Z",
     "iopub.status.idle": "2022-03-15T16:12:34.899246Z",
     "shell.execute_reply": "2022-03-15T16:12:34.899750Z",
     "shell.execute_reply.started": "2022-03-15T16:01:14.260375Z"
    },
    "papermill": {
     "duration": 5.044154,
     "end_time": "2022-03-15T16:12:34.899916",
     "exception": false,
     "start_time": "2022-03-15T16:12:29.855762",
     "status": "completed"
    },
    "tags": []
   },
   "outputs": [
    {
     "name": "stdout",
     "output_type": "stream",
     "text": [
      "(1371980, 1)\n"
     ]
    },
    {
     "data": {
      "text/html": [
       "<div>\n",
       "<style scoped>\n",
       "    .dataframe tbody tr th:only-of-type {\n",
       "        vertical-align: middle;\n",
       "    }\n",
       "\n",
       "    .dataframe tbody tr th {\n",
       "        vertical-align: top;\n",
       "    }\n",
       "\n",
       "    .dataframe thead th {\n",
       "        text-align: right;\n",
       "    }\n",
       "</style>\n",
       "<table border=\"1\" class=\"dataframe\">\n",
       "  <thead>\n",
       "    <tr style=\"text-align: right;\">\n",
       "      <th></th>\n",
       "      <th>customer_id</th>\n",
       "    </tr>\n",
       "  </thead>\n",
       "  <tbody>\n",
       "    <tr>\n",
       "      <th>0</th>\n",
       "      <td>00000dbacae5abe5e23885899a1fa44253a17956c6d1c3...</td>\n",
       "    </tr>\n",
       "    <tr>\n",
       "      <th>1</th>\n",
       "      <td>0000423b00ade91418cceaf3b26c6af3dd342b51fd051e...</td>\n",
       "    </tr>\n",
       "    <tr>\n",
       "      <th>2</th>\n",
       "      <td>000058a12d5b43e67d225668fa1f8d618c13dc232df0ca...</td>\n",
       "    </tr>\n",
       "    <tr>\n",
       "      <th>3</th>\n",
       "      <td>00005ca1c9ed5f5146b52ac8639a40ca9d57aeff4d1bd2...</td>\n",
       "    </tr>\n",
       "    <tr>\n",
       "      <th>4</th>\n",
       "      <td>00006413d8573cd20ed7128e53b7b13819fe5cfc2d801f...</td>\n",
       "    </tr>\n",
       "  </tbody>\n",
       "</table>\n",
       "</div>"
      ],
      "text/plain": [
       "                                         customer_id\n",
       "0  00000dbacae5abe5e23885899a1fa44253a17956c6d1c3...\n",
       "1  0000423b00ade91418cceaf3b26c6af3dd342b51fd051e...\n",
       "2  000058a12d5b43e67d225668fa1f8d618c13dc232df0ca...\n",
       "3  00005ca1c9ed5f5146b52ac8639a40ca9d57aeff4d1bd2...\n",
       "4  00006413d8573cd20ed7128e53b7b13819fe5cfc2d801f..."
      ]
     },
     "metadata": {},
     "output_type": "display_data"
    }
   ],
   "source": [
    "sub = pd.read_csv(path + 'sample_submission.csv')\n",
    "del sub['prediction']; gc.collect()\n",
    "visualize_df(sub)"
   ]
  },
  {
   "cell_type": "code",
   "execution_count": 9,
   "id": "a877d955",
   "metadata": {},
   "outputs": [],
   "source": [
    "sub['customer_id'] = sub['customer_id'].apply(lambda x: int(x[-16:],16) ).astype('int64')"
   ]
  },
  {
   "cell_type": "code",
   "execution_count": 10,
   "id": "4a85ec3c",
   "metadata": {
    "execution": {
     "iopub.execute_input": "2022-03-15T16:12:35.001897Z",
     "iopub.status.busy": "2022-03-15T16:12:35.001265Z",
     "iopub.status.idle": "2022-03-15T16:12:35.005723Z",
     "shell.execute_reply": "2022-03-15T16:12:35.006267Z",
     "shell.execute_reply.started": "2022-03-15T16:01:17.607548Z"
    },
    "papermill": {
     "duration": 0.060925,
     "end_time": "2022-03-15T16:12:35.006434",
     "exception": false,
     "start_time": "2022-03-15T16:12:34.945509",
     "status": "completed"
    },
    "tags": []
   },
   "outputs": [
    {
     "name": "stdout",
     "output_type": "stream",
     "text": [
      "(31788324, 5)\n"
     ]
    },
    {
     "data": {
      "text/html": [
       "<div>\n",
       "<style scoped>\n",
       "    .dataframe tbody tr th:only-of-type {\n",
       "        vertical-align: middle;\n",
       "    }\n",
       "\n",
       "    .dataframe tbody tr th {\n",
       "        vertical-align: top;\n",
       "    }\n",
       "\n",
       "    .dataframe thead th {\n",
       "        text-align: right;\n",
       "    }\n",
       "</style>\n",
       "<table border=\"1\" class=\"dataframe\">\n",
       "  <thead>\n",
       "    <tr style=\"text-align: right;\">\n",
       "      <th></th>\n",
       "      <th>t_dat</th>\n",
       "      <th>customer_id</th>\n",
       "      <th>article_id</th>\n",
       "      <th>price</th>\n",
       "      <th>sales_channel_id</th>\n",
       "    </tr>\n",
       "  </thead>\n",
       "  <tbody>\n",
       "    <tr>\n",
       "      <th>0</th>\n",
       "      <td>2018-09-20</td>\n",
       "      <td>-6846340800584936</td>\n",
       "      <td>663713001</td>\n",
       "      <td>0.050831</td>\n",
       "      <td>2</td>\n",
       "    </tr>\n",
       "    <tr>\n",
       "      <th>1</th>\n",
       "      <td>2018-09-20</td>\n",
       "      <td>-6846340800584936</td>\n",
       "      <td>541518023</td>\n",
       "      <td>0.030492</td>\n",
       "      <td>2</td>\n",
       "    </tr>\n",
       "    <tr>\n",
       "      <th>2</th>\n",
       "      <td>2018-09-20</td>\n",
       "      <td>-8334631767138808638</td>\n",
       "      <td>505221004</td>\n",
       "      <td>0.015237</td>\n",
       "      <td>2</td>\n",
       "    </tr>\n",
       "    <tr>\n",
       "      <th>3</th>\n",
       "      <td>2018-09-20</td>\n",
       "      <td>-8334631767138808638</td>\n",
       "      <td>685687003</td>\n",
       "      <td>0.016932</td>\n",
       "      <td>2</td>\n",
       "    </tr>\n",
       "    <tr>\n",
       "      <th>4</th>\n",
       "      <td>2018-09-20</td>\n",
       "      <td>-8334631767138808638</td>\n",
       "      <td>685687004</td>\n",
       "      <td>0.016932</td>\n",
       "      <td>2</td>\n",
       "    </tr>\n",
       "  </tbody>\n",
       "</table>\n",
       "</div>"
      ],
      "text/plain": [
       "        t_dat          customer_id  article_id     price  sales_channel_id\n",
       "0  2018-09-20    -6846340800584936   663713001  0.050831                 2\n",
       "1  2018-09-20    -6846340800584936   541518023  0.030492                 2\n",
       "2  2018-09-20 -8334631767138808638   505221004  0.015237                 2\n",
       "3  2018-09-20 -8334631767138808638   685687003  0.016932                 2\n",
       "4  2018-09-20 -8334631767138808638   685687004  0.016932                 2"
      ]
     },
     "metadata": {},
     "output_type": "display_data"
    }
   ],
   "source": [
    "visualize_df(transactions_train)"
   ]
  },
  {
   "cell_type": "code",
   "execution_count": 11,
   "id": "619de9e2",
   "metadata": {
    "execution": {
     "iopub.execute_input": "2022-03-15T16:12:35.105816Z",
     "iopub.status.busy": "2022-03-15T16:12:35.105197Z",
     "iopub.status.idle": "2022-03-15T16:12:35.108285Z",
     "shell.execute_reply": "2022-03-15T16:12:35.107753Z",
     "shell.execute_reply.started": "2022-03-15T16:01:17.627302Z"
    },
    "papermill": {
     "duration": 0.055961,
     "end_time": "2022-03-15T16:12:35.108419",
     "exception": false,
     "start_time": "2022-03-15T16:12:35.052458",
     "status": "completed"
    },
    "tags": []
   },
   "outputs": [
    {
     "data": {
      "text/html": [
       "<div>\n",
       "<style scoped>\n",
       "    .dataframe tbody tr th:only-of-type {\n",
       "        vertical-align: middle;\n",
       "    }\n",
       "\n",
       "    .dataframe tbody tr th {\n",
       "        vertical-align: top;\n",
       "    }\n",
       "\n",
       "    .dataframe thead th {\n",
       "        text-align: right;\n",
       "    }\n",
       "</style>\n",
       "<table border=\"1\" class=\"dataframe\">\n",
       "  <thead>\n",
       "    <tr style=\"text-align: right;\">\n",
       "      <th></th>\n",
       "      <th>customer_id</th>\n",
       "    </tr>\n",
       "  </thead>\n",
       "  <tbody>\n",
       "    <tr>\n",
       "      <th>0</th>\n",
       "      <td>6883939031699146327</td>\n",
       "    </tr>\n",
       "    <tr>\n",
       "      <th>1</th>\n",
       "      <td>-7200416642310594310</td>\n",
       "    </tr>\n",
       "    <tr>\n",
       "      <th>2</th>\n",
       "      <td>-6846340800584936</td>\n",
       "    </tr>\n",
       "    <tr>\n",
       "      <th>3</th>\n",
       "      <td>-94071612138601410</td>\n",
       "    </tr>\n",
       "    <tr>\n",
       "      <th>4</th>\n",
       "      <td>-283965518499174310</td>\n",
       "    </tr>\n",
       "  </tbody>\n",
       "</table>\n",
       "</div>"
      ],
      "text/plain": [
       "           customer_id\n",
       "0  6883939031699146327\n",
       "1 -7200416642310594310\n",
       "2    -6846340800584936\n",
       "3   -94071612138601410\n",
       "4  -283965518499174310"
      ]
     },
     "execution_count": 11,
     "metadata": {},
     "output_type": "execute_result"
    }
   ],
   "source": [
    "# 提出サンプルの確認\n",
    "sub.head()"
   ]
  },
  {
   "cell_type": "markdown",
   "id": "269244c7",
   "metadata": {
    "papermill": {
     "duration": 0.0458,
     "end_time": "2022-03-15T16:12:35.200442",
     "exception": false,
     "start_time": "2022-03-15T16:12:35.154642",
     "status": "completed"
    },
    "tags": []
   },
   "source": [
    "### Divide data"
   ]
  },
  {
   "cell_type": "code",
   "execution_count": 12,
   "id": "c89530eb",
   "metadata": {
    "execution": {
     "iopub.execute_input": "2022-03-15T16:12:35.297174Z",
     "iopub.status.busy": "2022-03-15T16:12:35.296545Z",
     "iopub.status.idle": "2022-03-15T16:12:35.298915Z",
     "shell.execute_reply": "2022-03-15T16:12:35.298338Z",
     "shell.execute_reply.started": "2022-03-11T02:27:50.226503Z"
    },
    "papermill": {
     "duration": 0.052692,
     "end_time": "2022-03-15T16:12:35.299062",
     "exception": false,
     "start_time": "2022-03-15T16:12:35.246370",
     "status": "completed"
    },
    "tags": []
   },
   "outputs": [],
   "source": [
    "# transactions_train['t_dat'].unique()[-7:]\n",
    "\n",
    "# array(['2020-09-16', '2020-09-17', '2020-09-18', '2020-09-19',\n",
    "#       '2020-09-20', '2020-09-21', '2020-09-22'], dtype=object)\n"
   ]
  },
  {
   "cell_type": "code",
   "execution_count": 13,
   "id": "7fa87e45",
   "metadata": {
    "execution": {
     "iopub.execute_input": "2022-03-15T16:12:35.394132Z",
     "iopub.status.busy": "2022-03-15T16:12:35.393433Z",
     "iopub.status.idle": "2022-03-15T16:12:40.036687Z",
     "shell.execute_reply": "2022-03-15T16:12:40.036055Z",
     "shell.execute_reply.started": "2022-03-15T16:01:17.654211Z"
    },
    "papermill": {
     "duration": 4.691998,
     "end_time": "2022-03-15T16:12:40.036824",
     "exception": false,
     "start_time": "2022-03-15T16:12:35.344826",
     "status": "completed"
    },
    "tags": []
   },
   "outputs": [
    {
     "name": "stdout",
     "output_type": "stream",
     "text": [
      "(240311, 5)\n"
     ]
    },
    {
     "data": {
      "text/html": [
       "<div>\n",
       "<style scoped>\n",
       "    .dataframe tbody tr th:only-of-type {\n",
       "        vertical-align: middle;\n",
       "    }\n",
       "\n",
       "    .dataframe tbody tr th {\n",
       "        vertical-align: top;\n",
       "    }\n",
       "\n",
       "    .dataframe thead th {\n",
       "        text-align: right;\n",
       "    }\n",
       "</style>\n",
       "<table border=\"1\" class=\"dataframe\">\n",
       "  <thead>\n",
       "    <tr style=\"text-align: right;\">\n",
       "      <th></th>\n",
       "      <th>t_dat</th>\n",
       "      <th>customer_id</th>\n",
       "      <th>article_id</th>\n",
       "      <th>price</th>\n",
       "      <th>sales_channel_id</th>\n",
       "    </tr>\n",
       "  </thead>\n",
       "  <tbody>\n",
       "    <tr>\n",
       "      <th>0</th>\n",
       "      <td>2020-09-16</td>\n",
       "      <td>8055340703569116761</td>\n",
       "      <td>786022008</td>\n",
       "      <td>0.048441</td>\n",
       "      <td>2</td>\n",
       "    </tr>\n",
       "    <tr>\n",
       "      <th>1</th>\n",
       "      <td>2020-09-16</td>\n",
       "      <td>8055340703569116761</td>\n",
       "      <td>913272003</td>\n",
       "      <td>0.032288</td>\n",
       "      <td>2</td>\n",
       "    </tr>\n",
       "    <tr>\n",
       "      <th>2</th>\n",
       "      <td>2020-09-16</td>\n",
       "      <td>8055340703569116761</td>\n",
       "      <td>889669006</td>\n",
       "      <td>0.056508</td>\n",
       "      <td>2</td>\n",
       "    </tr>\n",
       "    <tr>\n",
       "      <th>3</th>\n",
       "      <td>2020-09-16</td>\n",
       "      <td>2563761487478961358</td>\n",
       "      <td>237347060</td>\n",
       "      <td>0.033881</td>\n",
       "      <td>1</td>\n",
       "    </tr>\n",
       "    <tr>\n",
       "      <th>4</th>\n",
       "      <td>2020-09-16</td>\n",
       "      <td>2563761487478961358</td>\n",
       "      <td>562245001</td>\n",
       "      <td>0.013542</td>\n",
       "      <td>1</td>\n",
       "    </tr>\n",
       "  </tbody>\n",
       "</table>\n",
       "</div>"
      ],
      "text/plain": [
       "        t_dat          customer_id  article_id     price  sales_channel_id\n",
       "0  2020-09-16  8055340703569116761   786022008  0.048441                 2\n",
       "1  2020-09-16  8055340703569116761   913272003  0.032288                 2\n",
       "2  2020-09-16  8055340703569116761   889669006  0.056508                 2\n",
       "3  2020-09-16  2563761487478961358   237347060  0.033881                 1\n",
       "4  2020-09-16  2563761487478961358   562245001  0.013542                 1"
      ]
     },
     "metadata": {},
     "output_type": "display_data"
    }
   ],
   "source": [
    "train_data = transactions_train.query(f\"'{val_start_date}' <= t_dat and t_dat < '{val_end_date}'\").reset_index(drop=True)\n",
    "feature_data = transactions_train.query(f\"t_dat < '{val_end_date}'\").reset_index(drop=True) # 期間かぶっててもよい\n",
    "visualize_df(train_data)"
   ]
  },
  {
   "cell_type": "markdown",
   "id": "142726aa",
   "metadata": {},
   "source": [
    "### Online/Offlineに絞る"
   ]
  },
  {
   "cell_type": "code",
   "execution_count": 14,
   "id": "83723e4b",
   "metadata": {},
   "outputs": [
    {
     "data": {
      "text/plain": [
       "0          1.000000\n",
       "1          1.964912\n",
       "2          2.000000\n",
       "3          2.000000\n",
       "4          2.000000\n",
       "             ...   \n",
       "1362276    2.000000\n",
       "1362277    1.200000\n",
       "1362278    2.000000\n",
       "1362279    2.000000\n",
       "1362280    2.000000\n",
       "Name: channel, Length: 1362281, dtype: float64"
      ]
     },
     "execution_count": 14,
     "metadata": {},
     "output_type": "execute_result"
    }
   ],
   "source": [
    "train_ch = feature_data.groupby('customer_id')['sales_channel_id'].agg('mean').reset_index(name='channel')\n",
    "# 過去のデータだとchannel_idの計算ができないユーザーがいるので、onlineの2で埋めておく\n",
    "# 最新データだと欠損ほぼないハズ\n",
    "train_ch['channel'].fillna(2)"
   ]
  },
  {
   "cell_type": "code",
   "execution_count": 15,
   "id": "6c502ca1",
   "metadata": {},
   "outputs": [],
   "source": [
    "train_on = train_ch.query('channel >= 1.5')\n",
    "train_off = train_ch.query('channel < 1.5')\n",
    "train_on = train_on['customer_id']\n",
    "train_off = train_off['customer_id']"
   ]
  },
  {
   "cell_type": "code",
   "execution_count": 16,
   "id": "16bc908a",
   "metadata": {},
   "outputs": [
    {
     "data": {
      "text/plain": [
       "(928128,)"
      ]
     },
     "execution_count": 16,
     "metadata": {},
     "output_type": "execute_result"
    }
   ],
   "source": [
    "train_on.shape"
   ]
  },
  {
   "cell_type": "code",
   "execution_count": 17,
   "id": "1490510c",
   "metadata": {},
   "outputs": [
    {
     "data": {
      "text/plain": [
       "(434153,)"
      ]
     },
     "execution_count": 17,
     "metadata": {},
     "output_type": "execute_result"
    }
   ],
   "source": [
    "train_off.shape"
   ]
  },
  {
   "cell_type": "code",
   "execution_count": 18,
   "id": "082c55a9",
   "metadata": {},
   "outputs": [
    {
     "data": {
      "text/plain": [
       "(1362281, 2)"
      ]
     },
     "execution_count": 18,
     "metadata": {},
     "output_type": "execute_result"
    }
   ],
   "source": [
    "train_ch.shape"
   ]
  },
  {
   "cell_type": "markdown",
   "id": "1a2008f0",
   "metadata": {
    "papermill": {
     "duration": 0.047692,
     "end_time": "2022-03-15T16:12:40.138462",
     "exception": false,
     "start_time": "2022-03-15T16:12:40.090770",
     "status": "completed"
    },
    "tags": []
   },
   "source": [
    "### customer_data"
   ]
  },
  {
   "cell_type": "code",
   "execution_count": 19,
   "id": "96b53931",
   "metadata": {
    "execution": {
     "iopub.execute_input": "2022-03-15T16:12:40.235913Z",
     "iopub.status.busy": "2022-03-15T16:12:40.234976Z",
     "iopub.status.idle": "2022-03-15T16:12:46.446535Z",
     "shell.execute_reply": "2022-03-15T16:12:46.447040Z",
     "shell.execute_reply.started": "2022-03-15T16:01:49.47111Z"
    },
    "papermill": {
     "duration": 6.261839,
     "end_time": "2022-03-15T16:12:46.447208",
     "exception": false,
     "start_time": "2022-03-15T16:12:40.185369",
     "status": "completed"
    },
    "tags": []
   },
   "outputs": [
    {
     "data": {
      "text/html": [
       "<div>\n",
       "<style scoped>\n",
       "    .dataframe tbody tr th:only-of-type {\n",
       "        vertical-align: middle;\n",
       "    }\n",
       "\n",
       "    .dataframe tbody tr th {\n",
       "        vertical-align: top;\n",
       "    }\n",
       "\n",
       "    .dataframe thead th {\n",
       "        text-align: right;\n",
       "    }\n",
       "</style>\n",
       "<table border=\"1\" class=\"dataframe\">\n",
       "  <thead>\n",
       "    <tr style=\"text-align: right;\">\n",
       "      <th></th>\n",
       "      <th>customer_id</th>\n",
       "      <th>FN</th>\n",
       "      <th>Active</th>\n",
       "      <th>club_member_status</th>\n",
       "      <th>fashion_news_frequency</th>\n",
       "      <th>age</th>\n",
       "      <th>postal_code</th>\n",
       "    </tr>\n",
       "  </thead>\n",
       "  <tbody>\n",
       "    <tr>\n",
       "      <th>0</th>\n",
       "      <td>6883939031699146327</td>\n",
       "      <td>NaN</td>\n",
       "      <td>NaN</td>\n",
       "      <td>ACTIVE</td>\n",
       "      <td>NONE</td>\n",
       "      <td>49.0</td>\n",
       "      <td>52043ee2162cf5aa7ee79974281641c6f11a68d276429a...</td>\n",
       "    </tr>\n",
       "    <tr>\n",
       "      <th>1</th>\n",
       "      <td>-7200416642310594310</td>\n",
       "      <td>NaN</td>\n",
       "      <td>NaN</td>\n",
       "      <td>ACTIVE</td>\n",
       "      <td>NONE</td>\n",
       "      <td>25.0</td>\n",
       "      <td>2973abc54daa8a5f8ccfe9362140c63247c5eee03f1d93...</td>\n",
       "    </tr>\n",
       "    <tr>\n",
       "      <th>2</th>\n",
       "      <td>-6846340800584936</td>\n",
       "      <td>NaN</td>\n",
       "      <td>NaN</td>\n",
       "      <td>ACTIVE</td>\n",
       "      <td>NONE</td>\n",
       "      <td>24.0</td>\n",
       "      <td>64f17e6a330a85798e4998f62d0930d14db8db1c054af6...</td>\n",
       "    </tr>\n",
       "    <tr>\n",
       "      <th>3</th>\n",
       "      <td>-94071612138601410</td>\n",
       "      <td>NaN</td>\n",
       "      <td>NaN</td>\n",
       "      <td>ACTIVE</td>\n",
       "      <td>NONE</td>\n",
       "      <td>54.0</td>\n",
       "      <td>5d36574f52495e81f019b680c843c443bd343d5ca5b1c2...</td>\n",
       "    </tr>\n",
       "    <tr>\n",
       "      <th>4</th>\n",
       "      <td>-283965518499174310</td>\n",
       "      <td>1.0</td>\n",
       "      <td>1.0</td>\n",
       "      <td>ACTIVE</td>\n",
       "      <td>Regularly</td>\n",
       "      <td>52.0</td>\n",
       "      <td>25fa5ddee9aac01b35208d01736e57942317d756b32ddd...</td>\n",
       "    </tr>\n",
       "  </tbody>\n",
       "</table>\n",
       "</div>"
      ],
      "text/plain": [
       "           customer_id   FN  Active club_member_status fashion_news_frequency  \\\n",
       "0  6883939031699146327  NaN     NaN             ACTIVE                   NONE   \n",
       "1 -7200416642310594310  NaN     NaN             ACTIVE                   NONE   \n",
       "2    -6846340800584936  NaN     NaN             ACTIVE                   NONE   \n",
       "3   -94071612138601410  NaN     NaN             ACTIVE                   NONE   \n",
       "4  -283965518499174310  1.0     1.0             ACTIVE              Regularly   \n",
       "\n",
       "    age                                        postal_code  \n",
       "0  49.0  52043ee2162cf5aa7ee79974281641c6f11a68d276429a...  \n",
       "1  25.0  2973abc54daa8a5f8ccfe9362140c63247c5eee03f1d93...  \n",
       "2  24.0  64f17e6a330a85798e4998f62d0930d14db8db1c054af6...  \n",
       "3  54.0  5d36574f52495e81f019b680c843c443bd343d5ca5b1c2...  \n",
       "4  52.0  25fa5ddee9aac01b35208d01736e57942317d756b32ddd...  "
      ]
     },
     "execution_count": 19,
     "metadata": {},
     "output_type": "execute_result"
    }
   ],
   "source": [
    "customers = pd.read_csv(path + 'customers.csv')\n",
    "customers['customer_id'] = customers['customer_id'].apply(lambda x: int(x[-16:],16) ).astype('int64')\n",
    "customers.head()"
   ]
  },
  {
   "cell_type": "code",
   "execution_count": 20,
   "id": "3cddbe46",
   "metadata": {
    "execution": {
     "iopub.execute_input": "2022-03-15T16:12:46.550333Z",
     "iopub.status.busy": "2022-03-15T16:12:46.549667Z",
     "iopub.status.idle": "2022-03-15T16:12:46.584860Z",
     "shell.execute_reply": "2022-03-15T16:12:46.584335Z",
     "shell.execute_reply.started": "2022-03-15T16:01:56.116649Z"
    },
    "papermill": {
     "duration": 0.089757,
     "end_time": "2022-03-15T16:12:46.585025",
     "exception": false,
     "start_time": "2022-03-15T16:12:46.495268",
     "status": "completed"
    },
    "tags": []
   },
   "outputs": [
    {
     "data": {
      "text/html": [
       "<div>\n",
       "<style scoped>\n",
       "    .dataframe tbody tr th:only-of-type {\n",
       "        vertical-align: middle;\n",
       "    }\n",
       "\n",
       "    .dataframe tbody tr th {\n",
       "        vertical-align: top;\n",
       "    }\n",
       "\n",
       "    .dataframe thead th {\n",
       "        text-align: right;\n",
       "    }\n",
       "</style>\n",
       "<table border=\"1\" class=\"dataframe\">\n",
       "  <thead>\n",
       "    <tr style=\"text-align: right;\">\n",
       "      <th></th>\n",
       "      <th>customer_id</th>\n",
       "      <th>age</th>\n",
       "    </tr>\n",
       "  </thead>\n",
       "  <tbody>\n",
       "    <tr>\n",
       "      <th>0</th>\n",
       "      <td>6883939031699146327</td>\n",
       "      <td>49.0</td>\n",
       "    </tr>\n",
       "    <tr>\n",
       "      <th>1</th>\n",
       "      <td>-7200416642310594310</td>\n",
       "      <td>25.0</td>\n",
       "    </tr>\n",
       "    <tr>\n",
       "      <th>2</th>\n",
       "      <td>-6846340800584936</td>\n",
       "      <td>24.0</td>\n",
       "    </tr>\n",
       "    <tr>\n",
       "      <th>3</th>\n",
       "      <td>-94071612138601410</td>\n",
       "      <td>54.0</td>\n",
       "    </tr>\n",
       "    <tr>\n",
       "      <th>4</th>\n",
       "      <td>-283965518499174310</td>\n",
       "      <td>52.0</td>\n",
       "    </tr>\n",
       "  </tbody>\n",
       "</table>\n",
       "</div>"
      ],
      "text/plain": [
       "           customer_id   age\n",
       "0  6883939031699146327  49.0\n",
       "1 -7200416642310594310  25.0\n",
       "2    -6846340800584936  24.0\n",
       "3   -94071612138601410  54.0\n",
       "4  -283965518499174310  52.0"
      ]
     },
     "execution_count": 20,
     "metadata": {},
     "output_type": "execute_result"
    }
   ],
   "source": [
    "customers = customers[['customer_id','age']]\n",
    "customers.head()"
   ]
  },
  {
   "cell_type": "code",
   "execution_count": 21,
   "id": "91f68854",
   "metadata": {
    "execution": {
     "iopub.execute_input": "2022-03-15T16:12:46.694311Z",
     "iopub.status.busy": "2022-03-15T16:12:46.693622Z",
     "iopub.status.idle": "2022-03-15T16:12:46.759808Z",
     "shell.execute_reply": "2022-03-15T16:12:46.759124Z",
     "shell.execute_reply.started": "2022-03-15T16:01:56.172643Z"
    },
    "papermill": {
     "duration": 0.126149,
     "end_time": "2022-03-15T16:12:46.759955",
     "exception": false,
     "start_time": "2022-03-15T16:12:46.633806",
     "status": "completed"
    },
    "tags": []
   },
   "outputs": [
    {
     "data": {
      "text/html": [
       "<div>\n",
       "<style scoped>\n",
       "    .dataframe tbody tr th:only-of-type {\n",
       "        vertical-align: middle;\n",
       "    }\n",
       "\n",
       "    .dataframe tbody tr th {\n",
       "        vertical-align: top;\n",
       "    }\n",
       "\n",
       "    .dataframe thead th {\n",
       "        text-align: right;\n",
       "    }\n",
       "</style>\n",
       "<table border=\"1\" class=\"dataframe\">\n",
       "  <thead>\n",
       "    <tr style=\"text-align: right;\">\n",
       "      <th></th>\n",
       "      <th>customer_id</th>\n",
       "      <th>age</th>\n",
       "    </tr>\n",
       "  </thead>\n",
       "  <tbody>\n",
       "    <tr>\n",
       "      <th>count</th>\n",
       "      <td>1.371980e+06</td>\n",
       "      <td>1.356119e+06</td>\n",
       "    </tr>\n",
       "    <tr>\n",
       "      <th>mean</th>\n",
       "      <td>-8.899354e+15</td>\n",
       "      <td>3.638696e+01</td>\n",
       "    </tr>\n",
       "    <tr>\n",
       "      <th>std</th>\n",
       "      <td>5.326640e+18</td>\n",
       "      <td>1.431363e+01</td>\n",
       "    </tr>\n",
       "    <tr>\n",
       "      <th>min</th>\n",
       "      <td>-9.223353e+18</td>\n",
       "      <td>1.600000e+01</td>\n",
       "    </tr>\n",
       "    <tr>\n",
       "      <th>25%</th>\n",
       "      <td>-4.624561e+18</td>\n",
       "      <td>2.400000e+01</td>\n",
       "    </tr>\n",
       "    <tr>\n",
       "      <th>50%</th>\n",
       "      <td>-1.147651e+16</td>\n",
       "      <td>3.200000e+01</td>\n",
       "    </tr>\n",
       "    <tr>\n",
       "      <th>75%</th>\n",
       "      <td>4.602000e+18</td>\n",
       "      <td>4.900000e+01</td>\n",
       "    </tr>\n",
       "    <tr>\n",
       "      <th>max</th>\n",
       "      <td>9.223371e+18</td>\n",
       "      <td>9.900000e+01</td>\n",
       "    </tr>\n",
       "  </tbody>\n",
       "</table>\n",
       "</div>"
      ],
      "text/plain": [
       "        customer_id           age\n",
       "count  1.371980e+06  1.356119e+06\n",
       "mean  -8.899354e+15  3.638696e+01\n",
       "std    5.326640e+18  1.431363e+01\n",
       "min   -9.223353e+18  1.600000e+01\n",
       "25%   -4.624561e+18  2.400000e+01\n",
       "50%   -1.147651e+16  3.200000e+01\n",
       "75%    4.602000e+18  4.900000e+01\n",
       "max    9.223371e+18  9.900000e+01"
      ]
     },
     "execution_count": 21,
     "metadata": {},
     "output_type": "execute_result"
    }
   ],
   "source": [
    "customers.describe()"
   ]
  },
  {
   "cell_type": "code",
   "execution_count": 22,
   "id": "33ae8b7e",
   "metadata": {
    "execution": {
     "iopub.execute_input": "2022-03-15T16:12:46.863901Z",
     "iopub.status.busy": "2022-03-15T16:12:46.863207Z",
     "iopub.status.idle": "2022-03-15T16:12:47.691432Z",
     "shell.execute_reply": "2022-03-15T16:12:47.690817Z",
     "shell.execute_reply.started": "2022-03-15T16:01:58.542106Z"
    },
    "papermill": {
     "duration": 0.882444,
     "end_time": "2022-03-15T16:12:47.691578",
     "exception": false,
     "start_time": "2022-03-15T16:12:46.809134",
     "status": "completed"
    },
    "tags": []
   },
   "outputs": [],
   "source": [
    "# 年齢がないものは0歳としておく (''だと後からintにcastできないため)\n",
    "train_data = pd.merge(train_data, customers, on='customer_id', how='left').fillna('0')"
   ]
  },
  {
   "cell_type": "code",
   "execution_count": 23,
   "id": "7b560b88",
   "metadata": {
    "execution": {
     "iopub.execute_input": "2022-03-15T16:12:47.797141Z",
     "iopub.status.busy": "2022-03-15T16:12:47.796339Z",
     "iopub.status.idle": "2022-03-15T16:12:47.799537Z",
     "shell.execute_reply": "2022-03-15T16:12:47.800021Z",
     "shell.execute_reply.started": "2022-03-15T16:01:59.968199Z"
    },
    "papermill": {
     "duration": 0.05933,
     "end_time": "2022-03-15T16:12:47.800184",
     "exception": false,
     "start_time": "2022-03-15T16:12:47.740854",
     "status": "completed"
    },
    "tags": []
   },
   "outputs": [
    {
     "data": {
      "text/plain": [
       "t_dat                object\n",
       "customer_id           int64\n",
       "article_id            int32\n",
       "price               float64\n",
       "sales_channel_id      int64\n",
       "age                  object\n",
       "dtype: object"
      ]
     },
     "execution_count": 23,
     "metadata": {},
     "output_type": "execute_result"
    }
   ],
   "source": [
    "train_data.dtypes"
   ]
  },
  {
   "cell_type": "code",
   "execution_count": 24,
   "id": "bf739492",
   "metadata": {
    "execution": {
     "iopub.execute_input": "2022-03-15T16:12:47.932157Z",
     "iopub.status.busy": "2022-03-15T16:12:47.931442Z",
     "iopub.status.idle": "2022-03-15T16:12:47.934662Z",
     "shell.execute_reply": "2022-03-15T16:12:47.934177Z",
     "shell.execute_reply.started": "2022-03-15T16:02:00.143755Z"
    },
    "papermill": {
     "duration": 0.084921,
     "end_time": "2022-03-15T16:12:47.934799",
     "exception": false,
     "start_time": "2022-03-15T16:12:47.849878",
     "status": "completed"
    },
    "tags": []
   },
   "outputs": [
    {
     "data": {
      "text/plain": [
       "25.0    12235\n",
       "26.0    12182\n",
       "24.0    12136\n",
       "23.0    10778\n",
       "27.0    10544\n",
       "        ...  \n",
       "88.0        4\n",
       "90.0        3\n",
       "98.0        2\n",
       "94.0        1\n",
       "92.0        1\n",
       "Name: age, Length: 78, dtype: int64"
      ]
     },
     "execution_count": 24,
     "metadata": {},
     "output_type": "execute_result"
    }
   ],
   "source": [
    "train_data['age'].value_counts()"
   ]
  },
  {
   "cell_type": "code",
   "execution_count": 25,
   "id": "51b5624c",
   "metadata": {
    "execution": {
     "iopub.execute_input": "2022-03-15T16:12:48.063950Z",
     "iopub.status.busy": "2022-03-15T16:12:48.037634Z",
     "iopub.status.idle": "2022-03-15T16:12:48.076947Z",
     "shell.execute_reply": "2022-03-15T16:12:48.076266Z",
     "shell.execute_reply.started": "2022-03-15T16:02:02.413278Z"
    },
    "papermill": {
     "duration": 0.092283,
     "end_time": "2022-03-15T16:12:48.077109",
     "exception": false,
     "start_time": "2022-03-15T16:12:47.984826",
     "status": "completed"
    },
    "tags": []
   },
   "outputs": [
    {
     "data": {
      "text/plain": [
       "t_dat                object\n",
       "customer_id           int64\n",
       "article_id            int32\n",
       "price               float64\n",
       "sales_channel_id      int64\n",
       "age                   int32\n",
       "dtype: object"
      ]
     },
     "execution_count": 25,
     "metadata": {},
     "output_type": "execute_result"
    }
   ],
   "source": [
    "train_data['age'] = train_data['age'].astype('int32')\n",
    "train_data.dtypes"
   ]
  },
  {
   "cell_type": "code",
   "execution_count": 26,
   "id": "c914f76e",
   "metadata": {},
   "outputs": [
    {
     "data": {
      "text/html": [
       "<div>\n",
       "<style scoped>\n",
       "    .dataframe tbody tr th:only-of-type {\n",
       "        vertical-align: middle;\n",
       "    }\n",
       "\n",
       "    .dataframe tbody tr th {\n",
       "        vertical-align: top;\n",
       "    }\n",
       "\n",
       "    .dataframe thead th {\n",
       "        text-align: right;\n",
       "    }\n",
       "</style>\n",
       "<table border=\"1\" class=\"dataframe\">\n",
       "  <thead>\n",
       "    <tr style=\"text-align: right;\">\n",
       "      <th></th>\n",
       "      <th>t_dat</th>\n",
       "      <th>customer_id</th>\n",
       "      <th>article_id</th>\n",
       "      <th>price</th>\n",
       "      <th>sales_channel_id</th>\n",
       "      <th>age</th>\n",
       "    </tr>\n",
       "  </thead>\n",
       "  <tbody>\n",
       "    <tr>\n",
       "      <th>0</th>\n",
       "      <td>2020-09-16</td>\n",
       "      <td>8055340703569116761</td>\n",
       "      <td>786022008</td>\n",
       "      <td>0.048441</td>\n",
       "      <td>2</td>\n",
       "      <td>42</td>\n",
       "    </tr>\n",
       "    <tr>\n",
       "      <th>1</th>\n",
       "      <td>2020-09-16</td>\n",
       "      <td>8055340703569116761</td>\n",
       "      <td>913272003</td>\n",
       "      <td>0.032288</td>\n",
       "      <td>2</td>\n",
       "      <td>42</td>\n",
       "    </tr>\n",
       "    <tr>\n",
       "      <th>2</th>\n",
       "      <td>2020-09-16</td>\n",
       "      <td>8055340703569116761</td>\n",
       "      <td>889669006</td>\n",
       "      <td>0.056508</td>\n",
       "      <td>2</td>\n",
       "      <td>42</td>\n",
       "    </tr>\n",
       "    <tr>\n",
       "      <th>3</th>\n",
       "      <td>2020-09-18</td>\n",
       "      <td>8055340703569116761</td>\n",
       "      <td>913272003</td>\n",
       "      <td>0.033881</td>\n",
       "      <td>2</td>\n",
       "      <td>42</td>\n",
       "    </tr>\n",
       "    <tr>\n",
       "      <th>4</th>\n",
       "      <td>2020-09-18</td>\n",
       "      <td>8055340703569116761</td>\n",
       "      <td>889669006</td>\n",
       "      <td>0.059305</td>\n",
       "      <td>2</td>\n",
       "      <td>42</td>\n",
       "    </tr>\n",
       "    <tr>\n",
       "      <th>...</th>\n",
       "      <td>...</td>\n",
       "      <td>...</td>\n",
       "      <td>...</td>\n",
       "      <td>...</td>\n",
       "      <td>...</td>\n",
       "      <td>...</td>\n",
       "    </tr>\n",
       "    <tr>\n",
       "      <th>178518</th>\n",
       "      <td>2020-09-22</td>\n",
       "      <td>-5420368482568489295</td>\n",
       "      <td>832505003</td>\n",
       "      <td>0.025407</td>\n",
       "      <td>2</td>\n",
       "      <td>30</td>\n",
       "    </tr>\n",
       "    <tr>\n",
       "      <th>178519</th>\n",
       "      <td>2020-09-22</td>\n",
       "      <td>-5420368482568489295</td>\n",
       "      <td>902288001</td>\n",
       "      <td>0.022017</td>\n",
       "      <td>2</td>\n",
       "      <td>30</td>\n",
       "    </tr>\n",
       "    <tr>\n",
       "      <th>178520</th>\n",
       "      <td>2020-09-22</td>\n",
       "      <td>-5420368482568489295</td>\n",
       "      <td>856440002</td>\n",
       "      <td>0.042356</td>\n",
       "      <td>2</td>\n",
       "      <td>30</td>\n",
       "    </tr>\n",
       "    <tr>\n",
       "      <th>178521</th>\n",
       "      <td>2020-09-22</td>\n",
       "      <td>-8639340045377511665</td>\n",
       "      <td>833459002</td>\n",
       "      <td>0.006763</td>\n",
       "      <td>1</td>\n",
       "      <td>21</td>\n",
       "    </tr>\n",
       "    <tr>\n",
       "      <th>178522</th>\n",
       "      <td>2020-09-22</td>\n",
       "      <td>3235222691137941515</td>\n",
       "      <td>898573003</td>\n",
       "      <td>0.033881</td>\n",
       "      <td>2</td>\n",
       "      <td>29</td>\n",
       "    </tr>\n",
       "  </tbody>\n",
       "</table>\n",
       "<p>178523 rows × 6 columns</p>\n",
       "</div>"
      ],
      "text/plain": [
       "             t_dat          customer_id  article_id     price  \\\n",
       "0       2020-09-16  8055340703569116761   786022008  0.048441   \n",
       "1       2020-09-16  8055340703569116761   913272003  0.032288   \n",
       "2       2020-09-16  8055340703569116761   889669006  0.056508   \n",
       "3       2020-09-18  8055340703569116761   913272003  0.033881   \n",
       "4       2020-09-18  8055340703569116761   889669006  0.059305   \n",
       "...            ...                  ...         ...       ...   \n",
       "178518  2020-09-22 -5420368482568489295   832505003  0.025407   \n",
       "178519  2020-09-22 -5420368482568489295   902288001  0.022017   \n",
       "178520  2020-09-22 -5420368482568489295   856440002  0.042356   \n",
       "178521  2020-09-22 -8639340045377511665   833459002  0.006763   \n",
       "178522  2020-09-22  3235222691137941515   898573003  0.033881   \n",
       "\n",
       "        sales_channel_id  age  \n",
       "0                      2   42  \n",
       "1                      2   42  \n",
       "2                      2   42  \n",
       "3                      2   42  \n",
       "4                      2   42  \n",
       "...                  ...  ...  \n",
       "178518                 2   30  \n",
       "178519                 2   30  \n",
       "178520                 2   30  \n",
       "178521                 1   21  \n",
       "178522                 2   29  \n",
       "\n",
       "[178523 rows x 6 columns]"
      ]
     },
     "execution_count": 26,
     "metadata": {},
     "output_type": "execute_result"
    }
   ],
   "source": [
    "train_data_on = pd.merge(train_data, train_on, on='customer_id', how='inner')\n",
    "train_data_off = pd.merge(train_data, train_off, on='customer_id', how='inner')\n",
    "train_data_on"
   ]
  },
  {
   "cell_type": "code",
   "execution_count": 27,
   "id": "6f94c011",
   "metadata": {},
   "outputs": [
    {
     "data": {
      "text/plain": [
       "0         -9223352921020755230\n",
       "8         -9223290575350349271\n",
       "12        -9223266757075030900\n",
       "18        -9223217056923624798\n",
       "19        -9223211958423060038\n",
       "                  ...         \n",
       "1362264    9223106377186991822\n",
       "1362267    9223141695752178477\n",
       "1362269    9223148401910457466\n",
       "1362270    9223180691543279742\n",
       "1362277    9223333063893176977\n",
       "Name: customer_id, Length: 434153, dtype: int64"
      ]
     },
     "execution_count": 27,
     "metadata": {},
     "output_type": "execute_result"
    }
   ],
   "source": [
    "train_off"
   ]
  },
  {
   "cell_type": "markdown",
   "id": "4d73cb7b",
   "metadata": {
    "papermill": {
     "duration": 0.050119,
     "end_time": "2022-03-15T16:12:48.178453",
     "exception": false,
     "start_time": "2022-03-15T16:12:48.128334",
     "status": "completed"
    },
    "tags": []
   },
   "source": [
    "### 単純なランキングから上位50件を取ってくる"
   ]
  },
  {
   "cell_type": "code",
   "execution_count": 28,
   "id": "7117a993",
   "metadata": {
    "execution": {
     "iopub.execute_input": "2022-03-15T16:12:48.507187Z",
     "iopub.status.busy": "2022-03-15T16:12:48.506504Z",
     "iopub.status.idle": "2022-03-15T16:12:48.649337Z",
     "shell.execute_reply": "2022-03-15T16:12:48.649843Z",
     "shell.execute_reply.started": "2022-03-15T16:02:11.530001Z"
    },
    "papermill": {
     "duration": 0.200519,
     "end_time": "2022-03-15T16:12:48.650038",
     "exception": false,
     "start_time": "2022-03-15T16:12:48.449519",
     "status": "completed"
    },
    "tags": []
   },
   "outputs": [],
   "source": [
    "# -30, 30-40, 40-50, 50- old\n",
    "# -30, 30-50, 50- new\n",
    "train_sort_30_on = train_data_on.query('age < 30').groupby('article_id', as_index=False).count().sort_values('customer_id', ascending=False)\n",
    "train_sort_50_on = train_data_on.query('30 <= age and age < 50').groupby('article_id', as_index=False).count().sort_values('customer_id', ascending=False)\n",
    "train_sort_60_on = train_data_on.query('50 <= age').groupby('article_id', as_index=False).count().sort_values('customer_id', ascending=False)\n",
    "\n",
    "train_sort_30_off = train_data_off.query('age < 30').groupby('article_id', as_index=False).count().sort_values('customer_id', ascending=False)\n",
    "train_sort_50_off = train_data_off.query('30 <= age and age < 50').groupby('article_id', as_index=False).count().sort_values('customer_id', ascending=False)\n",
    "train_sort_60_off = train_data_off.query('50 <= age').groupby('article_id', as_index=False).count().sort_values('customer_id', ascending=False)"
   ]
  },
  {
   "cell_type": "code",
   "execution_count": 29,
   "id": "b306c10a",
   "metadata": {
    "execution": {
     "iopub.execute_input": "2022-03-15T16:12:48.997535Z",
     "iopub.status.busy": "2022-03-15T16:12:48.996864Z",
     "iopub.status.idle": "2022-03-15T16:12:49.000457Z",
     "shell.execute_reply": "2022-03-15T16:12:48.999860Z",
     "shell.execute_reply.started": "2022-03-15T16:02:15.567953Z"
    },
    "papermill": {
     "duration": 0.068111,
     "end_time": "2022-03-15T16:12:49.000609",
     "exception": false,
     "start_time": "2022-03-15T16:12:48.932498",
     "status": "completed"
    },
    "tags": []
   },
   "outputs": [],
   "source": [
    "popular_list_30_on = train_sort_30_on.head(topk)['article_id'].tolist()\n",
    "popular_list_50_on = train_sort_50_on.head(topk)['article_id'].tolist()\n",
    "popular_list_60_on = train_sort_60_on.head(topk)['article_id'].tolist()\n",
    "\n",
    "popular_list_30_off = train_sort_30_off.head(topk)['article_id'].tolist()\n",
    "popular_list_50_off = train_sort_50_off.head(topk)['article_id'].tolist()\n",
    "popular_list_60_off = train_sort_60_off.head(topk)['article_id'].tolist()"
   ]
  },
  {
   "cell_type": "markdown",
   "id": "c765f9fb",
   "metadata": {
    "papermill": {
     "duration": 0.057654,
     "end_time": "2022-03-15T16:12:49.111597",
     "exception": false,
     "start_time": "2022-03-15T16:12:49.053943",
     "status": "completed"
    },
    "tags": []
   },
   "source": [
    "### Visualize"
   ]
  },
  {
   "cell_type": "code",
   "execution_count": 30,
   "id": "10a9caf0",
   "metadata": {
    "execution": {
     "iopub.execute_input": "2022-03-15T16:12:49.227663Z",
     "iopub.status.busy": "2022-03-15T16:12:49.226765Z",
     "iopub.status.idle": "2022-03-15T16:12:53.785841Z",
     "shell.execute_reply": "2022-03-15T16:12:53.785045Z",
     "shell.execute_reply.started": "2022-03-15T16:02:18.55398Z"
    },
    "papermill": {
     "duration": 4.622571,
     "end_time": "2022-03-15T16:12:53.786017",
     "exception": false,
     "start_time": "2022-03-15T16:12:49.163446",
     "status": "completed"
    },
    "tags": []
   },
   "outputs": [
    {
     "data": {
      "image/png": "[encoded data removed]",
      "text/plain": [
       "<Figure size 720x360 with 2 Axes>"
      ]
     },
     "metadata": {},
     "output_type": "display_data"
    }
   ],
   "source": [
    "# 30\n",
    "import seaborn as sns\n",
    "from matplotlib import pyplot as plt\n",
    "sns.set_style(\"darkgrid\")\n",
    "f, ax = plt.subplots(figsize=(10,5))\n",
    "ax = sns.histplot(data=train_sort_30_off, x='customer_id', bins=200, color='orange')\n",
    "ax.set_xlabel('Distribution')\n",
    "plt.yscale('log')\n",
    "plt.xlim(0, 50)\n",
    "\n",
    "\n",
    "# ヒストグラムプロットとビン情報の取得\n",
    "#n, bins, patches = ax.hist(dt, alpha=0.7, label='Frequency')\n",
    "n, bins, patches = ax.hist(data=train_sort_30_off, x='customer_id', bins=700, color='orange')\n",
    "\n",
    "# 第2軸用値の算出\n",
    "y2 = np.add.accumulate(n) / n.sum()\n",
    "x2 = np.convolve(bins, np.ones(2) / 2, mode=\"same\")[1:]\n",
    "# 第2軸のプロット\n",
    "ax2 = ax.twinx()\n",
    "lines = ax2.plot(x2, y2, ls='--', color='r', marker='o',\n",
    "         label='Cumulative ratio')\n",
    "ax2.grid(visible=False)\n",
    "\n",
    "plt.show()"
   ]
  },
  {
   "cell_type": "code",
   "execution_count": 31,
   "id": "7af8aaf2",
   "metadata": {
    "execution": {
     "iopub.execute_input": "2022-03-15T16:12:57.371967Z",
     "iopub.status.busy": "2022-03-15T16:12:57.371016Z",
     "iopub.status.idle": "2022-03-15T16:13:00.070117Z",
     "shell.execute_reply": "2022-03-15T16:13:00.070766Z",
     "shell.execute_reply.started": "2022-03-15T16:02:27.27148Z"
    },
    "papermill": {
     "duration": 2.756307,
     "end_time": "2022-03-15T16:13:00.070947",
     "exception": false,
     "start_time": "2022-03-15T16:12:57.314640",
     "status": "completed"
    },
    "tags": []
   },
   "outputs": [
    {
     "data": {
      "image/png": "[encoded data removed]",
      "text/plain": [
       "<Figure size 720x360 with 2 Axes>"
      ]
     },
     "metadata": {},
     "output_type": "display_data"
    }
   ],
   "source": [
    "# 30 - 50\n",
    "\n",
    "sns.set_style(\"darkgrid\")\n",
    "f, ax = plt.subplots(figsize=(10,5))\n",
    "ax = sns.histplot(data=train_sort_50_off, x='customer_id', bins=100, color='orange')\n",
    "ax.set_xlabel('Distribution')\n",
    "plt.yscale('log')\n",
    "plt.xlim(0, 50)\n",
    "\n",
    "\n",
    "# ヒストグラムプロットとビン情報の取得\n",
    "#n, bins, patches = ax.hist(dt, alpha=0.7, label='Frequency')\n",
    "n, bins, patches = ax.hist(data=train_sort_50_off, x='customer_id', bins=500, color='orange')\n",
    "\n",
    "# 第2軸用値の算出\n",
    "y2 = np.add.accumulate(n) / n.sum()\n",
    "x2 = np.convolve(bins, np.ones(2) / 2, mode=\"same\")[1:]\n",
    "# 第2軸のプロット\n",
    "ax2 = ax.twinx()\n",
    "lines = ax2.plot(x2, y2, ls='--', color='r', marker='o',\n",
    "         label='Cumulative ratio')\n",
    "ax2.grid(visible=False)\n",
    "\n",
    "plt.show()"
   ]
  },
  {
   "cell_type": "code",
   "execution_count": 32,
   "id": "d343f4ef",
   "metadata": {
    "execution": {
     "iopub.execute_input": "2022-03-15T16:13:00.184731Z",
     "iopub.status.busy": "2022-03-15T16:13:00.183737Z",
     "iopub.status.idle": "2022-03-15T16:13:02.930193Z",
     "shell.execute_reply": "2022-03-15T16:13:02.930679Z",
     "shell.execute_reply.started": "2022-03-15T16:02:30.392268Z"
    },
    "papermill": {
     "duration": 2.803612,
     "end_time": "2022-03-15T16:13:02.930858",
     "exception": false,
     "start_time": "2022-03-15T16:13:00.127246",
     "status": "completed"
    },
    "tags": []
   },
   "outputs": [
    {
     "data": {
      "image/png": "[encoded data removed]",
      "text/plain": [
       "<Figure size 720x360 with 2 Axes>"
      ]
     },
     "metadata": {},
     "output_type": "display_data"
    }
   ],
   "source": [
    "# 50 - \n",
    "\n",
    "sns.set_style(\"darkgrid\")\n",
    "f, ax = plt.subplots(figsize=(10,5))\n",
    "ax = sns.histplot(data=train_sort_60_off, x='customer_id', bins=100, color='orange')\n",
    "ax.set_xlabel('Distribution')\n",
    "plt.yscale('log')\n",
    "plt.xlim(0, 50)\n",
    "\n",
    "\n",
    "# ヒストグラムプロットとビン情報の取得\n",
    "#n, bins, patches = ax.hist(dt, alpha=0.7, label='Frequency')\n",
    "n, bins, patches = ax.hist(data=train_sort_60_off, x='customer_id', bins=500, color='orange')\n",
    "\n",
    "# 第2軸用値の算出\n",
    "y2 = np.add.accumulate(n) / n.sum()\n",
    "x2 = np.convolve(bins, np.ones(2) / 2, mode=\"same\")[1:]\n",
    "# 第2軸のプロット\n",
    "ax2 = ax.twinx()\n",
    "lines = ax2.plot(x2, y2, ls='--', color='r', marker='o',\n",
    "         label='Cumulative ratio')\n",
    "ax2.grid(visible=False)\n",
    "\n",
    "plt.show()"
   ]
  },
  {
   "cell_type": "markdown",
   "id": "4f40dac5",
   "metadata": {
    "papermill": {
     "duration": 0.055123,
     "end_time": "2022-03-15T16:13:03.040652",
     "exception": false,
     "start_time": "2022-03-15T16:13:02.985529",
     "status": "completed"
    },
    "tags": []
   },
   "source": [
    "### Popular list"
   ]
  },
  {
   "cell_type": "code",
   "execution_count": 33,
   "id": "29515101",
   "metadata": {
    "execution": {
     "iopub.execute_input": "2022-03-15T16:13:03.274582Z",
     "iopub.status.busy": "2022-03-15T16:13:03.273598Z",
     "iopub.status.idle": "2022-03-15T16:13:03.280536Z",
     "shell.execute_reply": "2022-03-15T16:13:03.281065Z",
     "shell.execute_reply.started": "2022-03-15T16:02:33.486587Z"
    },
    "papermill": {
     "duration": 0.065539,
     "end_time": "2022-03-15T16:13:03.281239",
     "exception": false,
     "start_time": "2022-03-15T16:13:03.215700",
     "status": "completed"
    },
    "tags": []
   },
   "outputs": [
    {
     "name": "stdout",
     "output_type": "stream",
     "text": [
      "ratio= 0.13\n",
      "ratio 50= 0.43333333333333335\n"
     ]
    }
   ],
   "source": [
    "cnt=0\n",
    "for i in popular_list_30_on:\n",
    "    if i in popular_list_60_on:\n",
    "        cnt+= 1\n",
    "print('ratio=', cnt/100)\n",
    "\n",
    "cnt=0\n",
    "for i in popular_list_30_on[:30]:\n",
    "    if i in popular_list_60_on[:30]:\n",
    "        cnt+= 1\n",
    "print('ratio 50=', cnt/30)"
   ]
  },
  {
   "cell_type": "code",
   "execution_count": 34,
   "id": "73da8b56",
   "metadata": {
    "execution": {
     "iopub.execute_input": "2022-03-15T16:13:03.397865Z",
     "iopub.status.busy": "2022-03-15T16:13:03.396853Z",
     "iopub.status.idle": "2022-03-15T16:13:03.401940Z",
     "shell.execute_reply": "2022-03-15T16:13:03.402435Z",
     "shell.execute_reply.started": "2022-03-15T16:02:33.502393Z"
    },
    "papermill": {
     "duration": 0.065082,
     "end_time": "2022-03-15T16:13:03.402622",
     "exception": false,
     "start_time": "2022-03-15T16:13:03.337540",
     "status": "completed"
    },
    "tags": []
   },
   "outputs": [],
   "source": [
    "popular_str_30_on = [str(i) for i in popular_list_30_on]\n",
    "popular_str_50_on = [str(i) for i in popular_list_50_on]\n",
    "popular_str_60_on = [str(i) for i in popular_list_60_on]\n",
    "\n",
    "popular_str_30_off = [str(i) for i in popular_list_30_off]\n",
    "popular_str_50_off = [str(i) for i in popular_list_50_off]\n",
    "popular_str_60_off = [str(i) for i in popular_list_60_off]"
   ]
  },
  {
   "cell_type": "code",
   "execution_count": 35,
   "id": "27abde20",
   "metadata": {
    "execution": {
     "iopub.execute_input": "2022-03-15T16:13:03.519714Z",
     "iopub.status.busy": "2022-03-15T16:13:03.518642Z",
     "iopub.status.idle": "2022-03-15T16:13:03.522839Z",
     "shell.execute_reply": "2022-03-15T16:13:03.523327Z",
     "shell.execute_reply.started": "2022-03-15T16:02:33.515624Z"
    },
    "papermill": {
     "duration": 0.064612,
     "end_time": "2022-03-15T16:13:03.523530",
     "exception": false,
     "start_time": "2022-03-15T16:13:03.458918",
     "status": "completed"
    },
    "tags": []
   },
   "outputs": [],
   "source": [
    "join_popular_30_on = ' '.join(popular_str_30_on)\n",
    "join_popular_50_on = ' '.join(popular_str_50_on)\n",
    "join_popular_60_on = ' '.join(popular_str_60_on)\n",
    "\n",
    "join_popular_30_off = ' '.join(popular_str_30_off)\n",
    "join_popular_50_off = ' '.join(popular_str_50_off)\n",
    "join_popular_60_off = ' '.join(popular_str_60_off)"
   ]
  },
  {
   "cell_type": "code",
   "execution_count": 36,
   "id": "56921522",
   "metadata": {
    "execution": {
     "iopub.execute_input": "2022-03-15T16:13:03.640210Z",
     "iopub.status.busy": "2022-03-15T16:13:03.639204Z",
     "iopub.status.idle": "2022-03-15T16:13:03.644186Z",
     "shell.execute_reply": "2022-03-15T16:13:03.644638Z",
     "shell.execute_reply.started": "2022-03-15T16:02:33.53005Z"
    },
    "papermill": {
     "duration": 0.064902,
     "end_time": "2022-03-15T16:13:03.644806",
     "exception": false,
     "start_time": "2022-03-15T16:13:03.579904",
     "status": "completed"
    },
    "tags": []
   },
   "outputs": [
    {
     "data": {
      "text/plain": [
       "'924243001 448509014 866731001 924243002 915529005 923758001 918522001 909370001 929275001 934835001 918292001 788575004 762846027 896169005 909059002 714790020 788575002 915529003 715624001 894780001 865799006 863583001 573085028 573085042 751471001 706016003 850917001 706016001 889550002 919273002'"
      ]
     },
     "execution_count": 36,
     "metadata": {},
     "output_type": "execute_result"
    }
   ],
   "source": [
    "join_popular_30_on"
   ]
  },
  {
   "cell_type": "code",
   "execution_count": 37,
   "id": "0dca42ac",
   "metadata": {
    "execution": {
     "iopub.execute_input": "2022-03-15T16:13:03.763109Z",
     "iopub.status.busy": "2022-03-15T16:13:03.762091Z",
     "iopub.status.idle": "2022-03-15T16:13:05.776863Z",
     "shell.execute_reply": "2022-03-15T16:13:05.777500Z",
     "shell.execute_reply.started": "2022-03-15T16:02:33.552946Z"
    },
    "papermill": {
     "duration": 2.075571,
     "end_time": "2022-03-15T16:13:05.777689",
     "exception": false,
     "start_time": "2022-03-15T16:13:03.702118",
     "status": "completed"
    },
    "tags": []
   },
   "outputs": [],
   "source": [
    "# subにcustomerをjoin\n",
    "sub2 =  pd.merge(sub, customers, on='customer_id', how='left').fillna('0')\n",
    "sub2['age'] = sub2['age'].astype('int32')"
   ]
  },
  {
   "cell_type": "code",
   "execution_count": 38,
   "id": "536dc06b",
   "metadata": {
    "execution": {
     "iopub.execute_input": "2022-03-15T16:13:05.895906Z",
     "iopub.status.busy": "2022-03-15T16:13:05.894875Z",
     "iopub.status.idle": "2022-03-15T16:13:05.906341Z",
     "shell.execute_reply": "2022-03-15T16:13:05.906920Z",
     "shell.execute_reply.started": "2022-03-15T16:02:36.270701Z"
    },
    "papermill": {
     "duration": 0.071957,
     "end_time": "2022-03-15T16:13:05.907108",
     "exception": false,
     "start_time": "2022-03-15T16:13:05.835151",
     "status": "completed"
    },
    "tags": []
   },
   "outputs": [
    {
     "data": {
      "text/html": [
       "<div>\n",
       "<style scoped>\n",
       "    .dataframe tbody tr th:only-of-type {\n",
       "        vertical-align: middle;\n",
       "    }\n",
       "\n",
       "    .dataframe tbody tr th {\n",
       "        vertical-align: top;\n",
       "    }\n",
       "\n",
       "    .dataframe thead th {\n",
       "        text-align: right;\n",
       "    }\n",
       "</style>\n",
       "<table border=\"1\" class=\"dataframe\">\n",
       "  <thead>\n",
       "    <tr style=\"text-align: right;\">\n",
       "      <th></th>\n",
       "      <th>customer_id</th>\n",
       "      <th>age</th>\n",
       "    </tr>\n",
       "  </thead>\n",
       "  <tbody>\n",
       "    <tr>\n",
       "      <th>0</th>\n",
       "      <td>6883939031699146327</td>\n",
       "      <td>49</td>\n",
       "    </tr>\n",
       "    <tr>\n",
       "      <th>1</th>\n",
       "      <td>-7200416642310594310</td>\n",
       "      <td>25</td>\n",
       "    </tr>\n",
       "    <tr>\n",
       "      <th>2</th>\n",
       "      <td>-6846340800584936</td>\n",
       "      <td>24</td>\n",
       "    </tr>\n",
       "    <tr>\n",
       "      <th>3</th>\n",
       "      <td>-94071612138601410</td>\n",
       "      <td>54</td>\n",
       "    </tr>\n",
       "    <tr>\n",
       "      <th>4</th>\n",
       "      <td>-283965518499174310</td>\n",
       "      <td>52</td>\n",
       "    </tr>\n",
       "    <tr>\n",
       "      <th>...</th>\n",
       "      <td>...</td>\n",
       "      <td>...</td>\n",
       "    </tr>\n",
       "    <tr>\n",
       "      <th>1371975</th>\n",
       "      <td>7551062398649767985</td>\n",
       "      <td>24</td>\n",
       "    </tr>\n",
       "    <tr>\n",
       "      <th>1371976</th>\n",
       "      <td>-9141402131989464905</td>\n",
       "      <td>21</td>\n",
       "    </tr>\n",
       "    <tr>\n",
       "      <th>1371977</th>\n",
       "      <td>-8286316756823862684</td>\n",
       "      <td>21</td>\n",
       "    </tr>\n",
       "    <tr>\n",
       "      <th>1371978</th>\n",
       "      <td>2551401172826382186</td>\n",
       "      <td>18</td>\n",
       "    </tr>\n",
       "    <tr>\n",
       "      <th>1371979</th>\n",
       "      <td>-1516792180973952447</td>\n",
       "      <td>65</td>\n",
       "    </tr>\n",
       "  </tbody>\n",
       "</table>\n",
       "<p>1371980 rows × 2 columns</p>\n",
       "</div>"
      ],
      "text/plain": [
       "                 customer_id  age\n",
       "0        6883939031699146327   49\n",
       "1       -7200416642310594310   25\n",
       "2          -6846340800584936   24\n",
       "3         -94071612138601410   54\n",
       "4        -283965518499174310   52\n",
       "...                      ...  ...\n",
       "1371975  7551062398649767985   24\n",
       "1371976 -9141402131989464905   21\n",
       "1371977 -8286316756823862684   21\n",
       "1371978  2551401172826382186   18\n",
       "1371979 -1516792180973952447   65\n",
       "\n",
       "[1371980 rows x 2 columns]"
      ]
     },
     "execution_count": 38,
     "metadata": {},
     "output_type": "execute_result"
    }
   ],
   "source": [
    "sub2"
   ]
  },
  {
   "cell_type": "code",
   "execution_count": 39,
   "id": "05d3a1a5",
   "metadata": {},
   "outputs": [],
   "source": [
    "train_off = pd.DataFrame(train_off)\n",
    "train_off['flag'] = 0"
   ]
  },
  {
   "cell_type": "code",
   "execution_count": 40,
   "id": "0d479834",
   "metadata": {},
   "outputs": [],
   "source": [
    "sub2['flag'] = 1\n",
    "sub2 = pd.merge(sub2, train_off, on='customer_id', how='left').fillna('0')"
   ]
  },
  {
   "cell_type": "code",
   "execution_count": 41,
   "id": "0d60c2aa",
   "metadata": {},
   "outputs": [
    {
     "data": {
      "text/html": [
       "<div>\n",
       "<style scoped>\n",
       "    .dataframe tbody tr th:only-of-type {\n",
       "        vertical-align: middle;\n",
       "    }\n",
       "\n",
       "    .dataframe tbody tr th {\n",
       "        vertical-align: top;\n",
       "    }\n",
       "\n",
       "    .dataframe thead th {\n",
       "        text-align: right;\n",
       "    }\n",
       "</style>\n",
       "<table border=\"1\" class=\"dataframe\">\n",
       "  <thead>\n",
       "    <tr style=\"text-align: right;\">\n",
       "      <th></th>\n",
       "      <th>customer_id</th>\n",
       "      <th>age</th>\n",
       "      <th>flag_x</th>\n",
       "      <th>flag_y</th>\n",
       "    </tr>\n",
       "  </thead>\n",
       "  <tbody>\n",
       "    <tr>\n",
       "      <th>0</th>\n",
       "      <td>6883939031699146327</td>\n",
       "      <td>49</td>\n",
       "      <td>1</td>\n",
       "      <td>0</td>\n",
       "    </tr>\n",
       "    <tr>\n",
       "      <th>1</th>\n",
       "      <td>-7200416642310594310</td>\n",
       "      <td>25</td>\n",
       "      <td>1</td>\n",
       "      <td>0</td>\n",
       "    </tr>\n",
       "    <tr>\n",
       "      <th>2</th>\n",
       "      <td>-6846340800584936</td>\n",
       "      <td>24</td>\n",
       "      <td>1</td>\n",
       "      <td>0</td>\n",
       "    </tr>\n",
       "    <tr>\n",
       "      <th>3</th>\n",
       "      <td>-94071612138601410</td>\n",
       "      <td>54</td>\n",
       "      <td>1</td>\n",
       "      <td>0</td>\n",
       "    </tr>\n",
       "    <tr>\n",
       "      <th>4</th>\n",
       "      <td>-283965518499174310</td>\n",
       "      <td>52</td>\n",
       "      <td>1</td>\n",
       "      <td>0</td>\n",
       "    </tr>\n",
       "    <tr>\n",
       "      <th>...</th>\n",
       "      <td>...</td>\n",
       "      <td>...</td>\n",
       "      <td>...</td>\n",
       "      <td>...</td>\n",
       "    </tr>\n",
       "    <tr>\n",
       "      <th>1371975</th>\n",
       "      <td>7551062398649767985</td>\n",
       "      <td>24</td>\n",
       "      <td>1</td>\n",
       "      <td>0</td>\n",
       "    </tr>\n",
       "    <tr>\n",
       "      <th>1371976</th>\n",
       "      <td>-9141402131989464905</td>\n",
       "      <td>21</td>\n",
       "      <td>1</td>\n",
       "      <td>0</td>\n",
       "    </tr>\n",
       "    <tr>\n",
       "      <th>1371977</th>\n",
       "      <td>-8286316756823862684</td>\n",
       "      <td>21</td>\n",
       "      <td>1</td>\n",
       "      <td>0</td>\n",
       "    </tr>\n",
       "    <tr>\n",
       "      <th>1371978</th>\n",
       "      <td>2551401172826382186</td>\n",
       "      <td>18</td>\n",
       "      <td>1</td>\n",
       "      <td>0</td>\n",
       "    </tr>\n",
       "    <tr>\n",
       "      <th>1371979</th>\n",
       "      <td>-1516792180973952447</td>\n",
       "      <td>65</td>\n",
       "      <td>1</td>\n",
       "      <td>0</td>\n",
       "    </tr>\n",
       "  </tbody>\n",
       "</table>\n",
       "<p>1371980 rows × 4 columns</p>\n",
       "</div>"
      ],
      "text/plain": [
       "                 customer_id  age  flag_x flag_y\n",
       "0        6883939031699146327   49       1      0\n",
       "1       -7200416642310594310   25       1      0\n",
       "2          -6846340800584936   24       1      0\n",
       "3         -94071612138601410   54       1      0\n",
       "4        -283965518499174310   52       1      0\n",
       "...                      ...  ...     ...    ...\n",
       "1371975  7551062398649767985   24       1      0\n",
       "1371976 -9141402131989464905   21       1      0\n",
       "1371977 -8286316756823862684   21       1      0\n",
       "1371978  2551401172826382186   18       1      0\n",
       "1371979 -1516792180973952447   65       1      0\n",
       "\n",
       "[1371980 rows x 4 columns]"
      ]
     },
     "execution_count": 41,
     "metadata": {},
     "output_type": "execute_result"
    }
   ],
   "source": [
    "sub2"
   ]
  },
  {
   "cell_type": "code",
   "execution_count": 42,
   "id": "3fd18c58",
   "metadata": {},
   "outputs": [],
   "source": [
    "sub2['flag_x'] = sub2['flag_x'].astype('int8')\n",
    "sub2['flag_y'] = sub2['flag_y'].astype('int8')\n",
    "sub2['flag'] = sub2['flag_x'] + sub2['flag_y']\n",
    "sub2 = sub2.drop(columns='flag_x')\n",
    "sub2 = sub2.drop(columns='flag_y')"
   ]
  },
  {
   "cell_type": "code",
   "execution_count": 43,
   "id": "bcfa3a09",
   "metadata": {},
   "outputs": [
    {
     "data": {
      "text/html": [
       "<div>\n",
       "<style scoped>\n",
       "    .dataframe tbody tr th:only-of-type {\n",
       "        vertical-align: middle;\n",
       "    }\n",
       "\n",
       "    .dataframe tbody tr th {\n",
       "        vertical-align: top;\n",
       "    }\n",
       "\n",
       "    .dataframe thead th {\n",
       "        text-align: right;\n",
       "    }\n",
       "</style>\n",
       "<table border=\"1\" class=\"dataframe\">\n",
       "  <thead>\n",
       "    <tr style=\"text-align: right;\">\n",
       "      <th></th>\n",
       "      <th>customer_id</th>\n",
       "      <th>age</th>\n",
       "      <th>flag</th>\n",
       "    </tr>\n",
       "  </thead>\n",
       "  <tbody>\n",
       "    <tr>\n",
       "      <th>0</th>\n",
       "      <td>6883939031699146327</td>\n",
       "      <td>49</td>\n",
       "      <td>1</td>\n",
       "    </tr>\n",
       "    <tr>\n",
       "      <th>1</th>\n",
       "      <td>-7200416642310594310</td>\n",
       "      <td>25</td>\n",
       "      <td>1</td>\n",
       "    </tr>\n",
       "    <tr>\n",
       "      <th>2</th>\n",
       "      <td>-6846340800584936</td>\n",
       "      <td>24</td>\n",
       "      <td>1</td>\n",
       "    </tr>\n",
       "    <tr>\n",
       "      <th>3</th>\n",
       "      <td>-94071612138601410</td>\n",
       "      <td>54</td>\n",
       "      <td>1</td>\n",
       "    </tr>\n",
       "    <tr>\n",
       "      <th>4</th>\n",
       "      <td>-283965518499174310</td>\n",
       "      <td>52</td>\n",
       "      <td>1</td>\n",
       "    </tr>\n",
       "    <tr>\n",
       "      <th>...</th>\n",
       "      <td>...</td>\n",
       "      <td>...</td>\n",
       "      <td>...</td>\n",
       "    </tr>\n",
       "    <tr>\n",
       "      <th>1371975</th>\n",
       "      <td>7551062398649767985</td>\n",
       "      <td>24</td>\n",
       "      <td>1</td>\n",
       "    </tr>\n",
       "    <tr>\n",
       "      <th>1371976</th>\n",
       "      <td>-9141402131989464905</td>\n",
       "      <td>21</td>\n",
       "      <td>1</td>\n",
       "    </tr>\n",
       "    <tr>\n",
       "      <th>1371977</th>\n",
       "      <td>-8286316756823862684</td>\n",
       "      <td>21</td>\n",
       "      <td>1</td>\n",
       "    </tr>\n",
       "    <tr>\n",
       "      <th>1371978</th>\n",
       "      <td>2551401172826382186</td>\n",
       "      <td>18</td>\n",
       "      <td>1</td>\n",
       "    </tr>\n",
       "    <tr>\n",
       "      <th>1371979</th>\n",
       "      <td>-1516792180973952447</td>\n",
       "      <td>65</td>\n",
       "      <td>1</td>\n",
       "    </tr>\n",
       "  </tbody>\n",
       "</table>\n",
       "<p>1371980 rows × 3 columns</p>\n",
       "</div>"
      ],
      "text/plain": [
       "                 customer_id  age  flag\n",
       "0        6883939031699146327   49     1\n",
       "1       -7200416642310594310   25     1\n",
       "2          -6846340800584936   24     1\n",
       "3         -94071612138601410   54     1\n",
       "4        -283965518499174310   52     1\n",
       "...                      ...  ...   ...\n",
       "1371975  7551062398649767985   24     1\n",
       "1371976 -9141402131989464905   21     1\n",
       "1371977 -8286316756823862684   21     1\n",
       "1371978  2551401172826382186   18     1\n",
       "1371979 -1516792180973952447   65     1\n",
       "\n",
       "[1371980 rows x 3 columns]"
      ]
     },
     "execution_count": 43,
     "metadata": {},
     "output_type": "execute_result"
    }
   ],
   "source": [
    "sub2"
   ]
  },
  {
   "cell_type": "code",
   "execution_count": 44,
   "id": "5d73b0fb",
   "metadata": {},
   "outputs": [],
   "source": [
    "sub2.loc[(sub2['age'] < 30) & (sub2['flag'] == 1), ['prediction']] = join_popular_30_on\n",
    "sub2.loc[(30 <= sub2['age']) & (sub2['age'] < 50) & (sub2['flag'] == 1), ['prediction']] = join_popular_50_on\n",
    "sub2.loc[(50 <= sub2['age']) & (sub2['flag'] == 1), ['prediction']] = join_popular_60_on\n",
    "\n",
    "sub2.loc[(sub2['age'] < 30) & (sub2['flag'] == 0), ['prediction']] = join_popular_30_off\n",
    "sub2.loc[(30 <= sub2['age']) & (sub2['age'] < 50) & (sub2['flag'] == 0), ['prediction']] = join_popular_50_off\n",
    "sub2.loc[(50 <= sub2['age']) & (sub2['flag'] == 0), ['prediction']] = join_popular_60_off"
   ]
  },
  {
   "cell_type": "code",
   "execution_count": 45,
   "id": "a70c6626",
   "metadata": {
    "execution": {
     "iopub.execute_input": "2022-03-15T16:13:06.719855Z",
     "iopub.status.busy": "2022-03-15T16:13:06.718820Z",
     "iopub.status.idle": "2022-03-15T16:13:06.729547Z",
     "shell.execute_reply": "2022-03-15T16:13:06.730145Z",
     "shell.execute_reply.started": "2022-03-15T16:02:36.723191Z"
    },
    "papermill": {
     "duration": 0.075216,
     "end_time": "2022-03-15T16:13:06.730338",
     "exception": false,
     "start_time": "2022-03-15T16:13:06.655122",
     "status": "completed"
    },
    "tags": []
   },
   "outputs": [],
   "source": [
    "sub = sub2"
   ]
  },
  {
   "cell_type": "markdown",
   "id": "9e29caa8",
   "metadata": {
    "papermill": {
     "duration": 0.057916,
     "end_time": "2022-03-15T16:13:06.846503",
     "exception": false,
     "start_time": "2022-03-15T16:13:06.788587",
     "status": "completed"
    },
    "tags": []
   },
   "source": [
    "### Submit"
   ]
  },
  {
   "cell_type": "code",
   "execution_count": 46,
   "id": "3e0920bf",
   "metadata": {
    "execution": {
     "iopub.execute_input": "2022-03-15T16:13:06.968744Z",
     "iopub.status.busy": "2022-03-15T16:13:06.967680Z",
     "iopub.status.idle": "2022-03-15T16:13:06.973215Z",
     "shell.execute_reply": "2022-03-15T16:13:06.973740Z",
     "shell.execute_reply.started": "2022-03-15T16:03:59.350205Z"
    },
    "papermill": {
     "duration": 0.069247,
     "end_time": "2022-03-15T16:13:06.973921",
     "exception": false,
     "start_time": "2022-03-15T16:13:06.904674",
     "status": "completed"
    },
    "tags": []
   },
   "outputs": [
    {
     "name": "stdout",
     "output_type": "stream",
     "text": [
      "(1371980, 4)\n"
     ]
    }
   ],
   "source": [
    "print(sub.shape)"
   ]
  },
  {
   "cell_type": "code",
   "execution_count": 47,
   "id": "229046ff",
   "metadata": {
    "execution": {
     "iopub.execute_input": "2022-03-15T16:13:07.100395Z",
     "iopub.status.busy": "2022-03-15T16:13:07.098837Z",
     "iopub.status.idle": "2022-03-15T16:13:07.273871Z",
     "shell.execute_reply": "2022-03-15T16:13:07.273313Z",
     "shell.execute_reply.started": "2022-03-15T16:04:01.160556Z"
    },
    "papermill": {
     "duration": 0.240378,
     "end_time": "2022-03-15T16:13:07.274038",
     "exception": false,
     "start_time": "2022-03-15T16:13:07.033660",
     "status": "completed"
    },
    "tags": []
   },
   "outputs": [
    {
     "data": {
      "text/html": [
       "<div>\n",
       "<style scoped>\n",
       "    .dataframe tbody tr th:only-of-type {\n",
       "        vertical-align: middle;\n",
       "    }\n",
       "\n",
       "    .dataframe tbody tr th {\n",
       "        vertical-align: top;\n",
       "    }\n",
       "\n",
       "    .dataframe thead th {\n",
       "        text-align: right;\n",
       "    }\n",
       "</style>\n",
       "<table border=\"1\" class=\"dataframe\">\n",
       "  <thead>\n",
       "    <tr style=\"text-align: right;\">\n",
       "      <th></th>\n",
       "      <th>customer_id</th>\n",
       "      <th>flag</th>\n",
       "      <th>prediction</th>\n",
       "    </tr>\n",
       "  </thead>\n",
       "  <tbody>\n",
       "    <tr>\n",
       "      <th>0</th>\n",
       "      <td>6883939031699146327</td>\n",
       "      <td>1</td>\n",
       "      <td>923758001 924243001 915529003 919273002 924243...</td>\n",
       "    </tr>\n",
       "    <tr>\n",
       "      <th>1</th>\n",
       "      <td>-7200416642310594310</td>\n",
       "      <td>1</td>\n",
       "      <td>924243001 448509014 866731001 924243002 915529...</td>\n",
       "    </tr>\n",
       "    <tr>\n",
       "      <th>2</th>\n",
       "      <td>-6846340800584936</td>\n",
       "      <td>1</td>\n",
       "      <td>924243001 448509014 866731001 924243002 915529...</td>\n",
       "    </tr>\n",
       "    <tr>\n",
       "      <th>3</th>\n",
       "      <td>-94071612138601410</td>\n",
       "      <td>1</td>\n",
       "      <td>930380001 924243001 924243002 928206001 751471...</td>\n",
       "    </tr>\n",
       "    <tr>\n",
       "      <th>4</th>\n",
       "      <td>-283965518499174310</td>\n",
       "      <td>1</td>\n",
       "      <td>930380001 924243001 924243002 928206001 751471...</td>\n",
       "    </tr>\n",
       "    <tr>\n",
       "      <th>...</th>\n",
       "      <td>...</td>\n",
       "      <td>...</td>\n",
       "      <td>...</td>\n",
       "    </tr>\n",
       "    <tr>\n",
       "      <th>1371975</th>\n",
       "      <td>7551062398649767985</td>\n",
       "      <td>1</td>\n",
       "      <td>924243001 448509014 866731001 924243002 915529...</td>\n",
       "    </tr>\n",
       "    <tr>\n",
       "      <th>1371976</th>\n",
       "      <td>-9141402131989464905</td>\n",
       "      <td>1</td>\n",
       "      <td>924243001 448509014 866731001 924243002 915529...</td>\n",
       "    </tr>\n",
       "    <tr>\n",
       "      <th>1371977</th>\n",
       "      <td>-8286316756823862684</td>\n",
       "      <td>1</td>\n",
       "      <td>924243001 448509014 866731001 924243002 915529...</td>\n",
       "    </tr>\n",
       "    <tr>\n",
       "      <th>1371978</th>\n",
       "      <td>2551401172826382186</td>\n",
       "      <td>1</td>\n",
       "      <td>924243001 448509014 866731001 924243002 915529...</td>\n",
       "    </tr>\n",
       "    <tr>\n",
       "      <th>1371979</th>\n",
       "      <td>-1516792180973952447</td>\n",
       "      <td>1</td>\n",
       "      <td>930380001 924243001 924243002 928206001 751471...</td>\n",
       "    </tr>\n",
       "  </tbody>\n",
       "</table>\n",
       "<p>1371980 rows × 3 columns</p>\n",
       "</div>"
      ],
      "text/plain": [
       "                 customer_id  flag  \\\n",
       "0        6883939031699146327     1   \n",
       "1       -7200416642310594310     1   \n",
       "2          -6846340800584936     1   \n",
       "3         -94071612138601410     1   \n",
       "4        -283965518499174310     1   \n",
       "...                      ...   ...   \n",
       "1371975  7551062398649767985     1   \n",
       "1371976 -9141402131989464905     1   \n",
       "1371977 -8286316756823862684     1   \n",
       "1371978  2551401172826382186     1   \n",
       "1371979 -1516792180973952447     1   \n",
       "\n",
       "                                                prediction  \n",
       "0        923758001 924243001 915529003 919273002 924243...  \n",
       "1        924243001 448509014 866731001 924243002 915529...  \n",
       "2        924243001 448509014 866731001 924243002 915529...  \n",
       "3        930380001 924243001 924243002 928206001 751471...  \n",
       "4        930380001 924243001 924243002 928206001 751471...  \n",
       "...                                                    ...  \n",
       "1371975  924243001 448509014 866731001 924243002 915529...  \n",
       "1371976  924243001 448509014 866731001 924243002 915529...  \n",
       "1371977  924243001 448509014 866731001 924243002 915529...  \n",
       "1371978  924243001 448509014 866731001 924243002 915529...  \n",
       "1371979  930380001 924243001 924243002 928206001 751471...  \n",
       "\n",
       "[1371980 rows x 3 columns]"
      ]
     },
     "execution_count": 47,
     "metadata": {},
     "output_type": "execute_result"
    }
   ],
   "source": [
    "sub = sub.drop(columns='age')\n",
    "sub"
   ]
  },
  {
   "cell_type": "code",
   "execution_count": 48,
   "id": "f5ed9f8a",
   "metadata": {
    "execution": {
     "iopub.execute_input": "2022-03-15T16:13:07.399184Z",
     "iopub.status.busy": "2022-03-15T16:13:07.398489Z",
     "iopub.status.idle": "2022-03-15T16:13:43.165111Z",
     "shell.execute_reply": "2022-03-15T16:13:43.165619Z",
     "shell.execute_reply.started": "2022-03-15T16:04:17.985507Z"
    },
    "papermill": {
     "duration": 35.832101,
     "end_time": "2022-03-15T16:13:43.165816",
     "exception": false,
     "start_time": "2022-03-15T16:13:07.333715",
     "status": "completed"
    },
    "tags": []
   },
   "outputs": [],
   "source": [
    "# backfill用のcsv書き出し、上位50件、直近1週間\n",
    "sub.to_csv(f'ranking_{val_start_date}_{topk}_ch.csv', index=False)"
   ]
  },
  {
   "cell_type": "code",
   "execution_count": null,
   "id": "0b9e02b3",
   "metadata": {},
   "outputs": [],
   "source": []
  }
 ],
 "metadata": {
  "kernelspec": {
   "display_name": "Python 3",
   "language": "python",
   "name": "python3"
  },
  "language_info": {
   "codemirror_mode": {
    "name": "ipython",
    "version": 3
   },
   "file_extension": ".py",
   "mimetype": "text/x-python",
   "name": "python",
   "nbconvert_exporter": "python",
   "pygments_lexer": "ipython3",
   "version": "3.8.10"
  },
  "papermill": {
   "default_parameters": {},
   "duration": 152.522006,
   "end_time": "2022-03-15T16:13:44.958558",
   "environment_variables": {},
   "exception": null,
   "input_path": "__notebook__.ipynb",
   "output_path": "__notebook__.ipynb",
   "parameters": {},
   "start_time": "2022-03-15T16:11:12.436552",
   "version": "2.3.3"
  }
 },
 "nbformat": 4,
 "nbformat_minor": 5
}
