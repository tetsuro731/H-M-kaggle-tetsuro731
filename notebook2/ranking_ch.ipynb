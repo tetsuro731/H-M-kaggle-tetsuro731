{
 "cells": [
  {
   "cell_type": "markdown",
   "id": "3a216194",
   "metadata": {
    "execution": {
     "iopub.execute_input": "2022-03-15T16:11:22.880270Z",
     "iopub.status.busy": "2022-03-15T16:11:22.878561Z",
     "iopub.status.idle": "2022-03-15T16:11:22.882776Z",
     "shell.execute_reply": "2022-03-15T16:11:22.883868Z",
     "shell.execute_reply.started": "2022-03-15T16:00:30.14947Z"
    },
    "papermill": {
     "duration": 0.057027,
     "end_time": "2022-03-15T16:11:22.884185",
     "exception": false,
     "start_time": "2022-03-15T16:11:22.827158",
     "status": "completed"
    },
    "tags": []
   },
   "source": [
    "\n",
    "## Online/Offline 出し分けモデル"
   ]
  },
  {
   "cell_type": "code",
   "execution_count": 45,
   "id": "bf60c97e",
   "metadata": {
    "execution": {
     "iopub.execute_input": "2022-03-15T16:11:22.978215Z",
     "iopub.status.busy": "2022-03-15T16:11:22.977239Z",
     "iopub.status.idle": "2022-03-15T16:11:23.063378Z",
     "shell.execute_reply": "2022-03-15T16:11:23.062182Z",
     "shell.execute_reply.started": "2022-03-15T16:00:30.155634Z"
    },
    "papermill": {
     "duration": 0.13338,
     "end_time": "2022-03-15T16:11:23.063547",
     "exception": false,
     "start_time": "2022-03-15T16:11:22.930167",
     "status": "completed"
    },
    "tags": []
   },
   "outputs": [],
   "source": [
    "import numpy as np\n",
    "import pandas as pd\n",
    "import gc\n",
    "import os\n",
    "import time\n",
    "import random\n",
    "from tqdm.auto import tqdm"
   ]
  },
  {
   "cell_type": "code",
   "execution_count": 46,
   "id": "4c3d4523",
   "metadata": {
    "execution": {
     "iopub.execute_input": "2022-03-15T16:11:23.159260Z",
     "iopub.status.busy": "2022-03-15T16:11:23.158162Z",
     "iopub.status.idle": "2022-03-15T16:11:23.160890Z",
     "shell.execute_reply": "2022-03-15T16:11:23.160245Z",
     "shell.execute_reply.started": "2022-03-15T16:00:30.171649Z"
    },
    "papermill": {
     "duration": 0.051483,
     "end_time": "2022-03-15T16:11:23.161067",
     "exception": false,
     "start_time": "2022-03-15T16:11:23.109584",
     "status": "completed"
    },
    "tags": []
   },
   "outputs": [],
   "source": [
    "def visualize_df(df):\n",
    "    print(df.shape)\n",
    "    display(df.head())"
   ]
  },
  {
   "cell_type": "code",
   "execution_count": 47,
   "id": "bc2c8e48",
   "metadata": {},
   "outputs": [],
   "source": [
    "# parameter\n",
    "#val_start_date = '2020-09-16'\n",
    "#val_start_date = '2020-09-09'\n",
    "val_start_date = '2020-09-02'\n",
    "#topk = 50\n",
    "topk = 30\n",
    "#ch = 'on'\n",
    "ch = 'off'"
   ]
  },
  {
   "cell_type": "code",
   "execution_count": 48,
   "id": "40d555b6",
   "metadata": {},
   "outputs": [],
   "source": [
    "from datetime import datetime, date, timedelta\n",
    "val_end_date = pd.to_datetime(val_start_date) + timedelta(days=7)"
   ]
  },
  {
   "cell_type": "code",
   "execution_count": 49,
   "id": "4c68872c",
   "metadata": {},
   "outputs": [
    {
     "name": "stdout",
     "output_type": "stream",
     "text": [
      "2020-09-02 2020-09-09\n"
     ]
    }
   ],
   "source": [
    "val_end_date = str(val_end_date.strftime('%Y-%m-%d'))\n",
    "print(val_start_date, val_end_date)"
   ]
  },
  {
   "cell_type": "code",
   "execution_count": 50,
   "id": "f6d2f077",
   "metadata": {
    "_cell_guid": "b1076dfc-b9ad-4769-8c92-a6c4dae69d19",
    "_uuid": "8f2839f25d086af736a60e9eeb907d3b93b6e0e5",
    "execution": {
     "iopub.execute_input": "2022-03-15T16:11:23.254925Z",
     "iopub.status.busy": "2022-03-15T16:11:23.254210Z",
     "iopub.status.idle": "2022-03-15T16:12:29.811226Z",
     "shell.execute_reply": "2022-03-15T16:12:29.811901Z",
     "shell.execute_reply.started": "2022-03-15T16:00:30.18808Z"
    },
    "papermill": {
     "duration": 66.606834,
     "end_time": "2022-03-15T16:12:29.812110",
     "exception": false,
     "start_time": "2022-03-15T16:11:23.205276",
     "status": "completed"
    },
    "tags": []
   },
   "outputs": [],
   "source": [
    "# データの読み込み\n",
    "dir = 'h-and-m-personalized-fashion-recommendations/'\n",
    "path = '../input/' + dir \n",
    "\n",
    "#customers = pd.read_csv(path + 'customers.csv')\n",
    "#articles = pd.read_csv(path + 'articles.csv')\n",
    "transactions_train = pd.read_csv(path + 'transactions_train.csv')"
   ]
  },
  {
   "cell_type": "code",
   "execution_count": 51,
   "id": "e0eea175",
   "metadata": {},
   "outputs": [],
   "source": [
    "# save memory https://www.kaggle.com/c/h-and-m-personalized-fashion-recommendations/discussion/308635\n",
    "# 64文字もあるが、末尾16文字だけでcustomerを一意にid可能\n",
    "# 使われている文字は0-9, a-fなので16進数で変換してintで扱える\n",
    "# 16進数 = 4bit, 4bit * 16 / 8 = 8 byte\n",
    "# 64 byte -> 8 byteに削減, int64で表現可能\n",
    "transactions_train['customer_id'] = transactions_train['customer_id'].apply(lambda x: int(x[-16:],16) ).astype('int64')\n",
    "# メモリ削減\n",
    "transactions_train['article_id'] = transactions_train['article_id'].astype('int32')"
   ]
  },
  {
   "cell_type": "code",
   "execution_count": 52,
   "id": "4f123b99",
   "metadata": {
    "execution": {
     "iopub.execute_input": "2022-03-15T16:12:29.904247Z",
     "iopub.status.busy": "2022-03-15T16:12:29.903550Z",
     "iopub.status.idle": "2022-03-15T16:12:34.899246Z",
     "shell.execute_reply": "2022-03-15T16:12:34.899750Z",
     "shell.execute_reply.started": "2022-03-15T16:01:14.260375Z"
    },
    "papermill": {
     "duration": 5.044154,
     "end_time": "2022-03-15T16:12:34.899916",
     "exception": false,
     "start_time": "2022-03-15T16:12:29.855762",
     "status": "completed"
    },
    "tags": []
   },
   "outputs": [
    {
     "name": "stdout",
     "output_type": "stream",
     "text": [
      "(1371980, 1)\n"
     ]
    },
    {
     "data": {
      "text/html": [
       "<div>\n",
       "<style scoped>\n",
       "    .dataframe tbody tr th:only-of-type {\n",
       "        vertical-align: middle;\n",
       "    }\n",
       "\n",
       "    .dataframe tbody tr th {\n",
       "        vertical-align: top;\n",
       "    }\n",
       "\n",
       "    .dataframe thead th {\n",
       "        text-align: right;\n",
       "    }\n",
       "</style>\n",
       "<table border=\"1\" class=\"dataframe\">\n",
       "  <thead>\n",
       "    <tr style=\"text-align: right;\">\n",
       "      <th></th>\n",
       "      <th>customer_id</th>\n",
       "    </tr>\n",
       "  </thead>\n",
       "  <tbody>\n",
       "    <tr>\n",
       "      <th>0</th>\n",
       "      <td>00000dbacae5abe5e23885899a1fa44253a17956c6d1c3...</td>\n",
       "    </tr>\n",
       "    <tr>\n",
       "      <th>1</th>\n",
       "      <td>0000423b00ade91418cceaf3b26c6af3dd342b51fd051e...</td>\n",
       "    </tr>\n",
       "    <tr>\n",
       "      <th>2</th>\n",
       "      <td>000058a12d5b43e67d225668fa1f8d618c13dc232df0ca...</td>\n",
       "    </tr>\n",
       "    <tr>\n",
       "      <th>3</th>\n",
       "      <td>00005ca1c9ed5f5146b52ac8639a40ca9d57aeff4d1bd2...</td>\n",
       "    </tr>\n",
       "    <tr>\n",
       "      <th>4</th>\n",
       "      <td>00006413d8573cd20ed7128e53b7b13819fe5cfc2d801f...</td>\n",
       "    </tr>\n",
       "  </tbody>\n",
       "</table>\n",
       "</div>"
      ],
      "text/plain": [
       "                                         customer_id\n",
       "0  00000dbacae5abe5e23885899a1fa44253a17956c6d1c3...\n",
       "1  0000423b00ade91418cceaf3b26c6af3dd342b51fd051e...\n",
       "2  000058a12d5b43e67d225668fa1f8d618c13dc232df0ca...\n",
       "3  00005ca1c9ed5f5146b52ac8639a40ca9d57aeff4d1bd2...\n",
       "4  00006413d8573cd20ed7128e53b7b13819fe5cfc2d801f..."
      ]
     },
     "metadata": {},
     "output_type": "display_data"
    }
   ],
   "source": [
    "sub = pd.read_csv(path + 'sample_submission.csv')\n",
    "del sub['prediction']; gc.collect()\n",
    "visualize_df(sub)"
   ]
  },
  {
   "cell_type": "code",
   "execution_count": 53,
   "id": "2d12f4f0",
   "metadata": {},
   "outputs": [],
   "source": [
    "sub['customer_id'] = sub['customer_id'].apply(lambda x: int(x[-16:],16) ).astype('int64')"
   ]
  },
  {
   "cell_type": "code",
   "execution_count": 54,
   "id": "56acb8de",
   "metadata": {
    "execution": {
     "iopub.execute_input": "2022-03-15T16:12:35.001897Z",
     "iopub.status.busy": "2022-03-15T16:12:35.001265Z",
     "iopub.status.idle": "2022-03-15T16:12:35.005723Z",
     "shell.execute_reply": "2022-03-15T16:12:35.006267Z",
     "shell.execute_reply.started": "2022-03-15T16:01:17.607548Z"
    },
    "papermill": {
     "duration": 0.060925,
     "end_time": "2022-03-15T16:12:35.006434",
     "exception": false,
     "start_time": "2022-03-15T16:12:34.945509",
     "status": "completed"
    },
    "tags": []
   },
   "outputs": [
    {
     "name": "stdout",
     "output_type": "stream",
     "text": [
      "(31788324, 5)\n"
     ]
    },
    {
     "data": {
      "text/html": [
       "<div>\n",
       "<style scoped>\n",
       "    .dataframe tbody tr th:only-of-type {\n",
       "        vertical-align: middle;\n",
       "    }\n",
       "\n",
       "    .dataframe tbody tr th {\n",
       "        vertical-align: top;\n",
       "    }\n",
       "\n",
       "    .dataframe thead th {\n",
       "        text-align: right;\n",
       "    }\n",
       "</style>\n",
       "<table border=\"1\" class=\"dataframe\">\n",
       "  <thead>\n",
       "    <tr style=\"text-align: right;\">\n",
       "      <th></th>\n",
       "      <th>t_dat</th>\n",
       "      <th>customer_id</th>\n",
       "      <th>article_id</th>\n",
       "      <th>price</th>\n",
       "      <th>sales_channel_id</th>\n",
       "    </tr>\n",
       "  </thead>\n",
       "  <tbody>\n",
       "    <tr>\n",
       "      <th>0</th>\n",
       "      <td>2018-09-20</td>\n",
       "      <td>-6846340800584936</td>\n",
       "      <td>663713001</td>\n",
       "      <td>0.050831</td>\n",
       "      <td>2</td>\n",
       "    </tr>\n",
       "    <tr>\n",
       "      <th>1</th>\n",
       "      <td>2018-09-20</td>\n",
       "      <td>-6846340800584936</td>\n",
       "      <td>541518023</td>\n",
       "      <td>0.030492</td>\n",
       "      <td>2</td>\n",
       "    </tr>\n",
       "    <tr>\n",
       "      <th>2</th>\n",
       "      <td>2018-09-20</td>\n",
       "      <td>-8334631767138808638</td>\n",
       "      <td>505221004</td>\n",
       "      <td>0.015237</td>\n",
       "      <td>2</td>\n",
       "    </tr>\n",
       "    <tr>\n",
       "      <th>3</th>\n",
       "      <td>2018-09-20</td>\n",
       "      <td>-8334631767138808638</td>\n",
       "      <td>685687003</td>\n",
       "      <td>0.016932</td>\n",
       "      <td>2</td>\n",
       "    </tr>\n",
       "    <tr>\n",
       "      <th>4</th>\n",
       "      <td>2018-09-20</td>\n",
       "      <td>-8334631767138808638</td>\n",
       "      <td>685687004</td>\n",
       "      <td>0.016932</td>\n",
       "      <td>2</td>\n",
       "    </tr>\n",
       "  </tbody>\n",
       "</table>\n",
       "</div>"
      ],
      "text/plain": [
       "        t_dat          customer_id  article_id     price  sales_channel_id\n",
       "0  2018-09-20    -6846340800584936   663713001  0.050831                 2\n",
       "1  2018-09-20    -6846340800584936   541518023  0.030492                 2\n",
       "2  2018-09-20 -8334631767138808638   505221004  0.015237                 2\n",
       "3  2018-09-20 -8334631767138808638   685687003  0.016932                 2\n",
       "4  2018-09-20 -8334631767138808638   685687004  0.016932                 2"
      ]
     },
     "metadata": {},
     "output_type": "display_data"
    }
   ],
   "source": [
    "visualize_df(transactions_train)"
   ]
  },
  {
   "cell_type": "code",
   "execution_count": 55,
   "id": "05be031f",
   "metadata": {
    "execution": {
     "iopub.execute_input": "2022-03-15T16:12:35.105816Z",
     "iopub.status.busy": "2022-03-15T16:12:35.105197Z",
     "iopub.status.idle": "2022-03-15T16:12:35.108285Z",
     "shell.execute_reply": "2022-03-15T16:12:35.107753Z",
     "shell.execute_reply.started": "2022-03-15T16:01:17.627302Z"
    },
    "papermill": {
     "duration": 0.055961,
     "end_time": "2022-03-15T16:12:35.108419",
     "exception": false,
     "start_time": "2022-03-15T16:12:35.052458",
     "status": "completed"
    },
    "tags": []
   },
   "outputs": [
    {
     "data": {
      "text/html": [
       "<div>\n",
       "<style scoped>\n",
       "    .dataframe tbody tr th:only-of-type {\n",
       "        vertical-align: middle;\n",
       "    }\n",
       "\n",
       "    .dataframe tbody tr th {\n",
       "        vertical-align: top;\n",
       "    }\n",
       "\n",
       "    .dataframe thead th {\n",
       "        text-align: right;\n",
       "    }\n",
       "</style>\n",
       "<table border=\"1\" class=\"dataframe\">\n",
       "  <thead>\n",
       "    <tr style=\"text-align: right;\">\n",
       "      <th></th>\n",
       "      <th>customer_id</th>\n",
       "    </tr>\n",
       "  </thead>\n",
       "  <tbody>\n",
       "    <tr>\n",
       "      <th>0</th>\n",
       "      <td>6883939031699146327</td>\n",
       "    </tr>\n",
       "    <tr>\n",
       "      <th>1</th>\n",
       "      <td>-7200416642310594310</td>\n",
       "    </tr>\n",
       "    <tr>\n",
       "      <th>2</th>\n",
       "      <td>-6846340800584936</td>\n",
       "    </tr>\n",
       "    <tr>\n",
       "      <th>3</th>\n",
       "      <td>-94071612138601410</td>\n",
       "    </tr>\n",
       "    <tr>\n",
       "      <th>4</th>\n",
       "      <td>-283965518499174310</td>\n",
       "    </tr>\n",
       "  </tbody>\n",
       "</table>\n",
       "</div>"
      ],
      "text/plain": [
       "           customer_id\n",
       "0  6883939031699146327\n",
       "1 -7200416642310594310\n",
       "2    -6846340800584936\n",
       "3   -94071612138601410\n",
       "4  -283965518499174310"
      ]
     },
     "execution_count": 55,
     "metadata": {},
     "output_type": "execute_result"
    }
   ],
   "source": [
    "# 提出サンプルの確認\n",
    "sub.head()"
   ]
  },
  {
   "cell_type": "markdown",
   "id": "cd0fc3d2",
   "metadata": {
    "papermill": {
     "duration": 0.0458,
     "end_time": "2022-03-15T16:12:35.200442",
     "exception": false,
     "start_time": "2022-03-15T16:12:35.154642",
     "status": "completed"
    },
    "tags": []
   },
   "source": [
    "### Divide data"
   ]
  },
  {
   "cell_type": "code",
   "execution_count": 56,
   "id": "156997a4",
   "metadata": {
    "execution": {
     "iopub.execute_input": "2022-03-15T16:12:35.297174Z",
     "iopub.status.busy": "2022-03-15T16:12:35.296545Z",
     "iopub.status.idle": "2022-03-15T16:12:35.298915Z",
     "shell.execute_reply": "2022-03-15T16:12:35.298338Z",
     "shell.execute_reply.started": "2022-03-11T02:27:50.226503Z"
    },
    "papermill": {
     "duration": 0.052692,
     "end_time": "2022-03-15T16:12:35.299062",
     "exception": false,
     "start_time": "2022-03-15T16:12:35.246370",
     "status": "completed"
    },
    "tags": []
   },
   "outputs": [],
   "source": [
    "# transactions_train['t_dat'].unique()[-7:]\n",
    "\n",
    "# array(['2020-09-16', '2020-09-17', '2020-09-18', '2020-09-19',\n",
    "#       '2020-09-20', '2020-09-21', '2020-09-22'], dtype=object)\n"
   ]
  },
  {
   "cell_type": "code",
   "execution_count": 57,
   "id": "7fbac717",
   "metadata": {
    "execution": {
     "iopub.execute_input": "2022-03-15T16:12:35.394132Z",
     "iopub.status.busy": "2022-03-15T16:12:35.393433Z",
     "iopub.status.idle": "2022-03-15T16:12:40.036687Z",
     "shell.execute_reply": "2022-03-15T16:12:40.036055Z",
     "shell.execute_reply.started": "2022-03-15T16:01:17.654211Z"
    },
    "papermill": {
     "duration": 4.691998,
     "end_time": "2022-03-15T16:12:40.036824",
     "exception": false,
     "start_time": "2022-03-15T16:12:35.344826",
     "status": "completed"
    },
    "tags": []
   },
   "outputs": [
    {
     "name": "stdout",
     "output_type": "stream",
     "text": [
      "(264657, 5)\n"
     ]
    },
    {
     "data": {
      "text/html": [
       "<div>\n",
       "<style scoped>\n",
       "    .dataframe tbody tr th:only-of-type {\n",
       "        vertical-align: middle;\n",
       "    }\n",
       "\n",
       "    .dataframe tbody tr th {\n",
       "        vertical-align: top;\n",
       "    }\n",
       "\n",
       "    .dataframe thead th {\n",
       "        text-align: right;\n",
       "    }\n",
       "</style>\n",
       "<table border=\"1\" class=\"dataframe\">\n",
       "  <thead>\n",
       "    <tr style=\"text-align: right;\">\n",
       "      <th></th>\n",
       "      <th>t_dat</th>\n",
       "      <th>customer_id</th>\n",
       "      <th>article_id</th>\n",
       "      <th>price</th>\n",
       "      <th>sales_channel_id</th>\n",
       "    </tr>\n",
       "  </thead>\n",
       "  <tbody>\n",
       "    <tr>\n",
       "      <th>0</th>\n",
       "      <td>2020-09-02</td>\n",
       "      <td>-2004322025990877963</td>\n",
       "      <td>820671001</td>\n",
       "      <td>0.016932</td>\n",
       "      <td>1</td>\n",
       "    </tr>\n",
       "    <tr>\n",
       "      <th>1</th>\n",
       "      <td>2020-09-02</td>\n",
       "      <td>-6382781975245111187</td>\n",
       "      <td>882354001</td>\n",
       "      <td>0.015237</td>\n",
       "      <td>2</td>\n",
       "    </tr>\n",
       "    <tr>\n",
       "      <th>2</th>\n",
       "      <td>2020-09-02</td>\n",
       "      <td>-6382781975245111187</td>\n",
       "      <td>817354001</td>\n",
       "      <td>0.025407</td>\n",
       "      <td>2</td>\n",
       "    </tr>\n",
       "    <tr>\n",
       "      <th>3</th>\n",
       "      <td>2020-09-02</td>\n",
       "      <td>-6382781975245111187</td>\n",
       "      <td>817354001</td>\n",
       "      <td>0.025407</td>\n",
       "      <td>2</td>\n",
       "    </tr>\n",
       "    <tr>\n",
       "      <th>4</th>\n",
       "      <td>2020-09-02</td>\n",
       "      <td>-4203010420020643360</td>\n",
       "      <td>899002003</td>\n",
       "      <td>0.010153</td>\n",
       "      <td>1</td>\n",
       "    </tr>\n",
       "  </tbody>\n",
       "</table>\n",
       "</div>"
      ],
      "text/plain": [
       "        t_dat          customer_id  article_id     price  sales_channel_id\n",
       "0  2020-09-02 -2004322025990877963   820671001  0.016932                 1\n",
       "1  2020-09-02 -6382781975245111187   882354001  0.015237                 2\n",
       "2  2020-09-02 -6382781975245111187   817354001  0.025407                 2\n",
       "3  2020-09-02 -6382781975245111187   817354001  0.025407                 2\n",
       "4  2020-09-02 -4203010420020643360   899002003  0.010153                 1"
      ]
     },
     "metadata": {},
     "output_type": "display_data"
    }
   ],
   "source": [
    "train_data = transactions_train.query(f\"'{val_start_date}' <= t_dat and t_dat < '{val_end_date}'\").reset_index(drop=True)\n",
    "feature_data = transactions_train.query(f\"t_dat < '{val_end_date}'\").reset_index(drop=True) # 期間かぶっててもよい\n",
    "visualize_df(train_data)"
   ]
  },
  {
   "cell_type": "markdown",
   "id": "34e962cf",
   "metadata": {},
   "source": [
    "### Online/Offlineに絞る"
   ]
  },
  {
   "cell_type": "code",
   "execution_count": 58,
   "id": "c4f9c5e3",
   "metadata": {},
   "outputs": [],
   "source": [
    "train_ch = feature_data.groupby('customer_id')['sales_channel_id'].agg('mean').reset_index(name='channel')"
   ]
  },
  {
   "cell_type": "code",
   "execution_count": 59,
   "id": "0e741693",
   "metadata": {},
   "outputs": [],
   "source": [
    "if ch == 'on':\n",
    "    train_ch = train_ch.query('channel >= 1.5')\n",
    "else:\n",
    "    train_ch = train_ch.query('channel < 1.5')\n",
    "train_ch = train_ch['customer_id']"
   ]
  },
  {
   "cell_type": "code",
   "execution_count": 60,
   "id": "de310f5c",
   "metadata": {},
   "outputs": [
    {
     "data": {
      "text/html": [
       "<div>\n",
       "<style scoped>\n",
       "    .dataframe tbody tr th:only-of-type {\n",
       "        vertical-align: middle;\n",
       "    }\n",
       "\n",
       "    .dataframe tbody tr th {\n",
       "        vertical-align: top;\n",
       "    }\n",
       "\n",
       "    .dataframe thead th {\n",
       "        text-align: right;\n",
       "    }\n",
       "</style>\n",
       "<table border=\"1\" class=\"dataframe\">\n",
       "  <thead>\n",
       "    <tr style=\"text-align: right;\">\n",
       "      <th></th>\n",
       "      <th>t_dat</th>\n",
       "      <th>customer_id</th>\n",
       "      <th>article_id</th>\n",
       "      <th>price</th>\n",
       "      <th>sales_channel_id</th>\n",
       "    </tr>\n",
       "  </thead>\n",
       "  <tbody>\n",
       "    <tr>\n",
       "      <th>0</th>\n",
       "      <td>2020-09-02</td>\n",
       "      <td>-2004322025990877963</td>\n",
       "      <td>820671001</td>\n",
       "      <td>0.016932</td>\n",
       "      <td>1</td>\n",
       "    </tr>\n",
       "    <tr>\n",
       "      <th>1</th>\n",
       "      <td>2020-09-02</td>\n",
       "      <td>-6382781975245111187</td>\n",
       "      <td>882354001</td>\n",
       "      <td>0.015237</td>\n",
       "      <td>2</td>\n",
       "    </tr>\n",
       "    <tr>\n",
       "      <th>2</th>\n",
       "      <td>2020-09-02</td>\n",
       "      <td>-6382781975245111187</td>\n",
       "      <td>817354001</td>\n",
       "      <td>0.025407</td>\n",
       "      <td>2</td>\n",
       "    </tr>\n",
       "    <tr>\n",
       "      <th>3</th>\n",
       "      <td>2020-09-02</td>\n",
       "      <td>-6382781975245111187</td>\n",
       "      <td>817354001</td>\n",
       "      <td>0.025407</td>\n",
       "      <td>2</td>\n",
       "    </tr>\n",
       "    <tr>\n",
       "      <th>4</th>\n",
       "      <td>2020-09-06</td>\n",
       "      <td>-6382781975245111187</td>\n",
       "      <td>903473001</td>\n",
       "      <td>0.101678</td>\n",
       "      <td>1</td>\n",
       "    </tr>\n",
       "    <tr>\n",
       "      <th>...</th>\n",
       "      <td>...</td>\n",
       "      <td>...</td>\n",
       "      <td>...</td>\n",
       "      <td>...</td>\n",
       "      <td>...</td>\n",
       "    </tr>\n",
       "    <tr>\n",
       "      <th>69711</th>\n",
       "      <td>2020-09-08</td>\n",
       "      <td>4962548572027622207</td>\n",
       "      <td>923340001</td>\n",
       "      <td>0.015254</td>\n",
       "      <td>1</td>\n",
       "    </tr>\n",
       "    <tr>\n",
       "      <th>69712</th>\n",
       "      <td>2020-09-08</td>\n",
       "      <td>6922210607220550580</td>\n",
       "      <td>673677002</td>\n",
       "      <td>0.023661</td>\n",
       "      <td>1</td>\n",
       "    </tr>\n",
       "    <tr>\n",
       "      <th>69713</th>\n",
       "      <td>2020-09-08</td>\n",
       "      <td>6922210607220550580</td>\n",
       "      <td>868823008</td>\n",
       "      <td>0.023661</td>\n",
       "      <td>1</td>\n",
       "    </tr>\n",
       "    <tr>\n",
       "      <th>69714</th>\n",
       "      <td>2020-09-08</td>\n",
       "      <td>6922210607220550580</td>\n",
       "      <td>821746001</td>\n",
       "      <td>0.020492</td>\n",
       "      <td>1</td>\n",
       "    </tr>\n",
       "    <tr>\n",
       "      <th>69715</th>\n",
       "      <td>2020-09-08</td>\n",
       "      <td>6922210607220550580</td>\n",
       "      <td>673677023</td>\n",
       "      <td>0.023644</td>\n",
       "      <td>1</td>\n",
       "    </tr>\n",
       "  </tbody>\n",
       "</table>\n",
       "<p>69716 rows × 5 columns</p>\n",
       "</div>"
      ],
      "text/plain": [
       "            t_dat          customer_id  article_id     price  sales_channel_id\n",
       "0      2020-09-02 -2004322025990877963   820671001  0.016932                 1\n",
       "1      2020-09-02 -6382781975245111187   882354001  0.015237                 2\n",
       "2      2020-09-02 -6382781975245111187   817354001  0.025407                 2\n",
       "3      2020-09-02 -6382781975245111187   817354001  0.025407                 2\n",
       "4      2020-09-06 -6382781975245111187   903473001  0.101678                 1\n",
       "...           ...                  ...         ...       ...               ...\n",
       "69711  2020-09-08  4962548572027622207   923340001  0.015254                 1\n",
       "69712  2020-09-08  6922210607220550580   673677002  0.023661                 1\n",
       "69713  2020-09-08  6922210607220550580   868823008  0.023661                 1\n",
       "69714  2020-09-08  6922210607220550580   821746001  0.020492                 1\n",
       "69715  2020-09-08  6922210607220550580   673677023  0.023644                 1\n",
       "\n",
       "[69716 rows x 5 columns]"
      ]
     },
     "execution_count": 60,
     "metadata": {},
     "output_type": "execute_result"
    }
   ],
   "source": [
    "train_data = pd.merge(train_data, train_ch, on='customer_id', how='inner')\n",
    "train_data"
   ]
  },
  {
   "cell_type": "markdown",
   "id": "66eadbca",
   "metadata": {
    "papermill": {
     "duration": 0.047692,
     "end_time": "2022-03-15T16:12:40.138462",
     "exception": false,
     "start_time": "2022-03-15T16:12:40.090770",
     "status": "completed"
    },
    "tags": []
   },
   "source": [
    "### customer_data"
   ]
  },
  {
   "cell_type": "code",
   "execution_count": 61,
   "id": "f04b4651",
   "metadata": {
    "execution": {
     "iopub.execute_input": "2022-03-15T16:12:40.235913Z",
     "iopub.status.busy": "2022-03-15T16:12:40.234976Z",
     "iopub.status.idle": "2022-03-15T16:12:46.446535Z",
     "shell.execute_reply": "2022-03-15T16:12:46.447040Z",
     "shell.execute_reply.started": "2022-03-15T16:01:49.47111Z"
    },
    "papermill": {
     "duration": 6.261839,
     "end_time": "2022-03-15T16:12:46.447208",
     "exception": false,
     "start_time": "2022-03-15T16:12:40.185369",
     "status": "completed"
    },
    "tags": []
   },
   "outputs": [
    {
     "data": {
      "text/html": [
       "<div>\n",
       "<style scoped>\n",
       "    .dataframe tbody tr th:only-of-type {\n",
       "        vertical-align: middle;\n",
       "    }\n",
       "\n",
       "    .dataframe tbody tr th {\n",
       "        vertical-align: top;\n",
       "    }\n",
       "\n",
       "    .dataframe thead th {\n",
       "        text-align: right;\n",
       "    }\n",
       "</style>\n",
       "<table border=\"1\" class=\"dataframe\">\n",
       "  <thead>\n",
       "    <tr style=\"text-align: right;\">\n",
       "      <th></th>\n",
       "      <th>customer_id</th>\n",
       "      <th>FN</th>\n",
       "      <th>Active</th>\n",
       "      <th>club_member_status</th>\n",
       "      <th>fashion_news_frequency</th>\n",
       "      <th>age</th>\n",
       "      <th>postal_code</th>\n",
       "    </tr>\n",
       "  </thead>\n",
       "  <tbody>\n",
       "    <tr>\n",
       "      <th>0</th>\n",
       "      <td>6883939031699146327</td>\n",
       "      <td>NaN</td>\n",
       "      <td>NaN</td>\n",
       "      <td>ACTIVE</td>\n",
       "      <td>NONE</td>\n",
       "      <td>49.0</td>\n",
       "      <td>52043ee2162cf5aa7ee79974281641c6f11a68d276429a...</td>\n",
       "    </tr>\n",
       "    <tr>\n",
       "      <th>1</th>\n",
       "      <td>-7200416642310594310</td>\n",
       "      <td>NaN</td>\n",
       "      <td>NaN</td>\n",
       "      <td>ACTIVE</td>\n",
       "      <td>NONE</td>\n",
       "      <td>25.0</td>\n",
       "      <td>2973abc54daa8a5f8ccfe9362140c63247c5eee03f1d93...</td>\n",
       "    </tr>\n",
       "    <tr>\n",
       "      <th>2</th>\n",
       "      <td>-6846340800584936</td>\n",
       "      <td>NaN</td>\n",
       "      <td>NaN</td>\n",
       "      <td>ACTIVE</td>\n",
       "      <td>NONE</td>\n",
       "      <td>24.0</td>\n",
       "      <td>64f17e6a330a85798e4998f62d0930d14db8db1c054af6...</td>\n",
       "    </tr>\n",
       "    <tr>\n",
       "      <th>3</th>\n",
       "      <td>-94071612138601410</td>\n",
       "      <td>NaN</td>\n",
       "      <td>NaN</td>\n",
       "      <td>ACTIVE</td>\n",
       "      <td>NONE</td>\n",
       "      <td>54.0</td>\n",
       "      <td>5d36574f52495e81f019b680c843c443bd343d5ca5b1c2...</td>\n",
       "    </tr>\n",
       "    <tr>\n",
       "      <th>4</th>\n",
       "      <td>-283965518499174310</td>\n",
       "      <td>1.0</td>\n",
       "      <td>1.0</td>\n",
       "      <td>ACTIVE</td>\n",
       "      <td>Regularly</td>\n",
       "      <td>52.0</td>\n",
       "      <td>25fa5ddee9aac01b35208d01736e57942317d756b32ddd...</td>\n",
       "    </tr>\n",
       "  </tbody>\n",
       "</table>\n",
       "</div>"
      ],
      "text/plain": [
       "           customer_id   FN  Active club_member_status fashion_news_frequency  \\\n",
       "0  6883939031699146327  NaN     NaN             ACTIVE                   NONE   \n",
       "1 -7200416642310594310  NaN     NaN             ACTIVE                   NONE   \n",
       "2    -6846340800584936  NaN     NaN             ACTIVE                   NONE   \n",
       "3   -94071612138601410  NaN     NaN             ACTIVE                   NONE   \n",
       "4  -283965518499174310  1.0     1.0             ACTIVE              Regularly   \n",
       "\n",
       "    age                                        postal_code  \n",
       "0  49.0  52043ee2162cf5aa7ee79974281641c6f11a68d276429a...  \n",
       "1  25.0  2973abc54daa8a5f8ccfe9362140c63247c5eee03f1d93...  \n",
       "2  24.0  64f17e6a330a85798e4998f62d0930d14db8db1c054af6...  \n",
       "3  54.0  5d36574f52495e81f019b680c843c443bd343d5ca5b1c2...  \n",
       "4  52.0  25fa5ddee9aac01b35208d01736e57942317d756b32ddd...  "
      ]
     },
     "execution_count": 61,
     "metadata": {},
     "output_type": "execute_result"
    }
   ],
   "source": [
    "customers = pd.read_csv(path + 'customers.csv')\n",
    "customers['customer_id'] = customers['customer_id'].apply(lambda x: int(x[-16:],16) ).astype('int64')\n",
    "customers.head()"
   ]
  },
  {
   "cell_type": "code",
   "execution_count": 62,
   "id": "bb12ae3b",
   "metadata": {
    "execution": {
     "iopub.execute_input": "2022-03-15T16:12:46.550333Z",
     "iopub.status.busy": "2022-03-15T16:12:46.549667Z",
     "iopub.status.idle": "2022-03-15T16:12:46.584860Z",
     "shell.execute_reply": "2022-03-15T16:12:46.584335Z",
     "shell.execute_reply.started": "2022-03-15T16:01:56.116649Z"
    },
    "papermill": {
     "duration": 0.089757,
     "end_time": "2022-03-15T16:12:46.585025",
     "exception": false,
     "start_time": "2022-03-15T16:12:46.495268",
     "status": "completed"
    },
    "tags": []
   },
   "outputs": [
    {
     "data": {
      "text/html": [
       "<div>\n",
       "<style scoped>\n",
       "    .dataframe tbody tr th:only-of-type {\n",
       "        vertical-align: middle;\n",
       "    }\n",
       "\n",
       "    .dataframe tbody tr th {\n",
       "        vertical-align: top;\n",
       "    }\n",
       "\n",
       "    .dataframe thead th {\n",
       "        text-align: right;\n",
       "    }\n",
       "</style>\n",
       "<table border=\"1\" class=\"dataframe\">\n",
       "  <thead>\n",
       "    <tr style=\"text-align: right;\">\n",
       "      <th></th>\n",
       "      <th>customer_id</th>\n",
       "      <th>age</th>\n",
       "    </tr>\n",
       "  </thead>\n",
       "  <tbody>\n",
       "    <tr>\n",
       "      <th>0</th>\n",
       "      <td>6883939031699146327</td>\n",
       "      <td>49.0</td>\n",
       "    </tr>\n",
       "    <tr>\n",
       "      <th>1</th>\n",
       "      <td>-7200416642310594310</td>\n",
       "      <td>25.0</td>\n",
       "    </tr>\n",
       "    <tr>\n",
       "      <th>2</th>\n",
       "      <td>-6846340800584936</td>\n",
       "      <td>24.0</td>\n",
       "    </tr>\n",
       "    <tr>\n",
       "      <th>3</th>\n",
       "      <td>-94071612138601410</td>\n",
       "      <td>54.0</td>\n",
       "    </tr>\n",
       "    <tr>\n",
       "      <th>4</th>\n",
       "      <td>-283965518499174310</td>\n",
       "      <td>52.0</td>\n",
       "    </tr>\n",
       "  </tbody>\n",
       "</table>\n",
       "</div>"
      ],
      "text/plain": [
       "           customer_id   age\n",
       "0  6883939031699146327  49.0\n",
       "1 -7200416642310594310  25.0\n",
       "2    -6846340800584936  24.0\n",
       "3   -94071612138601410  54.0\n",
       "4  -283965518499174310  52.0"
      ]
     },
     "execution_count": 62,
     "metadata": {},
     "output_type": "execute_result"
    }
   ],
   "source": [
    "customers = customers[['customer_id','age']]\n",
    "customers.head()"
   ]
  },
  {
   "cell_type": "code",
   "execution_count": 63,
   "id": "678fb25f",
   "metadata": {
    "execution": {
     "iopub.execute_input": "2022-03-15T16:12:46.694311Z",
     "iopub.status.busy": "2022-03-15T16:12:46.693622Z",
     "iopub.status.idle": "2022-03-15T16:12:46.759808Z",
     "shell.execute_reply": "2022-03-15T16:12:46.759124Z",
     "shell.execute_reply.started": "2022-03-15T16:01:56.172643Z"
    },
    "papermill": {
     "duration": 0.126149,
     "end_time": "2022-03-15T16:12:46.759955",
     "exception": false,
     "start_time": "2022-03-15T16:12:46.633806",
     "status": "completed"
    },
    "tags": []
   },
   "outputs": [
    {
     "data": {
      "text/html": [
       "<div>\n",
       "<style scoped>\n",
       "    .dataframe tbody tr th:only-of-type {\n",
       "        vertical-align: middle;\n",
       "    }\n",
       "\n",
       "    .dataframe tbody tr th {\n",
       "        vertical-align: top;\n",
       "    }\n",
       "\n",
       "    .dataframe thead th {\n",
       "        text-align: right;\n",
       "    }\n",
       "</style>\n",
       "<table border=\"1\" class=\"dataframe\">\n",
       "  <thead>\n",
       "    <tr style=\"text-align: right;\">\n",
       "      <th></th>\n",
       "      <th>customer_id</th>\n",
       "      <th>age</th>\n",
       "    </tr>\n",
       "  </thead>\n",
       "  <tbody>\n",
       "    <tr>\n",
       "      <th>count</th>\n",
       "      <td>1.371980e+06</td>\n",
       "      <td>1.356119e+06</td>\n",
       "    </tr>\n",
       "    <tr>\n",
       "      <th>mean</th>\n",
       "      <td>-8.899354e+15</td>\n",
       "      <td>3.638696e+01</td>\n",
       "    </tr>\n",
       "    <tr>\n",
       "      <th>std</th>\n",
       "      <td>5.326640e+18</td>\n",
       "      <td>1.431363e+01</td>\n",
       "    </tr>\n",
       "    <tr>\n",
       "      <th>min</th>\n",
       "      <td>-9.223353e+18</td>\n",
       "      <td>1.600000e+01</td>\n",
       "    </tr>\n",
       "    <tr>\n",
       "      <th>25%</th>\n",
       "      <td>-4.624561e+18</td>\n",
       "      <td>2.400000e+01</td>\n",
       "    </tr>\n",
       "    <tr>\n",
       "      <th>50%</th>\n",
       "      <td>-1.147651e+16</td>\n",
       "      <td>3.200000e+01</td>\n",
       "    </tr>\n",
       "    <tr>\n",
       "      <th>75%</th>\n",
       "      <td>4.602000e+18</td>\n",
       "      <td>4.900000e+01</td>\n",
       "    </tr>\n",
       "    <tr>\n",
       "      <th>max</th>\n",
       "      <td>9.223371e+18</td>\n",
       "      <td>9.900000e+01</td>\n",
       "    </tr>\n",
       "  </tbody>\n",
       "</table>\n",
       "</div>"
      ],
      "text/plain": [
       "        customer_id           age\n",
       "count  1.371980e+06  1.356119e+06\n",
       "mean  -8.899354e+15  3.638696e+01\n",
       "std    5.326640e+18  1.431363e+01\n",
       "min   -9.223353e+18  1.600000e+01\n",
       "25%   -4.624561e+18  2.400000e+01\n",
       "50%   -1.147651e+16  3.200000e+01\n",
       "75%    4.602000e+18  4.900000e+01\n",
       "max    9.223371e+18  9.900000e+01"
      ]
     },
     "execution_count": 63,
     "metadata": {},
     "output_type": "execute_result"
    }
   ],
   "source": [
    "customers.describe()"
   ]
  },
  {
   "cell_type": "code",
   "execution_count": 64,
   "id": "7a881cb0",
   "metadata": {
    "execution": {
     "iopub.execute_input": "2022-03-15T16:12:46.863901Z",
     "iopub.status.busy": "2022-03-15T16:12:46.863207Z",
     "iopub.status.idle": "2022-03-15T16:12:47.691432Z",
     "shell.execute_reply": "2022-03-15T16:12:47.690817Z",
     "shell.execute_reply.started": "2022-03-15T16:01:58.542106Z"
    },
    "papermill": {
     "duration": 0.882444,
     "end_time": "2022-03-15T16:12:47.691578",
     "exception": false,
     "start_time": "2022-03-15T16:12:46.809134",
     "status": "completed"
    },
    "tags": []
   },
   "outputs": [],
   "source": [
    "# 年齢がないものは0歳としておく (''だと後からintにcastできないため)\n",
    "train_data = pd.merge(train_data, customers, on='customer_id', how='left').fillna('0')"
   ]
  },
  {
   "cell_type": "code",
   "execution_count": 65,
   "id": "5af89dd5",
   "metadata": {
    "execution": {
     "iopub.execute_input": "2022-03-15T16:12:47.797141Z",
     "iopub.status.busy": "2022-03-15T16:12:47.796339Z",
     "iopub.status.idle": "2022-03-15T16:12:47.799537Z",
     "shell.execute_reply": "2022-03-15T16:12:47.800021Z",
     "shell.execute_reply.started": "2022-03-15T16:01:59.968199Z"
    },
    "papermill": {
     "duration": 0.05933,
     "end_time": "2022-03-15T16:12:47.800184",
     "exception": false,
     "start_time": "2022-03-15T16:12:47.740854",
     "status": "completed"
    },
    "tags": []
   },
   "outputs": [
    {
     "data": {
      "text/plain": [
       "t_dat                object\n",
       "customer_id           int64\n",
       "article_id            int32\n",
       "price               float64\n",
       "sales_channel_id      int64\n",
       "age                  object\n",
       "dtype: object"
      ]
     },
     "execution_count": 65,
     "metadata": {},
     "output_type": "execute_result"
    }
   ],
   "source": [
    "train_data.dtypes"
   ]
  },
  {
   "cell_type": "code",
   "execution_count": 66,
   "id": "c2ee38d3",
   "metadata": {
    "execution": {
     "iopub.execute_input": "2022-03-15T16:12:47.932157Z",
     "iopub.status.busy": "2022-03-15T16:12:47.931442Z",
     "iopub.status.idle": "2022-03-15T16:12:47.934662Z",
     "shell.execute_reply": "2022-03-15T16:12:47.934177Z",
     "shell.execute_reply.started": "2022-03-15T16:02:00.143755Z"
    },
    "papermill": {
     "duration": 0.084921,
     "end_time": "2022-03-15T16:12:47.934799",
     "exception": false,
     "start_time": "2022-03-15T16:12:47.849878",
     "status": "completed"
    },
    "tags": []
   },
   "outputs": [
    {
     "data": {
      "text/plain": [
       "21.0    3456\n",
       "25.0    3290\n",
       "23.0    3118\n",
       "24.0    3034\n",
       "22.0    2879\n",
       "        ... \n",
       "85.0       9\n",
       "80.0       7\n",
       "91.0       5\n",
       "88.0       3\n",
       "83.0       2\n",
       "Name: age, Length: 72, dtype: int64"
      ]
     },
     "execution_count": 66,
     "metadata": {},
     "output_type": "execute_result"
    }
   ],
   "source": [
    "train_data['age'].value_counts()"
   ]
  },
  {
   "cell_type": "code",
   "execution_count": 67,
   "id": "0a689ca6",
   "metadata": {
    "execution": {
     "iopub.execute_input": "2022-03-15T16:12:48.063950Z",
     "iopub.status.busy": "2022-03-15T16:12:48.037634Z",
     "iopub.status.idle": "2022-03-15T16:12:48.076947Z",
     "shell.execute_reply": "2022-03-15T16:12:48.076266Z",
     "shell.execute_reply.started": "2022-03-15T16:02:02.413278Z"
    },
    "papermill": {
     "duration": 0.092283,
     "end_time": "2022-03-15T16:12:48.077109",
     "exception": false,
     "start_time": "2022-03-15T16:12:47.984826",
     "status": "completed"
    },
    "tags": []
   },
   "outputs": [
    {
     "data": {
      "text/plain": [
       "t_dat                object\n",
       "customer_id           int64\n",
       "article_id            int32\n",
       "price               float64\n",
       "sales_channel_id      int64\n",
       "age                   int32\n",
       "dtype: object"
      ]
     },
     "execution_count": 67,
     "metadata": {},
     "output_type": "execute_result"
    }
   ],
   "source": [
    "train_data['age'] = train_data['age'].astype('int32')\n",
    "train_data.dtypes"
   ]
  },
  {
   "cell_type": "markdown",
   "id": "5c555b4a",
   "metadata": {
    "papermill": {
     "duration": 0.050119,
     "end_time": "2022-03-15T16:12:48.178453",
     "exception": false,
     "start_time": "2022-03-15T16:12:48.128334",
     "status": "completed"
    },
    "tags": []
   },
   "source": [
    "### 単純なランキングから上位50件を取ってくる"
   ]
  },
  {
   "cell_type": "code",
   "execution_count": 68,
   "id": "21c5b868",
   "metadata": {
    "execution": {
     "iopub.execute_input": "2022-03-15T16:12:48.507187Z",
     "iopub.status.busy": "2022-03-15T16:12:48.506504Z",
     "iopub.status.idle": "2022-03-15T16:12:48.649337Z",
     "shell.execute_reply": "2022-03-15T16:12:48.649843Z",
     "shell.execute_reply.started": "2022-03-15T16:02:11.530001Z"
    },
    "papermill": {
     "duration": 0.200519,
     "end_time": "2022-03-15T16:12:48.650038",
     "exception": false,
     "start_time": "2022-03-15T16:12:48.449519",
     "status": "completed"
    },
    "tags": []
   },
   "outputs": [],
   "source": [
    "# -30, 30-40, 40-50, 50- old\n",
    "# -30, 30-50, 50- new\n",
    "train_sort_30 = train_data.query('age < 30').groupby('article_id', as_index=False).count().sort_values('customer_id', ascending=False)\n",
    "train_sort_50 = train_data.query('30 <= age and age < 50').groupby('article_id', as_index=False).count().sort_values('customer_id', ascending=False)\n",
    "train_sort_60 = train_data.query('50 <= age').groupby('article_id', as_index=False).count().sort_values('customer_id', ascending=False)"
   ]
  },
  {
   "cell_type": "code",
   "execution_count": 69,
   "id": "d23f76a2",
   "metadata": {
    "execution": {
     "iopub.execute_input": "2022-03-15T16:12:48.758401Z",
     "iopub.status.busy": "2022-03-15T16:12:48.757614Z",
     "iopub.status.idle": "2022-03-15T16:12:48.760677Z",
     "shell.execute_reply": "2022-03-15T16:12:48.760042Z",
     "shell.execute_reply.started": "2022-03-15T16:02:12.926689Z"
    },
    "papermill": {
     "duration": 0.059039,
     "end_time": "2022-03-15T16:12:48.760816",
     "exception": false,
     "start_time": "2022-03-15T16:12:48.701777",
     "status": "completed"
    },
    "tags": []
   },
   "outputs": [],
   "source": [
    "#popular_list = train_sort.head(100)['article_id'].tolist()"
   ]
  },
  {
   "cell_type": "code",
   "execution_count": 70,
   "id": "0d46c804",
   "metadata": {
    "execution": {
     "iopub.execute_input": "2022-03-15T16:12:48.866255Z",
     "iopub.status.busy": "2022-03-15T16:12:48.865588Z",
     "iopub.status.idle": "2022-03-15T16:12:48.868508Z",
     "shell.execute_reply": "2022-03-15T16:12:48.868015Z",
     "shell.execute_reply.started": "2022-03-15T16:02:13.055629Z"
    },
    "papermill": {
     "duration": 0.056982,
     "end_time": "2022-03-15T16:12:48.868644",
     "exception": false,
     "start_time": "2022-03-15T16:12:48.811662",
     "status": "completed"
    },
    "tags": []
   },
   "outputs": [],
   "source": [
    "#popular_list_under40 = train_sort_under40.head(100)['article_id'].tolist()\n",
    "#popular_list_over40 = train_sort_over40.head(100)['article_id'].tolist()"
   ]
  },
  {
   "cell_type": "code",
   "execution_count": 71,
   "id": "1a4c6668",
   "metadata": {
    "execution": {
     "iopub.execute_input": "2022-03-15T16:12:48.997535Z",
     "iopub.status.busy": "2022-03-15T16:12:48.996864Z",
     "iopub.status.idle": "2022-03-15T16:12:49.000457Z",
     "shell.execute_reply": "2022-03-15T16:12:48.999860Z",
     "shell.execute_reply.started": "2022-03-15T16:02:15.567953Z"
    },
    "papermill": {
     "duration": 0.068111,
     "end_time": "2022-03-15T16:12:49.000609",
     "exception": false,
     "start_time": "2022-03-15T16:12:48.932498",
     "status": "completed"
    },
    "tags": []
   },
   "outputs": [],
   "source": [
    "popular_list_30 = train_sort_30.head(topk)['article_id'].tolist()\n",
    "popular_list_50 = train_sort_50.head(topk)['article_id'].tolist()\n",
    "popular_list_60 = train_sort_60.head(topk)['article_id'].tolist()"
   ]
  },
  {
   "cell_type": "markdown",
   "id": "ef53c201",
   "metadata": {
    "papermill": {
     "duration": 0.057654,
     "end_time": "2022-03-15T16:12:49.111597",
     "exception": false,
     "start_time": "2022-03-15T16:12:49.053943",
     "status": "completed"
    },
    "tags": []
   },
   "source": [
    "### Visualize"
   ]
  },
  {
   "cell_type": "code",
   "execution_count": 72,
   "id": "c5731572",
   "metadata": {
    "execution": {
     "iopub.execute_input": "2022-03-15T16:12:49.227663Z",
     "iopub.status.busy": "2022-03-15T16:12:49.226765Z",
     "iopub.status.idle": "2022-03-15T16:12:53.785841Z",
     "shell.execute_reply": "2022-03-15T16:12:53.785045Z",
     "shell.execute_reply.started": "2022-03-15T16:02:18.55398Z"
    },
    "papermill": {
     "duration": 4.622571,
     "end_time": "2022-03-15T16:12:53.786017",
     "exception": false,
     "start_time": "2022-03-15T16:12:49.163446",
     "status": "completed"
    },
    "tags": []
   },
   "outputs": [
    {
     "data": {
      "image/png": "[encoded data removed]",
      "text/plain": [
       "<Figure size 720x360 with 2 Axes>"
      ]
     },
     "metadata": {},
     "output_type": "display_data"
    }
   ],
   "source": [
    "# 30\n",
    "import seaborn as sns\n",
    "from matplotlib import pyplot as plt\n",
    "sns.set_style(\"darkgrid\")\n",
    "f, ax = plt.subplots(figsize=(10,5))\n",
    "ax = sns.histplot(data=train_sort_30, x='customer_id', bins=200, color='orange')\n",
    "ax.set_xlabel('Distribution')\n",
    "plt.yscale('log')\n",
    "plt.xlim(0, 50)\n",
    "\n",
    "\n",
    "# ヒストグラムプロットとビン情報の取得\n",
    "#n, bins, patches = ax.hist(dt, alpha=0.7, label='Frequency')\n",
    "n, bins, patches = ax.hist(data=train_sort_30, x='customer_id', bins=700, color='orange')\n",
    "\n",
    "# 第2軸用値の算出\n",
    "y2 = np.add.accumulate(n) / n.sum()\n",
    "x2 = np.convolve(bins, np.ones(2) / 2, mode=\"same\")[1:]\n",
    "# 第2軸のプロット\n",
    "ax2 = ax.twinx()\n",
    "lines = ax2.plot(x2, y2, ls='--', color='r', marker='o',\n",
    "         label='Cumulative ratio')\n",
    "ax2.grid(visible=False)\n",
    "\n",
    "plt.show()"
   ]
  },
  {
   "cell_type": "code",
   "execution_count": 73,
   "id": "17e1166e",
   "metadata": {
    "execution": {
     "iopub.execute_input": "2022-03-15T16:12:57.371967Z",
     "iopub.status.busy": "2022-03-15T16:12:57.371016Z",
     "iopub.status.idle": "2022-03-15T16:13:00.070117Z",
     "shell.execute_reply": "2022-03-15T16:13:00.070766Z",
     "shell.execute_reply.started": "2022-03-15T16:02:27.27148Z"
    },
    "papermill": {
     "duration": 2.756307,
     "end_time": "2022-03-15T16:13:00.070947",
     "exception": false,
     "start_time": "2022-03-15T16:12:57.314640",
     "status": "completed"
    },
    "tags": []
   },
   "outputs": [
    {
     "data": {
      "image/png": "[encoded data removed]",
      "text/plain": [
       "<Figure size 720x360 with 2 Axes>"
      ]
     },
     "metadata": {},
     "output_type": "display_data"
    }
   ],
   "source": [
    "# 30 - 50\n",
    "\n",
    "sns.set_style(\"darkgrid\")\n",
    "f, ax = plt.subplots(figsize=(10,5))\n",
    "ax = sns.histplot(data=train_sort_50, x='customer_id', bins=100, color='orange')\n",
    "ax.set_xlabel('Distribution')\n",
    "plt.yscale('log')\n",
    "plt.xlim(0, 50)\n",
    "\n",
    "\n",
    "# ヒストグラムプロットとビン情報の取得\n",
    "#n, bins, patches = ax.hist(dt, alpha=0.7, label='Frequency')\n",
    "n, bins, patches = ax.hist(data=train_sort_50, x='customer_id', bins=500, color='orange')\n",
    "\n",
    "# 第2軸用値の算出\n",
    "y2 = np.add.accumulate(n) / n.sum()\n",
    "x2 = np.convolve(bins, np.ones(2) / 2, mode=\"same\")[1:]\n",
    "# 第2軸のプロット\n",
    "ax2 = ax.twinx()\n",
    "lines = ax2.plot(x2, y2, ls='--', color='r', marker='o',\n",
    "         label='Cumulative ratio')\n",
    "ax2.grid(visible=False)\n",
    "\n",
    "plt.show()"
   ]
  },
  {
   "cell_type": "code",
   "execution_count": 74,
   "id": "530854ae",
   "metadata": {
    "execution": {
     "iopub.execute_input": "2022-03-15T16:13:00.184731Z",
     "iopub.status.busy": "2022-03-15T16:13:00.183737Z",
     "iopub.status.idle": "2022-03-15T16:13:02.930193Z",
     "shell.execute_reply": "2022-03-15T16:13:02.930679Z",
     "shell.execute_reply.started": "2022-03-15T16:02:30.392268Z"
    },
    "papermill": {
     "duration": 2.803612,
     "end_time": "2022-03-15T16:13:02.930858",
     "exception": false,
     "start_time": "2022-03-15T16:13:00.127246",
     "status": "completed"
    },
    "tags": []
   },
   "outputs": [
    {
     "data": {
      "image/png": "[encoded data removed]",
      "text/plain": [
       "<Figure size 720x360 with 2 Axes>"
      ]
     },
     "metadata": {},
     "output_type": "display_data"
    }
   ],
   "source": [
    "# 50 - \n",
    "\n",
    "sns.set_style(\"darkgrid\")\n",
    "f, ax = plt.subplots(figsize=(10,5))\n",
    "ax = sns.histplot(data=train_sort_60, x='customer_id', bins=100, color='orange')\n",
    "ax.set_xlabel('Distribution')\n",
    "plt.yscale('log')\n",
    "plt.xlim(0, 50)\n",
    "\n",
    "\n",
    "# ヒストグラムプロットとビン情報の取得\n",
    "#n, bins, patches = ax.hist(dt, alpha=0.7, label='Frequency')\n",
    "n, bins, patches = ax.hist(data=train_sort_60, x='customer_id', bins=500, color='orange')\n",
    "\n",
    "# 第2軸用値の算出\n",
    "y2 = np.add.accumulate(n) / n.sum()\n",
    "x2 = np.convolve(bins, np.ones(2) / 2, mode=\"same\")[1:]\n",
    "# 第2軸のプロット\n",
    "ax2 = ax.twinx()\n",
    "lines = ax2.plot(x2, y2, ls='--', color='r', marker='o',\n",
    "         label='Cumulative ratio')\n",
    "ax2.grid(visible=False)\n",
    "\n",
    "plt.show()"
   ]
  },
  {
   "cell_type": "markdown",
   "id": "8df20995",
   "metadata": {
    "papermill": {
     "duration": 0.055123,
     "end_time": "2022-03-15T16:13:03.040652",
     "exception": false,
     "start_time": "2022-03-15T16:13:02.985529",
     "status": "completed"
    },
    "tags": []
   },
   "source": [
    "### Popular list"
   ]
  },
  {
   "cell_type": "code",
   "execution_count": 75,
   "id": "2098c479",
   "metadata": {
    "execution": {
     "iopub.execute_input": "2022-03-15T16:13:03.274582Z",
     "iopub.status.busy": "2022-03-15T16:13:03.273598Z",
     "iopub.status.idle": "2022-03-15T16:13:03.280536Z",
     "shell.execute_reply": "2022-03-15T16:13:03.281065Z",
     "shell.execute_reply.started": "2022-03-15T16:02:33.486587Z"
    },
    "papermill": {
     "duration": 0.065539,
     "end_time": "2022-03-15T16:13:03.281239",
     "exception": false,
     "start_time": "2022-03-15T16:13:03.215700",
     "status": "completed"
    },
    "tags": []
   },
   "outputs": [
    {
     "name": "stdout",
     "output_type": "stream",
     "text": [
      "ratio= 0.07\n",
      "ratio 50= 0.23333333333333334\n"
     ]
    }
   ],
   "source": [
    "cnt=0\n",
    "for i in popular_list_30:\n",
    "    if i in popular_list_60:\n",
    "        cnt+= 1\n",
    "print('ratio=', cnt/100)\n",
    "\n",
    "cnt=0\n",
    "for i in popular_list_30[:30]:\n",
    "    if i in popular_list_60[:30]:\n",
    "        cnt+= 1\n",
    "print('ratio 50=', cnt/30)"
   ]
  },
  {
   "cell_type": "code",
   "execution_count": 76,
   "id": "e691531f",
   "metadata": {
    "execution": {
     "iopub.execute_input": "2022-03-15T16:13:03.397865Z",
     "iopub.status.busy": "2022-03-15T16:13:03.396853Z",
     "iopub.status.idle": "2022-03-15T16:13:03.401940Z",
     "shell.execute_reply": "2022-03-15T16:13:03.402435Z",
     "shell.execute_reply.started": "2022-03-15T16:02:33.502393Z"
    },
    "papermill": {
     "duration": 0.065082,
     "end_time": "2022-03-15T16:13:03.402622",
     "exception": false,
     "start_time": "2022-03-15T16:13:03.337540",
     "status": "completed"
    },
    "tags": []
   },
   "outputs": [],
   "source": [
    "popular_str_30 = [str(i) for i in popular_list_30]\n",
    "popular_str_50 = [str(i) for i in popular_list_50]\n",
    "popular_str_60 = [str(i) for i in popular_list_60]"
   ]
  },
  {
   "cell_type": "code",
   "execution_count": 77,
   "id": "a837269f",
   "metadata": {
    "execution": {
     "iopub.execute_input": "2022-03-15T16:13:03.519714Z",
     "iopub.status.busy": "2022-03-15T16:13:03.518642Z",
     "iopub.status.idle": "2022-03-15T16:13:03.522839Z",
     "shell.execute_reply": "2022-03-15T16:13:03.523327Z",
     "shell.execute_reply.started": "2022-03-15T16:02:33.515624Z"
    },
    "papermill": {
     "duration": 0.064612,
     "end_time": "2022-03-15T16:13:03.523530",
     "exception": false,
     "start_time": "2022-03-15T16:13:03.458918",
     "status": "completed"
    },
    "tags": []
   },
   "outputs": [],
   "source": [
    "join_popular_30 = ' '.join(popular_str_30)\n",
    "join_popular_50 = ' '.join(popular_str_50)\n",
    "join_popular_60 = ' '.join(popular_str_60)"
   ]
  },
  {
   "cell_type": "code",
   "execution_count": 78,
   "id": "6514db0c",
   "metadata": {
    "execution": {
     "iopub.execute_input": "2022-03-15T16:13:03.640210Z",
     "iopub.status.busy": "2022-03-15T16:13:03.639204Z",
     "iopub.status.idle": "2022-03-15T16:13:03.644186Z",
     "shell.execute_reply": "2022-03-15T16:13:03.644638Z",
     "shell.execute_reply.started": "2022-03-15T16:02:33.53005Z"
    },
    "papermill": {
     "duration": 0.064902,
     "end_time": "2022-03-15T16:13:03.644806",
     "exception": false,
     "start_time": "2022-03-15T16:13:03.579904",
     "status": "completed"
    },
    "tags": []
   },
   "outputs": [
    {
     "data": {
      "text/plain": [
       "'916468001 915526001 372860001 918292001 714790020 916468002 762846031 915526002 751471001 372860002 456163060 821395005 918292004 673677002 156231001 568601006 892309001 456163086 850917001 898694001 863595006 914441003 898713001 706016001 929165002 898692003 800691008 556539001 896152001 685814003'"
      ]
     },
     "execution_count": 78,
     "metadata": {},
     "output_type": "execute_result"
    }
   ],
   "source": [
    "join_popular_30"
   ]
  },
  {
   "cell_type": "code",
   "execution_count": 79,
   "id": "ec345212",
   "metadata": {
    "execution": {
     "iopub.execute_input": "2022-03-15T16:13:03.763109Z",
     "iopub.status.busy": "2022-03-15T16:13:03.762091Z",
     "iopub.status.idle": "2022-03-15T16:13:05.776863Z",
     "shell.execute_reply": "2022-03-15T16:13:05.777500Z",
     "shell.execute_reply.started": "2022-03-15T16:02:33.552946Z"
    },
    "papermill": {
     "duration": 2.075571,
     "end_time": "2022-03-15T16:13:05.777689",
     "exception": false,
     "start_time": "2022-03-15T16:13:03.702118",
     "status": "completed"
    },
    "tags": []
   },
   "outputs": [],
   "source": [
    "# subにcustomerをjoin\n",
    "sub2 =  pd.merge(sub, customers, on='customer_id', how='left').fillna('0')\n",
    "sub2['age'] = sub2['age'].astype('int32')"
   ]
  },
  {
   "cell_type": "code",
   "execution_count": 80,
   "id": "63f2f6d8",
   "metadata": {
    "execution": {
     "iopub.execute_input": "2022-03-15T16:13:05.895906Z",
     "iopub.status.busy": "2022-03-15T16:13:05.894875Z",
     "iopub.status.idle": "2022-03-15T16:13:05.906341Z",
     "shell.execute_reply": "2022-03-15T16:13:05.906920Z",
     "shell.execute_reply.started": "2022-03-15T16:02:36.270701Z"
    },
    "papermill": {
     "duration": 0.071957,
     "end_time": "2022-03-15T16:13:05.907108",
     "exception": false,
     "start_time": "2022-03-15T16:13:05.835151",
     "status": "completed"
    },
    "tags": []
   },
   "outputs": [
    {
     "data": {
      "text/html": [
       "<div>\n",
       "<style scoped>\n",
       "    .dataframe tbody tr th:only-of-type {\n",
       "        vertical-align: middle;\n",
       "    }\n",
       "\n",
       "    .dataframe tbody tr th {\n",
       "        vertical-align: top;\n",
       "    }\n",
       "\n",
       "    .dataframe thead th {\n",
       "        text-align: right;\n",
       "    }\n",
       "</style>\n",
       "<table border=\"1\" class=\"dataframe\">\n",
       "  <thead>\n",
       "    <tr style=\"text-align: right;\">\n",
       "      <th></th>\n",
       "      <th>customer_id</th>\n",
       "      <th>age</th>\n",
       "    </tr>\n",
       "  </thead>\n",
       "  <tbody>\n",
       "    <tr>\n",
       "      <th>0</th>\n",
       "      <td>6883939031699146327</td>\n",
       "      <td>49</td>\n",
       "    </tr>\n",
       "    <tr>\n",
       "      <th>1</th>\n",
       "      <td>-7200416642310594310</td>\n",
       "      <td>25</td>\n",
       "    </tr>\n",
       "    <tr>\n",
       "      <th>2</th>\n",
       "      <td>-6846340800584936</td>\n",
       "      <td>24</td>\n",
       "    </tr>\n",
       "    <tr>\n",
       "      <th>3</th>\n",
       "      <td>-94071612138601410</td>\n",
       "      <td>54</td>\n",
       "    </tr>\n",
       "    <tr>\n",
       "      <th>4</th>\n",
       "      <td>-283965518499174310</td>\n",
       "      <td>52</td>\n",
       "    </tr>\n",
       "    <tr>\n",
       "      <th>...</th>\n",
       "      <td>...</td>\n",
       "      <td>...</td>\n",
       "    </tr>\n",
       "    <tr>\n",
       "      <th>1371975</th>\n",
       "      <td>7551062398649767985</td>\n",
       "      <td>24</td>\n",
       "    </tr>\n",
       "    <tr>\n",
       "      <th>1371976</th>\n",
       "      <td>-9141402131989464905</td>\n",
       "      <td>21</td>\n",
       "    </tr>\n",
       "    <tr>\n",
       "      <th>1371977</th>\n",
       "      <td>-8286316756823862684</td>\n",
       "      <td>21</td>\n",
       "    </tr>\n",
       "    <tr>\n",
       "      <th>1371978</th>\n",
       "      <td>2551401172826382186</td>\n",
       "      <td>18</td>\n",
       "    </tr>\n",
       "    <tr>\n",
       "      <th>1371979</th>\n",
       "      <td>-1516792180973952447</td>\n",
       "      <td>65</td>\n",
       "    </tr>\n",
       "  </tbody>\n",
       "</table>\n",
       "<p>1371980 rows × 2 columns</p>\n",
       "</div>"
      ],
      "text/plain": [
       "                 customer_id  age\n",
       "0        6883939031699146327   49\n",
       "1       -7200416642310594310   25\n",
       "2          -6846340800584936   24\n",
       "3         -94071612138601410   54\n",
       "4        -283965518499174310   52\n",
       "...                      ...  ...\n",
       "1371975  7551062398649767985   24\n",
       "1371976 -9141402131989464905   21\n",
       "1371977 -8286316756823862684   21\n",
       "1371978  2551401172826382186   18\n",
       "1371979 -1516792180973952447   65\n",
       "\n",
       "[1371980 rows x 2 columns]"
      ]
     },
     "execution_count": 80,
     "metadata": {},
     "output_type": "execute_result"
    }
   ],
   "source": [
    "sub2"
   ]
  },
  {
   "cell_type": "code",
   "execution_count": 81,
   "id": "5e302d1b",
   "metadata": {
    "execution": {
     "iopub.execute_input": "2022-03-15T16:13:06.028454Z",
     "iopub.status.busy": "2022-03-15T16:13:06.026757Z",
     "iopub.status.idle": "2022-03-15T16:13:06.170147Z",
     "shell.execute_reply": "2022-03-15T16:13:06.169440Z",
     "shell.execute_reply.started": "2022-03-15T16:02:36.289904Z"
    },
    "papermill": {
     "duration": 0.206183,
     "end_time": "2022-03-15T16:13:06.170302",
     "exception": false,
     "start_time": "2022-03-15T16:13:05.964119",
     "status": "completed"
    },
    "tags": []
   },
   "outputs": [],
   "source": [
    "sub2_30 = sub2.query('age < 30')\n",
    "sub2_50 = sub2.query('30 <= age and age < 50')\n",
    "sub2_60 = sub2.query('50 <= age')"
   ]
  },
  {
   "cell_type": "code",
   "execution_count": 82,
   "id": "b523b667",
   "metadata": {
    "execution": {
     "iopub.execute_input": "2022-03-15T16:13:06.289330Z",
     "iopub.status.busy": "2022-03-15T16:13:06.288655Z",
     "iopub.status.idle": "2022-03-15T16:13:06.300155Z",
     "shell.execute_reply": "2022-03-15T16:13:06.300703Z",
     "shell.execute_reply.started": "2022-03-15T16:02:36.499539Z"
    },
    "papermill": {
     "duration": 0.073473,
     "end_time": "2022-03-15T16:13:06.300871",
     "exception": false,
     "start_time": "2022-03-15T16:13:06.227398",
     "status": "completed"
    },
    "tags": []
   },
   "outputs": [
    {
     "name": "stderr",
     "output_type": "stream",
     "text": [
      "<ipython-input-82-002de98a161a>:1: SettingWithCopyWarning: \n",
      "A value is trying to be set on a copy of a slice from a DataFrame.\n",
      "Try using .loc[row_indexer,col_indexer] = value instead\n",
      "\n",
      "See the caveats in the documentation: https://pandas.pydata.org/pandas-docs/stable/user_guide/indexing.html#returning-a-view-versus-a-copy\n",
      "  sub2_30['prediction'] = join_popular_30\n",
      "<ipython-input-82-002de98a161a>:2: SettingWithCopyWarning: \n",
      "A value is trying to be set on a copy of a slice from a DataFrame.\n",
      "Try using .loc[row_indexer,col_indexer] = value instead\n",
      "\n",
      "See the caveats in the documentation: https://pandas.pydata.org/pandas-docs/stable/user_guide/indexing.html#returning-a-view-versus-a-copy\n",
      "  sub2_50['prediction'] = join_popular_50\n",
      "<ipython-input-82-002de98a161a>:3: SettingWithCopyWarning: \n",
      "A value is trying to be set on a copy of a slice from a DataFrame.\n",
      "Try using .loc[row_indexer,col_indexer] = value instead\n",
      "\n",
      "See the caveats in the documentation: https://pandas.pydata.org/pandas-docs/stable/user_guide/indexing.html#returning-a-view-versus-a-copy\n",
      "  sub2_60['prediction'] = join_popular_60\n"
     ]
    }
   ],
   "source": [
    "sub2_30['prediction'] = join_popular_30\n",
    "sub2_50['prediction'] = join_popular_50\n",
    "sub2_60['prediction'] = join_popular_60"
   ]
  },
  {
   "cell_type": "code",
   "execution_count": 83,
   "id": "0174789c",
   "metadata": {
    "execution": {
     "iopub.execute_input": "2022-03-15T16:13:06.425194Z",
     "iopub.status.busy": "2022-03-15T16:13:06.424498Z",
     "iopub.status.idle": "2022-03-15T16:13:06.597049Z",
     "shell.execute_reply": "2022-03-15T16:13:06.596415Z",
     "shell.execute_reply.started": "2022-03-15T16:02:36.524211Z"
    },
    "papermill": {
     "duration": 0.237732,
     "end_time": "2022-03-15T16:13:06.597191",
     "exception": false,
     "start_time": "2022-03-15T16:13:06.359459",
     "status": "completed"
    },
    "tags": []
   },
   "outputs": [
    {
     "name": "stderr",
     "output_type": "stream",
     "text": [
      "<ipython-input-83-7c0d680150d9>:1: FutureWarning: The frame.append method is deprecated and will be removed from pandas in a future version. Use pandas.concat instead.\n",
      "  sub = sub2_30.append(sub2_50, ignore_index=True)\n",
      "<ipython-input-83-7c0d680150d9>:2: FutureWarning: The frame.append method is deprecated and will be removed from pandas in a future version. Use pandas.concat instead.\n",
      "  sub = sub.append(sub2_60, ignore_index=True)\n"
     ]
    }
   ],
   "source": [
    "sub = sub2_30.append(sub2_50, ignore_index=True)\n",
    "sub = sub.append(sub2_60, ignore_index=True)"
   ]
  },
  {
   "cell_type": "code",
   "execution_count": 84,
   "id": "9e968051",
   "metadata": {
    "execution": {
     "iopub.execute_input": "2022-03-15T16:13:06.719855Z",
     "iopub.status.busy": "2022-03-15T16:13:06.718820Z",
     "iopub.status.idle": "2022-03-15T16:13:06.729547Z",
     "shell.execute_reply": "2022-03-15T16:13:06.730145Z",
     "shell.execute_reply.started": "2022-03-15T16:02:36.723191Z"
    },
    "papermill": {
     "duration": 0.075216,
     "end_time": "2022-03-15T16:13:06.730338",
     "exception": false,
     "start_time": "2022-03-15T16:13:06.655122",
     "status": "completed"
    },
    "tags": []
   },
   "outputs": [
    {
     "data": {
      "text/html": [
       "<div>\n",
       "<style scoped>\n",
       "    .dataframe tbody tr th:only-of-type {\n",
       "        vertical-align: middle;\n",
       "    }\n",
       "\n",
       "    .dataframe tbody tr th {\n",
       "        vertical-align: top;\n",
       "    }\n",
       "\n",
       "    .dataframe thead th {\n",
       "        text-align: right;\n",
       "    }\n",
       "</style>\n",
       "<table border=\"1\" class=\"dataframe\">\n",
       "  <thead>\n",
       "    <tr style=\"text-align: right;\">\n",
       "      <th></th>\n",
       "      <th>customer_id</th>\n",
       "      <th>age</th>\n",
       "      <th>prediction</th>\n",
       "    </tr>\n",
       "  </thead>\n",
       "  <tbody>\n",
       "    <tr>\n",
       "      <th>0</th>\n",
       "      <td>-7200416642310594310</td>\n",
       "      <td>25</td>\n",
       "      <td>916468001 915526001 372860001 918292001 714790...</td>\n",
       "    </tr>\n",
       "    <tr>\n",
       "      <th>1</th>\n",
       "      <td>-6846340800584936</td>\n",
       "      <td>24</td>\n",
       "      <td>916468001 915526001 372860001 918292001 714790...</td>\n",
       "    </tr>\n",
       "    <tr>\n",
       "      <th>2</th>\n",
       "      <td>-2477030216582433370</td>\n",
       "      <td>0</td>\n",
       "      <td>916468001 915526001 372860001 918292001 714790...</td>\n",
       "    </tr>\n",
       "    <tr>\n",
       "      <th>3</th>\n",
       "      <td>-3402710142238164438</td>\n",
       "      <td>20</td>\n",
       "      <td>916468001 915526001 372860001 918292001 714790...</td>\n",
       "    </tr>\n",
       "    <tr>\n",
       "      <th>4</th>\n",
       "      <td>5669685583838440396</td>\n",
       "      <td>20</td>\n",
       "      <td>916468001 915526001 372860001 918292001 714790...</td>\n",
       "    </tr>\n",
       "    <tr>\n",
       "      <th>...</th>\n",
       "      <td>...</td>\n",
       "      <td>...</td>\n",
       "      <td>...</td>\n",
       "    </tr>\n",
       "    <tr>\n",
       "      <th>1371975</th>\n",
       "      <td>8959640756044895752</td>\n",
       "      <td>55</td>\n",
       "      <td>751471043 762846031 884319003 896152002 865929...</td>\n",
       "    </tr>\n",
       "    <tr>\n",
       "      <th>1371976</th>\n",
       "      <td>8536186189414498976</td>\n",
       "      <td>53</td>\n",
       "      <td>751471043 762846031 884319003 896152002 865929...</td>\n",
       "    </tr>\n",
       "    <tr>\n",
       "      <th>1371977</th>\n",
       "      <td>-1244504865876165278</td>\n",
       "      <td>51</td>\n",
       "      <td>751471043 762846031 884319003 896152002 865929...</td>\n",
       "    </tr>\n",
       "    <tr>\n",
       "      <th>1371978</th>\n",
       "      <td>5823894334162843119</td>\n",
       "      <td>52</td>\n",
       "      <td>751471043 762846031 884319003 896152002 865929...</td>\n",
       "    </tr>\n",
       "    <tr>\n",
       "      <th>1371979</th>\n",
       "      <td>-1516792180973952447</td>\n",
       "      <td>65</td>\n",
       "      <td>751471043 762846031 884319003 896152002 865929...</td>\n",
       "    </tr>\n",
       "  </tbody>\n",
       "</table>\n",
       "<p>1371980 rows × 3 columns</p>\n",
       "</div>"
      ],
      "text/plain": [
       "                 customer_id  age  \\\n",
       "0       -7200416642310594310   25   \n",
       "1          -6846340800584936   24   \n",
       "2       -2477030216582433370    0   \n",
       "3       -3402710142238164438   20   \n",
       "4        5669685583838440396   20   \n",
       "...                      ...  ...   \n",
       "1371975  8959640756044895752   55   \n",
       "1371976  8536186189414498976   53   \n",
       "1371977 -1244504865876165278   51   \n",
       "1371978  5823894334162843119   52   \n",
       "1371979 -1516792180973952447   65   \n",
       "\n",
       "                                                prediction  \n",
       "0        916468001 915526001 372860001 918292001 714790...  \n",
       "1        916468001 915526001 372860001 918292001 714790...  \n",
       "2        916468001 915526001 372860001 918292001 714790...  \n",
       "3        916468001 915526001 372860001 918292001 714790...  \n",
       "4        916468001 915526001 372860001 918292001 714790...  \n",
       "...                                                    ...  \n",
       "1371975  751471043 762846031 884319003 896152002 865929...  \n",
       "1371976  751471043 762846031 884319003 896152002 865929...  \n",
       "1371977  751471043 762846031 884319003 896152002 865929...  \n",
       "1371978  751471043 762846031 884319003 896152002 865929...  \n",
       "1371979  751471043 762846031 884319003 896152002 865929...  \n",
       "\n",
       "[1371980 rows x 3 columns]"
      ]
     },
     "execution_count": 84,
     "metadata": {},
     "output_type": "execute_result"
    }
   ],
   "source": [
    "sub"
   ]
  },
  {
   "cell_type": "markdown",
   "id": "753bfbd4",
   "metadata": {
    "papermill": {
     "duration": 0.057916,
     "end_time": "2022-03-15T16:13:06.846503",
     "exception": false,
     "start_time": "2022-03-15T16:13:06.788587",
     "status": "completed"
    },
    "tags": []
   },
   "source": [
    "### Submit"
   ]
  },
  {
   "cell_type": "code",
   "execution_count": 85,
   "id": "e5a773bf",
   "metadata": {
    "execution": {
     "iopub.execute_input": "2022-03-15T16:13:06.968744Z",
     "iopub.status.busy": "2022-03-15T16:13:06.967680Z",
     "iopub.status.idle": "2022-03-15T16:13:06.973215Z",
     "shell.execute_reply": "2022-03-15T16:13:06.973740Z",
     "shell.execute_reply.started": "2022-03-15T16:03:59.350205Z"
    },
    "papermill": {
     "duration": 0.069247,
     "end_time": "2022-03-15T16:13:06.973921",
     "exception": false,
     "start_time": "2022-03-15T16:13:06.904674",
     "status": "completed"
    },
    "tags": []
   },
   "outputs": [
    {
     "name": "stdout",
     "output_type": "stream",
     "text": [
      "(1371980, 3)\n"
     ]
    }
   ],
   "source": [
    "print(sub.shape)"
   ]
  },
  {
   "cell_type": "code",
   "execution_count": 86,
   "id": "214fbb91",
   "metadata": {
    "execution": {
     "iopub.execute_input": "2022-03-15T16:13:07.100395Z",
     "iopub.status.busy": "2022-03-15T16:13:07.098837Z",
     "iopub.status.idle": "2022-03-15T16:13:07.273871Z",
     "shell.execute_reply": "2022-03-15T16:13:07.273313Z",
     "shell.execute_reply.started": "2022-03-15T16:04:01.160556Z"
    },
    "papermill": {
     "duration": 0.240378,
     "end_time": "2022-03-15T16:13:07.274038",
     "exception": false,
     "start_time": "2022-03-15T16:13:07.033660",
     "status": "completed"
    },
    "tags": []
   },
   "outputs": [
    {
     "data": {
      "text/html": [
       "<div>\n",
       "<style scoped>\n",
       "    .dataframe tbody tr th:only-of-type {\n",
       "        vertical-align: middle;\n",
       "    }\n",
       "\n",
       "    .dataframe tbody tr th {\n",
       "        vertical-align: top;\n",
       "    }\n",
       "\n",
       "    .dataframe thead th {\n",
       "        text-align: right;\n",
       "    }\n",
       "</style>\n",
       "<table border=\"1\" class=\"dataframe\">\n",
       "  <thead>\n",
       "    <tr style=\"text-align: right;\">\n",
       "      <th></th>\n",
       "      <th>customer_id</th>\n",
       "      <th>prediction</th>\n",
       "    </tr>\n",
       "  </thead>\n",
       "  <tbody>\n",
       "    <tr>\n",
       "      <th>0</th>\n",
       "      <td>-7200416642310594310</td>\n",
       "      <td>916468001 915526001 372860001 918292001 714790...</td>\n",
       "    </tr>\n",
       "    <tr>\n",
       "      <th>1</th>\n",
       "      <td>-6846340800584936</td>\n",
       "      <td>916468001 915526001 372860001 918292001 714790...</td>\n",
       "    </tr>\n",
       "    <tr>\n",
       "      <th>2</th>\n",
       "      <td>-2477030216582433370</td>\n",
       "      <td>916468001 915526001 372860001 918292001 714790...</td>\n",
       "    </tr>\n",
       "    <tr>\n",
       "      <th>3</th>\n",
       "      <td>-3402710142238164438</td>\n",
       "      <td>916468001 915526001 372860001 918292001 714790...</td>\n",
       "    </tr>\n",
       "    <tr>\n",
       "      <th>4</th>\n",
       "      <td>5669685583838440396</td>\n",
       "      <td>916468001 915526001 372860001 918292001 714790...</td>\n",
       "    </tr>\n",
       "    <tr>\n",
       "      <th>...</th>\n",
       "      <td>...</td>\n",
       "      <td>...</td>\n",
       "    </tr>\n",
       "    <tr>\n",
       "      <th>1371975</th>\n",
       "      <td>8959640756044895752</td>\n",
       "      <td>751471043 762846031 884319003 896152002 865929...</td>\n",
       "    </tr>\n",
       "    <tr>\n",
       "      <th>1371976</th>\n",
       "      <td>8536186189414498976</td>\n",
       "      <td>751471043 762846031 884319003 896152002 865929...</td>\n",
       "    </tr>\n",
       "    <tr>\n",
       "      <th>1371977</th>\n",
       "      <td>-1244504865876165278</td>\n",
       "      <td>751471043 762846031 884319003 896152002 865929...</td>\n",
       "    </tr>\n",
       "    <tr>\n",
       "      <th>1371978</th>\n",
       "      <td>5823894334162843119</td>\n",
       "      <td>751471043 762846031 884319003 896152002 865929...</td>\n",
       "    </tr>\n",
       "    <tr>\n",
       "      <th>1371979</th>\n",
       "      <td>-1516792180973952447</td>\n",
       "      <td>751471043 762846031 884319003 896152002 865929...</td>\n",
       "    </tr>\n",
       "  </tbody>\n",
       "</table>\n",
       "<p>1371980 rows × 2 columns</p>\n",
       "</div>"
      ],
      "text/plain": [
       "                 customer_id  \\\n",
       "0       -7200416642310594310   \n",
       "1          -6846340800584936   \n",
       "2       -2477030216582433370   \n",
       "3       -3402710142238164438   \n",
       "4        5669685583838440396   \n",
       "...                      ...   \n",
       "1371975  8959640756044895752   \n",
       "1371976  8536186189414498976   \n",
       "1371977 -1244504865876165278   \n",
       "1371978  5823894334162843119   \n",
       "1371979 -1516792180973952447   \n",
       "\n",
       "                                                prediction  \n",
       "0        916468001 915526001 372860001 918292001 714790...  \n",
       "1        916468001 915526001 372860001 918292001 714790...  \n",
       "2        916468001 915526001 372860001 918292001 714790...  \n",
       "3        916468001 915526001 372860001 918292001 714790...  \n",
       "4        916468001 915526001 372860001 918292001 714790...  \n",
       "...                                                    ...  \n",
       "1371975  751471043 762846031 884319003 896152002 865929...  \n",
       "1371976  751471043 762846031 884319003 896152002 865929...  \n",
       "1371977  751471043 762846031 884319003 896152002 865929...  \n",
       "1371978  751471043 762846031 884319003 896152002 865929...  \n",
       "1371979  751471043 762846031 884319003 896152002 865929...  \n",
       "\n",
       "[1371980 rows x 2 columns]"
      ]
     },
     "execution_count": 86,
     "metadata": {},
     "output_type": "execute_result"
    }
   ],
   "source": [
    "sub = sub.drop(columns='age')\n",
    "sub"
   ]
  },
  {
   "cell_type": "code",
   "execution_count": 87,
   "id": "55bc10f5",
   "metadata": {
    "execution": {
     "iopub.execute_input": "2022-03-15T16:13:07.399184Z",
     "iopub.status.busy": "2022-03-15T16:13:07.398489Z",
     "iopub.status.idle": "2022-03-15T16:13:43.165111Z",
     "shell.execute_reply": "2022-03-15T16:13:43.165619Z",
     "shell.execute_reply.started": "2022-03-15T16:04:17.985507Z"
    },
    "papermill": {
     "duration": 35.832101,
     "end_time": "2022-03-15T16:13:43.165816",
     "exception": false,
     "start_time": "2022-03-15T16:13:07.333715",
     "status": "completed"
    },
    "tags": []
   },
   "outputs": [],
   "source": [
    "# backfill用のcsv書き出し、上位50件、直近1週間\n",
    "sub.to_csv(f'{ch}_ranking_{val_start_date}_{topk}.csv', index=False)"
   ]
  },
  {
   "cell_type": "code",
   "execution_count": null,
   "id": "d4e3a3d8",
   "metadata": {},
   "outputs": [],
   "source": []
  },
  {
   "cell_type": "code",
   "execution_count": null,
   "id": "3ad604a6",
   "metadata": {},
   "outputs": [],
   "source": []
  },
  {
   "cell_type": "code",
   "execution_count": null,
   "id": "0e9c8b07",
   "metadata": {},
   "outputs": [],
   "source": []
  }
 ],
 "metadata": {
  "kernelspec": {
   "display_name": "Python 3",
   "language": "python",
   "name": "python3"
  },
  "language_info": {
   "codemirror_mode": {
    "name": "ipython",
    "version": 3
   },
   "file_extension": ".py",
   "mimetype": "text/x-python",
   "name": "python",
   "nbconvert_exporter": "python",
   "pygments_lexer": "ipython3",
   "version": "3.8.10"
  },
  "papermill": {
   "default_parameters": {},
   "duration": 152.522006,
   "end_time": "2022-03-15T16:13:44.958558",
   "environment_variables": {},
   "exception": null,
   "input_path": "__notebook__.ipynb",
   "output_path": "__notebook__.ipynb",
   "parameters": {},
   "start_time": "2022-03-15T16:11:12.436552",
   "version": "2.3.3"
  }
 },
 "nbformat": 4,
 "nbformat_minor": 5
}
