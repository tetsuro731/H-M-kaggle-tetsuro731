{
 "cells": [
  {
   "cell_type": "markdown",
   "id": "76a1c0f3",
   "metadata": {
    "papermill": {
     "duration": 0.08877,
     "end_time": "2022-03-18T14:28:51.135317",
     "exception": false,
     "start_time": "2022-03-18T14:28:51.046547",
     "status": "completed"
    },
    "tags": []
   },
   "source": [
    "### Generate Training data\n",
    "- 学習データ作成用notebook\n",
    "- 素性も同時に生成する\n"
   ]
  },
  {
   "cell_type": "code",
   "execution_count": 1,
   "id": "9d5371a8",
   "metadata": {
    "_cell_guid": "b1076dfc-b9ad-4769-8c92-a6c4dae69d19",
    "_uuid": "8f2839f25d086af736a60e9eeb907d3b93b6e0e5",
    "execution": {
     "iopub.execute_input": "2022-03-18T14:28:51.319919Z",
     "iopub.status.busy": "2022-03-18T14:28:51.317970Z",
     "iopub.status.idle": "2022-03-18T14:28:51.407727Z",
     "shell.execute_reply": "2022-03-18T14:28:51.406776Z",
     "shell.execute_reply.started": "2022-03-18T13:58:54.722012Z"
    },
    "papermill": {
     "duration": 0.182663,
     "end_time": "2022-03-18T14:28:51.407934",
     "exception": false,
     "start_time": "2022-03-18T14:28:51.225271",
     "status": "completed"
    },
    "tags": []
   },
   "outputs": [],
   "source": [
    "import numpy as np\n",
    "import pandas as pd\n",
    "import gc\n",
    "import os\n",
    "import time\n",
    "import random\n",
    "from tqdm.auto import tqdm\n",
    "import datetime"
   ]
  },
  {
   "cell_type": "code",
   "execution_count": 2,
   "id": "0cffdcbc",
   "metadata": {
    "execution": {
     "iopub.execute_input": "2022-03-18T14:28:51.587198Z",
     "iopub.status.busy": "2022-03-18T14:28:51.586084Z",
     "iopub.status.idle": "2022-03-18T14:28:51.588628Z",
     "shell.execute_reply": "2022-03-18T14:28:51.589236Z",
     "shell.execute_reply.started": "2022-03-18T13:58:54.829869Z"
    },
    "papermill": {
     "duration": 0.095258,
     "end_time": "2022-03-18T14:28:51.589463",
     "exception": false,
     "start_time": "2022-03-18T14:28:51.494205",
     "status": "completed"
    },
    "tags": []
   },
   "outputs": [],
   "source": [
    "def visualize_df(df):\n",
    "    print(df.shape)\n",
    "    display(df.head())"
   ]
  },
  {
   "cell_type": "markdown",
   "id": "a6b48fcc",
   "metadata": {},
   "source": [
    "## Parameters"
   ]
  },
  {
   "cell_type": "code",
   "execution_count": 3,
   "id": "48e472e8",
   "metadata": {},
   "outputs": [],
   "source": [
    "Nsub = 40\n",
    "#train_start_date = '2020-09-16' # labelに使うデータ開始日\n",
    "train_start_date = '2020-09-09' \n",
    "full_flag = True # 分類タスクの場合のみ"
   ]
  },
  {
   "cell_type": "code",
   "execution_count": 4,
   "id": "7baca5bd",
   "metadata": {
    "tags": [
     "parameters"
    ]
   },
   "outputs": [],
   "source": [
    "# 外部から回す場合はここでパラメータ上書き"
   ]
  },
  {
   "cell_type": "code",
   "execution_count": 5,
   "id": "6a637702",
   "metadata": {},
   "outputs": [],
   "source": [
    "from datetime import datetime, date, timedelta\n",
    "train_start_date_dt = pd.to_datetime(train_start_date) \n",
    "train_end_date_dt = train_start_date_dt + timedelta(days=7)\n",
    "feature_date_dt = train_start_date_dt + timedelta(days=-7)\n",
    "feature_date2_dt = train_start_date_dt + timedelta(days=-14)"
   ]
  },
  {
   "cell_type": "code",
   "execution_count": 6,
   "id": "21e8f5b5",
   "metadata": {},
   "outputs": [],
   "source": [
    "train_end_date = str(train_end_date_dt.strftime('%Y-%m-%d'))\n",
    "feature_date = str(feature_date_dt.strftime('%Y-%m-%d'))\n",
    "feature_date2 = str(feature_date2_dt.strftime('%Y-%m-%d'))"
   ]
  },
  {
   "cell_type": "code",
   "execution_count": 7,
   "id": "ec551fe0",
   "metadata": {},
   "outputs": [
    {
     "name": "stdout",
     "output_type": "stream",
     "text": [
      "2020-09-09 2020-09-16 2020-09-02 2020-08-26\n"
     ]
    }
   ],
   "source": [
    "print(train_start_date, train_end_date, feature_date, feature_date2)"
   ]
  },
  {
   "cell_type": "markdown",
   "id": "861b2392",
   "metadata": {
    "papermill": {
     "duration": 0.08589,
     "end_time": "2022-03-18T14:28:51.762315",
     "exception": false,
     "start_time": "2022-03-18T14:28:51.676425",
     "status": "completed"
    },
    "tags": []
   },
   "source": [
    "## Read Data"
   ]
  },
  {
   "cell_type": "code",
   "execution_count": 8,
   "id": "178ff764",
   "metadata": {
    "execution": {
     "iopub.execute_input": "2022-03-18T14:28:51.943630Z",
     "iopub.status.busy": "2022-03-18T14:28:51.942536Z",
     "iopub.status.idle": "2022-03-18T14:30:04.654984Z",
     "shell.execute_reply": "2022-03-18T14:30:04.654390Z",
     "shell.execute_reply.started": "2022-03-18T13:59:14.271774Z"
    },
    "papermill": {
     "duration": 72.803845,
     "end_time": "2022-03-18T14:30:04.655205",
     "exception": false,
     "start_time": "2022-03-18T14:28:51.851360",
     "status": "completed"
    },
    "tags": []
   },
   "outputs": [],
   "source": [
    "# データの読み込み\n",
    "dir = 'h-and-m-personalized-fashion-recommendations/'\n",
    "path = '../input/' + dir \n",
    "\n",
    "transactions_train = pd.read_csv(path + 'transactions_train.csv')"
   ]
  },
  {
   "cell_type": "code",
   "execution_count": 9,
   "id": "1827c8d5",
   "metadata": {
    "execution": {
     "iopub.execute_input": "2022-03-18T14:30:04.838992Z",
     "iopub.status.busy": "2022-03-18T14:30:04.838317Z",
     "iopub.status.idle": "2022-03-18T14:30:38.965010Z",
     "shell.execute_reply": "2022-03-18T14:30:38.964390Z",
     "shell.execute_reply.started": "2022-03-18T14:00:20.939398Z"
    },
    "papermill": {
     "duration": 34.223161,
     "end_time": "2022-03-18T14:30:38.965230",
     "exception": false,
     "start_time": "2022-03-18T14:30:04.742069",
     "status": "completed"
    },
    "tags": []
   },
   "outputs": [],
   "source": [
    "# save memory https://www.kaggle.com/c/h-and-m-personalized-fashion-recommendations/discussion/308635\n",
    "# 64文字もあるが、末尾16文字だけでcustomerを一意にid可能\n",
    "# 使われている文字は0-9, a-fなので16進数で変換してintで扱える\n",
    "# 16進数 = 4bit, 4bit * 16 / 8 = 8 byte\n",
    "# 64 byte -> 8 byteに削減, int64で表現可能\n",
    "transactions_train['customer_id'] = transactions_train['customer_id'].apply(lambda x: int(x[-16:],16) ).astype('int64')"
   ]
  },
  {
   "cell_type": "code",
   "execution_count": 10,
   "id": "65ca07aa",
   "metadata": {
    "execution": {
     "iopub.execute_input": "2022-03-18T14:30:39.147599Z",
     "iopub.status.busy": "2022-03-18T14:30:39.143874Z",
     "iopub.status.idle": "2022-03-18T14:30:39.497332Z",
     "shell.execute_reply": "2022-03-18T14:30:39.496708Z",
     "shell.execute_reply.started": "2022-03-18T14:00:55.725738Z"
    },
    "papermill": {
     "duration": 0.444594,
     "end_time": "2022-03-18T14:30:39.497491",
     "exception": false,
     "start_time": "2022-03-18T14:30:39.052897",
     "status": "completed"
    },
    "tags": []
   },
   "outputs": [],
   "source": [
    "# 提出の形式に合わせてarticle_idの最初に0を加える\n",
    "#transactions_train['article_id'] = transactions_train['article_id'].map(lambda x: '0' + str(x))\n",
    "# メモリ削減、復元するには上記の式\n",
    "transactions_train['article_id'] = transactions_train['article_id'].astype('int32')"
   ]
  },
  {
   "cell_type": "code",
   "execution_count": 11,
   "id": "0b30c6ca",
   "metadata": {
    "execution": {
     "iopub.execute_input": "2022-03-18T14:30:41.534312Z",
     "iopub.status.busy": "2022-03-18T14:30:40.164462Z",
     "iopub.status.idle": "2022-03-18T14:30:45.519857Z",
     "shell.execute_reply": "2022-03-18T14:30:45.520430Z",
     "shell.execute_reply.started": "2022-03-18T14:00:55.937686Z"
    },
    "papermill": {
     "duration": 5.937399,
     "end_time": "2022-03-18T14:30:45.520604",
     "exception": false,
     "start_time": "2022-03-18T14:30:39.583205",
     "status": "completed"
    },
    "tags": []
   },
   "outputs": [
    {
     "data": {
      "text/html": [
       "<div>\n",
       "<style scoped>\n",
       "    .dataframe tbody tr th:only-of-type {\n",
       "        vertical-align: middle;\n",
       "    }\n",
       "\n",
       "    .dataframe tbody tr th {\n",
       "        vertical-align: top;\n",
       "    }\n",
       "\n",
       "    .dataframe thead th {\n",
       "        text-align: right;\n",
       "    }\n",
       "</style>\n",
       "<table border=\"1\" class=\"dataframe\">\n",
       "  <thead>\n",
       "    <tr style=\"text-align: right;\">\n",
       "      <th></th>\n",
       "      <th>t_dat</th>\n",
       "      <th>customer_id</th>\n",
       "      <th>article_id</th>\n",
       "      <th>price</th>\n",
       "      <th>sales_channel_id</th>\n",
       "    </tr>\n",
       "  </thead>\n",
       "  <tbody>\n",
       "    <tr>\n",
       "      <th>0</th>\n",
       "      <td>2018-09-20</td>\n",
       "      <td>-6846340800584936</td>\n",
       "      <td>663713001</td>\n",
       "      <td>0.050831</td>\n",
       "      <td>2</td>\n",
       "    </tr>\n",
       "    <tr>\n",
       "      <th>1</th>\n",
       "      <td>2018-09-20</td>\n",
       "      <td>-6846340800584936</td>\n",
       "      <td>541518023</td>\n",
       "      <td>0.030492</td>\n",
       "      <td>2</td>\n",
       "    </tr>\n",
       "    <tr>\n",
       "      <th>2</th>\n",
       "      <td>2018-09-20</td>\n",
       "      <td>-8334631767138808638</td>\n",
       "      <td>505221004</td>\n",
       "      <td>0.015237</td>\n",
       "      <td>2</td>\n",
       "    </tr>\n",
       "    <tr>\n",
       "      <th>3</th>\n",
       "      <td>2018-09-20</td>\n",
       "      <td>-8334631767138808638</td>\n",
       "      <td>685687003</td>\n",
       "      <td>0.016932</td>\n",
       "      <td>2</td>\n",
       "    </tr>\n",
       "    <tr>\n",
       "      <th>4</th>\n",
       "      <td>2018-09-20</td>\n",
       "      <td>-8334631767138808638</td>\n",
       "      <td>685687004</td>\n",
       "      <td>0.016932</td>\n",
       "      <td>2</td>\n",
       "    </tr>\n",
       "  </tbody>\n",
       "</table>\n",
       "</div>"
      ],
      "text/plain": [
       "       t_dat          customer_id  article_id     price  sales_channel_id\n",
       "0 2018-09-20    -6846340800584936   663713001  0.050831                 2\n",
       "1 2018-09-20    -6846340800584936   541518023  0.030492                 2\n",
       "2 2018-09-20 -8334631767138808638   505221004  0.015237                 2\n",
       "3 2018-09-20 -8334631767138808638   685687003  0.016932                 2\n",
       "4 2018-09-20 -8334631767138808638   685687004  0.016932                 2"
      ]
     },
     "execution_count": 11,
     "metadata": {},
     "output_type": "execute_result"
    }
   ],
   "source": [
    "transactions_train['t_dat'] = pd.to_datetime(transactions_train['t_dat'])\n",
    "transactions_train.head()"
   ]
  },
  {
   "cell_type": "code",
   "execution_count": 12,
   "id": "683a284b",
   "metadata": {
    "execution": {
     "iopub.execute_input": "2022-03-18T14:30:46.087484Z",
     "iopub.status.busy": "2022-03-18T14:30:46.086800Z",
     "iopub.status.idle": "2022-03-18T14:30:47.081178Z",
     "shell.execute_reply": "2022-03-18T14:30:47.081747Z",
     "shell.execute_reply.started": "2022-03-18T14:01:01.651418Z"
    },
    "papermill": {
     "duration": 1.090475,
     "end_time": "2022-03-18T14:30:47.081956",
     "exception": false,
     "start_time": "2022-03-18T14:30:45.991481",
     "status": "completed"
    },
    "tags": []
   },
   "outputs": [
    {
     "name": "stdout",
     "output_type": "stream",
     "text": [
      "(255241, 5)\n"
     ]
    },
    {
     "data": {
      "text/html": [
       "<div>\n",
       "<style scoped>\n",
       "    .dataframe tbody tr th:only-of-type {\n",
       "        vertical-align: middle;\n",
       "    }\n",
       "\n",
       "    .dataframe tbody tr th {\n",
       "        vertical-align: top;\n",
       "    }\n",
       "\n",
       "    .dataframe thead th {\n",
       "        text-align: right;\n",
       "    }\n",
       "</style>\n",
       "<table border=\"1\" class=\"dataframe\">\n",
       "  <thead>\n",
       "    <tr style=\"text-align: right;\">\n",
       "      <th></th>\n",
       "      <th>t_dat</th>\n",
       "      <th>customer_id</th>\n",
       "      <th>article_id</th>\n",
       "      <th>price</th>\n",
       "      <th>sales_channel_id</th>\n",
       "    </tr>\n",
       "  </thead>\n",
       "  <tbody>\n",
       "    <tr>\n",
       "      <th>0</th>\n",
       "      <td>2020-09-09</td>\n",
       "      <td>-7604547624187760215</td>\n",
       "      <td>399136061</td>\n",
       "      <td>0.083390</td>\n",
       "      <td>2</td>\n",
       "    </tr>\n",
       "    <tr>\n",
       "      <th>1</th>\n",
       "      <td>2020-09-09</td>\n",
       "      <td>-7604547624187760215</td>\n",
       "      <td>732842014</td>\n",
       "      <td>0.066712</td>\n",
       "      <td>2</td>\n",
       "    </tr>\n",
       "    <tr>\n",
       "      <th>2</th>\n",
       "      <td>2020-09-09</td>\n",
       "      <td>-7604547624187760215</td>\n",
       "      <td>556255001</td>\n",
       "      <td>0.010000</td>\n",
       "      <td>2</td>\n",
       "    </tr>\n",
       "    <tr>\n",
       "      <th>3</th>\n",
       "      <td>2020-09-09</td>\n",
       "      <td>-7604547624187760215</td>\n",
       "      <td>852219003</td>\n",
       "      <td>0.008322</td>\n",
       "      <td>2</td>\n",
       "    </tr>\n",
       "    <tr>\n",
       "      <th>4</th>\n",
       "      <td>2020-09-09</td>\n",
       "      <td>-7604547624187760215</td>\n",
       "      <td>732842021</td>\n",
       "      <td>0.066712</td>\n",
       "      <td>2</td>\n",
       "    </tr>\n",
       "  </tbody>\n",
       "</table>\n",
       "</div>"
      ],
      "text/plain": [
       "       t_dat          customer_id  article_id     price  sales_channel_id\n",
       "0 2020-09-09 -7604547624187760215   399136061  0.083390                 2\n",
       "1 2020-09-09 -7604547624187760215   732842014  0.066712                 2\n",
       "2 2020-09-09 -7604547624187760215   556255001  0.010000                 2\n",
       "3 2020-09-09 -7604547624187760215   852219003  0.008322                 2\n",
       "4 2020-09-09 -7604547624187760215   732842021  0.066712                 2"
      ]
     },
     "metadata": {},
     "output_type": "display_data"
    }
   ],
   "source": [
    "train_data = transactions_train.query(f\"'{train_start_date}' <= t_dat and t_dat < '{train_end_date}'\").reset_index(drop=True)\n",
    "visualize_df(train_data)"
   ]
  },
  {
   "cell_type": "code",
   "execution_count": 13,
   "id": "a4d6f6b0",
   "metadata": {},
   "outputs": [],
   "source": [
    "feature_data = transactions_train.query(f\" t_dat < '{train_start_date}'\").reset_index(drop=True) # train feature"
   ]
  },
  {
   "cell_type": "code",
   "execution_count": 14,
   "id": "37aceac6",
   "metadata": {},
   "outputs": [
    {
     "data": {
      "text/plain": [
       "3"
      ]
     },
     "execution_count": 14,
     "metadata": {},
     "output_type": "execute_result"
    }
   ],
   "source": [
    "del transactions_train; gc.collect()"
   ]
  },
  {
   "cell_type": "code",
   "execution_count": 15,
   "id": "90925ba0",
   "metadata": {
    "execution": {
     "iopub.execute_input": "2022-03-18T14:30:47.456327Z",
     "iopub.status.busy": "2022-03-18T14:30:47.455632Z",
     "iopub.status.idle": "2022-03-18T14:30:47.470281Z",
     "shell.execute_reply": "2022-03-18T14:30:47.470795Z",
     "shell.execute_reply.started": "2022-03-18T14:01:02.460141Z"
    },
    "papermill": {
     "duration": 0.108516,
     "end_time": "2022-03-18T14:30:47.471009",
     "exception": false,
     "start_time": "2022-03-18T14:30:47.362493",
     "status": "completed"
    },
    "tags": []
   },
   "outputs": [
    {
     "data": {
      "text/html": [
       "<div>\n",
       "<style scoped>\n",
       "    .dataframe tbody tr th:only-of-type {\n",
       "        vertical-align: middle;\n",
       "    }\n",
       "\n",
       "    .dataframe tbody tr th {\n",
       "        vertical-align: top;\n",
       "    }\n",
       "\n",
       "    .dataframe thead th {\n",
       "        text-align: right;\n",
       "    }\n",
       "</style>\n",
       "<table border=\"1\" class=\"dataframe\">\n",
       "  <thead>\n",
       "    <tr style=\"text-align: right;\">\n",
       "      <th></th>\n",
       "      <th>t_dat</th>\n",
       "      <th>customer_id</th>\n",
       "      <th>article_id</th>\n",
       "      <th>price</th>\n",
       "      <th>sales_channel_id</th>\n",
       "    </tr>\n",
       "  </thead>\n",
       "  <tbody>\n",
       "    <tr>\n",
       "      <th>0</th>\n",
       "      <td>2020-09-09</td>\n",
       "      <td>-7604547624187760215</td>\n",
       "      <td>399136061</td>\n",
       "      <td>0.083390</td>\n",
       "      <td>2</td>\n",
       "    </tr>\n",
       "    <tr>\n",
       "      <th>1</th>\n",
       "      <td>2020-09-09</td>\n",
       "      <td>-7604547624187760215</td>\n",
       "      <td>732842014</td>\n",
       "      <td>0.066712</td>\n",
       "      <td>2</td>\n",
       "    </tr>\n",
       "    <tr>\n",
       "      <th>2</th>\n",
       "      <td>2020-09-09</td>\n",
       "      <td>-7604547624187760215</td>\n",
       "      <td>556255001</td>\n",
       "      <td>0.010000</td>\n",
       "      <td>2</td>\n",
       "    </tr>\n",
       "    <tr>\n",
       "      <th>3</th>\n",
       "      <td>2020-09-09</td>\n",
       "      <td>-7604547624187760215</td>\n",
       "      <td>852219003</td>\n",
       "      <td>0.008322</td>\n",
       "      <td>2</td>\n",
       "    </tr>\n",
       "    <tr>\n",
       "      <th>4</th>\n",
       "      <td>2020-09-09</td>\n",
       "      <td>-7604547624187760215</td>\n",
       "      <td>732842021</td>\n",
       "      <td>0.066712</td>\n",
       "      <td>2</td>\n",
       "    </tr>\n",
       "    <tr>\n",
       "      <th>...</th>\n",
       "      <td>...</td>\n",
       "      <td>...</td>\n",
       "      <td>...</td>\n",
       "      <td>...</td>\n",
       "      <td>...</td>\n",
       "    </tr>\n",
       "    <tr>\n",
       "      <th>255236</th>\n",
       "      <td>2020-09-15</td>\n",
       "      <td>-977760742639762210</td>\n",
       "      <td>850917001</td>\n",
       "      <td>0.025407</td>\n",
       "      <td>1</td>\n",
       "    </tr>\n",
       "    <tr>\n",
       "      <th>255237</th>\n",
       "      <td>2020-09-15</td>\n",
       "      <td>38700952482392720</td>\n",
       "      <td>853316001</td>\n",
       "      <td>0.008458</td>\n",
       "      <td>1</td>\n",
       "    </tr>\n",
       "    <tr>\n",
       "      <th>255238</th>\n",
       "      <td>2020-09-15</td>\n",
       "      <td>38700952482392720</td>\n",
       "      <td>296366006</td>\n",
       "      <td>0.000847</td>\n",
       "      <td>1</td>\n",
       "    </tr>\n",
       "    <tr>\n",
       "      <th>255239</th>\n",
       "      <td>2020-09-15</td>\n",
       "      <td>38700952482392720</td>\n",
       "      <td>789769001</td>\n",
       "      <td>0.013542</td>\n",
       "      <td>1</td>\n",
       "    </tr>\n",
       "    <tr>\n",
       "      <th>255240</th>\n",
       "      <td>2020-09-15</td>\n",
       "      <td>-7117278455136493736</td>\n",
       "      <td>728156001</td>\n",
       "      <td>0.043203</td>\n",
       "      <td>1</td>\n",
       "    </tr>\n",
       "  </tbody>\n",
       "</table>\n",
       "<p>255241 rows × 5 columns</p>\n",
       "</div>"
      ],
      "text/plain": [
       "            t_dat          customer_id  article_id     price  sales_channel_id\n",
       "0      2020-09-09 -7604547624187760215   399136061  0.083390                 2\n",
       "1      2020-09-09 -7604547624187760215   732842014  0.066712                 2\n",
       "2      2020-09-09 -7604547624187760215   556255001  0.010000                 2\n",
       "3      2020-09-09 -7604547624187760215   852219003  0.008322                 2\n",
       "4      2020-09-09 -7604547624187760215   732842021  0.066712                 2\n",
       "...           ...                  ...         ...       ...               ...\n",
       "255236 2020-09-15  -977760742639762210   850917001  0.025407                 1\n",
       "255237 2020-09-15    38700952482392720   853316001  0.008458                 1\n",
       "255238 2020-09-15    38700952482392720   296366006  0.000847                 1\n",
       "255239 2020-09-15    38700952482392720   789769001  0.013542                 1\n",
       "255240 2020-09-15 -7117278455136493736   728156001  0.043203                 1\n",
       "\n",
       "[255241 rows x 5 columns]"
      ]
     },
     "execution_count": 15,
     "metadata": {},
     "output_type": "execute_result"
    }
   ],
   "source": [
    "train_data"
   ]
  },
  {
   "cell_type": "code",
   "execution_count": 16,
   "id": "c1785200",
   "metadata": {},
   "outputs": [
    {
     "data": {
      "text/html": [
       "<div>\n",
       "<style scoped>\n",
       "    .dataframe tbody tr th:only-of-type {\n",
       "        vertical-align: middle;\n",
       "    }\n",
       "\n",
       "    .dataframe tbody tr th {\n",
       "        vertical-align: top;\n",
       "    }\n",
       "\n",
       "    .dataframe thead th {\n",
       "        text-align: right;\n",
       "    }\n",
       "</style>\n",
       "<table border=\"1\" class=\"dataframe\">\n",
       "  <thead>\n",
       "    <tr style=\"text-align: right;\">\n",
       "      <th></th>\n",
       "      <th>t_dat</th>\n",
       "      <th>customer_id</th>\n",
       "      <th>article_id</th>\n",
       "      <th>price</th>\n",
       "      <th>sales_channel_id</th>\n",
       "    </tr>\n",
       "  </thead>\n",
       "  <tbody>\n",
       "    <tr>\n",
       "      <th>0</th>\n",
       "      <td>2018-09-20</td>\n",
       "      <td>-6846340800584936</td>\n",
       "      <td>663713001</td>\n",
       "      <td>0.050831</td>\n",
       "      <td>2</td>\n",
       "    </tr>\n",
       "    <tr>\n",
       "      <th>1</th>\n",
       "      <td>2018-09-20</td>\n",
       "      <td>-6846340800584936</td>\n",
       "      <td>541518023</td>\n",
       "      <td>0.030492</td>\n",
       "      <td>2</td>\n",
       "    </tr>\n",
       "    <tr>\n",
       "      <th>2</th>\n",
       "      <td>2018-09-20</td>\n",
       "      <td>-8334631767138808638</td>\n",
       "      <td>505221004</td>\n",
       "      <td>0.015237</td>\n",
       "      <td>2</td>\n",
       "    </tr>\n",
       "    <tr>\n",
       "      <th>3</th>\n",
       "      <td>2018-09-20</td>\n",
       "      <td>-8334631767138808638</td>\n",
       "      <td>685687003</td>\n",
       "      <td>0.016932</td>\n",
       "      <td>2</td>\n",
       "    </tr>\n",
       "    <tr>\n",
       "      <th>4</th>\n",
       "      <td>2018-09-20</td>\n",
       "      <td>-8334631767138808638</td>\n",
       "      <td>685687004</td>\n",
       "      <td>0.016932</td>\n",
       "      <td>2</td>\n",
       "    </tr>\n",
       "    <tr>\n",
       "      <th>...</th>\n",
       "      <td>...</td>\n",
       "      <td>...</td>\n",
       "      <td>...</td>\n",
       "      <td>...</td>\n",
       "      <td>...</td>\n",
       "    </tr>\n",
       "    <tr>\n",
       "      <th>31292767</th>\n",
       "      <td>2020-09-08</td>\n",
       "      <td>4685485978980270934</td>\n",
       "      <td>919786002</td>\n",
       "      <td>0.042356</td>\n",
       "      <td>2</td>\n",
       "    </tr>\n",
       "    <tr>\n",
       "      <th>31292768</th>\n",
       "      <td>2020-09-08</td>\n",
       "      <td>795398326275572276</td>\n",
       "      <td>765308002</td>\n",
       "      <td>0.033881</td>\n",
       "      <td>2</td>\n",
       "    </tr>\n",
       "    <tr>\n",
       "      <th>31292769</th>\n",
       "      <td>2020-09-08</td>\n",
       "      <td>-8286316756823862684</td>\n",
       "      <td>689365050</td>\n",
       "      <td>0.010017</td>\n",
       "      <td>2</td>\n",
       "    </tr>\n",
       "    <tr>\n",
       "      <th>31292770</th>\n",
       "      <td>2020-09-08</td>\n",
       "      <td>-8286316756823862684</td>\n",
       "      <td>884081001</td>\n",
       "      <td>0.012898</td>\n",
       "      <td>2</td>\n",
       "    </tr>\n",
       "    <tr>\n",
       "      <th>31292771</th>\n",
       "      <td>2020-09-08</td>\n",
       "      <td>-8286316756823862684</td>\n",
       "      <td>794819001</td>\n",
       "      <td>0.014322</td>\n",
       "      <td>2</td>\n",
       "    </tr>\n",
       "  </tbody>\n",
       "</table>\n",
       "<p>31292772 rows × 5 columns</p>\n",
       "</div>"
      ],
      "text/plain": [
       "              t_dat          customer_id  article_id     price  \\\n",
       "0        2018-09-20    -6846340800584936   663713001  0.050831   \n",
       "1        2018-09-20    -6846340800584936   541518023  0.030492   \n",
       "2        2018-09-20 -8334631767138808638   505221004  0.015237   \n",
       "3        2018-09-20 -8334631767138808638   685687003  0.016932   \n",
       "4        2018-09-20 -8334631767138808638   685687004  0.016932   \n",
       "...             ...                  ...         ...       ...   \n",
       "31292767 2020-09-08  4685485978980270934   919786002  0.042356   \n",
       "31292768 2020-09-08   795398326275572276   765308002  0.033881   \n",
       "31292769 2020-09-08 -8286316756823862684   689365050  0.010017   \n",
       "31292770 2020-09-08 -8286316756823862684   884081001  0.012898   \n",
       "31292771 2020-09-08 -8286316756823862684   794819001  0.014322   \n",
       "\n",
       "          sales_channel_id  \n",
       "0                        2  \n",
       "1                        2  \n",
       "2                        2  \n",
       "3                        2  \n",
       "4                        2  \n",
       "...                    ...  \n",
       "31292767                 2  \n",
       "31292768                 2  \n",
       "31292769                 2  \n",
       "31292770                 2  \n",
       "31292771                 2  \n",
       "\n",
       "[31292772 rows x 5 columns]"
      ]
     },
     "execution_count": 16,
     "metadata": {},
     "output_type": "execute_result"
    }
   ],
   "source": [
    "feature_data"
   ]
  },
  {
   "cell_type": "markdown",
   "id": "e53c2ec6",
   "metadata": {},
   "source": [
    "## Read Matching Phase data"
   ]
  },
  {
   "cell_type": "code",
   "execution_count": 17,
   "id": "274f7e5d",
   "metadata": {},
   "outputs": [
    {
     "data": {
      "text/html": [
       "<div>\n",
       "<style scoped>\n",
       "    .dataframe tbody tr th:only-of-type {\n",
       "        vertical-align: middle;\n",
       "    }\n",
       "\n",
       "    .dataframe tbody tr th {\n",
       "        vertical-align: top;\n",
       "    }\n",
       "\n",
       "    .dataframe thead th {\n",
       "        text-align: right;\n",
       "    }\n",
       "</style>\n",
       "<table border=\"1\" class=\"dataframe\">\n",
       "  <thead>\n",
       "    <tr style=\"text-align: right;\">\n",
       "      <th></th>\n",
       "      <th>customer_id</th>\n",
       "      <th>prediction</th>\n",
       "    </tr>\n",
       "  </thead>\n",
       "  <tbody>\n",
       "    <tr>\n",
       "      <th>0</th>\n",
       "      <td>-4345663252774903357</td>\n",
       "      <td>0695632002 0695632001 0706016001</td>\n",
       "    </tr>\n",
       "    <tr>\n",
       "      <th>1</th>\n",
       "      <td>-291594535764411411</td>\n",
       "      <td>0737221004 0737221005 0372860001 0736923006 05...</td>\n",
       "    </tr>\n",
       "    <tr>\n",
       "      <th>2</th>\n",
       "      <td>8267039440814068109</td>\n",
       "      <td>0734287002 0734287003 0734287001</td>\n",
       "    </tr>\n",
       "    <tr>\n",
       "      <th>3</th>\n",
       "      <td>-1181812018918977698</td>\n",
       "      <td>0865073005 0803324005 0875350002 0865073002 07...</td>\n",
       "    </tr>\n",
       "    <tr>\n",
       "      <th>4</th>\n",
       "      <td>-4999317557084312486</td>\n",
       "      <td>0599719024 0734215002 0759901001 0468480025 05...</td>\n",
       "    </tr>\n",
       "  </tbody>\n",
       "</table>\n",
       "</div>"
      ],
      "text/plain": [
       "           customer_id                                         prediction\n",
       "0 -4345663252774903357                   0695632002 0695632001 0706016001\n",
       "1  -291594535764411411  0737221004 0737221005 0372860001 0736923006 05...\n",
       "2  8267039440814068109                   0734287002 0734287003 0734287001\n",
       "3 -1181812018918977698  0865073005 0803324005 0875350002 0865073002 07...\n",
       "4 -4999317557084312486  0599719024 0734215002 0759901001 0468480025 05..."
      ]
     },
     "execution_count": 17,
     "metadata": {},
     "output_type": "execute_result"
    }
   ],
   "source": [
    "# データの読み込み\n",
    "match = pd.read_csv(f'../input/submission_{train_start_date}_30.csv')\n",
    "match['customer_id'] = match['customer_id'].apply(lambda x: int(x[-16:],16) ).astype('int64')\n",
    "match.head()"
   ]
  },
  {
   "cell_type": "code",
   "execution_count": 18,
   "id": "a38e6e4d",
   "metadata": {},
   "outputs": [
    {
     "data": {
      "text/plain": [
       "2743960"
      ]
     },
     "execution_count": 18,
     "metadata": {},
     "output_type": "execute_result"
    }
   ],
   "source": [
    "match.size"
   ]
  },
  {
   "cell_type": "code",
   "execution_count": 19,
   "id": "44c2fe65",
   "metadata": {},
   "outputs": [],
   "source": [
    "# 購入がないユーザーを入れるかどうか\n",
    "# GBDTの場合はいらなが、分類タスクの場合は正負の割合が変わってしまうのでTrueにする\n",
    "if not full_flag:\n",
    "    tmp = pd.Series(train_data['customer_id'].unique(), name='customer_id')\n",
    "    match = pd.merge(match, tmp, on='customer_id', how='inner')"
   ]
  },
  {
   "cell_type": "code",
   "execution_count": 20,
   "id": "eccc090d",
   "metadata": {},
   "outputs": [
    {
     "data": {
      "text/html": [
       "<div>\n",
       "<style scoped>\n",
       "    .dataframe tbody tr th:only-of-type {\n",
       "        vertical-align: middle;\n",
       "    }\n",
       "\n",
       "    .dataframe tbody tr th {\n",
       "        vertical-align: top;\n",
       "    }\n",
       "\n",
       "    .dataframe thead th {\n",
       "        text-align: right;\n",
       "    }\n",
       "</style>\n",
       "<table border=\"1\" class=\"dataframe\">\n",
       "  <thead>\n",
       "    <tr style=\"text-align: right;\">\n",
       "      <th></th>\n",
       "      <th>customer_id</th>\n",
       "      <th>prediction</th>\n",
       "    </tr>\n",
       "  </thead>\n",
       "  <tbody>\n",
       "    <tr>\n",
       "      <th>0</th>\n",
       "      <td>-4345663252774903357</td>\n",
       "      <td>0695632002 0695632001 0706016001</td>\n",
       "    </tr>\n",
       "    <tr>\n",
       "      <th>1</th>\n",
       "      <td>-291594535764411411</td>\n",
       "      <td>0737221004 0737221005 0372860001 0736923006 05...</td>\n",
       "    </tr>\n",
       "    <tr>\n",
       "      <th>2</th>\n",
       "      <td>8267039440814068109</td>\n",
       "      <td>0734287002 0734287003 0734287001</td>\n",
       "    </tr>\n",
       "    <tr>\n",
       "      <th>3</th>\n",
       "      <td>-1181812018918977698</td>\n",
       "      <td>0865073005 0803324005 0875350002 0865073002 07...</td>\n",
       "    </tr>\n",
       "    <tr>\n",
       "      <th>4</th>\n",
       "      <td>-4999317557084312486</td>\n",
       "      <td>0599719024 0734215002 0759901001 0468480025 05...</td>\n",
       "    </tr>\n",
       "  </tbody>\n",
       "</table>\n",
       "</div>"
      ],
      "text/plain": [
       "           customer_id                                         prediction\n",
       "0 -4345663252774903357                   0695632002 0695632001 0706016001\n",
       "1  -291594535764411411  0737221004 0737221005 0372860001 0736923006 05...\n",
       "2  8267039440814068109                   0734287002 0734287003 0734287001\n",
       "3 -1181812018918977698  0865073005 0803324005 0875350002 0865073002 07...\n",
       "4 -4999317557084312486  0599719024 0734215002 0759901001 0468480025 05..."
      ]
     },
     "execution_count": 20,
     "metadata": {},
     "output_type": "execute_result"
    }
   ],
   "source": [
    "match['prediction'] = match['prediction'].fillna(' ')\n",
    "match.head()"
   ]
  },
  {
   "cell_type": "code",
   "execution_count": 21,
   "id": "a17300be",
   "metadata": {},
   "outputs": [
    {
     "data": {
      "text/html": [
       "<div>\n",
       "<style scoped>\n",
       "    .dataframe tbody tr th:only-of-type {\n",
       "        vertical-align: middle;\n",
       "    }\n",
       "\n",
       "    .dataframe tbody tr th {\n",
       "        vertical-align: top;\n",
       "    }\n",
       "\n",
       "    .dataframe thead th {\n",
       "        text-align: right;\n",
       "    }\n",
       "</style>\n",
       "<table border=\"1\" class=\"dataframe\">\n",
       "  <thead>\n",
       "    <tr style=\"text-align: right;\">\n",
       "      <th></th>\n",
       "      <th>customer_id</th>\n",
       "      <th>prediction</th>\n",
       "    </tr>\n",
       "  </thead>\n",
       "  <tbody>\n",
       "    <tr>\n",
       "      <th>0</th>\n",
       "      <td>-4345663252774903357</td>\n",
       "      <td>[695632002, 695632001, 706016001]</td>\n",
       "    </tr>\n",
       "    <tr>\n",
       "      <th>1</th>\n",
       "      <td>-291594535764411411</td>\n",
       "      <td>[737221004, 737221005, 372860001, 736923006, 5...</td>\n",
       "    </tr>\n",
       "    <tr>\n",
       "      <th>2</th>\n",
       "      <td>8267039440814068109</td>\n",
       "      <td>[734287002, 734287003, 734287001]</td>\n",
       "    </tr>\n",
       "    <tr>\n",
       "      <th>3</th>\n",
       "      <td>-1181812018918977698</td>\n",
       "      <td>[865073005, 803324005, 875350002, 865073002, 7...</td>\n",
       "    </tr>\n",
       "    <tr>\n",
       "      <th>4</th>\n",
       "      <td>-4999317557084312486</td>\n",
       "      <td>[599719024, 734215002, 759901001, 468480025, 5...</td>\n",
       "    </tr>\n",
       "    <tr>\n",
       "      <th>...</th>\n",
       "      <td>...</td>\n",
       "      <td>...</td>\n",
       "    </tr>\n",
       "    <tr>\n",
       "      <th>1371975</th>\n",
       "      <td>3104641584622543304</td>\n",
       "      <td>[399256003, 446224024, 493995001, 613246004, 3...</td>\n",
       "    </tr>\n",
       "    <tr>\n",
       "      <th>1371976</th>\n",
       "      <td>8327270052008857523</td>\n",
       "      <td>[680263013, 680265005, 683848001, 702118004, 7...</td>\n",
       "    </tr>\n",
       "    <tr>\n",
       "      <th>1371977</th>\n",
       "      <td>9087355039826620500</td>\n",
       "      <td>[703199003, 783098001, 728162001, 464297007, 1...</td>\n",
       "    </tr>\n",
       "    <tr>\n",
       "      <th>1371978</th>\n",
       "      <td>-133214323572869577</td>\n",
       "      <td>[685811002, 578630022, 685811022, 816591010, 8...</td>\n",
       "    </tr>\n",
       "    <tr>\n",
       "      <th>1371979</th>\n",
       "      <td>-2661682485847144637</td>\n",
       "      <td>[]</td>\n",
       "    </tr>\n",
       "  </tbody>\n",
       "</table>\n",
       "<p>1371980 rows × 2 columns</p>\n",
       "</div>"
      ],
      "text/plain": [
       "                 customer_id  \\\n",
       "0       -4345663252774903357   \n",
       "1        -291594535764411411   \n",
       "2        8267039440814068109   \n",
       "3       -1181812018918977698   \n",
       "4       -4999317557084312486   \n",
       "...                      ...   \n",
       "1371975  3104641584622543304   \n",
       "1371976  8327270052008857523   \n",
       "1371977  9087355039826620500   \n",
       "1371978  -133214323572869577   \n",
       "1371979 -2661682485847144637   \n",
       "\n",
       "                                                prediction  \n",
       "0                        [695632002, 695632001, 706016001]  \n",
       "1        [737221004, 737221005, 372860001, 736923006, 5...  \n",
       "2                        [734287002, 734287003, 734287001]  \n",
       "3        [865073005, 803324005, 875350002, 865073002, 7...  \n",
       "4        [599719024, 734215002, 759901001, 468480025, 5...  \n",
       "...                                                    ...  \n",
       "1371975  [399256003, 446224024, 493995001, 613246004, 3...  \n",
       "1371976  [680263013, 680265005, 683848001, 702118004, 7...  \n",
       "1371977  [703199003, 783098001, 728162001, 464297007, 1...  \n",
       "1371978  [685811002, 578630022, 685811022, 816591010, 8...  \n",
       "1371979                                                 []  \n",
       "\n",
       "[1371980 rows x 2 columns]"
      ]
     },
     "execution_count": 21,
     "metadata": {},
     "output_type": "execute_result"
    }
   ],
   "source": [
    "match['prediction'] = match['prediction'].str.split(' ')\n",
    "match['prediction'] = match['prediction'].map(lambda x: [int(i) for i in x if i != ''])\n",
    "match"
   ]
  },
  {
   "cell_type": "markdown",
   "id": "7ceda05f",
   "metadata": {},
   "source": [
    "### ランキング csvの読み込み"
   ]
  },
  {
   "cell_type": "code",
   "execution_count": 22,
   "id": "f08f25ed",
   "metadata": {},
   "outputs": [],
   "source": [
    "# 事前に出力しておいたrankingデータの読み込み\n",
    "#simple_ranking = pd.read_csv(f'../input/simple_ranking_{feature_date}_{Nsub}.csv')\n",
    "simple_ranking = pd.read_csv(f'../input/ranking_{feature_date}_{Nsub}_ch.csv')"
   ]
  },
  {
   "cell_type": "code",
   "execution_count": 23,
   "id": "65241a93",
   "metadata": {},
   "outputs": [],
   "source": [
    "simple_ranking = simple_ranking.rename(columns={'prediction':'ranking'})"
   ]
  },
  {
   "cell_type": "code",
   "execution_count": 24,
   "id": "7eed76ef",
   "metadata": {},
   "outputs": [
    {
     "data": {
      "text/plain": [
       "count    1371980.0\n",
       "mean         399.0\n",
       "std            0.0\n",
       "min          399.0\n",
       "25%          399.0\n",
       "50%          399.0\n",
       "75%          399.0\n",
       "max          399.0\n",
       "Name: ranking, dtype: float64"
      ]
     },
     "execution_count": 24,
     "metadata": {},
     "output_type": "execute_result"
    }
   ],
   "source": [
    "simple_ranking['ranking'].apply(len).describe()"
   ]
  },
  {
   "cell_type": "code",
   "execution_count": 25,
   "id": "f51c3f2c",
   "metadata": {},
   "outputs": [
    {
     "data": {
      "text/html": [
       "<div>\n",
       "<style scoped>\n",
       "    .dataframe tbody tr th:only-of-type {\n",
       "        vertical-align: middle;\n",
       "    }\n",
       "\n",
       "    .dataframe tbody tr th {\n",
       "        vertical-align: top;\n",
       "    }\n",
       "\n",
       "    .dataframe thead th {\n",
       "        text-align: right;\n",
       "    }\n",
       "</style>\n",
       "<table border=\"1\" class=\"dataframe\">\n",
       "  <thead>\n",
       "    <tr style=\"text-align: right;\">\n",
       "      <th></th>\n",
       "      <th>customer_id</th>\n",
       "      <th>ranking</th>\n",
       "    </tr>\n",
       "  </thead>\n",
       "  <tbody>\n",
       "    <tr>\n",
       "      <th>0</th>\n",
       "      <td>6883939031699146327</td>\n",
       "      <td>[915529003, 706016001, 909916001, 751471001, 8...</td>\n",
       "    </tr>\n",
       "    <tr>\n",
       "      <th>1</th>\n",
       "      <td>-7200416642310594310</td>\n",
       "      <td>[915526001, 919365008, 706016001, 448509014, 7...</td>\n",
       "    </tr>\n",
       "    <tr>\n",
       "      <th>2</th>\n",
       "      <td>-6846340800584936</td>\n",
       "      <td>[915526001, 919365008, 706016001, 448509014, 7...</td>\n",
       "    </tr>\n",
       "    <tr>\n",
       "      <th>3</th>\n",
       "      <td>-94071612138601410</td>\n",
       "      <td>[751471043, 896152002, 751471001, 893059005, 8...</td>\n",
       "    </tr>\n",
       "    <tr>\n",
       "      <th>4</th>\n",
       "      <td>-283965518499174310</td>\n",
       "      <td>[751471043, 896152002, 751471001, 893059005, 8...</td>\n",
       "    </tr>\n",
       "    <tr>\n",
       "      <th>...</th>\n",
       "      <td>...</td>\n",
       "      <td>...</td>\n",
       "    </tr>\n",
       "    <tr>\n",
       "      <th>1371975</th>\n",
       "      <td>7551062398649767985</td>\n",
       "      <td>[915526001, 919365008, 706016001, 448509014, 7...</td>\n",
       "    </tr>\n",
       "    <tr>\n",
       "      <th>1371976</th>\n",
       "      <td>-9141402131989464905</td>\n",
       "      <td>[915526001, 919365008, 706016001, 448509014, 7...</td>\n",
       "    </tr>\n",
       "    <tr>\n",
       "      <th>1371977</th>\n",
       "      <td>-8286316756823862684</td>\n",
       "      <td>[915526001, 919365008, 706016001, 448509014, 7...</td>\n",
       "    </tr>\n",
       "    <tr>\n",
       "      <th>1371978</th>\n",
       "      <td>2551401172826382186</td>\n",
       "      <td>[915526001, 919365008, 706016001, 448509014, 7...</td>\n",
       "    </tr>\n",
       "    <tr>\n",
       "      <th>1371979</th>\n",
       "      <td>-1516792180973952447</td>\n",
       "      <td>[751471043, 896152002, 751471001, 893059005, 8...</td>\n",
       "    </tr>\n",
       "  </tbody>\n",
       "</table>\n",
       "<p>1371980 rows × 2 columns</p>\n",
       "</div>"
      ],
      "text/plain": [
       "                 customer_id  \\\n",
       "0        6883939031699146327   \n",
       "1       -7200416642310594310   \n",
       "2          -6846340800584936   \n",
       "3         -94071612138601410   \n",
       "4        -283965518499174310   \n",
       "...                      ...   \n",
       "1371975  7551062398649767985   \n",
       "1371976 -9141402131989464905   \n",
       "1371977 -8286316756823862684   \n",
       "1371978  2551401172826382186   \n",
       "1371979 -1516792180973952447   \n",
       "\n",
       "                                                   ranking  \n",
       "0        [915529003, 706016001, 909916001, 751471001, 8...  \n",
       "1        [915526001, 919365008, 706016001, 448509014, 7...  \n",
       "2        [915526001, 919365008, 706016001, 448509014, 7...  \n",
       "3        [751471043, 896152002, 751471001, 893059005, 8...  \n",
       "4        [751471043, 896152002, 751471001, 893059005, 8...  \n",
       "...                                                    ...  \n",
       "1371975  [915526001, 919365008, 706016001, 448509014, 7...  \n",
       "1371976  [915526001, 919365008, 706016001, 448509014, 7...  \n",
       "1371977  [915526001, 919365008, 706016001, 448509014, 7...  \n",
       "1371978  [915526001, 919365008, 706016001, 448509014, 7...  \n",
       "1371979  [751471043, 896152002, 751471001, 893059005, 8...  \n",
       "\n",
       "[1371980 rows x 2 columns]"
      ]
     },
     "execution_count": 25,
     "metadata": {},
     "output_type": "execute_result"
    }
   ],
   "source": [
    "simple_ranking['ranking'] = simple_ranking['ranking'].str.split(' ')\n",
    "simple_ranking"
   ]
  },
  {
   "cell_type": "code",
   "execution_count": 26,
   "id": "15e7299d",
   "metadata": {},
   "outputs": [
    {
     "data": {
      "text/plain": [
       "count    1371980.0\n",
       "mean          40.0\n",
       "std            0.0\n",
       "min           40.0\n",
       "25%           40.0\n",
       "50%           40.0\n",
       "75%           40.0\n",
       "max           40.0\n",
       "Name: ranking, dtype: float64"
      ]
     },
     "execution_count": 26,
     "metadata": {},
     "output_type": "execute_result"
    }
   ],
   "source": [
    "simple_ranking['ranking'].apply(len).describe()"
   ]
  },
  {
   "cell_type": "markdown",
   "id": "7556a395",
   "metadata": {},
   "source": [
    "### ランキングのデータをjoin"
   ]
  },
  {
   "cell_type": "code",
   "execution_count": 27,
   "id": "ecc2292f",
   "metadata": {},
   "outputs": [
    {
     "data": {
      "text/html": [
       "<div>\n",
       "<style scoped>\n",
       "    .dataframe tbody tr th:only-of-type {\n",
       "        vertical-align: middle;\n",
       "    }\n",
       "\n",
       "    .dataframe tbody tr th {\n",
       "        vertical-align: top;\n",
       "    }\n",
       "\n",
       "    .dataframe thead th {\n",
       "        text-align: right;\n",
       "    }\n",
       "</style>\n",
       "<table border=\"1\" class=\"dataframe\">\n",
       "  <thead>\n",
       "    <tr style=\"text-align: right;\">\n",
       "      <th></th>\n",
       "      <th>customer_id</th>\n",
       "      <th>prediction</th>\n",
       "      <th>ranking</th>\n",
       "    </tr>\n",
       "  </thead>\n",
       "  <tbody>\n",
       "    <tr>\n",
       "      <th>0</th>\n",
       "      <td>-4345663252774903357</td>\n",
       "      <td>[695632002, 695632001, 706016001]</td>\n",
       "      <td>[915529003, 706016001, 909916001, 751471001, 8...</td>\n",
       "    </tr>\n",
       "    <tr>\n",
       "      <th>1</th>\n",
       "      <td>-291594535764411411</td>\n",
       "      <td>[737221004, 737221005, 372860001, 736923006, 5...</td>\n",
       "      <td>[751471043, 762846031, 884319003, 896152002, 8...</td>\n",
       "    </tr>\n",
       "    <tr>\n",
       "      <th>2</th>\n",
       "      <td>8267039440814068109</td>\n",
       "      <td>[734287002, 734287003, 734287001]</td>\n",
       "      <td>[916468001, 915526001, 372860001, 918292001, 7...</td>\n",
       "    </tr>\n",
       "    <tr>\n",
       "      <th>3</th>\n",
       "      <td>-1181812018918977698</td>\n",
       "      <td>[865073005, 803324005, 875350002, 865073002, 7...</td>\n",
       "      <td>[915526001, 919365008, 706016001, 448509014, 7...</td>\n",
       "    </tr>\n",
       "    <tr>\n",
       "      <th>4</th>\n",
       "      <td>-4999317557084312486</td>\n",
       "      <td>[599719024, 734215002, 759901001, 468480025, 5...</td>\n",
       "      <td>[915526001, 919365008, 706016001, 448509014, 7...</td>\n",
       "    </tr>\n",
       "  </tbody>\n",
       "</table>\n",
       "</div>"
      ],
      "text/plain": [
       "           customer_id                                         prediction  \\\n",
       "0 -4345663252774903357                  [695632002, 695632001, 706016001]   \n",
       "1  -291594535764411411  [737221004, 737221005, 372860001, 736923006, 5...   \n",
       "2  8267039440814068109                  [734287002, 734287003, 734287001]   \n",
       "3 -1181812018918977698  [865073005, 803324005, 875350002, 865073002, 7...   \n",
       "4 -4999317557084312486  [599719024, 734215002, 759901001, 468480025, 5...   \n",
       "\n",
       "                                             ranking  \n",
       "0  [915529003, 706016001, 909916001, 751471001, 8...  \n",
       "1  [751471043, 762846031, 884319003, 896152002, 8...  \n",
       "2  [916468001, 915526001, 372860001, 918292001, 7...  \n",
       "3  [915526001, 919365008, 706016001, 448509014, 7...  \n",
       "4  [915526001, 919365008, 706016001, 448509014, 7...  "
      ]
     },
     "execution_count": 27,
     "metadata": {},
     "output_type": "execute_result"
    }
   ],
   "source": [
    "match = pd.merge(match, simple_ranking, on='customer_id', how='left')\n",
    "match.head()"
   ]
  },
  {
   "cell_type": "code",
   "execution_count": 28,
   "id": "df3de3b8",
   "metadata": {},
   "outputs": [],
   "source": [
    "Nmax = 25\n",
    "match['match_len'] = match['prediction'].apply(len)\n",
    "match['match_len'] = match['match_len'].astype('int8')\n",
    "\n",
    "match.loc[match['match_len'] > Nmax, ['match_len']] = Nmax"
   ]
  },
  {
   "cell_type": "code",
   "execution_count": null,
   "id": "6db01cd4",
   "metadata": {},
   "outputs": [],
   "source": [
    "match['ranking'] = match.apply(lambda x:  [i for i in x['ranking'] if i not in x['prediction']], axis = 1)\n",
    "match['ranking'].apply(len).describe()"
   ]
  },
  {
   "cell_type": "code",
   "execution_count": null,
   "id": "24c24686",
   "metadata": {},
   "outputs": [],
   "source": [
    "#match['rec_list'] = match.apply(lambda x: (x['prediction']+x['ranking'])[:Nsub], axis = 1)\n",
    "match['rec_list'] = match.apply(lambda x: (x['prediction'][:Nmax]+x['ranking'])[:Nsub], axis = 1)\n",
    "match = match.drop(['prediction', 'ranking'], axis='columns')\n",
    "match['match_rank'] = match.apply(lambda x: [i for i in range(Nsub)], axis = 1)"
   ]
  },
  {
   "cell_type": "code",
   "execution_count": null,
   "id": "958c5c40",
   "metadata": {},
   "outputs": [],
   "source": [
    "match_customer = match['customer_id']\n",
    "match.head()"
   ]
  },
  {
   "cell_type": "code",
   "execution_count": null,
   "id": "2fe614d6",
   "metadata": {},
   "outputs": [],
   "source": [
    "match = match.explode(['rec_list','match_rank'])\n",
    "match = match.rename(columns={'rec_list':'article_id'})\n",
    "match['article_id'] = match['article_id'].astype('int32')\n",
    "match['match_rank'] = match['match_rank'].astype('int8')\n",
    "match['label'] = 0\n",
    "match"
   ]
  },
  {
   "cell_type": "markdown",
   "id": "eee0a3ee",
   "metadata": {},
   "source": [
    "## Add ALS as a feature"
   ]
  },
  {
   "cell_type": "code",
   "execution_count": null,
   "id": "24232d2f",
   "metadata": {},
   "outputs": [],
   "source": [
    "# ALSのデータも素性用に追加する\n",
    "als = pd.read_csv(f'../input/als_{train_start_date}.csv')\n",
    "als['customer_id'] = als['customer_id'].apply(lambda x: int(x[-16:],16) ).astype('int64')\n",
    "als = pd.merge(als, match_customer, on='customer_id', how='inner')\n",
    "als['prediction'] = als['prediction'].str.split(' ')\n",
    "als['prediction'] = als['prediction'].map(lambda x: [int(i) for i in x if i != ''])\n",
    "als['als_rank'] = als.apply(lambda x: [i for i in range(30)], axis = 1)\n",
    "als"
   ]
  },
  {
   "cell_type": "code",
   "execution_count": null,
   "id": "9a766aa1",
   "metadata": {},
   "outputs": [],
   "source": [
    "als = als.explode(['prediction','als_rank'])\n",
    "als = als.rename(columns={'prediction':'article_id'})\n",
    "als['article_id'] = als['article_id'].astype('int32')\n",
    "als['als_rank'] = als['als_rank'].astype('int8')\n",
    "als.head()"
   ]
  },
  {
   "cell_type": "code",
   "execution_count": null,
   "id": "94605493",
   "metadata": {},
   "outputs": [],
   "source": [
    "match = pd.merge(match, als, on=['customer_id', 'article_id'], how='left')\n",
    "match['als_rank'] = match['als_rank'].fillna(99)\n",
    "match['als_rank'] = match['als_rank'].astype('int8')"
   ]
  },
  {
   "cell_type": "markdown",
   "id": "0d7dd331",
   "metadata": {
    "papermill": {
     "duration": 0.090816,
     "end_time": "2022-03-18T14:30:47.652330",
     "exception": false,
     "start_time": "2022-03-18T14:30:47.561514",
     "status": "completed"
    },
    "tags": []
   },
   "source": [
    "## Add labels"
   ]
  },
  {
   "cell_type": "code",
   "execution_count": null,
   "id": "02ec49a3",
   "metadata": {},
   "outputs": [],
   "source": [
    "unique_train = train_data[['customer_id','article_id']].drop_duplicates()"
   ]
  },
  {
   "cell_type": "code",
   "execution_count": null,
   "id": "b8a43a5f",
   "metadata": {},
   "outputs": [],
   "source": [
    "unique_train['label'] = 1\n",
    "unique_train['label'] = unique_train['label'].astype('int32')"
   ]
  },
  {
   "cell_type": "code",
   "execution_count": null,
   "id": "3ef26517",
   "metadata": {},
   "outputs": [],
   "source": [
    "match = pd.merge(match, unique_train, on=['customer_id', 'article_id'], how='left')"
   ]
  },
  {
   "cell_type": "code",
   "execution_count": null,
   "id": "49861328",
   "metadata": {},
   "outputs": [],
   "source": [
    "match['label_y'] = match['label_y'].fillna(0)\n",
    "match['label'] = match['label_x'] + match['label_y']"
   ]
  },
  {
   "cell_type": "code",
   "execution_count": null,
   "id": "9d429c14",
   "metadata": {},
   "outputs": [],
   "source": [
    "match"
   ]
  },
  {
   "cell_type": "code",
   "execution_count": null,
   "id": "0ac75b0b",
   "metadata": {},
   "outputs": [],
   "source": [
    "match = match.drop(['label_x', 'label_y'], axis='columns')\n",
    "match['label'] = match['label'].astype('bool')\n",
    "match.head()"
   ]
  },
  {
   "cell_type": "code",
   "execution_count": null,
   "id": "99e1dc14",
   "metadata": {},
   "outputs": [],
   "source": [
    "# check label dist.\n",
    "match['label'].value_counts()"
   ]
  },
  {
   "cell_type": "code",
   "execution_count": null,
   "id": "471d1287",
   "metadata": {},
   "outputs": [],
   "source": [
    "match.groupby('customer_id')['label'].agg('mean')"
   ]
  },
  {
   "cell_type": "code",
   "execution_count": null,
   "id": "6a3013cf",
   "metadata": {},
   "outputs": [],
   "source": [
    "match.groupby('match_rank')['label'].agg('mean')"
   ]
  },
  {
   "cell_type": "code",
   "execution_count": null,
   "id": "083963ad",
   "metadata": {},
   "outputs": [],
   "source": [
    "match.groupby('match_rank')['label'].agg('mean').sum() # matcingの精度の目安"
   ]
  },
  {
   "cell_type": "code",
   "execution_count": null,
   "id": "41eca21f",
   "metadata": {},
   "outputs": [],
   "source": [
    "match['match_len'].mean()"
   ]
  },
  {
   "cell_type": "code",
   "execution_count": null,
   "id": "a540d1dc",
   "metadata": {},
   "outputs": [],
   "source": [
    "train_group = match\n",
    "del match, unique_train, simple_ranking; gc.collect()"
   ]
  },
  {
   "cell_type": "code",
   "execution_count": null,
   "id": "fd272626",
   "metadata": {},
   "outputs": [],
   "source": [
    "train_group"
   ]
  },
  {
   "cell_type": "markdown",
   "id": "d275d81f",
   "metadata": {
    "papermill": {
     "duration": 0.103839,
     "end_time": "2022-03-18T14:32:02.168358",
     "exception": false,
     "start_time": "2022-03-18T14:32:02.064519",
     "status": "completed"
    },
    "tags": []
   },
   "source": [
    "## Customer features"
   ]
  },
  {
   "cell_type": "markdown",
   "id": "82983283",
   "metadata": {
    "papermill": {
     "duration": 0.106041,
     "end_time": "2022-03-18T14:32:02.378766",
     "exception": false,
     "start_time": "2022-03-18T14:32:02.272725",
     "status": "completed"
    },
    "tags": []
   },
   "source": [
    "- customer_idごとに素性を作成"
   ]
  },
  {
   "cell_type": "code",
   "execution_count": null,
   "id": "1135e9e5",
   "metadata": {
    "execution": {
     "iopub.execute_input": "2022-03-18T14:32:02.590657Z",
     "iopub.status.busy": "2022-03-18T14:32:02.589759Z",
     "iopub.status.idle": "2022-03-18T14:32:08.686000Z",
     "shell.execute_reply": "2022-03-18T14:32:08.685074Z",
     "shell.execute_reply.started": "2022-03-18T14:02:10.562241Z"
    },
    "papermill": {
     "duration": 6.202488,
     "end_time": "2022-03-18T14:32:08.686197",
     "exception": false,
     "start_time": "2022-03-18T14:32:02.483709",
     "status": "completed"
    },
    "tags": []
   },
   "outputs": [],
   "source": [
    "customers = pd.read_csv(path + 'customers.csv')\n",
    "customers"
   ]
  },
  {
   "cell_type": "code",
   "execution_count": null,
   "id": "a129f8e8",
   "metadata": {
    "execution": {
     "iopub.execute_input": "2022-03-18T14:32:08.898185Z",
     "iopub.status.busy": "2022-03-18T14:32:08.897212Z",
     "iopub.status.idle": "2022-03-18T14:32:08.907828Z",
     "shell.execute_reply": "2022-03-18T14:32:08.907104Z",
     "shell.execute_reply.started": "2022-03-18T14:02:16.004254Z"
    },
    "papermill": {
     "duration": 0.116846,
     "end_time": "2022-03-18T14:32:08.908030",
     "exception": false,
     "start_time": "2022-03-18T14:32:08.791184",
     "status": "completed"
    },
    "tags": []
   },
   "outputs": [],
   "source": [
    "print(customers.memory_usage())\n",
    "print(customers.dtypes)"
   ]
  },
  {
   "cell_type": "code",
   "execution_count": null,
   "id": "2e5754e9",
   "metadata": {
    "execution": {
     "iopub.execute_input": "2022-03-18T14:32:09.126964Z",
     "iopub.status.busy": "2022-03-18T14:32:09.126254Z",
     "iopub.status.idle": "2022-03-18T14:32:13.206558Z",
     "shell.execute_reply": "2022-03-18T14:32:13.205919Z",
     "shell.execute_reply.started": "2022-03-18T14:02:16.015318Z"
    },
    "papermill": {
     "duration": 4.194225,
     "end_time": "2022-03-18T14:32:13.206740",
     "exception": false,
     "start_time": "2022-03-18T14:32:09.012515",
     "status": "completed"
    },
    "tags": []
   },
   "outputs": [],
   "source": [
    "customers['customer_id'] = customers['customer_id'].apply(lambda x: int(x[-16:],16) ).astype('int64')\n",
    "customers['age'] = customers['age'].fillna(0).astype('int8')\n",
    "customers['FN'] = customers['FN'].fillna(0).astype('bool')\n",
    "customers['Active'] = customers['Active'].fillna(0).astype('bool')\n",
    "customers['club_member_status'] = customers['club_member_status'].fillna('NA').astype('category').cat.codes\n",
    "customers['fashion_news_frequency'] = customers['fashion_news_frequency'].fillna('NA').astype('category').cat.codes\n",
    "# 長いのでuniqueになるようcategory型にした後に番号をふる\n",
    "customers['postal_code'] = customers['postal_code'].fillna('NA').astype('category').cat.codes\n",
    "#customers['postal_code'] = customers['postal_code'].fillna('NA').astype('category')"
   ]
  },
  {
   "cell_type": "code",
   "execution_count": null,
   "id": "2ee36971",
   "metadata": {
    "execution": {
     "iopub.execute_input": "2022-03-18T14:32:13.420077Z",
     "iopub.status.busy": "2022-03-18T14:32:13.419424Z",
     "iopub.status.idle": "2022-03-18T14:32:13.427443Z",
     "shell.execute_reply": "2022-03-18T14:32:13.426822Z",
     "shell.execute_reply.started": "2022-03-18T14:02:20.239279Z"
    },
    "papermill": {
     "duration": 0.115636,
     "end_time": "2022-03-18T14:32:13.427612",
     "exception": false,
     "start_time": "2022-03-18T14:32:13.311976",
     "status": "completed"
    },
    "tags": []
   },
   "outputs": [],
   "source": [
    "print(customers.memory_usage())\n",
    "print(customers.dtypes)"
   ]
  },
  {
   "cell_type": "code",
   "execution_count": null,
   "id": "8837cfab",
   "metadata": {
    "execution": {
     "iopub.execute_input": "2022-03-18T14:32:13.643098Z",
     "iopub.status.busy": "2022-03-18T14:32:13.642344Z",
     "iopub.status.idle": "2022-03-18T14:32:13.672885Z",
     "shell.execute_reply": "2022-03-18T14:32:13.673560Z",
     "shell.execute_reply.started": "2022-03-18T14:02:20.249081Z"
    },
    "papermill": {
     "duration": 0.140901,
     "end_time": "2022-03-18T14:32:13.673800",
     "exception": false,
     "start_time": "2022-03-18T14:32:13.532899",
     "status": "completed"
    },
    "tags": []
   },
   "outputs": [],
   "source": [
    "print(customers['club_member_status'].value_counts())\n",
    "print(customers['club_member_status'].value_counts())\n",
    "print(customers['fashion_news_frequency'].value_counts())\n",
    "print(customers['postal_code'].value_counts)"
   ]
  },
  {
   "cell_type": "code",
   "execution_count": null,
   "id": "46b51505",
   "metadata": {
    "execution": {
     "iopub.execute_input": "2022-03-18T14:32:13.893690Z",
     "iopub.status.busy": "2022-03-18T14:32:13.892432Z",
     "iopub.status.idle": "2022-03-18T14:32:13.908880Z",
     "shell.execute_reply": "2022-03-18T14:32:13.909406Z",
     "shell.execute_reply.started": "2022-03-18T14:02:20.291474Z"
    },
    "papermill": {
     "duration": 0.12683,
     "end_time": "2022-03-18T14:32:13.909613",
     "exception": false,
     "start_time": "2022-03-18T14:32:13.782783",
     "status": "completed"
    },
    "tags": []
   },
   "outputs": [],
   "source": [
    "customers"
   ]
  },
  {
   "cell_type": "markdown",
   "id": "b0431a97",
   "metadata": {
    "papermill": {
     "duration": 0.108476,
     "end_time": "2022-03-18T14:32:14.126846",
     "exception": false,
     "start_time": "2022-03-18T14:32:14.018370",
     "status": "completed"
    },
    "tags": []
   },
   "source": [
    "## Article features"
   ]
  },
  {
   "cell_type": "code",
   "execution_count": null,
   "id": "0e625170",
   "metadata": {
    "execution": {
     "iopub.execute_input": "2022-03-18T14:32:14.346319Z",
     "iopub.status.busy": "2022-03-18T14:32:14.345316Z",
     "iopub.status.idle": "2022-03-18T14:32:15.509408Z",
     "shell.execute_reply": "2022-03-18T14:32:15.508779Z",
     "shell.execute_reply.started": "2022-03-18T14:02:20.317664Z"
    },
    "papermill": {
     "duration": 1.27462,
     "end_time": "2022-03-18T14:32:15.509589",
     "exception": false,
     "start_time": "2022-03-18T14:32:14.234969",
     "status": "completed"
    },
    "tags": []
   },
   "outputs": [],
   "source": [
    "articles = pd.read_csv(path + 'articles.csv')\n",
    "articles.head()"
   ]
  },
  {
   "cell_type": "code",
   "execution_count": null,
   "id": "58f7464f",
   "metadata": {
    "execution": {
     "iopub.execute_input": "2022-03-18T14:32:15.735496Z",
     "iopub.status.busy": "2022-03-18T14:32:15.734721Z",
     "iopub.status.idle": "2022-03-18T14:32:15.738423Z",
     "shell.execute_reply": "2022-03-18T14:32:15.738998Z",
     "shell.execute_reply.started": "2022-03-18T14:02:21.394205Z"
    },
    "papermill": {
     "duration": 0.121987,
     "end_time": "2022-03-18T14:32:15.739221",
     "exception": false,
     "start_time": "2022-03-18T14:32:15.617234",
     "status": "completed"
    },
    "tags": []
   },
   "outputs": [],
   "source": [
    "print(articles.memory_usage())\n",
    "print(articles.dtypes)"
   ]
  },
  {
   "cell_type": "code",
   "execution_count": null,
   "id": "6e7ab927",
   "metadata": {
    "execution": {
     "iopub.execute_input": "2022-03-18T14:32:15.958000Z",
     "iopub.status.busy": "2022-03-18T14:32:15.955654Z",
     "iopub.status.idle": "2022-03-18T14:32:15.966601Z",
     "shell.execute_reply": "2022-03-18T14:32:15.965979Z",
     "shell.execute_reply.started": "2022-03-18T14:02:21.405360Z"
    },
    "papermill": {
     "duration": 0.121499,
     "end_time": "2022-03-18T14:32:15.966749",
     "exception": false,
     "start_time": "2022-03-18T14:32:15.845250",
     "status": "completed"
    },
    "tags": []
   },
   "outputs": [],
   "source": [
    "articles['article_id'] = articles['article_id'].astype('int32')"
   ]
  },
  {
   "cell_type": "code",
   "execution_count": null,
   "id": "dfc38a37",
   "metadata": {},
   "outputs": [],
   "source": [
    "# add gender features\n",
    "# https://www.kaggle.com/code/lichtlab/h-m-data-deep-dive-chap-1-understand-article\n",
    "def set_gender_flg(x):\n",
    "    x['is_for_male'] = 0\n",
    "    x['is_for_female'] = 0\n",
    "    x['is_for_mama'] = 0\n",
    "    if x['index_group_name'] in ['Ladieswear','Divided']:\n",
    "        x['is_for_female'] = 1\n",
    "    if x['index_group_name'] == 'Menswear':\n",
    "        x['is_for_male'] = 1\n",
    "    if x['index_group_name'] in ['Baby/Children','Sport']:\n",
    "        if 'boy' in x['department_name'].lower() or 'men' in x['department_name'].lower():\n",
    "            x['is_for_male'] = 1\n",
    "        if 'girl' in x['department_name'].lower() or 'ladies' in x['department_name'].lower():\n",
    "            x['is_for_female'] = 1\n",
    "    if x['section_name'] == 'Mama':\n",
    "        x['is_for_mama'] = 1\n",
    "    return x"
   ]
  },
  {
   "cell_type": "code",
   "execution_count": null,
   "id": "73853b68",
   "metadata": {},
   "outputs": [],
   "source": [
    "articles = articles.apply(set_gender_flg, axis=1)\n",
    "articles.head()"
   ]
  },
  {
   "cell_type": "code",
   "execution_count": null,
   "id": "8a4afb0c",
   "metadata": {
    "execution": {
     "iopub.execute_input": "2022-03-18T14:32:16.196424Z",
     "iopub.status.busy": "2022-03-18T14:32:16.195723Z",
     "iopub.status.idle": "2022-03-18T14:32:16.199210Z",
     "shell.execute_reply": "2022-03-18T14:32:16.198560Z",
     "shell.execute_reply.started": "2022-03-18T14:02:21.419213Z"
    },
    "papermill": {
     "duration": 0.121529,
     "end_time": "2022-03-18T14:32:16.199382",
     "exception": false,
     "start_time": "2022-03-18T14:32:16.077853",
     "status": "completed"
    },
    "tags": []
   },
   "outputs": [],
   "source": [
    "# idがあるカラムのnameは消す\n",
    "drop_list = ['product_type_name', \n",
    "             'graphical_appearance_name', \n",
    "             'colour_group_name', \n",
    "             'perceived_colour_value_name', \n",
    "             'perceived_colour_master_name',\n",
    "             'department_name',\n",
    "             'index_name',\n",
    "             'index_group_name',\n",
    "             'section_name',\n",
    "             'garment_group_name',\n",
    "             'prod_name',\n",
    "             'detail_desc'\n",
    "            ]\n",
    "\n",
    "articles = articles.drop(drop_list, axis='columns')"
   ]
  },
  {
   "cell_type": "code",
   "execution_count": null,
   "id": "df5db5dc",
   "metadata": {
    "execution": {
     "iopub.execute_input": "2022-03-18T14:32:16.422115Z",
     "iopub.status.busy": "2022-03-18T14:32:16.421430Z",
     "iopub.status.idle": "2022-03-18T14:32:16.461513Z",
     "shell.execute_reply": "2022-03-18T14:32:16.460788Z",
     "shell.execute_reply.started": "2022-03-18T14:02:21.433442Z"
    },
    "papermill": {
     "duration": 0.15573,
     "end_time": "2022-03-18T14:32:16.461659",
     "exception": false,
     "start_time": "2022-03-18T14:32:16.305929",
     "status": "completed"
    },
    "tags": []
   },
   "outputs": [],
   "source": [
    "articles['product_code']                = articles['product_code'].fillna(0).astype('int32')                \n",
    "articles['product_type_no']             = articles['product_type_no'].astype('int32')               \n",
    "articles['graphical_appearance_no']     = articles['graphical_appearance_no'].astype('int32') \n",
    "articles['colour_group_code']           = articles['colour_group_code'].astype('int32')   \n",
    "articles['perceived_colour_value_id']   = articles['perceived_colour_value_id'].astype('int32')     \n",
    "articles['perceived_colour_master_id']  = articles['perceived_colour_master_id'].astype('int32')    \n",
    "articles['department_no']               = articles['department_no'].astype('category').cat.codes                 \n",
    "articles['index_code']                  = articles['index_code'].astype('category').cat.codes                 \n",
    "articles['index_group_no']              = articles['index_group_no'].astype('int8')                \n",
    "articles['section_no']                  = articles['section_no'].astype('int8')                    \n",
    "articles['garment_group_no']            = articles['garment_group_no'].astype('int16')              \n",
    "articles['product_group_no']            = articles['product_group_name'].fillna('NA').astype('category').cat.codes.astype('int32') # nameからnoを生成\n",
    "articles['is_for_male']                 = articles['is_for_male'].astype('bool')              \n",
    "articles['is_for_female']               = articles['is_for_female'].astype('bool')              \n",
    "articles['is_for_mama']                 = articles['is_for_mama'].astype('bool')              \n",
    "articles = articles.drop('product_group_name', axis='columns')"
   ]
  },
  {
   "cell_type": "code",
   "execution_count": null,
   "id": "1ce5f3ba",
   "metadata": {
    "execution": {
     "iopub.execute_input": "2022-03-18T14:32:16.686681Z",
     "iopub.status.busy": "2022-03-18T14:32:16.682326Z",
     "iopub.status.idle": "2022-03-18T14:32:16.696613Z",
     "shell.execute_reply": "2022-03-18T14:32:16.695965Z",
     "shell.execute_reply.started": "2022-03-18T14:02:21.476871Z"
    },
    "papermill": {
     "duration": 0.128302,
     "end_time": "2022-03-18T14:32:16.696753",
     "exception": false,
     "start_time": "2022-03-18T14:32:16.568451",
     "status": "completed"
    },
    "tags": []
   },
   "outputs": [],
   "source": [
    "articles"
   ]
  },
  {
   "cell_type": "markdown",
   "id": "34bc0985",
   "metadata": {
    "papermill": {
     "duration": 0.107054,
     "end_time": "2022-03-18T14:32:16.913501",
     "exception": false,
     "start_time": "2022-03-18T14:32:16.806447",
     "status": "completed"
    },
    "tags": []
   },
   "source": [
    "## dynamic features"
   ]
  },
  {
   "cell_type": "markdown",
   "id": "dad51120",
   "metadata": {
    "papermill": {
     "duration": 0.106489,
     "end_time": "2022-03-18T14:32:17.128439",
     "exception": false,
     "start_time": "2022-03-18T14:32:17.021950",
     "status": "completed"
    },
    "tags": []
   },
   "source": [
    "### train"
   ]
  },
  {
   "cell_type": "code",
   "execution_count": null,
   "id": "2febe864",
   "metadata": {
    "execution": {
     "iopub.execute_input": "2022-03-18T14:32:19.660998Z",
     "iopub.status.busy": "2022-03-18T14:32:19.659950Z",
     "iopub.status.idle": "2022-03-18T14:32:19.664723Z",
     "shell.execute_reply": "2022-03-18T14:32:19.664029Z",
     "shell.execute_reply.started": "2022-03-18T14:02:23.352068Z"
    },
    "papermill": {
     "duration": 0.12544,
     "end_time": "2022-03-18T14:32:19.664891",
     "exception": false,
     "start_time": "2022-03-18T14:32:19.539451",
     "status": "completed"
    },
    "tags": []
   },
   "outputs": [],
   "source": [
    "feature_data.head()"
   ]
  },
  {
   "cell_type": "code",
   "execution_count": null,
   "id": "e772f06c",
   "metadata": {
    "execution": {
     "iopub.execute_input": "2022-03-18T14:32:19.896050Z",
     "iopub.status.busy": "2022-03-18T14:32:19.894153Z",
     "iopub.status.idle": "2022-03-18T14:32:40.241260Z",
     "shell.execute_reply": "2022-03-18T14:32:40.240684Z",
     "shell.execute_reply.started": "2022-03-18T14:02:23.366263Z"
    },
    "papermill": {
     "duration": 20.465356,
     "end_time": "2022-03-18T14:32:40.241441",
     "exception": false,
     "start_time": "2022-03-18T14:32:19.776085",
     "status": "completed"
    },
    "tags": []
   },
   "outputs": [],
   "source": [
    "joined_feature = pd.merge(feature_data, customers, on='customer_id', how='left')\n",
    "joined_feature = pd.merge(joined_feature, articles, on='article_id', how='left')\n",
    "del feature_data; gc.collect()"
   ]
  },
  {
   "cell_type": "code",
   "execution_count": null,
   "id": "91a05231",
   "metadata": {
    "execution": {
     "iopub.execute_input": "2022-03-18T14:32:40.468922Z",
     "iopub.status.busy": "2022-03-18T14:32:40.466512Z",
     "iopub.status.idle": "2022-03-18T14:32:40.490381Z",
     "shell.execute_reply": "2022-03-18T14:32:40.489707Z",
     "shell.execute_reply.started": "2022-03-18T14:02:42.898202Z"
    },
    "papermill": {
     "duration": 0.139251,
     "end_time": "2022-03-18T14:32:40.490546",
     "exception": false,
     "start_time": "2022-03-18T14:32:40.351295",
     "status": "completed"
    },
    "tags": []
   },
   "outputs": [],
   "source": [
    "joined_feature.head()"
   ]
  },
  {
   "cell_type": "code",
   "execution_count": null,
   "id": "62b21e29",
   "metadata": {},
   "outputs": [],
   "source": [
    "tmp = joined_feature.groupby('customer_id').t_dat.max().reset_index()\n",
    "tmp = tmp.rename(columns={'t_dat':'max_dat'})\n",
    "tmp['diff_dat_last_buy'] = (train_start_date_dt - tmp['max_dat']).dt.days\n",
    "tmp.columns = ['customer_id','max_dat', 'diff_dat_last_buy']\n",
    "joined_feature = joined_feature.merge(tmp,on=['customer_id'],how='left')\n",
    "#del tmp; gc.collect()"
   ]
  },
  {
   "cell_type": "code",
   "execution_count": null,
   "id": "8805fb00",
   "metadata": {},
   "outputs": [],
   "source": [
    "joined_feature['diff_dat'] = (joined_feature['max_dat'] - joined_feature['t_dat']).dt.days\n",
    "joined_feature = joined_feature.drop('max_dat', axis='columns')\n",
    "joined_last_week = joined_feature.loc[joined_feature['diff_dat']<=6]"
   ]
  },
  {
   "cell_type": "code",
   "execution_count": null,
   "id": "593c3147",
   "metadata": {},
   "outputs": [],
   "source": [
    "joined_feature.head()"
   ]
  },
  {
   "cell_type": "code",
   "execution_count": null,
   "id": "358adc9f",
   "metadata": {},
   "outputs": [],
   "source": [
    "joined_last_week.head()"
   ]
  },
  {
   "cell_type": "code",
   "execution_count": null,
   "id": "05405a13",
   "metadata": {
    "execution": {
     "iopub.execute_input": "2022-03-18T14:32:40.727770Z",
     "iopub.status.busy": "2022-03-18T14:32:40.726405Z",
     "iopub.status.idle": "2022-03-18T14:32:42.811510Z",
     "shell.execute_reply": "2022-03-18T14:32:42.810918Z",
     "shell.execute_reply.started": "2022-03-18T14:02:42.920205Z"
    },
    "papermill": {
     "duration": 2.210133,
     "end_time": "2022-03-18T14:32:42.811666",
     "exception": false,
     "start_time": "2022-03-18T14:32:40.601533",
     "status": "completed"
    },
    "tags": []
   },
   "outputs": [],
   "source": [
    "joined_recent = joined_feature.query(f\"'{feature_date}' <= t_dat\").reset_index(drop=True) # 1 week ago\n",
    "joined_recent2 = joined_feature.query(f\"'{feature_date2}' <= t_dat and t_dat < '{feature_date}'\").reset_index(drop=True) # 2 weeks ago"
   ]
  },
  {
   "cell_type": "markdown",
   "id": "43464215",
   "metadata": {
    "papermill": {
     "duration": 0.10933,
     "end_time": "2022-03-18T14:32:43.030913",
     "exception": false,
     "start_time": "2022-03-18T14:32:42.921583",
     "status": "completed"
    },
    "tags": []
   },
   "source": [
    "### dynamic customer features"
   ]
  },
  {
   "cell_type": "code",
   "execution_count": null,
   "id": "4037a706",
   "metadata": {
    "execution": {
     "iopub.execute_input": "2022-03-18T14:32:43.725615Z",
     "iopub.status.busy": "2022-03-18T14:32:43.724871Z",
     "iopub.status.idle": "2022-03-18T14:32:47.995860Z",
     "shell.execute_reply": "2022-03-18T14:32:47.995306Z",
     "shell.execute_reply.started": "2022-03-18T14:02:44.898497Z"
    },
    "papermill": {
     "duration": 4.387635,
     "end_time": "2022-03-18T14:32:47.996008",
     "exception": false,
     "start_time": "2022-03-18T14:32:43.608373",
     "status": "completed"
    },
    "tags": []
   },
   "outputs": [],
   "source": [
    "# customerごとの平均購入価格, key: customer_id\n",
    "c_mean_price = joined_feature.groupby('customer_id')['price'].agg('mean').reset_index(name='c_mean_price')\n",
    "customers = pd.merge(customers, c_mean_price, on='customer_id', how='left')\n",
    "customers['c_mean_price'] = customers['c_mean_price'].fillna(0).astype('float16')                \n",
    "del c_mean_price; gc.collect()\n",
    "customers['c_mean_price'].head()"
   ]
  },
  {
   "cell_type": "code",
   "execution_count": null,
   "id": "5f5fd2dc",
   "metadata": {},
   "outputs": [],
   "source": [
    "# customerごとの購入価格の標準偏差, key: customer_id\n",
    "c_std_price = joined_feature.groupby('customer_id')['price'].agg('std').reset_index(name='c_std_price')\n",
    "customers = pd.merge(customers, c_std_price, on='customer_id', how='left')\n",
    "customers['c_std_price'] = customers['c_std_price'].fillna(0).astype('float16')                \n",
    "del c_std_price; gc.collect()\n",
    "customers['c_std_price'].head()"
   ]
  },
  {
   "cell_type": "code",
   "execution_count": null,
   "id": "1b4cbe5e",
   "metadata": {
    "execution": {
     "iopub.execute_input": "2022-03-18T14:32:48.226673Z",
     "iopub.status.busy": "2022-03-18T14:32:48.226004Z",
     "iopub.status.idle": "2022-03-18T14:32:51.615829Z",
     "shell.execute_reply": "2022-03-18T14:32:51.615188Z",
     "shell.execute_reply.started": "2022-03-18T14:02:48.851136Z"
    },
    "papermill": {
     "duration": 3.506773,
     "end_time": "2022-03-18T14:32:51.615984",
     "exception": false,
     "start_time": "2022-03-18T14:32:48.109211",
     "status": "completed"
    },
    "tags": []
   },
   "outputs": [],
   "source": [
    "# customerごとの合計cv数, key: customer_id\n",
    "c_cv_total = joined_feature.groupby('customer_id').size().reset_index(name='c_cv_total')\n",
    "customers = pd.merge(customers, c_cv_total, on='customer_id', how='left')\n",
    "del c_cv_total; gc.collect()\n",
    "customers['c_cv_total'] = customers['c_cv_total'].fillna(0).astype('int32')\n",
    "customers['c_cv_total'].head()"
   ]
  },
  {
   "cell_type": "code",
   "execution_count": null,
   "id": "203ce453",
   "metadata": {
    "execution": {
     "iopub.execute_input": "2022-03-18T14:32:51.879415Z",
     "iopub.status.busy": "2022-03-18T14:32:51.878699Z",
     "iopub.status.idle": "2022-03-18T14:32:52.375068Z",
     "shell.execute_reply": "2022-03-18T14:32:52.374407Z",
     "shell.execute_reply.started": "2022-03-18T14:02:52.246408Z"
    },
    "papermill": {
     "duration": 0.622885,
     "end_time": "2022-03-18T14:32:52.375254",
     "exception": false,
     "start_time": "2022-03-18T14:32:51.752369",
     "status": "completed"
    },
    "tags": []
   },
   "outputs": [],
   "source": [
    "# 直近1週間、customerごとの合計cv数, key: customer_id\n",
    "c_cv_recent = joined_recent.groupby('customer_id').size().reset_index(name='c_cv_recent')\n",
    "customers = pd.merge(customers, c_cv_recent, on='customer_id', how='left')\n",
    "del c_cv_recent; gc.collect()\n",
    "customers['c_cv_recent'] = customers['c_cv_recent'].fillna(0).astype('int32')\n",
    "customers['c_cv_recent'].head()"
   ]
  },
  {
   "cell_type": "code",
   "execution_count": null,
   "id": "1b8d3be5",
   "metadata": {
    "execution": {
     "iopub.execute_input": "2022-03-18T14:32:52.603997Z",
     "iopub.status.busy": "2022-03-18T14:32:52.603304Z",
     "iopub.status.idle": "2022-03-18T14:32:56.994662Z",
     "shell.execute_reply": "2022-03-18T14:32:56.993931Z",
     "shell.execute_reply.started": "2022-03-18T14:02:52.782127Z"
    },
    "papermill": {
     "duration": 4.506268,
     "end_time": "2022-03-18T14:32:56.994825",
     "exception": false,
     "start_time": "2022-03-18T14:32:52.488557",
     "status": "completed"
    },
    "tags": []
   },
   "outputs": [],
   "source": [
    "# customerごとの平均sales_channel_id, key: customer_id\n",
    "c_mean_sales_channel_id = joined_feature.groupby('customer_id')['sales_channel_id'].agg('mean').reset_index(name='c_mean_sales_channel_id')\n",
    "customers = pd.merge(customers, c_mean_sales_channel_id, on='customer_id', how='left')\n",
    "customers['c_mean_sales_channel_id'] = customers['c_mean_sales_channel_id'].fillna(0).astype('float16')                \n",
    "del c_mean_sales_channel_id; gc.collect()\n",
    "customers['c_mean_sales_channel_id'].head()"
   ]
  },
  {
   "cell_type": "code",
   "execution_count": null,
   "id": "67f0b046",
   "metadata": {},
   "outputs": [],
   "source": [
    "# customerごとの平均is_for_male, key: customer_id\n",
    "c_mean_is_for_male = joined_feature.groupby('customer_id')['is_for_male'].agg('mean').reset_index(name='c_mean_is_for_male')\n",
    "customers = pd.merge(customers, c_mean_is_for_male, on='customer_id', how='left')\n",
    "customers['c_mean_is_for_male'] = customers['c_mean_is_for_male'].fillna(0).astype('float16')                \n",
    "del c_mean_is_for_male; gc.collect()\n",
    "customers['c_mean_is_for_male'].head()"
   ]
  },
  {
   "cell_type": "code",
   "execution_count": null,
   "id": "2136127f",
   "metadata": {},
   "outputs": [],
   "source": [
    "# customerごとの平均is_for_female, key: customer_id\n",
    "c_mean_is_for_female = joined_feature.groupby('customer_id')['is_for_female'].agg('mean').reset_index(name='c_mean_is_for_female')\n",
    "customers = pd.merge(customers, c_mean_is_for_female, on='customer_id', how='left')\n",
    "customers['c_mean_is_for_female'] = customers['c_mean_is_for_female'].fillna(0).astype('float16')                \n",
    "del c_mean_is_for_female; gc.collect()\n",
    "customers['c_mean_is_for_female'].head()"
   ]
  },
  {
   "cell_type": "code",
   "execution_count": null,
   "id": "ab6f28c5",
   "metadata": {},
   "outputs": [],
   "source": [
    "# customerごとの平均is_for_mama, key: customer_id\n",
    "c_mean_is_for_mama = joined_feature.groupby('customer_id')['is_for_mama'].agg('mean').reset_index(name='c_mean_is_for_mama')\n",
    "customers = pd.merge(customers, c_mean_is_for_mama, on='customer_id', how='left')\n",
    "customers['c_mean_is_for_mama'] = customers['c_mean_is_for_mama'].fillna(0).astype('float16')                \n",
    "del c_mean_is_for_mama; gc.collect()\n",
    "customers['c_mean_is_for_mama'].head()"
   ]
  },
  {
   "cell_type": "code",
   "execution_count": null,
   "id": "331b9e7c",
   "metadata": {},
   "outputs": [],
   "source": [
    "# customerごとの最後の購入が何日前か, key: customer_id\n",
    "tmp = tmp[['customer_id','diff_dat_last_buy']] # 以前計算したものを再利用\n",
    "customers = pd.merge(customers, tmp, on='customer_id', how='left')\n",
    "customers['diff_dat_last_buy'] = customers['diff_dat_last_buy'].fillna(0).astype('int16')                \n",
    "del tmp; gc.collect()\n",
    "customers['diff_dat_last_buy'].head()"
   ]
  },
  {
   "cell_type": "markdown",
   "id": "0436b896",
   "metadata": {
    "papermill": {
     "duration": 0.11297,
     "end_time": "2022-03-18T14:32:57.220872",
     "exception": false,
     "start_time": "2022-03-18T14:32:57.107902",
     "status": "completed"
    },
    "tags": []
   },
   "source": [
    "### dynamic article features"
   ]
  },
  {
   "cell_type": "code",
   "execution_count": null,
   "id": "96e24838",
   "metadata": {
    "execution": {
     "iopub.execute_input": "2022-03-18T14:32:57.692857Z",
     "iopub.status.busy": "2022-03-18T14:32:57.692152Z",
     "iopub.status.idle": "2022-03-18T14:32:59.424822Z",
     "shell.execute_reply": "2022-03-18T14:32:59.425346Z",
     "shell.execute_reply.started": "2022-03-18T14:02:56.851513Z"
    },
    "papermill": {
     "duration": 1.855492,
     "end_time": "2022-03-18T14:32:59.425564",
     "exception": false,
     "start_time": "2022-03-18T14:32:57.570072",
     "status": "completed"
    },
    "tags": []
   },
   "outputs": [],
   "source": [
    "# articleごとの平均購入価格, key: article_id\n",
    "a_mean_price = joined_feature.groupby('article_id')['price'].agg('mean').reset_index(name='a_mean_price')\n",
    "articles = pd.merge(articles, a_mean_price, on='article_id', how='left')\n",
    "articles['a_mean_price'] = articles['a_mean_price'].fillna(0).astype('float32')                \n",
    "del a_mean_price; gc.collect()\n",
    "articles['a_mean_price'].head()"
   ]
  },
  {
   "cell_type": "code",
   "execution_count": null,
   "id": "d9790978",
   "metadata": {
    "execution": {
     "iopub.execute_input": "2022-03-18T14:32:59.659305Z",
     "iopub.status.busy": "2022-03-18T14:32:59.658505Z",
     "iopub.status.idle": "2022-03-18T14:33:01.066501Z",
     "shell.execute_reply": "2022-03-18T14:33:01.067038Z",
     "shell.execute_reply.started": "2022-03-18T14:02:58.266213Z"
    },
    "papermill": {
     "duration": 1.52868,
     "end_time": "2022-03-18T14:33:01.067274",
     "exception": false,
     "start_time": "2022-03-18T14:32:59.538594",
     "status": "completed"
    },
    "tags": []
   },
   "outputs": [],
   "source": [
    "# articleごとの合計cv数, key: article_id\n",
    "a_cv_total = joined_feature.groupby('article_id').size().reset_index(name='a_cv_total')\n",
    "articles = pd.merge(articles, a_cv_total, on='article_id', how='left')\n",
    "del a_cv_total; gc.collect()\n",
    "articles['a_cv_total'] = articles['a_cv_total'].fillna(0).astype('int32')\n",
    "articles['a_cv_total'].head()"
   ]
  },
  {
   "cell_type": "code",
   "execution_count": null,
   "id": "6e5d27a1",
   "metadata": {
    "execution": {
     "iopub.execute_input": "2022-03-18T14:33:01.300530Z",
     "iopub.status.busy": "2022-03-18T14:33:01.297052Z",
     "iopub.status.idle": "2022-03-18T14:33:01.447441Z",
     "shell.execute_reply": "2022-03-18T14:33:01.447938Z",
     "shell.execute_reply.started": "2022-03-18T14:02:59.693759Z"
    },
    "papermill": {
     "duration": 0.268152,
     "end_time": "2022-03-18T14:33:01.448166",
     "exception": false,
     "start_time": "2022-03-18T14:33:01.180014",
     "status": "completed"
    },
    "tags": []
   },
   "outputs": [],
   "source": [
    "# 直近1週間、articleごとの合計cv数, key: article_id\n",
    "a_cv_recent = joined_recent.groupby('article_id').size().reset_index(name='a_cv_recent')\n",
    "articles = pd.merge(articles, a_cv_recent, on='article_id', how='left')\n",
    "del a_cv_recent; gc.collect()\n",
    "articles['a_cv_recent'] = articles['a_cv_recent'].fillna(0).astype('int32')                \n",
    "articles['a_cv_recent'].head()"
   ]
  },
  {
   "cell_type": "code",
   "execution_count": null,
   "id": "72981d6e",
   "metadata": {},
   "outputs": [],
   "source": [
    "# 直近1週間、articleごとの合計cv数, online\n",
    "a_cv_recent_on = joined_recent.query('sales_channel_id == 2').groupby('article_id').size().reset_index(name='a_cv_recent_on')\n",
    "articles = pd.merge(articles, a_cv_recent_on, on='article_id', how='left')\n",
    "del a_cv_recent_on; gc.collect()\n",
    "articles['a_cv_recent_on'] = articles['a_cv_recent_on'].fillna(0).astype('int32')                \n",
    "articles['a_cv_recent_on'].head()"
   ]
  },
  {
   "cell_type": "code",
   "execution_count": null,
   "id": "3d8b0c58",
   "metadata": {},
   "outputs": [],
   "source": [
    "# 直近1週間、articleごとの合計cv数, offline\n",
    "a_cv_recent_off = joined_recent.query('sales_channel_id == 1').groupby('article_id').size().reset_index(name='a_cv_recent_off')\n",
    "articles = pd.merge(articles, a_cv_recent_off, on='article_id', how='left')\n",
    "del a_cv_recent_off; gc.collect()\n",
    "articles['a_cv_recent_off'] = articles['a_cv_recent_off'].fillna(0).astype('int32')                \n",
    "articles['a_cv_recent_off'].head()"
   ]
  },
  {
   "cell_type": "code",
   "execution_count": null,
   "id": "22001533",
   "metadata": {},
   "outputs": [],
   "source": [
    "# 2 weeks ago、articleごとの合計cv数, key: article_id\n",
    "a_cv_recent2 = joined_recent2.groupby('article_id').size().reset_index(name='a_cv_recent2')\n",
    "articles = pd.merge(articles, a_cv_recent2, on='article_id', how='left')\n",
    "del a_cv_recent2; gc.collect()\n",
    "articles['a_cv_recent2'] = articles['a_cv_recent2'].fillna(0).astype('int32')                \n",
    "articles['a_cv_recent2'].head()"
   ]
  },
  {
   "cell_type": "code",
   "execution_count": null,
   "id": "ba58eab3",
   "metadata": {},
   "outputs": [],
   "source": [
    "# 直近1週間、articleごとの合計cv数ranking, key: article_id\n",
    "articles['a_cv_recent_ranking'] = articles['a_cv_recent'].rank(method='min', ascending=False).astype('int16')\n",
    "articles.head()"
   ]
  },
  {
   "cell_type": "code",
   "execution_count": null,
   "id": "09fb66cb",
   "metadata": {},
   "outputs": [],
   "source": [
    "# 直近1週間、articleごとの合計cv数ranking, key: article_id\n",
    "articles['a_cv_recent_ranking2'] = articles['a_cv_recent2'].rank(method='min', ascending=False).astype('int16')\n",
    "articles.head()"
   ]
  },
  {
   "cell_type": "code",
   "execution_count": null,
   "id": "63cece9a",
   "metadata": {},
   "outputs": [],
   "source": [
    "# 2週前と1週前を比べたcvの比\n",
    "articles['a_cv_recent_ratio'] = (articles['a_cv_recent'] + 0.01) / (articles['a_cv_recent2'] + 0.01)\n",
    "articles['a_cv_recent_ratio'] = articles['a_cv_recent_ratio'].astype('float16')                \n",
    "articles[['a_cv_recent', 'a_cv_recent2','a_cv_recent_ratio']].head()"
   ]
  },
  {
   "cell_type": "code",
   "execution_count": null,
   "id": "f40f3372",
   "metadata": {
    "execution": {
     "iopub.execute_input": "2022-03-18T14:33:01.685931Z",
     "iopub.status.busy": "2022-03-18T14:33:01.684939Z",
     "iopub.status.idle": "2022-03-18T14:33:03.210861Z",
     "shell.execute_reply": "2022-03-18T14:33:03.211502Z",
     "shell.execute_reply.started": "2022-03-18T14:02:59.849581Z"
    },
    "papermill": {
     "duration": 1.646407,
     "end_time": "2022-03-18T14:33:03.211672",
     "exception": false,
     "start_time": "2022-03-18T14:33:01.565265",
     "status": "completed"
    },
    "tags": []
   },
   "outputs": [],
   "source": [
    "# articleごとの平均sales_channel_id, key: article_id\n",
    "a_mean_sales_channel_id = joined_feature.groupby('article_id')['sales_channel_id'].agg('mean').reset_index(name='a_mean_sales_channel_id')\n",
    "articles = pd.merge(articles, a_mean_sales_channel_id, on='article_id', how='left')\n",
    "articles['a_mean_sales_channel_id'] = articles['a_mean_sales_channel_id'].fillna(0).astype('float16')                \n",
    "del a_mean_sales_channel_id; gc.collect()\n",
    "articles['a_mean_sales_channel_id'].head()"
   ]
  },
  {
   "cell_type": "code",
   "execution_count": null,
   "id": "1cfbb8c8",
   "metadata": {},
   "outputs": [],
   "source": [
    "# articleごとの平均age, key: article_id\n",
    "a_mean_age = joined_feature.groupby('article_id')['age'].agg('mean').reset_index(name='a_mean_age')\n",
    "articles = pd.merge(articles, a_mean_age, on='article_id', how='left')\n",
    "articles['a_mean_age'] = articles['a_mean_age'].fillna(0).astype('int8')                \n",
    "del a_mean_age; gc.collect()\n",
    "articles['a_mean_age'].head()"
   ]
  },
  {
   "cell_type": "code",
   "execution_count": null,
   "id": "30399c29",
   "metadata": {},
   "outputs": [],
   "source": [
    "# articleごとのage標準偏差, key: article_id\n",
    "a_std_age = joined_feature.groupby('article_id')['age'].agg('std').reset_index(name='a_std_age')\n",
    "articles = pd.merge(articles, a_std_age, on='article_id', how='left')\n",
    "articles['a_std_age'] = articles['a_std_age'].fillna(0).astype('float16')                \n",
    "del a_std_age; gc.collect()\n",
    "articles['a_std_age'].head()"
   ]
  },
  {
   "cell_type": "markdown",
   "id": "2a344215",
   "metadata": {},
   "source": [
    "### join train"
   ]
  },
  {
   "cell_type": "code",
   "execution_count": null,
   "id": "448b4bd7",
   "metadata": {},
   "outputs": [],
   "source": [
    "joined_train = pd.merge(train_group, customers, on='customer_id', how='left')\n",
    "del train_group, customers; gc.collect()"
   ]
  },
  {
   "cell_type": "code",
   "execution_count": null,
   "id": "89f4f1de",
   "metadata": {},
   "outputs": [],
   "source": [
    "joined_train = pd.merge(joined_train, articles, on='article_id', how='left')\n",
    "del articles; gc.collect()"
   ]
  },
  {
   "cell_type": "code",
   "execution_count": null,
   "id": "7fcac360",
   "metadata": {},
   "outputs": [],
   "source": [
    "joined_train.head()"
   ]
  },
  {
   "cell_type": "markdown",
   "id": "b9584ed2",
   "metadata": {},
   "source": [
    "### dymanic interactive features"
   ]
  },
  {
   "cell_type": "code",
   "execution_count": null,
   "id": "75e63613",
   "metadata": {},
   "outputs": [],
   "source": [
    "# customer, index_group_no (article素性)ごとの購入数\n",
    "tmp_df = joined_feature.groupby(['customer_id', 'index_group_no']).size().reset_index(name='ca_index_group_no_num')\n",
    "joined_train = pd.merge(joined_train, tmp_df, on=['customer_id', 'index_group_no'], how='left')\n",
    "joined_train['ca_index_group_no_num'] = joined_train['ca_index_group_no_num'].fillna(0).astype('int32')                \n",
    "\n",
    "# customerの全購入数で規格化、similarityみたいな量\n",
    "joined_train['index_group_no_similarity'] = (joined_train['ca_index_group_no_num']/joined_train['c_cv_total']).astype('float32')\n",
    "joined_train.head()"
   ]
  },
  {
   "cell_type": "code",
   "execution_count": null,
   "id": "2f118303",
   "metadata": {},
   "outputs": [],
   "source": [
    "# customer, index_code (article素性)ごとの購入数\n",
    "tmp_df = joined_feature.groupby(['customer_id', 'index_code']).size().reset_index(name='ca_index_code_num')\n",
    "joined_train = pd.merge(joined_train, tmp_df, on=['customer_id', 'index_code'], how='left')\n",
    "joined_train['ca_index_code_num'] = joined_train['ca_index_code_num'].fillna(0).astype('int32')                \n",
    "\n",
    "# customerの全購入数で規格化、similalityみたいな量\n",
    "joined_train['index_code_similarity'] = (joined_train['ca_index_code_num']/joined_train['c_cv_total']).fillna(0).astype('float32')\n",
    "joined_train.head()"
   ]
  },
  {
   "cell_type": "code",
   "execution_count": null,
   "id": "302132a7",
   "metadata": {},
   "outputs": [],
   "source": [
    "# customer, product_gropu_no (article素性)ごとの購入数\n",
    "tmp_df = joined_feature.groupby(['customer_id', 'product_group_no']).size().reset_index(name='ca_product_group_no_num')\n",
    "joined_train = pd.merge(joined_train, tmp_df, on=['customer_id', 'product_group_no'], how='left')\n",
    "joined_train['ca_product_group_no_num'] = joined_train['ca_product_group_no_num'].fillna(0).astype('int32')                \n",
    "\n",
    "# customerの全購入数で規格化、similalityみたいな量\n",
    "joined_train['product_group_no_similarity'] = (joined_train['ca_product_group_no_num']/joined_train['c_cv_total']).astype('float32')\n",
    "joined_train.head()"
   ]
  },
  {
   "cell_type": "code",
   "execution_count": null,
   "id": "1ee76378",
   "metadata": {},
   "outputs": [],
   "source": [
    "# 同じ商品を何回購入したことがあるか\n",
    "tmp_df = joined_feature.groupby(['customer_id', 'article_id']).size().reset_index(name='buy_same_before')\n",
    "tmp_df['buy_same_before'].fillna(0).astype('int16')\n",
    "joined_train = pd.merge(joined_train, tmp_df, on=['customer_id', 'article_id'], how='left')\n",
    "joined_train['buy_same_before'] = joined_train['buy_same_before'].fillna(0).astype('int16')                \n",
    "joined_train.head()"
   ]
  },
  {
   "cell_type": "code",
   "execution_count": null,
   "id": "c6822835",
   "metadata": {},
   "outputs": [],
   "source": [
    "# 直近1週間で同じ商品を直近何回購入したことがあるか\n",
    "tmp_df = joined_recent.groupby(['customer_id', 'article_id']).size().reset_index(name='buy_same_before_recent')\n",
    "joined_train = pd.merge(joined_train, tmp_df, on=['customer_id', 'article_id'], how='left')\n",
    "joined_train['buy_same_before_recent'] = joined_train['buy_same_before_recent'].fillna(0).astype('int16')                \n",
    "joined_train.head()"
   ]
  },
  {
   "cell_type": "code",
   "execution_count": null,
   "id": "7c84e0c7",
   "metadata": {},
   "outputs": [],
   "source": [
    "# 最後の購入から7日以内に同じ商品を直近何回購入したことがあるか\n",
    "tmp_df = joined_last_week.groupby(['customer_id', 'article_id']).size().reset_index(name='buy_same_last_week')\n",
    "joined_train = pd.merge(joined_train, tmp_df, on=['customer_id', 'article_id'], how='left')\n",
    "joined_train['buy_same_last_week'] = joined_train['buy_same_last_week'].fillna(0).astype('int16')                \n",
    "joined_train.head()"
   ]
  },
  {
   "cell_type": "code",
   "execution_count": null,
   "id": "a7db3687",
   "metadata": {},
   "outputs": [],
   "source": [
    "del tmp_df; gc.collect()"
   ]
  },
  {
   "cell_type": "code",
   "execution_count": null,
   "id": "36d72a52",
   "metadata": {},
   "outputs": [],
   "source": [
    "# delta_price\n",
    "joined_train['delta_mean_price'] = (joined_train['c_mean_price'] - joined_train['a_mean_price']).astype('float16')\n",
    "joined_train.head()"
   ]
  },
  {
   "cell_type": "code",
   "execution_count": null,
   "id": "be931e3e",
   "metadata": {},
   "outputs": [],
   "source": [
    "# delta_age\n",
    "joined_train['delta_mean_age'] = (joined_train['age'] - joined_train['a_mean_age']).astype('int8')\n",
    "joined_train.head()"
   ]
  },
  {
   "cell_type": "code",
   "execution_count": null,
   "id": "33f6ad57",
   "metadata": {},
   "outputs": [],
   "source": [
    "# delta_mean_sales_channel_id\n",
    "joined_train['delta_mean_sales_channel_id'] = (joined_train['c_mean_sales_channel_id'] - joined_train['a_mean_sales_channel_id']).astype('float16')\n",
    "joined_train.head()"
   ]
  },
  {
   "cell_type": "code",
   "execution_count": null,
   "id": "6ade76a2",
   "metadata": {},
   "outputs": [],
   "source": [
    "# delta_mean_is_for_male\n",
    "joined_train['delta_mean_is_for_male'] = (joined_train['c_mean_is_for_male'] - joined_train['is_for_male']).astype('float16')\n",
    "joined_train.head()"
   ]
  },
  {
   "cell_type": "code",
   "execution_count": null,
   "id": "3839cf00",
   "metadata": {},
   "outputs": [],
   "source": [
    "# delta_mean_is_for_male\n",
    "joined_train['delta_mean_is_for_female'] = (joined_train['c_mean_is_for_female'] - joined_train['is_for_female']).astype('float16')\n",
    "joined_train.head()"
   ]
  },
  {
   "cell_type": "code",
   "execution_count": null,
   "id": "e772940b",
   "metadata": {},
   "outputs": [],
   "source": [
    "# delta_mean_is_for_mama\n",
    "joined_train['delta_mean_is_for_mama'] = (joined_train['c_mean_is_for_mama'] - joined_train['is_for_mama']).astype('float16')\n",
    "joined_train.head()"
   ]
  },
  {
   "cell_type": "code",
   "execution_count": null,
   "id": "f0c320a4",
   "metadata": {},
   "outputs": [],
   "source": [
    "#del joined_feature, joined_recent; gc.collect()\n",
    "del joined_recent, joined_last_week; gc.collect()"
   ]
  },
  {
   "cell_type": "markdown",
   "id": "b35d855a",
   "metadata": {},
   "source": [
    "### additional feature"
   ]
  },
  {
   "cell_type": "code",
   "execution_count": null,
   "id": "18deb5cc",
   "metadata": {},
   "outputs": [],
   "source": [
    "import numpy as np\n",
    "pairs = np.load(f'../input/pairs_np_{train_start_date}_2.pkl', allow_pickle=True)\n",
    "#pairs = np.load(f'./pairs_np_2020-09-09_2.pkl', allow_pickle=True)"
   ]
  },
  {
   "cell_type": "code",
   "execution_count": null,
   "id": "be0c75ef",
   "metadata": {},
   "outputs": [],
   "source": [
    "joined_feature = joined_feature[['t_dat', 'customer_id', 'article_id']]"
   ]
  },
  {
   "cell_type": "code",
   "execution_count": null,
   "id": "36bbf698",
   "metadata": {},
   "outputs": [],
   "source": [
    "pairs_df = pd.DataFrame(list(pairs.items()), columns=['article_id', 'article_id_list'])\n",
    "pairs_df['article_id_rank1'] = pairs_df['article_id_list'].map(lambda x: x[0])\n",
    "pairs_df['article_id_rank2'] = pairs_df['article_id_list'].map(lambda x: x[1])\n",
    "pairs_df = pairs_df.drop('article_id_list', axis='columns')"
   ]
  },
  {
   "cell_type": "code",
   "execution_count": null,
   "id": "6a310b5b",
   "metadata": {},
   "outputs": [],
   "source": [
    "pairs_df.head()"
   ]
  },
  {
   "cell_type": "code",
   "execution_count": null,
   "id": "513ff456",
   "metadata": {},
   "outputs": [],
   "source": [
    "joined_feature = pd.merge(joined_feature, pairs_df, on='article_id', how='left')"
   ]
  },
  {
   "cell_type": "code",
   "execution_count": null,
   "id": "dc531337",
   "metadata": {},
   "outputs": [],
   "source": [
    "del pairs, pairs_df; gc.collect()"
   ]
  },
  {
   "cell_type": "code",
   "execution_count": null,
   "id": "fb8b9215",
   "metadata": {},
   "outputs": [],
   "source": [
    "# 共起1位の商品を何回購入したことがあるか\n",
    "tmp_df = joined_feature.groupby(['customer_id', 'article_id_rank1']).size().reset_index(name='buy_rank1_before')\n",
    "tmp_df['buy_rank1_before'].fillna(0).astype('int16')\n",
    "tmp_df = tmp_df.rename(columns={'article_id_rank1':'article_id'})\n",
    "\n",
    "joined_train = pd.merge(joined_train, tmp_df, on=['customer_id', 'article_id'], how='left')\n",
    "joined_train['buy_rank1_before'] = joined_train['buy_rank1_before'].fillna(0).astype('int16')                \n",
    "joined_train.head()"
   ]
  },
  {
   "cell_type": "code",
   "execution_count": null,
   "id": "2d39ff60",
   "metadata": {},
   "outputs": [],
   "source": [
    "# 共起2位の商品を何回購入したことがあるか\n",
    "tmp_df = joined_feature.groupby(['customer_id', 'article_id_rank2']).size().reset_index(name='buy_rank2_before')\n",
    "tmp_df['buy_rank2_before'].fillna(0).astype('int16')\n",
    "tmp_df = tmp_df.rename(columns={'article_id_rank2':'article_id'})\n",
    "\n",
    "joined_train = pd.merge(joined_train, tmp_df, on=['customer_id', 'article_id'], how='left')\n",
    "joined_train['buy_rank2_before'] = joined_train['buy_rank2_before'].fillna(0).astype('int16')                \n",
    "joined_train.head()"
   ]
  },
  {
   "cell_type": "code",
   "execution_count": null,
   "id": "35055cc6",
   "metadata": {},
   "outputs": [],
   "source": [
    "# 共起1位の商品を何回したのは最後の購入から何日前か\n",
    "tmp_df = joined_feature.groupby(['customer_id', 'article_id_rank1']).t_dat.max().reset_index()\n",
    "tmp_df = tmp_df.rename(columns={'t_dat':'max_dat'})\n",
    "tmp_df = tmp_df.rename(columns={'article_id_rank1':'article_id'})\n",
    "tmp_df['diff_dat_last_buy_rank1'] = (train_start_date_dt - tmp_df['max_dat']).dt.days\n",
    "tmp_df = tmp_df.drop('max_dat', axis='columns')\n",
    "joined_train = pd.merge(joined_train, tmp_df, on=['customer_id', 'article_id'], how='left')\n",
    "joined_train['diff_dat_last_buy_rank1'] = joined_train['diff_dat_last_buy_rank1'].fillna(999).astype('int16')                \n",
    "joined_train.head()"
   ]
  },
  {
   "cell_type": "code",
   "execution_count": null,
   "id": "5474acda",
   "metadata": {},
   "outputs": [],
   "source": [
    "# 共起2位の商品を何回したのは最後の購入から何日前か\n",
    "tmp_df = joined_feature.groupby(['customer_id', 'article_id_rank2']).t_dat.max().reset_index()\n",
    "tmp_df = tmp_df.rename(columns={'t_dat':'max_dat'})\n",
    "tmp_df = tmp_df.rename(columns={'article_id_rank2':'article_id'})\n",
    "tmp_df['diff_dat_last_buy_rank2'] = (train_start_date_dt - tmp_df['max_dat']).dt.days\n",
    "tmp_df = tmp_df.drop('max_dat', axis='columns')\n",
    "joined_train = pd.merge(joined_train, tmp_df, on=['customer_id', 'article_id'], how='left')\n",
    "joined_train['diff_dat_last_buy_rank2'] = joined_train['diff_dat_last_buy_rank2'].fillna(999).astype('int16')                \n",
    "joined_train.head()"
   ]
  },
  {
   "cell_type": "code",
   "execution_count": null,
   "id": "97cf2f5a",
   "metadata": {},
   "outputs": [],
   "source": [
    "del tmp_df, joined_feature; gc.collect()"
   ]
  },
  {
   "cell_type": "markdown",
   "id": "feabd37b",
   "metadata": {},
   "source": [
    "## Save"
   ]
  },
  {
   "cell_type": "code",
   "execution_count": null,
   "id": "7bb080eb",
   "metadata": {
    "execution": {
     "iopub.execute_input": "2022-03-18T14:33:16.510301Z",
     "iopub.status.busy": "2022-03-18T14:33:16.509390Z",
     "iopub.status.idle": "2022-03-18T14:37:50.295298Z",
     "shell.execute_reply": "2022-03-18T14:37:50.295871Z",
     "shell.execute_reply.started": "2022-03-18T14:03:13.167454Z"
    },
    "papermill": {
     "duration": 273.902389,
     "end_time": "2022-03-18T14:37:50.296096",
     "exception": false,
     "start_time": "2022-03-18T14:33:16.393707",
     "status": "completed"
    },
    "tags": []
   },
   "outputs": [],
   "source": [
    "if full_flag:\n",
    "    joined_train.to_csv(f'train_{train_start_date}_full.csv', index=False)\n",
    "else:\n",
    "    joined_train.to_csv(f'train_{train_start_date}.csv', index=False)\n",
    "    \n",
    "del joined_train; gc.collect()"
   ]
  },
  {
   "cell_type": "code",
   "execution_count": null,
   "id": "277c533a",
   "metadata": {},
   "outputs": [],
   "source": []
  }
 ],
 "metadata": {
  "kernelspec": {
   "display_name": "Python 3",
   "language": "python",
   "name": "python3"
  },
  "language_info": {
   "codemirror_mode": {
    "name": "ipython",
    "version": 3
   },
   "file_extension": ".py",
   "mimetype": "text/x-python",
   "name": "python",
   "nbconvert_exporter": "python",
   "pygments_lexer": "ipython3",
   "version": "3.8.10"
  },
  "papermill": {
   "default_parameters": {},
   "duration": 1527.726807,
   "end_time": "2022-03-18T14:54:08.508631",
   "environment_variables": {},
   "exception": null,
   "input_path": "__notebook__.ipynb",
   "output_path": "__notebook__.ipynb",
   "parameters": {},
   "start_time": "2022-03-18T14:28:40.781824",
   "version": "2.3.3"
  }
 },
 "nbformat": 4,
 "nbformat_minor": 5
}
