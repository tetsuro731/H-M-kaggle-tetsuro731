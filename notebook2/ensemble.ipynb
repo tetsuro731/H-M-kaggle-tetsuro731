{
 "cells": [
  {
   "cell_type": "code",
   "execution_count": 1,
   "id": "b2cbdbff",
   "metadata": {
    "execution": {
     "iopub.execute_input": "2022-03-17T14:41:38.692263Z",
     "iopub.status.busy": "2022-03-17T14:41:38.691229Z",
     "iopub.status.idle": "2022-03-17T14:41:38.768400Z",
     "shell.execute_reply": "2022-03-17T14:41:38.767514Z",
     "shell.execute_reply.started": "2022-03-17T14:36:41.047901Z"
    },
    "papermill": {
     "duration": 0.15205,
     "end_time": "2022-03-17T14:41:38.768613",
     "exception": false,
     "start_time": "2022-03-17T14:41:38.616563",
     "status": "completed"
    },
    "tags": []
   },
   "outputs": [],
   "source": [
    "import numpy as np\n",
    "import pandas as pd\n",
    "import gc\n",
    "import os\n",
    "import time\n",
    "import random\n",
    "from tqdm.auto import tqdm"
   ]
  },
  {
   "cell_type": "code",
   "execution_count": 2,
   "id": "e5f1e718",
   "metadata": {
    "execution": {
     "iopub.execute_input": "2022-03-17T14:41:38.912358Z",
     "iopub.status.busy": "2022-03-17T14:41:38.911634Z",
     "iopub.status.idle": "2022-03-17T14:41:38.914178Z",
     "shell.execute_reply": "2022-03-17T14:41:38.913560Z",
     "shell.execute_reply.started": "2022-03-17T14:36:42.303979Z"
    },
    "papermill": {
     "duration": 0.073365,
     "end_time": "2022-03-17T14:41:38.914355",
     "exception": false,
     "start_time": "2022-03-17T14:41:38.840990",
     "status": "completed"
    },
    "tags": []
   },
   "outputs": [],
   "source": [
    "def visualize_df(df):\n",
    "    print(df.shape)\n",
    "    display(df.head())"
   ]
  },
  {
   "cell_type": "code",
   "execution_count": 3,
   "id": "a09940d1",
   "metadata": {
    "execution": {
     "iopub.execute_input": "2022-03-17T14:41:39.048692Z",
     "iopub.status.busy": "2022-03-17T14:41:39.048012Z",
     "iopub.status.idle": "2022-03-17T14:41:39.050654Z",
     "shell.execute_reply": "2022-03-17T14:41:39.049976Z",
     "shell.execute_reply.started": "2022-03-17T14:36:43.441972Z"
    },
    "papermill": {
     "duration": 0.071258,
     "end_time": "2022-03-17T14:41:39.050801",
     "exception": false,
     "start_time": "2022-03-17T14:41:38.979543",
     "status": "completed"
    },
    "tags": []
   },
   "outputs": [],
   "source": [
    "#rank_start_date = '2020-09-09'\n",
    "#rank_end_date = '2020-09-16'\n",
    "rank_start_date = '2020-09-16'\n",
    "rank_end_date = '2020-09-23'"
   ]
  },
  {
   "cell_type": "code",
   "execution_count": 4,
   "id": "bc2a8d49",
   "metadata": {
    "_cell_guid": "b1076dfc-b9ad-4769-8c92-a6c4dae69d19",
    "_uuid": "8f2839f25d086af736a60e9eeb907d3b93b6e0e5",
    "execution": {
     "iopub.execute_input": "2022-03-17T14:41:39.184386Z",
     "iopub.status.busy": "2022-03-17T14:41:39.183593Z",
     "iopub.status.idle": "2022-03-17T14:42:42.673914Z",
     "shell.execute_reply": "2022-03-17T14:42:42.673266Z",
     "shell.execute_reply.started": "2022-03-17T14:36:44.383962Z"
    },
    "papermill": {
     "duration": 63.559061,
     "end_time": "2022-03-17T14:42:42.674094",
     "exception": false,
     "start_time": "2022-03-17T14:41:39.115033",
     "status": "completed"
    },
    "tags": []
   },
   "outputs": [],
   "source": [
    "# データの読み込み\n",
    "dir = 'h-and-m-personalized-fashion-recommendations/'\n",
    "path = '../input/' + dir \n",
    "transactions_train = pd.read_csv(path + 'transactions_train.csv')\n",
    "transactions_train['customer_id'] = transactions_train['customer_id'].apply(lambda x: int(x[-16:],16) ).astype('int64')"
   ]
  },
  {
   "cell_type": "code",
   "execution_count": 5,
   "id": "32dbd4f3",
   "metadata": {},
   "outputs": [],
   "source": [
    "## matching\n",
    "#sub1 = pd.read_csv(f'./submission_lightgbm_test.csv') \n",
    "#sub2 = pd.read_csv(f'./submission_linear_test.csv') \n",
    "#sub1['customer_id'] = sub1['customer_id'].apply(lambda x: int(x[-16:],16) ).astype('int64')\n",
    "#sub2['customer_id'] = sub2['customer_id'].apply(lambda x: int(x[-16:],16) ).astype('int64')\n",
    "#sub"
   ]
  },
  {
   "cell_type": "code",
   "execution_count": 6,
   "id": "a2058af1",
   "metadata": {},
   "outputs": [],
   "source": [
    "sub0 = pd.read_csv('./submission_lgbm_test.csv').sort_values('customer_id').reset_index(drop=True)\n",
    "sub1 = pd.read_csv('./submission_linear_test.csv').sort_values('customer_id').reset_index(drop=True)"
   ]
  },
  {
   "cell_type": "code",
   "execution_count": 7,
   "id": "f6465443",
   "metadata": {},
   "outputs": [
    {
     "data": {
      "text/html": [
       "<div>\n",
       "<style scoped>\n",
       "    .dataframe tbody tr th:only-of-type {\n",
       "        vertical-align: middle;\n",
       "    }\n",
       "\n",
       "    .dataframe tbody tr th {\n",
       "        vertical-align: top;\n",
       "    }\n",
       "\n",
       "    .dataframe thead th {\n",
       "        text-align: right;\n",
       "    }\n",
       "</style>\n",
       "<table border=\"1\" class=\"dataframe\">\n",
       "  <thead>\n",
       "    <tr style=\"text-align: right;\">\n",
       "      <th></th>\n",
       "      <th>customer_id</th>\n",
       "      <th>prediction0</th>\n",
       "      <th>prediction1</th>\n",
       "    </tr>\n",
       "  </thead>\n",
       "  <tbody>\n",
       "    <tr>\n",
       "      <th>0</th>\n",
       "      <td>00000dbacae5abe5e23885899a1fa44253a17956c6d1c3...</td>\n",
       "      <td>0568601043 0568601006 0751471001 0918525001 09...</td>\n",
       "      <td>0568601006 0568601043 0762846027 0751471001 08...</td>\n",
       "    </tr>\n",
       "    <tr>\n",
       "      <th>1</th>\n",
       "      <td>0000423b00ade91418cceaf3b26c6af3dd342b51fd051e...</td>\n",
       "      <td>0673677002 0918292001 0898713001 0918522001 09...</td>\n",
       "      <td>0809238005 0915526001 0706016001 0706016001 09...</td>\n",
       "    </tr>\n",
       "    <tr>\n",
       "      <th>2</th>\n",
       "      <td>000058a12d5b43e67d225668fa1f8d618c13dc232df0ca...</td>\n",
       "      <td>0794321007 0794321011 0805000001 0926502001 09...</td>\n",
       "      <td>0794321007 0794321011 0805000001 0809238005 09...</td>\n",
       "    </tr>\n",
       "    <tr>\n",
       "      <th>3</th>\n",
       "      <td>00005ca1c9ed5f5146b52ac8639a40ca9d57aeff4d1bd2...</td>\n",
       "      <td>0730683001 0918522001 0720125001 0924243001 03...</td>\n",
       "      <td>0730683001 0720125001 0372860001 0751471043 05...</td>\n",
       "    </tr>\n",
       "    <tr>\n",
       "      <th>4</th>\n",
       "      <td>00006413d8573cd20ed7128e53b7b13819fe5cfc2d801f...</td>\n",
       "      <td>0730683050 0896152002 0896152001 0896152002 07...</td>\n",
       "      <td>0730683050 0896152002 0791587015 0896152001 08...</td>\n",
       "    </tr>\n",
       "  </tbody>\n",
       "</table>\n",
       "</div>"
      ],
      "text/plain": [
       "                                         customer_id  \\\n",
       "0  00000dbacae5abe5e23885899a1fa44253a17956c6d1c3...   \n",
       "1  0000423b00ade91418cceaf3b26c6af3dd342b51fd051e...   \n",
       "2  000058a12d5b43e67d225668fa1f8d618c13dc232df0ca...   \n",
       "3  00005ca1c9ed5f5146b52ac8639a40ca9d57aeff4d1bd2...   \n",
       "4  00006413d8573cd20ed7128e53b7b13819fe5cfc2d801f...   \n",
       "\n",
       "                                         prediction0  \\\n",
       "0  0568601043 0568601006 0751471001 0918525001 09...   \n",
       "1  0673677002 0918292001 0898713001 0918522001 09...   \n",
       "2  0794321007 0794321011 0805000001 0926502001 09...   \n",
       "3  0730683001 0918522001 0720125001 0924243001 03...   \n",
       "4  0730683050 0896152002 0896152001 0896152002 07...   \n",
       "\n",
       "                                         prediction1  \n",
       "0  0568601006 0568601043 0762846027 0751471001 08...  \n",
       "1  0809238005 0915526001 0706016001 0706016001 09...  \n",
       "2  0794321007 0794321011 0805000001 0809238005 09...  \n",
       "3  0730683001 0720125001 0372860001 0751471043 05...  \n",
       "4  0730683050 0896152002 0791587015 0896152001 08...  "
      ]
     },
     "execution_count": 7,
     "metadata": {},
     "output_type": "execute_result"
    }
   ],
   "source": [
    "sub0.columns = ['customer_id', 'prediction0']\n",
    "sub0['prediction1'] = sub1['prediction']\n",
    "\n",
    "del sub1\n",
    "gc.collect()\n",
    "sub0.head()"
   ]
  },
  {
   "cell_type": "code",
   "execution_count": 8,
   "id": "5b1d5fbb",
   "metadata": {},
   "outputs": [
    {
     "data": {
      "text/html": [
       "<div>\n",
       "<style scoped>\n",
       "    .dataframe tbody tr th:only-of-type {\n",
       "        vertical-align: middle;\n",
       "    }\n",
       "\n",
       "    .dataframe tbody tr th {\n",
       "        vertical-align: top;\n",
       "    }\n",
       "\n",
       "    .dataframe thead th {\n",
       "        text-align: right;\n",
       "    }\n",
       "</style>\n",
       "<table border=\"1\" class=\"dataframe\">\n",
       "  <thead>\n",
       "    <tr style=\"text-align: right;\">\n",
       "      <th></th>\n",
       "      <th>customer_id</th>\n",
       "      <th>prediction0</th>\n",
       "      <th>prediction1</th>\n",
       "      <th>prediction</th>\n",
       "    </tr>\n",
       "  </thead>\n",
       "  <tbody>\n",
       "    <tr>\n",
       "      <th>0</th>\n",
       "      <td>00000dbacae5abe5e23885899a1fa44253a17956c6d1c3...</td>\n",
       "      <td>0568601043 0568601006 0751471001 0918525001 09...</td>\n",
       "      <td>0568601006 0568601043 0762846027 0751471001 08...</td>\n",
       "      <td>0568601043 0568601006 0751471001 0918525001 09...</td>\n",
       "    </tr>\n",
       "    <tr>\n",
       "      <th>1</th>\n",
       "      <td>0000423b00ade91418cceaf3b26c6af3dd342b51fd051e...</td>\n",
       "      <td>0673677002 0918292001 0898713001 0918522001 09...</td>\n",
       "      <td>0809238005 0915526001 0706016001 0706016001 09...</td>\n",
       "      <td>0673677002 0918292001 0898713001 0918522001 09...</td>\n",
       "    </tr>\n",
       "    <tr>\n",
       "      <th>2</th>\n",
       "      <td>000058a12d5b43e67d225668fa1f8d618c13dc232df0ca...</td>\n",
       "      <td>0794321007 0794321011 0805000001 0926502001 09...</td>\n",
       "      <td>0794321007 0794321011 0805000001 0809238005 09...</td>\n",
       "      <td>0794321007 0794321011 0805000001 0926502001 09...</td>\n",
       "    </tr>\n",
       "    <tr>\n",
       "      <th>3</th>\n",
       "      <td>00005ca1c9ed5f5146b52ac8639a40ca9d57aeff4d1bd2...</td>\n",
       "      <td>0730683001 0918522001 0720125001 0924243001 03...</td>\n",
       "      <td>0730683001 0720125001 0372860001 0751471043 05...</td>\n",
       "      <td>0730683001 0918522001 0720125001 0924243001 03...</td>\n",
       "    </tr>\n",
       "    <tr>\n",
       "      <th>4</th>\n",
       "      <td>00006413d8573cd20ed7128e53b7b13819fe5cfc2d801f...</td>\n",
       "      <td>0730683050 0896152002 0896152001 0896152002 07...</td>\n",
       "      <td>0730683050 0896152002 0791587015 0896152001 08...</td>\n",
       "      <td>0730683050 0896152002 0896152001 0791587015 09...</td>\n",
       "    </tr>\n",
       "  </tbody>\n",
       "</table>\n",
       "</div>"
      ],
      "text/plain": [
       "                                         customer_id  \\\n",
       "0  00000dbacae5abe5e23885899a1fa44253a17956c6d1c3...   \n",
       "1  0000423b00ade91418cceaf3b26c6af3dd342b51fd051e...   \n",
       "2  000058a12d5b43e67d225668fa1f8d618c13dc232df0ca...   \n",
       "3  00005ca1c9ed5f5146b52ac8639a40ca9d57aeff4d1bd2...   \n",
       "4  00006413d8573cd20ed7128e53b7b13819fe5cfc2d801f...   \n",
       "\n",
       "                                         prediction0  \\\n",
       "0  0568601043 0568601006 0751471001 0918525001 09...   \n",
       "1  0673677002 0918292001 0898713001 0918522001 09...   \n",
       "2  0794321007 0794321011 0805000001 0926502001 09...   \n",
       "3  0730683001 0918522001 0720125001 0924243001 03...   \n",
       "4  0730683050 0896152002 0896152001 0896152002 07...   \n",
       "\n",
       "                                         prediction1  \\\n",
       "0  0568601006 0568601043 0762846027 0751471001 08...   \n",
       "1  0809238005 0915526001 0706016001 0706016001 09...   \n",
       "2  0794321007 0794321011 0805000001 0809238005 09...   \n",
       "3  0730683001 0720125001 0372860001 0751471043 05...   \n",
       "4  0730683050 0896152002 0791587015 0896152001 08...   \n",
       "\n",
       "                                          prediction  \n",
       "0  0568601043 0568601006 0751471001 0918525001 09...  \n",
       "1  0673677002 0918292001 0898713001 0918522001 09...  \n",
       "2  0794321007 0794321011 0805000001 0926502001 09...  \n",
       "3  0730683001 0918522001 0720125001 0924243001 03...  \n",
       "4  0730683050 0896152002 0896152001 0791587015 09...  "
      ]
     },
     "execution_count": 8,
     "metadata": {},
     "output_type": "execute_result"
    }
   ],
   "source": [
    "def cust_blend(dt, W = [1,1,1,1,1]):\n",
    "    #Global ensemble weights\n",
    "    #W = [1.15,0.95,0.85]\n",
    "\n",
    "    #Create a list of all model predictions\n",
    "    REC = []\n",
    "\n",
    "    # Second Try\n",
    "    REC.append(dt['prediction0'].split())\n",
    "    REC.append(dt['prediction1'].split())\n",
    "\n",
    "    #Create a dictionary of items recommended.\n",
    "    #Assign a weight according the order of appearance and multiply by global weights\n",
    "    res = {}\n",
    "    for M in range(len(REC)):\n",
    "        for n, v in enumerate(REC[M]):\n",
    "            if v in res:\n",
    "                res[v] += (W[M]/(n+1))\n",
    "            else:\n",
    "                res[v] = (W[M]/(n+1))\n",
    "\n",
    "    # Sort dictionary by item weights\n",
    "    res = list(dict(sorted(res.items(), key=lambda item: -item[1])).keys())\n",
    "\n",
    "    # Return the top 12 items only\n",
    "    return ' '.join(res[:12])\n",
    "\n",
    "\n",
    "#sub0['prediction'] = sub0.apply(cust_blend, W = [1.0,1.0], axis=1)\n",
    "sub0['prediction'] = sub0.apply(cust_blend, W = [1.0,0.1], axis=1)\n",
    "sub0.head()"
   ]
  },
  {
   "cell_type": "code",
   "execution_count": 9,
   "id": "99715012",
   "metadata": {},
   "outputs": [
    {
     "data": {
      "text/plain": [
       "0"
      ]
     },
     "execution_count": 9,
     "metadata": {},
     "output_type": "execute_result"
    }
   ],
   "source": [
    "del sub0['prediction0']\n",
    "del sub0['prediction1']\n",
    "gc.collect()"
   ]
  },
  {
   "cell_type": "code",
   "execution_count": 10,
   "id": "cfe5bb52",
   "metadata": {},
   "outputs": [
    {
     "data": {
      "text/html": [
       "<div>\n",
       "<style scoped>\n",
       "    .dataframe tbody tr th:only-of-type {\n",
       "        vertical-align: middle;\n",
       "    }\n",
       "\n",
       "    .dataframe tbody tr th {\n",
       "        vertical-align: top;\n",
       "    }\n",
       "\n",
       "    .dataframe thead th {\n",
       "        text-align: right;\n",
       "    }\n",
       "</style>\n",
       "<table border=\"1\" class=\"dataframe\">\n",
       "  <thead>\n",
       "    <tr style=\"text-align: right;\">\n",
       "      <th></th>\n",
       "      <th>customer_id</th>\n",
       "      <th>prediction</th>\n",
       "    </tr>\n",
       "  </thead>\n",
       "  <tbody>\n",
       "    <tr>\n",
       "      <th>0</th>\n",
       "      <td>6883939031699146327</td>\n",
       "      <td>0568601043 0568601006 0751471001 0918525001 09...</td>\n",
       "    </tr>\n",
       "    <tr>\n",
       "      <th>1</th>\n",
       "      <td>-7200416642310594310</td>\n",
       "      <td>0673677002 0918292001 0898713001 0918522001 09...</td>\n",
       "    </tr>\n",
       "    <tr>\n",
       "      <th>2</th>\n",
       "      <td>-6846340800584936</td>\n",
       "      <td>0794321007 0794321011 0805000001 0926502001 09...</td>\n",
       "    </tr>\n",
       "    <tr>\n",
       "      <th>3</th>\n",
       "      <td>-94071612138601410</td>\n",
       "      <td>0730683001 0918522001 0720125001 0924243001 03...</td>\n",
       "    </tr>\n",
       "    <tr>\n",
       "      <th>4</th>\n",
       "      <td>-283965518499174310</td>\n",
       "      <td>0730683050 0896152002 0896152001 0791587015 09...</td>\n",
       "    </tr>\n",
       "    <tr>\n",
       "      <th>...</th>\n",
       "      <td>...</td>\n",
       "      <td>...</td>\n",
       "    </tr>\n",
       "    <tr>\n",
       "      <th>1371975</th>\n",
       "      <td>7551062398649767985</td>\n",
       "      <td>0557599022 0611415001 0804992014 0720125039 08...</td>\n",
       "    </tr>\n",
       "    <tr>\n",
       "      <th>1371976</th>\n",
       "      <td>-9141402131989464905</td>\n",
       "      <td>0448509014 0762846008 0762846031 0706016001 09...</td>\n",
       "    </tr>\n",
       "    <tr>\n",
       "      <th>1371977</th>\n",
       "      <td>-8286316756823862684</td>\n",
       "      <td>0762846027 0706016002 0762846031 0689365050 08...</td>\n",
       "    </tr>\n",
       "    <tr>\n",
       "      <th>1371978</th>\n",
       "      <td>2551401172826382186</td>\n",
       "      <td>0448509014 0918292001 0909370001 0918522001 07...</td>\n",
       "    </tr>\n",
       "    <tr>\n",
       "      <th>1371979</th>\n",
       "      <td>-1516792180973952447</td>\n",
       "      <td>0806050001 0918522001 0924243001 0896152002 07...</td>\n",
       "    </tr>\n",
       "  </tbody>\n",
       "</table>\n",
       "<p>1371980 rows × 2 columns</p>\n",
       "</div>"
      ],
      "text/plain": [
       "                 customer_id  \\\n",
       "0        6883939031699146327   \n",
       "1       -7200416642310594310   \n",
       "2          -6846340800584936   \n",
       "3         -94071612138601410   \n",
       "4        -283965518499174310   \n",
       "...                      ...   \n",
       "1371975  7551062398649767985   \n",
       "1371976 -9141402131989464905   \n",
       "1371977 -8286316756823862684   \n",
       "1371978  2551401172826382186   \n",
       "1371979 -1516792180973952447   \n",
       "\n",
       "                                                prediction  \n",
       "0        0568601043 0568601006 0751471001 0918525001 09...  \n",
       "1        0673677002 0918292001 0898713001 0918522001 09...  \n",
       "2        0794321007 0794321011 0805000001 0926502001 09...  \n",
       "3        0730683001 0918522001 0720125001 0924243001 03...  \n",
       "4        0730683050 0896152002 0896152001 0791587015 09...  \n",
       "...                                                    ...  \n",
       "1371975  0557599022 0611415001 0804992014 0720125039 08...  \n",
       "1371976  0448509014 0762846008 0762846031 0706016001 09...  \n",
       "1371977  0762846027 0706016002 0762846031 0689365050 08...  \n",
       "1371978  0448509014 0918292001 0909370001 0918522001 07...  \n",
       "1371979  0806050001 0918522001 0924243001 0896152002 07...  \n",
       "\n",
       "[1371980 rows x 2 columns]"
      ]
     },
     "execution_count": 10,
     "metadata": {},
     "output_type": "execute_result"
    }
   ],
   "source": [
    "sub0['customer_id'] = sub0['customer_id'].apply(lambda x: int(x[-16:],16) ).astype('int64')\n",
    "sub0"
   ]
  },
  {
   "cell_type": "markdown",
   "id": "27ee9d3b",
   "metadata": {
    "papermill": {
     "duration": 0.067618,
     "end_time": "2022-03-17T14:42:48.224410",
     "exception": false,
     "start_time": "2022-03-17T14:42:48.156792",
     "status": "completed"
    },
    "tags": []
   },
   "source": [
    "### Divide data"
   ]
  },
  {
   "cell_type": "code",
   "execution_count": 11,
   "id": "56757ad4",
   "metadata": {
    "execution": {
     "iopub.execute_input": "2022-03-17T14:42:48.509311Z",
     "iopub.status.busy": "2022-03-17T14:42:48.508621Z",
     "iopub.status.idle": "2022-03-17T14:43:00.292432Z",
     "shell.execute_reply": "2022-03-17T14:43:00.291681Z",
     "shell.execute_reply.started": "2022-03-17T14:37:55.32883Z"
    },
    "papermill": {
     "duration": 11.856226,
     "end_time": "2022-03-17T14:43:00.292589",
     "exception": false,
     "start_time": "2022-03-17T14:42:48.436363",
     "status": "completed"
    },
    "tags": []
   },
   "outputs": [
    {
     "name": "stdout",
     "output_type": "stream",
     "text": [
      "(240311, 5)\n"
     ]
    },
    {
     "data": {
      "text/html": [
       "<div>\n",
       "<style scoped>\n",
       "    .dataframe tbody tr th:only-of-type {\n",
       "        vertical-align: middle;\n",
       "    }\n",
       "\n",
       "    .dataframe tbody tr th {\n",
       "        vertical-align: top;\n",
       "    }\n",
       "\n",
       "    .dataframe thead th {\n",
       "        text-align: right;\n",
       "    }\n",
       "</style>\n",
       "<table border=\"1\" class=\"dataframe\">\n",
       "  <thead>\n",
       "    <tr style=\"text-align: right;\">\n",
       "      <th></th>\n",
       "      <th>t_dat</th>\n",
       "      <th>customer_id</th>\n",
       "      <th>article_id</th>\n",
       "      <th>price</th>\n",
       "      <th>sales_channel_id</th>\n",
       "    </tr>\n",
       "  </thead>\n",
       "  <tbody>\n",
       "    <tr>\n",
       "      <th>0</th>\n",
       "      <td>2020-09-16</td>\n",
       "      <td>8055340703569116761</td>\n",
       "      <td>786022008</td>\n",
       "      <td>0.048441</td>\n",
       "      <td>2</td>\n",
       "    </tr>\n",
       "    <tr>\n",
       "      <th>1</th>\n",
       "      <td>2020-09-16</td>\n",
       "      <td>8055340703569116761</td>\n",
       "      <td>913272003</td>\n",
       "      <td>0.032288</td>\n",
       "      <td>2</td>\n",
       "    </tr>\n",
       "    <tr>\n",
       "      <th>2</th>\n",
       "      <td>2020-09-16</td>\n",
       "      <td>8055340703569116761</td>\n",
       "      <td>889669006</td>\n",
       "      <td>0.056508</td>\n",
       "      <td>2</td>\n",
       "    </tr>\n",
       "    <tr>\n",
       "      <th>3</th>\n",
       "      <td>2020-09-16</td>\n",
       "      <td>2563761487478961358</td>\n",
       "      <td>237347060</td>\n",
       "      <td>0.033881</td>\n",
       "      <td>1</td>\n",
       "    </tr>\n",
       "    <tr>\n",
       "      <th>4</th>\n",
       "      <td>2020-09-16</td>\n",
       "      <td>2563761487478961358</td>\n",
       "      <td>562245001</td>\n",
       "      <td>0.013542</td>\n",
       "      <td>1</td>\n",
       "    </tr>\n",
       "  </tbody>\n",
       "</table>\n",
       "</div>"
      ],
      "text/plain": [
       "        t_dat          customer_id  article_id     price  sales_channel_id\n",
       "0  2020-09-16  8055340703569116761   786022008  0.048441                 2\n",
       "1  2020-09-16  8055340703569116761   913272003  0.032288                 2\n",
       "2  2020-09-16  8055340703569116761   889669006  0.056508                 2\n",
       "3  2020-09-16  2563761487478961358   237347060  0.033881                 1\n",
       "4  2020-09-16  2563761487478961358   562245001  0.013542                 1"
      ]
     },
     "metadata": {},
     "output_type": "display_data"
    }
   ],
   "source": [
    "valid_data = transactions_train.query(f\"'{rank_start_date}' <= t_dat and t_dat < '{rank_end_date}'\").reset_index(drop=True)\n",
    "visualize_df(valid_data)"
   ]
  },
  {
   "cell_type": "code",
   "execution_count": 12,
   "id": "4c1e94fe",
   "metadata": {
    "execution": {
     "iopub.execute_input": "2022-03-17T14:43:00.437358Z",
     "iopub.status.busy": "2022-03-17T14:43:00.436666Z",
     "iopub.status.idle": "2022-03-17T14:43:02.266384Z",
     "shell.execute_reply": "2022-03-17T14:43:02.265799Z",
     "shell.execute_reply.started": "2022-03-17T14:38:06.597683Z"
    },
    "papermill": {
     "duration": 1.902964,
     "end_time": "2022-03-17T14:43:02.266533",
     "exception": false,
     "start_time": "2022-03-17T14:43:00.363569",
     "status": "completed"
    },
    "tags": []
   },
   "outputs": [
    {
     "name": "stdout",
     "output_type": "stream",
     "text": [
      "(68984, 3)\n"
     ]
    },
    {
     "data": {
      "text/html": [
       "<div>\n",
       "<style scoped>\n",
       "    .dataframe tbody tr th:only-of-type {\n",
       "        vertical-align: middle;\n",
       "    }\n",
       "\n",
       "    .dataframe tbody tr th {\n",
       "        vertical-align: top;\n",
       "    }\n",
       "\n",
       "    .dataframe thead th {\n",
       "        text-align: right;\n",
       "    }\n",
       "</style>\n",
       "<table border=\"1\" class=\"dataframe\">\n",
       "  <thead>\n",
       "    <tr style=\"text-align: right;\">\n",
       "      <th></th>\n",
       "      <th>customer_id</th>\n",
       "      <th>article_id</th>\n",
       "      <th>valid_true</th>\n",
       "    </tr>\n",
       "  </thead>\n",
       "  <tbody>\n",
       "    <tr>\n",
       "      <th>0</th>\n",
       "      <td>-9223100958908512198</td>\n",
       "      <td>[785034009, 673677027, 673677024]</td>\n",
       "      <td>0785034009 0673677027 0673677024</td>\n",
       "    </tr>\n",
       "    <tr>\n",
       "      <th>1</th>\n",
       "      <td>-9223002534477110135</td>\n",
       "      <td>[793699001]</td>\n",
       "      <td>0793699001</td>\n",
       "    </tr>\n",
       "    <tr>\n",
       "      <th>2</th>\n",
       "      <td>-9222810895170663723</td>\n",
       "      <td>[892309001, 903306004]</td>\n",
       "      <td>0892309001 0903306004</td>\n",
       "    </tr>\n",
       "    <tr>\n",
       "      <th>3</th>\n",
       "      <td>-9221924794303263774</td>\n",
       "      <td>[888343003, 892857002, 708138013]</td>\n",
       "      <td>0888343003 0892857002 0708138013</td>\n",
       "    </tr>\n",
       "    <tr>\n",
       "      <th>4</th>\n",
       "      <td>-9221811157628158522</td>\n",
       "      <td>[891663002]</td>\n",
       "      <td>0891663002</td>\n",
       "    </tr>\n",
       "  </tbody>\n",
       "</table>\n",
       "</div>"
      ],
      "text/plain": [
       "           customer_id                         article_id  \\\n",
       "0 -9223100958908512198  [785034009, 673677027, 673677024]   \n",
       "1 -9223002534477110135                        [793699001]   \n",
       "2 -9222810895170663723             [892309001, 903306004]   \n",
       "3 -9221924794303263774  [888343003, 892857002, 708138013]   \n",
       "4 -9221811157628158522                        [891663002]   \n",
       "\n",
       "                         valid_true  \n",
       "0  0785034009 0673677027 0673677024  \n",
       "1                        0793699001  \n",
       "2             0892309001 0903306004  \n",
       "3  0888343003 0892857002 0708138013  \n",
       "4                        0891663002  "
      ]
     },
     "metadata": {},
     "output_type": "display_data"
    }
   ],
   "source": [
    "valid_unq = valid_data.groupby('customer_id')['article_id'].apply(list).reset_index()\n",
    "valid_unq['valid_true'] = valid_unq['article_id'].map(lambda x: '0'+' 0'.join(str(x)[1:-1].split(', ')))\n",
    "visualize_df(valid_unq)"
   ]
  },
  {
   "cell_type": "code",
   "execution_count": 13,
   "id": "82c10e61",
   "metadata": {
    "execution": {
     "iopub.execute_input": "2022-03-17T14:43:34.504537Z",
     "iopub.status.busy": "2022-03-17T14:43:34.503510Z",
     "iopub.status.idle": "2022-03-17T14:43:34.511556Z",
     "shell.execute_reply": "2022-03-17T14:43:34.512187Z",
     "shell.execute_reply.started": "2022-03-17T14:38:33.666307Z"
    },
    "papermill": {
     "duration": 0.09618,
     "end_time": "2022-03-17T14:43:34.512401",
     "exception": false,
     "start_time": "2022-03-17T14:43:34.416221",
     "status": "completed"
    },
    "tags": []
   },
   "outputs": [
    {
     "data": {
      "text/plain": [
       "0        0785034009 0673677027 0673677024\n",
       "1                              0793699001\n",
       "2                   0892309001 0903306004\n",
       "3        0888343003 0892857002 0708138013\n",
       "4                              0891663002\n",
       "                       ...               \n",
       "68979    0751994003 0699755081 0699755071\n",
       "68980    0869331006 0562245099 0865929002\n",
       "68981               0884319001 0884319003\n",
       "68982                          0903924002\n",
       "68983                          0914441003\n",
       "Name: valid_true, Length: 68984, dtype: object"
      ]
     },
     "execution_count": 13,
     "metadata": {},
     "output_type": "execute_result"
    }
   ],
   "source": [
    "valid_unq['valid_true']"
   ]
  },
  {
   "cell_type": "code",
   "execution_count": 14,
   "id": "875a644c",
   "metadata": {
    "execution": {
     "iopub.execute_input": "2022-03-17T14:43:34.689345Z",
     "iopub.status.busy": "2022-03-17T14:43:34.688586Z",
     "iopub.status.idle": "2022-03-17T14:43:37.327052Z",
     "shell.execute_reply": "2022-03-17T14:43:37.326359Z",
     "shell.execute_reply.started": "2022-03-17T14:38:33.676374Z"
    },
    "papermill": {
     "duration": 2.731583,
     "end_time": "2022-03-17T14:43:37.327207",
     "exception": false,
     "start_time": "2022-03-17T14:43:34.595624",
     "status": "completed"
    },
    "tags": []
   },
   "outputs": [
    {
     "data": {
      "text/plain": [
       "0"
      ]
     },
     "execution_count": 14,
     "metadata": {},
     "output_type": "execute_result"
    }
   ],
   "source": [
    "merged = pd.merge(sub0, valid_unq, on='customer_id', how='left').fillna('')\n",
    "del merged['article_id']; gc.collect()"
   ]
  },
  {
   "cell_type": "code",
   "execution_count": 15,
   "id": "1ab48e56",
   "metadata": {},
   "outputs": [
    {
     "name": "stdout",
     "output_type": "stream",
     "text": [
      "(68984, 3)\n"
     ]
    },
    {
     "data": {
      "text/html": [
       "<div>\n",
       "<style scoped>\n",
       "    .dataframe tbody tr th:only-of-type {\n",
       "        vertical-align: middle;\n",
       "    }\n",
       "\n",
       "    .dataframe tbody tr th {\n",
       "        vertical-align: top;\n",
       "    }\n",
       "\n",
       "    .dataframe thead th {\n",
       "        text-align: right;\n",
       "    }\n",
       "</style>\n",
       "<table border=\"1\" class=\"dataframe\">\n",
       "  <thead>\n",
       "    <tr style=\"text-align: right;\">\n",
       "      <th></th>\n",
       "      <th>customer_id</th>\n",
       "      <th>prediction</th>\n",
       "      <th>valid_true</th>\n",
       "    </tr>\n",
       "  </thead>\n",
       "  <tbody>\n",
       "    <tr>\n",
       "      <th>0</th>\n",
       "      <td>8215006181404469139</td>\n",
       "      <td>0918522001 0924243001 0762846008 0918292001 09...</td>\n",
       "      <td>0624486001</td>\n",
       "    </tr>\n",
       "    <tr>\n",
       "      <th>1</th>\n",
       "      <td>8282976502227659861</td>\n",
       "      <td>0889036004 0621381012 0640021012 0880017001 09...</td>\n",
       "      <td>0827487003</td>\n",
       "    </tr>\n",
       "    <tr>\n",
       "      <th>2</th>\n",
       "      <td>-7604547624187760215</td>\n",
       "      <td>0399136061 0556255001 0732842014 0732842021 07...</td>\n",
       "      <td>0757926001 0788575004 0640021019</td>\n",
       "    </tr>\n",
       "    <tr>\n",
       "      <th>3</th>\n",
       "      <td>-7555520646521469595</td>\n",
       "      <td>0448509014 0158340001 0918292001 0850917001 08...</td>\n",
       "      <td>0874110016</td>\n",
       "    </tr>\n",
       "    <tr>\n",
       "      <th>4</th>\n",
       "      <td>-7641768468830472284</td>\n",
       "      <td>0929744001 0865799005 0933989002 0456163060 08...</td>\n",
       "      <td>0903762001 0879189005 0158340001 0867966009 09...</td>\n",
       "    </tr>\n",
       "  </tbody>\n",
       "</table>\n",
       "</div>"
      ],
      "text/plain": [
       "           customer_id                                         prediction  \\\n",
       "0  8215006181404469139  0918522001 0924243001 0762846008 0918292001 09...   \n",
       "1  8282976502227659861  0889036004 0621381012 0640021012 0880017001 09...   \n",
       "2 -7604547624187760215  0399136061 0556255001 0732842014 0732842021 07...   \n",
       "3 -7555520646521469595  0448509014 0158340001 0918292001 0850917001 08...   \n",
       "4 -7641768468830472284  0929744001 0865799005 0933989002 0456163060 08...   \n",
       "\n",
       "                                          valid_true  \n",
       "0                                         0624486001  \n",
       "1                                         0827487003  \n",
       "2                   0757926001 0788575004 0640021019  \n",
       "3                                         0874110016  \n",
       "4  0903762001 0879189005 0158340001 0867966009 09...  "
      ]
     },
     "execution_count": 15,
     "metadata": {},
     "output_type": "execute_result"
    }
   ],
   "source": [
    "# remove customers who made no purchases \n",
    "merged = merged[merged['valid_true']!=''].reset_index(drop=True)\n",
    "print(merged.shape)\n",
    "merged.head()"
   ]
  },
  {
   "cell_type": "code",
   "execution_count": 16,
   "id": "de3ea7e4",
   "metadata": {
    "execution": {
     "iopub.execute_input": "2022-03-17T14:43:37.508427Z",
     "iopub.status.busy": "2022-03-17T14:43:37.507371Z",
     "iopub.status.idle": "2022-03-17T14:43:37.516669Z",
     "shell.execute_reply": "2022-03-17T14:43:37.517236Z",
     "shell.execute_reply.started": "2022-03-17T14:38:35.677216Z"
    },
    "papermill": {
     "duration": 0.104206,
     "end_time": "2022-03-17T14:43:37.517460",
     "exception": false,
     "start_time": "2022-03-17T14:43:37.413254",
     "status": "completed"
    },
    "tags": []
   },
   "outputs": [
    {
     "data": {
      "text/html": [
       "<div>\n",
       "<style scoped>\n",
       "    .dataframe tbody tr th:only-of-type {\n",
       "        vertical-align: middle;\n",
       "    }\n",
       "\n",
       "    .dataframe tbody tr th {\n",
       "        vertical-align: top;\n",
       "    }\n",
       "\n",
       "    .dataframe thead th {\n",
       "        text-align: right;\n",
       "    }\n",
       "</style>\n",
       "<table border=\"1\" class=\"dataframe\">\n",
       "  <thead>\n",
       "    <tr style=\"text-align: right;\">\n",
       "      <th></th>\n",
       "      <th>customer_id</th>\n",
       "      <th>prediction</th>\n",
       "      <th>valid_true</th>\n",
       "    </tr>\n",
       "  </thead>\n",
       "  <tbody>\n",
       "    <tr>\n",
       "      <th>0</th>\n",
       "      <td>8215006181404469139</td>\n",
       "      <td>0918522001 0924243001 0762846008 0918292001 09...</td>\n",
       "      <td>0624486001</td>\n",
       "    </tr>\n",
       "    <tr>\n",
       "      <th>1</th>\n",
       "      <td>8282976502227659861</td>\n",
       "      <td>0889036004 0621381012 0640021012 0880017001 09...</td>\n",
       "      <td>0827487003</td>\n",
       "    </tr>\n",
       "    <tr>\n",
       "      <th>2</th>\n",
       "      <td>-7604547624187760215</td>\n",
       "      <td>0399136061 0556255001 0732842014 0732842021 07...</td>\n",
       "      <td>0757926001 0788575004 0640021019</td>\n",
       "    </tr>\n",
       "    <tr>\n",
       "      <th>3</th>\n",
       "      <td>-7555520646521469595</td>\n",
       "      <td>0448509014 0158340001 0918292001 0850917001 08...</td>\n",
       "      <td>0874110016</td>\n",
       "    </tr>\n",
       "    <tr>\n",
       "      <th>4</th>\n",
       "      <td>-7641768468830472284</td>\n",
       "      <td>0929744001 0865799005 0933989002 0456163060 08...</td>\n",
       "      <td>0903762001 0879189005 0158340001 0867966009 09...</td>\n",
       "    </tr>\n",
       "    <tr>\n",
       "      <th>...</th>\n",
       "      <td>...</td>\n",
       "      <td>...</td>\n",
       "      <td>...</td>\n",
       "    </tr>\n",
       "    <tr>\n",
       "      <th>68979</th>\n",
       "      <td>2122442112338100006</td>\n",
       "      <td>0698387001 0573937001 0918522001 0924243001 08...</td>\n",
       "      <td>0874816003 0911870004</td>\n",
       "    </tr>\n",
       "    <tr>\n",
       "      <th>68980</th>\n",
       "      <td>-1670952078729494825</td>\n",
       "      <td>0372860001 0464297007 0918522001 0751471001 09...</td>\n",
       "      <td>0861803014 0849886010</td>\n",
       "    </tr>\n",
       "    <tr>\n",
       "      <th>68981</th>\n",
       "      <td>-8521419328249105955</td>\n",
       "      <td>0914441004 0706016001 0158340001 0915526001 06...</td>\n",
       "      <td>0396135007 0817472007 0715624050 0817472003 08...</td>\n",
       "    </tr>\n",
       "    <tr>\n",
       "      <th>68982</th>\n",
       "      <td>-5473509184230322687</td>\n",
       "      <td>0724906019 0372860001 0372860002 0924243001 04...</td>\n",
       "      <td>0750423010 0761269001</td>\n",
       "    </tr>\n",
       "    <tr>\n",
       "      <th>68983</th>\n",
       "      <td>3235222691137941515</td>\n",
       "      <td>0910601003 0905365002 0863646005 0803757023 08...</td>\n",
       "      <td>0898573003</td>\n",
       "    </tr>\n",
       "  </tbody>\n",
       "</table>\n",
       "<p>68984 rows × 3 columns</p>\n",
       "</div>"
      ],
      "text/plain": [
       "               customer_id                                         prediction  \\\n",
       "0      8215006181404469139  0918522001 0924243001 0762846008 0918292001 09...   \n",
       "1      8282976502227659861  0889036004 0621381012 0640021012 0880017001 09...   \n",
       "2     -7604547624187760215  0399136061 0556255001 0732842014 0732842021 07...   \n",
       "3     -7555520646521469595  0448509014 0158340001 0918292001 0850917001 08...   \n",
       "4     -7641768468830472284  0929744001 0865799005 0933989002 0456163060 08...   \n",
       "...                    ...                                                ...   \n",
       "68979  2122442112338100006  0698387001 0573937001 0918522001 0924243001 08...   \n",
       "68980 -1670952078729494825  0372860001 0464297007 0918522001 0751471001 09...   \n",
       "68981 -8521419328249105955  0914441004 0706016001 0158340001 0915526001 06...   \n",
       "68982 -5473509184230322687  0724906019 0372860001 0372860002 0924243001 04...   \n",
       "68983  3235222691137941515  0910601003 0905365002 0863646005 0803757023 08...   \n",
       "\n",
       "                                              valid_true  \n",
       "0                                             0624486001  \n",
       "1                                             0827487003  \n",
       "2                       0757926001 0788575004 0640021019  \n",
       "3                                             0874110016  \n",
       "4      0903762001 0879189005 0158340001 0867966009 09...  \n",
       "...                                                  ...  \n",
       "68979                              0874816003 0911870004  \n",
       "68980                              0861803014 0849886010  \n",
       "68981  0396135007 0817472007 0715624050 0817472003 08...  \n",
       "68982                              0750423010 0761269001  \n",
       "68983                                         0898573003  \n",
       "\n",
       "[68984 rows x 3 columns]"
      ]
     },
     "execution_count": 16,
     "metadata": {},
     "output_type": "execute_result"
    }
   ],
   "source": [
    "merged"
   ]
  },
  {
   "cell_type": "markdown",
   "id": "6d71c88f",
   "metadata": {
    "papermill": {
     "duration": 0.08544,
     "end_time": "2022-03-17T14:43:38.385059",
     "exception": false,
     "start_time": "2022-03-17T14:43:38.299619",
     "status": "completed"
    },
    "tags": []
   },
   "source": [
    "### Function"
   ]
  },
  {
   "cell_type": "code",
   "execution_count": 17,
   "id": "f893cff0",
   "metadata": {},
   "outputs": [],
   "source": [
    "# https://www.kaggle.com/c/h-and-m-personalized-fashion-recommendations/discussion/306007\n",
    "# https://github.com/benhamner/Metrics/blob/master/Python/ml_metrics/average_precision.py\n",
    "\n",
    "\n",
    "def apk(actual, predicted, k=10):\n",
    "    \"\"\"\n",
    "    Computes the average precision at k.\n",
    "    This function computes the average prescision at k between two lists of\n",
    "    items.\n",
    "    Parameters\n",
    "    ----------\n",
    "    actual : list\n",
    "             A list of elements that are to be predicted (order doesn't matter)\n",
    "    predicted : list\n",
    "                A list of predicted elements (order does matter)\n",
    "    k : int, optional\n",
    "        The maximum number of predicted elements\n",
    "    Returns\n",
    "    -------\n",
    "    score : double\n",
    "            The average precision at k over the input lists\n",
    "    \"\"\"\n",
    "    if len(predicted)>k:\n",
    "        predicted = predicted[:k]\n",
    "\n",
    "    score = 0.0\n",
    "    num_hits = 0.0\n",
    "\n",
    "    for i,p in enumerate(predicted):\n",
    "        if p in actual and p not in predicted[:i]:\n",
    "            num_hits += 1.0\n",
    "            score += num_hits / (i+1.0)\n",
    "\n",
    "    #remove this case in advance\n",
    "    #if not actual:\n",
    "    #    return 0.0\n",
    "\n",
    "    return score / min(len(actual), k)\n",
    "\n",
    "\n",
    "def mapk(actual, predicted, k=10):\n",
    "    \"\"\"\n",
    "    Computes the mean average precision at k.\n",
    "    This function computes the mean average prescision at k between two lists\n",
    "    of lists of items.\n",
    "    Parameters\n",
    "    ----------\n",
    "    actual : list\n",
    "             A list of lists of elements that are to be predicted \n",
    "             (order doesn't matter in the lists)\n",
    "    predicted : list\n",
    "                A list of lists of predicted elements\n",
    "                (order matters in the lists)\n",
    "    k : int, optional\n",
    "        The maximum number of predicted elements\n",
    "    Returns\n",
    "    -------\n",
    "    score : double\n",
    "            The mean average precision at k over the input lists\n",
    "    \"\"\"\n",
    "    return np.mean([apk(a,p,k) for a,p in zip(actual, predicted)])"
   ]
  },
  {
   "cell_type": "code",
   "execution_count": 18,
   "id": "d57e25b3",
   "metadata": {},
   "outputs": [
    {
     "data": {
      "text/plain": [
       "0.029575428893979076"
      ]
     },
     "execution_count": 18,
     "metadata": {},
     "output_type": "execute_result"
    }
   ],
   "source": [
    "tqdm.pandas()\n",
    "\n",
    "mapk(\n",
    "    merged['valid_true'].map(lambda x: x.split()), \n",
    "    merged['prediction'].map(lambda x: x.split()), \n",
    "    k=12\n",
    ")\n"
   ]
  },
  {
   "cell_type": "code",
   "execution_count": 19,
   "id": "2cea399a",
   "metadata": {},
   "outputs": [],
   "source": [
    "# lgbm:linear, 1:0 -> 0.029585037401273842\n",
    "# lgbm:linear, 0:1 -> 0.02613646255423653\n",
    "# lgbm:linear, 1:1 -> 0.02865823492021606\n",
    "# lgbm:linear, 1:0.5 -> 0.029143652240421175\n",
    "# lgbm:linear, 1:0.2 -> 0.02947248924565819\n",
    "# lgbm:linear, 1:0.1 -> 0.029575428893979076"
   ]
  },
  {
   "cell_type": "markdown",
   "id": "d630fc8a",
   "metadata": {},
   "source": [
    "## Expand"
   ]
  },
  {
   "cell_type": "code",
   "execution_count": 22,
   "id": "4fe88292",
   "metadata": {},
   "outputs": [
    {
     "data": {
      "text/html": [
       "<div>\n",
       "<style scoped>\n",
       "    .dataframe tbody tr th:only-of-type {\n",
       "        vertical-align: middle;\n",
       "    }\n",
       "\n",
       "    .dataframe tbody tr th {\n",
       "        vertical-align: top;\n",
       "    }\n",
       "\n",
       "    .dataframe thead th {\n",
       "        text-align: right;\n",
       "    }\n",
       "</style>\n",
       "<table border=\"1\" class=\"dataframe\">\n",
       "  <thead>\n",
       "    <tr style=\"text-align: right;\">\n",
       "      <th></th>\n",
       "      <th>customer_id</th>\n",
       "      <th>prediction</th>\n",
       "      <th>valid_true</th>\n",
       "    </tr>\n",
       "  </thead>\n",
       "  <tbody>\n",
       "    <tr>\n",
       "      <th>0</th>\n",
       "      <td>8215006181404469139</td>\n",
       "      <td>0918522001 0915526001 0898694001 0924243001 07...</td>\n",
       "      <td>0624486001</td>\n",
       "    </tr>\n",
       "    <tr>\n",
       "      <th>1</th>\n",
       "      <td>8282976502227659861</td>\n",
       "      <td>0889036004 0880017001 0621381012 0640021012 09...</td>\n",
       "      <td>0827487003</td>\n",
       "    </tr>\n",
       "    <tr>\n",
       "      <th>2</th>\n",
       "      <td>-7604547624187760215</td>\n",
       "      <td>0399136061 0556255001 0732842014 0732842021 07...</td>\n",
       "      <td>0757926001 0788575004 0640021019</td>\n",
       "    </tr>\n",
       "    <tr>\n",
       "      <th>3</th>\n",
       "      <td>-7555520646521469595</td>\n",
       "      <td>0448509014 0809238005 0918292001 0158340001 09...</td>\n",
       "      <td>0874110016</td>\n",
       "    </tr>\n",
       "    <tr>\n",
       "      <th>4</th>\n",
       "      <td>-7641768468830472284</td>\n",
       "      <td>0929744001 0456163060 0865799005 0933989002 08...</td>\n",
       "      <td>0903762001 0879189005 0158340001 0867966009 09...</td>\n",
       "    </tr>\n",
       "    <tr>\n",
       "      <th>...</th>\n",
       "      <td>...</td>\n",
       "      <td>...</td>\n",
       "      <td>...</td>\n",
       "    </tr>\n",
       "    <tr>\n",
       "      <th>68979</th>\n",
       "      <td>2122442112338100006</td>\n",
       "      <td>0573937001 0698387001 0652924004 0918522001 09...</td>\n",
       "      <td>0874816003 0911870004</td>\n",
       "    </tr>\n",
       "    <tr>\n",
       "      <th>68980</th>\n",
       "      <td>-1670952078729494825</td>\n",
       "      <td>0372860001 0464297007 0918522001 0751471043 03...</td>\n",
       "      <td>0861803014 0849886010</td>\n",
       "    </tr>\n",
       "    <tr>\n",
       "      <th>68981</th>\n",
       "      <td>-8521419328249105955</td>\n",
       "      <td>0914441004 0706016001 0158340001 0915526001 07...</td>\n",
       "      <td>0396135007 0817472007 0715624050 0817472003 08...</td>\n",
       "    </tr>\n",
       "    <tr>\n",
       "      <th>68982</th>\n",
       "      <td>-5473509184230322687</td>\n",
       "      <td>0372860001 0724906019 0372860002 0456163086 09...</td>\n",
       "      <td>0750423010 0761269001</td>\n",
       "    </tr>\n",
       "    <tr>\n",
       "      <th>68983</th>\n",
       "      <td>3235222691137941515</td>\n",
       "      <td>0905365002 0910601003 0881919001 0863646005 07...</td>\n",
       "      <td>0898573003</td>\n",
       "    </tr>\n",
       "  </tbody>\n",
       "</table>\n",
       "<p>68984 rows × 3 columns</p>\n",
       "</div>"
      ],
      "text/plain": [
       "               customer_id                                         prediction  \\\n",
       "0      8215006181404469139  0918522001 0915526001 0898694001 0924243001 07...   \n",
       "1      8282976502227659861  0889036004 0880017001 0621381012 0640021012 09...   \n",
       "2     -7604547624187760215  0399136061 0556255001 0732842014 0732842021 07...   \n",
       "3     -7555520646521469595  0448509014 0809238005 0918292001 0158340001 09...   \n",
       "4     -7641768468830472284  0929744001 0456163060 0865799005 0933989002 08...   \n",
       "...                    ...                                                ...   \n",
       "68979  2122442112338100006  0573937001 0698387001 0652924004 0918522001 09...   \n",
       "68980 -1670952078729494825  0372860001 0464297007 0918522001 0751471043 03...   \n",
       "68981 -8521419328249105955  0914441004 0706016001 0158340001 0915526001 07...   \n",
       "68982 -5473509184230322687  0372860001 0724906019 0372860002 0456163086 09...   \n",
       "68983  3235222691137941515  0905365002 0910601003 0881919001 0863646005 07...   \n",
       "\n",
       "                                              valid_true  \n",
       "0                                             0624486001  \n",
       "1                                             0827487003  \n",
       "2                       0757926001 0788575004 0640021019  \n",
       "3                                             0874110016  \n",
       "4      0903762001 0879189005 0158340001 0867966009 09...  \n",
       "...                                                  ...  \n",
       "68979                              0874816003 0911870004  \n",
       "68980                              0861803014 0849886010  \n",
       "68981  0396135007 0817472007 0715624050 0817472003 08...  \n",
       "68982                              0750423010 0761269001  \n",
       "68983                                         0898573003  \n",
       "\n",
       "[68984 rows x 3 columns]"
      ]
     },
     "execution_count": 22,
     "metadata": {},
     "output_type": "execute_result"
    }
   ],
   "source": [
    "merged"
   ]
  },
  {
   "cell_type": "code",
   "execution_count": 23,
   "id": "8554d972",
   "metadata": {},
   "outputs": [
    {
     "name": "stderr",
     "output_type": "stream",
     "text": [
      "<ipython-input-23-729881cb8f98>:2: SettingWithCopyWarning: \n",
      "A value is trying to be set on a copy of a slice from a DataFrame.\n",
      "Try using .loc[row_indexer,col_indexer] = value instead\n",
      "\n",
      "See the caveats in the documentation: https://pandas.pydata.org/pandas-docs/stable/user_guide/indexing.html#returning-a-view-versus-a-copy\n",
      "  merged1['prediction'] = merged1['prediction'].str.split()\n",
      "<ipython-input-23-729881cb8f98>:4: SettingWithCopyWarning: \n",
      "A value is trying to be set on a copy of a slice from a DataFrame.\n",
      "Try using .loc[row_indexer,col_indexer] = value instead\n",
      "\n",
      "See the caveats in the documentation: https://pandas.pydata.org/pandas-docs/stable/user_guide/indexing.html#returning-a-view-versus-a-copy\n",
      "  merged2['valid_true'] = merged2['valid_true'].str.split()\n"
     ]
    }
   ],
   "source": [
    "merged1 = merged[['customer_id', 'prediction']]\n",
    "merged1['prediction'] = merged1['prediction'].str.split()\n",
    "merged2 = merged[['customer_id', 'valid_true']]\n",
    "merged2['valid_true'] = merged2['valid_true'].str.split()"
   ]
  },
  {
   "cell_type": "code",
   "execution_count": 24,
   "id": "ed1f4bf5",
   "metadata": {},
   "outputs": [],
   "source": [
    "merged2 = merged2.explode('valid_true')\n",
    "merged2['label'] = 1 \n",
    "merged2 = merged2.rename(columns={'valid_true':'article_id'})\n",
    "merged2['article_id'] = merged2['article_id'].astype('int32')"
   ]
  },
  {
   "cell_type": "code",
   "execution_count": 25,
   "id": "007d9e94",
   "metadata": {},
   "outputs": [
    {
     "data": {
      "text/html": [
       "<div>\n",
       "<style scoped>\n",
       "    .dataframe tbody tr th:only-of-type {\n",
       "        vertical-align: middle;\n",
       "    }\n",
       "\n",
       "    .dataframe tbody tr th {\n",
       "        vertical-align: top;\n",
       "    }\n",
       "\n",
       "    .dataframe thead th {\n",
       "        text-align: right;\n",
       "    }\n",
       "</style>\n",
       "<table border=\"1\" class=\"dataframe\">\n",
       "  <thead>\n",
       "    <tr style=\"text-align: right;\">\n",
       "      <th></th>\n",
       "      <th>customer_id</th>\n",
       "      <th>article_id</th>\n",
       "      <th>label</th>\n",
       "    </tr>\n",
       "  </thead>\n",
       "  <tbody>\n",
       "    <tr>\n",
       "      <th>0</th>\n",
       "      <td>8215006181404469139</td>\n",
       "      <td>624486001</td>\n",
       "      <td>1</td>\n",
       "    </tr>\n",
       "    <tr>\n",
       "      <th>1</th>\n",
       "      <td>8282976502227659861</td>\n",
       "      <td>827487003</td>\n",
       "      <td>1</td>\n",
       "    </tr>\n",
       "    <tr>\n",
       "      <th>2</th>\n",
       "      <td>-7604547624187760215</td>\n",
       "      <td>757926001</td>\n",
       "      <td>1</td>\n",
       "    </tr>\n",
       "    <tr>\n",
       "      <th>2</th>\n",
       "      <td>-7604547624187760215</td>\n",
       "      <td>788575004</td>\n",
       "      <td>1</td>\n",
       "    </tr>\n",
       "    <tr>\n",
       "      <th>2</th>\n",
       "      <td>-7604547624187760215</td>\n",
       "      <td>640021019</td>\n",
       "      <td>1</td>\n",
       "    </tr>\n",
       "  </tbody>\n",
       "</table>\n",
       "</div>"
      ],
      "text/plain": [
       "           customer_id  article_id  label\n",
       "0  8215006181404469139   624486001      1\n",
       "1  8282976502227659861   827487003      1\n",
       "2 -7604547624187760215   757926001      1\n",
       "2 -7604547624187760215   788575004      1\n",
       "2 -7604547624187760215   640021019      1"
      ]
     },
     "execution_count": 25,
     "metadata": {},
     "output_type": "execute_result"
    }
   ],
   "source": [
    "merged2.head()"
   ]
  },
  {
   "cell_type": "code",
   "execution_count": 26,
   "id": "6bf7b36d",
   "metadata": {},
   "outputs": [],
   "source": [
    "merged1['match_len'] = merged1['prediction'].apply(len)\n",
    "merged1['match_len'] = merged1['match_len'].astype('int8')"
   ]
  },
  {
   "cell_type": "code",
   "execution_count": 27,
   "id": "6224fa18",
   "metadata": {},
   "outputs": [
    {
     "data": {
      "text/html": [
       "<div>\n",
       "<style scoped>\n",
       "    .dataframe tbody tr th:only-of-type {\n",
       "        vertical-align: middle;\n",
       "    }\n",
       "\n",
       "    .dataframe tbody tr th {\n",
       "        vertical-align: top;\n",
       "    }\n",
       "\n",
       "    .dataframe thead th {\n",
       "        text-align: right;\n",
       "    }\n",
       "</style>\n",
       "<table border=\"1\" class=\"dataframe\">\n",
       "  <thead>\n",
       "    <tr style=\"text-align: right;\">\n",
       "      <th></th>\n",
       "      <th>customer_id</th>\n",
       "      <th>prediction</th>\n",
       "      <th>match_len</th>\n",
       "    </tr>\n",
       "  </thead>\n",
       "  <tbody>\n",
       "    <tr>\n",
       "      <th>0</th>\n",
       "      <td>8215006181404469139</td>\n",
       "      <td>[0918522001, 0915526001, 0898694001, 092424300...</td>\n",
       "      <td>12</td>\n",
       "    </tr>\n",
       "    <tr>\n",
       "      <th>1</th>\n",
       "      <td>8282976502227659861</td>\n",
       "      <td>[0889036004, 0880017001, 0621381012, 064002101...</td>\n",
       "      <td>12</td>\n",
       "    </tr>\n",
       "    <tr>\n",
       "      <th>2</th>\n",
       "      <td>-7604547624187760215</td>\n",
       "      <td>[0399136061, 0556255001, 0732842014, 073284202...</td>\n",
       "      <td>12</td>\n",
       "    </tr>\n",
       "    <tr>\n",
       "      <th>3</th>\n",
       "      <td>-7555520646521469595</td>\n",
       "      <td>[0448509014, 0809238005, 0918292001, 015834000...</td>\n",
       "      <td>12</td>\n",
       "    </tr>\n",
       "    <tr>\n",
       "      <th>4</th>\n",
       "      <td>-7641768468830472284</td>\n",
       "      <td>[0929744001, 0456163060, 0865799005, 093398900...</td>\n",
       "      <td>12</td>\n",
       "    </tr>\n",
       "    <tr>\n",
       "      <th>...</th>\n",
       "      <td>...</td>\n",
       "      <td>...</td>\n",
       "      <td>...</td>\n",
       "    </tr>\n",
       "    <tr>\n",
       "      <th>68979</th>\n",
       "      <td>2122442112338100006</td>\n",
       "      <td>[0573937001, 0698387001, 0652924004, 091852200...</td>\n",
       "      <td>12</td>\n",
       "    </tr>\n",
       "    <tr>\n",
       "      <th>68980</th>\n",
       "      <td>-1670952078729494825</td>\n",
       "      <td>[0372860001, 0464297007, 0918522001, 075147104...</td>\n",
       "      <td>12</td>\n",
       "    </tr>\n",
       "    <tr>\n",
       "      <th>68981</th>\n",
       "      <td>-8521419328249105955</td>\n",
       "      <td>[0914441004, 0706016001, 0158340001, 091552600...</td>\n",
       "      <td>12</td>\n",
       "    </tr>\n",
       "    <tr>\n",
       "      <th>68982</th>\n",
       "      <td>-5473509184230322687</td>\n",
       "      <td>[0372860001, 0724906019, 0372860002, 045616308...</td>\n",
       "      <td>12</td>\n",
       "    </tr>\n",
       "    <tr>\n",
       "      <th>68983</th>\n",
       "      <td>3235222691137941515</td>\n",
       "      <td>[0905365002, 0910601003, 0881919001, 086364600...</td>\n",
       "      <td>12</td>\n",
       "    </tr>\n",
       "  </tbody>\n",
       "</table>\n",
       "<p>68984 rows × 3 columns</p>\n",
       "</div>"
      ],
      "text/plain": [
       "               customer_id                                         prediction  \\\n",
       "0      8215006181404469139  [0918522001, 0915526001, 0898694001, 092424300...   \n",
       "1      8282976502227659861  [0889036004, 0880017001, 0621381012, 064002101...   \n",
       "2     -7604547624187760215  [0399136061, 0556255001, 0732842014, 073284202...   \n",
       "3     -7555520646521469595  [0448509014, 0809238005, 0918292001, 015834000...   \n",
       "4     -7641768468830472284  [0929744001, 0456163060, 0865799005, 093398900...   \n",
       "...                    ...                                                ...   \n",
       "68979  2122442112338100006  [0573937001, 0698387001, 0652924004, 091852200...   \n",
       "68980 -1670952078729494825  [0372860001, 0464297007, 0918522001, 075147104...   \n",
       "68981 -8521419328249105955  [0914441004, 0706016001, 0158340001, 091552600...   \n",
       "68982 -5473509184230322687  [0372860001, 0724906019, 0372860002, 045616308...   \n",
       "68983  3235222691137941515  [0905365002, 0910601003, 0881919001, 086364600...   \n",
       "\n",
       "       match_len  \n",
       "0             12  \n",
       "1             12  \n",
       "2             12  \n",
       "3             12  \n",
       "4             12  \n",
       "...          ...  \n",
       "68979         12  \n",
       "68980         12  \n",
       "68981         12  \n",
       "68982         12  \n",
       "68983         12  \n",
       "\n",
       "[68984 rows x 3 columns]"
      ]
     },
     "execution_count": 27,
     "metadata": {},
     "output_type": "execute_result"
    }
   ],
   "source": [
    "merged1"
   ]
  },
  {
   "cell_type": "code",
   "execution_count": 28,
   "id": "17a6f6cf",
   "metadata": {},
   "outputs": [],
   "source": [
    "merged1['rec_list'] = merged1['prediction']\n",
    "merged1['match_rank'] = merged1['rec_list'].apply(lambda x: [i for i in range(len(x))])\n",
    "merged1 = merged1.drop(['prediction'], axis='columns')\n",
    "merged1 = merged1.explode(['rec_list','match_rank'])\n",
    "merged1 = merged1.rename(columns={'rec_list':'article_id'})\n",
    "merged1['article_id'] = merged1['article_id'].fillna(0).astype('int32') # mathingで0件の場合は無理やり0埋め"
   ]
  },
  {
   "cell_type": "code",
   "execution_count": 29,
   "id": "f6b51f27",
   "metadata": {},
   "outputs": [
    {
     "data": {
      "text/html": [
       "<div>\n",
       "<style scoped>\n",
       "    .dataframe tbody tr th:only-of-type {\n",
       "        vertical-align: middle;\n",
       "    }\n",
       "\n",
       "    .dataframe tbody tr th {\n",
       "        vertical-align: top;\n",
       "    }\n",
       "\n",
       "    .dataframe thead th {\n",
       "        text-align: right;\n",
       "    }\n",
       "</style>\n",
       "<table border=\"1\" class=\"dataframe\">\n",
       "  <thead>\n",
       "    <tr style=\"text-align: right;\">\n",
       "      <th></th>\n",
       "      <th>customer_id</th>\n",
       "      <th>match_len</th>\n",
       "      <th>article_id</th>\n",
       "      <th>match_rank</th>\n",
       "      <th>label</th>\n",
       "    </tr>\n",
       "  </thead>\n",
       "  <tbody>\n",
       "    <tr>\n",
       "      <th>0</th>\n",
       "      <td>8215006181404469139</td>\n",
       "      <td>12</td>\n",
       "      <td>918522001</td>\n",
       "      <td>0</td>\n",
       "      <td>False</td>\n",
       "    </tr>\n",
       "    <tr>\n",
       "      <th>1</th>\n",
       "      <td>8215006181404469139</td>\n",
       "      <td>12</td>\n",
       "      <td>915526001</td>\n",
       "      <td>1</td>\n",
       "      <td>False</td>\n",
       "    </tr>\n",
       "    <tr>\n",
       "      <th>2</th>\n",
       "      <td>8215006181404469139</td>\n",
       "      <td>12</td>\n",
       "      <td>898694001</td>\n",
       "      <td>2</td>\n",
       "      <td>False</td>\n",
       "    </tr>\n",
       "    <tr>\n",
       "      <th>3</th>\n",
       "      <td>8215006181404469139</td>\n",
       "      <td>12</td>\n",
       "      <td>924243001</td>\n",
       "      <td>3</td>\n",
       "      <td>False</td>\n",
       "    </tr>\n",
       "    <tr>\n",
       "      <th>4</th>\n",
       "      <td>8215006181404469139</td>\n",
       "      <td>12</td>\n",
       "      <td>762846008</td>\n",
       "      <td>4</td>\n",
       "      <td>False</td>\n",
       "    </tr>\n",
       "  </tbody>\n",
       "</table>\n",
       "</div>"
      ],
      "text/plain": [
       "           customer_id  match_len  article_id match_rank  label\n",
       "0  8215006181404469139         12   918522001          0  False\n",
       "1  8215006181404469139         12   915526001          1  False\n",
       "2  8215006181404469139         12   898694001          2  False\n",
       "3  8215006181404469139         12   924243001          3  False\n",
       "4  8215006181404469139         12   762846008          4  False"
      ]
     },
     "execution_count": 29,
     "metadata": {},
     "output_type": "execute_result"
    }
   ],
   "source": [
    "merged1['label'] = 0\n",
    "merged = pd.merge(merged1, merged2, on=['customer_id', 'article_id'], how='left')\n",
    "\n",
    "merged['label_y'] = merged['label_y'].fillna(0)\n",
    "merged['label'] = merged['label_x'] + merged['label_y']\n",
    "merged = merged.drop(['label_x', 'label_y'], axis='columns')\n",
    "merged['label'] = merged['label'].astype('bool')\n",
    "merged.head()"
   ]
  },
  {
   "cell_type": "code",
   "execution_count": 30,
   "id": "241671dc",
   "metadata": {},
   "outputs": [
    {
     "data": {
      "text/plain": [
       "False    815934\n",
       "True      12423\n",
       "Name: label, dtype: int64"
      ]
     },
     "execution_count": 30,
     "metadata": {},
     "output_type": "execute_result"
    }
   ],
   "source": [
    "merged['label'].value_counts()"
   ]
  },
  {
   "cell_type": "code",
   "execution_count": 31,
   "id": "9e8ef8eb",
   "metadata": {},
   "outputs": [
    {
     "data": {
      "text/plain": [
       "match_rank\n",
       "0     0.040327\n",
       "1     0.026101\n",
       "2     0.019784\n",
       "3     0.017422\n",
       "4     0.013878\n",
       "5     0.011939\n",
       "6     0.010884\n",
       "7     0.009714\n",
       "8     0.007937\n",
       "9     0.007840\n",
       "10    0.007023\n",
       "11    0.006736\n",
       "Name: label, dtype: float64"
      ]
     },
     "execution_count": 31,
     "metadata": {},
     "output_type": "execute_result"
    }
   ],
   "source": [
    "merged.groupby('match_rank')['label'].agg('mean')"
   ]
  },
  {
   "cell_type": "code",
   "execution_count": 32,
   "id": "f2337a00",
   "metadata": {},
   "outputs": [
    {
     "data": {
      "text/plain": [
       "0.17958624251966068"
      ]
     },
     "execution_count": 32,
     "metadata": {},
     "output_type": "execute_result"
    }
   ],
   "source": [
    "merged.groupby('match_rank')['label'].agg('mean').sum() # matcingの精度の目安"
   ]
  },
  {
   "cell_type": "code",
   "execution_count": null,
   "id": "e51687a8",
   "metadata": {},
   "outputs": [],
   "source": []
  }
 ],
 "metadata": {
  "kernelspec": {
   "display_name": "Python 3",
   "language": "python",
   "name": "python3"
  },
  "language_info": {
   "codemirror_mode": {
    "name": "ipython",
    "version": 3
   },
   "file_extension": ".py",
   "mimetype": "text/x-python",
   "name": "python",
   "nbconvert_exporter": "python",
   "pygments_lexer": "ipython3",
   "version": "3.8.10"
  },
  "papermill": {
   "default_parameters": {},
   "duration": 170.705229,
   "end_time": "2022-03-17T14:44:19.644481",
   "environment_variables": {},
   "exception": null,
   "input_path": "__notebook__.ipynb",
   "output_path": "__notebook__.ipynb",
   "parameters": {},
   "start_time": "2022-03-17T14:41:28.939252",
   "version": "2.3.3"
  }
 },
 "nbformat": 4,
 "nbformat_minor": 5
}
