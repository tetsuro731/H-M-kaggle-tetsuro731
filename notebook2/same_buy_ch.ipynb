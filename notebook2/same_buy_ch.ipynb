{
 "cells": [
  {
   "cell_type": "markdown",
   "id": "75f8c307",
   "metadata": {
    "papermill": {
     "duration": 0.011728,
     "end_time": "2022-04-23T09:11:17.226980",
     "exception": false,
     "start_time": "2022-04-23T09:11:17.215252",
     "status": "completed"
    },
    "tags": []
   },
   "source": [
    "# Customers Who Bought This Frequently Buy This!\n",
    "In this notebook we will explore which items were frequently purchased together. Using this information, we can predict which items a customer will buy after we observe what they have already bought!"
   ]
  },
  {
   "cell_type": "code",
   "execution_count": 1,
   "id": "5d970eff",
   "metadata": {},
   "outputs": [],
   "source": [
    "import numpy as np\n",
    "import pandas as pd\n",
    "import gc\n",
    "import os\n",
    "import time\n",
    "import random\n",
    "from tqdm.auto import tqdm\n",
    "import datetime"
   ]
  },
  {
   "cell_type": "markdown",
   "id": "7fd7d058",
   "metadata": {
    "papermill": {
     "duration": 0.010577,
     "end_time": "2022-04-23T09:11:21.071993",
     "exception": false,
     "start_time": "2022-04-23T09:11:21.061416",
     "status": "completed"
    },
    "tags": []
   },
   "source": [
    "# Load Tranactions"
   ]
  },
  {
   "cell_type": "code",
   "execution_count": 2,
   "id": "3353aa0a",
   "metadata": {
    "execution": {
     "iopub.execute_input": "2022-04-23T09:11:21.096317Z",
     "iopub.status.busy": "2022-04-23T09:11:21.095534Z",
     "iopub.status.idle": "2022-04-23T09:11:21.099629Z",
     "shell.execute_reply": "2022-04-23T09:11:21.099237Z",
     "shell.execute_reply.started": "2022-04-23T08:46:30.443743Z"
    },
    "papermill": {
     "duration": 0.01694,
     "end_time": "2022-04-23T09:11:21.099731",
     "exception": false,
     "start_time": "2022-04-23T09:11:21.082791",
     "status": "completed"
    },
    "tags": []
   },
   "outputs": [],
   "source": [
    "#log_date = '2020-09-16'\n",
    "log_date = '2020-09-09'\n",
    "Ntop = 2\n",
    "#ch = 'on'\n",
    "ch = 'off'\n",
    "#ch = ''"
   ]
  },
  {
   "cell_type": "code",
   "execution_count": 3,
   "id": "9a43b646",
   "metadata": {
    "tags": [
     "parameters"
    ]
   },
   "outputs": [],
   "source": [
    "# parameter injection cell"
   ]
  },
  {
   "cell_type": "code",
   "execution_count": 4,
   "id": "48d4c90a",
   "metadata": {
    "execution": {
     "iopub.execute_input": "2022-04-23T09:11:21.126090Z",
     "iopub.status.busy": "2022-04-23T09:11:21.123773Z",
     "iopub.status.idle": "2022-04-23T09:11:59.232023Z",
     "shell.execute_reply": "2022-04-23T09:11:59.232595Z",
     "shell.execute_reply.started": "2022-04-23T08:46:32.622034Z"
    },
    "papermill": {
     "duration": 38.122169,
     "end_time": "2022-04-23T09:11:59.232776",
     "exception": false,
     "start_time": "2022-04-23T09:11:21.110607",
     "status": "completed"
    },
    "tags": []
   },
   "outputs": [
    {
     "data": {
      "text/html": [
       "<div>\n",
       "<style scoped>\n",
       "    .dataframe tbody tr th:only-of-type {\n",
       "        vertical-align: middle;\n",
       "    }\n",
       "\n",
       "    .dataframe tbody tr th {\n",
       "        vertical-align: top;\n",
       "    }\n",
       "\n",
       "    .dataframe thead th {\n",
       "        text-align: right;\n",
       "    }\n",
       "</style>\n",
       "<table border=\"1\" class=\"dataframe\">\n",
       "  <thead>\n",
       "    <tr style=\"text-align: right;\">\n",
       "      <th></th>\n",
       "      <th>t_dat</th>\n",
       "      <th>customer_id</th>\n",
       "      <th>article_id</th>\n",
       "      <th>price</th>\n",
       "      <th>sales_channel_id</th>\n",
       "    </tr>\n",
       "  </thead>\n",
       "  <tbody>\n",
       "    <tr>\n",
       "      <th>0</th>\n",
       "      <td>2018-09-20</td>\n",
       "      <td>000058a12d5b43e67d225668fa1f8d618c13dc232df0ca...</td>\n",
       "      <td>663713001</td>\n",
       "      <td>0.050831</td>\n",
       "      <td>2</td>\n",
       "    </tr>\n",
       "    <tr>\n",
       "      <th>1</th>\n",
       "      <td>2018-09-20</td>\n",
       "      <td>000058a12d5b43e67d225668fa1f8d618c13dc232df0ca...</td>\n",
       "      <td>541518023</td>\n",
       "      <td>0.030492</td>\n",
       "      <td>2</td>\n",
       "    </tr>\n",
       "    <tr>\n",
       "      <th>2</th>\n",
       "      <td>2018-09-20</td>\n",
       "      <td>00007d2de826758b65a93dd24ce629ed66842531df6699...</td>\n",
       "      <td>505221004</td>\n",
       "      <td>0.015237</td>\n",
       "      <td>2</td>\n",
       "    </tr>\n",
       "    <tr>\n",
       "      <th>3</th>\n",
       "      <td>2018-09-20</td>\n",
       "      <td>00007d2de826758b65a93dd24ce629ed66842531df6699...</td>\n",
       "      <td>685687003</td>\n",
       "      <td>0.016932</td>\n",
       "      <td>2</td>\n",
       "    </tr>\n",
       "    <tr>\n",
       "      <th>4</th>\n",
       "      <td>2018-09-20</td>\n",
       "      <td>00007d2de826758b65a93dd24ce629ed66842531df6699...</td>\n",
       "      <td>685687004</td>\n",
       "      <td>0.016932</td>\n",
       "      <td>2</td>\n",
       "    </tr>\n",
       "    <tr>\n",
       "      <th>...</th>\n",
       "      <td>...</td>\n",
       "      <td>...</td>\n",
       "      <td>...</td>\n",
       "      <td>...</td>\n",
       "      <td>...</td>\n",
       "    </tr>\n",
       "    <tr>\n",
       "      <th>31292767</th>\n",
       "      <td>2020-09-08</td>\n",
       "      <td>fff2282977442e327b45d8c89afde25617d00124d0f999...</td>\n",
       "      <td>919786002</td>\n",
       "      <td>0.042356</td>\n",
       "      <td>2</td>\n",
       "    </tr>\n",
       "    <tr>\n",
       "      <th>31292768</th>\n",
       "      <td>2020-09-08</td>\n",
       "      <td>fffbdd2f8e59d45c0fb50a14b0ea555f7daa5307b3f922...</td>\n",
       "      <td>765308002</td>\n",
       "      <td>0.033881</td>\n",
       "      <td>2</td>\n",
       "    </tr>\n",
       "    <tr>\n",
       "      <th>31292769</th>\n",
       "      <td>2020-09-08</td>\n",
       "      <td>ffffcf35913a0bee60e8741cb2b4e78b8a98ee5ff2e6a1...</td>\n",
       "      <td>689365050</td>\n",
       "      <td>0.010017</td>\n",
       "      <td>2</td>\n",
       "    </tr>\n",
       "    <tr>\n",
       "      <th>31292770</th>\n",
       "      <td>2020-09-08</td>\n",
       "      <td>ffffcf35913a0bee60e8741cb2b4e78b8a98ee5ff2e6a1...</td>\n",
       "      <td>884081001</td>\n",
       "      <td>0.012898</td>\n",
       "      <td>2</td>\n",
       "    </tr>\n",
       "    <tr>\n",
       "      <th>31292771</th>\n",
       "      <td>2020-09-08</td>\n",
       "      <td>ffffcf35913a0bee60e8741cb2b4e78b8a98ee5ff2e6a1...</td>\n",
       "      <td>794819001</td>\n",
       "      <td>0.014322</td>\n",
       "      <td>2</td>\n",
       "    </tr>\n",
       "  </tbody>\n",
       "</table>\n",
       "<p>31292772 rows × 5 columns</p>\n",
       "</div>"
      ],
      "text/plain": [
       "              t_dat                                        customer_id  \\\n",
       "0        2018-09-20  000058a12d5b43e67d225668fa1f8d618c13dc232df0ca...   \n",
       "1        2018-09-20  000058a12d5b43e67d225668fa1f8d618c13dc232df0ca...   \n",
       "2        2018-09-20  00007d2de826758b65a93dd24ce629ed66842531df6699...   \n",
       "3        2018-09-20  00007d2de826758b65a93dd24ce629ed66842531df6699...   \n",
       "4        2018-09-20  00007d2de826758b65a93dd24ce629ed66842531df6699...   \n",
       "...             ...                                                ...   \n",
       "31292767 2020-09-08  fff2282977442e327b45d8c89afde25617d00124d0f999...   \n",
       "31292768 2020-09-08  fffbdd2f8e59d45c0fb50a14b0ea555f7daa5307b3f922...   \n",
       "31292769 2020-09-08  ffffcf35913a0bee60e8741cb2b4e78b8a98ee5ff2e6a1...   \n",
       "31292770 2020-09-08  ffffcf35913a0bee60e8741cb2b4e78b8a98ee5ff2e6a1...   \n",
       "31292771 2020-09-08  ffffcf35913a0bee60e8741cb2b4e78b8a98ee5ff2e6a1...   \n",
       "\n",
       "          article_id     price  sales_channel_id  \n",
       "0          663713001  0.050831                 2  \n",
       "1          541518023  0.030492                 2  \n",
       "2          505221004  0.015237                 2  \n",
       "3          685687003  0.016932                 2  \n",
       "4          685687004  0.016932                 2  \n",
       "...              ...       ...               ...  \n",
       "31292767   919786002  0.042356                 2  \n",
       "31292768   765308002  0.033881                 2  \n",
       "31292769   689365050  0.010017                 2  \n",
       "31292770   884081001  0.012898                 2  \n",
       "31292771   794819001  0.014322                 2  \n",
       "\n",
       "[31292772 rows x 5 columns]"
      ]
     },
     "execution_count": 4,
     "metadata": {},
     "output_type": "execute_result"
    }
   ],
   "source": [
    "# LOAD TRANSACTIONS DATAFRAME\n",
    "df = pd.read_csv('../input/h-and-m-personalized-fashion-recommendations/transactions_train.csv')\n",
    "df['t_dat'] = pd.to_datetime(df['t_dat'])\n",
    "df = df.query(f\"t_dat < '{log_date}'\").reset_index(drop=True)\n",
    "df"
   ]
  },
  {
   "cell_type": "code",
   "execution_count": 7,
   "id": "0ea22c00",
   "metadata": {},
   "outputs": [],
   "source": [
    "# online/offline or all\n",
    "Nth = 100\n",
    "if ch == 'off':\n",
    "    df = df.query('sales_channel_id == 1')\n",
    "    Nch = 25\n",
    "elif ch == 'on':\n",
    "    df = df.query('sales_channel_id == 2')\n",
    "    Nch = 75"
   ]
  },
  {
   "cell_type": "code",
   "execution_count": 8,
   "id": "afd98c07",
   "metadata": {
    "execution": {
     "iopub.execute_input": "2022-04-23T09:11:59.282589Z",
     "iopub.status.busy": "2022-04-23T09:11:59.281813Z",
     "iopub.status.idle": "2022-04-23T09:11:59.834293Z",
     "shell.execute_reply": "2022-04-23T09:11:59.833529Z",
     "shell.execute_reply.started": "2022-04-23T08:46:35.346161Z"
    },
    "papermill": {
     "duration": 0.589191,
     "end_time": "2022-04-23T09:11:59.834414",
     "exception": false,
     "start_time": "2022-04-23T09:11:59.245223",
     "status": "completed"
    },
    "tags": []
   },
   "outputs": [],
   "source": [
    "# REDUCE MEMORY OF DATAFRAME\n",
    "df = df[['customer_id','article_id']]\n",
    "df['customer_id'] = df['customer_id'].apply(lambda x: int(x[-16:],16) ).astype('int64')\n",
    "df['article_id'] = df['article_id'].astype('int32')\n",
    "_ = gc.collect()"
   ]
  },
  {
   "cell_type": "markdown",
   "id": "17d26ec7",
   "metadata": {
    "papermill": {
     "duration": 0.011552,
     "end_time": "2022-04-23T09:11:59.858117",
     "exception": false,
     "start_time": "2022-04-23T09:11:59.846565",
     "status": "completed"
    },
    "tags": []
   },
   "source": [
    "# Find Items Purchased Together\n",
    "We will use RAPID cuDF to speed up the dataframe search commands below"
   ]
  },
  {
   "cell_type": "code",
   "execution_count": null,
   "id": "2d119ece",
   "metadata": {
    "execution": {
     "iopub.execute_input": "2022-04-23T09:11:59.887641Z",
     "iopub.status.busy": "2022-04-23T09:11:59.886952Z",
     "iopub.status.idle": "2022-04-23T09:11:59.943875Z",
     "shell.execute_reply": "2022-04-23T09:11:59.944317Z",
     "shell.execute_reply.started": "2022-04-23T08:46:35.910609Z"
    },
    "papermill": {
     "duration": 0.074493,
     "end_time": "2022-04-23T09:11:59.944467",
     "exception": false,
     "start_time": "2022-04-23T09:11:59.869974",
     "status": "completed"
    },
    "tags": []
   },
   "outputs": [],
   "source": [
    "# FIND ITEMS PURCHASED TOGETHER\n",
    "vc = df.article_id.value_counts()\n",
    "# 少なすぎるものは削る。vc>50でだいたい半分くらいになる\n",
    "vc = vc[vc>Nch]\n",
    "vc"
   ]
  },
  {
   "cell_type": "code",
   "execution_count": null,
   "id": "cd0a14d9",
   "metadata": {
    "execution": {
     "iopub.execute_input": "2022-04-23T09:11:59.976508Z",
     "iopub.status.busy": "2022-04-23T09:11:59.970774Z",
     "iopub.status.idle": "2022-04-23T09:12:24.173817Z",
     "shell.execute_reply": "2022-04-23T09:12:24.174566Z",
     "shell.execute_reply.started": "2022-04-23T08:46:41.313978Z"
    },
    "papermill": {
     "duration": 24.218651,
     "end_time": "2022-04-23T09:12:24.175338",
     "exception": false,
     "start_time": "2022-04-23T09:11:59.956687",
     "status": "completed"
    },
    "tags": []
   },
   "outputs": [],
   "source": [
    "# FIND ITEMS PURCHASED TOGETHER\n",
    "pairs_np = {} # cudfでなくても読める用\n",
    "for j,i in enumerate(vc.index.values):\n",
    "#for j,i in enumerate(vc.index.values[:100]):\n",
    "    if j%100==0: print(j,', ',end='')\n",
    "    USERS = df.loc[df.article_id==i.item(),'customer_id'].unique() # 特定のarticleを買っているcustomer\n",
    "    vc2 = df.loc[(df.customer_id.isin(USERS))&(df.article_id!=i.item()),'article_id'].value_counts() # 自分自身を除く、同時に買われたarticle\n",
    "    pairs_np[i.item()] = vc2.index[:Ntop]"
   ]
  },
  {
   "cell_type": "code",
   "execution_count": null,
   "id": "a955593c",
   "metadata": {
    "execution": {
     "iopub.execute_input": "2022-04-23T09:12:24.242060Z",
     "iopub.status.busy": "2022-04-23T09:12:24.240701Z",
     "iopub.status.idle": "2022-04-23T09:12:24.244756Z",
     "shell.execute_reply": "2022-04-23T09:12:24.241376Z",
     "shell.execute_reply.started": "2022-04-23T08:47:14.848356Z"
    },
    "papermill": {
     "duration": 0.046155,
     "end_time": "2022-04-23T09:12:24.245071",
     "exception": false,
     "start_time": "2022-04-23T09:12:24.198916",
     "status": "completed"
    },
    "tags": []
   },
   "outputs": [],
   "source": [
    "sum_pair = len(pairs_np)\n",
    "s = 0\n",
    "for v in pairs_np.values():\n",
    "    s += len(v)\n",
    "print(s/sum_pair) # mapの長さの平均値"
   ]
  },
  {
   "cell_type": "code",
   "execution_count": null,
   "id": "89348653",
   "metadata": {
    "execution": {
     "iopub.execute_input": "2022-04-23T09:12:24.300790Z",
     "iopub.status.busy": "2022-04-23T09:12:24.299953Z",
     "iopub.status.idle": "2022-04-23T09:12:24.303295Z",
     "shell.execute_reply": "2022-04-23T09:12:24.303740Z",
     "shell.execute_reply.started": "2022-04-23T08:47:40.325193Z"
    },
    "papermill": {
     "duration": 0.029888,
     "end_time": "2022-04-23T09:12:24.303875",
     "exception": false,
     "start_time": "2022-04-23T09:12:24.273987",
     "status": "completed"
    },
    "tags": []
   },
   "outputs": [],
   "source": [
    "#np.save(f'pairs_np_{log_date}_{Ntop}.npy', pairs_np)"
   ]
  },
  {
   "cell_type": "code",
   "execution_count": null,
   "id": "fa34f579",
   "metadata": {
    "papermill": {
     "duration": 0.024117,
     "end_time": "2022-04-23T09:12:24.402104",
     "exception": false,
     "start_time": "2022-04-23T09:12:24.377987",
     "status": "completed"
    },
    "tags": []
   },
   "outputs": [],
   "source": [
    "import pickle\n",
    "    \n",
    "with open(f'pairs_np_{log_date}_{Ntop}{ch}.pkl', \"wb\") as f:\n",
    "    pickle.dump(pairs_np,f)\n"
   ]
  },
  {
   "cell_type": "code",
   "execution_count": null,
   "id": "9ba9b227",
   "metadata": {},
   "outputs": [],
   "source": []
  }
 ],
 "metadata": {
  "kernelspec": {
   "display_name": "Python 3",
   "language": "python",
   "name": "python3"
  },
  "language_info": {
   "codemirror_mode": {
    "name": "ipython",
    "version": 3
   },
   "file_extension": ".py",
   "mimetype": "text/x-python",
   "name": "python",
   "nbconvert_exporter": "python",
   "pygments_lexer": "ipython3",
   "version": "3.8.10"
  },
  "papermill": {
   "default_parameters": {},
   "duration": 77.153866,
   "end_time": "2022-04-23T09:12:25.736836",
   "environment_variables": {},
   "exception": null,
   "input_path": "__notebook__.ipynb",
   "output_path": "__notebook__.ipynb",
   "parameters": {},
   "start_time": "2022-04-23T09:11:08.582970",
   "version": "2.3.3"
  }
 },
 "nbformat": 4,
 "nbformat_minor": 5
}
