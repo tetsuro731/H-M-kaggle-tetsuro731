{
 "cells": [
  {
   "cell_type": "markdown",
   "id": "e073ee38",
   "metadata": {
    "papermill": {
     "duration": 0.010374,
     "end_time": "2022-05-07T01:16:19.381073",
     "exception": false,
     "start_time": "2022-05-07T01:16:19.370699",
     "status": "completed"
    },
    "tags": []
   },
   "source": [
    "I just apply the [solution](https://www.kaggle.com/code/hirotakanogami/h-m-eda-customer-clustering-by-kmeans) to this [notebook](https://www.kaggle.com/code/baekseungyun/lb-0-0235-ensemble-gives-you-bronze-medal). Thanks."
   ]
  },
  {
   "cell_type": "code",
   "execution_count": 1,
   "id": "da3229ce",
   "metadata": {
    "_cell_guid": "b1076dfc-b9ad-4769-8c92-a6c4dae69d19",
    "_uuid": "8f2839f25d086af736a60e9eeb907d3b93b6e0e5",
    "execution": {
     "iopub.execute_input": "2022-05-07T01:16:19.405656Z",
     "iopub.status.busy": "2022-05-07T01:16:19.404426Z",
     "iopub.status.idle": "2022-05-07T01:16:19.414146Z",
     "shell.execute_reply": "2022-05-07T01:16:19.414729Z",
     "shell.execute_reply.started": "2022-05-07T01:04:07.570503Z"
    },
    "papermill": {
     "duration": 0.02291,
     "end_time": "2022-05-07T01:16:19.415055",
     "exception": false,
     "start_time": "2022-05-07T01:16:19.392145",
     "status": "completed"
    },
    "tags": []
   },
   "outputs": [],
   "source": [
    "import os\n",
    "import numpy as np\n",
    "import pandas as pd\n",
    "import gc"
   ]
  },
  {
   "cell_type": "markdown",
   "id": "2633aa07",
   "metadata": {
    "papermill": {
     "duration": 0.008736,
     "end_time": "2022-05-07T01:16:19.433190",
     "exception": false,
     "start_time": "2022-05-07T01:16:19.424454",
     "status": "completed"
    },
    "tags": []
   },
   "source": [
    "# To ensemble I used submissions from 7 public notebooks:\n",
    "* LB: 0.0262 - my_submission, lightGBM\n",
    "* LB: 0.0262 - my_submission, XGBoost\n",
    "* LB: 0.0260 - my_submission, CatBoost\n",
    "* LB: 0.0240 - ensamble model"
   ]
  },
  {
   "cell_type": "code",
   "execution_count": 2,
   "id": "91a127ee",
   "metadata": {
    "execution": {
     "iopub.execute_input": "2022-05-07T01:16:19.457630Z",
     "iopub.status.busy": "2022-05-07T01:16:19.453799Z",
     "iopub.status.idle": "2022-05-07T01:16:52.800177Z",
     "shell.execute_reply": "2022-05-07T01:16:52.799506Z",
     "shell.execute_reply.started": "2022-05-07T01:04:07.600113Z"
    },
    "papermill": {
     "duration": 33.358136,
     "end_time": "2022-05-07T01:16:52.800328",
     "exception": false,
     "start_time": "2022-05-07T01:16:19.442192",
     "status": "completed"
    },
    "tags": []
   },
   "outputs": [],
   "source": [
    "sub0 = pd.read_csv('../input/mysubmission2/submission.csv').sort_values('customer_id').reset_index(drop=True) # 0.0262\n",
    "sub1 = pd.read_csv('../input/xgboost/submission_xgb.csv').sort_values('customer_id').reset_index(drop=True) # 0.0262\n",
    "sub2 = pd.read_csv('../input/catboost/submission_cat.csv').sort_values('customer_id').reset_index(drop=True) # 0.0260\n",
    "sub3 = pd.read_csv('../input/lb-0-0240-h-m-ensemble-magic-multi-blend/submission.csv').sort_values('customer_id').reset_index(drop=True) # 0.0240"
   ]
  },
  {
   "cell_type": "code",
   "execution_count": 3,
   "id": "8b990d1e",
   "metadata": {
    "execution": {
     "iopub.execute_input": "2022-05-07T01:16:52.828623Z",
     "iopub.status.busy": "2022-05-07T01:16:52.827595Z",
     "iopub.status.idle": "2022-05-07T01:16:53.198273Z",
     "shell.execute_reply": "2022-05-07T01:16:53.198808Z",
     "shell.execute_reply.started": "2022-05-06T04:24:01.741613Z"
    },
    "papermill": {
     "duration": 0.389538,
     "end_time": "2022-05-07T01:16:53.198998",
     "exception": false,
     "start_time": "2022-05-07T01:16:52.809460",
     "status": "completed"
    },
    "tags": []
   },
   "outputs": [
    {
     "data": {
      "text/html": [
       "<div>\n",
       "<style scoped>\n",
       "    .dataframe tbody tr th:only-of-type {\n",
       "        vertical-align: middle;\n",
       "    }\n",
       "\n",
       "    .dataframe tbody tr th {\n",
       "        vertical-align: top;\n",
       "    }\n",
       "\n",
       "    .dataframe thead th {\n",
       "        text-align: right;\n",
       "    }\n",
       "</style>\n",
       "<table border=\"1\" class=\"dataframe\">\n",
       "  <thead>\n",
       "    <tr style=\"text-align: right;\">\n",
       "      <th></th>\n",
       "      <th>customer_id</th>\n",
       "      <th>prediction0</th>\n",
       "      <th>prediction1</th>\n",
       "      <th>prediction2</th>\n",
       "      <th>prediction3</th>\n",
       "    </tr>\n",
       "  </thead>\n",
       "  <tbody>\n",
       "    <tr>\n",
       "      <th>0</th>\n",
       "      <td>00000dbacae5abe5e23885899a1fa44253a17956c6d1c3...</td>\n",
       "      <td>0568601006 0568601043 0924243001 0919273002 09...</td>\n",
       "      <td>0568601006 0568601043 0858856005 0924243001 09...</td>\n",
       "      <td>0568601006 0568601043 0924243001 0915529003 07...</td>\n",
       "      <td>0568601043 0568601006 0751471001 0924243001 04...</td>\n",
       "    </tr>\n",
       "    <tr>\n",
       "      <th>1</th>\n",
       "      <td>0000423b00ade91418cceaf3b26c6af3dd342b51fd051e...</td>\n",
       "      <td>0673677002 0915529005 0924243002 0896169005 09...</td>\n",
       "      <td>0924243001 0915529005 0923758001 0918522001 09...</td>\n",
       "      <td>0924243001 0924243002 0915529005 0918522001 09...</td>\n",
       "      <td>0826211002 0924243001 0924243002 0739590027 08...</td>\n",
       "    </tr>\n",
       "    <tr>\n",
       "      <th>2</th>\n",
       "      <td>000058a12d5b43e67d225668fa1f8d618c13dc232df0ca...</td>\n",
       "      <td>0794321007 0805000001 0794321011 0924243001 09...</td>\n",
       "      <td>0794321007 0805000001 0794321011 0924243001 09...</td>\n",
       "      <td>0805000001 0794321007 0924243001 0924243002 09...</td>\n",
       "      <td>0794321007 0852643001 0924243001 0924243002 07...</td>\n",
       "    </tr>\n",
       "    <tr>\n",
       "      <th>3</th>\n",
       "      <td>00005ca1c9ed5f5146b52ac8639a40ca9d57aeff4d1bd2...</td>\n",
       "      <td>0751471001 0751471043 0720125001 0919273002 09...</td>\n",
       "      <td>0923758001 0915529003 0714790020 0751471043 09...</td>\n",
       "      <td>0923758001 0751471001 0924243002 0915529003 09...</td>\n",
       "      <td>0448509014 0924243002 0924243001 0751471001 05...</td>\n",
       "    </tr>\n",
       "    <tr>\n",
       "      <th>4</th>\n",
       "      <td>00006413d8573cd20ed7128e53b7b13819fe5cfc2d801f...</td>\n",
       "      <td>0730683050 0791587015 0896152002 0896152001 09...</td>\n",
       "      <td>0730683050 0791587015 0918522001 0915529003 09...</td>\n",
       "      <td>0730683050 0896152002 0791587015 0924243001 07...</td>\n",
       "      <td>0730683050 0791587015 0927530004 0896152002 09...</td>\n",
       "    </tr>\n",
       "  </tbody>\n",
       "</table>\n",
       "</div>"
      ],
      "text/plain": [
       "                                         customer_id  \\\n",
       "0  00000dbacae5abe5e23885899a1fa44253a17956c6d1c3...   \n",
       "1  0000423b00ade91418cceaf3b26c6af3dd342b51fd051e...   \n",
       "2  000058a12d5b43e67d225668fa1f8d618c13dc232df0ca...   \n",
       "3  00005ca1c9ed5f5146b52ac8639a40ca9d57aeff4d1bd2...   \n",
       "4  00006413d8573cd20ed7128e53b7b13819fe5cfc2d801f...   \n",
       "\n",
       "                                         prediction0  \\\n",
       "0  0568601006 0568601043 0924243001 0919273002 09...   \n",
       "1  0673677002 0915529005 0924243002 0896169005 09...   \n",
       "2  0794321007 0805000001 0794321011 0924243001 09...   \n",
       "3  0751471001 0751471043 0720125001 0919273002 09...   \n",
       "4  0730683050 0791587015 0896152002 0896152001 09...   \n",
       "\n",
       "                                         prediction1  \\\n",
       "0  0568601006 0568601043 0858856005 0924243001 09...   \n",
       "1  0924243001 0915529005 0923758001 0918522001 09...   \n",
       "2  0794321007 0805000001 0794321011 0924243001 09...   \n",
       "3  0923758001 0915529003 0714790020 0751471043 09...   \n",
       "4  0730683050 0791587015 0918522001 0915529003 09...   \n",
       "\n",
       "                                         prediction2  \\\n",
       "0  0568601006 0568601043 0924243001 0915529003 07...   \n",
       "1  0924243001 0924243002 0915529005 0918522001 09...   \n",
       "2  0805000001 0794321007 0924243001 0924243002 09...   \n",
       "3  0923758001 0751471001 0924243002 0915529003 09...   \n",
       "4  0730683050 0896152002 0791587015 0924243001 07...   \n",
       "\n",
       "                                         prediction3  \n",
       "0  0568601043 0568601006 0751471001 0924243001 04...  \n",
       "1  0826211002 0924243001 0924243002 0739590027 08...  \n",
       "2  0794321007 0852643001 0924243001 0924243002 07...  \n",
       "3  0448509014 0924243002 0924243001 0751471001 05...  \n",
       "4  0730683050 0791587015 0927530004 0896152002 09...  "
      ]
     },
     "execution_count": 3,
     "metadata": {},
     "output_type": "execute_result"
    }
   ],
   "source": [
    "sub0.columns = ['customer_id', 'prediction0']\n",
    "sub0['prediction1'] = sub1['prediction']\n",
    "sub0['prediction2'] = sub2['prediction']\n",
    "sub0['prediction3'] = sub3['prediction']\n",
    "\n",
    "del sub1, sub2, sub3\n",
    "gc.collect()\n",
    "sub0.head()"
   ]
  },
  {
   "cell_type": "code",
   "execution_count": 4,
   "id": "bd3984be",
   "metadata": {
    "execution": {
     "iopub.execute_input": "2022-05-07T01:16:53.550997Z",
     "iopub.status.busy": "2022-05-07T01:16:53.393809Z",
     "iopub.status.idle": "2022-05-07T01:18:16.410070Z",
     "shell.execute_reply": "2022-05-07T01:18:16.410572Z",
     "shell.execute_reply.started": "2022-05-06T04:24:15.433101Z"
    },
    "papermill": {
     "duration": 83.201808,
     "end_time": "2022-05-07T01:18:16.410769",
     "exception": false,
     "start_time": "2022-05-07T01:16:53.208961",
     "status": "completed"
    },
    "tags": []
   },
   "outputs": [
    {
     "data": {
      "text/html": [
       "<div>\n",
       "<style scoped>\n",
       "    .dataframe tbody tr th:only-of-type {\n",
       "        vertical-align: middle;\n",
       "    }\n",
       "\n",
       "    .dataframe tbody tr th {\n",
       "        vertical-align: top;\n",
       "    }\n",
       "\n",
       "    .dataframe thead th {\n",
       "        text-align: right;\n",
       "    }\n",
       "</style>\n",
       "<table border=\"1\" class=\"dataframe\">\n",
       "  <thead>\n",
       "    <tr style=\"text-align: right;\">\n",
       "      <th></th>\n",
       "      <th>customer_id</th>\n",
       "      <th>prediction0</th>\n",
       "      <th>prediction1</th>\n",
       "      <th>prediction2</th>\n",
       "      <th>prediction3</th>\n",
       "      <th>prediction</th>\n",
       "    </tr>\n",
       "  </thead>\n",
       "  <tbody>\n",
       "    <tr>\n",
       "      <th>0</th>\n",
       "      <td>00000dbacae5abe5e23885899a1fa44253a17956c6d1c3...</td>\n",
       "      <td>0568601006 0568601043 0924243001 0919273002 09...</td>\n",
       "      <td>0568601006 0568601043 0858856005 0924243001 09...</td>\n",
       "      <td>0568601006 0568601043 0924243001 0915529003 07...</td>\n",
       "      <td>0568601043 0568601006 0751471001 0924243001 04...</td>\n",
       "      <td>0568601006 0568601043 0924243001 0915529003 09...</td>\n",
       "    </tr>\n",
       "    <tr>\n",
       "      <th>1</th>\n",
       "      <td>0000423b00ade91418cceaf3b26c6af3dd342b51fd051e...</td>\n",
       "      <td>0673677002 0915529005 0924243002 0896169005 09...</td>\n",
       "      <td>0924243001 0915529005 0923758001 0918522001 09...</td>\n",
       "      <td>0924243001 0924243002 0915529005 0918522001 09...</td>\n",
       "      <td>0826211002 0924243001 0924243002 0739590027 08...</td>\n",
       "      <td>0924243001 0915529005 0673677002 0924243002 09...</td>\n",
       "    </tr>\n",
       "    <tr>\n",
       "      <th>2</th>\n",
       "      <td>000058a12d5b43e67d225668fa1f8d618c13dc232df0ca...</td>\n",
       "      <td>0794321007 0805000001 0794321011 0924243001 09...</td>\n",
       "      <td>0794321007 0805000001 0794321011 0924243001 09...</td>\n",
       "      <td>0805000001 0794321007 0924243001 0924243002 09...</td>\n",
       "      <td>0794321007 0852643001 0924243001 0924243002 07...</td>\n",
       "      <td>0794321007 0805000001 0924243001 0794321011 09...</td>\n",
       "    </tr>\n",
       "    <tr>\n",
       "      <th>3</th>\n",
       "      <td>00005ca1c9ed5f5146b52ac8639a40ca9d57aeff4d1bd2...</td>\n",
       "      <td>0751471001 0751471043 0720125001 0919273002 09...</td>\n",
       "      <td>0923758001 0915529003 0714790020 0751471043 09...</td>\n",
       "      <td>0923758001 0751471001 0924243002 0915529003 09...</td>\n",
       "      <td>0448509014 0924243002 0924243001 0751471001 05...</td>\n",
       "      <td>0923758001 0751471001 0915529003 0751471043 09...</td>\n",
       "    </tr>\n",
       "    <tr>\n",
       "      <th>4</th>\n",
       "      <td>00006413d8573cd20ed7128e53b7b13819fe5cfc2d801f...</td>\n",
       "      <td>0730683050 0791587015 0896152002 0896152001 09...</td>\n",
       "      <td>0730683050 0791587015 0918522001 0915529003 09...</td>\n",
       "      <td>0730683050 0896152002 0791587015 0924243001 07...</td>\n",
       "      <td>0730683050 0791587015 0927530004 0896152002 09...</td>\n",
       "      <td>0730683050 0791587015 0896152002 0924243001 09...</td>\n",
       "    </tr>\n",
       "  </tbody>\n",
       "</table>\n",
       "</div>"
      ],
      "text/plain": [
       "                                         customer_id  \\\n",
       "0  00000dbacae5abe5e23885899a1fa44253a17956c6d1c3...   \n",
       "1  0000423b00ade91418cceaf3b26c6af3dd342b51fd051e...   \n",
       "2  000058a12d5b43e67d225668fa1f8d618c13dc232df0ca...   \n",
       "3  00005ca1c9ed5f5146b52ac8639a40ca9d57aeff4d1bd2...   \n",
       "4  00006413d8573cd20ed7128e53b7b13819fe5cfc2d801f...   \n",
       "\n",
       "                                         prediction0  \\\n",
       "0  0568601006 0568601043 0924243001 0919273002 09...   \n",
       "1  0673677002 0915529005 0924243002 0896169005 09...   \n",
       "2  0794321007 0805000001 0794321011 0924243001 09...   \n",
       "3  0751471001 0751471043 0720125001 0919273002 09...   \n",
       "4  0730683050 0791587015 0896152002 0896152001 09...   \n",
       "\n",
       "                                         prediction1  \\\n",
       "0  0568601006 0568601043 0858856005 0924243001 09...   \n",
       "1  0924243001 0915529005 0923758001 0918522001 09...   \n",
       "2  0794321007 0805000001 0794321011 0924243001 09...   \n",
       "3  0923758001 0915529003 0714790020 0751471043 09...   \n",
       "4  0730683050 0791587015 0918522001 0915529003 09...   \n",
       "\n",
       "                                         prediction2  \\\n",
       "0  0568601006 0568601043 0924243001 0915529003 07...   \n",
       "1  0924243001 0924243002 0915529005 0918522001 09...   \n",
       "2  0805000001 0794321007 0924243001 0924243002 09...   \n",
       "3  0923758001 0751471001 0924243002 0915529003 09...   \n",
       "4  0730683050 0896152002 0791587015 0924243001 07...   \n",
       "\n",
       "                                         prediction3  \\\n",
       "0  0568601043 0568601006 0751471001 0924243001 04...   \n",
       "1  0826211002 0924243001 0924243002 0739590027 08...   \n",
       "2  0794321007 0852643001 0924243001 0924243002 07...   \n",
       "3  0448509014 0924243002 0924243001 0751471001 05...   \n",
       "4  0730683050 0791587015 0927530004 0896152002 09...   \n",
       "\n",
       "                                          prediction  \n",
       "0  0568601006 0568601043 0924243001 0915529003 09...  \n",
       "1  0924243001 0915529005 0673677002 0924243002 09...  \n",
       "2  0794321007 0805000001 0924243001 0794321011 09...  \n",
       "3  0923758001 0751471001 0915529003 0751471043 09...  \n",
       "4  0730683050 0791587015 0896152002 0924243001 09...  "
      ]
     },
     "execution_count": 4,
     "metadata": {},
     "output_type": "execute_result"
    }
   ],
   "source": [
    "def cust_blend(dt, W = [1,1,1,1,1]):\n",
    "    #Global ensemble weights\n",
    "    #W = [1.15,0.95,0.85]\n",
    "\n",
    "    #Create a list of all model predictions\n",
    "    REC = []\n",
    "\n",
    "    # Second Try\n",
    "    REC.append(dt['prediction0'].split())\n",
    "    REC.append(dt['prediction1'].split())\n",
    "    REC.append(dt['prediction2'].split())\n",
    "    REC.append(dt['prediction3'].split())\n",
    "\n",
    "    #Create a dictionary of items recommended.\n",
    "    #Assign a weight according the order of appearance and multiply by global weights\n",
    "    res = {}\n",
    "    for M in range(len(REC)):\n",
    "        for n, v in enumerate(REC[M]):\n",
    "            if v in res:\n",
    "                res[v] += (W[M]/(n+1))\n",
    "            else:\n",
    "                res[v] = (W[M]/(n+1))\n",
    "\n",
    "    # Sort dictionary by item weights\n",
    "    res = list(dict(sorted(res.items(), key=lambda item: -item[1])).keys())\n",
    "\n",
    "    # Return the top 12 items only\n",
    "    return ' '.join(res[:12])\n",
    "\n",
    "\n",
    "sub0['prediction'] = sub0.apply(cust_blend, W = [1.0, 1.2, 0.9, 0.3], axis=1)\n",
    "sub0.head()"
   ]
  },
  {
   "cell_type": "markdown",
   "id": "94180cce",
   "metadata": {
    "papermill": {
     "duration": 0.009951,
     "end_time": "2022-05-07T01:18:16.430917",
     "exception": false,
     "start_time": "2022-05-07T01:18:16.420966",
     "status": "completed"
    },
    "tags": []
   },
   "source": [
    "# Make a submission"
   ]
  },
  {
   "cell_type": "code",
   "execution_count": 5,
   "id": "fd0933e1",
   "metadata": {
    "execution": {
     "iopub.execute_input": "2022-05-07T01:18:16.458571Z",
     "iopub.status.busy": "2022-05-07T01:18:16.457628Z",
     "iopub.status.idle": "2022-05-07T01:18:29.280030Z",
     "shell.execute_reply": "2022-05-07T01:18:29.280996Z",
     "shell.execute_reply.started": "2022-05-06T04:25:18.640026Z"
    },
    "papermill": {
     "duration": 12.840143,
     "end_time": "2022-05-07T01:18:29.281237",
     "exception": false,
     "start_time": "2022-05-07T01:18:16.441094",
     "status": "completed"
    },
    "tags": []
   },
   "outputs": [],
   "source": [
    "del sub0['prediction0']\n",
    "del sub0['prediction1']\n",
    "del sub0['prediction2']\n",
    "del sub0['prediction3']\n",
    "\n",
    "gc.collect()\n",
    "\n",
    "\n",
    "sub0.to_csv('submission.csv', index=False)"
   ]
  },
  {
   "cell_type": "code",
   "execution_count": null,
   "id": "02cc7b89",
   "metadata": {
    "papermill": {
     "duration": 0.016038,
     "end_time": "2022-05-07T01:18:29.314405",
     "exception": false,
     "start_time": "2022-05-07T01:18:29.298367",
     "status": "completed"
    },
    "tags": []
   },
   "outputs": [],
   "source": []
  }
 ],
 "metadata": {
  "kernelspec": {
   "display_name": "Python 3",
   "language": "python",
   "name": "python3"
  },
  "language_info": {
   "codemirror_mode": {
    "name": "ipython",
    "version": 3
   },
   "file_extension": ".py",
   "mimetype": "text/x-python",
   "name": "python",
   "nbconvert_exporter": "python",
   "pygments_lexer": "ipython3",
   "version": "3.7.12"
  },
  "papermill": {
   "default_parameters": {},
   "duration": 140.937608,
   "end_time": "2022-05-07T01:18:30.443769",
   "environment_variables": {},
   "exception": null,
   "input_path": "__notebook__.ipynb",
   "output_path": "__notebook__.ipynb",
   "parameters": {},
   "start_time": "2022-05-07T01:16:09.506161",
   "version": "2.3.3"
  }
 },
 "nbformat": 4,
 "nbformat_minor": 5
}
