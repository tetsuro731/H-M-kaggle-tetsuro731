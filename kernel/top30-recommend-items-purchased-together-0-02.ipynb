{
 "cells": [
  {
   "cell_type": "markdown",
   "id": "57507d7e",
   "metadata": {
    "papermill": {
     "duration": 0.015572,
     "end_time": "2022-04-03T16:16:50.414242",
     "exception": false,
     "start_time": "2022-04-03T16:16:50.398670",
     "status": "completed"
    },
    "tags": []
   },
   "source": [
    "# Recommend Items Frequently Purchased Together\n",
    "This notebook demonstrates how recommending items that are frequently purchased together is effective. The current best scoring public notebook [here][1] recommends to customers those customers' last purchases and scores public LB 0.020. In this notebook here, we will begin with that idea and add recommending items that are frequently purchased together with a customers' previous purchaes. This notebook improves the LB and scores LB 0.021. This notebook's strategy is as follows:\n",
    "* recommend items previously purchased [idea here][1]\n",
    "* recommend items that are bought together with previous purchases [idea here][2]\n",
    "* recommend popular items [idea here][1]\n",
    "\n",
    "[1]: https://www.kaggle.com/hengzheng/time-is-our-best-friend-v2\n",
    "[2]: https://www.kaggle.com/cdeotte/customers-who-bought-this-frequently-buy-this"
   ]
  },
  {
   "cell_type": "markdown",
   "id": "4b051094",
   "metadata": {
    "papermill": {
     "duration": 0.014108,
     "end_time": "2022-04-03T16:16:50.443502",
     "exception": false,
     "start_time": "2022-04-03T16:16:50.429394",
     "status": "completed"
    },
    "tags": []
   },
   "source": [
    "# RAPIDS cuDF\n",
    "We will use RAPIDS cuDF for fast dataframe operations"
   ]
  },
  {
   "cell_type": "code",
   "execution_count": 1,
   "id": "48c48e47",
   "metadata": {
    "execution": {
     "iopub.execute_input": "2022-04-03T16:16:50.477351Z",
     "iopub.status.busy": "2022-04-03T16:16:50.475890Z",
     "iopub.status.idle": "2022-04-03T16:16:53.996196Z",
     "shell.execute_reply": "2022-04-03T16:16:53.996736Z",
     "shell.execute_reply.started": "2022-04-03T16:13:41.249720Z"
    },
    "papermill": {
     "duration": 3.539264,
     "end_time": "2022-04-03T16:16:53.997074",
     "exception": false,
     "start_time": "2022-04-03T16:16:50.457810",
     "status": "completed"
    },
    "tags": []
   },
   "outputs": [
    {
     "name": "stdout",
     "output_type": "stream",
     "text": [
      "RAPIDS version 21.10.01\n"
     ]
    }
   ],
   "source": [
    "import cudf\n",
    "print('RAPIDS version',cudf.__version__)"
   ]
  },
  {
   "cell_type": "code",
   "execution_count": 2,
   "id": "4f59780d",
   "metadata": {
    "execution": {
     "iopub.execute_input": "2022-04-03T16:16:54.032220Z",
     "iopub.status.busy": "2022-04-03T16:16:54.031406Z",
     "iopub.status.idle": "2022-04-03T16:16:54.033367Z",
     "shell.execute_reply": "2022-04-03T16:16:54.033758Z",
     "shell.execute_reply.started": "2022-04-03T16:14:45.316430Z"
    },
    "papermill": {
     "duration": 0.020888,
     "end_time": "2022-04-03T16:16:54.033910",
     "exception": false,
     "start_time": "2022-04-03T16:16:54.013022",
     "status": "completed"
    },
    "tags": []
   },
   "outputs": [],
   "source": [
    "log_date = '2020-09-16'\n",
    "Ntop = 3"
   ]
  },
  {
   "cell_type": "markdown",
   "id": "3aeafd29",
   "metadata": {
    "papermill": {
     "duration": 0.014641,
     "end_time": "2022-04-03T16:16:54.063710",
     "exception": false,
     "start_time": "2022-04-03T16:16:54.049069",
     "status": "completed"
    },
    "tags": []
   },
   "source": [
    "# Load Transactions, Reduce Memory\n",
    "Discussion about reducing memory is [here][1]\n",
    "\n",
    "[1]: https://www.kaggle.com/c/h-and-m-personalized-fashion-recommendations/discussion/308635"
   ]
  },
  {
   "cell_type": "code",
   "execution_count": 3,
   "id": "effd4730",
   "metadata": {
    "execution": {
     "iopub.execute_input": "2022-04-03T16:16:54.097292Z",
     "iopub.status.busy": "2022-04-03T16:16:54.096483Z",
     "iopub.status.idle": "2022-04-03T16:17:29.800471Z",
     "shell.execute_reply": "2022-04-03T16:17:29.799819Z",
     "shell.execute_reply.started": "2022-03-28T14:44:10.784933Z"
    },
    "papermill": {
     "duration": 35.722072,
     "end_time": "2022-04-03T16:17:29.800636",
     "exception": false,
     "start_time": "2022-04-03T16:16:54.078564",
     "status": "completed"
    },
    "tags": []
   },
   "outputs": [
    {
     "name": "stdout",
     "output_type": "stream",
     "text": [
      "(31788324, 3)\n"
     ]
    },
    {
     "data": {
      "text/html": [
       "<div>\n",
       "<style scoped>\n",
       "    .dataframe tbody tr th:only-of-type {\n",
       "        vertical-align: middle;\n",
       "    }\n",
       "\n",
       "    .dataframe tbody tr th {\n",
       "        vertical-align: top;\n",
       "    }\n",
       "\n",
       "    .dataframe thead th {\n",
       "        text-align: right;\n",
       "    }\n",
       "</style>\n",
       "<table border=\"1\" class=\"dataframe\">\n",
       "  <thead>\n",
       "    <tr style=\"text-align: right;\">\n",
       "      <th></th>\n",
       "      <th>t_dat</th>\n",
       "      <th>customer_id</th>\n",
       "      <th>article_id</th>\n",
       "    </tr>\n",
       "  </thead>\n",
       "  <tbody>\n",
       "    <tr>\n",
       "      <th>0</th>\n",
       "      <td>2018-09-20</td>\n",
       "      <td>-6846340800584936</td>\n",
       "      <td>663713001</td>\n",
       "    </tr>\n",
       "    <tr>\n",
       "      <th>1</th>\n",
       "      <td>2018-09-20</td>\n",
       "      <td>-6846340800584936</td>\n",
       "      <td>541518023</td>\n",
       "    </tr>\n",
       "    <tr>\n",
       "      <th>2</th>\n",
       "      <td>2018-09-20</td>\n",
       "      <td>-8334631767138808638</td>\n",
       "      <td>505221004</td>\n",
       "    </tr>\n",
       "    <tr>\n",
       "      <th>3</th>\n",
       "      <td>2018-09-20</td>\n",
       "      <td>-8334631767138808638</td>\n",
       "      <td>685687003</td>\n",
       "    </tr>\n",
       "    <tr>\n",
       "      <th>4</th>\n",
       "      <td>2018-09-20</td>\n",
       "      <td>-8334631767138808638</td>\n",
       "      <td>685687004</td>\n",
       "    </tr>\n",
       "  </tbody>\n",
       "</table>\n",
       "</div>"
      ],
      "text/plain": [
       "       t_dat          customer_id  article_id\n",
       "0 2018-09-20    -6846340800584936   663713001\n",
       "1 2018-09-20    -6846340800584936   541518023\n",
       "2 2018-09-20 -8334631767138808638   505221004\n",
       "3 2018-09-20 -8334631767138808638   685687003\n",
       "4 2018-09-20 -8334631767138808638   685687004"
      ]
     },
     "execution_count": 3,
     "metadata": {},
     "output_type": "execute_result"
    }
   ],
   "source": [
    "train = cudf.read_csv('../input/h-and-m-personalized-fashion-recommendations/transactions_train.csv')\n",
    "train['customer_id'] = train['customer_id'].str[-16:].str.hex_to_int().astype('int64')\n",
    "train['article_id'] = train.article_id.astype('int32')\n",
    "train.t_dat = cudf.to_datetime(train.t_dat)\n",
    "train = train[['t_dat','customer_id','article_id']]\n",
    "train.to_parquet('train.pqt',index=False)\n",
    "print( train.shape )\n",
    "train.head()"
   ]
  },
  {
   "cell_type": "markdown",
   "id": "97bb4770",
   "metadata": {
    "papermill": {
     "duration": 0.015397,
     "end_time": "2022-04-03T16:17:29.832236",
     "exception": false,
     "start_time": "2022-04-03T16:17:29.816839",
     "status": "completed"
    },
    "tags": []
   },
   "source": [
    "# Find Each Customer's Last Week of Purchases\n",
    "Our final predictions will have the row order from of our dataframe. Each row of our dataframe will be a prediction. We will create the `predictionstring` later by `train.groupby('customer_id').article_id.sum()`. Since `article_id` is a string, when we groupby sum, it will concatenate all the customer predictions into a single string. It will also create the string in the order of the dataframe. So as we proceed in this notebook, we will order the dataframe how we want our predictions ordered."
   ]
  },
  {
   "cell_type": "code",
   "execution_count": 4,
   "id": "0c3c9e4e",
   "metadata": {
    "execution": {
     "iopub.execute_input": "2022-04-03T16:17:29.870865Z",
     "iopub.status.busy": "2022-04-03T16:17:29.870207Z",
     "iopub.status.idle": "2022-04-03T16:17:30.047703Z",
     "shell.execute_reply": "2022-04-03T16:17:30.048309Z",
     "shell.execute_reply.started": "2022-03-28T14:44:50.572162Z"
    },
    "papermill": {
     "duration": 0.200468,
     "end_time": "2022-04-03T16:17:30.048506",
     "exception": false,
     "start_time": "2022-04-03T16:17:29.848038",
     "status": "completed"
    },
    "tags": []
   },
   "outputs": [
    {
     "name": "stdout",
     "output_type": "stream",
     "text": [
      "Train shape: (5181535, 5)\n"
     ]
    }
   ],
   "source": [
    "tmp = train.groupby('customer_id').t_dat.max().reset_index()\n",
    "tmp.columns = ['customer_id','max_dat']\n",
    "train = train.merge(tmp,on=['customer_id'],how='left')\n",
    "train['diff_dat'] = (train.max_dat - train.t_dat).dt.days\n",
    "train = train.loc[train['diff_dat']<=6]\n",
    "print('Train shape:',train.shape)"
   ]
  },
  {
   "cell_type": "markdown",
   "id": "049da301",
   "metadata": {
    "papermill": {
     "duration": 0.015658,
     "end_time": "2022-04-03T16:17:30.081031",
     "exception": false,
     "start_time": "2022-04-03T16:17:30.065373",
     "status": "completed"
    },
    "tags": []
   },
   "source": [
    "# (1) Recommend Most Often Previously Purchased Items\n",
    "Note that many operations in cuDF will shuffle the order of the dataframe rows. Therefore we need to sort afterward because we want the most often previously purchased items first. Because this will be the order of our predictons. Since we sort by `ct` and then `t_dat` will will recommend items that have been purchased more frequently first followed by items purchased more recently second."
   ]
  },
  {
   "cell_type": "code",
   "execution_count": 5,
   "id": "af314bb6",
   "metadata": {
    "execution": {
     "iopub.execute_input": "2022-04-03T16:17:30.119631Z",
     "iopub.status.busy": "2022-04-03T16:17:30.114625Z",
     "iopub.status.idle": "2022-04-03T16:17:30.382539Z",
     "shell.execute_reply": "2022-04-03T16:17:30.382935Z",
     "shell.execute_reply.started": "2022-03-28T14:44:50.75907Z"
    },
    "papermill": {
     "duration": 0.286344,
     "end_time": "2022-04-03T16:17:30.383088",
     "exception": false,
     "start_time": "2022-04-03T16:17:30.096744",
     "status": "completed"
    },
    "tags": []
   },
   "outputs": [
    {
     "data": {
      "text/html": [
       "<div>\n",
       "<style scoped>\n",
       "    .dataframe tbody tr th:only-of-type {\n",
       "        vertical-align: middle;\n",
       "    }\n",
       "\n",
       "    .dataframe tbody tr th {\n",
       "        vertical-align: top;\n",
       "    }\n",
       "\n",
       "    .dataframe thead th {\n",
       "        text-align: right;\n",
       "    }\n",
       "</style>\n",
       "<table border=\"1\" class=\"dataframe\">\n",
       "  <thead>\n",
       "    <tr style=\"text-align: right;\">\n",
       "      <th></th>\n",
       "      <th>t_dat</th>\n",
       "      <th>customer_id</th>\n",
       "      <th>article_id</th>\n",
       "      <th>max_dat</th>\n",
       "      <th>diff_dat</th>\n",
       "      <th>ct</th>\n",
       "    </tr>\n",
       "  </thead>\n",
       "  <tbody>\n",
       "    <tr>\n",
       "      <th>1119009</th>\n",
       "      <td>2019-07-16</td>\n",
       "      <td>2729025827381139556</td>\n",
       "      <td>719348003</td>\n",
       "      <td>2019-07-16</td>\n",
       "      <td>0</td>\n",
       "      <td>100</td>\n",
       "    </tr>\n",
       "    <tr>\n",
       "      <th>61312</th>\n",
       "      <td>2018-10-04</td>\n",
       "      <td>4485518665254175540</td>\n",
       "      <td>557247001</td>\n",
       "      <td>2018-10-04</td>\n",
       "      <td>0</td>\n",
       "      <td>86</td>\n",
       "    </tr>\n",
       "    <tr>\n",
       "      <th>2138199</th>\n",
       "      <td>2020-03-06</td>\n",
       "      <td>-906958334866810496</td>\n",
       "      <td>852521001</td>\n",
       "      <td>2020-03-06</td>\n",
       "      <td>0</td>\n",
       "      <td>81</td>\n",
       "    </tr>\n",
       "    <tr>\n",
       "      <th>3388929</th>\n",
       "      <td>2020-07-06</td>\n",
       "      <td>3601599666106972342</td>\n",
       "      <td>685813001</td>\n",
       "      <td>2020-07-06</td>\n",
       "      <td>0</td>\n",
       "      <td>80</td>\n",
       "    </tr>\n",
       "    <tr>\n",
       "      <th>847905</th>\n",
       "      <td>2019-05-14</td>\n",
       "      <td>-4601407992705575197</td>\n",
       "      <td>695545001</td>\n",
       "      <td>2019-05-14</td>\n",
       "      <td>0</td>\n",
       "      <td>80</td>\n",
       "    </tr>\n",
       "  </tbody>\n",
       "</table>\n",
       "</div>"
      ],
      "text/plain": [
       "             t_dat          customer_id  article_id    max_dat  diff_dat   ct\n",
       "1119009 2019-07-16  2729025827381139556   719348003 2019-07-16         0  100\n",
       "61312   2018-10-04  4485518665254175540   557247001 2018-10-04         0   86\n",
       "2138199 2020-03-06  -906958334866810496   852521001 2020-03-06         0   81\n",
       "3388929 2020-07-06  3601599666106972342   685813001 2020-07-06         0   80\n",
       "847905  2019-05-14 -4601407992705575197   695545001 2019-05-14         0   80"
      ]
     },
     "execution_count": 5,
     "metadata": {},
     "output_type": "execute_result"
    }
   ],
   "source": [
    "tmp = train.groupby(['customer_id','article_id'])['t_dat'].agg('count').reset_index()\n",
    "tmp.columns = ['customer_id','article_id','ct']\n",
    "train = train.merge(tmp,on=['customer_id','article_id'],how='left')\n",
    "train = train.sort_values(['ct','t_dat'],ascending=False)\n",
    "train = train.drop_duplicates(['customer_id','article_id'])\n",
    "train = train.sort_values(['ct','t_dat'],ascending=False)\n",
    "train.head()"
   ]
  },
  {
   "cell_type": "markdown",
   "id": "fe279859",
   "metadata": {
    "papermill": {
     "duration": 0.016045,
     "end_time": "2022-04-03T16:17:30.415537",
     "exception": false,
     "start_time": "2022-04-03T16:17:30.399492",
     "status": "completed"
    },
    "tags": []
   },
   "source": [
    "# (2) Recommend Items Purchased Together\n",
    "In my notebook [here][1], we compute a dictionary of items frequently purchased together. We will load and use that dictionary below. Note that we use the command `drop_duplicates` so that we don't recommend an item that the user has already bought and we have already recommended above. We will need to use Pandas for some commands because RAPIDS cuDF doesn't have two conveinent commands, (1) create new column from dictionary map of another column (2) groupby aggregate strings sum.\n",
    "\n",
    "We concatenate these rows after the rows containing customers' previous purchases. Therefore we will recommend previous items first and then items purchased together second. Note the trick to convert a column of int32 into a prediction string (using groupby agg str sum) is from notebook [here][2]\n",
    "\n",
    "[1]: https://www.kaggle.com/cdeotte/customers-who-bought-this-frequently-buy-this\n",
    "[2]: https://www.kaggle.com/hiroshisakiyama/recommending-items-recently-bought"
   ]
  },
  {
   "cell_type": "code",
   "execution_count": 6,
   "id": "2d5ba68b",
   "metadata": {
    "execution": {
     "iopub.execute_input": "2022-04-03T16:17:30.455438Z",
     "iopub.status.busy": "2022-04-03T16:17:30.454356Z",
     "iopub.status.idle": "2022-04-03T16:17:30.989443Z",
     "shell.execute_reply": "2022-04-03T16:17:30.988939Z",
     "shell.execute_reply.started": "2022-03-28T14:44:51.044555Z"
    },
    "papermill": {
     "duration": 0.557574,
     "end_time": "2022-04-03T16:17:30.989576",
     "exception": false,
     "start_time": "2022-04-03T16:17:30.432002",
     "status": "completed"
    },
    "tags": []
   },
   "outputs": [],
   "source": [
    "# USE PANDAS TO MAP COLUMN WITH DICTIONARY\n",
    "import pandas as pd, numpy as np\n",
    "train = train.to_pandas()\n",
    "pairs = np.load('../input/hmitempairs/pairs_cudf.npy',allow_pickle=True).item()\n",
    "train['article_id2'] = train.article_id.map(pairs)"
   ]
  },
  {
   "cell_type": "code",
   "execution_count": 7,
   "id": "a85dd11e",
   "metadata": {
    "execution": {
     "iopub.execute_input": "2022-04-03T16:17:31.042523Z",
     "iopub.status.busy": "2022-04-03T16:17:31.041659Z",
     "iopub.status.idle": "2022-04-03T16:17:32.129638Z",
     "shell.execute_reply": "2022-04-03T16:17:32.128710Z",
     "shell.execute_reply.started": "2022-03-28T14:44:51.596002Z"
    },
    "papermill": {
     "duration": 1.123265,
     "end_time": "2022-04-03T16:17:32.129805",
     "exception": false,
     "start_time": "2022-04-03T16:17:31.006540",
     "status": "completed"
    },
    "tags": []
   },
   "outputs": [],
   "source": [
    "# RECOMMENDATION OF PAIRED ITEMS\n",
    "train2 = train[['customer_id','article_id2']].copy()\n",
    "train2 = train2.loc[train2.article_id2.notnull()]\n",
    "train2 = train2.drop_duplicates(['customer_id','article_id2'])\n",
    "train2 = train2.rename({'article_id2':'article_id'},axis=1)"
   ]
  },
  {
   "cell_type": "code",
   "execution_count": 8,
   "id": "8cceecce",
   "metadata": {
    "execution": {
     "iopub.execute_input": "2022-04-03T16:17:32.191998Z",
     "iopub.status.busy": "2022-04-03T16:17:32.189703Z",
     "iopub.status.idle": "2022-04-03T16:17:34.188765Z",
     "shell.execute_reply": "2022-04-03T16:17:34.188298Z",
     "shell.execute_reply.started": "2022-03-28T14:44:52.70235Z"
    },
    "papermill": {
     "duration": 2.042068,
     "end_time": "2022-04-03T16:17:34.188929",
     "exception": false,
     "start_time": "2022-04-03T16:17:32.146861",
     "status": "completed"
    },
    "tags": []
   },
   "outputs": [],
   "source": [
    "# CONCATENATE PAIRED ITEM RECOMMENDATION AFTER PREVIOUS PURCHASED RECOMMENDATIONS\n",
    "train = train[['customer_id','article_id']]\n",
    "train = pd.concat([train,train2],axis=0,ignore_index=True)\n",
    "train.article_id = train.article_id.astype('int32')\n",
    "train = train.drop_duplicates(['customer_id','article_id'])"
   ]
  },
  {
   "cell_type": "code",
   "execution_count": 9,
   "id": "013a424b",
   "metadata": {
    "execution": {
     "iopub.execute_input": "2022-04-03T16:17:43.215570Z",
     "iopub.status.busy": "2022-04-03T16:17:34.547756Z",
     "iopub.status.idle": "2022-04-03T16:17:46.791420Z",
     "shell.execute_reply": "2022-04-03T16:17:46.792475Z",
     "shell.execute_reply.started": "2022-03-28T14:44:55.03958Z"
    },
    "papermill": {
     "duration": 12.587295,
     "end_time": "2022-04-03T16:17:46.792880",
     "exception": false,
     "start_time": "2022-04-03T16:17:34.205585",
     "status": "completed"
    },
    "tags": []
   },
   "outputs": [
    {
     "data": {
      "text/html": [
       "<div>\n",
       "<style scoped>\n",
       "    .dataframe tbody tr th:only-of-type {\n",
       "        vertical-align: middle;\n",
       "    }\n",
       "\n",
       "    .dataframe tbody tr th {\n",
       "        vertical-align: top;\n",
       "    }\n",
       "\n",
       "    .dataframe thead th {\n",
       "        text-align: right;\n",
       "    }\n",
       "</style>\n",
       "<table border=\"1\" class=\"dataframe\">\n",
       "  <thead>\n",
       "    <tr style=\"text-align: right;\">\n",
       "      <th></th>\n",
       "      <th>customer_id</th>\n",
       "      <th>prediction</th>\n",
       "    </tr>\n",
       "  </thead>\n",
       "  <tbody>\n",
       "    <tr>\n",
       "      <th>0</th>\n",
       "      <td>-9223352921020755230</td>\n",
       "      <td>0673396002 0812167004 0706016001 0812167002</td>\n",
       "    </tr>\n",
       "    <tr>\n",
       "      <th>1</th>\n",
       "      <td>-9223343869995384291</td>\n",
       "      <td>0908292002 0910601003 0865929007 0903926002 0...</td>\n",
       "    </tr>\n",
       "    <tr>\n",
       "      <th>2</th>\n",
       "      <td>-9223321797620987725</td>\n",
       "      <td>0580600006 0610776035 0688018003 0610776002</td>\n",
       "    </tr>\n",
       "    <tr>\n",
       "      <th>3</th>\n",
       "      <td>-9223319430705797669</td>\n",
       "      <td>0470985003 0504155001 0554477005 0562245001 0...</td>\n",
       "    </tr>\n",
       "    <tr>\n",
       "      <th>4</th>\n",
       "      <td>-9223308614576639426</td>\n",
       "      <td>0750423005 0750423001</td>\n",
       "    </tr>\n",
       "  </tbody>\n",
       "</table>\n",
       "</div>"
      ],
      "text/plain": [
       "           customer_id                                         prediction\n",
       "0 -9223352921020755230        0673396002 0812167004 0706016001 0812167002\n",
       "1 -9223343869995384291   0908292002 0910601003 0865929007 0903926002 0...\n",
       "2 -9223321797620987725        0580600006 0610776035 0688018003 0610776002\n",
       "3 -9223319430705797669   0470985003 0504155001 0554477005 0562245001 0...\n",
       "4 -9223308614576639426                              0750423005 0750423001"
      ]
     },
     "execution_count": 9,
     "metadata": {},
     "output_type": "execute_result"
    }
   ],
   "source": [
    "# CONVERT RECOMMENDATIONS INTO SINGLE STRING\n",
    "train.article_id = ' 0' + train.article_id.astype('str')\n",
    "preds = cudf.DataFrame( train.groupby('customer_id').article_id.sum().reset_index() )\n",
    "preds.columns = ['customer_id','prediction']\n",
    "preds.head()"
   ]
  },
  {
   "cell_type": "markdown",
   "id": "2557e094",
   "metadata": {
    "papermill": {
     "duration": 0.030018,
     "end_time": "2022-04-03T16:17:46.850181",
     "exception": false,
     "start_time": "2022-04-03T16:17:46.820163",
     "status": "completed"
    },
    "tags": []
   },
   "source": [
    "# (3) Recommend Last Week's Most Popular Items\n",
    "After recommending previous purchases and items purchased together we will then recommend the 12 most popular items. Therefore if our previous recommendations did not fill up a customer's 12 recommendations, then it will be filled by popular items."
   ]
  },
  {
   "cell_type": "code",
   "execution_count": 10,
   "id": "93d58563",
   "metadata": {
    "execution": {
     "iopub.execute_input": "2022-04-03T16:17:46.916238Z",
     "iopub.status.busy": "2022-04-03T16:17:46.915384Z",
     "iopub.status.idle": "2022-04-03T16:17:47.430180Z",
     "shell.execute_reply": "2022-04-03T16:17:47.429574Z",
     "shell.execute_reply.started": "2022-03-28T14:45:07.924264Z"
    },
    "papermill": {
     "duration": 0.550892,
     "end_time": "2022-04-03T16:17:47.430313",
     "exception": false,
     "start_time": "2022-04-03T16:17:46.879421",
     "status": "completed"
    },
    "tags": []
   },
   "outputs": [
    {
     "name": "stdout",
     "output_type": "stream",
     "text": [
      "Last week's top 30 popular items:\n",
      " 0924243001 0924243002 0918522001 0923758001 0866731001 0909370001 0751471001 0915529003 0915529005 0448509014 0762846027 0714790020 0918292001 0865799006 0850917001 0929275001 0896169005 0919273002 0889550002 0934835001 0935541001 0894780001 0673677002 0788575004 0928206001 0573085028 0751471043 0573085042 0918525001 0930380001\n"
     ]
    }
   ],
   "source": [
    "train = cudf.read_parquet('train.pqt')\n",
    "train.t_dat = cudf.to_datetime(train.t_dat)\n",
    "train = train.loc[train.t_dat >= cudf.to_datetime('2020-09-16')]\n",
    "top12 = ' 0' + ' 0'.join(train.article_id.value_counts().to_pandas().index.astype('str')[:30])\n",
    "print(\"Last week's top 30 popular items:\")\n",
    "print( top12 )"
   ]
  },
  {
   "cell_type": "markdown",
   "id": "8f3df24a",
   "metadata": {
    "papermill": {
     "duration": 0.017125,
     "end_time": "2022-04-03T16:17:47.464794",
     "exception": false,
     "start_time": "2022-04-03T16:17:47.447669",
     "status": "completed"
    },
    "tags": []
   },
   "source": [
    "# Write Submission CSV\n",
    "We will merge our predictions onto `sample_submission.csv` and submit to Kaggle."
   ]
  },
  {
   "cell_type": "code",
   "execution_count": 11,
   "id": "fe437889",
   "metadata": {
    "execution": {
     "iopub.execute_input": "2022-04-03T16:17:47.506367Z",
     "iopub.status.busy": "2022-04-03T16:17:47.505557Z",
     "iopub.status.idle": "2022-04-03T16:17:53.442619Z",
     "shell.execute_reply": "2022-04-03T16:17:53.442198Z",
     "shell.execute_reply.started": "2022-03-28T14:45:08.395189Z"
    },
    "papermill": {
     "duration": 5.960887,
     "end_time": "2022-04-03T16:17:53.442740",
     "exception": false,
     "start_time": "2022-04-03T16:17:47.481853",
     "status": "completed"
    },
    "tags": []
   },
   "outputs": [
    {
     "data": {
      "text/html": [
       "<div>\n",
       "<style scoped>\n",
       "    .dataframe tbody tr th:only-of-type {\n",
       "        vertical-align: middle;\n",
       "    }\n",
       "\n",
       "    .dataframe tbody tr th {\n",
       "        vertical-align: top;\n",
       "    }\n",
       "\n",
       "    .dataframe thead th {\n",
       "        text-align: right;\n",
       "    }\n",
       "</style>\n",
       "<table border=\"1\" class=\"dataframe\">\n",
       "  <thead>\n",
       "    <tr style=\"text-align: right;\">\n",
       "      <th></th>\n",
       "      <th>customer_id</th>\n",
       "      <th>prediction</th>\n",
       "    </tr>\n",
       "  </thead>\n",
       "  <tbody>\n",
       "    <tr>\n",
       "      <th>0</th>\n",
       "      <td>060f8aec2fdcdd2c3dcce7551a404b538bd9b9c866b9b8...</td>\n",
       "      <td>0736530007 0770703004 0736531006 0706016001 09...</td>\n",
       "    </tr>\n",
       "    <tr>\n",
       "      <th>1</th>\n",
       "      <td>06103a5395f5579e9161899412dd594e2f3c652e0a34d3...</td>\n",
       "      <td>0904422001 0399061026 0706016001 0399061008 09...</td>\n",
       "    </tr>\n",
       "    <tr>\n",
       "      <th>2</th>\n",
       "      <td>060fd8c7a53060a5858e351659685bf3d518bed767cc36...</td>\n",
       "      <td>0673901005 0673901012 0706016002 0706016006 07...</td>\n",
       "    </tr>\n",
       "    <tr>\n",
       "      <th>3</th>\n",
       "      <td>0610702e70404ddd8efeddd130fe276dd90b0c29f203f3...</td>\n",
       "      <td>0632803014 0657852006 0657852008 0669091018 06...</td>\n",
       "    </tr>\n",
       "    <tr>\n",
       "      <th>4</th>\n",
       "      <td>060f99b5b9119aa44791ed09880b2868f620a3b4d302ce...</td>\n",
       "      <td>0933706001 0896152002 0924243001 0924243002 09...</td>\n",
       "    </tr>\n",
       "  </tbody>\n",
       "</table>\n",
       "</div>"
      ],
      "text/plain": [
       "                                         customer_id  \\\n",
       "0  060f8aec2fdcdd2c3dcce7551a404b538bd9b9c866b9b8...   \n",
       "1  06103a5395f5579e9161899412dd594e2f3c652e0a34d3...   \n",
       "2  060fd8c7a53060a5858e351659685bf3d518bed767cc36...   \n",
       "3  0610702e70404ddd8efeddd130fe276dd90b0c29f203f3...   \n",
       "4  060f99b5b9119aa44791ed09880b2868f620a3b4d302ce...   \n",
       "\n",
       "                                          prediction  \n",
       "0  0736530007 0770703004 0736531006 0706016001 09...  \n",
       "1  0904422001 0399061026 0706016001 0399061008 09...  \n",
       "2  0673901005 0673901012 0706016002 0706016006 07...  \n",
       "3  0632803014 0657852006 0657852008 0669091018 06...  \n",
       "4  0933706001 0896152002 0924243001 0924243002 09...  "
      ]
     },
     "execution_count": 11,
     "metadata": {},
     "output_type": "execute_result"
    }
   ],
   "source": [
    "sub = cudf.read_csv('../input/h-and-m-personalized-fashion-recommendations/sample_submission.csv')\n",
    "sub = sub[['customer_id']]\n",
    "sub['customer_id_2'] = sub['customer_id'].str[-16:].str.hex_to_int().astype('int64')\n",
    "sub = sub.merge(preds.rename({'customer_id':'customer_id_2'},axis=1),\\\n",
    "    on='customer_id_2', how='left').fillna('')\n",
    "del sub['customer_id_2']\n",
    "sub.prediction = sub.prediction + top12\n",
    "sub.prediction = sub.prediction.str.strip()\n",
    "#sub.prediction = sub.prediction.str[:131] # 10*12 + 11\n",
    "sub.prediction = sub.prediction.str[:329] # 10*30 + 29 = 329 \n",
    "sub.to_csv(f'submission.csv',index=False)\n",
    "sub.head()"
   ]
  },
  {
   "cell_type": "code",
   "execution_count": null,
   "id": "19cf3f32",
   "metadata": {
    "papermill": {
     "duration": 0.017584,
     "end_time": "2022-04-03T16:17:53.478672",
     "exception": false,
     "start_time": "2022-04-03T16:17:53.461088",
     "status": "completed"
    },
    "tags": []
   },
   "outputs": [],
   "source": []
  }
 ],
 "metadata": {
  "kernelspec": {
   "display_name": "Python 3",
   "language": "python",
   "name": "python3"
  },
  "language_info": {
   "codemirror_mode": {
    "name": "ipython",
    "version": 3
   },
   "file_extension": ".py",
   "mimetype": "text/x-python",
   "name": "python",
   "nbconvert_exporter": "python",
   "pygments_lexer": "ipython3",
   "version": "3.7.12"
  },
  "papermill": {
   "default_parameters": {},
   "duration": 72.507732,
   "end_time": "2022-04-03T16:17:54.707539",
   "environment_variables": {},
   "exception": null,
   "input_path": "__notebook__.ipynb",
   "output_path": "__notebook__.ipynb",
   "parameters": {},
   "start_time": "2022-04-03T16:16:42.199807",
   "version": "2.3.3"
  }
 },
 "nbformat": 4,
 "nbformat_minor": 5
}
