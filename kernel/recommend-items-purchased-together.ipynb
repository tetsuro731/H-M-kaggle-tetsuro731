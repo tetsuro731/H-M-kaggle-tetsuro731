{
 "cells": [
  {
   "cell_type": "markdown",
   "id": "9fe25191",
   "metadata": {
    "papermill": {
     "duration": 0.021773,
     "end_time": "2022-04-30T07:54:41.349095",
     "exception": false,
     "start_time": "2022-04-30T07:54:41.327322",
     "status": "completed"
    },
    "tags": []
   },
   "source": [
    "# Recommend Items Frequently Purchased Together\n",
    "This notebook demonstrates how recommending items that are frequently purchased together is effective. The current best scoring public notebook [here][1] recommends to customers those customers' last purchases and scores public LB 0.020. In this notebook here, we will begin with that idea and add recommending items that are frequently purchased together with a customers' previous purchaes. This notebook improves the LB and scores LB 0.021. This notebook's strategy is as follows:\n",
    "* recommend items previously purchased [idea here][1]\n",
    "* recommend items that are bought together with previous purchases [idea here][2]\n",
    "* recommend popular items [idea here][1]\n",
    "\n",
    "[1]: https://www.kaggle.com/hengzheng/time-is-our-best-friend-v2\n",
    "[2]: https://www.kaggle.com/cdeotte/customers-who-bought-this-frequently-buy-this"
   ]
  },
  {
   "cell_type": "markdown",
   "id": "ec1dfda7",
   "metadata": {
    "papermill": {
     "duration": 0.020512,
     "end_time": "2022-04-30T07:54:41.393376",
     "exception": false,
     "start_time": "2022-04-30T07:54:41.372864",
     "status": "completed"
    },
    "tags": []
   },
   "source": [
    "# RAPIDS cuDF\n",
    "We will use RAPIDS cuDF for fast dataframe operations"
   ]
  },
  {
   "cell_type": "code",
   "execution_count": 1,
   "id": "4713cf11",
   "metadata": {
    "execution": {
     "iopub.execute_input": "2022-04-30T07:54:41.448654Z",
     "iopub.status.busy": "2022-04-30T07:54:41.447536Z",
     "iopub.status.idle": "2022-04-30T07:54:45.555559Z",
     "shell.execute_reply": "2022-04-30T07:54:45.554913Z",
     "shell.execute_reply.started": "2022-04-30T07:50:48.214352Z"
    },
    "papermill": {
     "duration": 4.141597,
     "end_time": "2022-04-30T07:54:45.555719",
     "exception": false,
     "start_time": "2022-04-30T07:54:41.414122",
     "status": "completed"
    },
    "tags": []
   },
   "outputs": [
    {
     "name": "stdout",
     "output_type": "stream",
     "text": [
      "RAPIDS version 21.10.01\n"
     ]
    }
   ],
   "source": [
    "import cudf\n",
    "print('RAPIDS version',cudf.__version__)"
   ]
  },
  {
   "cell_type": "code",
   "execution_count": 2,
   "id": "16c620f7",
   "metadata": {
    "execution": {
     "iopub.execute_input": "2022-04-30T07:54:45.601482Z",
     "iopub.status.busy": "2022-04-30T07:54:45.600439Z",
     "iopub.status.idle": "2022-04-30T07:54:45.605964Z",
     "shell.execute_reply": "2022-04-30T07:54:45.605399Z",
     "shell.execute_reply.started": "2022-04-30T07:50:48.354533Z"
    },
    "papermill": {
     "duration": 0.028393,
     "end_time": "2022-04-30T07:54:45.606232",
     "exception": false,
     "start_time": "2022-04-30T07:54:45.577839",
     "status": "completed"
    },
    "tags": []
   },
   "outputs": [],
   "source": [
    "log_date = '2020-09-23'\n",
    "Ntop = 30\n",
    "i2i_Ntop = 2\n",
    "#ch = 'off'\n",
    "ch = 'on'"
   ]
  },
  {
   "cell_type": "markdown",
   "id": "22e7556a",
   "metadata": {
    "papermill": {
     "duration": 0.021044,
     "end_time": "2022-04-30T07:54:45.649048",
     "exception": false,
     "start_time": "2022-04-30T07:54:45.628004",
     "status": "completed"
    },
    "tags": []
   },
   "source": [
    "# Load Transactions, Reduce Memory\n",
    "Discussion about reducing memory is [here][1]\n",
    "\n",
    "[1]: https://www.kaggle.com/c/h-and-m-personalized-fashion-recommendations/discussion/308635"
   ]
  },
  {
   "cell_type": "code",
   "execution_count": 3,
   "id": "d571ec43",
   "metadata": {
    "execution": {
     "iopub.execute_input": "2022-04-30T07:54:45.699171Z",
     "iopub.status.busy": "2022-04-30T07:54:45.698373Z",
     "iopub.status.idle": "2022-04-30T07:55:26.318132Z",
     "shell.execute_reply": "2022-04-30T07:55:26.317181Z",
     "shell.execute_reply.started": "2022-04-30T07:50:50.161167Z"
    },
    "papermill": {
     "duration": 40.647852,
     "end_time": "2022-04-30T07:55:26.318361",
     "exception": false,
     "start_time": "2022-04-30T07:54:45.670509",
     "status": "completed"
    },
    "tags": []
   },
   "outputs": [
    {
     "name": "stdout",
     "output_type": "stream",
     "text": [
      "(31788324, 3)\n"
     ]
    },
    {
     "data": {
      "text/html": [
       "<div>\n",
       "<style scoped>\n",
       "    .dataframe tbody tr th:only-of-type {\n",
       "        vertical-align: middle;\n",
       "    }\n",
       "\n",
       "    .dataframe tbody tr th {\n",
       "        vertical-align: top;\n",
       "    }\n",
       "\n",
       "    .dataframe thead th {\n",
       "        text-align: right;\n",
       "    }\n",
       "</style>\n",
       "<table border=\"1\" class=\"dataframe\">\n",
       "  <thead>\n",
       "    <tr style=\"text-align: right;\">\n",
       "      <th></th>\n",
       "      <th>t_dat</th>\n",
       "      <th>customer_id</th>\n",
       "      <th>article_id</th>\n",
       "    </tr>\n",
       "  </thead>\n",
       "  <tbody>\n",
       "    <tr>\n",
       "      <th>0</th>\n",
       "      <td>2018-09-20</td>\n",
       "      <td>-6846340800584936</td>\n",
       "      <td>663713001</td>\n",
       "    </tr>\n",
       "    <tr>\n",
       "      <th>1</th>\n",
       "      <td>2018-09-20</td>\n",
       "      <td>-6846340800584936</td>\n",
       "      <td>541518023</td>\n",
       "    </tr>\n",
       "    <tr>\n",
       "      <th>2</th>\n",
       "      <td>2018-09-20</td>\n",
       "      <td>-8334631767138808638</td>\n",
       "      <td>505221004</td>\n",
       "    </tr>\n",
       "    <tr>\n",
       "      <th>3</th>\n",
       "      <td>2018-09-20</td>\n",
       "      <td>-8334631767138808638</td>\n",
       "      <td>685687003</td>\n",
       "    </tr>\n",
       "    <tr>\n",
       "      <th>4</th>\n",
       "      <td>2018-09-20</td>\n",
       "      <td>-8334631767138808638</td>\n",
       "      <td>685687004</td>\n",
       "    </tr>\n",
       "  </tbody>\n",
       "</table>\n",
       "</div>"
      ],
      "text/plain": [
       "       t_dat          customer_id  article_id\n",
       "0 2018-09-20    -6846340800584936   663713001\n",
       "1 2018-09-20    -6846340800584936   541518023\n",
       "2 2018-09-20 -8334631767138808638   505221004\n",
       "3 2018-09-20 -8334631767138808638   685687003\n",
       "4 2018-09-20 -8334631767138808638   685687004"
      ]
     },
     "execution_count": 3,
     "metadata": {},
     "output_type": "execute_result"
    }
   ],
   "source": [
    "train = cudf.read_csv('../input/h-and-m-personalized-fashion-recommendations/transactions_train.csv')\n",
    "train['customer_id'] = train['customer_id'].str[-16:].str.hex_to_int().astype('int64')\n",
    "train['article_id'] = train.article_id.astype('int32')\n",
    "train.t_dat = cudf.to_datetime(train.t_dat)\n",
    "train = train[['t_dat','customer_id','article_id']]\n",
    "train = train.loc[train['t_dat'] < cudf.to_datetime(log_date)]\n",
    "train.to_parquet('train.pqt',index=False)\n",
    "print( train.shape )\n",
    "train.head()"
   ]
  },
  {
   "cell_type": "markdown",
   "id": "b8c49aac",
   "metadata": {
    "papermill": {
     "duration": 0.038656,
     "end_time": "2022-04-30T07:55:26.398205",
     "exception": false,
     "start_time": "2022-04-30T07:55:26.359549",
     "status": "completed"
    },
    "tags": []
   },
   "source": [
    "# Find Each Customer's Last Week of Purchases\n",
    "Our final predictions will have the row order from of our dataframe. Each row of our dataframe will be a prediction. We will create the `predictionstring` later by `train.groupby('customer_id').article_id.sum()`. Since `article_id` is a string, when we groupby sum, it will concatenate all the customer predictions into a single string. It will also create the string in the order of the dataframe. So as we proceed in this notebook, we will order the dataframe how we want our predictions ordered."
   ]
  },
  {
   "cell_type": "code",
   "execution_count": 4,
   "id": "52a35ba7",
   "metadata": {
    "execution": {
     "iopub.execute_input": "2022-04-30T07:55:26.493329Z",
     "iopub.status.busy": "2022-04-30T07:55:26.492405Z",
     "iopub.status.idle": "2022-04-30T07:55:26.695020Z",
     "shell.execute_reply": "2022-04-30T07:55:26.696221Z",
     "shell.execute_reply.started": "2022-04-30T07:50:53.741271Z"
    },
    "papermill": {
     "duration": 0.259631,
     "end_time": "2022-04-30T07:55:26.696565",
     "exception": false,
     "start_time": "2022-04-30T07:55:26.436934",
     "status": "completed"
    },
    "tags": []
   },
   "outputs": [
    {
     "name": "stdout",
     "output_type": "stream",
     "text": [
      "Train shape: (5609905, 5)\n"
     ]
    }
   ],
   "source": [
    "tmp = train.groupby('customer_id').t_dat.max().reset_index()\n",
    "tmp.columns = ['customer_id','max_dat']\n",
    "train = train.merge(tmp,on=['customer_id'],how='left')\n",
    "train['diff_dat'] = (train.max_dat - train.t_dat).dt.days\n",
    "train = train.loc[train['diff_dat']<=13]\n",
    "print('Train shape:',train.shape)"
   ]
  },
  {
   "cell_type": "markdown",
   "id": "69163b46",
   "metadata": {
    "papermill": {
     "duration": 0.042969,
     "end_time": "2022-04-30T07:55:26.784750",
     "exception": false,
     "start_time": "2022-04-30T07:55:26.741781",
     "status": "completed"
    },
    "tags": []
   },
   "source": [
    "# (1) Recommend Most Often Previously Purchased Items\n",
    "Note that many operations in cuDF will shuffle the order of the dataframe rows. Therefore we need to sort afterward because we want the most often previously purchased items first. Because this will be the order of our predictons. Since we sort by `ct` and then `t_dat` will will recommend items that have been purchased more frequently first followed by items purchased more recently second."
   ]
  },
  {
   "cell_type": "code",
   "execution_count": 5,
   "id": "3321826c",
   "metadata": {
    "execution": {
     "iopub.execute_input": "2022-04-30T07:55:26.879211Z",
     "iopub.status.busy": "2022-04-30T07:55:26.878212Z",
     "iopub.status.idle": "2022-04-30T07:55:27.193781Z",
     "shell.execute_reply": "2022-04-30T07:55:27.195059Z",
     "shell.execute_reply.started": "2022-04-30T07:50:53.913262Z"
    },
    "papermill": {
     "duration": 0.369199,
     "end_time": "2022-04-30T07:55:27.195349",
     "exception": false,
     "start_time": "2022-04-30T07:55:26.826150",
     "status": "completed"
    },
    "tags": []
   },
   "outputs": [
    {
     "data": {
      "text/html": [
       "<div>\n",
       "<style scoped>\n",
       "    .dataframe tbody tr th:only-of-type {\n",
       "        vertical-align: middle;\n",
       "    }\n",
       "\n",
       "    .dataframe tbody tr th {\n",
       "        vertical-align: top;\n",
       "    }\n",
       "\n",
       "    .dataframe thead th {\n",
       "        text-align: right;\n",
       "    }\n",
       "</style>\n",
       "<table border=\"1\" class=\"dataframe\">\n",
       "  <thead>\n",
       "    <tr style=\"text-align: right;\">\n",
       "      <th></th>\n",
       "      <th>t_dat</th>\n",
       "      <th>customer_id</th>\n",
       "      <th>article_id</th>\n",
       "      <th>max_dat</th>\n",
       "      <th>diff_dat</th>\n",
       "      <th>ct</th>\n",
       "    </tr>\n",
       "  </thead>\n",
       "  <tbody>\n",
       "    <tr>\n",
       "      <th>1193601</th>\n",
       "      <td>2019-07-16</td>\n",
       "      <td>2729025827381139556</td>\n",
       "      <td>719348003</td>\n",
       "      <td>2019-07-16</td>\n",
       "      <td>0</td>\n",
       "      <td>100</td>\n",
       "    </tr>\n",
       "    <tr>\n",
       "      <th>57664</th>\n",
       "      <td>2018-10-04</td>\n",
       "      <td>4485518665254175540</td>\n",
       "      <td>557247001</td>\n",
       "      <td>2018-10-04</td>\n",
       "      <td>0</td>\n",
       "      <td>86</td>\n",
       "    </tr>\n",
       "    <tr>\n",
       "      <th>2235052</th>\n",
       "      <td>2020-03-06</td>\n",
       "      <td>-906958334866810496</td>\n",
       "      <td>852521001</td>\n",
       "      <td>2020-03-06</td>\n",
       "      <td>0</td>\n",
       "      <td>81</td>\n",
       "    </tr>\n",
       "    <tr>\n",
       "      <th>3600672</th>\n",
       "      <td>2020-07-06</td>\n",
       "      <td>3601599666106972342</td>\n",
       "      <td>685813001</td>\n",
       "      <td>2020-07-06</td>\n",
       "      <td>0</td>\n",
       "      <td>80</td>\n",
       "    </tr>\n",
       "    <tr>\n",
       "      <th>886177</th>\n",
       "      <td>2019-05-14</td>\n",
       "      <td>-4601407992705575197</td>\n",
       "      <td>695545001</td>\n",
       "      <td>2019-05-14</td>\n",
       "      <td>0</td>\n",
       "      <td>80</td>\n",
       "    </tr>\n",
       "  </tbody>\n",
       "</table>\n",
       "</div>"
      ],
      "text/plain": [
       "             t_dat          customer_id  article_id    max_dat  diff_dat   ct\n",
       "1193601 2019-07-16  2729025827381139556   719348003 2019-07-16         0  100\n",
       "57664   2018-10-04  4485518665254175540   557247001 2018-10-04         0   86\n",
       "2235052 2020-03-06  -906958334866810496   852521001 2020-03-06         0   81\n",
       "3600672 2020-07-06  3601599666106972342   685813001 2020-07-06         0   80\n",
       "886177  2019-05-14 -4601407992705575197   695545001 2019-05-14         0   80"
      ]
     },
     "execution_count": 5,
     "metadata": {},
     "output_type": "execute_result"
    }
   ],
   "source": [
    "tmp = train.groupby(['customer_id','article_id'])['t_dat'].agg('count').reset_index()\n",
    "tmp.columns = ['customer_id','article_id','ct']\n",
    "train = train.merge(tmp,on=['customer_id','article_id'],how='left')\n",
    "train = train.sort_values(['ct','t_dat'],ascending=False)\n",
    "train = train.drop_duplicates(['customer_id','article_id'])\n",
    "train = train.sort_values(['ct','t_dat'],ascending=False)\n",
    "train.head()"
   ]
  },
  {
   "cell_type": "markdown",
   "id": "d84a0bb3",
   "metadata": {
    "papermill": {
     "duration": 0.038332,
     "end_time": "2022-04-30T07:55:27.272971",
     "exception": false,
     "start_time": "2022-04-30T07:55:27.234639",
     "status": "completed"
    },
    "tags": []
   },
   "source": [
    "# (2) Recommend Items Purchased Together\n",
    "In my notebook [here][1], we compute a dictionary of items frequently purchased together. We will load and use that dictionary below. Note that we use the command `drop_duplicates` so that we don't recommend an item that the user has already bought and we have already recommended above. We will need to use Pandas for some commands because RAPIDS cuDF doesn't have two conveinent commands, (1) create new column from dictionary map of another column (2) groupby aggregate strings sum.\n",
    "\n",
    "We concatenate these rows after the rows containing customers' previous purchases. Therefore we will recommend previous items first and then items purchased together second. Note the trick to convert a column of int32 into a prediction string (using groupby agg str sum) is from notebook [here][2]\n",
    "\n",
    "[1]: https://www.kaggle.com/cdeotte/customers-who-bought-this-frequently-buy-this\n",
    "[2]: https://www.kaggle.com/hiroshisakiyama/recommending-items-recently-bought"
   ]
  },
  {
   "cell_type": "code",
   "execution_count": 6,
   "id": "9ee23bab",
   "metadata": {
    "execution": {
     "iopub.execute_input": "2022-04-30T07:55:27.361798Z",
     "iopub.status.busy": "2022-04-30T07:55:27.360552Z",
     "iopub.status.idle": "2022-04-30T07:55:35.178666Z",
     "shell.execute_reply": "2022-04-30T07:55:35.177421Z",
     "shell.execute_reply.started": "2022-04-30T07:50:54.198845Z"
    },
    "papermill": {
     "duration": 7.866443,
     "end_time": "2022-04-30T07:55:35.178821",
     "exception": false,
     "start_time": "2022-04-30T07:55:27.312378",
     "status": "completed"
    },
    "tags": []
   },
   "outputs": [],
   "source": [
    "# USE PANDAS TO MAP COLUMN WITH DICTIONARY\n",
    "import pandas as pd, numpy as np\n",
    "train = train.to_pandas()\n",
    "#pairs = np.load('../input/hmitempairs/pairs_cudf.npy',allow_pickle=True).item()\n",
    "#pairs = np.load('../input/pairs-cudfnpy/pairs_cudf.npy',allow_pickle=True).item()\n",
    "#pairs = np.load('../input/pairscudfnpy/pairs_cudf_2020-09-23_2.npy',allow_pickle=True).item()\n",
    "#pairs = np.load(f'../input/pariscudf0916/pairs_cudf_{log_date}_{i2i_Ntop}.npy',allow_pickle=True).item()\n",
    "\n",
    "#pairs = np.load(f'../input/pairs-cudf-off-0916/pairs_cudf_2020-09-16_2_off.npy',allow_pickle=True).item()\n",
    "#pairs = np.load(f'../input/pairs-cudf-on-0916/pairs_cudf_2020-09-16_2_on.npy',allow_pickle=True).item()\n",
    "#pairs = np.load(f'../input/pairscudfon0909/pairs_cudf_2020-09-09_2_on.npy',allow_pickle=True).item()\n",
    "pairs = np.load(f'../input/pairscudfon0923/pairs_cudf_2020-09-23_2_on.npy',allow_pickle=True).item()\n",
    "\n",
    "\n",
    "#pairs = np.load(f'../input/pairscudf0909/pairs_cudf_{log_date}_{i2i_Ntop}.npy',allow_pickle=True).item()"
   ]
  },
  {
   "cell_type": "code",
   "execution_count": 7,
   "id": "ebac62b7",
   "metadata": {
    "execution": {
     "iopub.execute_input": "2022-04-30T07:55:35.234334Z",
     "iopub.status.busy": "2022-04-30T07:55:35.233137Z",
     "iopub.status.idle": "2022-04-30T07:55:47.972745Z",
     "shell.execute_reply": "2022-04-30T07:55:47.974145Z",
     "shell.execute_reply.started": "2022-04-29T05:57:52.659759Z"
    },
    "papermill": {
     "duration": 12.770727,
     "end_time": "2022-04-30T07:55:47.974457",
     "exception": false,
     "start_time": "2022-04-30T07:55:35.203730",
     "status": "completed"
    },
    "tags": []
   },
   "outputs": [],
   "source": [
    "# top N件までのitem pairsを作る\n",
    "pairs_list =[dict() for i in range(i2i_Ntop)] \n",
    "for k, v in pairs.items():\n",
    "    for i in range(len(v)):\n",
    "        pairs_list[i][k] = v[i]"
   ]
  },
  {
   "cell_type": "code",
   "execution_count": 8,
   "id": "b3802bdd",
   "metadata": {
    "execution": {
     "iopub.execute_input": "2022-04-30T07:55:48.078212Z",
     "iopub.status.busy": "2022-04-30T07:55:48.076579Z",
     "iopub.status.idle": "2022-04-30T07:55:48.518118Z",
     "shell.execute_reply": "2022-04-30T07:55:48.517539Z",
     "shell.execute_reply.started": "2022-04-29T05:58:11.643115Z"
    },
    "papermill": {
     "duration": 0.498973,
     "end_time": "2022-04-30T07:55:48.518336",
     "exception": false,
     "start_time": "2022-04-30T07:55:48.019363",
     "status": "completed"
    },
    "tags": []
   },
   "outputs": [],
   "source": [
    "train['article_id2'] = train.article_id.map(pairs_list[0]) # 合わせ買い1位\n",
    "train['article_id3'] = train.article_id.map(pairs_list[1]) # 合わせ買い2位\n",
    "#train['article_id4'] = train.article_id.map(pairs_list[2]) # 合わせ買い3位"
   ]
  },
  {
   "cell_type": "code",
   "execution_count": 9,
   "id": "eba0caa8",
   "metadata": {
    "execution": {
     "iopub.execute_input": "2022-04-30T07:55:48.574706Z",
     "iopub.status.busy": "2022-04-30T07:55:48.573309Z",
     "iopub.status.idle": "2022-04-30T07:55:51.059420Z",
     "shell.execute_reply": "2022-04-30T07:55:51.058852Z",
     "shell.execute_reply.started": "2022-04-29T05:58:12.027951Z"
    },
    "papermill": {
     "duration": 2.516922,
     "end_time": "2022-04-30T07:55:51.059573",
     "exception": false,
     "start_time": "2022-04-30T07:55:48.542651",
     "status": "completed"
    },
    "tags": []
   },
   "outputs": [],
   "source": [
    "# RECOMMENDATION OF PAIRED ITEMS\n",
    "train2 = train[['customer_id','article_id2']].copy()\n",
    "train2 = train2.loc[train2.article_id2.notnull()]\n",
    "train2 = train2.drop_duplicates(['customer_id','article_id2'])\n",
    "train2 = train2.rename({'article_id2':'article_id'},axis=1)\n",
    "\n",
    "train3 = train[['customer_id','article_id3']].copy()\n",
    "train3 = train3.loc[train3.article_id3.notnull()]\n",
    "train3 = train3.drop_duplicates(['customer_id','article_id3'])\n",
    "train3 = train3.rename({'article_id3':'article_id'},axis=1)\n",
    "\n",
    "#train4 = train[['customer_id','article_id4']].copy()\n",
    "#train4 = train4.loc[train4.article_id4.notnull()]\n",
    "#train4 = train4.drop_duplicates(['customer_id','article_id4'])\n",
    "#train4 = train4.rename({'article_id4':'article_id'},axis=1)"
   ]
  },
  {
   "cell_type": "code",
   "execution_count": 10,
   "id": "275404cf",
   "metadata": {
    "execution": {
     "iopub.execute_input": "2022-04-30T07:55:51.131032Z",
     "iopub.status.busy": "2022-04-30T07:55:51.130117Z",
     "iopub.status.idle": "2022-04-30T07:55:54.294728Z",
     "shell.execute_reply": "2022-04-30T07:55:54.294159Z",
     "shell.execute_reply.started": "2022-04-29T05:58:13.822986Z"
    },
    "papermill": {
     "duration": 3.210731,
     "end_time": "2022-04-30T07:55:54.294871",
     "exception": false,
     "start_time": "2022-04-30T07:55:51.084140",
     "status": "completed"
    },
    "tags": []
   },
   "outputs": [],
   "source": [
    "# CONCATENATE PAIRED ITEM RECOMMENDATION AFTER PREVIOUS PURCHASED RECOMMENDATIONS\n",
    "train = train[['customer_id','article_id']]\n",
    "train = pd.concat([train,train2,train3],axis=0,ignore_index=True)\n",
    "train.article_id = train.article_id.astype('int32')\n",
    "train = train.drop_duplicates(['customer_id','article_id'])"
   ]
  },
  {
   "cell_type": "code",
   "execution_count": 11,
   "id": "e9e3c399",
   "metadata": {
    "execution": {
     "iopub.execute_input": "2022-04-30T07:56:08.778351Z",
     "iopub.status.busy": "2022-04-30T07:55:54.820859Z",
     "iopub.status.idle": "2022-04-30T07:56:14.746639Z",
     "shell.execute_reply": "2022-04-30T07:56:14.747114Z",
     "shell.execute_reply.started": "2022-04-29T05:58:16.483015Z"
    },
    "papermill": {
     "duration": 20.428215,
     "end_time": "2022-04-30T07:56:14.747344",
     "exception": false,
     "start_time": "2022-04-30T07:55:54.319129",
     "status": "completed"
    },
    "tags": []
   },
   "outputs": [
    {
     "data": {
      "text/html": [
       "<div>\n",
       "<style scoped>\n",
       "    .dataframe tbody tr th:only-of-type {\n",
       "        vertical-align: middle;\n",
       "    }\n",
       "\n",
       "    .dataframe tbody tr th {\n",
       "        vertical-align: top;\n",
       "    }\n",
       "\n",
       "    .dataframe thead th {\n",
       "        text-align: right;\n",
       "    }\n",
       "</style>\n",
       "<table border=\"1\" class=\"dataframe\">\n",
       "  <thead>\n",
       "    <tr style=\"text-align: right;\">\n",
       "      <th></th>\n",
       "      <th>customer_id</th>\n",
       "      <th>prediction</th>\n",
       "    </tr>\n",
       "  </thead>\n",
       "  <tbody>\n",
       "    <tr>\n",
       "      <th>0</th>\n",
       "      <td>-9223352921020755230</td>\n",
       "      <td>0673396002 0812167004 0706016001 0812167002 0...</td>\n",
       "    </tr>\n",
       "    <tr>\n",
       "      <th>1</th>\n",
       "      <td>-9223343869995384291</td>\n",
       "      <td>0908292002 0910601003 0865929007 0903926002 0...</td>\n",
       "    </tr>\n",
       "    <tr>\n",
       "      <th>2</th>\n",
       "      <td>-9223321797620987725</td>\n",
       "      <td>0580600006 0610776035 0610776002 0610776010</td>\n",
       "    </tr>\n",
       "    <tr>\n",
       "      <th>3</th>\n",
       "      <td>-9223319430705797669</td>\n",
       "      <td>0470985003 0504155001 0554477005 0562245001 0...</td>\n",
       "    </tr>\n",
       "    <tr>\n",
       "      <th>4</th>\n",
       "      <td>-9223308614576639426</td>\n",
       "      <td>0750423005 0750423001 0610776002</td>\n",
       "    </tr>\n",
       "  </tbody>\n",
       "</table>\n",
       "</div>"
      ],
      "text/plain": [
       "           customer_id                                         prediction\n",
       "0 -9223352921020755230   0673396002 0812167004 0706016001 0812167002 0...\n",
       "1 -9223343869995384291   0908292002 0910601003 0865929007 0903926002 0...\n",
       "2 -9223321797620987725        0580600006 0610776035 0610776002 0610776010\n",
       "3 -9223319430705797669   0470985003 0504155001 0554477005 0562245001 0...\n",
       "4 -9223308614576639426                   0750423005 0750423001 0610776002"
      ]
     },
     "execution_count": 11,
     "metadata": {},
     "output_type": "execute_result"
    }
   ],
   "source": [
    "# CONVERT RECOMMENDATIONS INTO SINGLE STRING\n",
    "train.article_id = ' 0' + train.article_id.astype('str')\n",
    "preds = cudf.DataFrame( train.groupby('customer_id').article_id.sum().reset_index() )\n",
    "preds.columns = ['customer_id','prediction']\n",
    "preds.head()"
   ]
  },
  {
   "cell_type": "markdown",
   "id": "44c73739",
   "metadata": {
    "papermill": {
     "duration": 0.023228,
     "end_time": "2022-04-30T07:56:14.794275",
     "exception": false,
     "start_time": "2022-04-30T07:56:14.771047",
     "status": "completed"
    },
    "tags": []
   },
   "source": [
    "# (3) Recommend Last Week's Most Popular Items\n",
    "After recommending previous purchases and items purchased together we will then recommend the 12 most popular items. Therefore if our previous recommendations did not fill up a customer's 12 recommendations, then it will be filled by popular items."
   ]
  },
  {
   "cell_type": "code",
   "execution_count": 12,
   "id": "3a95b9f9",
   "metadata": {
    "execution": {
     "iopub.execute_input": "2022-04-30T07:56:14.845595Z",
     "iopub.status.busy": "2022-04-30T07:56:14.843026Z",
     "iopub.status.idle": "2022-04-30T07:56:14.848671Z",
     "shell.execute_reply": "2022-04-30T07:56:14.848171Z",
     "shell.execute_reply.started": "2022-04-09T11:42:53.600425Z"
    },
    "papermill": {
     "duration": 0.030819,
     "end_time": "2022-04-30T07:56:14.848812",
     "exception": false,
     "start_time": "2022-04-30T07:56:14.817993",
     "status": "completed"
    },
    "tags": []
   },
   "outputs": [],
   "source": [
    "#train = cudf.read_parquet('train.pqt')\n",
    "#train.t_dat = cudf.to_datetime(train.t_dat)\n",
    "#train = train.loc[train.t_dat >= cudf.to_datetime('2020-09-16')]\n",
    "#top12 = ' 0' + ' 0'.join(train.article_id.value_counts().to_pandas().index.astype('str')[:12])\n",
    "#print(\"Last week's top 12 popular items:\")\n",
    "#print( top12 )"
   ]
  },
  {
   "cell_type": "markdown",
   "id": "721fe4f1",
   "metadata": {
    "papermill": {
     "duration": 0.023163,
     "end_time": "2022-04-30T07:56:14.895319",
     "exception": false,
     "start_time": "2022-04-30T07:56:14.872156",
     "status": "completed"
    },
    "tags": []
   },
   "source": [
    "# Write Submission CSV\n",
    "We will merge our predictions onto `sample_submission.csv` and submit to Kaggle."
   ]
  },
  {
   "cell_type": "code",
   "execution_count": 13,
   "id": "9d0f79b1",
   "metadata": {
    "execution": {
     "iopub.execute_input": "2022-04-30T07:56:14.950346Z",
     "iopub.status.busy": "2022-04-30T07:56:14.949666Z",
     "iopub.status.idle": "2022-04-30T07:56:18.900658Z",
     "shell.execute_reply": "2022-04-30T07:56:18.901157Z",
     "shell.execute_reply.started": "2022-04-09T11:42:53.607612Z"
    },
    "papermill": {
     "duration": 3.981946,
     "end_time": "2022-04-30T07:56:18.901348",
     "exception": false,
     "start_time": "2022-04-30T07:56:14.919402",
     "status": "completed"
    },
    "tags": []
   },
   "outputs": [
    {
     "data": {
      "text/html": [
       "<div>\n",
       "<style scoped>\n",
       "    .dataframe tbody tr th:only-of-type {\n",
       "        vertical-align: middle;\n",
       "    }\n",
       "\n",
       "    .dataframe tbody tr th {\n",
       "        vertical-align: top;\n",
       "    }\n",
       "\n",
       "    .dataframe thead th {\n",
       "        text-align: right;\n",
       "    }\n",
       "</style>\n",
       "<table border=\"1\" class=\"dataframe\">\n",
       "  <thead>\n",
       "    <tr style=\"text-align: right;\">\n",
       "      <th></th>\n",
       "      <th>customer_id</th>\n",
       "      <th>prediction</th>\n",
       "    </tr>\n",
       "  </thead>\n",
       "  <tbody>\n",
       "    <tr>\n",
       "      <th>0</th>\n",
       "      <td>060f8aec2fdcdd2c3dcce7551a404b538bd9b9c866b9b8...</td>\n",
       "      <td>0736530007 0770703004 0736531006 0706016001 07...</td>\n",
       "    </tr>\n",
       "    <tr>\n",
       "      <th>1</th>\n",
       "      <td>06103a5395f5579e9161899412dd594e2f3c652e0a34d3...</td>\n",
       "      <td>0399061026 0898885002 0904422001 0572998009 06...</td>\n",
       "    </tr>\n",
       "    <tr>\n",
       "      <th>2</th>\n",
       "      <td>060fd8c7a53060a5858e351659685bf3d518bed767cc36...</td>\n",
       "      <td>0673901005 0673901012 0706016002 0706016006 07...</td>\n",
       "    </tr>\n",
       "    <tr>\n",
       "      <th>3</th>\n",
       "      <td>0610702e70404ddd8efeddd130fe276dd90b0c29f203f3...</td>\n",
       "      <td>0632803014 0657852006 0657852008 0669091018 07...</td>\n",
       "    </tr>\n",
       "    <tr>\n",
       "      <th>4</th>\n",
       "      <td>060f99b5b9119aa44791ed09880b2868f620a3b4d302ce...</td>\n",
       "      <td>0933706001 0913688003 0896152002</td>\n",
       "    </tr>\n",
       "  </tbody>\n",
       "</table>\n",
       "</div>"
      ],
      "text/plain": [
       "                                         customer_id  \\\n",
       "0  060f8aec2fdcdd2c3dcce7551a404b538bd9b9c866b9b8...   \n",
       "1  06103a5395f5579e9161899412dd594e2f3c652e0a34d3...   \n",
       "2  060fd8c7a53060a5858e351659685bf3d518bed767cc36...   \n",
       "3  0610702e70404ddd8efeddd130fe276dd90b0c29f203f3...   \n",
       "4  060f99b5b9119aa44791ed09880b2868f620a3b4d302ce...   \n",
       "\n",
       "                                          prediction  \n",
       "0  0736530007 0770703004 0736531006 0706016001 07...  \n",
       "1  0399061026 0898885002 0904422001 0572998009 06...  \n",
       "2  0673901005 0673901012 0706016002 0706016006 07...  \n",
       "3  0632803014 0657852006 0657852008 0669091018 07...  \n",
       "4                   0933706001 0913688003 0896152002  "
      ]
     },
     "execution_count": 13,
     "metadata": {},
     "output_type": "execute_result"
    }
   ],
   "source": [
    "sub = cudf.read_csv('../input/h-and-m-personalized-fashion-recommendations/sample_submission.csv')\n",
    "sub = sub[['customer_id']]\n",
    "sub['customer_id_2'] = sub['customer_id'].str[-16:].str.hex_to_int().astype('int64')\n",
    "sub = sub.merge(preds.rename({'customer_id':'customer_id_2'},axis=1),\\\n",
    "    on='customer_id_2', how='left').fillna('')\n",
    "del sub['customer_id_2']\n",
    "#sub.prediction = sub.prediction + top12\n",
    "sub.prediction = sub.prediction.str.strip()\n",
    "sub.prediction = sub.prediction.str[:(10*Ntop + (Ntop-1))]\n",
    "#sub.to_csv(f'submission_{log_date}_{Ntop}.csv',index=False)\n",
    "sub.to_csv(f'submission_{log_date}_{Ntop}_{ch}.csv',index=False)\n",
    "\n",
    "sub.head()"
   ]
  },
  {
   "cell_type": "code",
   "execution_count": null,
   "id": "dce9bb1b",
   "metadata": {
    "papermill": {
     "duration": 0.023709,
     "end_time": "2022-04-30T07:56:18.950208",
     "exception": false,
     "start_time": "2022-04-30T07:56:18.926499",
     "status": "completed"
    },
    "tags": []
   },
   "outputs": [],
   "source": []
  }
 ],
 "metadata": {
  "kernelspec": {
   "display_name": "Python 3",
   "language": "python",
   "name": "python3"
  },
  "language_info": {
   "codemirror_mode": {
    "name": "ipython",
    "version": 3
   },
   "file_extension": ".py",
   "mimetype": "text/x-python",
   "name": "python",
   "nbconvert_exporter": "python",
   "pygments_lexer": "ipython3",
   "version": "3.7.12"
  },
  "papermill": {
   "default_parameters": {},
   "duration": 109.444754,
   "end_time": "2022-04-30T07:56:21.092845",
   "environment_variables": {},
   "exception": null,
   "input_path": "__notebook__.ipynb",
   "output_path": "__notebook__.ipynb",
   "parameters": {},
   "start_time": "2022-04-30T07:54:31.648091",
   "version": "2.3.3"
  }
 },
 "nbformat": 4,
 "nbformat_minor": 5
}
