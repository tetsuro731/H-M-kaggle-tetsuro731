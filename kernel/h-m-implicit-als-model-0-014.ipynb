{
 "cells": [
  {
   "cell_type": "markdown",
   "id": "9a5d3af3",
   "metadata": {
    "papermill": {
     "duration": 0.027877,
     "end_time": "2022-05-08T11:55:11.860913",
     "exception": false,
     "start_time": "2022-05-08T11:55:11.833036",
     "status": "completed"
    },
    "tags": []
   },
   "source": [
    "# H&M - Implicit ALS model\n",
    "![](https://storage.googleapis.com/kaggle-competitions/kaggle/31254/logos/header.png)\n",
    "\n",
    "## Implicit ALS base model for the competition [H&M Personalized Fashion Recommendations](https://www.kaggle.com/c/h-and-m-personalized-fashion-recommendations).\n",
    "\n",
    "\n",
    "[Implicit](https://github.com/benfred/implicit/) is a library for recommender models. In theory, it supports GPU out-of-the-box, but I haven't tried it yet.\n",
    "\n",
    "In this notebook we use ALS (Alternating Least Squares), but the library supports a lot of other models with not many changes.\n",
    "\n",
    "ALS is one of the most used ML models for recommender systems. It's a matrix factorization method based on SVD (it's actually an approximated, numerical version of SVD). Basically, ALS factorizes the interaction matrix (user x items) into two smaller matrices, one for item embeddings and one for user embeddings. These new matrices are built in a manner such that the multiplication of a user and an item gives (approximately) it's interaction score. This build embeddings for items and for users that live in the same vector space, allowing the implementation of recommendations as simple cosine distances between users and items. This is, the 12 items we recommend for a given user are the 12 items with their embedding vectors closer to the user embedding vector.\n",
    "\n",
    "There are a lot of online resources explaining it. For example, [here](https://towardsdatascience.com/prototyping-a-recommender-system-step-by-step-part-2-alternating-least-square-als-matrix-4a76c58714a1).\n",
    "\n",
    "\n",
    "Be aware that there was a breaking API change in a recent release of implicit (11 days ago): https://github.com/benfred/implicit/releases/tag/v0.5.0 so some thing in the documentation are off if you use the version that comes installed in the Kaggle environments. Anyway, this competition doesn't forbid Internet usage, so upgrading the package to its latest version fixes all.\n",
    "\n",
    "\n",
    "---\n",
    "\n",
    "**I have reverted the kernet to version 14 with a score of `0.014` for now. The scores above `0.014` are using the `0.02` model by Heng Zheng as the fallback strategy for cold-start users. Therefore, a `0.018` score is actually bad. I did those version with the hope that they would work nicely together, obtaining `>0.02`. Since it was not the case, reporting a `0.018` score is not accurate at all.**\n",
    "\n",
    "If I can obtain a score that surpasses the `0.02`, using ALS + Heng's baseline, I will roll back to those versions again.\n",
    "\n",
    "\n",
    "# Please, _DO_ upvote if you find this kernel useful or interesting!"
   ]
  },
  {
   "cell_type": "markdown",
   "id": "4761c315",
   "metadata": {
    "papermill": {
     "duration": 0.026433,
     "end_time": "2022-05-08T11:55:11.914790",
     "exception": false,
     "start_time": "2022-05-08T11:55:11.888357",
     "status": "completed"
    },
    "tags": []
   },
   "source": [
    "# Imports"
   ]
  },
  {
   "cell_type": "code",
   "execution_count": 1,
   "id": "dc1d166d",
   "metadata": {
    "execution": {
     "iopub.execute_input": "2022-05-08T11:55:11.982095Z",
     "iopub.status.busy": "2022-05-08T11:55:11.981232Z",
     "iopub.status.idle": "2022-05-08T11:55:25.488076Z",
     "shell.execute_reply": "2022-05-08T11:55:25.486923Z",
     "shell.execute_reply.started": "2022-05-08T08:39:24.185780Z"
    },
    "papermill": {
     "duration": 13.546732,
     "end_time": "2022-05-08T11:55:25.488280",
     "exception": false,
     "start_time": "2022-05-08T11:55:11.941548",
     "status": "completed"
    },
    "tags": []
   },
   "outputs": [
    {
     "name": "stdout",
     "output_type": "stream",
     "text": [
      "Requirement already satisfied: implicit in /opt/conda/lib/python3.7/site-packages (0.4.4)\r\n",
      "Collecting implicit\r\n",
      "  Downloading implicit-0.5.2-cp37-cp37m-manylinux2014_x86_64.whl (18.5 MB)\r\n",
      "     |████████████████████████████████| 18.5 MB 621 kB/s            \r\n",
      "\u001b[?25hRequirement already satisfied: scipy>=0.16 in /opt/conda/lib/python3.7/site-packages (from implicit) (1.7.3)\r\n",
      "Requirement already satisfied: tqdm>=4.27 in /opt/conda/lib/python3.7/site-packages (from implicit) (4.62.3)\r\n",
      "Requirement already satisfied: numpy in /opt/conda/lib/python3.7/site-packages (from implicit) (1.20.3)\r\n",
      "Installing collected packages: implicit\r\n",
      "  Attempting uninstall: implicit\r\n",
      "    Found existing installation: implicit 0.4.4\r\n",
      "    Uninstalling implicit-0.4.4:\r\n",
      "      Successfully uninstalled implicit-0.4.4\r\n",
      "Successfully installed implicit-0.5.2\r\n",
      "\u001b[33mWARNING: Running pip as the 'root' user can result in broken permissions and conflicting behaviour with the system package manager. It is recommended to use a virtual environment instead: https://pip.pypa.io/warnings/venv\u001b[0m\r\n"
     ]
    }
   ],
   "source": [
    "# FYI:\n",
    "# This pip command takes a lot with GPU enabled (~15 min)\n",
    "# It works though. And GPU accelerates the process *a lot*.\n",
    "# I am developing with GPU turned off and submitting with GPU turned on\n",
    "!pip install --upgrade implicit"
   ]
  },
  {
   "cell_type": "code",
   "execution_count": 2,
   "id": "24e1e1c5",
   "metadata": {
    "execution": {
     "iopub.execute_input": "2022-05-08T11:55:25.574618Z",
     "iopub.status.busy": "2022-05-08T11:55:25.571010Z",
     "iopub.status.idle": "2022-05-08T11:55:25.976200Z",
     "shell.execute_reply": "2022-05-08T11:55:25.975480Z",
     "shell.execute_reply.started": "2022-05-08T08:39:32.173029Z"
    },
    "papermill": {
     "duration": 0.448649,
     "end_time": "2022-05-08T11:55:25.976401",
     "exception": false,
     "start_time": "2022-05-08T11:55:25.527752",
     "status": "completed"
    },
    "tags": []
   },
   "outputs": [],
   "source": [
    "import os; os.environ['OPENBLAS_NUM_THREADS']='1'\n",
    "import numpy as np\n",
    "import pandas as pd\n",
    "import implicit\n",
    "from scipy.sparse import coo_matrix\n",
    "from implicit.evaluation import mean_average_precision_at_k"
   ]
  },
  {
   "cell_type": "markdown",
   "id": "ef6bb88e",
   "metadata": {
    "papermill": {
     "duration": 0.037869,
     "end_time": "2022-05-08T11:55:26.053850",
     "exception": false,
     "start_time": "2022-05-08T11:55:26.015981",
     "status": "completed"
    },
    "tags": []
   },
   "source": [
    "# Load dataframes"
   ]
  },
  {
   "cell_type": "code",
   "execution_count": 3,
   "id": "b4b0d39a",
   "metadata": {
    "_cell_guid": "b1076dfc-b9ad-4769-8c92-a6c4dae69d19",
    "_uuid": "8f2839f25d086af736a60e9eeb907d3b93b6e0e5",
    "execution": {
     "iopub.execute_input": "2022-05-08T11:55:26.141207Z",
     "iopub.status.busy": "2022-05-08T11:55:26.140552Z",
     "iopub.status.idle": "2022-05-08T11:56:49.655588Z",
     "shell.execute_reply": "2022-05-08T11:56:49.656136Z",
     "shell.execute_reply.started": "2022-05-08T08:39:32.180692Z"
    },
    "papermill": {
     "duration": 83.563173,
     "end_time": "2022-05-08T11:56:49.656362",
     "exception": false,
     "start_time": "2022-05-08T11:55:26.093189",
     "status": "completed"
    },
    "tags": []
   },
   "outputs": [
    {
     "name": "stdout",
     "output_type": "stream",
     "text": [
      "CPU times: user 49.4 s, sys: 5.64 s, total: 55 s\n",
      "Wall time: 1min 23s\n"
     ]
    }
   ],
   "source": [
    "%%time\n",
    "\n",
    "base_path = '../input/h-and-m-personalized-fashion-recommendations/'\n",
    "csv_train = f'{base_path}transactions_train.csv'\n",
    "csv_sub = f'{base_path}sample_submission.csv'\n",
    "csv_users = f'{base_path}customers.csv'\n",
    "csv_items = f'{base_path}articles.csv'\n",
    "\n",
    "df = pd.read_csv(csv_train, dtype={'article_id': str}, parse_dates=['t_dat'])\n",
    "df_sub = pd.read_csv(csv_sub)\n",
    "dfu = pd.read_csv(csv_users)\n",
    "dfi = pd.read_csv(csv_items, dtype={'article_id': str})"
   ]
  },
  {
   "cell_type": "code",
   "execution_count": 4,
   "id": "17f1c073",
   "metadata": {
    "execution": {
     "iopub.execute_input": "2022-05-08T11:56:49.801448Z",
     "iopub.status.busy": "2022-05-08T11:56:49.800057Z",
     "iopub.status.idle": "2022-05-08T11:56:49.803594Z",
     "shell.execute_reply": "2022-05-08T11:56:49.802542Z",
     "shell.execute_reply.started": "2022-05-08T08:40:19.448442Z"
    },
    "papermill": {
     "duration": 0.106354,
     "end_time": "2022-05-08T11:56:49.803842",
     "exception": false,
     "start_time": "2022-05-08T11:56:49.697488",
     "status": "completed"
    },
    "tags": []
   },
   "outputs": [],
   "source": [
    "# parameter by tetsuro\n",
    "train_end_date = '2020-09-23'\n",
    "#train_end_date = '2020-09-16'\n",
    "#train_end_date = '2020-09-09'\n",
    "Nrank = 200"
   ]
  },
  {
   "cell_type": "code",
   "execution_count": 5,
   "id": "1eb04546",
   "metadata": {
    "execution": {
     "iopub.execute_input": "2022-05-08T11:56:49.971484Z",
     "iopub.status.busy": "2022-05-08T11:56:49.970330Z",
     "iopub.status.idle": "2022-05-08T11:56:49.978782Z",
     "shell.execute_reply": "2022-05-08T11:56:49.979632Z",
     "shell.execute_reply.started": "2022-05-08T08:40:19.453968Z"
    },
    "papermill": {
     "duration": 0.089078,
     "end_time": "2022-05-08T11:56:49.979875",
     "exception": false,
     "start_time": "2022-05-08T11:56:49.890797",
     "status": "completed"
    },
    "tags": []
   },
   "outputs": [
    {
     "name": "stdout",
     "output_type": "stream",
     "text": [
      "2020-08-24 2020-09-23 2020-09-16\n"
     ]
    }
   ],
   "source": [
    "from datetime import datetime, date, timedelta\n",
    "train_end_date_dt = pd.to_datetime(train_end_date) \n",
    "train_start_date_dt = train_end_date_dt + timedelta(days=-30)\n",
    "#train_start_date_dt = train_end_date_dt + timedelta(days=-90)\n",
    "train_recent_date_dt = train_end_date_dt + timedelta(days=-7)\n",
    "\n",
    "#train_start_date_dt = train_end_date_dt + timedelta(days=-14)\n",
    "train_start_date = str(train_start_date_dt.strftime('%Y-%m-%d'))\n",
    "train_recent_date = str(train_recent_date_dt.strftime('%Y-%m-%d'))\n",
    "\n",
    "print(train_start_date, train_end_date, train_recent_date)"
   ]
  },
  {
   "cell_type": "code",
   "execution_count": 6,
   "id": "472223f7",
   "metadata": {
    "execution": {
     "iopub.execute_input": "2022-05-08T11:56:50.131355Z",
     "iopub.status.busy": "2022-05-08T11:56:50.124036Z",
     "iopub.status.idle": "2022-05-08T11:56:51.257787Z",
     "shell.execute_reply": "2022-05-08T11:56:51.258515Z",
     "shell.execute_reply.started": "2022-05-08T08:40:19.469148Z"
    },
    "papermill": {
     "duration": 1.210505,
     "end_time": "2022-05-08T11:56:51.258702",
     "exception": false,
     "start_time": "2022-05-08T11:56:50.048197",
     "status": "completed"
    },
    "tags": []
   },
   "outputs": [
    {
     "data": {
      "text/plain": [
       "(1122902, 5)"
      ]
     },
     "execution_count": 6,
     "metadata": {},
     "output_type": "execute_result"
    }
   ],
   "source": [
    "# Trying with less data:\n",
    "# https://www.kaggle.com/tomooinubushi/folk-of-time-is-our-best-friend/notebook\n",
    "df = df[ train_start_date <= df['t_dat']]\n",
    "df = df[ df['t_dat'] < train_end_date]\n",
    "#df_recent = df[ train_recent_date <= df['t_dat']] # 直近一週間\n",
    "\n",
    "df.shape"
   ]
  },
  {
   "cell_type": "code",
   "execution_count": 7,
   "id": "a0575415",
   "metadata": {
    "execution": {
     "iopub.execute_input": "2022-05-08T11:56:51.345736Z",
     "iopub.status.busy": "2022-05-08T11:56:51.344616Z",
     "iopub.status.idle": "2022-05-08T11:56:51.353369Z",
     "shell.execute_reply": "2022-05-08T11:56:51.353983Z",
     "shell.execute_reply.started": "2022-05-08T08:40:21.956942Z"
    },
    "papermill": {
     "duration": 0.055908,
     "end_time": "2022-05-08T11:56:51.354180",
     "exception": false,
     "start_time": "2022-05-08T11:56:51.298272",
     "status": "completed"
    },
    "tags": []
   },
   "outputs": [
    {
     "data": {
      "text/plain": [
       "Timestamp('2020-09-22 00:00:00')"
      ]
     },
     "execution_count": 7,
     "metadata": {},
     "output_type": "execute_result"
    }
   ],
   "source": [
    "# For validation this means 3 weeks of training and 1 week for validation\n",
    "# For submission, it means 4 weeks of training\n",
    "df['t_dat'].max()"
   ]
  },
  {
   "cell_type": "markdown",
   "id": "fb8310b2",
   "metadata": {
    "papermill": {
     "duration": 0.040674,
     "end_time": "2022-05-08T11:56:51.436648",
     "exception": false,
     "start_time": "2022-05-08T11:56:51.395974",
     "status": "completed"
    },
    "tags": []
   },
   "source": [
    "## Assign autoincrementing ids starting from 0 to both users and items"
   ]
  },
  {
   "cell_type": "code",
   "execution_count": 8,
   "id": "1d8aaf4c",
   "metadata": {
    "execution": {
     "iopub.execute_input": "2022-05-08T11:56:51.558825Z",
     "iopub.status.busy": "2022-05-08T11:56:51.557794Z",
     "iopub.status.idle": "2022-05-08T11:56:54.682808Z",
     "shell.execute_reply": "2022-05-08T11:56:54.681907Z",
     "shell.execute_reply.started": "2022-05-08T08:40:22.055512Z"
    },
    "papermill": {
     "duration": 3.205843,
     "end_time": "2022-05-08T11:56:54.682971",
     "exception": false,
     "start_time": "2022-05-08T11:56:51.477128",
     "status": "completed"
    },
    "tags": []
   },
   "outputs": [],
   "source": [
    "ALL_USERS = dfu['customer_id'].unique().tolist() # uniqueなlistを作る\n",
    "ALL_ITEMS = dfi['article_id'].unique().tolist()\n",
    "\n",
    "# useridとcustomer_idの対応\n",
    "user_ids = dict(list(enumerate(ALL_USERS)))\n",
    "# itemidとarticle_idの対応\n",
    "item_ids = dict(list(enumerate(ALL_ITEMS)))\n",
    "\n",
    "user_map = {u: uidx for uidx, u in user_ids.items()}\n",
    "item_map = {i: iidx for iidx, i in item_ids.items()}\n",
    "# idを加える\n",
    "df['user_id'] = df['customer_id'].map(user_map)\n",
    "df['item_id'] = df['article_id'].map(item_map)\n",
    "\n",
    "del dfu, dfi"
   ]
  },
  {
   "cell_type": "code",
   "execution_count": 9,
   "id": "4d62b736",
   "metadata": {
    "execution": {
     "iopub.execute_input": "2022-05-08T11:56:54.774019Z",
     "iopub.status.busy": "2022-05-08T11:56:54.772929Z",
     "iopub.status.idle": "2022-05-08T11:56:54.787279Z",
     "shell.execute_reply": "2022-05-08T11:56:54.787865Z",
     "shell.execute_reply.started": "2022-05-08T08:40:36.106538Z"
    },
    "papermill": {
     "duration": 0.06283,
     "end_time": "2022-05-08T11:56:54.788015",
     "exception": false,
     "start_time": "2022-05-08T11:56:54.725185",
     "status": "completed"
    },
    "tags": []
   },
   "outputs": [
    {
     "data": {
      "text/html": [
       "<div>\n",
       "<style scoped>\n",
       "    .dataframe tbody tr th:only-of-type {\n",
       "        vertical-align: middle;\n",
       "    }\n",
       "\n",
       "    .dataframe tbody tr th {\n",
       "        vertical-align: top;\n",
       "    }\n",
       "\n",
       "    .dataframe thead th {\n",
       "        text-align: right;\n",
       "    }\n",
       "</style>\n",
       "<table border=\"1\" class=\"dataframe\">\n",
       "  <thead>\n",
       "    <tr style=\"text-align: right;\">\n",
       "      <th></th>\n",
       "      <th>t_dat</th>\n",
       "      <th>customer_id</th>\n",
       "      <th>article_id</th>\n",
       "      <th>price</th>\n",
       "      <th>sales_channel_id</th>\n",
       "      <th>user_id</th>\n",
       "      <th>item_id</th>\n",
       "    </tr>\n",
       "  </thead>\n",
       "  <tbody>\n",
       "    <tr>\n",
       "      <th>30665422</th>\n",
       "      <td>2020-08-24</td>\n",
       "      <td>0000e9a4db2da4e9c68558ad1e7df570d02767b213ec6b...</td>\n",
       "      <td>0880553001</td>\n",
       "      <td>0.025407</td>\n",
       "      <td>2</td>\n",
       "      <td>20</td>\n",
       "      <td>98717</td>\n",
       "    </tr>\n",
       "    <tr>\n",
       "      <th>30665423</th>\n",
       "      <td>2020-08-24</td>\n",
       "      <td>0000e9a4db2da4e9c68558ad1e7df570d02767b213ec6b...</td>\n",
       "      <td>0880553001</td>\n",
       "      <td>0.025407</td>\n",
       "      <td>2</td>\n",
       "      <td>20</td>\n",
       "      <td>98717</td>\n",
       "    </tr>\n",
       "    <tr>\n",
       "      <th>30665424</th>\n",
       "      <td>2020-08-24</td>\n",
       "      <td>00047d50bde8751b26aaec7536ccc5fd92828ffa0a396d...</td>\n",
       "      <td>0909081004</td>\n",
       "      <td>0.033881</td>\n",
       "      <td>2</td>\n",
       "      <td>101</td>\n",
       "      <td>103069</td>\n",
       "    </tr>\n",
       "    <tr>\n",
       "      <th>30665425</th>\n",
       "      <td>2020-08-24</td>\n",
       "      <td>00047d50bde8751b26aaec7536ccc5fd92828ffa0a396d...</td>\n",
       "      <td>0516903024</td>\n",
       "      <td>0.025407</td>\n",
       "      <td>2</td>\n",
       "      <td>101</td>\n",
       "      <td>7759</td>\n",
       "    </tr>\n",
       "    <tr>\n",
       "      <th>30665426</th>\n",
       "      <td>2020-08-24</td>\n",
       "      <td>00047d50bde8751b26aaec7536ccc5fd92828ffa0a396d...</td>\n",
       "      <td>0897679003</td>\n",
       "      <td>0.042356</td>\n",
       "      <td>2</td>\n",
       "      <td>101</td>\n",
       "      <td>101561</td>\n",
       "    </tr>\n",
       "  </tbody>\n",
       "</table>\n",
       "</div>"
      ],
      "text/plain": [
       "              t_dat                                        customer_id  \\\n",
       "30665422 2020-08-24  0000e9a4db2da4e9c68558ad1e7df570d02767b213ec6b...   \n",
       "30665423 2020-08-24  0000e9a4db2da4e9c68558ad1e7df570d02767b213ec6b...   \n",
       "30665424 2020-08-24  00047d50bde8751b26aaec7536ccc5fd92828ffa0a396d...   \n",
       "30665425 2020-08-24  00047d50bde8751b26aaec7536ccc5fd92828ffa0a396d...   \n",
       "30665426 2020-08-24  00047d50bde8751b26aaec7536ccc5fd92828ffa0a396d...   \n",
       "\n",
       "          article_id     price  sales_channel_id  user_id  item_id  \n",
       "30665422  0880553001  0.025407                 2       20    98717  \n",
       "30665423  0880553001  0.025407                 2       20    98717  \n",
       "30665424  0909081004  0.033881                 2      101   103069  \n",
       "30665425  0516903024  0.025407                 2      101     7759  \n",
       "30665426  0897679003  0.042356                 2      101   101561  "
      ]
     },
     "execution_count": 9,
     "metadata": {},
     "output_type": "execute_result"
    }
   ],
   "source": [
    "df.head()"
   ]
  },
  {
   "cell_type": "markdown",
   "id": "b56b3cc9",
   "metadata": {
    "papermill": {
     "duration": 0.039863,
     "end_time": "2022-05-08T11:56:54.867967",
     "exception": false,
     "start_time": "2022-05-08T11:56:54.828104",
     "status": "completed"
    },
    "tags": []
   },
   "source": [
    "## Create coo_matrix (user x item) and csr matrix (user x item)\n",
    "\n",
    "It is common to use scipy sparse matrices in recommender systems, because the main core of the problem is typically modeled as a matrix with users and items, with the values representing whether the user purchased (or liked) an items. Since each user purchases only a small fraction of the catalog of products, this matrix is full of zero (aka: it's sparse).\n",
    "\n",
    "In a very recent release they did an API breaking change, so be aware of that: https://github.com/benfred/implicit/releases\n",
    "In this notebook we are using the latest version, so everything is aligned with (user x item)\n",
    "\n",
    "**We are using (user x item) matrices, both for training and for evaluating/recommender.**\n",
    "\n",
    "In the previous versions the training procedure required a COO item x user\n",
    "\n",
    "For evaluation and prediction, on the other hand, CSR matrices with users x items format should be provided.\n",
    "\n",
    "\n",
    "### About COO matrices\n",
    "COO matrices are a kind of sparse matrix.\n",
    "They store their values as tuples of `(row, column, value)` (the coordinates)\n",
    "\n",
    "You can read more about them here: \n",
    "* https://en.wikipedia.org/wiki/Sparse_matrix#Coordinate_list_(COO)\n",
    "* https://scipy-lectures.org/advanced/scipy_sparse/coo_matrix.html\n",
    "\n",
    "From https://het.as.utexas.edu/HET/Software/Scipy/generated/scipy.sparse.coo_matrix.html\n",
    "\n",
    "```python\n",
    ">>> row  = np.array([0,3,1,0]) # user_ids\n",
    ">>> col  = np.array([0,3,1,2]) # item_ids\n",
    ">>> data = np.array([4,5,7,9]) # a bunch of ones of lenght unique(user) x unique(items)\n",
    ">>> coo_matrix((data,(row,col)), shape=(4,4)).todense()\n",
    "matrix([[4, 0, 9, 0],\n",
    "        [0, 7, 0, 0],\n",
    "        [0, 0, 0, 0],\n",
    "        [0, 0, 0, 5]])\n",
    "```\n",
    "\n",
    "## About CSR matrices\n",
    "* https://en.wikipedia.org/wiki/Sparse_matrix#Compressed_sparse_row_(CSR,_CRS_or_Yale_format)\n"
   ]
  },
  {
   "cell_type": "code",
   "execution_count": 10,
   "id": "1704cdbd",
   "metadata": {
    "execution": {
     "iopub.execute_input": "2022-05-08T11:56:54.956828Z",
     "iopub.status.busy": "2022-05-08T11:56:54.955422Z",
     "iopub.status.idle": "2022-05-08T11:56:54.969376Z",
     "shell.execute_reply": "2022-05-08T11:56:54.968751Z",
     "shell.execute_reply.started": "2022-05-08T08:40:36.122812Z"
    },
    "papermill": {
     "duration": 0.061516,
     "end_time": "2022-05-08T11:56:54.969512",
     "exception": false,
     "start_time": "2022-05-08T11:56:54.907996",
     "status": "completed"
    },
    "tags": []
   },
   "outputs": [
    {
     "data": {
      "text/plain": [
       "<1371980x105542 sparse matrix of type '<class 'numpy.float64'>'\n",
       "\twith 1122902 stored elements in COOrdinate format>"
      ]
     },
     "execution_count": 10,
     "metadata": {},
     "output_type": "execute_result"
    }
   ],
   "source": [
    "# COO matrix, row, col, dataで指定するsparceなmatrix\n",
    "row = df['user_id'].values\n",
    "col = df['item_id'].values\n",
    "data = np.ones(df.shape[0]) # 正解の数だけ1を用意してarrayにする\n",
    "coo_train = coo_matrix((data, (row, col)), shape=(len(ALL_USERS), len(ALL_ITEMS)))\n",
    "coo_train"
   ]
  },
  {
   "cell_type": "markdown",
   "id": "68481ff7",
   "metadata": {
    "papermill": {
     "duration": 0.040617,
     "end_time": "2022-05-08T11:56:55.052205",
     "exception": false,
     "start_time": "2022-05-08T11:56:55.011588",
     "status": "completed"
    },
    "tags": []
   },
   "source": [
    "# Check that model works ok with data"
   ]
  },
  {
   "cell_type": "code",
   "execution_count": 11,
   "id": "e90c8b1c",
   "metadata": {
    "execution": {
     "iopub.execute_input": "2022-05-08T11:56:55.475476Z",
     "iopub.status.busy": "2022-05-08T11:56:55.473924Z",
     "iopub.status.idle": "2022-05-08T11:56:56.636043Z",
     "shell.execute_reply": "2022-05-08T11:56:56.636919Z",
     "shell.execute_reply.started": "2022-05-08T08:40:36.446522Z"
    },
    "papermill": {
     "duration": 1.544587,
     "end_time": "2022-05-08T11:56:56.637245",
     "exception": false,
     "start_time": "2022-05-08T11:56:55.092658",
     "status": "completed"
    },
    "tags": []
   },
   "outputs": [
    {
     "data": {
      "application/vnd.jupyter.widget-view+json": {
       "model_id": "928baa11305049bc9f4606e08973adbf",
       "version_major": 2,
       "version_minor": 0
      },
      "text/plain": [
       "  0%|          | 0/2 [00:00<?, ?it/s]"
      ]
     },
     "metadata": {},
     "output_type": "display_data"
    },
    {
     "name": "stdout",
     "output_type": "stream",
     "text": [
      "CPU times: user 446 ms, sys: 268 ms, total: 714 ms\n",
      "Wall time: 1.49 s\n"
     ]
    }
   ],
   "source": [
    "%%time\n",
    "# COO matrixを引数にしてALSのモデルを生成する\n",
    "# ここではsplitせずに全データでfit\n",
    "model = implicit.als.AlternatingLeastSquares(factors=10, iterations=2)\n",
    "model.fit(coo_train)"
   ]
  },
  {
   "cell_type": "markdown",
   "id": "c7806f97",
   "metadata": {
    "papermill": {
     "duration": 0.041571,
     "end_time": "2022-05-08T11:56:56.722019",
     "exception": false,
     "start_time": "2022-05-08T11:56:56.680448",
     "status": "completed"
    },
    "tags": []
   },
   "source": [
    "# Validation"
   ]
  },
  {
   "cell_type": "markdown",
   "id": "1c39ad19",
   "metadata": {
    "papermill": {
     "duration": 0.041479,
     "end_time": "2022-05-08T11:56:56.804775",
     "exception": false,
     "start_time": "2022-05-08T11:56:56.763296",
     "status": "completed"
    },
    "tags": []
   },
   "source": [
    "## Functions required for validation"
   ]
  },
  {
   "cell_type": "code",
   "execution_count": 12,
   "id": "89042755",
   "metadata": {
    "execution": {
     "iopub.execute_input": "2022-05-08T11:56:56.897147Z",
     "iopub.status.busy": "2022-05-08T11:56:56.896050Z",
     "iopub.status.idle": "2022-05-08T11:56:56.904955Z",
     "shell.execute_reply": "2022-05-08T11:56:56.905557Z",
     "shell.execute_reply.started": "2022-05-08T08:40:39.937590Z"
    },
    "papermill": {
     "duration": 0.059978,
     "end_time": "2022-05-08T11:56:56.905738",
     "exception": false,
     "start_time": "2022-05-08T11:56:56.845760",
     "status": "completed"
    },
    "tags": []
   },
   "outputs": [],
   "source": [
    "def to_user_item_coo(df):\n",
    "    \"\"\" Turn a dataframe with transactions into a COO sparse items x users matrix\"\"\"\n",
    "    row = df['user_id'].values\n",
    "    col = df['item_id'].values\n",
    "    data = np.ones(df.shape[0])\n",
    "    coo = coo_matrix((data, (row, col)), shape=(len(ALL_USERS), len(ALL_ITEMS)))\n",
    "    return coo\n",
    "\n",
    "\n",
    "def split_data(df, validation_days=7):\n",
    "    \"\"\" Split a pandas dataframe into training and validation data, using <<validation_days>>\n",
    "    \"\"\"\n",
    "    validation_cut = df['t_dat'].max() - pd.Timedelta(validation_days)\n",
    "\n",
    "    df_train = df[df['t_dat'] < validation_cut]\n",
    "    df_val = df[df['t_dat'] >= validation_cut]\n",
    "    return df_train, df_val\n",
    "\n",
    "def get_val_matrices(df, validation_days=7):\n",
    "    \"\"\" Split into training and validation and create various matrices\n",
    "        \n",
    "        Returns a dictionary with the following keys:\n",
    "            coo_train: training data in COO sparse format and as (users x items)\n",
    "            csr_train: training data in CSR sparse format and as (users x items)\n",
    "            csr_val:  validation data in CSR sparse format and as (users x items)\n",
    "    \n",
    "    \"\"\"\n",
    "    df_train, df_val = split_data(df, validation_days=validation_days)\n",
    "    coo_train = to_user_item_coo(df_train)\n",
    "    coo_val = to_user_item_coo(df_val)\n",
    "\n",
    "    csr_train = coo_train.tocsr()\n",
    "    csr_val = coo_val.tocsr()\n",
    "    \n",
    "    return {'coo_train': coo_train,\n",
    "            'csr_train': csr_train,\n",
    "            'csr_val': csr_val\n",
    "          }\n",
    "\n",
    "\n",
    "def validate(matrices, factors=200, iterations=20, regularization=0.01, show_progress=True):\n",
    "    \"\"\" Train an ALS model with <<factors>> (embeddings dimension) \n",
    "    for <<iterations>> over matrices and validate with MAP@12\n",
    "    \"\"\"\n",
    "    coo_train, csr_train, csr_val = matrices['coo_train'], matrices['csr_train'], matrices['csr_val']\n",
    "    \n",
    "    model = implicit.als.AlternatingLeastSquares(factors=factors, \n",
    "                                                 iterations=iterations, \n",
    "                                                 regularization=regularization, \n",
    "                                                 random_state=42)\n",
    "    model.fit(coo_train, show_progress=show_progress)\n",
    "    \n",
    "    # The MAPK by implicit doesn't allow to calculate allowing repeated items, which is the case.\n",
    "    # TODO: change MAP@12 to a library that allows repeated items in prediction\n",
    "    map12 = mean_average_precision_at_k(model, csr_train, csr_val, K=12, show_progress=show_progress, num_threads=4)\n",
    "    print(f\"Factors: {factors:>3} - Iterations: {iterations:>2} - Regularization: {regularization:4.3f} ==> MAP@12: {map12:6.5f}\")\n",
    "    return map12"
   ]
  },
  {
   "cell_type": "code",
   "execution_count": 13,
   "id": "0fcbfb08",
   "metadata": {
    "execution": {
     "iopub.execute_input": "2022-05-08T11:56:56.996689Z",
     "iopub.status.busy": "2022-05-08T11:56:56.995544Z",
     "iopub.status.idle": "2022-05-08T11:56:57.195481Z",
     "shell.execute_reply": "2022-05-08T11:56:57.194819Z",
     "shell.execute_reply.started": "2022-05-08T08:40:39.952871Z"
    },
    "papermill": {
     "duration": 0.246876,
     "end_time": "2022-05-08T11:56:57.195624",
     "exception": false,
     "start_time": "2022-05-08T11:56:56.948748",
     "status": "completed"
    },
    "tags": []
   },
   "outputs": [
    {
     "data": {
      "text/plain": [
       "{'coo_train': <1371980x105542 sparse matrix of type '<class 'numpy.float64'>'\n",
       " \twith 1090036 stored elements in COOrdinate format>,\n",
       " 'csr_train': <1371980x105542 sparse matrix of type '<class 'numpy.float64'>'\n",
       " \twith 963354 stored elements in Compressed Sparse Row format>,\n",
       " 'csr_val': <1371980x105542 sparse matrix of type '<class 'numpy.float64'>'\n",
       " \twith 29486 stored elements in Compressed Sparse Row format>}"
      ]
     },
     "execution_count": 13,
     "metadata": {},
     "output_type": "execute_result"
    }
   ],
   "source": [
    "# dfをtrainとvalidにsplitした後、COO, CSR matrixをそれぞれ生成する\n",
    "matrices = get_val_matrices(df) \n",
    "matrices"
   ]
  },
  {
   "cell_type": "code",
   "execution_count": 14,
   "id": "75f92daf",
   "metadata": {
    "execution": {
     "iopub.execute_input": "2022-05-08T11:56:57.283096Z",
     "iopub.status.busy": "2022-05-08T11:56:57.281940Z",
     "iopub.status.idle": "2022-05-08T11:59:03.319280Z",
     "shell.execute_reply": "2022-05-08T11:59:03.320030Z",
     "shell.execute_reply.started": "2022-05-08T08:40:47.021294Z"
    },
    "papermill": {
     "duration": 126.082738,
     "end_time": "2022-05-08T11:59:03.320325",
     "exception": false,
     "start_time": "2022-05-08T11:56:57.237587",
     "status": "completed"
    },
    "tags": []
   },
   "outputs": [
    {
     "name": "stdout",
     "output_type": "stream",
     "text": [
      "Factors: 100 - Iterations:  3 - Regularization: 0.010 ==> MAP@12: 0.00513\n",
      "Best MAP@12 found. Updating: {'factors': 100, 'iterations': 3, 'regularization': 0.01}\n",
      "Factors: 100 - Iterations:  3 - Regularization: 0.100 ==> MAP@12: 0.00513\n",
      "Best MAP@12 found. Updating: {'factors': 100, 'iterations': 3, 'regularization': 0.1}\n",
      "Factors: 100 - Iterations: 12 - Regularization: 0.010 ==> MAP@12: 0.00637\n",
      "Best MAP@12 found. Updating: {'factors': 100, 'iterations': 12, 'regularization': 0.01}\n",
      "Factors: 100 - Iterations: 12 - Regularization: 0.100 ==> MAP@12: 0.00636\n",
      "Factors: 100 - Iterations: 14 - Regularization: 0.010 ==> MAP@12: 0.00638\n",
      "Best MAP@12 found. Updating: {'factors': 100, 'iterations': 14, 'regularization': 0.01}\n",
      "Factors: 100 - Iterations: 14 - Regularization: 0.100 ==> MAP@12: 0.00638\n",
      "Best MAP@12 found. Updating: {'factors': 100, 'iterations': 14, 'regularization': 0.1}\n",
      "Factors: 100 - Iterations: 20 - Regularization: 0.010 ==> MAP@12: 0.00633\n",
      "Factors: 100 - Iterations: 20 - Regularization: 0.100 ==> MAP@12: 0.00633\n",
      "Factors: 200 - Iterations:  3 - Regularization: 0.010 ==> MAP@12: 0.00642\n",
      "Best MAP@12 found. Updating: {'factors': 200, 'iterations': 3, 'regularization': 0.01}\n",
      "Factors: 200 - Iterations:  3 - Regularization: 0.100 ==> MAP@12: 0.00643\n",
      "Best MAP@12 found. Updating: {'factors': 200, 'iterations': 3, 'regularization': 0.1}\n",
      "Factors: 200 - Iterations: 12 - Regularization: 0.010 ==> MAP@12: 0.00652\n",
      "Best MAP@12 found. Updating: {'factors': 200, 'iterations': 12, 'regularization': 0.01}\n",
      "Factors: 200 - Iterations: 12 - Regularization: 0.100 ==> MAP@12: 0.00652\n",
      "Best MAP@12 found. Updating: {'factors': 200, 'iterations': 12, 'regularization': 0.1}\n",
      "Factors: 200 - Iterations: 14 - Regularization: 0.010 ==> MAP@12: 0.00644\n",
      "Factors: 200 - Iterations: 14 - Regularization: 0.100 ==> MAP@12: 0.00643\n",
      "Factors: 200 - Iterations: 20 - Regularization: 0.010 ==> MAP@12: 0.00638\n",
      "Factors: 200 - Iterations: 20 - Regularization: 0.100 ==> MAP@12: 0.00638\n",
      "Factors: 500 - Iterations:  3 - Regularization: 0.010 ==> MAP@12: 0.00676\n",
      "Best MAP@12 found. Updating: {'factors': 500, 'iterations': 3, 'regularization': 0.01}\n",
      "Factors: 500 - Iterations:  3 - Regularization: 0.100 ==> MAP@12: 0.00680\n",
      "Best MAP@12 found. Updating: {'factors': 500, 'iterations': 3, 'regularization': 0.1}\n",
      "Factors: 500 - Iterations: 12 - Regularization: 0.010 ==> MAP@12: 0.00568\n",
      "Factors: 500 - Iterations: 12 - Regularization: 0.100 ==> MAP@12: 0.00568\n",
      "Factors: 500 - Iterations: 14 - Regularization: 0.010 ==> MAP@12: 0.00572\n",
      "Factors: 500 - Iterations: 14 - Regularization: 0.100 ==> MAP@12: 0.00571\n",
      "Factors: 500 - Iterations: 20 - Regularization: 0.010 ==> MAP@12: 0.00572\n",
      "Factors: 500 - Iterations: 20 - Regularization: 0.100 ==> MAP@12: 0.00571\n",
      "CPU times: user 2min 4s, sys: 1.62 s, total: 2min 5s\n",
      "Wall time: 2min 6s\n"
     ]
    }
   ],
   "source": [
    "%%time\n",
    "# パラメータ探索\n",
    "best_map12 = 0\n",
    "#for factors in [40, 50, 60, 100, 200, 500, 1000]:\n",
    "for factors in [100, 200, 500]:\n",
    "    #for iterations in [3, 12, 14, 15, 20]:\n",
    "    for iterations in [3, 12, 14, 20]:\n",
    "        #for regularization in [0.01]: \n",
    "        for regularization in [0.01, 0.1]:\n",
    "            map12 = validate(matrices, factors, iterations, regularization, show_progress=False)\n",
    "            if map12 > best_map12:\n",
    "                best_map12 = map12\n",
    "                best_params = {'factors': factors, 'iterations': iterations, 'regularization': regularization}\n",
    "                print(f\"Best MAP@12 found. Updating: {best_params}\")"
   ]
  },
  {
   "cell_type": "code",
   "execution_count": 15,
   "id": "b48c949a",
   "metadata": {
    "execution": {
     "iopub.execute_input": "2022-05-08T11:59:03.427399Z",
     "iopub.status.busy": "2022-05-08T11:59:03.426530Z",
     "iopub.status.idle": "2022-05-08T11:59:03.429716Z",
     "shell.execute_reply": "2022-05-08T11:59:03.430324Z",
     "shell.execute_reply.started": "2022-05-08T08:47:35.191978Z"
    },
    "papermill": {
     "duration": 0.059173,
     "end_time": "2022-05-08T11:59:03.430499",
     "exception": false,
     "start_time": "2022-05-08T11:59:03.371326",
     "status": "completed"
    },
    "tags": []
   },
   "outputs": [],
   "source": [
    "del matrices"
   ]
  },
  {
   "cell_type": "code",
   "execution_count": 16,
   "id": "64aeb6bd",
   "metadata": {
    "execution": {
     "iopub.execute_input": "2022-05-08T11:59:03.543954Z",
     "iopub.status.busy": "2022-05-08T11:59:03.542871Z",
     "iopub.status.idle": "2022-05-08T11:59:03.545151Z",
     "shell.execute_reply": "2022-05-08T11:59:03.545759Z",
     "shell.execute_reply.started": "2022-05-08T08:47:35.198386Z"
    },
    "papermill": {
     "duration": 0.065174,
     "end_time": "2022-05-08T11:59:03.545925",
     "exception": false,
     "start_time": "2022-05-08T11:59:03.480751",
     "status": "completed"
    },
    "tags": []
   },
   "outputs": [],
   "source": [
    "# 1 month: MAP@12: 0.00676\n",
    "# 1 month, N >= 50: MAP@12: 0.00855"
   ]
  },
  {
   "cell_type": "markdown",
   "id": "70e5d1fb",
   "metadata": {
    "papermill": {
     "duration": 0.050349,
     "end_time": "2022-05-08T11:59:03.647161",
     "exception": false,
     "start_time": "2022-05-08T11:59:03.596812",
     "status": "completed"
    },
    "tags": []
   },
   "source": [
    "# Training over the full dataset"
   ]
  },
  {
   "cell_type": "code",
   "execution_count": 17,
   "id": "11a72564",
   "metadata": {
    "execution": {
     "iopub.execute_input": "2022-05-08T11:59:03.758335Z",
     "iopub.status.busy": "2022-05-08T11:59:03.756779Z",
     "iopub.status.idle": "2022-05-08T11:59:03.843735Z",
     "shell.execute_reply": "2022-05-08T11:59:03.842978Z",
     "shell.execute_reply.started": "2022-05-08T08:32:26.710962Z"
    },
    "papermill": {
     "duration": 0.144865,
     "end_time": "2022-05-08T11:59:03.843891",
     "exception": false,
     "start_time": "2022-05-08T11:59:03.699026",
     "status": "completed"
    },
    "tags": []
   },
   "outputs": [],
   "source": [
    "coo_train = to_user_item_coo(df) # (これ既に計算してなかったっけ?) 全データを使う\n",
    "csr_train = coo_train.tocsr()"
   ]
  },
  {
   "cell_type": "code",
   "execution_count": 18,
   "id": "fd2bf772",
   "metadata": {
    "execution": {
     "iopub.execute_input": "2022-05-08T11:59:03.954835Z",
     "iopub.status.busy": "2022-05-08T11:59:03.953872Z",
     "iopub.status.idle": "2022-05-08T11:59:03.956770Z",
     "shell.execute_reply": "2022-05-08T11:59:03.957302Z",
     "shell.execute_reply.started": "2022-05-08T08:32:29.701173Z"
    },
    "papermill": {
     "duration": 0.062156,
     "end_time": "2022-05-08T11:59:03.957466",
     "exception": false,
     "start_time": "2022-05-08T11:59:03.895310",
     "status": "completed"
    },
    "tags": []
   },
   "outputs": [],
   "source": [
    "def train(coo_train, factors=200, iterations=15, regularization=0.01, show_progress=True):\n",
    "    model = implicit.als.AlternatingLeastSquares(factors=factors, \n",
    "                                                 iterations=iterations, \n",
    "                                                 regularization=regularization, \n",
    "                                                 random_state=42)\n",
    "    model.fit(coo_train, show_progress=show_progress)\n",
    "    return model"
   ]
  },
  {
   "cell_type": "code",
   "execution_count": 19,
   "id": "036ab0ae",
   "metadata": {
    "execution": {
     "iopub.execute_input": "2022-05-08T11:59:04.064521Z",
     "iopub.status.busy": "2022-05-08T11:59:04.063678Z",
     "iopub.status.idle": "2022-05-08T11:59:04.067160Z",
     "shell.execute_reply": "2022-05-08T11:59:04.067717Z",
     "shell.execute_reply.started": "2022-05-08T08:32:30.162533Z"
    },
    "papermill": {
     "duration": 0.060139,
     "end_time": "2022-05-08T11:59:04.067868",
     "exception": false,
     "start_time": "2022-05-08T11:59:04.007729",
     "status": "completed"
    },
    "tags": []
   },
   "outputs": [
    {
     "data": {
      "text/plain": [
       "{'factors': 500, 'iterations': 3, 'regularization': 0.1}"
      ]
     },
     "execution_count": 19,
     "metadata": {},
     "output_type": "execute_result"
    }
   ],
   "source": [
    "best_params"
   ]
  },
  {
   "cell_type": "code",
   "execution_count": 20,
   "id": "2fbc6cd0",
   "metadata": {
    "execution": {
     "iopub.execute_input": "2022-05-08T11:59:04.173984Z",
     "iopub.status.busy": "2022-05-08T11:59:04.172594Z",
     "iopub.status.idle": "2022-05-08T11:59:07.201444Z",
     "shell.execute_reply": "2022-05-08T11:59:07.203464Z",
     "shell.execute_reply.started": "2022-05-08T08:32:30.439793Z"
    },
    "papermill": {
     "duration": 3.086432,
     "end_time": "2022-05-08T11:59:07.203752",
     "exception": false,
     "start_time": "2022-05-08T11:59:04.117320",
     "status": "completed"
    },
    "tags": []
   },
   "outputs": [
    {
     "data": {
      "application/vnd.jupyter.widget-view+json": {
       "model_id": "00eb47a2ab204c32962665734e1f8986",
       "version_major": 2,
       "version_minor": 0
      },
      "text/plain": [
       "  0%|          | 0/3 [00:00<?, ?it/s]"
      ]
     },
     "metadata": {},
     "output_type": "display_data"
    }
   ],
   "source": [
    "model = train(coo_train, **best_params)"
   ]
  },
  {
   "cell_type": "markdown",
   "id": "7293fbb3",
   "metadata": {
    "papermill": {
     "duration": 0.049499,
     "end_time": "2022-05-08T11:59:07.308886",
     "exception": false,
     "start_time": "2022-05-08T11:59:07.259387",
     "status": "completed"
    },
    "tags": []
   },
   "source": [
    "# Submission"
   ]
  },
  {
   "cell_type": "markdown",
   "id": "53484494",
   "metadata": {
    "papermill": {
     "duration": 0.050719,
     "end_time": "2022-05-08T11:59:07.408694",
     "exception": false,
     "start_time": "2022-05-08T11:59:07.357975",
     "status": "completed"
    },
    "tags": []
   },
   "source": [
    "## Submission function"
   ]
  },
  {
   "cell_type": "code",
   "execution_count": 21,
   "id": "c5502a10",
   "metadata": {
    "execution": {
     "iopub.execute_input": "2022-05-08T11:59:07.519849Z",
     "iopub.status.busy": "2022-05-08T11:59:07.518823Z",
     "iopub.status.idle": "2022-05-08T11:59:07.521502Z",
     "shell.execute_reply": "2022-05-08T11:59:07.522029Z",
     "shell.execute_reply.started": "2022-05-08T08:33:05.565960Z"
    },
    "papermill": {
     "duration": 0.063325,
     "end_time": "2022-05-08T11:59:07.522200",
     "exception": false,
     "start_time": "2022-05-08T11:59:07.458875",
     "status": "completed"
    },
    "tags": []
   },
   "outputs": [],
   "source": [
    "def submit(model, csr_train, submission_name=f\"submissions_{Nrank}.csv\"):\n",
    "    preds = []\n",
    "    batch_size = 2000\n",
    "    to_generate = np.arange(len(ALL_USERS))\n",
    "    for startidx in range(0, len(to_generate), batch_size):\n",
    "        batch = to_generate[startidx : startidx + batch_size]\n",
    "        #ids, scores = model.recommend(batch, csr_train[batch], N=12, filter_already_liked_items=False)\n",
    "        ids, scores = model.recommend(batch, csr_train[batch], N=Nrank, filter_already_liked_items=False)\n",
    "        for i, userid in enumerate(batch):\n",
    "            customer_id = user_ids[userid]\n",
    "            user_items = ids[i]\n",
    "            article_ids = [item_ids[item_id] for item_id in user_items]\n",
    "            preds.append((customer_id, ' '.join(article_ids)))\n",
    "\n",
    "    df_preds = pd.DataFrame(preds, columns=['customer_id', 'prediction'])\n",
    "    df_preds.to_csv(submission_name, index=False)\n",
    "    \n",
    "    display(df_preds.head())\n",
    "    print(df_preds.shape)\n",
    "    \n",
    "    return df_preds"
   ]
  },
  {
   "cell_type": "code",
   "execution_count": 22,
   "id": "8d4852e6",
   "metadata": {
    "execution": {
     "iopub.execute_input": "2022-05-08T11:59:07.628815Z",
     "iopub.status.busy": "2022-05-08T11:59:07.627850Z",
     "iopub.status.idle": "2022-05-08T12:13:50.907083Z",
     "shell.execute_reply": "2022-05-08T12:13:50.906429Z",
     "shell.execute_reply.started": "2022-05-08T08:33:07.091560Z"
    },
    "papermill": {
     "duration": 883.33534,
     "end_time": "2022-05-08T12:13:50.907256",
     "exception": false,
     "start_time": "2022-05-08T11:59:07.571916",
     "status": "completed"
    },
    "tags": []
   },
   "outputs": [
    {
     "data": {
      "text/html": [
       "<div>\n",
       "<style scoped>\n",
       "    .dataframe tbody tr th:only-of-type {\n",
       "        vertical-align: middle;\n",
       "    }\n",
       "\n",
       "    .dataframe tbody tr th {\n",
       "        vertical-align: top;\n",
       "    }\n",
       "\n",
       "    .dataframe thead th {\n",
       "        text-align: right;\n",
       "    }\n",
       "</style>\n",
       "<table border=\"1\" class=\"dataframe\">\n",
       "  <thead>\n",
       "    <tr style=\"text-align: right;\">\n",
       "      <th></th>\n",
       "      <th>customer_id</th>\n",
       "      <th>prediction</th>\n",
       "    </tr>\n",
       "  </thead>\n",
       "  <tbody>\n",
       "    <tr>\n",
       "      <th>0</th>\n",
       "      <td>00000dbacae5abe5e23885899a1fa44253a17956c6d1c3...</td>\n",
       "      <td>0568601043 0858856005 0779781015 0828991003 05...</td>\n",
       "    </tr>\n",
       "    <tr>\n",
       "      <th>1</th>\n",
       "      <td>0000423b00ade91418cceaf3b26c6af3dd342b51fd051e...</td>\n",
       "      <td>0126589011 0126589010 0126589007 0126589006 01...</td>\n",
       "    </tr>\n",
       "    <tr>\n",
       "      <th>2</th>\n",
       "      <td>000058a12d5b43e67d225668fa1f8d618c13dc232df0ca...</td>\n",
       "      <td>0794321007 0794321011 0765743007 0805000001 09...</td>\n",
       "    </tr>\n",
       "    <tr>\n",
       "      <th>3</th>\n",
       "      <td>00005ca1c9ed5f5146b52ac8639a40ca9d57aeff4d1bd2...</td>\n",
       "      <td>0126589011 0126589010 0126589007 0126589006 01...</td>\n",
       "    </tr>\n",
       "    <tr>\n",
       "      <th>4</th>\n",
       "      <td>00006413d8573cd20ed7128e53b7b13819fe5cfc2d801f...</td>\n",
       "      <td>0126589011 0126589010 0126589007 0126589006 01...</td>\n",
       "    </tr>\n",
       "  </tbody>\n",
       "</table>\n",
       "</div>"
      ],
      "text/plain": [
       "                                         customer_id  \\\n",
       "0  00000dbacae5abe5e23885899a1fa44253a17956c6d1c3...   \n",
       "1  0000423b00ade91418cceaf3b26c6af3dd342b51fd051e...   \n",
       "2  000058a12d5b43e67d225668fa1f8d618c13dc232df0ca...   \n",
       "3  00005ca1c9ed5f5146b52ac8639a40ca9d57aeff4d1bd2...   \n",
       "4  00006413d8573cd20ed7128e53b7b13819fe5cfc2d801f...   \n",
       "\n",
       "                                          prediction  \n",
       "0  0568601043 0858856005 0779781015 0828991003 05...  \n",
       "1  0126589011 0126589010 0126589007 0126589006 01...  \n",
       "2  0794321007 0794321011 0765743007 0805000001 09...  \n",
       "3  0126589011 0126589010 0126589007 0126589006 01...  \n",
       "4  0126589011 0126589010 0126589007 0126589006 01...  "
      ]
     },
     "metadata": {},
     "output_type": "display_data"
    },
    {
     "name": "stdout",
     "output_type": "stream",
     "text": [
      "(1371980, 2)\n",
      "CPU times: user 14min 29s, sys: 8.1 s, total: 14min 37s\n",
      "Wall time: 14min 43s\n"
     ]
    }
   ],
   "source": [
    "%%time\n",
    "df_preds = submit(model, csr_train);"
   ]
  },
  {
   "cell_type": "code",
   "execution_count": null,
   "id": "f19afe5e",
   "metadata": {
    "papermill": {
     "duration": 0.054458,
     "end_time": "2022-05-08T12:13:51.017964",
     "exception": false,
     "start_time": "2022-05-08T12:13:50.963506",
     "status": "completed"
    },
    "tags": []
   },
   "outputs": [],
   "source": []
  }
 ],
 "metadata": {
  "kernelspec": {
   "display_name": "Python 3",
   "language": "python",
   "name": "python3"
  },
  "language_info": {
   "codemirror_mode": {
    "name": "ipython",
    "version": 3
   },
   "file_extension": ".py",
   "mimetype": "text/x-python",
   "name": "python",
   "nbconvert_exporter": "python",
   "pygments_lexer": "ipython3",
   "version": "3.7.12"
  },
  "papermill": {
   "default_parameters": {},
   "duration": 1131.442174,
   "end_time": "2022-05-08T12:13:52.593464",
   "environment_variables": {},
   "exception": null,
   "input_path": "__notebook__.ipynb",
   "output_path": "__notebook__.ipynb",
   "parameters": {},
   "start_time": "2022-05-08T11:55:01.151290",
   "version": "2.3.3"
  },
  "widgets": {
   "application/vnd.jupyter.widget-state+json": {
    "state": {
     "0091488399944e4c99cc100a2e3fc613": {
      "model_module": "@jupyter-widgets/controls",
      "model_module_version": "1.5.0",
      "model_name": "HTMLModel",
      "state": {
       "_dom_classes": [],
       "_model_module": "@jupyter-widgets/controls",
       "_model_module_version": "1.5.0",
       "_model_name": "HTMLModel",
       "_view_count": null,
       "_view_module": "@jupyter-widgets/controls",
       "_view_module_version": "1.5.0",
       "_view_name": "HTMLView",
       "description": "",
       "description_tooltip": null,
       "layout": "IPY_MODEL_26191aa4d16e4ba7b25ea1375228053b",
       "placeholder": "​",
       "style": "IPY_MODEL_fc13eef7ae334870bb1457b6181b428d",
       "value": " 3/3 [00:02&lt;00:00,  1.04it/s]"
      }
     },
     "00eb47a2ab204c32962665734e1f8986": {
      "model_module": "@jupyter-widgets/controls",
      "model_module_version": "1.5.0",
      "model_name": "HBoxModel",
      "state": {
       "_dom_classes": [],
       "_model_module": "@jupyter-widgets/controls",
       "_model_module_version": "1.5.0",
       "_model_name": "HBoxModel",
       "_view_count": null,
       "_view_module": "@jupyter-widgets/controls",
       "_view_module_version": "1.5.0",
       "_view_name": "HBoxView",
       "box_style": "",
       "children": [
        "IPY_MODEL_67837c70d6294fa78af7fc1c3b6e87de",
        "IPY_MODEL_44a708e320e24abdb03e9f34f3413d64",
        "IPY_MODEL_0091488399944e4c99cc100a2e3fc613"
       ],
       "layout": "IPY_MODEL_2ce51492638e4689bf963017e3d29827"
      }
     },
     "05e81e75a2b74d009663a600e3d73667": {
      "model_module": "@jupyter-widgets/base",
      "model_module_version": "1.2.0",
      "model_name": "LayoutModel",
      "state": {
       "_model_module": "@jupyter-widgets/base",
       "_model_module_version": "1.2.0",
       "_model_name": "LayoutModel",
       "_view_count": null,
       "_view_module": "@jupyter-widgets/base",
       "_view_module_version": "1.2.0",
       "_view_name": "LayoutView",
       "align_content": null,
       "align_items": null,
       "align_self": null,
       "border": null,
       "bottom": null,
       "display": null,
       "flex": null,
       "flex_flow": null,
       "grid_area": null,
       "grid_auto_columns": null,
       "grid_auto_flow": null,
       "grid_auto_rows": null,
       "grid_column": null,
       "grid_gap": null,
       "grid_row": null,
       "grid_template_areas": null,
       "grid_template_columns": null,
       "grid_template_rows": null,
       "height": null,
       "justify_content": null,
       "justify_items": null,
       "left": null,
       "margin": null,
       "max_height": null,
       "max_width": null,
       "min_height": null,
       "min_width": null,
       "object_fit": null,
       "object_position": null,
       "order": null,
       "overflow": null,
       "overflow_x": null,
       "overflow_y": null,
       "padding": null,
       "right": null,
       "top": null,
       "visibility": null,
       "width": null
      }
     },
     "1533dc2929bb412c9920125f302712ef": {
      "model_module": "@jupyter-widgets/base",
      "model_module_version": "1.2.0",
      "model_name": "LayoutModel",
      "state": {
       "_model_module": "@jupyter-widgets/base",
       "_model_module_version": "1.2.0",
       "_model_name": "LayoutModel",
       "_view_count": null,
       "_view_module": "@jupyter-widgets/base",
       "_view_module_version": "1.2.0",
       "_view_name": "LayoutView",
       "align_content": null,
       "align_items": null,
       "align_self": null,
       "border": null,
       "bottom": null,
       "display": null,
       "flex": null,
       "flex_flow": null,
       "grid_area": null,
       "grid_auto_columns": null,
       "grid_auto_flow": null,
       "grid_auto_rows": null,
       "grid_column": null,
       "grid_gap": null,
       "grid_row": null,
       "grid_template_areas": null,
       "grid_template_columns": null,
       "grid_template_rows": null,
       "height": null,
       "justify_content": null,
       "justify_items": null,
       "left": null,
       "margin": null,
       "max_height": null,
       "max_width": null,
       "min_height": null,
       "min_width": null,
       "object_fit": null,
       "object_position": null,
       "order": null,
       "overflow": null,
       "overflow_x": null,
       "overflow_y": null,
       "padding": null,
       "right": null,
       "top": null,
       "visibility": null,
       "width": null
      }
     },
     "26191aa4d16e4ba7b25ea1375228053b": {
      "model_module": "@jupyter-widgets/base",
      "model_module_version": "1.2.0",
      "model_name": "LayoutModel",
      "state": {
       "_model_module": "@jupyter-widgets/base",
       "_model_module_version": "1.2.0",
       "_model_name": "LayoutModel",
       "_view_count": null,
       "_view_module": "@jupyter-widgets/base",
       "_view_module_version": "1.2.0",
       "_view_name": "LayoutView",
       "align_content": null,
       "align_items": null,
       "align_self": null,
       "border": null,
       "bottom": null,
       "display": null,
       "flex": null,
       "flex_flow": null,
       "grid_area": null,
       "grid_auto_columns": null,
       "grid_auto_flow": null,
       "grid_auto_rows": null,
       "grid_column": null,
       "grid_gap": null,
       "grid_row": null,
       "grid_template_areas": null,
       "grid_template_columns": null,
       "grid_template_rows": null,
       "height": null,
       "justify_content": null,
       "justify_items": null,
       "left": null,
       "margin": null,
       "max_height": null,
       "max_width": null,
       "min_height": null,
       "min_width": null,
       "object_fit": null,
       "object_position": null,
       "order": null,
       "overflow": null,
       "overflow_x": null,
       "overflow_y": null,
       "padding": null,
       "right": null,
       "top": null,
       "visibility": null,
       "width": null
      }
     },
     "2ce51492638e4689bf963017e3d29827": {
      "model_module": "@jupyter-widgets/base",
      "model_module_version": "1.2.0",
      "model_name": "LayoutModel",
      "state": {
       "_model_module": "@jupyter-widgets/base",
       "_model_module_version": "1.2.0",
       "_model_name": "LayoutModel",
       "_view_count": null,
       "_view_module": "@jupyter-widgets/base",
       "_view_module_version": "1.2.0",
       "_view_name": "LayoutView",
       "align_content": null,
       "align_items": null,
       "align_self": null,
       "border": null,
       "bottom": null,
       "display": null,
       "flex": null,
       "flex_flow": null,
       "grid_area": null,
       "grid_auto_columns": null,
       "grid_auto_flow": null,
       "grid_auto_rows": null,
       "grid_column": null,
       "grid_gap": null,
       "grid_row": null,
       "grid_template_areas": null,
       "grid_template_columns": null,
       "grid_template_rows": null,
       "height": null,
       "justify_content": null,
       "justify_items": null,
       "left": null,
       "margin": null,
       "max_height": null,
       "max_width": null,
       "min_height": null,
       "min_width": null,
       "object_fit": null,
       "object_position": null,
       "order": null,
       "overflow": null,
       "overflow_x": null,
       "overflow_y": null,
       "padding": null,
       "right": null,
       "top": null,
       "visibility": null,
       "width": null
      }
     },
     "304228a84fcd46bd9b3886617e0a3784": {
      "model_module": "@jupyter-widgets/base",
      "model_module_version": "1.2.0",
      "model_name": "LayoutModel",
      "state": {
       "_model_module": "@jupyter-widgets/base",
       "_model_module_version": "1.2.0",
       "_model_name": "LayoutModel",
       "_view_count": null,
       "_view_module": "@jupyter-widgets/base",
       "_view_module_version": "1.2.0",
       "_view_name": "LayoutView",
       "align_content": null,
       "align_items": null,
       "align_self": null,
       "border": null,
       "bottom": null,
       "display": null,
       "flex": null,
       "flex_flow": null,
       "grid_area": null,
       "grid_auto_columns": null,
       "grid_auto_flow": null,
       "grid_auto_rows": null,
       "grid_column": null,
       "grid_gap": null,
       "grid_row": null,
       "grid_template_areas": null,
       "grid_template_columns": null,
       "grid_template_rows": null,
       "height": null,
       "justify_content": null,
       "justify_items": null,
       "left": null,
       "margin": null,
       "max_height": null,
       "max_width": null,
       "min_height": null,
       "min_width": null,
       "object_fit": null,
       "object_position": null,
       "order": null,
       "overflow": null,
       "overflow_x": null,
       "overflow_y": null,
       "padding": null,
       "right": null,
       "top": null,
       "visibility": null,
       "width": null
      }
     },
     "3253bab7e5864de096e0abcc72c383a8": {
      "model_module": "@jupyter-widgets/controls",
      "model_module_version": "1.5.0",
      "model_name": "DescriptionStyleModel",
      "state": {
       "_model_module": "@jupyter-widgets/controls",
       "_model_module_version": "1.5.0",
       "_model_name": "DescriptionStyleModel",
       "_view_count": null,
       "_view_module": "@jupyter-widgets/base",
       "_view_module_version": "1.2.0",
       "_view_name": "StyleView",
       "description_width": ""
      }
     },
     "34fd54cd30e44665915ebea8eb1512df": {
      "model_module": "@jupyter-widgets/controls",
      "model_module_version": "1.5.0",
      "model_name": "ProgressStyleModel",
      "state": {
       "_model_module": "@jupyter-widgets/controls",
       "_model_module_version": "1.5.0",
       "_model_name": "ProgressStyleModel",
       "_view_count": null,
       "_view_module": "@jupyter-widgets/base",
       "_view_module_version": "1.2.0",
       "_view_name": "StyleView",
       "bar_color": null,
       "description_width": ""
      }
     },
     "44a708e320e24abdb03e9f34f3413d64": {
      "model_module": "@jupyter-widgets/controls",
      "model_module_version": "1.5.0",
      "model_name": "FloatProgressModel",
      "state": {
       "_dom_classes": [],
       "_model_module": "@jupyter-widgets/controls",
       "_model_module_version": "1.5.0",
       "_model_name": "FloatProgressModel",
       "_view_count": null,
       "_view_module": "@jupyter-widgets/controls",
       "_view_module_version": "1.5.0",
       "_view_name": "ProgressView",
       "bar_style": "success",
       "description": "",
       "description_tooltip": null,
       "layout": "IPY_MODEL_05e81e75a2b74d009663a600e3d73667",
       "max": 3.0,
       "min": 0.0,
       "orientation": "horizontal",
       "style": "IPY_MODEL_34fd54cd30e44665915ebea8eb1512df",
       "value": 3.0
      }
     },
     "67837c70d6294fa78af7fc1c3b6e87de": {
      "model_module": "@jupyter-widgets/controls",
      "model_module_version": "1.5.0",
      "model_name": "HTMLModel",
      "state": {
       "_dom_classes": [],
       "_model_module": "@jupyter-widgets/controls",
       "_model_module_version": "1.5.0",
       "_model_name": "HTMLModel",
       "_view_count": null,
       "_view_module": "@jupyter-widgets/controls",
       "_view_module_version": "1.5.0",
       "_view_name": "HTMLView",
       "description": "",
       "description_tooltip": null,
       "layout": "IPY_MODEL_ed269570c3af4df1adbf81c6e87baa72",
       "placeholder": "​",
       "style": "IPY_MODEL_bef76a4e70c24a72bc4577a4ae7bd35f",
       "value": "100%"
      }
     },
     "7041815effdb4929ad29a492f4091cf5": {
      "model_module": "@jupyter-widgets/base",
      "model_module_version": "1.2.0",
      "model_name": "LayoutModel",
      "state": {
       "_model_module": "@jupyter-widgets/base",
       "_model_module_version": "1.2.0",
       "_model_name": "LayoutModel",
       "_view_count": null,
       "_view_module": "@jupyter-widgets/base",
       "_view_module_version": "1.2.0",
       "_view_name": "LayoutView",
       "align_content": null,
       "align_items": null,
       "align_self": null,
       "border": null,
       "bottom": null,
       "display": null,
       "flex": null,
       "flex_flow": null,
       "grid_area": null,
       "grid_auto_columns": null,
       "grid_auto_flow": null,
       "grid_auto_rows": null,
       "grid_column": null,
       "grid_gap": null,
       "grid_row": null,
       "grid_template_areas": null,
       "grid_template_columns": null,
       "grid_template_rows": null,
       "height": null,
       "justify_content": null,
       "justify_items": null,
       "left": null,
       "margin": null,
       "max_height": null,
       "max_width": null,
       "min_height": null,
       "min_width": null,
       "object_fit": null,
       "object_position": null,
       "order": null,
       "overflow": null,
       "overflow_x": null,
       "overflow_y": null,
       "padding": null,
       "right": null,
       "top": null,
       "visibility": null,
       "width": null
      }
     },
     "82e05820ee68409eba699207c1ba5b84": {
      "model_module": "@jupyter-widgets/controls",
      "model_module_version": "1.5.0",
      "model_name": "HTMLModel",
      "state": {
       "_dom_classes": [],
       "_model_module": "@jupyter-widgets/controls",
       "_model_module_version": "1.5.0",
       "_model_name": "HTMLModel",
       "_view_count": null,
       "_view_module": "@jupyter-widgets/controls",
       "_view_module_version": "1.5.0",
       "_view_name": "HTMLView",
       "description": "",
       "description_tooltip": null,
       "layout": "IPY_MODEL_7041815effdb4929ad29a492f4091cf5",
       "placeholder": "​",
       "style": "IPY_MODEL_a3aee4d42b254dbf97c7058134c77bdd",
       "value": "100%"
      }
     },
     "8e6aaf78206c45219ff6d59d9a80c292": {
      "model_module": "@jupyter-widgets/controls",
      "model_module_version": "1.5.0",
      "model_name": "ProgressStyleModel",
      "state": {
       "_model_module": "@jupyter-widgets/controls",
       "_model_module_version": "1.5.0",
       "_model_name": "ProgressStyleModel",
       "_view_count": null,
       "_view_module": "@jupyter-widgets/base",
       "_view_module_version": "1.2.0",
       "_view_name": "StyleView",
       "bar_color": null,
       "description_width": ""
      }
     },
     "928baa11305049bc9f4606e08973adbf": {
      "model_module": "@jupyter-widgets/controls",
      "model_module_version": "1.5.0",
      "model_name": "HBoxModel",
      "state": {
       "_dom_classes": [],
       "_model_module": "@jupyter-widgets/controls",
       "_model_module_version": "1.5.0",
       "_model_name": "HBoxModel",
       "_view_count": null,
       "_view_module": "@jupyter-widgets/controls",
       "_view_module_version": "1.5.0",
       "_view_name": "HBoxView",
       "box_style": "",
       "children": [
        "IPY_MODEL_82e05820ee68409eba699207c1ba5b84",
        "IPY_MODEL_d2c05b4da1d046ad94fd65c38e0907b1",
        "IPY_MODEL_9a102ffa5ed74eeb983be0aa1c84949e"
       ],
       "layout": "IPY_MODEL_304228a84fcd46bd9b3886617e0a3784"
      }
     },
     "9a102ffa5ed74eeb983be0aa1c84949e": {
      "model_module": "@jupyter-widgets/controls",
      "model_module_version": "1.5.0",
      "model_name": "HTMLModel",
      "state": {
       "_dom_classes": [],
       "_model_module": "@jupyter-widgets/controls",
       "_model_module_version": "1.5.0",
       "_model_name": "HTMLModel",
       "_view_count": null,
       "_view_module": "@jupyter-widgets/controls",
       "_view_module_version": "1.5.0",
       "_view_name": "HTMLView",
       "description": "",
       "description_tooltip": null,
       "layout": "IPY_MODEL_c4f94c2c4791455eafa4ca3be24d671d",
       "placeholder": "​",
       "style": "IPY_MODEL_3253bab7e5864de096e0abcc72c383a8",
       "value": " 2/2 [00:01&lt;00:00,  1.02it/s]"
      }
     },
     "a3aee4d42b254dbf97c7058134c77bdd": {
      "model_module": "@jupyter-widgets/controls",
      "model_module_version": "1.5.0",
      "model_name": "DescriptionStyleModel",
      "state": {
       "_model_module": "@jupyter-widgets/controls",
       "_model_module_version": "1.5.0",
       "_model_name": "DescriptionStyleModel",
       "_view_count": null,
       "_view_module": "@jupyter-widgets/base",
       "_view_module_version": "1.2.0",
       "_view_name": "StyleView",
       "description_width": ""
      }
     },
     "bef76a4e70c24a72bc4577a4ae7bd35f": {
      "model_module": "@jupyter-widgets/controls",
      "model_module_version": "1.5.0",
      "model_name": "DescriptionStyleModel",
      "state": {
       "_model_module": "@jupyter-widgets/controls",
       "_model_module_version": "1.5.0",
       "_model_name": "DescriptionStyleModel",
       "_view_count": null,
       "_view_module": "@jupyter-widgets/base",
       "_view_module_version": "1.2.0",
       "_view_name": "StyleView",
       "description_width": ""
      }
     },
     "c4f94c2c4791455eafa4ca3be24d671d": {
      "model_module": "@jupyter-widgets/base",
      "model_module_version": "1.2.0",
      "model_name": "LayoutModel",
      "state": {
       "_model_module": "@jupyter-widgets/base",
       "_model_module_version": "1.2.0",
       "_model_name": "LayoutModel",
       "_view_count": null,
       "_view_module": "@jupyter-widgets/base",
       "_view_module_version": "1.2.0",
       "_view_name": "LayoutView",
       "align_content": null,
       "align_items": null,
       "align_self": null,
       "border": null,
       "bottom": null,
       "display": null,
       "flex": null,
       "flex_flow": null,
       "grid_area": null,
       "grid_auto_columns": null,
       "grid_auto_flow": null,
       "grid_auto_rows": null,
       "grid_column": null,
       "grid_gap": null,
       "grid_row": null,
       "grid_template_areas": null,
       "grid_template_columns": null,
       "grid_template_rows": null,
       "height": null,
       "justify_content": null,
       "justify_items": null,
       "left": null,
       "margin": null,
       "max_height": null,
       "max_width": null,
       "min_height": null,
       "min_width": null,
       "object_fit": null,
       "object_position": null,
       "order": null,
       "overflow": null,
       "overflow_x": null,
       "overflow_y": null,
       "padding": null,
       "right": null,
       "top": null,
       "visibility": null,
       "width": null
      }
     },
     "d2c05b4da1d046ad94fd65c38e0907b1": {
      "model_module": "@jupyter-widgets/controls",
      "model_module_version": "1.5.0",
      "model_name": "FloatProgressModel",
      "state": {
       "_dom_classes": [],
       "_model_module": "@jupyter-widgets/controls",
       "_model_module_version": "1.5.0",
       "_model_name": "FloatProgressModel",
       "_view_count": null,
       "_view_module": "@jupyter-widgets/controls",
       "_view_module_version": "1.5.0",
       "_view_name": "ProgressView",
       "bar_style": "success",
       "description": "",
       "description_tooltip": null,
       "layout": "IPY_MODEL_1533dc2929bb412c9920125f302712ef",
       "max": 2.0,
       "min": 0.0,
       "orientation": "horizontal",
       "style": "IPY_MODEL_8e6aaf78206c45219ff6d59d9a80c292",
       "value": 2.0
      }
     },
     "ed269570c3af4df1adbf81c6e87baa72": {
      "model_module": "@jupyter-widgets/base",
      "model_module_version": "1.2.0",
      "model_name": "LayoutModel",
      "state": {
       "_model_module": "@jupyter-widgets/base",
       "_model_module_version": "1.2.0",
       "_model_name": "LayoutModel",
       "_view_count": null,
       "_view_module": "@jupyter-widgets/base",
       "_view_module_version": "1.2.0",
       "_view_name": "LayoutView",
       "align_content": null,
       "align_items": null,
       "align_self": null,
       "border": null,
       "bottom": null,
       "display": null,
       "flex": null,
       "flex_flow": null,
       "grid_area": null,
       "grid_auto_columns": null,
       "grid_auto_flow": null,
       "grid_auto_rows": null,
       "grid_column": null,
       "grid_gap": null,
       "grid_row": null,
       "grid_template_areas": null,
       "grid_template_columns": null,
       "grid_template_rows": null,
       "height": null,
       "justify_content": null,
       "justify_items": null,
       "left": null,
       "margin": null,
       "max_height": null,
       "max_width": null,
       "min_height": null,
       "min_width": null,
       "object_fit": null,
       "object_position": null,
       "order": null,
       "overflow": null,
       "overflow_x": null,
       "overflow_y": null,
       "padding": null,
       "right": null,
       "top": null,
       "visibility": null,
       "width": null
      }
     },
     "fc13eef7ae334870bb1457b6181b428d": {
      "model_module": "@jupyter-widgets/controls",
      "model_module_version": "1.5.0",
      "model_name": "DescriptionStyleModel",
      "state": {
       "_model_module": "@jupyter-widgets/controls",
       "_model_module_version": "1.5.0",
       "_model_name": "DescriptionStyleModel",
       "_view_count": null,
       "_view_module": "@jupyter-widgets/base",
       "_view_module_version": "1.2.0",
       "_view_name": "StyleView",
       "description_width": ""
      }
     }
    },
    "version_major": 2,
    "version_minor": 0
   }
  }
 },
 "nbformat": 4,
 "nbformat_minor": 5
}
