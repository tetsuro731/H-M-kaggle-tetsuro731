{
 "cells": [
  {
   "cell_type": "markdown",
   "id": "fd0730d8",
   "metadata": {
    "papermill": {
     "duration": 0.012297,
     "end_time": "2022-04-29T10:23:23.480032",
     "exception": false,
     "start_time": "2022-04-29T10:23:23.467735",
     "status": "completed"
    },
    "tags": []
   },
   "source": [
    "# Customers Who Bought This Frequently Buy This!\n",
    "In this notebook we will explore which items were frequently purchased together. Using this information, we can predict which items a customer will buy after we observe what they have already bought!"
   ]
  },
  {
   "cell_type": "code",
   "execution_count": 1,
   "id": "0455cec1",
   "metadata": {
    "execution": {
     "iopub.execute_input": "2022-04-29T10:23:23.514875Z",
     "iopub.status.busy": "2022-04-29T10:23:23.514136Z",
     "iopub.status.idle": "2022-04-29T10:23:26.965526Z",
     "shell.execute_reply": "2022-04-29T10:23:26.964782Z",
     "shell.execute_reply.started": "2022-04-29T02:38:24.72382Z"
    },
    "papermill": {
     "duration": 3.472777,
     "end_time": "2022-04-29T10:23:26.965730",
     "exception": false,
     "start_time": "2022-04-29T10:23:23.492953",
     "status": "completed"
    },
    "tags": []
   },
   "outputs": [
    {
     "name": "stdout",
     "output_type": "stream",
     "text": [
      "RAPIDS version 21.10.01\n"
     ]
    }
   ],
   "source": [
    "import cudf, gc\n",
    "import numpy as np\n",
    "import cv2, matplotlib.pyplot as plt\n",
    "from os.path import exists\n",
    "print('RAPIDS version',cudf.__version__)"
   ]
  },
  {
   "cell_type": "markdown",
   "id": "1e59937b",
   "metadata": {
    "papermill": {
     "duration": 0.013269,
     "end_time": "2022-04-29T10:23:26.990728",
     "exception": false,
     "start_time": "2022-04-29T10:23:26.977459",
     "status": "completed"
    },
    "tags": []
   },
   "source": [
    "# Load Tranactions"
   ]
  },
  {
   "cell_type": "code",
   "execution_count": 2,
   "id": "24750bf0",
   "metadata": {
    "execution": {
     "iopub.execute_input": "2022-04-29T10:23:27.016724Z",
     "iopub.status.busy": "2022-04-29T10:23:27.015954Z",
     "iopub.status.idle": "2022-04-29T10:23:27.018344Z",
     "shell.execute_reply": "2022-04-29T10:23:27.017914Z",
     "shell.execute_reply.started": "2022-04-29T02:38:34.355263Z"
    },
    "papermill": {
     "duration": 0.016828,
     "end_time": "2022-04-29T10:23:27.018447",
     "exception": false,
     "start_time": "2022-04-29T10:23:27.001619",
     "status": "completed"
    },
    "tags": []
   },
   "outputs": [],
   "source": [
    "#log_date = '2020-09-23'\n",
    "#log_date = '2020-09-16'\n",
    "#log_date = '2020-09-09'\n",
    "log_date = '2020-09-02'\n",
    "Ntop = 2\n",
    "ch = 'on'"
   ]
  },
  {
   "cell_type": "code",
   "execution_count": 3,
   "id": "d1921fa3",
   "metadata": {
    "execution": {
     "iopub.execute_input": "2022-04-29T10:23:27.044495Z",
     "iopub.status.busy": "2022-04-29T10:23:27.044019Z",
     "iopub.status.idle": "2022-04-29T10:24:08.148258Z",
     "shell.execute_reply": "2022-04-29T10:24:08.148884Z",
     "shell.execute_reply.started": "2022-04-29T02:38:35.733792Z"
    },
    "papermill": {
     "duration": 41.119824,
     "end_time": "2022-04-29T10:24:08.149083",
     "exception": false,
     "start_time": "2022-04-29T10:23:27.029259",
     "status": "completed"
    },
    "tags": []
   },
   "outputs": [
    {
     "name": "stdout",
     "output_type": "stream",
     "text": [
      "Transactions shape (31788324, 5)\n"
     ]
    }
   ],
   "source": [
    "# LOAD TRANSACTIONS DATAFRAME\n",
    "df = cudf.read_csv('../input/h-and-m-personalized-fashion-recommendations/transactions_train.csv')\n",
    "print('Transactions shape',df.shape)\n",
    "\n",
    "df.t_dat = cudf.to_datetime(df.t_dat)\n",
    "log_date_dt = cudf.to_datetime(log_date)\n",
    "df = df[df.t_dat < log_date_dt]"
   ]
  },
  {
   "cell_type": "code",
   "execution_count": 4,
   "id": "eabe9800",
   "metadata": {
    "execution": {
     "iopub.execute_input": "2022-04-29T10:24:08.179508Z",
     "iopub.status.busy": "2022-04-29T10:24:08.178814Z",
     "iopub.status.idle": "2022-04-29T10:24:08.292854Z",
     "shell.execute_reply": "2022-04-29T10:24:08.292394Z",
     "shell.execute_reply.started": "2022-04-29T02:41:34.398429Z"
    },
    "papermill": {
     "duration": 0.131873,
     "end_time": "2022-04-29T10:24:08.292979",
     "exception": false,
     "start_time": "2022-04-29T10:24:08.161106",
     "status": "completed"
    },
    "tags": []
   },
   "outputs": [],
   "source": [
    "# filter online/offline\n",
    "if ch == 'off':\n",
    "    df = df[df['sales_channel_id'] == 1]\n",
    "else:\n",
    "    df = df[df['sales_channel_id'] == 2]"
   ]
  },
  {
   "cell_type": "code",
   "execution_count": 5,
   "id": "f67e1804",
   "metadata": {
    "execution": {
     "iopub.execute_input": "2022-04-29T10:24:08.342486Z",
     "iopub.status.busy": "2022-04-29T10:24:08.341727Z",
     "iopub.status.idle": "2022-04-29T10:24:08.804827Z",
     "shell.execute_reply": "2022-04-29T10:24:08.805239Z",
     "shell.execute_reply.started": "2022-04-29T02:42:29.316681Z"
    },
    "papermill": {
     "duration": 0.501194,
     "end_time": "2022-04-29T10:24:08.805390",
     "exception": false,
     "start_time": "2022-04-29T10:24:08.304196",
     "status": "completed"
    },
    "tags": []
   },
   "outputs": [
    {
     "data": {
      "text/html": [
       "<div>\n",
       "<style scoped>\n",
       "    .dataframe tbody tr th:only-of-type {\n",
       "        vertical-align: middle;\n",
       "    }\n",
       "\n",
       "    .dataframe tbody tr th {\n",
       "        vertical-align: top;\n",
       "    }\n",
       "\n",
       "    .dataframe thead th {\n",
       "        text-align: right;\n",
       "    }\n",
       "</style>\n",
       "<table border=\"1\" class=\"dataframe\">\n",
       "  <thead>\n",
       "    <tr style=\"text-align: right;\">\n",
       "      <th></th>\n",
       "      <th>customer_id</th>\n",
       "      <th>article_id</th>\n",
       "    </tr>\n",
       "  </thead>\n",
       "  <tbody>\n",
       "    <tr>\n",
       "      <th>0</th>\n",
       "      <td>-6846340800584936</td>\n",
       "      <td>663713001</td>\n",
       "    </tr>\n",
       "    <tr>\n",
       "      <th>1</th>\n",
       "      <td>-6846340800584936</td>\n",
       "      <td>541518023</td>\n",
       "    </tr>\n",
       "    <tr>\n",
       "      <th>2</th>\n",
       "      <td>-8334631767138808638</td>\n",
       "      <td>505221004</td>\n",
       "    </tr>\n",
       "    <tr>\n",
       "      <th>3</th>\n",
       "      <td>-8334631767138808638</td>\n",
       "      <td>685687003</td>\n",
       "    </tr>\n",
       "    <tr>\n",
       "      <th>4</th>\n",
       "      <td>-8334631767138808638</td>\n",
       "      <td>685687004</td>\n",
       "    </tr>\n",
       "  </tbody>\n",
       "</table>\n",
       "</div>"
      ],
      "text/plain": [
       "           customer_id  article_id\n",
       "0    -6846340800584936   663713001\n",
       "1    -6846340800584936   541518023\n",
       "2 -8334631767138808638   505221004\n",
       "3 -8334631767138808638   685687003\n",
       "4 -8334631767138808638   685687004"
      ]
     },
     "metadata": {},
     "output_type": "display_data"
    }
   ],
   "source": [
    "# REDUCE MEMORY OF DATAFRAME\n",
    "df = df[['customer_id','article_id']]\n",
    "df.customer_id = df.customer_id.str[-16:].str.hex_to_int().astype('int64')\n",
    "df.article_id = df.article_id.astype('int32')\n",
    "display( df.head() )\n",
    "\n",
    "_ = gc.collect()"
   ]
  },
  {
   "cell_type": "markdown",
   "id": "ba6d9147",
   "metadata": {
    "papermill": {
     "duration": 0.011825,
     "end_time": "2022-04-29T10:24:08.829148",
     "exception": false,
     "start_time": "2022-04-29T10:24:08.817323",
     "status": "completed"
    },
    "tags": []
   },
   "source": [
    "# Find Items Purchased Together\n",
    "We will use RAPID cuDF to speed up the dataframe search commands below"
   ]
  },
  {
   "cell_type": "code",
   "execution_count": 6,
   "id": "75e02b56",
   "metadata": {
    "execution": {
     "iopub.execute_input": "2022-04-29T10:24:08.859258Z",
     "iopub.status.busy": "2022-04-29T10:24:08.858598Z",
     "iopub.status.idle": "2022-04-29T10:24:08.904236Z",
     "shell.execute_reply": "2022-04-29T10:24:08.904643Z",
     "shell.execute_reply.started": "2022-04-29T02:42:43.344861Z"
    },
    "papermill": {
     "duration": 0.063692,
     "end_time": "2022-04-29T10:24:08.904774",
     "exception": false,
     "start_time": "2022-04-29T10:24:08.841082",
     "status": "completed"
    },
    "tags": []
   },
   "outputs": [
    {
     "data": {
      "text/plain": [
       "706016001    41244\n",
       "706016002    28724\n",
       "610776002    21359\n",
       "562245001    19413\n",
       "706016003    19009\n",
       "             ...  \n",
       "877374002       76\n",
       "487932043       76\n",
       "626442021       76\n",
       "690782001       76\n",
       "593446004       76\n",
       "Name: article_id, Length: 40651, dtype: int32"
      ]
     },
     "execution_count": 6,
     "metadata": {},
     "output_type": "execute_result"
    }
   ],
   "source": [
    "# FIND ITEMS PURCHASED TOGETHER\n",
    "vc = df.article_id.value_counts()\n",
    "# 少なすぎるものは削る。vc>50でだいたい半分くらいになる\n",
    "Nth = 100\n",
    "if ch == 'off':\n",
    "    Nth = 25\n",
    "else:\n",
    "    Nth = 75\n",
    "    \n",
    "vc = vc[vc>Nth]\n",
    "vc"
   ]
  },
  {
   "cell_type": "code",
   "execution_count": 7,
   "id": "31b3326e",
   "metadata": {
    "execution": {
     "iopub.execute_input": "2022-04-29T10:24:08.936243Z",
     "iopub.status.busy": "2022-04-29T10:24:08.935439Z",
     "iopub.status.idle": "2022-04-29T12:28:19.755138Z",
     "shell.execute_reply": "2022-04-29T12:28:19.754557Z",
     "shell.execute_reply.started": "2022-04-29T02:43:12.625117Z"
    },
    "papermill": {
     "duration": 7450.838488,
     "end_time": "2022-04-29T12:28:19.755296",
     "exception": false,
     "start_time": "2022-04-29T10:24:08.916808",
     "status": "completed"
    },
    "tags": []
   },
   "outputs": [
    {
     "name": "stdout",
     "output_type": "stream",
     "text": [
      "0 , 100 , 200 , 300 , 400 , 500 , 600 , 700 , 800 , 900 , 1000 , 1100 , 1200 , 1300 , 1400 , 1500 , 1600 , 1700 , 1800 , 1900 , 2000 , 2100 , 2200 , 2300 , 2400 , 2500 , 2600 , 2700 , 2800 , 2900 , 3000 , 3100 , 3200 , 3300 , 3400 , 3500 , 3600 , 3700 , 3800 , 3900 , 4000 , 4100 , 4200 , 4300 , 4400 , 4500 , 4600 , 4700 , 4800 , 4900 , 5000 , 5100 , 5200 , 5300 , 5400 , 5500 , 5600 , 5700 , 5800 , 5900 , 6000 , 6100 , 6200 , 6300 , 6400 , 6500 , 6600 , 6700 , 6800 , 6900 , 7000 , 7100 , 7200 , 7300 , 7400 , 7500 , 7600 , 7700 , 7800 , 7900 , 8000 , 8100 , 8200 , 8300 , 8400 , 8500 , 8600 , 8700 , 8800 , 8900 , 9000 , 9100 , 9200 , 9300 , 9400 , 9500 , 9600 , 9700 , 9800 , 9900 , 10000 , 10100 , 10200 , 10300 , 10400 , 10500 , 10600 , 10700 , 10800 , 10900 , 11000 , 11100 , 11200 , 11300 , 11400 , 11500 , 11600 , 11700 , 11800 , 11900 , 12000 , 12100 , 12200 , 12300 , 12400 , 12500 , 12600 , 12700 , 12800 , 12900 , 13000 , 13100 , 13200 , 13300 , 13400 , 13500 , 13600 , 13700 , 13800 , 13900 , 14000 , 14100 , 14200 , 14300 , 14400 , 14500 , 14600 , 14700 , 14800 , 14900 , 15000 , 15100 , 15200 , 15300 , 15400 , 15500 , 15600 , 15700 , 15800 , 15900 , 16000 , 16100 , 16200 , 16300 , 16400 , 16500 , 16600 , 16700 , 16800 , 16900 , 17000 , 17100 , 17200 , 17300 , 17400 , 17500 , 17600 , 17700 , 17800 , 17900 , 18000 , 18100 , 18200 , 18300 , 18400 , 18500 , 18600 , 18700 , 18800 , 18900 , 19000 , 19100 , 19200 , 19300 , 19400 , 19500 , 19600 , 19700 , 19800 , 19900 , 20000 , 20100 , 20200 , 20300 , 20400 , 20500 , 20600 , 20700 , 20800 , 20900 , 21000 , 21100 , 21200 , 21300 , 21400 , 21500 , 21600 , 21700 , 21800 , 21900 , 22000 , 22100 , 22200 , 22300 , 22400 , 22500 , 22600 , 22700 , 22800 , 22900 , 23000 , 23100 , 23200 , 23300 , 23400 , 23500 , 23600 , 23700 , 23800 , 23900 , 24000 , 24100 , 24200 , 24300 , 24400 , 24500 , 24600 , 24700 , 24800 , 24900 , 25000 , 25100 , 25200 , 25300 , 25400 , 25500 , 25600 , 25700 , 25800 , 25900 , 26000 , 26100 , 26200 , 26300 , 26400 , 26500 , 26600 , 26700 , 26800 , 26900 , 27000 , 27100 , 27200 , 27300 , 27400 , 27500 , 27600 , 27700 , 27800 , 27900 , 28000 , 28100 , 28200 , 28300 , 28400 , 28500 , 28600 , 28700 , 28800 , 28900 , 29000 , 29100 , 29200 , 29300 , 29400 , 29500 , 29600 , 29700 , 29800 , 29900 , 30000 , 30100 , 30200 , 30300 , 30400 , 30500 , 30600 , 30700 , 30800 , 30900 , 31000 , 31100 , 31200 , 31300 , 31400 , 31500 , 31600 , 31700 , 31800 , 31900 , 32000 , 32100 , 32200 , 32300 , 32400 , 32500 , 32600 , 32700 , 32800 , 32900 , 33000 , 33100 , 33200 , 33300 , 33400 , 33500 , 33600 , 33700 , 33800 , 33900 , 34000 , 34100 , 34200 , 34300 , 34400 , 34500 , 34600 , 34700 , 34800 , 34900 , 35000 , 35100 , 35200 , 35300 , 35400 , 35500 , 35600 , 35700 , 35800 , 35900 , 36000 , 36100 , 36200 , 36300 , 36400 , 36500 , 36600 , 36700 , 36800 , 36900 , 37000 , 37100 , 37200 , 37300 , 37400 , 37500 , 37600 , 37700 , 37800 , 37900 , 38000 , 38100 , 38200 , 38300 , 38400 , 38500 , 38600 , 38700 , 38800 , 38900 , 39000 , 39100 , 39200 , 39300 , 39400 , 39500 , 39600 , 39700 , 39800 , 39900 , 40000 , 40100 , 40200 , 40300 , 40400 , 40500 , 40600 , "
     ]
    }
   ],
   "source": [
    "# FIND ITEMS PURCHASED TOGETHER\n",
    "pairs = {}\n",
    "pairs_np = {} # cudfでなくても読める用\n",
    "for j,i in enumerate(vc.index.values):\n",
    "#for j,i in enumerate(vc.index.values[:100]):\n",
    "    if j%100==0: print(j,', ',end='')\n",
    "    USERS = df.loc[df.article_id==i.item(),'customer_id'].unique() # 特定のarticleを買っているcustomer\n",
    "    vc2 = df.loc[(df.customer_id.isin(USERS))&(df.article_id!=i.item()),'article_id'].value_counts() # 自分自身を除く、同時に買われたarticle\n",
    "    pairs[i.item()] = vc2.index[:Ntop] \n",
    "    #pairs_np[i.item()] = vc2.index[:Ntop].to_array()"
   ]
  },
  {
   "cell_type": "code",
   "execution_count": 8,
   "id": "c28835f7",
   "metadata": {
    "execution": {
     "iopub.execute_input": "2022-04-29T12:28:20.076051Z",
     "iopub.status.busy": "2022-04-29T12:28:20.071139Z",
     "iopub.status.idle": "2022-04-29T12:28:20.221139Z",
     "shell.execute_reply": "2022-04-29T12:28:20.220703Z",
     "shell.execute_reply.started": "2022-04-29T02:43:52.144055Z"
    },
    "papermill": {
     "duration": 0.329308,
     "end_time": "2022-04-29T12:28:20.221263",
     "exception": false,
     "start_time": "2022-04-29T12:28:19.891955",
     "status": "completed"
    },
    "tags": []
   },
   "outputs": [
    {
     "name": "stdout",
     "output_type": "stream",
     "text": [
      "2.0\n"
     ]
    }
   ],
   "source": [
    "sum_pair = len(pairs)\n",
    "s = 0\n",
    "for v in pairs.values():\n",
    "    s += len(v)\n",
    "print(s/sum_pair) # mapの長さの平均値"
   ]
  },
  {
   "cell_type": "code",
   "execution_count": 9,
   "id": "f08f2b6d",
   "metadata": {
    "execution": {
     "iopub.execute_input": "2022-04-29T12:28:20.498366Z",
     "iopub.status.busy": "2022-04-29T12:28:20.497525Z",
     "iopub.status.idle": "2022-04-29T12:28:24.063285Z",
     "shell.execute_reply": "2022-04-29T12:28:24.040273Z",
     "shell.execute_reply.started": "2022-04-29T02:43:52.146472Z"
    },
    "papermill": {
     "duration": 3.705295,
     "end_time": "2022-04-29T12:28:24.063434",
     "exception": false,
     "start_time": "2022-04-29T12:28:20.358139",
     "status": "completed"
    },
    "tags": []
   },
   "outputs": [],
   "source": [
    "np.save(f'pairs_cudf_{log_date}_{Ntop}_{ch}.npy', pairs)"
   ]
  },
  {
   "cell_type": "code",
   "execution_count": null,
   "id": "00942aa7",
   "metadata": {
    "papermill": {
     "duration": 0.140805,
     "end_time": "2022-04-29T12:28:24.341164",
     "exception": false,
     "start_time": "2022-04-29T12:28:24.200359",
     "status": "completed"
    },
    "tags": []
   },
   "outputs": [],
   "source": []
  }
 ],
 "metadata": {
  "kernelspec": {
   "display_name": "Python 3",
   "language": "python",
   "name": "python3"
  },
  "language_info": {
   "codemirror_mode": {
    "name": "ipython",
    "version": 3
   },
   "file_extension": ".py",
   "mimetype": "text/x-python",
   "name": "python",
   "nbconvert_exporter": "python",
   "pygments_lexer": "ipython3",
   "version": "3.7.12"
  },
  "papermill": {
   "default_parameters": {},
   "duration": 7511.180957,
   "end_time": "2022-04-29T12:28:26.306972",
   "environment_variables": {},
   "exception": null,
   "input_path": "__notebook__.ipynb",
   "output_path": "__notebook__.ipynb",
   "parameters": {},
   "start_time": "2022-04-29T10:23:15.126015",
   "version": "2.3.3"
  }
 },
 "nbformat": 4,
 "nbformat_minor": 5
}
