{
 "cells": [
  {
   "cell_type": "markdown",
   "id": "6f2e18ab",
   "metadata": {
    "papermill": {
     "duration": 0.009945,
     "end_time": "2022-04-23T15:44:21.484809",
     "exception": false,
     "start_time": "2022-04-23T15:44:21.474864",
     "status": "completed"
    },
    "tags": []
   },
   "source": [
    "# Customers Who Bought This Frequently Buy This!\n",
    "In this notebook we will explore which items were frequently purchased together. Using this information, we can predict which items a customer will buy after we observe what they have already bought!"
   ]
  },
  {
   "cell_type": "code",
   "execution_count": 1,
   "id": "b8498431",
   "metadata": {
    "execution": {
     "iopub.execute_input": "2022-04-23T15:44:21.509288Z",
     "iopub.status.busy": "2022-04-23T15:44:21.507786Z",
     "iopub.status.idle": "2022-04-23T15:44:25.015586Z",
     "shell.execute_reply": "2022-04-23T15:44:25.014785Z",
     "shell.execute_reply.started": "2022-04-23T08:46:29.058488Z"
    },
    "papermill": {
     "duration": 3.521192,
     "end_time": "2022-04-23T15:44:25.015776",
     "exception": false,
     "start_time": "2022-04-23T15:44:21.494584",
     "status": "completed"
    },
    "tags": []
   },
   "outputs": [
    {
     "name": "stdout",
     "output_type": "stream",
     "text": [
      "RAPIDS version 21.10.01\n"
     ]
    }
   ],
   "source": [
    "import cudf, gc\n",
    "import numpy as np\n",
    "import cv2, matplotlib.pyplot as plt\n",
    "from os.path import exists\n",
    "print('RAPIDS version',cudf.__version__)"
   ]
  },
  {
   "cell_type": "markdown",
   "id": "292d2084",
   "metadata": {
    "papermill": {
     "duration": 0.009637,
     "end_time": "2022-04-23T15:44:25.035951",
     "exception": false,
     "start_time": "2022-04-23T15:44:25.026314",
     "status": "completed"
    },
    "tags": []
   },
   "source": [
    "# Load Tranactions"
   ]
  },
  {
   "cell_type": "code",
   "execution_count": 2,
   "id": "7892915b",
   "metadata": {
    "execution": {
     "iopub.execute_input": "2022-04-23T15:44:25.060484Z",
     "iopub.status.busy": "2022-04-23T15:44:25.058868Z",
     "iopub.status.idle": "2022-04-23T15:44:25.061069Z",
     "shell.execute_reply": "2022-04-23T15:44:25.061476Z",
     "shell.execute_reply.started": "2022-04-23T08:46:30.443743Z"
    },
    "papermill": {
     "duration": 0.016109,
     "end_time": "2022-04-23T15:44:25.061599",
     "exception": false,
     "start_time": "2022-04-23T15:44:25.045490",
     "status": "completed"
    },
    "tags": []
   },
   "outputs": [],
   "source": [
    "#log_date = '2020-09-23'\n",
    "#log_date = '2020-09-16'\n",
    "#log_date = '2020-09-09'\n",
    "log_date = '2020-09-02'\n",
    "Ntop = 2"
   ]
  },
  {
   "cell_type": "code",
   "execution_count": 3,
   "id": "8fa5f2fa",
   "metadata": {
    "execution": {
     "iopub.execute_input": "2022-04-23T15:44:25.085115Z",
     "iopub.status.busy": "2022-04-23T15:44:25.084489Z",
     "iopub.status.idle": "2022-04-23T15:45:05.275128Z",
     "shell.execute_reply": "2022-04-23T15:45:05.275590Z",
     "shell.execute_reply.started": "2022-04-23T08:46:32.622034Z"
    },
    "papermill": {
     "duration": 40.2046,
     "end_time": "2022-04-23T15:45:05.275747",
     "exception": false,
     "start_time": "2022-04-23T15:44:25.071147",
     "status": "completed"
    },
    "tags": []
   },
   "outputs": [
    {
     "name": "stdout",
     "output_type": "stream",
     "text": [
      "Transactions shape (31788324, 5)\n"
     ]
    }
   ],
   "source": [
    "# LOAD TRANSACTIONS DATAFRAME\n",
    "df = cudf.read_csv('../input/h-and-m-personalized-fashion-recommendations/transactions_train.csv')\n",
    "print('Transactions shape',df.shape)\n",
    "\n",
    "df.t_dat = cudf.to_datetime(df.t_dat)\n",
    "log_date_dt = cudf.to_datetime(log_date)\n",
    "df = df[df.t_dat < log_date_dt]"
   ]
  },
  {
   "cell_type": "code",
   "execution_count": 4,
   "id": "3ef38e13",
   "metadata": {
    "execution": {
     "iopub.execute_input": "2022-04-23T15:45:05.319021Z",
     "iopub.status.busy": "2022-04-23T15:45:05.318273Z",
     "iopub.status.idle": "2022-04-23T15:45:05.863608Z",
     "shell.execute_reply": "2022-04-23T15:45:05.864032Z",
     "shell.execute_reply.started": "2022-04-23T08:46:35.346161Z"
    },
    "papermill": {
     "duration": 0.578359,
     "end_time": "2022-04-23T15:45:05.864177",
     "exception": false,
     "start_time": "2022-04-23T15:45:05.285818",
     "status": "completed"
    },
    "tags": []
   },
   "outputs": [
    {
     "data": {
      "text/html": [
       "<div>\n",
       "<style scoped>\n",
       "    .dataframe tbody tr th:only-of-type {\n",
       "        vertical-align: middle;\n",
       "    }\n",
       "\n",
       "    .dataframe tbody tr th {\n",
       "        vertical-align: top;\n",
       "    }\n",
       "\n",
       "    .dataframe thead th {\n",
       "        text-align: right;\n",
       "    }\n",
       "</style>\n",
       "<table border=\"1\" class=\"dataframe\">\n",
       "  <thead>\n",
       "    <tr style=\"text-align: right;\">\n",
       "      <th></th>\n",
       "      <th>customer_id</th>\n",
       "      <th>article_id</th>\n",
       "    </tr>\n",
       "  </thead>\n",
       "  <tbody>\n",
       "    <tr>\n",
       "      <th>0</th>\n",
       "      <td>-6846340800584936</td>\n",
       "      <td>663713001</td>\n",
       "    </tr>\n",
       "    <tr>\n",
       "      <th>1</th>\n",
       "      <td>-6846340800584936</td>\n",
       "      <td>541518023</td>\n",
       "    </tr>\n",
       "    <tr>\n",
       "      <th>2</th>\n",
       "      <td>-8334631767138808638</td>\n",
       "      <td>505221004</td>\n",
       "    </tr>\n",
       "    <tr>\n",
       "      <th>3</th>\n",
       "      <td>-8334631767138808638</td>\n",
       "      <td>685687003</td>\n",
       "    </tr>\n",
       "    <tr>\n",
       "      <th>4</th>\n",
       "      <td>-8334631767138808638</td>\n",
       "      <td>685687004</td>\n",
       "    </tr>\n",
       "  </tbody>\n",
       "</table>\n",
       "</div>"
      ],
      "text/plain": [
       "           customer_id  article_id\n",
       "0    -6846340800584936   663713001\n",
       "1    -6846340800584936   541518023\n",
       "2 -8334631767138808638   505221004\n",
       "3 -8334631767138808638   685687003\n",
       "4 -8334631767138808638   685687004"
      ]
     },
     "metadata": {},
     "output_type": "display_data"
    }
   ],
   "source": [
    "# REDUCE MEMORY OF DATAFRAME\n",
    "df = df[['customer_id','article_id']]\n",
    "df.customer_id = df.customer_id.str[-16:].str.hex_to_int().astype('int64')\n",
    "df.article_id = df.article_id.astype('int32')\n",
    "display( df.head() )\n",
    "\n",
    "_ = gc.collect()"
   ]
  },
  {
   "cell_type": "markdown",
   "id": "707c5ec9",
   "metadata": {
    "papermill": {
     "duration": 0.010268,
     "end_time": "2022-04-23T15:45:05.885287",
     "exception": false,
     "start_time": "2022-04-23T15:45:05.875019",
     "status": "completed"
    },
    "tags": []
   },
   "source": [
    "# Find Items Purchased Together\n",
    "We will use RAPID cuDF to speed up the dataframe search commands below"
   ]
  },
  {
   "cell_type": "code",
   "execution_count": 5,
   "id": "9a89dfec",
   "metadata": {
    "execution": {
     "iopub.execute_input": "2022-04-23T15:45:05.913640Z",
     "iopub.status.busy": "2022-04-23T15:45:05.913067Z",
     "iopub.status.idle": "2022-04-23T15:45:05.967599Z",
     "shell.execute_reply": "2022-04-23T15:45:05.967153Z",
     "shell.execute_reply.started": "2022-04-23T08:46:35.910609Z"
    },
    "papermill": {
     "duration": 0.071975,
     "end_time": "2022-04-23T15:45:05.967717",
     "exception": false,
     "start_time": "2022-04-23T15:45:05.895742",
     "status": "completed"
    },
    "tags": []
   },
   "outputs": [
    {
     "data": {
      "text/plain": [
       "706016001    48822\n",
       "706016002    34298\n",
       "372860001    30956\n",
       "610776002    29497\n",
       "759871002    26238\n",
       "             ...  \n",
       "894674006      101\n",
       "695166019      101\n",
       "708274002      101\n",
       "720800001      101\n",
       "694131021      101\n",
       "Name: article_id, Length: 43421, dtype: int32"
      ]
     },
     "execution_count": 5,
     "metadata": {},
     "output_type": "execute_result"
    }
   ],
   "source": [
    "# FIND ITEMS PURCHASED TOGETHER\n",
    "vc = df.article_id.value_counts()\n",
    "# 少なすぎるものは削る。vc>50でだいたい半分くらいになる\n",
    "vc = vc[vc>100]\n",
    "vc"
   ]
  },
  {
   "cell_type": "code",
   "execution_count": 6,
   "id": "b3261f9f",
   "metadata": {
    "execution": {
     "iopub.execute_input": "2022-04-23T15:45:05.995836Z",
     "iopub.status.busy": "2022-04-23T15:45:05.995042Z",
     "iopub.status.idle": "2022-04-23T18:35:49.176343Z",
     "shell.execute_reply": "2022-04-23T18:35:49.175788Z",
     "shell.execute_reply.started": "2022-04-23T08:46:41.313978Z"
    },
    "papermill": {
     "duration": 10243.198311,
     "end_time": "2022-04-23T18:35:49.176514",
     "exception": false,
     "start_time": "2022-04-23T15:45:05.978203",
     "status": "completed"
    },
    "tags": []
   },
   "outputs": [
    {
     "name": "stdout",
     "output_type": "stream",
     "text": [
      "0 , 100 , 200 , 300 , 400 , 500 , 600 , 700 , 800 , 900 , 1000 , 1100 , 1200 , 1300 , 1400 , 1500 , 1600 , 1700 , 1800 , 1900 , 2000 , 2100 , 2200 , 2300 , 2400 , 2500 , 2600 , 2700 , 2800 , 2900 , 3000 , 3100 , 3200 , 3300 , 3400 , 3500 , 3600 , 3700 , 3800 , 3900 , 4000 , 4100 , 4200 , 4300 , 4400 , 4500 , 4600 , 4700 , 4800 , 4900 , 5000 , 5100 , 5200 , 5300 , 5400 , 5500 , 5600 , 5700 , 5800 , 5900 , 6000 , 6100 , 6200 , 6300 , 6400 , 6500 , 6600 , 6700 , 6800 , 6900 , 7000 , 7100 , 7200 , 7300 , 7400 , 7500 , 7600 , 7700 , 7800 , 7900 , 8000 , 8100 , 8200 , 8300 , 8400 , 8500 , 8600 , 8700 , 8800 , 8900 , 9000 , 9100 , 9200 , 9300 , 9400 , 9500 , 9600 , 9700 , 9800 , 9900 , 10000 , 10100 , 10200 , 10300 , 10400 , 10500 , 10600 , 10700 , 10800 , 10900 , 11000 , 11100 , 11200 , 11300 , 11400 , 11500 , 11600 , 11700 , 11800 , 11900 , 12000 , 12100 , 12200 , 12300 , 12400 , 12500 , 12600 , 12700 , 12800 , 12900 , 13000 , 13100 , 13200 , 13300 , 13400 , 13500 , 13600 , 13700 , 13800 , 13900 , 14000 , 14100 , 14200 , 14300 , 14400 , 14500 , 14600 , 14700 , 14800 , 14900 , 15000 , 15100 , 15200 , 15300 , 15400 , 15500 , 15600 , 15700 , 15800 , 15900 , 16000 , 16100 , 16200 , 16300 , 16400 , 16500 , 16600 , 16700 , 16800 , 16900 , 17000 , 17100 , 17200 , 17300 , 17400 , 17500 , 17600 , 17700 , 17800 , 17900 , 18000 , 18100 , 18200 , 18300 , 18400 , 18500 , 18600 , 18700 , 18800 , 18900 , 19000 , 19100 , 19200 , 19300 , 19400 , 19500 , 19600 , 19700 , 19800 , 19900 , 20000 , 20100 , 20200 , 20300 , 20400 , 20500 , 20600 , 20700 , 20800 , 20900 , 21000 , 21100 , 21200 , 21300 , 21400 , 21500 , 21600 , 21700 , 21800 , 21900 , 22000 , 22100 , 22200 , 22300 , 22400 , 22500 , 22600 , 22700 , 22800 , 22900 , 23000 , 23100 , 23200 , 23300 , 23400 , 23500 , 23600 , 23700 , 23800 , 23900 , 24000 , 24100 , 24200 , 24300 , 24400 , 24500 , 24600 , 24700 , 24800 , 24900 , 25000 , 25100 , 25200 , 25300 , 25400 , 25500 , 25600 , 25700 , 25800 , 25900 , 26000 , 26100 , 26200 , 26300 , 26400 , 26500 , 26600 , 26700 , 26800 , 26900 , 27000 , 27100 , 27200 , 27300 , 27400 , 27500 , 27600 , 27700 , 27800 , 27900 , 28000 , 28100 , 28200 , 28300 , 28400 , 28500 , 28600 , 28700 , 28800 , 28900 , 29000 , 29100 , 29200 , 29300 , 29400 , 29500 , 29600 , 29700 , 29800 , 29900 , 30000 , 30100 , 30200 , 30300 , 30400 , 30500 , 30600 , 30700 , 30800 , 30900 , 31000 , 31100 , 31200 , 31300 , 31400 , 31500 , 31600 , 31700 , 31800 , 31900 , 32000 , 32100 , 32200 , 32300 , 32400 , 32500 , 32600 , 32700 , 32800 , 32900 , 33000 , 33100 , 33200 , 33300 , 33400 , 33500 , 33600 , 33700 , 33800 , 33900 , 34000 , 34100 , 34200 , 34300 , 34400 , 34500 , 34600 , 34700 , 34800 , 34900 , 35000 , 35100 , 35200 , 35300 , 35400 , 35500 , 35600 , 35700 , 35800 , 35900 , 36000 , 36100 , 36200 , 36300 , 36400 , 36500 , 36600 , 36700 , 36800 , 36900 , 37000 , 37100 , 37200 , 37300 , 37400 , 37500 , 37600 , 37700 , 37800 , 37900 , 38000 , 38100 , 38200 , 38300 , 38400 , 38500 , 38600 , 38700 , 38800 , 38900 , 39000 , 39100 , 39200 , 39300 , 39400 , 39500 , 39600 , 39700 , 39800 , 39900 , 40000 , 40100 , 40200 , 40300 , 40400 , 40500 , 40600 , 40700 , 40800 , 40900 , 41000 , 41100 , 41200 , 41300 , 41400 , 41500 , 41600 , 41700 , 41800 , 41900 , 42000 , 42100 , 42200 , 42300 , 42400 , 42500 , 42600 , 42700 , 42800 , 42900 , 43000 , 43100 , 43200 , 43300 , 43400 , "
     ]
    }
   ],
   "source": [
    "# FIND ITEMS PURCHASED TOGETHER\n",
    "pairs = {}\n",
    "pairs_np = {} # cudfでなくても読める用\n",
    "for j,i in enumerate(vc.index.values):\n",
    "#for j,i in enumerate(vc.index.values[:100]):\n",
    "    if j%100==0: print(j,', ',end='')\n",
    "    USERS = df.loc[df.article_id==i.item(),'customer_id'].unique() # 特定のarticleを買っているcustomer\n",
    "    vc2 = df.loc[(df.customer_id.isin(USERS))&(df.article_id!=i.item()),'article_id'].value_counts() # 自分自身を除く、同時に買われたarticle\n",
    "    pairs[i.item()] = vc2.index[:Ntop] \n",
    "    #pairs_np[i.item()] = vc2.index[:Ntop].to_array()"
   ]
  },
  {
   "cell_type": "code",
   "execution_count": 7,
   "id": "8d178dc7",
   "metadata": {
    "execution": {
     "iopub.execute_input": "2022-04-23T18:35:49.485961Z",
     "iopub.status.busy": "2022-04-23T18:35:49.480743Z",
     "iopub.status.idle": "2022-04-23T18:35:49.667788Z",
     "shell.execute_reply": "2022-04-23T18:35:49.667020Z",
     "shell.execute_reply.started": "2022-04-23T08:47:14.848356Z"
    },
    "papermill": {
     "duration": 0.347953,
     "end_time": "2022-04-23T18:35:49.667938",
     "exception": false,
     "start_time": "2022-04-23T18:35:49.319985",
     "status": "completed"
    },
    "tags": []
   },
   "outputs": [
    {
     "name": "stdout",
     "output_type": "stream",
     "text": [
      "2.0\n"
     ]
    }
   ],
   "source": [
    "sum_pair = len(pairs)\n",
    "s = 0\n",
    "for v in pairs.values():\n",
    "    s += len(v)\n",
    "print(s/sum_pair) # mapの長さの平均値"
   ]
  },
  {
   "cell_type": "code",
   "execution_count": 8,
   "id": "32af8bd3",
   "metadata": {
    "execution": {
     "iopub.execute_input": "2022-04-23T18:35:49.962292Z",
     "iopub.status.busy": "2022-04-23T18:35:49.961465Z",
     "iopub.status.idle": "2022-04-23T18:35:53.963409Z",
     "shell.execute_reply": "2022-04-23T18:35:53.964758Z"
    },
    "papermill": {
     "duration": 4.152148,
     "end_time": "2022-04-23T18:35:53.965004",
     "exception": false,
     "start_time": "2022-04-23T18:35:49.812856",
     "status": "completed"
    },
    "tags": []
   },
   "outputs": [],
   "source": [
    "np.save(f'pairs_cudf_{log_date}_{Ntop}.npy', pairs)"
   ]
  }
 ],
 "metadata": {
  "kernelspec": {
   "display_name": "Python 3",
   "language": "python",
   "name": "python3"
  },
  "language_info": {
   "codemirror_mode": {
    "name": "ipython",
    "version": 3
   },
   "file_extension": ".py",
   "mimetype": "text/x-python",
   "name": "python",
   "nbconvert_exporter": "python",
   "pygments_lexer": "ipython3",
   "version": "3.7.12"
  },
  "papermill": {
   "default_parameters": {},
   "duration": 10302.655666,
   "end_time": "2022-04-23T18:35:56.064107",
   "environment_variables": {},
   "exception": null,
   "input_path": "__notebook__.ipynb",
   "output_path": "__notebook__.ipynb",
   "parameters": {},
   "start_time": "2022-04-23T15:44:13.408441",
   "version": "2.3.3"
  }
 },
 "nbformat": 4,
 "nbformat_minor": 5
}
