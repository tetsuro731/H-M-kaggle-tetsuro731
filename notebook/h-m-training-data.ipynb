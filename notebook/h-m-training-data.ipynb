{
 "cells": [
  {
   "cell_type": "markdown",
   "metadata": {
    "papermill": {
     "duration": 0.08877,
     "end_time": "2022-03-18T14:28:51.135317",
     "exception": false,
     "start_time": "2022-03-18T14:28:51.046547",
     "status": "completed"
    },
    "tags": []
   },
   "source": [
    "### Generate Training data\n",
    "- 学習データ作成用notebook\n",
    "- 素性も同時に生成する\n"
   ]
  },
  {
   "cell_type": "code",
   "execution_count": 53,
   "metadata": {
    "_cell_guid": "b1076dfc-b9ad-4769-8c92-a6c4dae69d19",
    "_uuid": "8f2839f25d086af736a60e9eeb907d3b93b6e0e5",
    "execution": {
     "iopub.execute_input": "2022-03-18T14:28:51.319919Z",
     "iopub.status.busy": "2022-03-18T14:28:51.317970Z",
     "iopub.status.idle": "2022-03-18T14:28:51.407727Z",
     "shell.execute_reply": "2022-03-18T14:28:51.406776Z",
     "shell.execute_reply.started": "2022-03-18T13:58:54.722012Z"
    },
    "papermill": {
     "duration": 0.182663,
     "end_time": "2022-03-18T14:28:51.407934",
     "exception": false,
     "start_time": "2022-03-18T14:28:51.225271",
     "status": "completed"
    },
    "tags": []
   },
   "outputs": [],
   "source": [
    "import numpy as np\n",
    "import pandas as pd\n",
    "import gc\n",
    "import os\n",
    "import time\n",
    "import random\n",
    "from tqdm.auto import tqdm\n",
    "import datetime"
   ]
  },
  {
   "cell_type": "code",
   "execution_count": 54,
   "metadata": {
    "execution": {
     "iopub.execute_input": "2022-03-18T14:28:51.587198Z",
     "iopub.status.busy": "2022-03-18T14:28:51.586084Z",
     "iopub.status.idle": "2022-03-18T14:28:51.588628Z",
     "shell.execute_reply": "2022-03-18T14:28:51.589236Z",
     "shell.execute_reply.started": "2022-03-18T13:58:54.829869Z"
    },
    "papermill": {
     "duration": 0.095258,
     "end_time": "2022-03-18T14:28:51.589463",
     "exception": false,
     "start_time": "2022-03-18T14:28:51.494205",
     "status": "completed"
    },
    "tags": []
   },
   "outputs": [],
   "source": [
    "def visualize_df(df):\n",
    "    print(df.shape)\n",
    "    display(df.head())"
   ]
  },
  {
   "cell_type": "markdown",
   "metadata": {},
   "source": [
    "## Parameters"
   ]
  },
  {
   "cell_type": "code",
   "execution_count": 55,
   "metadata": {},
   "outputs": [],
   "source": [
    "train_start_date = '2020-09-09' # 学習データの開始日\n",
    "negative_num = 100 # negative samplingの数"
   ]
  },
  {
   "cell_type": "code",
   "execution_count": 118,
   "metadata": {
    "tags": [
     "parameters"
    ]
   },
   "outputs": [],
   "source": [
    "# 外部から回す場合はここでパラメータ上書き"
   ]
  },
  {
   "cell_type": "code",
   "execution_count": 57,
   "metadata": {},
   "outputs": [],
   "source": [
    "from datetime import datetime, date, timedelta\n",
    "train_end_date = pd.to_datetime(train_start_date) + timedelta(days=7)\n",
    "feature_date = pd.to_datetime(train_start_date) + timedelta(days=-7)"
   ]
  },
  {
   "cell_type": "code",
   "execution_count": 58,
   "metadata": {},
   "outputs": [],
   "source": [
    "train_end_date = str(train_end_date.strftime('%Y-%m-%d'))\n",
    "feature_date = str(feature_date.strftime('%Y-%m-%d'))"
   ]
  },
  {
   "cell_type": "code",
   "execution_count": 59,
   "metadata": {},
   "outputs": [
    {
     "name": "stdout",
     "output_type": "stream",
     "text": [
      "2020-09-09 2020-09-16 2020-09-02\n"
     ]
    }
   ],
   "source": [
    "print(train_start_date, train_end_date, feature_date)"
   ]
  },
  {
   "cell_type": "markdown",
   "metadata": {
    "papermill": {
     "duration": 0.08589,
     "end_time": "2022-03-18T14:28:51.762315",
     "exception": false,
     "start_time": "2022-03-18T14:28:51.676425",
     "status": "completed"
    },
    "tags": []
   },
   "source": [
    "## Read Data"
   ]
  },
  {
   "cell_type": "code",
   "execution_count": 60,
   "metadata": {
    "execution": {
     "iopub.execute_input": "2022-03-18T14:28:51.943630Z",
     "iopub.status.busy": "2022-03-18T14:28:51.942536Z",
     "iopub.status.idle": "2022-03-18T14:30:04.654984Z",
     "shell.execute_reply": "2022-03-18T14:30:04.654390Z",
     "shell.execute_reply.started": "2022-03-18T13:59:14.271774Z"
    },
    "papermill": {
     "duration": 72.803845,
     "end_time": "2022-03-18T14:30:04.655205",
     "exception": false,
     "start_time": "2022-03-18T14:28:51.851360",
     "status": "completed"
    },
    "tags": []
   },
   "outputs": [],
   "source": [
    "# データの読み込み\n",
    "dir = 'h-and-m-personalized-fashion-recommendations/'\n",
    "path = '../input/' + dir \n",
    "\n",
    "transactions_train = pd.read_csv(path + 'transactions_train.csv')"
   ]
  },
  {
   "cell_type": "code",
   "execution_count": 61,
   "metadata": {
    "execution": {
     "iopub.execute_input": "2022-03-18T14:30:04.838992Z",
     "iopub.status.busy": "2022-03-18T14:30:04.838317Z",
     "iopub.status.idle": "2022-03-18T14:30:38.965010Z",
     "shell.execute_reply": "2022-03-18T14:30:38.964390Z",
     "shell.execute_reply.started": "2022-03-18T14:00:20.939398Z"
    },
    "papermill": {
     "duration": 34.223161,
     "end_time": "2022-03-18T14:30:38.965230",
     "exception": false,
     "start_time": "2022-03-18T14:30:04.742069",
     "status": "completed"
    },
    "tags": []
   },
   "outputs": [],
   "source": [
    "# save memory https://www.kaggle.com/c/h-and-m-personalized-fashion-recommendations/discussion/308635\n",
    "# 64文字もあるが、末尾16文字だけでcustomerを一意にid可能\n",
    "# 使われている文字は0-9, a-fなので16進数で変換してintで扱える\n",
    "# 16進数 = 4bit, 4bit * 16 / 8 = 8 byte\n",
    "# 64 byte -> 8 byteに削減, int64で表現可能\n",
    "transactions_train['customer_id'] = transactions_train['customer_id'].apply(lambda x: int(x[-16:],16) ).astype('int64')"
   ]
  },
  {
   "cell_type": "code",
   "execution_count": 62,
   "metadata": {
    "execution": {
     "iopub.execute_input": "2022-03-18T14:30:39.147599Z",
     "iopub.status.busy": "2022-03-18T14:30:39.143874Z",
     "iopub.status.idle": "2022-03-18T14:30:39.497332Z",
     "shell.execute_reply": "2022-03-18T14:30:39.496708Z",
     "shell.execute_reply.started": "2022-03-18T14:00:55.725738Z"
    },
    "papermill": {
     "duration": 0.444594,
     "end_time": "2022-03-18T14:30:39.497491",
     "exception": false,
     "start_time": "2022-03-18T14:30:39.052897",
     "status": "completed"
    },
    "tags": []
   },
   "outputs": [],
   "source": [
    "# 提出の形式に合わせてarticle_idの最初に0を加える\n",
    "#transactions_train['article_id'] = transactions_train['article_id'].map(lambda x: '0' + str(x))\n",
    "# メモリ削減、復元するには上記の式\n",
    "transactions_train['article_id'] = transactions_train['article_id'].astype('int32')"
   ]
  },
  {
   "cell_type": "code",
   "execution_count": 63,
   "metadata": {
    "execution": {
     "iopub.execute_input": "2022-03-18T14:30:41.534312Z",
     "iopub.status.busy": "2022-03-18T14:30:40.164462Z",
     "iopub.status.idle": "2022-03-18T14:30:45.519857Z",
     "shell.execute_reply": "2022-03-18T14:30:45.520430Z",
     "shell.execute_reply.started": "2022-03-18T14:00:55.937686Z"
    },
    "papermill": {
     "duration": 5.937399,
     "end_time": "2022-03-18T14:30:45.520604",
     "exception": false,
     "start_time": "2022-03-18T14:30:39.583205",
     "status": "completed"
    },
    "tags": []
   },
   "outputs": [
    {
     "data": {
      "text/html": [
       "<div>\n",
       "<style scoped>\n",
       "    .dataframe tbody tr th:only-of-type {\n",
       "        vertical-align: middle;\n",
       "    }\n",
       "\n",
       "    .dataframe tbody tr th {\n",
       "        vertical-align: top;\n",
       "    }\n",
       "\n",
       "    .dataframe thead th {\n",
       "        text-align: right;\n",
       "    }\n",
       "</style>\n",
       "<table border=\"1\" class=\"dataframe\">\n",
       "  <thead>\n",
       "    <tr style=\"text-align: right;\">\n",
       "      <th></th>\n",
       "      <th>t_dat</th>\n",
       "      <th>customer_id</th>\n",
       "      <th>article_id</th>\n",
       "      <th>price</th>\n",
       "      <th>sales_channel_id</th>\n",
       "    </tr>\n",
       "  </thead>\n",
       "  <tbody>\n",
       "    <tr>\n",
       "      <th>0</th>\n",
       "      <td>2018-09-20</td>\n",
       "      <td>-6846340800584936</td>\n",
       "      <td>663713001</td>\n",
       "      <td>0.050831</td>\n",
       "      <td>2</td>\n",
       "    </tr>\n",
       "    <tr>\n",
       "      <th>1</th>\n",
       "      <td>2018-09-20</td>\n",
       "      <td>-6846340800584936</td>\n",
       "      <td>541518023</td>\n",
       "      <td>0.030492</td>\n",
       "      <td>2</td>\n",
       "    </tr>\n",
       "    <tr>\n",
       "      <th>2</th>\n",
       "      <td>2018-09-20</td>\n",
       "      <td>-8334631767138808638</td>\n",
       "      <td>505221004</td>\n",
       "      <td>0.015237</td>\n",
       "      <td>2</td>\n",
       "    </tr>\n",
       "    <tr>\n",
       "      <th>3</th>\n",
       "      <td>2018-09-20</td>\n",
       "      <td>-8334631767138808638</td>\n",
       "      <td>685687003</td>\n",
       "      <td>0.016932</td>\n",
       "      <td>2</td>\n",
       "    </tr>\n",
       "    <tr>\n",
       "      <th>4</th>\n",
       "      <td>2018-09-20</td>\n",
       "      <td>-8334631767138808638</td>\n",
       "      <td>685687004</td>\n",
       "      <td>0.016932</td>\n",
       "      <td>2</td>\n",
       "    </tr>\n",
       "  </tbody>\n",
       "</table>\n",
       "</div>"
      ],
      "text/plain": [
       "       t_dat          customer_id  article_id     price  sales_channel_id\n",
       "0 2018-09-20    -6846340800584936   663713001  0.050831                 2\n",
       "1 2018-09-20    -6846340800584936   541518023  0.030492                 2\n",
       "2 2018-09-20 -8334631767138808638   505221004  0.015237                 2\n",
       "3 2018-09-20 -8334631767138808638   685687003  0.016932                 2\n",
       "4 2018-09-20 -8334631767138808638   685687004  0.016932                 2"
      ]
     },
     "execution_count": 63,
     "metadata": {},
     "output_type": "execute_result"
    }
   ],
   "source": [
    "transactions_train['t_dat'] = pd.to_datetime(transactions_train['t_dat'])\n",
    "transactions_train.head()"
   ]
  },
  {
   "cell_type": "code",
   "execution_count": 64,
   "metadata": {
    "execution": {
     "iopub.execute_input": "2022-03-18T14:30:45.895943Z",
     "iopub.status.busy": "2022-03-18T14:30:45.895276Z",
     "iopub.status.idle": "2022-03-18T14:30:45.898477Z",
     "shell.execute_reply": "2022-03-18T14:30:45.898978Z",
     "shell.execute_reply.started": "2022-03-18T14:01:01.640756Z"
    },
    "papermill": {
     "duration": 0.098087,
     "end_time": "2022-03-18T14:30:45.899168",
     "exception": false,
     "start_time": "2022-03-18T14:30:45.801081",
     "status": "completed"
    },
    "tags": []
   },
   "outputs": [],
   "source": [
    "# transactions_train['t_dat'].unique()[-7:]\n",
    "\n",
    "# array(['2020-09-16', '2020-09-17', '2020-09-18', '2020-09-19',\n",
    "#       '2020-09-20', '2020-09-21', '2020-09-22'], dtype=object)"
   ]
  },
  {
   "cell_type": "code",
   "execution_count": 65,
   "metadata": {
    "execution": {
     "iopub.execute_input": "2022-03-18T14:30:46.087484Z",
     "iopub.status.busy": "2022-03-18T14:30:46.086800Z",
     "iopub.status.idle": "2022-03-18T14:30:47.081178Z",
     "shell.execute_reply": "2022-03-18T14:30:47.081747Z",
     "shell.execute_reply.started": "2022-03-18T14:01:01.651418Z"
    },
    "papermill": {
     "duration": 1.090475,
     "end_time": "2022-03-18T14:30:47.081956",
     "exception": false,
     "start_time": "2022-03-18T14:30:45.991481",
     "status": "completed"
    },
    "tags": []
   },
   "outputs": [
    {
     "name": "stdout",
     "output_type": "stream",
     "text": [
      "(255241, 5)\n"
     ]
    },
    {
     "data": {
      "text/html": [
       "<div>\n",
       "<style scoped>\n",
       "    .dataframe tbody tr th:only-of-type {\n",
       "        vertical-align: middle;\n",
       "    }\n",
       "\n",
       "    .dataframe tbody tr th {\n",
       "        vertical-align: top;\n",
       "    }\n",
       "\n",
       "    .dataframe thead th {\n",
       "        text-align: right;\n",
       "    }\n",
       "</style>\n",
       "<table border=\"1\" class=\"dataframe\">\n",
       "  <thead>\n",
       "    <tr style=\"text-align: right;\">\n",
       "      <th></th>\n",
       "      <th>t_dat</th>\n",
       "      <th>customer_id</th>\n",
       "      <th>article_id</th>\n",
       "      <th>price</th>\n",
       "      <th>sales_channel_id</th>\n",
       "    </tr>\n",
       "  </thead>\n",
       "  <tbody>\n",
       "    <tr>\n",
       "      <th>0</th>\n",
       "      <td>2020-09-09</td>\n",
       "      <td>-7604547624187760215</td>\n",
       "      <td>399136061</td>\n",
       "      <td>0.083390</td>\n",
       "      <td>2</td>\n",
       "    </tr>\n",
       "    <tr>\n",
       "      <th>1</th>\n",
       "      <td>2020-09-09</td>\n",
       "      <td>-7604547624187760215</td>\n",
       "      <td>732842014</td>\n",
       "      <td>0.066712</td>\n",
       "      <td>2</td>\n",
       "    </tr>\n",
       "    <tr>\n",
       "      <th>2</th>\n",
       "      <td>2020-09-09</td>\n",
       "      <td>-7604547624187760215</td>\n",
       "      <td>556255001</td>\n",
       "      <td>0.010000</td>\n",
       "      <td>2</td>\n",
       "    </tr>\n",
       "    <tr>\n",
       "      <th>3</th>\n",
       "      <td>2020-09-09</td>\n",
       "      <td>-7604547624187760215</td>\n",
       "      <td>852219003</td>\n",
       "      <td>0.008322</td>\n",
       "      <td>2</td>\n",
       "    </tr>\n",
       "    <tr>\n",
       "      <th>4</th>\n",
       "      <td>2020-09-09</td>\n",
       "      <td>-7604547624187760215</td>\n",
       "      <td>732842021</td>\n",
       "      <td>0.066712</td>\n",
       "      <td>2</td>\n",
       "    </tr>\n",
       "  </tbody>\n",
       "</table>\n",
       "</div>"
      ],
      "text/plain": [
       "       t_dat          customer_id  article_id     price  sales_channel_id\n",
       "0 2020-09-09 -7604547624187760215   399136061  0.083390                 2\n",
       "1 2020-09-09 -7604547624187760215   732842014  0.066712                 2\n",
       "2 2020-09-09 -7604547624187760215   556255001  0.010000                 2\n",
       "3 2020-09-09 -7604547624187760215   852219003  0.008322                 2\n",
       "4 2020-09-09 -7604547624187760215   732842021  0.066712                 2"
      ]
     },
     "metadata": {},
     "output_type": "display_data"
    }
   ],
   "source": [
    "train_data = transactions_train.query(f\"'{train_start_date}' <= t_dat and t_dat < '{train_end_date}'\").reset_index(drop=True)\n",
    "visualize_df(train_data)"
   ]
  },
  {
   "cell_type": "code",
   "execution_count": 66,
   "metadata": {},
   "outputs": [],
   "source": [
    "feature_data = transactions_train.query(f\" t_dat < '{train_start_date}'\").reset_index(drop=True) # train feature"
   ]
  },
  {
   "cell_type": "code",
   "execution_count": 67,
   "metadata": {},
   "outputs": [
    {
     "data": {
      "text/plain": [
       "6"
      ]
     },
     "execution_count": 67,
     "metadata": {},
     "output_type": "execute_result"
    }
   ],
   "source": [
    "del transactions_train; gc.collect()"
   ]
  },
  {
   "cell_type": "code",
   "execution_count": 68,
   "metadata": {
    "execution": {
     "iopub.execute_input": "2022-03-18T14:30:47.456327Z",
     "iopub.status.busy": "2022-03-18T14:30:47.455632Z",
     "iopub.status.idle": "2022-03-18T14:30:47.470281Z",
     "shell.execute_reply": "2022-03-18T14:30:47.470795Z",
     "shell.execute_reply.started": "2022-03-18T14:01:02.460141Z"
    },
    "papermill": {
     "duration": 0.108516,
     "end_time": "2022-03-18T14:30:47.471009",
     "exception": false,
     "start_time": "2022-03-18T14:30:47.362493",
     "status": "completed"
    },
    "tags": []
   },
   "outputs": [
    {
     "data": {
      "text/html": [
       "<div>\n",
       "<style scoped>\n",
       "    .dataframe tbody tr th:only-of-type {\n",
       "        vertical-align: middle;\n",
       "    }\n",
       "\n",
       "    .dataframe tbody tr th {\n",
       "        vertical-align: top;\n",
       "    }\n",
       "\n",
       "    .dataframe thead th {\n",
       "        text-align: right;\n",
       "    }\n",
       "</style>\n",
       "<table border=\"1\" class=\"dataframe\">\n",
       "  <thead>\n",
       "    <tr style=\"text-align: right;\">\n",
       "      <th></th>\n",
       "      <th>t_dat</th>\n",
       "      <th>customer_id</th>\n",
       "      <th>article_id</th>\n",
       "      <th>price</th>\n",
       "      <th>sales_channel_id</th>\n",
       "    </tr>\n",
       "  </thead>\n",
       "  <tbody>\n",
       "    <tr>\n",
       "      <th>0</th>\n",
       "      <td>2020-09-09</td>\n",
       "      <td>-7604547624187760215</td>\n",
       "      <td>399136061</td>\n",
       "      <td>0.083390</td>\n",
       "      <td>2</td>\n",
       "    </tr>\n",
       "    <tr>\n",
       "      <th>1</th>\n",
       "      <td>2020-09-09</td>\n",
       "      <td>-7604547624187760215</td>\n",
       "      <td>732842014</td>\n",
       "      <td>0.066712</td>\n",
       "      <td>2</td>\n",
       "    </tr>\n",
       "    <tr>\n",
       "      <th>2</th>\n",
       "      <td>2020-09-09</td>\n",
       "      <td>-7604547624187760215</td>\n",
       "      <td>556255001</td>\n",
       "      <td>0.010000</td>\n",
       "      <td>2</td>\n",
       "    </tr>\n",
       "    <tr>\n",
       "      <th>3</th>\n",
       "      <td>2020-09-09</td>\n",
       "      <td>-7604547624187760215</td>\n",
       "      <td>852219003</td>\n",
       "      <td>0.008322</td>\n",
       "      <td>2</td>\n",
       "    </tr>\n",
       "    <tr>\n",
       "      <th>4</th>\n",
       "      <td>2020-09-09</td>\n",
       "      <td>-7604547624187760215</td>\n",
       "      <td>732842021</td>\n",
       "      <td>0.066712</td>\n",
       "      <td>2</td>\n",
       "    </tr>\n",
       "    <tr>\n",
       "      <th>...</th>\n",
       "      <td>...</td>\n",
       "      <td>...</td>\n",
       "      <td>...</td>\n",
       "      <td>...</td>\n",
       "      <td>...</td>\n",
       "    </tr>\n",
       "    <tr>\n",
       "      <th>255236</th>\n",
       "      <td>2020-09-15</td>\n",
       "      <td>-977760742639762210</td>\n",
       "      <td>850917001</td>\n",
       "      <td>0.025407</td>\n",
       "      <td>1</td>\n",
       "    </tr>\n",
       "    <tr>\n",
       "      <th>255237</th>\n",
       "      <td>2020-09-15</td>\n",
       "      <td>38700952482392720</td>\n",
       "      <td>853316001</td>\n",
       "      <td>0.008458</td>\n",
       "      <td>1</td>\n",
       "    </tr>\n",
       "    <tr>\n",
       "      <th>255238</th>\n",
       "      <td>2020-09-15</td>\n",
       "      <td>38700952482392720</td>\n",
       "      <td>296366006</td>\n",
       "      <td>0.000847</td>\n",
       "      <td>1</td>\n",
       "    </tr>\n",
       "    <tr>\n",
       "      <th>255239</th>\n",
       "      <td>2020-09-15</td>\n",
       "      <td>38700952482392720</td>\n",
       "      <td>789769001</td>\n",
       "      <td>0.013542</td>\n",
       "      <td>1</td>\n",
       "    </tr>\n",
       "    <tr>\n",
       "      <th>255240</th>\n",
       "      <td>2020-09-15</td>\n",
       "      <td>-7117278455136493736</td>\n",
       "      <td>728156001</td>\n",
       "      <td>0.043203</td>\n",
       "      <td>1</td>\n",
       "    </tr>\n",
       "  </tbody>\n",
       "</table>\n",
       "<p>255241 rows × 5 columns</p>\n",
       "</div>"
      ],
      "text/plain": [
       "            t_dat          customer_id  article_id     price  sales_channel_id\n",
       "0      2020-09-09 -7604547624187760215   399136061  0.083390                 2\n",
       "1      2020-09-09 -7604547624187760215   732842014  0.066712                 2\n",
       "2      2020-09-09 -7604547624187760215   556255001  0.010000                 2\n",
       "3      2020-09-09 -7604547624187760215   852219003  0.008322                 2\n",
       "4      2020-09-09 -7604547624187760215   732842021  0.066712                 2\n",
       "...           ...                  ...         ...       ...               ...\n",
       "255236 2020-09-15  -977760742639762210   850917001  0.025407                 1\n",
       "255237 2020-09-15    38700952482392720   853316001  0.008458                 1\n",
       "255238 2020-09-15    38700952482392720   296366006  0.000847                 1\n",
       "255239 2020-09-15    38700952482392720   789769001  0.013542                 1\n",
       "255240 2020-09-15 -7117278455136493736   728156001  0.043203                 1\n",
       "\n",
       "[255241 rows x 5 columns]"
      ]
     },
     "execution_count": 68,
     "metadata": {},
     "output_type": "execute_result"
    }
   ],
   "source": [
    "train_data"
   ]
  },
  {
   "cell_type": "code",
   "execution_count": 69,
   "metadata": {},
   "outputs": [
    {
     "data": {
      "text/html": [
       "<div>\n",
       "<style scoped>\n",
       "    .dataframe tbody tr th:only-of-type {\n",
       "        vertical-align: middle;\n",
       "    }\n",
       "\n",
       "    .dataframe tbody tr th {\n",
       "        vertical-align: top;\n",
       "    }\n",
       "\n",
       "    .dataframe thead th {\n",
       "        text-align: right;\n",
       "    }\n",
       "</style>\n",
       "<table border=\"1\" class=\"dataframe\">\n",
       "  <thead>\n",
       "    <tr style=\"text-align: right;\">\n",
       "      <th></th>\n",
       "      <th>t_dat</th>\n",
       "      <th>customer_id</th>\n",
       "      <th>article_id</th>\n",
       "      <th>price</th>\n",
       "      <th>sales_channel_id</th>\n",
       "    </tr>\n",
       "  </thead>\n",
       "  <tbody>\n",
       "    <tr>\n",
       "      <th>0</th>\n",
       "      <td>2018-09-20</td>\n",
       "      <td>-6846340800584936</td>\n",
       "      <td>663713001</td>\n",
       "      <td>0.050831</td>\n",
       "      <td>2</td>\n",
       "    </tr>\n",
       "    <tr>\n",
       "      <th>1</th>\n",
       "      <td>2018-09-20</td>\n",
       "      <td>-6846340800584936</td>\n",
       "      <td>541518023</td>\n",
       "      <td>0.030492</td>\n",
       "      <td>2</td>\n",
       "    </tr>\n",
       "    <tr>\n",
       "      <th>2</th>\n",
       "      <td>2018-09-20</td>\n",
       "      <td>-8334631767138808638</td>\n",
       "      <td>505221004</td>\n",
       "      <td>0.015237</td>\n",
       "      <td>2</td>\n",
       "    </tr>\n",
       "    <tr>\n",
       "      <th>3</th>\n",
       "      <td>2018-09-20</td>\n",
       "      <td>-8334631767138808638</td>\n",
       "      <td>685687003</td>\n",
       "      <td>0.016932</td>\n",
       "      <td>2</td>\n",
       "    </tr>\n",
       "    <tr>\n",
       "      <th>4</th>\n",
       "      <td>2018-09-20</td>\n",
       "      <td>-8334631767138808638</td>\n",
       "      <td>685687004</td>\n",
       "      <td>0.016932</td>\n",
       "      <td>2</td>\n",
       "    </tr>\n",
       "    <tr>\n",
       "      <th>...</th>\n",
       "      <td>...</td>\n",
       "      <td>...</td>\n",
       "      <td>...</td>\n",
       "      <td>...</td>\n",
       "      <td>...</td>\n",
       "    </tr>\n",
       "    <tr>\n",
       "      <th>31292767</th>\n",
       "      <td>2020-09-08</td>\n",
       "      <td>4685485978980270934</td>\n",
       "      <td>919786002</td>\n",
       "      <td>0.042356</td>\n",
       "      <td>2</td>\n",
       "    </tr>\n",
       "    <tr>\n",
       "      <th>31292768</th>\n",
       "      <td>2020-09-08</td>\n",
       "      <td>795398326275572276</td>\n",
       "      <td>765308002</td>\n",
       "      <td>0.033881</td>\n",
       "      <td>2</td>\n",
       "    </tr>\n",
       "    <tr>\n",
       "      <th>31292769</th>\n",
       "      <td>2020-09-08</td>\n",
       "      <td>-8286316756823862684</td>\n",
       "      <td>689365050</td>\n",
       "      <td>0.010017</td>\n",
       "      <td>2</td>\n",
       "    </tr>\n",
       "    <tr>\n",
       "      <th>31292770</th>\n",
       "      <td>2020-09-08</td>\n",
       "      <td>-8286316756823862684</td>\n",
       "      <td>884081001</td>\n",
       "      <td>0.012898</td>\n",
       "      <td>2</td>\n",
       "    </tr>\n",
       "    <tr>\n",
       "      <th>31292771</th>\n",
       "      <td>2020-09-08</td>\n",
       "      <td>-8286316756823862684</td>\n",
       "      <td>794819001</td>\n",
       "      <td>0.014322</td>\n",
       "      <td>2</td>\n",
       "    </tr>\n",
       "  </tbody>\n",
       "</table>\n",
       "<p>31292772 rows × 5 columns</p>\n",
       "</div>"
      ],
      "text/plain": [
       "              t_dat          customer_id  article_id     price  \\\n",
       "0        2018-09-20    -6846340800584936   663713001  0.050831   \n",
       "1        2018-09-20    -6846340800584936   541518023  0.030492   \n",
       "2        2018-09-20 -8334631767138808638   505221004  0.015237   \n",
       "3        2018-09-20 -8334631767138808638   685687003  0.016932   \n",
       "4        2018-09-20 -8334631767138808638   685687004  0.016932   \n",
       "...             ...                  ...         ...       ...   \n",
       "31292767 2020-09-08  4685485978980270934   919786002  0.042356   \n",
       "31292768 2020-09-08   795398326275572276   765308002  0.033881   \n",
       "31292769 2020-09-08 -8286316756823862684   689365050  0.010017   \n",
       "31292770 2020-09-08 -8286316756823862684   884081001  0.012898   \n",
       "31292771 2020-09-08 -8286316756823862684   794819001  0.014322   \n",
       "\n",
       "          sales_channel_id  \n",
       "0                        2  \n",
       "1                        2  \n",
       "2                        2  \n",
       "3                        2  \n",
       "4                        2  \n",
       "...                    ...  \n",
       "31292767                 2  \n",
       "31292768                 2  \n",
       "31292769                 2  \n",
       "31292770                 2  \n",
       "31292771                 2  \n",
       "\n",
       "[31292772 rows x 5 columns]"
      ]
     },
     "execution_count": 69,
     "metadata": {},
     "output_type": "execute_result"
    }
   ],
   "source": [
    "feature_data"
   ]
  },
  {
   "cell_type": "markdown",
   "metadata": {
    "papermill": {
     "duration": 0.090816,
     "end_time": "2022-03-18T14:30:47.652330",
     "exception": false,
     "start_time": "2022-03-18T14:30:47.561514",
     "status": "completed"
    },
    "tags": []
   },
   "source": [
    "## Add labels"
   ]
  },
  {
   "cell_type": "markdown",
   "metadata": {
    "papermill": {
     "duration": 0.088396,
     "end_time": "2022-03-18T14:30:47.834760",
     "exception": false,
     "start_time": "2022-03-18T14:30:47.746364",
     "status": "completed"
    },
    "tags": []
   },
   "source": [
    "### generate positive data"
   ]
  },
  {
   "cell_type": "code",
   "execution_count": 70,
   "metadata": {
    "execution": {
     "iopub.execute_input": "2022-03-18T14:30:48.617553Z",
     "iopub.status.busy": "2022-03-18T14:30:48.616606Z",
     "iopub.status.idle": "2022-03-18T14:30:51.714499Z",
     "shell.execute_reply": "2022-03-18T14:30:51.713688Z",
     "shell.execute_reply.started": "2022-03-18T14:01:02.650772Z"
    },
    "papermill": {
     "duration": 3.19618,
     "end_time": "2022-03-18T14:30:51.714643",
     "exception": false,
     "start_time": "2022-03-18T14:30:48.518463",
     "status": "completed"
    },
    "tags": []
   },
   "outputs": [
    {
     "name": "stdout",
     "output_type": "stream",
     "text": [
      "(72019, 2)\n"
     ]
    },
    {
     "data": {
      "text/html": [
       "<div>\n",
       "<style scoped>\n",
       "    .dataframe tbody tr th:only-of-type {\n",
       "        vertical-align: middle;\n",
       "    }\n",
       "\n",
       "    .dataframe tbody tr th {\n",
       "        vertical-align: top;\n",
       "    }\n",
       "\n",
       "    .dataframe thead th {\n",
       "        text-align: right;\n",
       "    }\n",
       "</style>\n",
       "<table border=\"1\" class=\"dataframe\">\n",
       "  <thead>\n",
       "    <tr style=\"text-align: right;\">\n",
       "      <th></th>\n",
       "      <th>customer_id</th>\n",
       "      <th>rec_set</th>\n",
       "    </tr>\n",
       "  </thead>\n",
       "  <tbody>\n",
       "    <tr>\n",
       "      <th>0</th>\n",
       "      <td>-9223343869995384291</td>\n",
       "      <td>{908292002, 903926002, 910601003, 865929007}</td>\n",
       "    </tr>\n",
       "    <tr>\n",
       "      <th>1</th>\n",
       "      <td>-9223290575350349271</td>\n",
       "      <td>{905518001, 912204009, 852584006, 757904007}</td>\n",
       "    </tr>\n",
       "    <tr>\n",
       "      <th>2</th>\n",
       "      <td>-9223120303940804728</td>\n",
       "      <td>{866792001}</td>\n",
       "    </tr>\n",
       "    <tr>\n",
       "      <th>3</th>\n",
       "      <td>-9222973878991087276</td>\n",
       "      <td>{835704001, 832884002, 783517002, 843777005, 7...</td>\n",
       "    </tr>\n",
       "    <tr>\n",
       "      <th>4</th>\n",
       "      <td>-9222798684148120334</td>\n",
       "      <td>{851374001, 806388018, 896064004, 854663002}</td>\n",
       "    </tr>\n",
       "  </tbody>\n",
       "</table>\n",
       "</div>"
      ],
      "text/plain": [
       "           customer_id                                            rec_set\n",
       "0 -9223343869995384291       {908292002, 903926002, 910601003, 865929007}\n",
       "1 -9223290575350349271       {905518001, 912204009, 852584006, 757904007}\n",
       "2 -9223120303940804728                                        {866792001}\n",
       "3 -9222973878991087276  {835704001, 832884002, 783517002, 843777005, 7...\n",
       "4 -9222798684148120334       {851374001, 806388018, 896064004, 854663002}"
      ]
     },
     "metadata": {},
     "output_type": "display_data"
    }
   ],
   "source": [
    "# 正解データのsetを作成\n",
    "train_group = train_data.groupby('customer_id')['article_id'].apply(set).reset_index(name='rec_set')\n",
    "visualize_df(train_group)"
   ]
  },
  {
   "cell_type": "markdown",
   "metadata": {
    "papermill": {
     "duration": 0.092932,
     "end_time": "2022-03-18T14:30:51.901718",
     "exception": false,
     "start_time": "2022-03-18T14:30:51.808786",
     "status": "completed"
    },
    "tags": []
   },
   "source": [
    "### negative sampling"
   ]
  },
  {
   "cell_type": "code",
   "execution_count": 71,
   "metadata": {
    "execution": {
     "iopub.execute_input": "2022-03-18T14:30:52.096650Z",
     "iopub.status.busy": "2022-03-18T14:30:52.095689Z",
     "iopub.status.idle": "2022-03-18T14:30:52.100203Z",
     "shell.execute_reply": "2022-03-18T14:30:52.099686Z",
     "shell.execute_reply.started": "2022-03-18T14:01:05.658155Z"
    },
    "papermill": {
     "duration": 0.10475,
     "end_time": "2022-03-18T14:30:52.100368",
     "exception": false,
     "start_time": "2022-03-18T14:30:51.995618",
     "status": "completed"
    },
    "tags": []
   },
   "outputs": [
    {
     "data": {
      "text/plain": [
       "72019"
      ]
     },
     "execution_count": 71,
     "metadata": {},
     "output_type": "execute_result"
    }
   ],
   "source": [
    "row_num = train_group.shape[0]\n",
    "row_num"
   ]
  },
  {
   "cell_type": "code",
   "execution_count": 72,
   "metadata": {
    "execution": {
     "iopub.execute_input": "2022-03-18T14:30:52.497425Z",
     "iopub.status.busy": "2022-03-18T14:30:52.496766Z",
     "iopub.status.idle": "2022-03-18T14:30:56.739348Z",
     "shell.execute_reply": "2022-03-18T14:30:56.738703Z",
     "shell.execute_reply.started": "2022-03-18T14:01:05.677728Z"
    },
    "papermill": {
     "duration": 4.344213,
     "end_time": "2022-03-18T14:30:56.739521",
     "exception": false,
     "start_time": "2022-03-18T14:30:52.395308",
     "status": "completed"
    },
    "tags": []
   },
   "outputs": [],
   "source": [
    "negative = train_data.sample(negative_num * row_num, replace=True).reset_index(drop=True)\n",
    "negative['index2'] = negative.index.astype(int)\n",
    "negative['index2'] = negative['index2'] % row_num"
   ]
  },
  {
   "cell_type": "code",
   "execution_count": 73,
   "metadata": {
    "execution": {
     "iopub.execute_input": "2022-03-18T14:30:56.938831Z",
     "iopub.status.busy": "2022-03-18T14:30:56.938163Z",
     "iopub.status.idle": "2022-03-18T14:30:58.423730Z",
     "shell.execute_reply": "2022-03-18T14:30:58.424267Z",
     "shell.execute_reply.started": "2022-03-18T14:01:09.778124Z"
    },
    "papermill": {
     "duration": 1.589571,
     "end_time": "2022-03-18T14:30:58.424470",
     "exception": false,
     "start_time": "2022-03-18T14:30:56.834899",
     "status": "completed"
    },
    "tags": []
   },
   "outputs": [
    {
     "data": {
      "text/html": [
       "<div>\n",
       "<style scoped>\n",
       "    .dataframe tbody tr th:only-of-type {\n",
       "        vertical-align: middle;\n",
       "    }\n",
       "\n",
       "    .dataframe tbody tr th {\n",
       "        vertical-align: top;\n",
       "    }\n",
       "\n",
       "    .dataframe thead th {\n",
       "        text-align: right;\n",
       "    }\n",
       "</style>\n",
       "<table border=\"1\" class=\"dataframe\">\n",
       "  <thead>\n",
       "    <tr style=\"text-align: right;\">\n",
       "      <th></th>\n",
       "      <th>index2</th>\n",
       "      <th>article_id</th>\n",
       "    </tr>\n",
       "  </thead>\n",
       "  <tbody>\n",
       "    <tr>\n",
       "      <th>0</th>\n",
       "      <td>0</td>\n",
       "      <td>500435128</td>\n",
       "    </tr>\n",
       "    <tr>\n",
       "      <th>1</th>\n",
       "      <td>1</td>\n",
       "      <td>836142002</td>\n",
       "    </tr>\n",
       "    <tr>\n",
       "      <th>2</th>\n",
       "      <td>2</td>\n",
       "      <td>762143001</td>\n",
       "    </tr>\n",
       "    <tr>\n",
       "      <th>3</th>\n",
       "      <td>3</td>\n",
       "      <td>834906013</td>\n",
       "    </tr>\n",
       "    <tr>\n",
       "      <th>4</th>\n",
       "      <td>4</td>\n",
       "      <td>936012001</td>\n",
       "    </tr>\n",
       "    <tr>\n",
       "      <th>...</th>\n",
       "      <td>...</td>\n",
       "      <td>...</td>\n",
       "    </tr>\n",
       "    <tr>\n",
       "      <th>7201895</th>\n",
       "      <td>72014</td>\n",
       "      <td>903868001</td>\n",
       "    </tr>\n",
       "    <tr>\n",
       "      <th>7201896</th>\n",
       "      <td>72015</td>\n",
       "      <td>158340001</td>\n",
       "    </tr>\n",
       "    <tr>\n",
       "      <th>7201897</th>\n",
       "      <td>72016</td>\n",
       "      <td>929165002</td>\n",
       "    </tr>\n",
       "    <tr>\n",
       "      <th>7201898</th>\n",
       "      <td>72017</td>\n",
       "      <td>783346001</td>\n",
       "    </tr>\n",
       "    <tr>\n",
       "      <th>7201899</th>\n",
       "      <td>72018</td>\n",
       "      <td>568597006</td>\n",
       "    </tr>\n",
       "  </tbody>\n",
       "</table>\n",
       "<p>7201900 rows × 2 columns</p>\n",
       "</div>"
      ],
      "text/plain": [
       "         index2  article_id\n",
       "0             0   500435128\n",
       "1             1   836142002\n",
       "2             2   762143001\n",
       "3             3   834906013\n",
       "4             4   936012001\n",
       "...         ...         ...\n",
       "7201895   72014   903868001\n",
       "7201896   72015   158340001\n",
       "7201897   72016   929165002\n",
       "7201898   72017   783346001\n",
       "7201899   72018   568597006\n",
       "\n",
       "[7201900 rows x 2 columns]"
      ]
     },
     "execution_count": 73,
     "metadata": {},
     "output_type": "execute_result"
    }
   ],
   "source": [
    "negative = negative[['index2', 'article_id']]\n",
    "negative"
   ]
  },
  {
   "cell_type": "code",
   "execution_count": 74,
   "metadata": {
    "execution": {
     "iopub.execute_input": "2022-03-18T14:30:58.623287Z",
     "iopub.status.busy": "2022-03-18T14:30:58.622563Z",
     "iopub.status.idle": "2022-03-18T14:31:16.742379Z",
     "shell.execute_reply": "2022-03-18T14:31:16.741600Z",
     "shell.execute_reply.started": "2022-03-18T14:01:10.884725Z"
    },
    "papermill": {
     "duration": 18.222232,
     "end_time": "2022-03-18T14:31:16.742551",
     "exception": false,
     "start_time": "2022-03-18T14:30:58.520319",
     "status": "completed"
    },
    "tags": []
   },
   "outputs": [
    {
     "name": "stdout",
     "output_type": "stream",
     "text": [
      "(72019, 1)\n"
     ]
    },
    {
     "data": {
      "text/html": [
       "<div>\n",
       "<style scoped>\n",
       "    .dataframe tbody tr th:only-of-type {\n",
       "        vertical-align: middle;\n",
       "    }\n",
       "\n",
       "    .dataframe tbody tr th {\n",
       "        vertical-align: top;\n",
       "    }\n",
       "\n",
       "    .dataframe thead th {\n",
       "        text-align: right;\n",
       "    }\n",
       "</style>\n",
       "<table border=\"1\" class=\"dataframe\">\n",
       "  <thead>\n",
       "    <tr style=\"text-align: right;\">\n",
       "      <th></th>\n",
       "      <th>negative_set</th>\n",
       "    </tr>\n",
       "  </thead>\n",
       "  <tbody>\n",
       "    <tr>\n",
       "      <th>0</th>\n",
       "      <td>{827968001, 878293001, 892309002, 885077003, 7...</td>\n",
       "    </tr>\n",
       "    <tr>\n",
       "      <th>1</th>\n",
       "      <td>{868053003, 892309003, 845610003, 905492001, 9...</td>\n",
       "    </tr>\n",
       "    <tr>\n",
       "      <th>2</th>\n",
       "      <td>{827968001, 739819010, 861803009, 804992014, 9...</td>\n",
       "    </tr>\n",
       "    <tr>\n",
       "      <th>3</th>\n",
       "      <td>{640001027, 579541001, 884245001, 792469001, 8...</td>\n",
       "    </tr>\n",
       "    <tr>\n",
       "      <th>4</th>\n",
       "      <td>{927957001, 909802001, 903359001, 913087001, 7...</td>\n",
       "    </tr>\n",
       "  </tbody>\n",
       "</table>\n",
       "</div>"
      ],
      "text/plain": [
       "                                        negative_set\n",
       "0  {827968001, 878293001, 892309002, 885077003, 7...\n",
       "1  {868053003, 892309003, 845610003, 905492001, 9...\n",
       "2  {827968001, 739819010, 861803009, 804992014, 9...\n",
       "3  {640001027, 579541001, 884245001, 792469001, 8...\n",
       "4  {927957001, 909802001, 903359001, 913087001, 7..."
      ]
     },
     "metadata": {},
     "output_type": "display_data"
    }
   ],
   "source": [
    "negative = negative.groupby('index2')['article_id'].apply(set).reset_index(name='negative_set')\n",
    "negative = negative.drop('index2', axis='columns')\n",
    "visualize_df(negative)"
   ]
  },
  {
   "cell_type": "code",
   "execution_count": 75,
   "metadata": {
    "execution": {
     "iopub.execute_input": "2022-03-18T14:31:17.422773Z",
     "iopub.status.busy": "2022-03-18T14:31:17.382221Z",
     "iopub.status.idle": "2022-03-18T14:31:17.436490Z",
     "shell.execute_reply": "2022-03-18T14:31:17.435882Z",
     "shell.execute_reply.started": "2022-03-18T14:01:28.318716Z"
    },
    "papermill": {
     "duration": 0.159663,
     "end_time": "2022-03-18T14:31:17.436667",
     "exception": false,
     "start_time": "2022-03-18T14:31:17.277004",
     "status": "completed"
    },
    "tags": []
   },
   "outputs": [
    {
     "data": {
      "text/plain": [
       "count    72019.000000\n",
       "mean        97.951402\n",
       "std          1.420884\n",
       "min         89.000000\n",
       "25%         97.000000\n",
       "50%         98.000000\n",
       "75%         99.000000\n",
       "max        100.000000\n",
       "Name: negative_set, dtype: float64"
      ]
     },
     "execution_count": 75,
     "metadata": {},
     "output_type": "execute_result"
    }
   ],
   "source": [
    "negative['negative_set'].apply(len).describe()"
   ]
  },
  {
   "cell_type": "markdown",
   "metadata": {
    "papermill": {
     "duration": 0.097658,
     "end_time": "2022-03-18T14:31:17.633401",
     "exception": false,
     "start_time": "2022-03-18T14:31:17.535743",
     "status": "completed"
    },
    "tags": []
   },
   "source": [
    "### Join positive and negative"
   ]
  },
  {
   "cell_type": "code",
   "execution_count": 76,
   "metadata": {
    "execution": {
     "iopub.execute_input": "2022-03-18T14:31:17.839419Z",
     "iopub.status.busy": "2022-03-18T14:31:17.838724Z",
     "iopub.status.idle": "2022-03-18T14:31:17.882911Z",
     "shell.execute_reply": "2022-03-18T14:31:17.882283Z",
     "shell.execute_reply.started": "2022-03-18T14:01:28.375310Z"
    },
    "papermill": {
     "duration": 0.147718,
     "end_time": "2022-03-18T14:31:17.883114",
     "exception": false,
     "start_time": "2022-03-18T14:31:17.735396",
     "status": "completed"
    },
    "tags": []
   },
   "outputs": [
    {
     "data": {
      "text/plain": [
       "count    72019.000000\n",
       "mean         3.164582\n",
       "std          2.929903\n",
       "min          1.000000\n",
       "25%          1.000000\n",
       "50%          2.000000\n",
       "75%          4.000000\n",
       "max         47.000000\n",
       "Name: rec_set, dtype: float64"
      ]
     },
     "execution_count": 76,
     "metadata": {},
     "output_type": "execute_result"
    }
   ],
   "source": [
    "train_group['rec_set'].apply(len).describe()"
   ]
  },
  {
   "cell_type": "code",
   "execution_count": 77,
   "metadata": {
    "execution": {
     "iopub.execute_input": "2022-03-18T14:31:18.091687Z",
     "iopub.status.busy": "2022-03-18T14:31:18.090925Z",
     "iopub.status.idle": "2022-03-18T14:31:19.522768Z",
     "shell.execute_reply": "2022-03-18T14:31:19.523272Z",
     "shell.execute_reply.started": "2022-03-18T14:01:28.424418Z"
    },
    "papermill": {
     "duration": 1.54171,
     "end_time": "2022-03-18T14:31:19.523461",
     "exception": false,
     "start_time": "2022-03-18T14:31:17.981751",
     "status": "completed"
    },
    "tags": []
   },
   "outputs": [
    {
     "name": "stdout",
     "output_type": "stream",
     "text": [
      "(72019, 3)\n"
     ]
    },
    {
     "data": {
      "text/html": [
       "<div>\n",
       "<style scoped>\n",
       "    .dataframe tbody tr th:only-of-type {\n",
       "        vertical-align: middle;\n",
       "    }\n",
       "\n",
       "    .dataframe tbody tr th {\n",
       "        vertical-align: top;\n",
       "    }\n",
       "\n",
       "    .dataframe thead th {\n",
       "        text-align: right;\n",
       "    }\n",
       "</style>\n",
       "<table border=\"1\" class=\"dataframe\">\n",
       "  <thead>\n",
       "    <tr style=\"text-align: right;\">\n",
       "      <th></th>\n",
       "      <th>customer_id</th>\n",
       "      <th>rec_set</th>\n",
       "      <th>negative_set</th>\n",
       "    </tr>\n",
       "  </thead>\n",
       "  <tbody>\n",
       "    <tr>\n",
       "      <th>0</th>\n",
       "      <td>-9223343869995384291</td>\n",
       "      <td>{908292002, 903926002, 910601003, 865929007}</td>\n",
       "      <td>{827968001, 878293001, 892309002, 885077003, 7...</td>\n",
       "    </tr>\n",
       "    <tr>\n",
       "      <th>1</th>\n",
       "      <td>-9223290575350349271</td>\n",
       "      <td>{905518001, 912204009, 852584006, 757904007}</td>\n",
       "      <td>{868053003, 892309003, 845610003, 905492001, 9...</td>\n",
       "    </tr>\n",
       "    <tr>\n",
       "      <th>2</th>\n",
       "      <td>-9223120303940804728</td>\n",
       "      <td>{866792001}</td>\n",
       "      <td>{827968001, 739819010, 861803009, 804992014, 9...</td>\n",
       "    </tr>\n",
       "    <tr>\n",
       "      <th>3</th>\n",
       "      <td>-9222973878991087276</td>\n",
       "      <td>{835704001, 832884002, 783517002, 843777005, 7...</td>\n",
       "      <td>{640001027, 579541001, 884245001, 792469001, 8...</td>\n",
       "    </tr>\n",
       "    <tr>\n",
       "      <th>4</th>\n",
       "      <td>-9222798684148120334</td>\n",
       "      <td>{851374001, 806388018, 896064004, 854663002}</td>\n",
       "      <td>{927957001, 909802001, 903359001, 913087001, 7...</td>\n",
       "    </tr>\n",
       "  </tbody>\n",
       "</table>\n",
       "</div>"
      ],
      "text/plain": [
       "           customer_id                                            rec_set  \\\n",
       "0 -9223343869995384291       {908292002, 903926002, 910601003, 865929007}   \n",
       "1 -9223290575350349271       {905518001, 912204009, 852584006, 757904007}   \n",
       "2 -9223120303940804728                                        {866792001}   \n",
       "3 -9222973878991087276  {835704001, 832884002, 783517002, 843777005, 7...   \n",
       "4 -9222798684148120334       {851374001, 806388018, 896064004, 854663002}   \n",
       "\n",
       "                                        negative_set  \n",
       "0  {827968001, 878293001, 892309002, 885077003, 7...  \n",
       "1  {868053003, 892309003, 845610003, 905492001, 9...  \n",
       "2  {827968001, 739819010, 861803009, 804992014, 9...  \n",
       "3  {640001027, 579541001, 884245001, 792469001, 8...  \n",
       "4  {927957001, 909802001, 903359001, 913087001, 7...  "
      ]
     },
     "metadata": {},
     "output_type": "display_data"
    }
   ],
   "source": [
    "train_group = pd.concat([train_group, negative], axis=1)\n",
    "del train_data, negative; gc.collect()\n",
    "visualize_df(train_group)"
   ]
  },
  {
   "cell_type": "code",
   "execution_count": 78,
   "metadata": {
    "execution": {
     "iopub.execute_input": "2022-03-18T14:31:19.732328Z",
     "iopub.status.busy": "2022-03-18T14:31:19.731666Z",
     "iopub.status.idle": "2022-03-18T14:31:19.942332Z",
     "shell.execute_reply": "2022-03-18T14:31:19.941697Z",
     "shell.execute_reply.started": "2022-03-18T14:01:29.862963Z"
    },
    "papermill": {
     "duration": 0.318499,
     "end_time": "2022-03-18T14:31:19.942489",
     "exception": false,
     "start_time": "2022-03-18T14:31:19.623990",
     "status": "completed"
    },
    "tags": []
   },
   "outputs": [
    {
     "data": {
      "text/html": [
       "<div>\n",
       "<style scoped>\n",
       "    .dataframe tbody tr th:only-of-type {\n",
       "        vertical-align: middle;\n",
       "    }\n",
       "\n",
       "    .dataframe tbody tr th {\n",
       "        vertical-align: top;\n",
       "    }\n",
       "\n",
       "    .dataframe thead th {\n",
       "        text-align: right;\n",
       "    }\n",
       "</style>\n",
       "<table border=\"1\" class=\"dataframe\">\n",
       "  <thead>\n",
       "    <tr style=\"text-align: right;\">\n",
       "      <th></th>\n",
       "      <th>customer_id</th>\n",
       "      <th>rec_set</th>\n",
       "      <th>label</th>\n",
       "    </tr>\n",
       "  </thead>\n",
       "  <tbody>\n",
       "    <tr>\n",
       "      <th>0</th>\n",
       "      <td>-9223343869995384291</td>\n",
       "      <td>908292002</td>\n",
       "      <td>1</td>\n",
       "    </tr>\n",
       "    <tr>\n",
       "      <th>0</th>\n",
       "      <td>-9223343869995384291</td>\n",
       "      <td>903926002</td>\n",
       "      <td>1</td>\n",
       "    </tr>\n",
       "    <tr>\n",
       "      <th>0</th>\n",
       "      <td>-9223343869995384291</td>\n",
       "      <td>910601003</td>\n",
       "      <td>1</td>\n",
       "    </tr>\n",
       "    <tr>\n",
       "      <th>0</th>\n",
       "      <td>-9223343869995384291</td>\n",
       "      <td>865929007</td>\n",
       "      <td>1</td>\n",
       "    </tr>\n",
       "    <tr>\n",
       "      <th>1</th>\n",
       "      <td>-9223290575350349271</td>\n",
       "      <td>905518001</td>\n",
       "      <td>1</td>\n",
       "    </tr>\n",
       "    <tr>\n",
       "      <th>...</th>\n",
       "      <td>...</td>\n",
       "      <td>...</td>\n",
       "      <td>...</td>\n",
       "    </tr>\n",
       "    <tr>\n",
       "      <th>72017</th>\n",
       "      <td>9221907720696052119</td>\n",
       "      <td>892558005</td>\n",
       "      <td>1</td>\n",
       "    </tr>\n",
       "    <tr>\n",
       "      <th>72018</th>\n",
       "      <td>9221980340157146437</td>\n",
       "      <td>767577045</td>\n",
       "      <td>1</td>\n",
       "    </tr>\n",
       "    <tr>\n",
       "      <th>72018</th>\n",
       "      <td>9221980340157146437</td>\n",
       "      <td>781758057</td>\n",
       "      <td>1</td>\n",
       "    </tr>\n",
       "    <tr>\n",
       "      <th>72018</th>\n",
       "      <td>9221980340157146437</td>\n",
       "      <td>395127001</td>\n",
       "      <td>1</td>\n",
       "    </tr>\n",
       "    <tr>\n",
       "      <th>72018</th>\n",
       "      <td>9221980340157146437</td>\n",
       "      <td>781758029</td>\n",
       "      <td>1</td>\n",
       "    </tr>\n",
       "  </tbody>\n",
       "</table>\n",
       "<p>227910 rows × 3 columns</p>\n",
       "</div>"
      ],
      "text/plain": [
       "               customer_id    rec_set  label\n",
       "0     -9223343869995384291  908292002      1\n",
       "0     -9223343869995384291  903926002      1\n",
       "0     -9223343869995384291  910601003      1\n",
       "0     -9223343869995384291  865929007      1\n",
       "1     -9223290575350349271  905518001      1\n",
       "...                    ...        ...    ...\n",
       "72017  9221907720696052119  892558005      1\n",
       "72018  9221980340157146437  767577045      1\n",
       "72018  9221980340157146437  781758057      1\n",
       "72018  9221980340157146437  395127001      1\n",
       "72018  9221980340157146437  781758029      1\n",
       "\n",
       "[227910 rows x 3 columns]"
      ]
     },
     "execution_count": 78,
     "metadata": {},
     "output_type": "execute_result"
    }
   ],
   "source": [
    "train_group_pos = train_group[['customer_id', 'rec_set']].explode('rec_set')\n",
    "train_group_pos['label'] = 1\n",
    "train_group_pos"
   ]
  },
  {
   "cell_type": "code",
   "execution_count": 79,
   "metadata": {
    "execution": {
     "iopub.execute_input": "2022-03-18T14:31:20.155440Z",
     "iopub.status.busy": "2022-03-18T14:31:20.154442Z",
     "iopub.status.idle": "2022-03-18T14:31:27.156001Z",
     "shell.execute_reply": "2022-03-18T14:31:27.155452Z",
     "shell.execute_reply.started": "2022-03-18T14:01:30.034933Z"
    },
    "papermill": {
     "duration": 7.110567,
     "end_time": "2022-03-18T14:31:27.156242",
     "exception": false,
     "start_time": "2022-03-18T14:31:20.045675",
     "status": "completed"
    },
    "tags": []
   },
   "outputs": [
    {
     "data": {
      "text/html": [
       "<div>\n",
       "<style scoped>\n",
       "    .dataframe tbody tr th:only-of-type {\n",
       "        vertical-align: middle;\n",
       "    }\n",
       "\n",
       "    .dataframe tbody tr th {\n",
       "        vertical-align: top;\n",
       "    }\n",
       "\n",
       "    .dataframe thead th {\n",
       "        text-align: right;\n",
       "    }\n",
       "</style>\n",
       "<table border=\"1\" class=\"dataframe\">\n",
       "  <thead>\n",
       "    <tr style=\"text-align: right;\">\n",
       "      <th></th>\n",
       "      <th>customer_id</th>\n",
       "      <th>rec_set</th>\n",
       "      <th>label</th>\n",
       "    </tr>\n",
       "  </thead>\n",
       "  <tbody>\n",
       "    <tr>\n",
       "      <th>0</th>\n",
       "      <td>-9223343869995384291</td>\n",
       "      <td>827968001</td>\n",
       "      <td>0</td>\n",
       "    </tr>\n",
       "    <tr>\n",
       "      <th>0</th>\n",
       "      <td>-9223343869995384291</td>\n",
       "      <td>878293001</td>\n",
       "      <td>0</td>\n",
       "    </tr>\n",
       "    <tr>\n",
       "      <th>0</th>\n",
       "      <td>-9223343869995384291</td>\n",
       "      <td>892309002</td>\n",
       "      <td>0</td>\n",
       "    </tr>\n",
       "    <tr>\n",
       "      <th>0</th>\n",
       "      <td>-9223343869995384291</td>\n",
       "      <td>885077003</td>\n",
       "      <td>0</td>\n",
       "    </tr>\n",
       "    <tr>\n",
       "      <th>0</th>\n",
       "      <td>-9223343869995384291</td>\n",
       "      <td>750422031</td>\n",
       "      <td>0</td>\n",
       "    </tr>\n",
       "    <tr>\n",
       "      <th>...</th>\n",
       "      <td>...</td>\n",
       "      <td>...</td>\n",
       "      <td>...</td>\n",
       "    </tr>\n",
       "    <tr>\n",
       "      <th>72018</th>\n",
       "      <td>9221980340157146437</td>\n",
       "      <td>898818003</td>\n",
       "      <td>0</td>\n",
       "    </tr>\n",
       "    <tr>\n",
       "      <th>72018</th>\n",
       "      <td>9221980340157146437</td>\n",
       "      <td>882882002</td>\n",
       "      <td>0</td>\n",
       "    </tr>\n",
       "    <tr>\n",
       "      <th>72018</th>\n",
       "      <td>9221980340157146437</td>\n",
       "      <td>908417001</td>\n",
       "      <td>0</td>\n",
       "    </tr>\n",
       "    <tr>\n",
       "      <th>72018</th>\n",
       "      <td>9221980340157146437</td>\n",
       "      <td>918443002</td>\n",
       "      <td>0</td>\n",
       "    </tr>\n",
       "    <tr>\n",
       "      <th>72018</th>\n",
       "      <td>9221980340157146437</td>\n",
       "      <td>853163003</td>\n",
       "      <td>0</td>\n",
       "    </tr>\n",
       "  </tbody>\n",
       "</table>\n",
       "<p>7054362 rows × 3 columns</p>\n",
       "</div>"
      ],
      "text/plain": [
       "               customer_id    rec_set  label\n",
       "0     -9223343869995384291  827968001      0\n",
       "0     -9223343869995384291  878293001      0\n",
       "0     -9223343869995384291  892309002      0\n",
       "0     -9223343869995384291  885077003      0\n",
       "0     -9223343869995384291  750422031      0\n",
       "...                    ...        ...    ...\n",
       "72018  9221980340157146437  898818003      0\n",
       "72018  9221980340157146437  882882002      0\n",
       "72018  9221980340157146437  908417001      0\n",
       "72018  9221980340157146437  918443002      0\n",
       "72018  9221980340157146437  853163003      0\n",
       "\n",
       "[7054362 rows x 3 columns]"
      ]
     },
     "execution_count": 79,
     "metadata": {},
     "output_type": "execute_result"
    }
   ],
   "source": [
    "train_group_neg = train_group[['customer_id', 'negative_set']].explode('negative_set')\n",
    "train_group_neg = train_group_neg.rename(columns={'negative_set':'rec_set'})\n",
    "train_group_neg['label'] = 0\n",
    "train_group_neg"
   ]
  },
  {
   "cell_type": "code",
   "execution_count": 80,
   "metadata": {
    "execution": {
     "iopub.execute_input": "2022-03-18T14:31:27.360746Z",
     "iopub.status.busy": "2022-03-18T14:31:27.359779Z",
     "iopub.status.idle": "2022-03-18T14:31:30.068435Z",
     "shell.execute_reply": "2022-03-18T14:31:30.069052Z",
     "shell.execute_reply.started": "2022-03-18T14:01:37.000982Z"
    },
    "papermill": {
     "duration": 2.81245,
     "end_time": "2022-03-18T14:31:30.069244",
     "exception": false,
     "start_time": "2022-03-18T14:31:27.256794",
     "status": "completed"
    },
    "tags": []
   },
   "outputs": [
    {
     "data": {
      "text/plain": [
       "0"
      ]
     },
     "execution_count": 80,
     "metadata": {},
     "output_type": "execute_result"
    }
   ],
   "source": [
    "train_group = pd.concat([train_group_pos, train_group_neg])\n",
    "del train_group_pos, train_group_neg; gc.collect()"
   ]
  },
  {
   "cell_type": "code",
   "execution_count": 81,
   "metadata": {
    "execution": {
     "iopub.execute_input": "2022-03-18T14:31:30.279298Z",
     "iopub.status.busy": "2022-03-18T14:31:30.278313Z",
     "iopub.status.idle": "2022-03-18T14:31:31.918109Z",
     "shell.execute_reply": "2022-03-18T14:31:31.918616Z",
     "shell.execute_reply.started": "2022-03-18T14:01:39.691480Z"
    },
    "papermill": {
     "duration": 1.746158,
     "end_time": "2022-03-18T14:31:31.918803",
     "exception": false,
     "start_time": "2022-03-18T14:31:30.172645",
     "status": "completed"
    },
    "tags": []
   },
   "outputs": [],
   "source": [
    "train_group = train_group.rename(columns={'rec_set':'article_id'})"
   ]
  },
  {
   "cell_type": "code",
   "execution_count": 82,
   "metadata": {
    "execution": {
     "iopub.execute_input": "2022-03-18T14:31:32.130557Z",
     "iopub.status.busy": "2022-03-18T14:31:32.129550Z",
     "iopub.status.idle": "2022-03-18T14:31:32.139478Z",
     "shell.execute_reply": "2022-03-18T14:31:32.139932Z",
     "shell.execute_reply.started": "2022-03-18T14:01:41.319677Z"
    },
    "papermill": {
     "duration": 0.118757,
     "end_time": "2022-03-18T14:31:32.140105",
     "exception": false,
     "start_time": "2022-03-18T14:31:32.021348",
     "status": "completed"
    },
    "tags": []
   },
   "outputs": [
    {
     "data": {
      "text/html": [
       "<div>\n",
       "<style scoped>\n",
       "    .dataframe tbody tr th:only-of-type {\n",
       "        vertical-align: middle;\n",
       "    }\n",
       "\n",
       "    .dataframe tbody tr th {\n",
       "        vertical-align: top;\n",
       "    }\n",
       "\n",
       "    .dataframe thead th {\n",
       "        text-align: right;\n",
       "    }\n",
       "</style>\n",
       "<table border=\"1\" class=\"dataframe\">\n",
       "  <thead>\n",
       "    <tr style=\"text-align: right;\">\n",
       "      <th></th>\n",
       "      <th>customer_id</th>\n",
       "      <th>article_id</th>\n",
       "      <th>label</th>\n",
       "    </tr>\n",
       "  </thead>\n",
       "  <tbody>\n",
       "    <tr>\n",
       "      <th>0</th>\n",
       "      <td>-9223343869995384291</td>\n",
       "      <td>908292002</td>\n",
       "      <td>1</td>\n",
       "    </tr>\n",
       "    <tr>\n",
       "      <th>0</th>\n",
       "      <td>-9223343869995384291</td>\n",
       "      <td>903926002</td>\n",
       "      <td>1</td>\n",
       "    </tr>\n",
       "    <tr>\n",
       "      <th>0</th>\n",
       "      <td>-9223343869995384291</td>\n",
       "      <td>910601003</td>\n",
       "      <td>1</td>\n",
       "    </tr>\n",
       "    <tr>\n",
       "      <th>0</th>\n",
       "      <td>-9223343869995384291</td>\n",
       "      <td>865929007</td>\n",
       "      <td>1</td>\n",
       "    </tr>\n",
       "    <tr>\n",
       "      <th>1</th>\n",
       "      <td>-9223290575350349271</td>\n",
       "      <td>905518001</td>\n",
       "      <td>1</td>\n",
       "    </tr>\n",
       "    <tr>\n",
       "      <th>...</th>\n",
       "      <td>...</td>\n",
       "      <td>...</td>\n",
       "      <td>...</td>\n",
       "    </tr>\n",
       "    <tr>\n",
       "      <th>72018</th>\n",
       "      <td>9221980340157146437</td>\n",
       "      <td>898818003</td>\n",
       "      <td>0</td>\n",
       "    </tr>\n",
       "    <tr>\n",
       "      <th>72018</th>\n",
       "      <td>9221980340157146437</td>\n",
       "      <td>882882002</td>\n",
       "      <td>0</td>\n",
       "    </tr>\n",
       "    <tr>\n",
       "      <th>72018</th>\n",
       "      <td>9221980340157146437</td>\n",
       "      <td>908417001</td>\n",
       "      <td>0</td>\n",
       "    </tr>\n",
       "    <tr>\n",
       "      <th>72018</th>\n",
       "      <td>9221980340157146437</td>\n",
       "      <td>918443002</td>\n",
       "      <td>0</td>\n",
       "    </tr>\n",
       "    <tr>\n",
       "      <th>72018</th>\n",
       "      <td>9221980340157146437</td>\n",
       "      <td>853163003</td>\n",
       "      <td>0</td>\n",
       "    </tr>\n",
       "  </tbody>\n",
       "</table>\n",
       "<p>7282272 rows × 3 columns</p>\n",
       "</div>"
      ],
      "text/plain": [
       "               customer_id article_id  label\n",
       "0     -9223343869995384291  908292002      1\n",
       "0     -9223343869995384291  903926002      1\n",
       "0     -9223343869995384291  910601003      1\n",
       "0     -9223343869995384291  865929007      1\n",
       "1     -9223290575350349271  905518001      1\n",
       "...                    ...        ...    ...\n",
       "72018  9221980340157146437  898818003      0\n",
       "72018  9221980340157146437  882882002      0\n",
       "72018  9221980340157146437  908417001      0\n",
       "72018  9221980340157146437  918443002      0\n",
       "72018  9221980340157146437  853163003      0\n",
       "\n",
       "[7282272 rows x 3 columns]"
      ]
     },
     "execution_count": 82,
     "metadata": {},
     "output_type": "execute_result"
    }
   ],
   "source": [
    "train_group"
   ]
  },
  {
   "cell_type": "code",
   "execution_count": 83,
   "metadata": {
    "execution": {
     "iopub.execute_input": "2022-03-18T14:31:32.385615Z",
     "iopub.status.busy": "2022-03-18T14:31:32.381395Z",
     "iopub.status.idle": "2022-03-18T14:32:01.959866Z",
     "shell.execute_reply": "2022-03-18T14:32:01.959294Z",
     "shell.execute_reply.started": "2022-03-18T14:01:41.339031Z"
    },
    "papermill": {
     "duration": 29.702657,
     "end_time": "2022-03-18T14:32:01.960030",
     "exception": false,
     "start_time": "2022-03-18T14:31:32.257373",
     "status": "completed"
    },
    "tags": []
   },
   "outputs": [
    {
     "data": {
      "text/html": [
       "<div>\n",
       "<style scoped>\n",
       "    .dataframe tbody tr th:only-of-type {\n",
       "        vertical-align: middle;\n",
       "    }\n",
       "\n",
       "    .dataframe tbody tr th {\n",
       "        vertical-align: top;\n",
       "    }\n",
       "\n",
       "    .dataframe thead th {\n",
       "        text-align: right;\n",
       "    }\n",
       "</style>\n",
       "<table border=\"1\" class=\"dataframe\">\n",
       "  <thead>\n",
       "    <tr style=\"text-align: right;\">\n",
       "      <th></th>\n",
       "      <th>customer_id</th>\n",
       "      <th>article_id</th>\n",
       "      <th>label</th>\n",
       "    </tr>\n",
       "  </thead>\n",
       "  <tbody>\n",
       "    <tr>\n",
       "      <th>0</th>\n",
       "      <td>-9223343869995384291</td>\n",
       "      <td>215589002</td>\n",
       "      <td>0</td>\n",
       "    </tr>\n",
       "    <tr>\n",
       "      <th>1</th>\n",
       "      <td>-9223343869995384291</td>\n",
       "      <td>499334001</td>\n",
       "      <td>0</td>\n",
       "    </tr>\n",
       "    <tr>\n",
       "      <th>2</th>\n",
       "      <td>-9223343869995384291</td>\n",
       "      <td>500435128</td>\n",
       "      <td>0</td>\n",
       "    </tr>\n",
       "    <tr>\n",
       "      <th>3</th>\n",
       "      <td>-9223343869995384291</td>\n",
       "      <td>610776002</td>\n",
       "      <td>0</td>\n",
       "    </tr>\n",
       "    <tr>\n",
       "      <th>4</th>\n",
       "      <td>-9223343869995384291</td>\n",
       "      <td>673475003</td>\n",
       "      <td>0</td>\n",
       "    </tr>\n",
       "    <tr>\n",
       "      <th>...</th>\n",
       "      <td>...</td>\n",
       "      <td>...</td>\n",
       "      <td>...</td>\n",
       "    </tr>\n",
       "    <tr>\n",
       "      <th>7272989</th>\n",
       "      <td>9221980340157146437</td>\n",
       "      <td>923037003</td>\n",
       "      <td>0</td>\n",
       "    </tr>\n",
       "    <tr>\n",
       "      <th>7272990</th>\n",
       "      <td>9221980340157146437</td>\n",
       "      <td>924243001</td>\n",
       "      <td>0</td>\n",
       "    </tr>\n",
       "    <tr>\n",
       "      <th>7272991</th>\n",
       "      <td>9221980340157146437</td>\n",
       "      <td>932365008</td>\n",
       "      <td>0</td>\n",
       "    </tr>\n",
       "    <tr>\n",
       "      <th>7272992</th>\n",
       "      <td>9221980340157146437</td>\n",
       "      <td>933989002</td>\n",
       "      <td>0</td>\n",
       "    </tr>\n",
       "    <tr>\n",
       "      <th>7272993</th>\n",
       "      <td>9221980340157146437</td>\n",
       "      <td>935858002</td>\n",
       "      <td>0</td>\n",
       "    </tr>\n",
       "  </tbody>\n",
       "</table>\n",
       "<p>7272994 rows × 3 columns</p>\n",
       "</div>"
      ],
      "text/plain": [
       "                 customer_id  article_id  label\n",
       "0       -9223343869995384291   215589002      0\n",
       "1       -9223343869995384291   499334001      0\n",
       "2       -9223343869995384291   500435128      0\n",
       "3       -9223343869995384291   610776002      0\n",
       "4       -9223343869995384291   673475003      0\n",
       "...                      ...         ...    ...\n",
       "7272989  9221980340157146437   923037003      0\n",
       "7272990  9221980340157146437   924243001      0\n",
       "7272991  9221980340157146437   932365008      0\n",
       "7272992  9221980340157146437   933989002      0\n",
       "7272993  9221980340157146437   935858002      0\n",
       "\n",
       "[7272994 rows x 3 columns]"
      ]
     },
     "execution_count": 83,
     "metadata": {},
     "output_type": "execute_result"
    }
   ],
   "source": [
    "# negative samplingでたまたま選ばれた正解データはlabel=1にまとめる\n",
    "train_group = train_group.groupby(['customer_id', 'article_id'])['label'].agg(sum).reset_index(name='label')\n",
    "train_group"
   ]
  },
  {
   "cell_type": "markdown",
   "metadata": {
    "papermill": {
     "duration": 0.103839,
     "end_time": "2022-03-18T14:32:02.168358",
     "exception": false,
     "start_time": "2022-03-18T14:32:02.064519",
     "status": "completed"
    },
    "tags": []
   },
   "source": [
    "## Customer features"
   ]
  },
  {
   "cell_type": "markdown",
   "metadata": {
    "papermill": {
     "duration": 0.106041,
     "end_time": "2022-03-18T14:32:02.378766",
     "exception": false,
     "start_time": "2022-03-18T14:32:02.272725",
     "status": "completed"
    },
    "tags": []
   },
   "source": [
    "- customer_idごとに素性を作成"
   ]
  },
  {
   "cell_type": "code",
   "execution_count": 84,
   "metadata": {
    "execution": {
     "iopub.execute_input": "2022-03-18T14:32:02.590657Z",
     "iopub.status.busy": "2022-03-18T14:32:02.589759Z",
     "iopub.status.idle": "2022-03-18T14:32:08.686000Z",
     "shell.execute_reply": "2022-03-18T14:32:08.685074Z",
     "shell.execute_reply.started": "2022-03-18T14:02:10.562241Z"
    },
    "papermill": {
     "duration": 6.202488,
     "end_time": "2022-03-18T14:32:08.686197",
     "exception": false,
     "start_time": "2022-03-18T14:32:02.483709",
     "status": "completed"
    },
    "tags": []
   },
   "outputs": [
    {
     "data": {
      "text/html": [
       "<div>\n",
       "<style scoped>\n",
       "    .dataframe tbody tr th:only-of-type {\n",
       "        vertical-align: middle;\n",
       "    }\n",
       "\n",
       "    .dataframe tbody tr th {\n",
       "        vertical-align: top;\n",
       "    }\n",
       "\n",
       "    .dataframe thead th {\n",
       "        text-align: right;\n",
       "    }\n",
       "</style>\n",
       "<table border=\"1\" class=\"dataframe\">\n",
       "  <thead>\n",
       "    <tr style=\"text-align: right;\">\n",
       "      <th></th>\n",
       "      <th>customer_id</th>\n",
       "      <th>FN</th>\n",
       "      <th>Active</th>\n",
       "      <th>club_member_status</th>\n",
       "      <th>fashion_news_frequency</th>\n",
       "      <th>age</th>\n",
       "      <th>postal_code</th>\n",
       "    </tr>\n",
       "  </thead>\n",
       "  <tbody>\n",
       "    <tr>\n",
       "      <th>0</th>\n",
       "      <td>00000dbacae5abe5e23885899a1fa44253a17956c6d1c3...</td>\n",
       "      <td>NaN</td>\n",
       "      <td>NaN</td>\n",
       "      <td>ACTIVE</td>\n",
       "      <td>NONE</td>\n",
       "      <td>49.0</td>\n",
       "      <td>52043ee2162cf5aa7ee79974281641c6f11a68d276429a...</td>\n",
       "    </tr>\n",
       "    <tr>\n",
       "      <th>1</th>\n",
       "      <td>0000423b00ade91418cceaf3b26c6af3dd342b51fd051e...</td>\n",
       "      <td>NaN</td>\n",
       "      <td>NaN</td>\n",
       "      <td>ACTIVE</td>\n",
       "      <td>NONE</td>\n",
       "      <td>25.0</td>\n",
       "      <td>2973abc54daa8a5f8ccfe9362140c63247c5eee03f1d93...</td>\n",
       "    </tr>\n",
       "    <tr>\n",
       "      <th>2</th>\n",
       "      <td>000058a12d5b43e67d225668fa1f8d618c13dc232df0ca...</td>\n",
       "      <td>NaN</td>\n",
       "      <td>NaN</td>\n",
       "      <td>ACTIVE</td>\n",
       "      <td>NONE</td>\n",
       "      <td>24.0</td>\n",
       "      <td>64f17e6a330a85798e4998f62d0930d14db8db1c054af6...</td>\n",
       "    </tr>\n",
       "    <tr>\n",
       "      <th>3</th>\n",
       "      <td>00005ca1c9ed5f5146b52ac8639a40ca9d57aeff4d1bd2...</td>\n",
       "      <td>NaN</td>\n",
       "      <td>NaN</td>\n",
       "      <td>ACTIVE</td>\n",
       "      <td>NONE</td>\n",
       "      <td>54.0</td>\n",
       "      <td>5d36574f52495e81f019b680c843c443bd343d5ca5b1c2...</td>\n",
       "    </tr>\n",
       "    <tr>\n",
       "      <th>4</th>\n",
       "      <td>00006413d8573cd20ed7128e53b7b13819fe5cfc2d801f...</td>\n",
       "      <td>1.0</td>\n",
       "      <td>1.0</td>\n",
       "      <td>ACTIVE</td>\n",
       "      <td>Regularly</td>\n",
       "      <td>52.0</td>\n",
       "      <td>25fa5ddee9aac01b35208d01736e57942317d756b32ddd...</td>\n",
       "    </tr>\n",
       "    <tr>\n",
       "      <th>...</th>\n",
       "      <td>...</td>\n",
       "      <td>...</td>\n",
       "      <td>...</td>\n",
       "      <td>...</td>\n",
       "      <td>...</td>\n",
       "      <td>...</td>\n",
       "      <td>...</td>\n",
       "    </tr>\n",
       "    <tr>\n",
       "      <th>1371975</th>\n",
       "      <td>ffffbbf78b6eaac697a8a5dfbfd2bfa8113ee5b403e474...</td>\n",
       "      <td>NaN</td>\n",
       "      <td>NaN</td>\n",
       "      <td>ACTIVE</td>\n",
       "      <td>NONE</td>\n",
       "      <td>24.0</td>\n",
       "      <td>7aa399f7e669990daba2d92c577b52237380662f36480b...</td>\n",
       "    </tr>\n",
       "    <tr>\n",
       "      <th>1371976</th>\n",
       "      <td>ffffcd5046a6143d29a04fb8c424ce494a76e5cdf4fab5...</td>\n",
       "      <td>NaN</td>\n",
       "      <td>NaN</td>\n",
       "      <td>ACTIVE</td>\n",
       "      <td>NONE</td>\n",
       "      <td>21.0</td>\n",
       "      <td>3f47f1279beb72215f4de557d950e0bfa73789d24acb5e...</td>\n",
       "    </tr>\n",
       "    <tr>\n",
       "      <th>1371977</th>\n",
       "      <td>ffffcf35913a0bee60e8741cb2b4e78b8a98ee5ff2e6a1...</td>\n",
       "      <td>1.0</td>\n",
       "      <td>1.0</td>\n",
       "      <td>ACTIVE</td>\n",
       "      <td>Regularly</td>\n",
       "      <td>21.0</td>\n",
       "      <td>4563fc79215672cd6a863f2b4bf56b8f898f2d96ed590e...</td>\n",
       "    </tr>\n",
       "    <tr>\n",
       "      <th>1371978</th>\n",
       "      <td>ffffd7744cebcf3aca44ae7049d2a94b87074c3d4ffe38...</td>\n",
       "      <td>1.0</td>\n",
       "      <td>1.0</td>\n",
       "      <td>ACTIVE</td>\n",
       "      <td>Regularly</td>\n",
       "      <td>18.0</td>\n",
       "      <td>8892c18e9bc3dca6aa4000cb8094fc4b51ee8db2ed14d7...</td>\n",
       "    </tr>\n",
       "    <tr>\n",
       "      <th>1371979</th>\n",
       "      <td>ffffd9ac14e89946416d80e791d064701994755c3ab686...</td>\n",
       "      <td>NaN</td>\n",
       "      <td>NaN</td>\n",
       "      <td>PRE-CREATE</td>\n",
       "      <td>NONE</td>\n",
       "      <td>65.0</td>\n",
       "      <td>0a1a03306fb2f62164c2a439b38c0caa64b40deaae8687...</td>\n",
       "    </tr>\n",
       "  </tbody>\n",
       "</table>\n",
       "<p>1371980 rows × 7 columns</p>\n",
       "</div>"
      ],
      "text/plain": [
       "                                               customer_id   FN  Active  \\\n",
       "0        00000dbacae5abe5e23885899a1fa44253a17956c6d1c3...  NaN     NaN   \n",
       "1        0000423b00ade91418cceaf3b26c6af3dd342b51fd051e...  NaN     NaN   \n",
       "2        000058a12d5b43e67d225668fa1f8d618c13dc232df0ca...  NaN     NaN   \n",
       "3        00005ca1c9ed5f5146b52ac8639a40ca9d57aeff4d1bd2...  NaN     NaN   \n",
       "4        00006413d8573cd20ed7128e53b7b13819fe5cfc2d801f...  1.0     1.0   \n",
       "...                                                    ...  ...     ...   \n",
       "1371975  ffffbbf78b6eaac697a8a5dfbfd2bfa8113ee5b403e474...  NaN     NaN   \n",
       "1371976  ffffcd5046a6143d29a04fb8c424ce494a76e5cdf4fab5...  NaN     NaN   \n",
       "1371977  ffffcf35913a0bee60e8741cb2b4e78b8a98ee5ff2e6a1...  1.0     1.0   \n",
       "1371978  ffffd7744cebcf3aca44ae7049d2a94b87074c3d4ffe38...  1.0     1.0   \n",
       "1371979  ffffd9ac14e89946416d80e791d064701994755c3ab686...  NaN     NaN   \n",
       "\n",
       "        club_member_status fashion_news_frequency   age  \\\n",
       "0                   ACTIVE                   NONE  49.0   \n",
       "1                   ACTIVE                   NONE  25.0   \n",
       "2                   ACTIVE                   NONE  24.0   \n",
       "3                   ACTIVE                   NONE  54.0   \n",
       "4                   ACTIVE              Regularly  52.0   \n",
       "...                    ...                    ...   ...   \n",
       "1371975             ACTIVE                   NONE  24.0   \n",
       "1371976             ACTIVE                   NONE  21.0   \n",
       "1371977             ACTIVE              Regularly  21.0   \n",
       "1371978             ACTIVE              Regularly  18.0   \n",
       "1371979         PRE-CREATE                   NONE  65.0   \n",
       "\n",
       "                                               postal_code  \n",
       "0        52043ee2162cf5aa7ee79974281641c6f11a68d276429a...  \n",
       "1        2973abc54daa8a5f8ccfe9362140c63247c5eee03f1d93...  \n",
       "2        64f17e6a330a85798e4998f62d0930d14db8db1c054af6...  \n",
       "3        5d36574f52495e81f019b680c843c443bd343d5ca5b1c2...  \n",
       "4        25fa5ddee9aac01b35208d01736e57942317d756b32ddd...  \n",
       "...                                                    ...  \n",
       "1371975  7aa399f7e669990daba2d92c577b52237380662f36480b...  \n",
       "1371976  3f47f1279beb72215f4de557d950e0bfa73789d24acb5e...  \n",
       "1371977  4563fc79215672cd6a863f2b4bf56b8f898f2d96ed590e...  \n",
       "1371978  8892c18e9bc3dca6aa4000cb8094fc4b51ee8db2ed14d7...  \n",
       "1371979  0a1a03306fb2f62164c2a439b38c0caa64b40deaae8687...  \n",
       "\n",
       "[1371980 rows x 7 columns]"
      ]
     },
     "execution_count": 84,
     "metadata": {},
     "output_type": "execute_result"
    }
   ],
   "source": [
    "customers = pd.read_csv(path + 'customers.csv')\n",
    "customers"
   ]
  },
  {
   "cell_type": "code",
   "execution_count": 85,
   "metadata": {
    "execution": {
     "iopub.execute_input": "2022-03-18T14:32:08.898185Z",
     "iopub.status.busy": "2022-03-18T14:32:08.897212Z",
     "iopub.status.idle": "2022-03-18T14:32:08.907828Z",
     "shell.execute_reply": "2022-03-18T14:32:08.907104Z",
     "shell.execute_reply.started": "2022-03-18T14:02:16.004254Z"
    },
    "papermill": {
     "duration": 0.116846,
     "end_time": "2022-03-18T14:32:08.908030",
     "exception": false,
     "start_time": "2022-03-18T14:32:08.791184",
     "status": "completed"
    },
    "tags": []
   },
   "outputs": [
    {
     "name": "stdout",
     "output_type": "stream",
     "text": [
      "Index                          128\n",
      "customer_id               10975840\n",
      "FN                        10975840\n",
      "Active                    10975840\n",
      "club_member_status        10975840\n",
      "fashion_news_frequency    10975840\n",
      "age                       10975840\n",
      "postal_code               10975840\n",
      "dtype: int64\n",
      "customer_id                object\n",
      "FN                        float64\n",
      "Active                    float64\n",
      "club_member_status         object\n",
      "fashion_news_frequency     object\n",
      "age                       float64\n",
      "postal_code                object\n",
      "dtype: object\n"
     ]
    }
   ],
   "source": [
    "print(customers.memory_usage())\n",
    "print(customers.dtypes)"
   ]
  },
  {
   "cell_type": "code",
   "execution_count": 86,
   "metadata": {
    "execution": {
     "iopub.execute_input": "2022-03-18T14:32:09.126964Z",
     "iopub.status.busy": "2022-03-18T14:32:09.126254Z",
     "iopub.status.idle": "2022-03-18T14:32:13.206558Z",
     "shell.execute_reply": "2022-03-18T14:32:13.205919Z",
     "shell.execute_reply.started": "2022-03-18T14:02:16.015318Z"
    },
    "papermill": {
     "duration": 4.194225,
     "end_time": "2022-03-18T14:32:13.206740",
     "exception": false,
     "start_time": "2022-03-18T14:32:09.012515",
     "status": "completed"
    },
    "tags": []
   },
   "outputs": [],
   "source": [
    "customers['customer_id'] = customers['customer_id'].apply(lambda x: int(x[-16:],16) ).astype('int64')\n",
    "customers['age'] = customers['age'].fillna(0).astype('int8')\n",
    "customers['FN'] = customers['FN'].fillna(0).astype('bool')\n",
    "customers['Active'] = customers['Active'].fillna(0).astype('bool')\n",
    "customers['club_member_status'] = customers['club_member_status'].fillna('NA').astype('category').cat.codes\n",
    "customers['fashion_news_frequency'] = customers['fashion_news_frequency'].fillna('NA').astype('category').cat.codes\n",
    "# 長いのでuniqueになるようcategory型にした後に番号をふる\n",
    "customers['postal_code'] = customers['postal_code'].fillna('NA').astype('category').cat.codes\n",
    "#customers['postal_code'] = customers['postal_code'].fillna('NA').astype('category')"
   ]
  },
  {
   "cell_type": "code",
   "execution_count": 87,
   "metadata": {
    "execution": {
     "iopub.execute_input": "2022-03-18T14:32:13.420077Z",
     "iopub.status.busy": "2022-03-18T14:32:13.419424Z",
     "iopub.status.idle": "2022-03-18T14:32:13.427443Z",
     "shell.execute_reply": "2022-03-18T14:32:13.426822Z",
     "shell.execute_reply.started": "2022-03-18T14:02:20.239279Z"
    },
    "papermill": {
     "duration": 0.115636,
     "end_time": "2022-03-18T14:32:13.427612",
     "exception": false,
     "start_time": "2022-03-18T14:32:13.311976",
     "status": "completed"
    },
    "tags": []
   },
   "outputs": [
    {
     "name": "stdout",
     "output_type": "stream",
     "text": [
      "Index                          128\n",
      "customer_id               10975840\n",
      "FN                         1371980\n",
      "Active                     1371980\n",
      "club_member_status         1371980\n",
      "fashion_news_frequency     1371980\n",
      "age                        1371980\n",
      "postal_code                5487920\n",
      "dtype: int64\n",
      "customer_id               int64\n",
      "FN                         bool\n",
      "Active                     bool\n",
      "club_member_status         int8\n",
      "fashion_news_frequency     int8\n",
      "age                        int8\n",
      "postal_code               int32\n",
      "dtype: object\n"
     ]
    }
   ],
   "source": [
    "print(customers.memory_usage())\n",
    "print(customers.dtypes)"
   ]
  },
  {
   "cell_type": "code",
   "execution_count": 88,
   "metadata": {
    "execution": {
     "iopub.execute_input": "2022-03-18T14:32:13.643098Z",
     "iopub.status.busy": "2022-03-18T14:32:13.642344Z",
     "iopub.status.idle": "2022-03-18T14:32:13.672885Z",
     "shell.execute_reply": "2022-03-18T14:32:13.673560Z",
     "shell.execute_reply.started": "2022-03-18T14:02:20.249081Z"
    },
    "papermill": {
     "duration": 0.140901,
     "end_time": "2022-03-18T14:32:13.673800",
     "exception": false,
     "start_time": "2022-03-18T14:32:13.532899",
     "status": "completed"
    },
    "tags": []
   },
   "outputs": [
    {
     "name": "stdout",
     "output_type": "stream",
     "text": [
      "0    1272491\n",
      "3      92960\n",
      "2       6062\n",
      "1        467\n",
      "Name: club_member_status, dtype: int64\n",
      "0    1272491\n",
      "3      92960\n",
      "2       6062\n",
      "1        467\n",
      "Name: club_member_status, dtype: int64\n",
      "2    877711\n",
      "4    477416\n",
      "1     16009\n",
      "0       842\n",
      "3         2\n",
      "Name: fashion_news_frequency, dtype: int64\n",
      "<bound method IndexOpsMixin.value_counts of 0          112978\n",
      "1           57312\n",
      "2          139156\n",
      "3          128529\n",
      "4           52371\n",
      "            ...  \n",
      "1371975    169171\n",
      "1371976     87255\n",
      "1371977     95707\n",
      "1371978    188279\n",
      "1371979     13927\n",
      "Name: postal_code, Length: 1371980, dtype: int32>\n"
     ]
    }
   ],
   "source": [
    "print(customers['club_member_status'].value_counts())\n",
    "print(customers['club_member_status'].value_counts())\n",
    "print(customers['fashion_news_frequency'].value_counts())\n",
    "print(customers['postal_code'].value_counts)"
   ]
  },
  {
   "cell_type": "code",
   "execution_count": 89,
   "metadata": {
    "execution": {
     "iopub.execute_input": "2022-03-18T14:32:13.893690Z",
     "iopub.status.busy": "2022-03-18T14:32:13.892432Z",
     "iopub.status.idle": "2022-03-18T14:32:13.908880Z",
     "shell.execute_reply": "2022-03-18T14:32:13.909406Z",
     "shell.execute_reply.started": "2022-03-18T14:02:20.291474Z"
    },
    "papermill": {
     "duration": 0.12683,
     "end_time": "2022-03-18T14:32:13.909613",
     "exception": false,
     "start_time": "2022-03-18T14:32:13.782783",
     "status": "completed"
    },
    "tags": []
   },
   "outputs": [
    {
     "data": {
      "text/html": [
       "<div>\n",
       "<style scoped>\n",
       "    .dataframe tbody tr th:only-of-type {\n",
       "        vertical-align: middle;\n",
       "    }\n",
       "\n",
       "    .dataframe tbody tr th {\n",
       "        vertical-align: top;\n",
       "    }\n",
       "\n",
       "    .dataframe thead th {\n",
       "        text-align: right;\n",
       "    }\n",
       "</style>\n",
       "<table border=\"1\" class=\"dataframe\">\n",
       "  <thead>\n",
       "    <tr style=\"text-align: right;\">\n",
       "      <th></th>\n",
       "      <th>customer_id</th>\n",
       "      <th>FN</th>\n",
       "      <th>Active</th>\n",
       "      <th>club_member_status</th>\n",
       "      <th>fashion_news_frequency</th>\n",
       "      <th>age</th>\n",
       "      <th>postal_code</th>\n",
       "    </tr>\n",
       "  </thead>\n",
       "  <tbody>\n",
       "    <tr>\n",
       "      <th>0</th>\n",
       "      <td>6883939031699146327</td>\n",
       "      <td>False</td>\n",
       "      <td>False</td>\n",
       "      <td>0</td>\n",
       "      <td>2</td>\n",
       "      <td>49</td>\n",
       "      <td>112978</td>\n",
       "    </tr>\n",
       "    <tr>\n",
       "      <th>1</th>\n",
       "      <td>-7200416642310594310</td>\n",
       "      <td>False</td>\n",
       "      <td>False</td>\n",
       "      <td>0</td>\n",
       "      <td>2</td>\n",
       "      <td>25</td>\n",
       "      <td>57312</td>\n",
       "    </tr>\n",
       "    <tr>\n",
       "      <th>2</th>\n",
       "      <td>-6846340800584936</td>\n",
       "      <td>False</td>\n",
       "      <td>False</td>\n",
       "      <td>0</td>\n",
       "      <td>2</td>\n",
       "      <td>24</td>\n",
       "      <td>139156</td>\n",
       "    </tr>\n",
       "    <tr>\n",
       "      <th>3</th>\n",
       "      <td>-94071612138601410</td>\n",
       "      <td>False</td>\n",
       "      <td>False</td>\n",
       "      <td>0</td>\n",
       "      <td>2</td>\n",
       "      <td>54</td>\n",
       "      <td>128529</td>\n",
       "    </tr>\n",
       "    <tr>\n",
       "      <th>4</th>\n",
       "      <td>-283965518499174310</td>\n",
       "      <td>True</td>\n",
       "      <td>True</td>\n",
       "      <td>0</td>\n",
       "      <td>4</td>\n",
       "      <td>52</td>\n",
       "      <td>52371</td>\n",
       "    </tr>\n",
       "    <tr>\n",
       "      <th>...</th>\n",
       "      <td>...</td>\n",
       "      <td>...</td>\n",
       "      <td>...</td>\n",
       "      <td>...</td>\n",
       "      <td>...</td>\n",
       "      <td>...</td>\n",
       "      <td>...</td>\n",
       "    </tr>\n",
       "    <tr>\n",
       "      <th>1371975</th>\n",
       "      <td>7551062398649767985</td>\n",
       "      <td>False</td>\n",
       "      <td>False</td>\n",
       "      <td>0</td>\n",
       "      <td>2</td>\n",
       "      <td>24</td>\n",
       "      <td>169171</td>\n",
       "    </tr>\n",
       "    <tr>\n",
       "      <th>1371976</th>\n",
       "      <td>-9141402131989464905</td>\n",
       "      <td>False</td>\n",
       "      <td>False</td>\n",
       "      <td>0</td>\n",
       "      <td>2</td>\n",
       "      <td>21</td>\n",
       "      <td>87255</td>\n",
       "    </tr>\n",
       "    <tr>\n",
       "      <th>1371977</th>\n",
       "      <td>-8286316756823862684</td>\n",
       "      <td>True</td>\n",
       "      <td>True</td>\n",
       "      <td>0</td>\n",
       "      <td>4</td>\n",
       "      <td>21</td>\n",
       "      <td>95707</td>\n",
       "    </tr>\n",
       "    <tr>\n",
       "      <th>1371978</th>\n",
       "      <td>2551401172826382186</td>\n",
       "      <td>True</td>\n",
       "      <td>True</td>\n",
       "      <td>0</td>\n",
       "      <td>4</td>\n",
       "      <td>18</td>\n",
       "      <td>188279</td>\n",
       "    </tr>\n",
       "    <tr>\n",
       "      <th>1371979</th>\n",
       "      <td>-1516792180973952447</td>\n",
       "      <td>False</td>\n",
       "      <td>False</td>\n",
       "      <td>3</td>\n",
       "      <td>2</td>\n",
       "      <td>65</td>\n",
       "      <td>13927</td>\n",
       "    </tr>\n",
       "  </tbody>\n",
       "</table>\n",
       "<p>1371980 rows × 7 columns</p>\n",
       "</div>"
      ],
      "text/plain": [
       "                 customer_id     FN  Active  club_member_status  \\\n",
       "0        6883939031699146327  False   False                   0   \n",
       "1       -7200416642310594310  False   False                   0   \n",
       "2          -6846340800584936  False   False                   0   \n",
       "3         -94071612138601410  False   False                   0   \n",
       "4        -283965518499174310   True    True                   0   \n",
       "...                      ...    ...     ...                 ...   \n",
       "1371975  7551062398649767985  False   False                   0   \n",
       "1371976 -9141402131989464905  False   False                   0   \n",
       "1371977 -8286316756823862684   True    True                   0   \n",
       "1371978  2551401172826382186   True    True                   0   \n",
       "1371979 -1516792180973952447  False   False                   3   \n",
       "\n",
       "         fashion_news_frequency  age  postal_code  \n",
       "0                             2   49       112978  \n",
       "1                             2   25        57312  \n",
       "2                             2   24       139156  \n",
       "3                             2   54       128529  \n",
       "4                             4   52        52371  \n",
       "...                         ...  ...          ...  \n",
       "1371975                       2   24       169171  \n",
       "1371976                       2   21        87255  \n",
       "1371977                       4   21        95707  \n",
       "1371978                       4   18       188279  \n",
       "1371979                       2   65        13927  \n",
       "\n",
       "[1371980 rows x 7 columns]"
      ]
     },
     "execution_count": 89,
     "metadata": {},
     "output_type": "execute_result"
    }
   ],
   "source": [
    "customers"
   ]
  },
  {
   "cell_type": "markdown",
   "metadata": {
    "papermill": {
     "duration": 0.108476,
     "end_time": "2022-03-18T14:32:14.126846",
     "exception": false,
     "start_time": "2022-03-18T14:32:14.018370",
     "status": "completed"
    },
    "tags": []
   },
   "source": [
    "## Article features"
   ]
  },
  {
   "cell_type": "code",
   "execution_count": 90,
   "metadata": {
    "execution": {
     "iopub.execute_input": "2022-03-18T14:32:14.346319Z",
     "iopub.status.busy": "2022-03-18T14:32:14.345316Z",
     "iopub.status.idle": "2022-03-18T14:32:15.509408Z",
     "shell.execute_reply": "2022-03-18T14:32:15.508779Z",
     "shell.execute_reply.started": "2022-03-18T14:02:20.317664Z"
    },
    "papermill": {
     "duration": 1.27462,
     "end_time": "2022-03-18T14:32:15.509589",
     "exception": false,
     "start_time": "2022-03-18T14:32:14.234969",
     "status": "completed"
    },
    "tags": []
   },
   "outputs": [
    {
     "data": {
      "text/html": [
       "<div>\n",
       "<style scoped>\n",
       "    .dataframe tbody tr th:only-of-type {\n",
       "        vertical-align: middle;\n",
       "    }\n",
       "\n",
       "    .dataframe tbody tr th {\n",
       "        vertical-align: top;\n",
       "    }\n",
       "\n",
       "    .dataframe thead th {\n",
       "        text-align: right;\n",
       "    }\n",
       "</style>\n",
       "<table border=\"1\" class=\"dataframe\">\n",
       "  <thead>\n",
       "    <tr style=\"text-align: right;\">\n",
       "      <th></th>\n",
       "      <th>article_id</th>\n",
       "      <th>product_code</th>\n",
       "      <th>prod_name</th>\n",
       "      <th>product_type_no</th>\n",
       "      <th>product_type_name</th>\n",
       "      <th>product_group_name</th>\n",
       "      <th>graphical_appearance_no</th>\n",
       "      <th>graphical_appearance_name</th>\n",
       "      <th>colour_group_code</th>\n",
       "      <th>colour_group_name</th>\n",
       "      <th>...</th>\n",
       "      <th>department_name</th>\n",
       "      <th>index_code</th>\n",
       "      <th>index_name</th>\n",
       "      <th>index_group_no</th>\n",
       "      <th>index_group_name</th>\n",
       "      <th>section_no</th>\n",
       "      <th>section_name</th>\n",
       "      <th>garment_group_no</th>\n",
       "      <th>garment_group_name</th>\n",
       "      <th>detail_desc</th>\n",
       "    </tr>\n",
       "  </thead>\n",
       "  <tbody>\n",
       "    <tr>\n",
       "      <th>0</th>\n",
       "      <td>108775015</td>\n",
       "      <td>108775</td>\n",
       "      <td>Strap top</td>\n",
       "      <td>253</td>\n",
       "      <td>Vest top</td>\n",
       "      <td>Garment Upper body</td>\n",
       "      <td>1010016</td>\n",
       "      <td>Solid</td>\n",
       "      <td>9</td>\n",
       "      <td>Black</td>\n",
       "      <td>...</td>\n",
       "      <td>Jersey Basic</td>\n",
       "      <td>A</td>\n",
       "      <td>Ladieswear</td>\n",
       "      <td>1</td>\n",
       "      <td>Ladieswear</td>\n",
       "      <td>16</td>\n",
       "      <td>Womens Everyday Basics</td>\n",
       "      <td>1002</td>\n",
       "      <td>Jersey Basic</td>\n",
       "      <td>Jersey top with narrow shoulder straps.</td>\n",
       "    </tr>\n",
       "    <tr>\n",
       "      <th>1</th>\n",
       "      <td>108775044</td>\n",
       "      <td>108775</td>\n",
       "      <td>Strap top</td>\n",
       "      <td>253</td>\n",
       "      <td>Vest top</td>\n",
       "      <td>Garment Upper body</td>\n",
       "      <td>1010016</td>\n",
       "      <td>Solid</td>\n",
       "      <td>10</td>\n",
       "      <td>White</td>\n",
       "      <td>...</td>\n",
       "      <td>Jersey Basic</td>\n",
       "      <td>A</td>\n",
       "      <td>Ladieswear</td>\n",
       "      <td>1</td>\n",
       "      <td>Ladieswear</td>\n",
       "      <td>16</td>\n",
       "      <td>Womens Everyday Basics</td>\n",
       "      <td>1002</td>\n",
       "      <td>Jersey Basic</td>\n",
       "      <td>Jersey top with narrow shoulder straps.</td>\n",
       "    </tr>\n",
       "    <tr>\n",
       "      <th>2</th>\n",
       "      <td>108775051</td>\n",
       "      <td>108775</td>\n",
       "      <td>Strap top (1)</td>\n",
       "      <td>253</td>\n",
       "      <td>Vest top</td>\n",
       "      <td>Garment Upper body</td>\n",
       "      <td>1010017</td>\n",
       "      <td>Stripe</td>\n",
       "      <td>11</td>\n",
       "      <td>Off White</td>\n",
       "      <td>...</td>\n",
       "      <td>Jersey Basic</td>\n",
       "      <td>A</td>\n",
       "      <td>Ladieswear</td>\n",
       "      <td>1</td>\n",
       "      <td>Ladieswear</td>\n",
       "      <td>16</td>\n",
       "      <td>Womens Everyday Basics</td>\n",
       "      <td>1002</td>\n",
       "      <td>Jersey Basic</td>\n",
       "      <td>Jersey top with narrow shoulder straps.</td>\n",
       "    </tr>\n",
       "    <tr>\n",
       "      <th>3</th>\n",
       "      <td>110065001</td>\n",
       "      <td>110065</td>\n",
       "      <td>OP T-shirt (Idro)</td>\n",
       "      <td>306</td>\n",
       "      <td>Bra</td>\n",
       "      <td>Underwear</td>\n",
       "      <td>1010016</td>\n",
       "      <td>Solid</td>\n",
       "      <td>9</td>\n",
       "      <td>Black</td>\n",
       "      <td>...</td>\n",
       "      <td>Clean Lingerie</td>\n",
       "      <td>B</td>\n",
       "      <td>Lingeries/Tights</td>\n",
       "      <td>1</td>\n",
       "      <td>Ladieswear</td>\n",
       "      <td>61</td>\n",
       "      <td>Womens Lingerie</td>\n",
       "      <td>1017</td>\n",
       "      <td>Under-, Nightwear</td>\n",
       "      <td>Microfibre T-shirt bra with underwired, moulde...</td>\n",
       "    </tr>\n",
       "    <tr>\n",
       "      <th>4</th>\n",
       "      <td>110065002</td>\n",
       "      <td>110065</td>\n",
       "      <td>OP T-shirt (Idro)</td>\n",
       "      <td>306</td>\n",
       "      <td>Bra</td>\n",
       "      <td>Underwear</td>\n",
       "      <td>1010016</td>\n",
       "      <td>Solid</td>\n",
       "      <td>10</td>\n",
       "      <td>White</td>\n",
       "      <td>...</td>\n",
       "      <td>Clean Lingerie</td>\n",
       "      <td>B</td>\n",
       "      <td>Lingeries/Tights</td>\n",
       "      <td>1</td>\n",
       "      <td>Ladieswear</td>\n",
       "      <td>61</td>\n",
       "      <td>Womens Lingerie</td>\n",
       "      <td>1017</td>\n",
       "      <td>Under-, Nightwear</td>\n",
       "      <td>Microfibre T-shirt bra with underwired, moulde...</td>\n",
       "    </tr>\n",
       "  </tbody>\n",
       "</table>\n",
       "<p>5 rows × 25 columns</p>\n",
       "</div>"
      ],
      "text/plain": [
       "   article_id  product_code          prod_name  product_type_no  \\\n",
       "0   108775015        108775          Strap top              253   \n",
       "1   108775044        108775          Strap top              253   \n",
       "2   108775051        108775      Strap top (1)              253   \n",
       "3   110065001        110065  OP T-shirt (Idro)              306   \n",
       "4   110065002        110065  OP T-shirt (Idro)              306   \n",
       "\n",
       "  product_type_name  product_group_name  graphical_appearance_no  \\\n",
       "0          Vest top  Garment Upper body                  1010016   \n",
       "1          Vest top  Garment Upper body                  1010016   \n",
       "2          Vest top  Garment Upper body                  1010017   \n",
       "3               Bra           Underwear                  1010016   \n",
       "4               Bra           Underwear                  1010016   \n",
       "\n",
       "  graphical_appearance_name  colour_group_code colour_group_name  ...  \\\n",
       "0                     Solid                  9             Black  ...   \n",
       "1                     Solid                 10             White  ...   \n",
       "2                    Stripe                 11         Off White  ...   \n",
       "3                     Solid                  9             Black  ...   \n",
       "4                     Solid                 10             White  ...   \n",
       "\n",
       "   department_name index_code        index_name index_group_no  \\\n",
       "0     Jersey Basic          A        Ladieswear              1   \n",
       "1     Jersey Basic          A        Ladieswear              1   \n",
       "2     Jersey Basic          A        Ladieswear              1   \n",
       "3   Clean Lingerie          B  Lingeries/Tights              1   \n",
       "4   Clean Lingerie          B  Lingeries/Tights              1   \n",
       "\n",
       "   index_group_name section_no            section_name garment_group_no  \\\n",
       "0        Ladieswear         16  Womens Everyday Basics             1002   \n",
       "1        Ladieswear         16  Womens Everyday Basics             1002   \n",
       "2        Ladieswear         16  Womens Everyday Basics             1002   \n",
       "3        Ladieswear         61         Womens Lingerie             1017   \n",
       "4        Ladieswear         61         Womens Lingerie             1017   \n",
       "\n",
       "   garment_group_name                                        detail_desc  \n",
       "0        Jersey Basic            Jersey top with narrow shoulder straps.  \n",
       "1        Jersey Basic            Jersey top with narrow shoulder straps.  \n",
       "2        Jersey Basic            Jersey top with narrow shoulder straps.  \n",
       "3   Under-, Nightwear  Microfibre T-shirt bra with underwired, moulde...  \n",
       "4   Under-, Nightwear  Microfibre T-shirt bra with underwired, moulde...  \n",
       "\n",
       "[5 rows x 25 columns]"
      ]
     },
     "execution_count": 90,
     "metadata": {},
     "output_type": "execute_result"
    }
   ],
   "source": [
    "articles = pd.read_csv(path + 'articles.csv')\n",
    "articles.head()"
   ]
  },
  {
   "cell_type": "code",
   "execution_count": 91,
   "metadata": {
    "execution": {
     "iopub.execute_input": "2022-03-18T14:32:15.735496Z",
     "iopub.status.busy": "2022-03-18T14:32:15.734721Z",
     "iopub.status.idle": "2022-03-18T14:32:15.738423Z",
     "shell.execute_reply": "2022-03-18T14:32:15.738998Z",
     "shell.execute_reply.started": "2022-03-18T14:02:21.394205Z"
    },
    "papermill": {
     "duration": 0.121987,
     "end_time": "2022-03-18T14:32:15.739221",
     "exception": false,
     "start_time": "2022-03-18T14:32:15.617234",
     "status": "completed"
    },
    "tags": []
   },
   "outputs": [
    {
     "name": "stdout",
     "output_type": "stream",
     "text": [
      "Index                              128\n",
      "article_id                      844336\n",
      "product_code                    844336\n",
      "prod_name                       844336\n",
      "product_type_no                 844336\n",
      "product_type_name               844336\n",
      "product_group_name              844336\n",
      "graphical_appearance_no         844336\n",
      "graphical_appearance_name       844336\n",
      "colour_group_code               844336\n",
      "colour_group_name               844336\n",
      "perceived_colour_value_id       844336\n",
      "perceived_colour_value_name     844336\n",
      "perceived_colour_master_id      844336\n",
      "perceived_colour_master_name    844336\n",
      "department_no                   844336\n",
      "department_name                 844336\n",
      "index_code                      844336\n",
      "index_name                      844336\n",
      "index_group_no                  844336\n",
      "index_group_name                844336\n",
      "section_no                      844336\n",
      "section_name                    844336\n",
      "garment_group_no                844336\n",
      "garment_group_name              844336\n",
      "detail_desc                     844336\n",
      "dtype: int64\n",
      "article_id                       int64\n",
      "product_code                     int64\n",
      "prod_name                       object\n",
      "product_type_no                  int64\n",
      "product_type_name               object\n",
      "product_group_name              object\n",
      "graphical_appearance_no          int64\n",
      "graphical_appearance_name       object\n",
      "colour_group_code                int64\n",
      "colour_group_name               object\n",
      "perceived_colour_value_id        int64\n",
      "perceived_colour_value_name     object\n",
      "perceived_colour_master_id       int64\n",
      "perceived_colour_master_name    object\n",
      "department_no                    int64\n",
      "department_name                 object\n",
      "index_code                      object\n",
      "index_name                      object\n",
      "index_group_no                   int64\n",
      "index_group_name                object\n",
      "section_no                       int64\n",
      "section_name                    object\n",
      "garment_group_no                 int64\n",
      "garment_group_name              object\n",
      "detail_desc                     object\n",
      "dtype: object\n"
     ]
    }
   ],
   "source": [
    "print(articles.memory_usage())\n",
    "print(articles.dtypes)"
   ]
  },
  {
   "cell_type": "code",
   "execution_count": 92,
   "metadata": {
    "execution": {
     "iopub.execute_input": "2022-03-18T14:32:15.958000Z",
     "iopub.status.busy": "2022-03-18T14:32:15.955654Z",
     "iopub.status.idle": "2022-03-18T14:32:15.966601Z",
     "shell.execute_reply": "2022-03-18T14:32:15.965979Z",
     "shell.execute_reply.started": "2022-03-18T14:02:21.405360Z"
    },
    "papermill": {
     "duration": 0.121499,
     "end_time": "2022-03-18T14:32:15.966749",
     "exception": false,
     "start_time": "2022-03-18T14:32:15.845250",
     "status": "completed"
    },
    "tags": []
   },
   "outputs": [],
   "source": [
    "articles['article_id'] = articles['article_id'].astype('int32')"
   ]
  },
  {
   "cell_type": "code",
   "execution_count": 93,
   "metadata": {
    "execution": {
     "iopub.execute_input": "2022-03-18T14:32:16.196424Z",
     "iopub.status.busy": "2022-03-18T14:32:16.195723Z",
     "iopub.status.idle": "2022-03-18T14:32:16.199210Z",
     "shell.execute_reply": "2022-03-18T14:32:16.198560Z",
     "shell.execute_reply.started": "2022-03-18T14:02:21.419213Z"
    },
    "papermill": {
     "duration": 0.121529,
     "end_time": "2022-03-18T14:32:16.199382",
     "exception": false,
     "start_time": "2022-03-18T14:32:16.077853",
     "status": "completed"
    },
    "tags": []
   },
   "outputs": [],
   "source": [
    "# idがあるカラムのnameは消す\n",
    "drop_list = ['product_type_name', \n",
    "             'graphical_appearance_name', \n",
    "             'colour_group_name', \n",
    "             'perceived_colour_value_name', \n",
    "             'perceived_colour_master_name',\n",
    "             'department_name',\n",
    "             'index_name',\n",
    "             'index_group_name',\n",
    "             'section_name',\n",
    "             'garment_group_name',\n",
    "             'product_group_name',\n",
    "             'prod_name',\n",
    "             'detail_desc'\n",
    "            ]\n",
    "\n",
    "articles = articles.drop(drop_list, axis='columns')"
   ]
  },
  {
   "cell_type": "code",
   "execution_count": 94,
   "metadata": {
    "execution": {
     "iopub.execute_input": "2022-03-18T14:32:16.422115Z",
     "iopub.status.busy": "2022-03-18T14:32:16.421430Z",
     "iopub.status.idle": "2022-03-18T14:32:16.461513Z",
     "shell.execute_reply": "2022-03-18T14:32:16.460788Z",
     "shell.execute_reply.started": "2022-03-18T14:02:21.433442Z"
    },
    "papermill": {
     "duration": 0.15573,
     "end_time": "2022-03-18T14:32:16.461659",
     "exception": false,
     "start_time": "2022-03-18T14:32:16.305929",
     "status": "completed"
    },
    "tags": []
   },
   "outputs": [],
   "source": [
    "articles['product_code']                = articles['product_code'].fillna(0).astype('int32')                \n",
    "articles['product_type_no']             = articles['product_type_no'].astype('int32')               \n",
    "articles['graphical_appearance_no']     = articles['graphical_appearance_no'].astype('int32') \n",
    "articles['colour_group_code']           = articles['colour_group_code'].astype('int32')   \n",
    "articles['perceived_colour_value_id']   = articles['perceived_colour_value_id'].astype('int32')     \n",
    "articles['perceived_colour_master_id']  = articles['perceived_colour_master_id'].astype('int32')    \n",
    "articles['department_no']               = articles['department_no'].astype('category').cat.codes                 \n",
    "articles['index_code']                  = articles['index_code'].astype('category').cat.codes                 \n",
    "articles['index_group_no']              = articles['index_group_no'].astype('int8')                \n",
    "articles['section_no']                  = articles['section_no'].astype('int8')                    \n",
    "articles['garment_group_no']            = articles['garment_group_no'].astype('int16')              "
   ]
  },
  {
   "cell_type": "code",
   "execution_count": 95,
   "metadata": {
    "execution": {
     "iopub.execute_input": "2022-03-18T14:32:16.686681Z",
     "iopub.status.busy": "2022-03-18T14:32:16.682326Z",
     "iopub.status.idle": "2022-03-18T14:32:16.696613Z",
     "shell.execute_reply": "2022-03-18T14:32:16.695965Z",
     "shell.execute_reply.started": "2022-03-18T14:02:21.476871Z"
    },
    "papermill": {
     "duration": 0.128302,
     "end_time": "2022-03-18T14:32:16.696753",
     "exception": false,
     "start_time": "2022-03-18T14:32:16.568451",
     "status": "completed"
    },
    "tags": []
   },
   "outputs": [
    {
     "data": {
      "text/html": [
       "<div>\n",
       "<style scoped>\n",
       "    .dataframe tbody tr th:only-of-type {\n",
       "        vertical-align: middle;\n",
       "    }\n",
       "\n",
       "    .dataframe tbody tr th {\n",
       "        vertical-align: top;\n",
       "    }\n",
       "\n",
       "    .dataframe thead th {\n",
       "        text-align: right;\n",
       "    }\n",
       "</style>\n",
       "<table border=\"1\" class=\"dataframe\">\n",
       "  <thead>\n",
       "    <tr style=\"text-align: right;\">\n",
       "      <th></th>\n",
       "      <th>article_id</th>\n",
       "      <th>product_code</th>\n",
       "      <th>product_type_no</th>\n",
       "      <th>graphical_appearance_no</th>\n",
       "      <th>colour_group_code</th>\n",
       "      <th>perceived_colour_value_id</th>\n",
       "      <th>perceived_colour_master_id</th>\n",
       "      <th>department_no</th>\n",
       "      <th>index_code</th>\n",
       "      <th>index_group_no</th>\n",
       "      <th>section_no</th>\n",
       "      <th>garment_group_no</th>\n",
       "    </tr>\n",
       "  </thead>\n",
       "  <tbody>\n",
       "    <tr>\n",
       "      <th>0</th>\n",
       "      <td>108775015</td>\n",
       "      <td>108775</td>\n",
       "      <td>253</td>\n",
       "      <td>1010016</td>\n",
       "      <td>9</td>\n",
       "      <td>4</td>\n",
       "      <td>5</td>\n",
       "      <td>47</td>\n",
       "      <td>0</td>\n",
       "      <td>1</td>\n",
       "      <td>16</td>\n",
       "      <td>1002</td>\n",
       "    </tr>\n",
       "    <tr>\n",
       "      <th>1</th>\n",
       "      <td>108775044</td>\n",
       "      <td>108775</td>\n",
       "      <td>253</td>\n",
       "      <td>1010016</td>\n",
       "      <td>10</td>\n",
       "      <td>3</td>\n",
       "      <td>9</td>\n",
       "      <td>47</td>\n",
       "      <td>0</td>\n",
       "      <td>1</td>\n",
       "      <td>16</td>\n",
       "      <td>1002</td>\n",
       "    </tr>\n",
       "    <tr>\n",
       "      <th>2</th>\n",
       "      <td>108775051</td>\n",
       "      <td>108775</td>\n",
       "      <td>253</td>\n",
       "      <td>1010017</td>\n",
       "      <td>11</td>\n",
       "      <td>1</td>\n",
       "      <td>9</td>\n",
       "      <td>47</td>\n",
       "      <td>0</td>\n",
       "      <td>1</td>\n",
       "      <td>16</td>\n",
       "      <td>1002</td>\n",
       "    </tr>\n",
       "    <tr>\n",
       "      <th>3</th>\n",
       "      <td>110065001</td>\n",
       "      <td>110065</td>\n",
       "      <td>306</td>\n",
       "      <td>1010016</td>\n",
       "      <td>9</td>\n",
       "      <td>4</td>\n",
       "      <td>5</td>\n",
       "      <td>12</td>\n",
       "      <td>1</td>\n",
       "      <td>1</td>\n",
       "      <td>61</td>\n",
       "      <td>1017</td>\n",
       "    </tr>\n",
       "    <tr>\n",
       "      <th>4</th>\n",
       "      <td>110065002</td>\n",
       "      <td>110065</td>\n",
       "      <td>306</td>\n",
       "      <td>1010016</td>\n",
       "      <td>10</td>\n",
       "      <td>3</td>\n",
       "      <td>9</td>\n",
       "      <td>12</td>\n",
       "      <td>1</td>\n",
       "      <td>1</td>\n",
       "      <td>61</td>\n",
       "      <td>1017</td>\n",
       "    </tr>\n",
       "    <tr>\n",
       "      <th>...</th>\n",
       "      <td>...</td>\n",
       "      <td>...</td>\n",
       "      <td>...</td>\n",
       "      <td>...</td>\n",
       "      <td>...</td>\n",
       "      <td>...</td>\n",
       "      <td>...</td>\n",
       "      <td>...</td>\n",
       "      <td>...</td>\n",
       "      <td>...</td>\n",
       "      <td>...</td>\n",
       "      <td>...</td>\n",
       "    </tr>\n",
       "    <tr>\n",
       "      <th>105537</th>\n",
       "      <td>953450001</td>\n",
       "      <td>953450</td>\n",
       "      <td>302</td>\n",
       "      <td>1010014</td>\n",
       "      <td>9</td>\n",
       "      <td>4</td>\n",
       "      <td>5</td>\n",
       "      <td>224</td>\n",
       "      <td>4</td>\n",
       "      <td>3</td>\n",
       "      <td>26</td>\n",
       "      <td>1021</td>\n",
       "    </tr>\n",
       "    <tr>\n",
       "      <th>105538</th>\n",
       "      <td>953763001</td>\n",
       "      <td>953763</td>\n",
       "      <td>253</td>\n",
       "      <td>1010016</td>\n",
       "      <td>9</td>\n",
       "      <td>4</td>\n",
       "      <td>5</td>\n",
       "      <td>66</td>\n",
       "      <td>0</td>\n",
       "      <td>1</td>\n",
       "      <td>2</td>\n",
       "      <td>1005</td>\n",
       "    </tr>\n",
       "    <tr>\n",
       "      <th>105539</th>\n",
       "      <td>956217002</td>\n",
       "      <td>956217</td>\n",
       "      <td>265</td>\n",
       "      <td>1010016</td>\n",
       "      <td>9</td>\n",
       "      <td>4</td>\n",
       "      <td>5</td>\n",
       "      <td>34</td>\n",
       "      <td>0</td>\n",
       "      <td>1</td>\n",
       "      <td>18</td>\n",
       "      <td>1005</td>\n",
       "    </tr>\n",
       "    <tr>\n",
       "      <th>105540</th>\n",
       "      <td>957375001</td>\n",
       "      <td>957375</td>\n",
       "      <td>72</td>\n",
       "      <td>1010016</td>\n",
       "      <td>9</td>\n",
       "      <td>4</td>\n",
       "      <td>5</td>\n",
       "      <td>120</td>\n",
       "      <td>3</td>\n",
       "      <td>2</td>\n",
       "      <td>52</td>\n",
       "      <td>1019</td>\n",
       "    </tr>\n",
       "    <tr>\n",
       "      <th>105541</th>\n",
       "      <td>959461001</td>\n",
       "      <td>959461</td>\n",
       "      <td>265</td>\n",
       "      <td>1010016</td>\n",
       "      <td>11</td>\n",
       "      <td>1</td>\n",
       "      <td>9</td>\n",
       "      <td>34</td>\n",
       "      <td>0</td>\n",
       "      <td>1</td>\n",
       "      <td>18</td>\n",
       "      <td>1005</td>\n",
       "    </tr>\n",
       "  </tbody>\n",
       "</table>\n",
       "<p>105542 rows × 12 columns</p>\n",
       "</div>"
      ],
      "text/plain": [
       "        article_id  product_code  product_type_no  graphical_appearance_no  \\\n",
       "0        108775015        108775              253                  1010016   \n",
       "1        108775044        108775              253                  1010016   \n",
       "2        108775051        108775              253                  1010017   \n",
       "3        110065001        110065              306                  1010016   \n",
       "4        110065002        110065              306                  1010016   \n",
       "...            ...           ...              ...                      ...   \n",
       "105537   953450001        953450              302                  1010014   \n",
       "105538   953763001        953763              253                  1010016   \n",
       "105539   956217002        956217              265                  1010016   \n",
       "105540   957375001        957375               72                  1010016   \n",
       "105541   959461001        959461              265                  1010016   \n",
       "\n",
       "        colour_group_code  perceived_colour_value_id  \\\n",
       "0                       9                          4   \n",
       "1                      10                          3   \n",
       "2                      11                          1   \n",
       "3                       9                          4   \n",
       "4                      10                          3   \n",
       "...                   ...                        ...   \n",
       "105537                  9                          4   \n",
       "105538                  9                          4   \n",
       "105539                  9                          4   \n",
       "105540                  9                          4   \n",
       "105541                 11                          1   \n",
       "\n",
       "        perceived_colour_master_id  department_no  index_code  index_group_no  \\\n",
       "0                                5             47           0               1   \n",
       "1                                9             47           0               1   \n",
       "2                                9             47           0               1   \n",
       "3                                5             12           1               1   \n",
       "4                                9             12           1               1   \n",
       "...                            ...            ...         ...             ...   \n",
       "105537                           5            224           4               3   \n",
       "105538                           5             66           0               1   \n",
       "105539                           5             34           0               1   \n",
       "105540                           5            120           3               2   \n",
       "105541                           9             34           0               1   \n",
       "\n",
       "        section_no  garment_group_no  \n",
       "0               16              1002  \n",
       "1               16              1002  \n",
       "2               16              1002  \n",
       "3               61              1017  \n",
       "4               61              1017  \n",
       "...            ...               ...  \n",
       "105537          26              1021  \n",
       "105538           2              1005  \n",
       "105539          18              1005  \n",
       "105540          52              1019  \n",
       "105541          18              1005  \n",
       "\n",
       "[105542 rows x 12 columns]"
      ]
     },
     "execution_count": 95,
     "metadata": {},
     "output_type": "execute_result"
    }
   ],
   "source": [
    "articles"
   ]
  },
  {
   "cell_type": "markdown",
   "metadata": {
    "papermill": {
     "duration": 0.107054,
     "end_time": "2022-03-18T14:32:16.913501",
     "exception": false,
     "start_time": "2022-03-18T14:32:16.806447",
     "status": "completed"
    },
    "tags": []
   },
   "source": [
    "## dynamic features"
   ]
  },
  {
   "cell_type": "markdown",
   "metadata": {
    "papermill": {
     "duration": 0.106489,
     "end_time": "2022-03-18T14:32:17.128439",
     "exception": false,
     "start_time": "2022-03-18T14:32:17.021950",
     "status": "completed"
    },
    "tags": []
   },
   "source": [
    "### train"
   ]
  },
  {
   "cell_type": "code",
   "execution_count": 96,
   "metadata": {
    "execution": {
     "iopub.execute_input": "2022-03-18T14:32:19.660998Z",
     "iopub.status.busy": "2022-03-18T14:32:19.659950Z",
     "iopub.status.idle": "2022-03-18T14:32:19.664723Z",
     "shell.execute_reply": "2022-03-18T14:32:19.664029Z",
     "shell.execute_reply.started": "2022-03-18T14:02:23.352068Z"
    },
    "papermill": {
     "duration": 0.12544,
     "end_time": "2022-03-18T14:32:19.664891",
     "exception": false,
     "start_time": "2022-03-18T14:32:19.539451",
     "status": "completed"
    },
    "tags": []
   },
   "outputs": [
    {
     "data": {
      "text/html": [
       "<div>\n",
       "<style scoped>\n",
       "    .dataframe tbody tr th:only-of-type {\n",
       "        vertical-align: middle;\n",
       "    }\n",
       "\n",
       "    .dataframe tbody tr th {\n",
       "        vertical-align: top;\n",
       "    }\n",
       "\n",
       "    .dataframe thead th {\n",
       "        text-align: right;\n",
       "    }\n",
       "</style>\n",
       "<table border=\"1\" class=\"dataframe\">\n",
       "  <thead>\n",
       "    <tr style=\"text-align: right;\">\n",
       "      <th></th>\n",
       "      <th>t_dat</th>\n",
       "      <th>customer_id</th>\n",
       "      <th>article_id</th>\n",
       "      <th>price</th>\n",
       "      <th>sales_channel_id</th>\n",
       "    </tr>\n",
       "  </thead>\n",
       "  <tbody>\n",
       "    <tr>\n",
       "      <th>0</th>\n",
       "      <td>2018-09-20</td>\n",
       "      <td>-6846340800584936</td>\n",
       "      <td>663713001</td>\n",
       "      <td>0.050831</td>\n",
       "      <td>2</td>\n",
       "    </tr>\n",
       "    <tr>\n",
       "      <th>1</th>\n",
       "      <td>2018-09-20</td>\n",
       "      <td>-6846340800584936</td>\n",
       "      <td>541518023</td>\n",
       "      <td>0.030492</td>\n",
       "      <td>2</td>\n",
       "    </tr>\n",
       "    <tr>\n",
       "      <th>2</th>\n",
       "      <td>2018-09-20</td>\n",
       "      <td>-8334631767138808638</td>\n",
       "      <td>505221004</td>\n",
       "      <td>0.015237</td>\n",
       "      <td>2</td>\n",
       "    </tr>\n",
       "    <tr>\n",
       "      <th>3</th>\n",
       "      <td>2018-09-20</td>\n",
       "      <td>-8334631767138808638</td>\n",
       "      <td>685687003</td>\n",
       "      <td>0.016932</td>\n",
       "      <td>2</td>\n",
       "    </tr>\n",
       "    <tr>\n",
       "      <th>4</th>\n",
       "      <td>2018-09-20</td>\n",
       "      <td>-8334631767138808638</td>\n",
       "      <td>685687004</td>\n",
       "      <td>0.016932</td>\n",
       "      <td>2</td>\n",
       "    </tr>\n",
       "  </tbody>\n",
       "</table>\n",
       "</div>"
      ],
      "text/plain": [
       "       t_dat          customer_id  article_id     price  sales_channel_id\n",
       "0 2018-09-20    -6846340800584936   663713001  0.050831                 2\n",
       "1 2018-09-20    -6846340800584936   541518023  0.030492                 2\n",
       "2 2018-09-20 -8334631767138808638   505221004  0.015237                 2\n",
       "3 2018-09-20 -8334631767138808638   685687003  0.016932                 2\n",
       "4 2018-09-20 -8334631767138808638   685687004  0.016932                 2"
      ]
     },
     "execution_count": 96,
     "metadata": {},
     "output_type": "execute_result"
    }
   ],
   "source": [
    "feature_data.head()"
   ]
  },
  {
   "cell_type": "code",
   "execution_count": 97,
   "metadata": {
    "execution": {
     "iopub.execute_input": "2022-03-18T14:32:19.896050Z",
     "iopub.status.busy": "2022-03-18T14:32:19.894153Z",
     "iopub.status.idle": "2022-03-18T14:32:40.241260Z",
     "shell.execute_reply": "2022-03-18T14:32:40.240684Z",
     "shell.execute_reply.started": "2022-03-18T14:02:23.366263Z"
    },
    "papermill": {
     "duration": 20.465356,
     "end_time": "2022-03-18T14:32:40.241441",
     "exception": false,
     "start_time": "2022-03-18T14:32:19.776085",
     "status": "completed"
    },
    "tags": []
   },
   "outputs": [
    {
     "data": {
      "text/plain": [
       "0"
      ]
     },
     "execution_count": 97,
     "metadata": {},
     "output_type": "execute_result"
    }
   ],
   "source": [
    "joined_feature = pd.merge(feature_data, customers, on='customer_id', how='left')\n",
    "joined_feature = pd.merge(joined_feature, articles, on='article_id', how='left')\n",
    "del feature_data; gc.collect()"
   ]
  },
  {
   "cell_type": "code",
   "execution_count": 98,
   "metadata": {
    "execution": {
     "iopub.execute_input": "2022-03-18T14:32:40.468922Z",
     "iopub.status.busy": "2022-03-18T14:32:40.466512Z",
     "iopub.status.idle": "2022-03-18T14:32:40.490381Z",
     "shell.execute_reply": "2022-03-18T14:32:40.489707Z",
     "shell.execute_reply.started": "2022-03-18T14:02:42.898202Z"
    },
    "papermill": {
     "duration": 0.139251,
     "end_time": "2022-03-18T14:32:40.490546",
     "exception": false,
     "start_time": "2022-03-18T14:32:40.351295",
     "status": "completed"
    },
    "tags": []
   },
   "outputs": [
    {
     "data": {
      "text/html": [
       "<div>\n",
       "<style scoped>\n",
       "    .dataframe tbody tr th:only-of-type {\n",
       "        vertical-align: middle;\n",
       "    }\n",
       "\n",
       "    .dataframe tbody tr th {\n",
       "        vertical-align: top;\n",
       "    }\n",
       "\n",
       "    .dataframe thead th {\n",
       "        text-align: right;\n",
       "    }\n",
       "</style>\n",
       "<table border=\"1\" class=\"dataframe\">\n",
       "  <thead>\n",
       "    <tr style=\"text-align: right;\">\n",
       "      <th></th>\n",
       "      <th>t_dat</th>\n",
       "      <th>customer_id</th>\n",
       "      <th>article_id</th>\n",
       "      <th>price</th>\n",
       "      <th>sales_channel_id</th>\n",
       "      <th>FN</th>\n",
       "      <th>Active</th>\n",
       "      <th>club_member_status</th>\n",
       "      <th>fashion_news_frequency</th>\n",
       "      <th>age</th>\n",
       "      <th>...</th>\n",
       "      <th>product_type_no</th>\n",
       "      <th>graphical_appearance_no</th>\n",
       "      <th>colour_group_code</th>\n",
       "      <th>perceived_colour_value_id</th>\n",
       "      <th>perceived_colour_master_id</th>\n",
       "      <th>department_no</th>\n",
       "      <th>index_code</th>\n",
       "      <th>index_group_no</th>\n",
       "      <th>section_no</th>\n",
       "      <th>garment_group_no</th>\n",
       "    </tr>\n",
       "  </thead>\n",
       "  <tbody>\n",
       "    <tr>\n",
       "      <th>0</th>\n",
       "      <td>2018-09-20</td>\n",
       "      <td>-6846340800584936</td>\n",
       "      <td>663713001</td>\n",
       "      <td>0.050831</td>\n",
       "      <td>2</td>\n",
       "      <td>False</td>\n",
       "      <td>False</td>\n",
       "      <td>0</td>\n",
       "      <td>2</td>\n",
       "      <td>24</td>\n",
       "      <td>...</td>\n",
       "      <td>283</td>\n",
       "      <td>1010016</td>\n",
       "      <td>9</td>\n",
       "      <td>4</td>\n",
       "      <td>5</td>\n",
       "      <td>11</td>\n",
       "      <td>1</td>\n",
       "      <td>1</td>\n",
       "      <td>61</td>\n",
       "      <td>1017</td>\n",
       "    </tr>\n",
       "    <tr>\n",
       "      <th>1</th>\n",
       "      <td>2018-09-20</td>\n",
       "      <td>-6846340800584936</td>\n",
       "      <td>541518023</td>\n",
       "      <td>0.030492</td>\n",
       "      <td>2</td>\n",
       "      <td>False</td>\n",
       "      <td>False</td>\n",
       "      <td>0</td>\n",
       "      <td>2</td>\n",
       "      <td>24</td>\n",
       "      <td>...</td>\n",
       "      <td>306</td>\n",
       "      <td>1010016</td>\n",
       "      <td>51</td>\n",
       "      <td>1</td>\n",
       "      <td>4</td>\n",
       "      <td>9</td>\n",
       "      <td>1</td>\n",
       "      <td>1</td>\n",
       "      <td>61</td>\n",
       "      <td>1017</td>\n",
       "    </tr>\n",
       "    <tr>\n",
       "      <th>2</th>\n",
       "      <td>2018-09-20</td>\n",
       "      <td>-8334631767138808638</td>\n",
       "      <td>505221004</td>\n",
       "      <td>0.015237</td>\n",
       "      <td>2</td>\n",
       "      <td>True</td>\n",
       "      <td>True</td>\n",
       "      <td>0</td>\n",
       "      <td>4</td>\n",
       "      <td>32</td>\n",
       "      <td>...</td>\n",
       "      <td>252</td>\n",
       "      <td>1010010</td>\n",
       "      <td>52</td>\n",
       "      <td>2</td>\n",
       "      <td>4</td>\n",
       "      <td>203</td>\n",
       "      <td>3</td>\n",
       "      <td>2</td>\n",
       "      <td>58</td>\n",
       "      <td>1003</td>\n",
       "    </tr>\n",
       "    <tr>\n",
       "      <th>3</th>\n",
       "      <td>2018-09-20</td>\n",
       "      <td>-8334631767138808638</td>\n",
       "      <td>685687003</td>\n",
       "      <td>0.016932</td>\n",
       "      <td>2</td>\n",
       "      <td>True</td>\n",
       "      <td>True</td>\n",
       "      <td>0</td>\n",
       "      <td>4</td>\n",
       "      <td>32</td>\n",
       "      <td>...</td>\n",
       "      <td>252</td>\n",
       "      <td>1010010</td>\n",
       "      <td>52</td>\n",
       "      <td>7</td>\n",
       "      <td>4</td>\n",
       "      <td>87</td>\n",
       "      <td>0</td>\n",
       "      <td>1</td>\n",
       "      <td>15</td>\n",
       "      <td>1023</td>\n",
       "    </tr>\n",
       "    <tr>\n",
       "      <th>4</th>\n",
       "      <td>2018-09-20</td>\n",
       "      <td>-8334631767138808638</td>\n",
       "      <td>685687004</td>\n",
       "      <td>0.016932</td>\n",
       "      <td>2</td>\n",
       "      <td>True</td>\n",
       "      <td>True</td>\n",
       "      <td>0</td>\n",
       "      <td>4</td>\n",
       "      <td>32</td>\n",
       "      <td>...</td>\n",
       "      <td>252</td>\n",
       "      <td>1010010</td>\n",
       "      <td>93</td>\n",
       "      <td>4</td>\n",
       "      <td>19</td>\n",
       "      <td>87</td>\n",
       "      <td>0</td>\n",
       "      <td>1</td>\n",
       "      <td>15</td>\n",
       "      <td>1023</td>\n",
       "    </tr>\n",
       "  </tbody>\n",
       "</table>\n",
       "<p>5 rows × 22 columns</p>\n",
       "</div>"
      ],
      "text/plain": [
       "       t_dat          customer_id  article_id     price  sales_channel_id  \\\n",
       "0 2018-09-20    -6846340800584936   663713001  0.050831                 2   \n",
       "1 2018-09-20    -6846340800584936   541518023  0.030492                 2   \n",
       "2 2018-09-20 -8334631767138808638   505221004  0.015237                 2   \n",
       "3 2018-09-20 -8334631767138808638   685687003  0.016932                 2   \n",
       "4 2018-09-20 -8334631767138808638   685687004  0.016932                 2   \n",
       "\n",
       "      FN  Active  club_member_status  fashion_news_frequency  age  ...  \\\n",
       "0  False   False                   0                       2   24  ...   \n",
       "1  False   False                   0                       2   24  ...   \n",
       "2   True    True                   0                       4   32  ...   \n",
       "3   True    True                   0                       4   32  ...   \n",
       "4   True    True                   0                       4   32  ...   \n",
       "\n",
       "   product_type_no  graphical_appearance_no  colour_group_code  \\\n",
       "0              283                  1010016                  9   \n",
       "1              306                  1010016                 51   \n",
       "2              252                  1010010                 52   \n",
       "3              252                  1010010                 52   \n",
       "4              252                  1010010                 93   \n",
       "\n",
       "   perceived_colour_value_id  perceived_colour_master_id  department_no  \\\n",
       "0                          4                           5             11   \n",
       "1                          1                           4              9   \n",
       "2                          2                           4            203   \n",
       "3                          7                           4             87   \n",
       "4                          4                          19             87   \n",
       "\n",
       "   index_code  index_group_no  section_no  garment_group_no  \n",
       "0           1               1          61              1017  \n",
       "1           1               1          61              1017  \n",
       "2           3               2          58              1003  \n",
       "3           0               1          15              1023  \n",
       "4           0               1          15              1023  \n",
       "\n",
       "[5 rows x 22 columns]"
      ]
     },
     "execution_count": 98,
     "metadata": {},
     "output_type": "execute_result"
    }
   ],
   "source": [
    "joined_feature.head()"
   ]
  },
  {
   "cell_type": "code",
   "execution_count": 99,
   "metadata": {
    "execution": {
     "iopub.execute_input": "2022-03-18T14:32:40.727770Z",
     "iopub.status.busy": "2022-03-18T14:32:40.726405Z",
     "iopub.status.idle": "2022-03-18T14:32:42.811510Z",
     "shell.execute_reply": "2022-03-18T14:32:42.810918Z",
     "shell.execute_reply.started": "2022-03-18T14:02:42.920205Z"
    },
    "papermill": {
     "duration": 2.210133,
     "end_time": "2022-03-18T14:32:42.811666",
     "exception": false,
     "start_time": "2022-03-18T14:32:40.601533",
     "status": "completed"
    },
    "tags": []
   },
   "outputs": [],
   "source": [
    "joined_recent = joined_feature.query(f\"'{feature_date}' <= t_dat\").reset_index(drop=True)"
   ]
  },
  {
   "cell_type": "markdown",
   "metadata": {
    "papermill": {
     "duration": 0.10933,
     "end_time": "2022-03-18T14:32:43.030913",
     "exception": false,
     "start_time": "2022-03-18T14:32:42.921583",
     "status": "completed"
    },
    "tags": []
   },
   "source": [
    "### dynamic customer features"
   ]
  },
  {
   "cell_type": "code",
   "execution_count": 100,
   "metadata": {
    "execution": {
     "iopub.execute_input": "2022-03-18T14:32:43.255949Z",
     "iopub.status.busy": "2022-03-18T14:32:43.254984Z",
     "iopub.status.idle": "2022-03-18T14:32:43.258429Z",
     "shell.execute_reply": "2022-03-18T14:32:43.257869Z",
     "shell.execute_reply.started": "2022-03-18T14:02:44.869153Z"
    },
    "papermill": {
     "duration": 0.118075,
     "end_time": "2022-03-18T14:32:43.258572",
     "exception": false,
     "start_time": "2022-03-18T14:32:43.140497",
     "status": "completed"
    },
    "tags": []
   },
   "outputs": [],
   "source": [
    "#joined_feature.groupby('customer_id')['article_id'].apply(set).reset_index(name='rec_set') # ユーザーごとの履歴"
   ]
  },
  {
   "cell_type": "code",
   "execution_count": 101,
   "metadata": {
    "execution": {
     "iopub.execute_input": "2022-03-18T14:32:43.725615Z",
     "iopub.status.busy": "2022-03-18T14:32:43.724871Z",
     "iopub.status.idle": "2022-03-18T14:32:47.995860Z",
     "shell.execute_reply": "2022-03-18T14:32:47.995306Z",
     "shell.execute_reply.started": "2022-03-18T14:02:44.898497Z"
    },
    "papermill": {
     "duration": 4.387635,
     "end_time": "2022-03-18T14:32:47.996008",
     "exception": false,
     "start_time": "2022-03-18T14:32:43.608373",
     "status": "completed"
    },
    "tags": []
   },
   "outputs": [
    {
     "data": {
      "text/plain": [
       "0    0.030904\n",
       "1    0.030255\n",
       "2    0.037869\n",
       "3    0.030492\n",
       "4    0.036130\n",
       "Name: c_mean_price, dtype: float32"
      ]
     },
     "execution_count": 101,
     "metadata": {},
     "output_type": "execute_result"
    }
   ],
   "source": [
    "# customerごとの平均購入価格, key: customer_id\n",
    "c_mean_price = joined_feature.groupby('customer_id')['price'].agg('mean').reset_index(name='c_mean_price')\n",
    "customers = pd.merge(customers, c_mean_price, on='customer_id', how='left')\n",
    "customers['c_mean_price'] = customers['c_mean_price'].fillna(0).astype('float32')                \n",
    "del c_mean_price; gc.collect()\n",
    "customers['c_mean_price'].head()"
   ]
  },
  {
   "cell_type": "code",
   "execution_count": 102,
   "metadata": {
    "execution": {
     "iopub.execute_input": "2022-03-18T14:32:48.226673Z",
     "iopub.status.busy": "2022-03-18T14:32:48.226004Z",
     "iopub.status.idle": "2022-03-18T14:32:51.615829Z",
     "shell.execute_reply": "2022-03-18T14:32:51.615188Z",
     "shell.execute_reply.started": "2022-03-18T14:02:48.851136Z"
    },
    "papermill": {
     "duration": 3.506773,
     "end_time": "2022-03-18T14:32:51.615984",
     "exception": false,
     "start_time": "2022-03-18T14:32:48.109211",
     "status": "completed"
    },
    "tags": []
   },
   "outputs": [
    {
     "data": {
      "text/plain": [
       "0    21\n",
       "1    86\n",
       "2    17\n",
       "3     2\n",
       "4    13\n",
       "Name: c_cv_total, dtype: int32"
      ]
     },
     "execution_count": 102,
     "metadata": {},
     "output_type": "execute_result"
    }
   ],
   "source": [
    "# customerごとの合計cv数, key: customer_id\n",
    "c_cv_total = joined_feature.groupby('customer_id').size().reset_index(name='c_cv_total')\n",
    "customers = pd.merge(customers, c_cv_total, on='customer_id', how='left')\n",
    "del c_cv_total; gc.collect()\n",
    "customers['c_cv_total'] = customers['c_cv_total'].fillna(0).astype('int32')\n",
    "customers['c_cv_total'].head()"
   ]
  },
  {
   "cell_type": "code",
   "execution_count": 103,
   "metadata": {
    "execution": {
     "iopub.execute_input": "2022-03-18T14:32:51.879415Z",
     "iopub.status.busy": "2022-03-18T14:32:51.878699Z",
     "iopub.status.idle": "2022-03-18T14:32:52.375068Z",
     "shell.execute_reply": "2022-03-18T14:32:52.374407Z",
     "shell.execute_reply.started": "2022-03-18T14:02:52.246408Z"
    },
    "papermill": {
     "duration": 0.622885,
     "end_time": "2022-03-18T14:32:52.375254",
     "exception": false,
     "start_time": "2022-03-18T14:32:51.752369",
     "status": "completed"
    },
    "tags": []
   },
   "outputs": [
    {
     "data": {
      "text/plain": [
       "0    1\n",
       "1    0\n",
       "2    0\n",
       "3    0\n",
       "4    0\n",
       "Name: c_cv_recent, dtype: int32"
      ]
     },
     "execution_count": 103,
     "metadata": {},
     "output_type": "execute_result"
    }
   ],
   "source": [
    "# 直近1週間、customerごとの合計cv数, key: customer_id\n",
    "c_cv_recent = joined_recent.groupby('customer_id').size().reset_index(name='c_cv_recent')\n",
    "customers = pd.merge(customers, c_cv_recent, on='customer_id', how='left')\n",
    "del c_cv_recent; gc.collect()\n",
    "customers['c_cv_recent'] = customers['c_cv_recent'].fillna(0).astype('int32')\n",
    "customers['c_cv_recent'].head()"
   ]
  },
  {
   "cell_type": "code",
   "execution_count": 104,
   "metadata": {
    "execution": {
     "iopub.execute_input": "2022-03-18T14:32:52.603997Z",
     "iopub.status.busy": "2022-03-18T14:32:52.603304Z",
     "iopub.status.idle": "2022-03-18T14:32:56.994662Z",
     "shell.execute_reply": "2022-03-18T14:32:56.993931Z",
     "shell.execute_reply.started": "2022-03-18T14:02:52.782127Z"
    },
    "papermill": {
     "duration": 4.506268,
     "end_time": "2022-03-18T14:32:56.994825",
     "exception": false,
     "start_time": "2022-03-18T14:32:52.488557",
     "status": "completed"
    },
    "tags": []
   },
   "outputs": [
    {
     "data": {
      "text/plain": [
       "0    1.571429\n",
       "1    1.941860\n",
       "2    2.000000\n",
       "3    2.000000\n",
       "4    1.846154\n",
       "Name: c_mean_sales_channel_id, dtype: float32"
      ]
     },
     "execution_count": 104,
     "metadata": {},
     "output_type": "execute_result"
    }
   ],
   "source": [
    "# customerごとの平均sales_channel_id, key: customer_id\n",
    "c_mean_sales_channel_id = joined_feature.groupby('customer_id')['sales_channel_id'].agg('mean').reset_index(name='c_mean_sales_channel_id')\n",
    "customers = pd.merge(customers, c_mean_sales_channel_id, on='customer_id', how='left')\n",
    "customers['c_mean_sales_channel_id'] = customers['c_mean_sales_channel_id'].fillna(0).astype('float32')                \n",
    "del c_mean_sales_channel_id; gc.collect()\n",
    "customers['c_mean_sales_channel_id'].head()"
   ]
  },
  {
   "cell_type": "markdown",
   "metadata": {
    "papermill": {
     "duration": 0.11297,
     "end_time": "2022-03-18T14:32:57.220872",
     "exception": false,
     "start_time": "2022-03-18T14:32:57.107902",
     "status": "completed"
    },
    "tags": []
   },
   "source": [
    "### dynamic article features1"
   ]
  },
  {
   "cell_type": "code",
   "execution_count": 107,
   "metadata": {
    "execution": {
     "iopub.execute_input": "2022-03-18T14:32:57.692857Z",
     "iopub.status.busy": "2022-03-18T14:32:57.692152Z",
     "iopub.status.idle": "2022-03-18T14:32:59.424822Z",
     "shell.execute_reply": "2022-03-18T14:32:59.425346Z",
     "shell.execute_reply.started": "2022-03-18T14:02:56.851513Z"
    },
    "papermill": {
     "duration": 1.855492,
     "end_time": "2022-03-18T14:32:59.425564",
     "exception": false,
     "start_time": "2022-03-18T14:32:57.570072",
     "status": "completed"
    },
    "tags": []
   },
   "outputs": [
    {
     "data": {
      "text/plain": [
       "0    0.008142\n",
       "1    0.008114\n",
       "2    0.004980\n",
       "3    0.020219\n",
       "4    0.018205\n",
       "Name: a_mean_price, dtype: float32"
      ]
     },
     "execution_count": 107,
     "metadata": {},
     "output_type": "execute_result"
    }
   ],
   "source": [
    "# articleごとの平均購入価格, key: article_id\n",
    "a_mean_price = joined_feature.groupby('article_id')['price'].agg('mean').reset_index(name='a_mean_price')\n",
    "articles = pd.merge(articles, a_mean_price, on='article_id', how='left')\n",
    "articles['a_mean_price'] = articles['a_mean_price'].fillna(0).astype('float32')                \n",
    "del a_mean_price; gc.collect()\n",
    "articles['a_mean_price'].head()"
   ]
  },
  {
   "cell_type": "code",
   "execution_count": 110,
   "metadata": {
    "execution": {
     "iopub.execute_input": "2022-03-18T14:32:59.659305Z",
     "iopub.status.busy": "2022-03-18T14:32:59.658505Z",
     "iopub.status.idle": "2022-03-18T14:33:01.066501Z",
     "shell.execute_reply": "2022-03-18T14:33:01.067038Z",
     "shell.execute_reply.started": "2022-03-18T14:02:58.266213Z"
    },
    "papermill": {
     "duration": 1.52868,
     "end_time": "2022-03-18T14:33:01.067274",
     "exception": false,
     "start_time": "2022-03-18T14:32:59.538594",
     "status": "completed"
    },
    "tags": []
   },
   "outputs": [
    {
     "data": {
      "text/plain": [
       "0    10841\n",
       "1     7244\n",
       "2      215\n",
       "3     1044\n",
       "4      539\n",
       "Name: a_cv_total, dtype: int32"
      ]
     },
     "execution_count": 110,
     "metadata": {},
     "output_type": "execute_result"
    }
   ],
   "source": [
    "# articleごとの合計cv数, key: article_id\n",
    "a_cv_total = joined_feature.groupby('article_id').size().reset_index(name='a_cv_total')\n",
    "articles = pd.merge(articles, a_cv_total, on='article_id', how='left')\n",
    "del a_cv_total; gc.collect()\n",
    "articles['a_cv_total'] = articles['a_cv_total'].fillna(0).astype('int32')\n",
    "articles['a_cv_total'].head()"
   ]
  },
  {
   "cell_type": "code",
   "execution_count": 111,
   "metadata": {
    "execution": {
     "iopub.execute_input": "2022-03-18T14:33:01.300530Z",
     "iopub.status.busy": "2022-03-18T14:33:01.297052Z",
     "iopub.status.idle": "2022-03-18T14:33:01.447441Z",
     "shell.execute_reply": "2022-03-18T14:33:01.447938Z",
     "shell.execute_reply.started": "2022-03-18T14:02:59.693759Z"
    },
    "papermill": {
     "duration": 0.268152,
     "end_time": "2022-03-18T14:33:01.448166",
     "exception": false,
     "start_time": "2022-03-18T14:33:01.180014",
     "status": "completed"
    },
    "tags": []
   },
   "outputs": [
    {
     "data": {
      "text/plain": [
       "0    0\n",
       "1    4\n",
       "2    0\n",
       "3    0\n",
       "4    0\n",
       "Name: a_cv_recent, dtype: int32"
      ]
     },
     "execution_count": 111,
     "metadata": {},
     "output_type": "execute_result"
    }
   ],
   "source": [
    "# 直近1週間、articleごとの合計cv数, key: article_id\n",
    "a_cv_recent = joined_recent.groupby('article_id').size().reset_index(name='a_cv_recent')\n",
    "articles = pd.merge(articles, a_cv_recent, on='article_id', how='left')\n",
    "del a_cv_recent; gc.collect()\n",
    "articles['a_cv_recent'] = articles['a_cv_recent'].fillna(0).astype('int32')                \n",
    "articles['a_cv_recent'].head()"
   ]
  },
  {
   "cell_type": "code",
   "execution_count": 113,
   "metadata": {
    "execution": {
     "iopub.execute_input": "2022-03-18T14:33:01.685931Z",
     "iopub.status.busy": "2022-03-18T14:33:01.684939Z",
     "iopub.status.idle": "2022-03-18T14:33:03.210861Z",
     "shell.execute_reply": "2022-03-18T14:33:03.211502Z",
     "shell.execute_reply.started": "2022-03-18T14:02:59.849581Z"
    },
    "papermill": {
     "duration": 1.646407,
     "end_time": "2022-03-18T14:33:03.211672",
     "exception": false,
     "start_time": "2022-03-18T14:33:01.565265",
     "status": "completed"
    },
    "tags": []
   },
   "outputs": [
    {
     "data": {
      "text/plain": [
       "0    1.770778\n",
       "1    1.709967\n",
       "2    1.995349\n",
       "3    1.375479\n",
       "4    1.654917\n",
       "Name: a_mean_sales_channel_id, dtype: float32"
      ]
     },
     "execution_count": 113,
     "metadata": {},
     "output_type": "execute_result"
    }
   ],
   "source": [
    "# articleごとの平均sales_channel_id, key: article_id\n",
    "a_mean_sales_channel_id = joined_feature.groupby('article_id')['sales_channel_id'].agg('mean').reset_index(name='a_mean_sales_channel_id')\n",
    "articles = pd.merge(articles, a_mean_sales_channel_id, on='article_id', how='left')\n",
    "articles['a_mean_sales_channel_id'] = articles['a_mean_sales_channel_id'].fillna(0).astype('float32')                \n",
    "del a_mean_sales_channel_id; gc.collect()\n",
    "articles['a_mean_sales_channel_id'].head()"
   ]
  },
  {
   "cell_type": "markdown",
   "metadata": {
    "papermill": {
     "duration": 0.114048,
     "end_time": "2022-03-18T14:33:03.438783",
     "exception": false,
     "start_time": "2022-03-18T14:33:03.324735",
     "status": "completed"
    },
    "tags": []
   },
   "source": [
    "## Join features1 and Save"
   ]
  },
  {
   "cell_type": "code",
   "execution_count": 114,
   "metadata": {
    "execution": {
     "iopub.execute_input": "2022-03-18T14:33:03.668022Z",
     "iopub.status.busy": "2022-03-18T14:33:03.667050Z",
     "iopub.status.idle": "2022-03-18T14:33:03.790249Z",
     "shell.execute_reply": "2022-03-18T14:33:03.790750Z",
     "shell.execute_reply.started": "2022-03-18T14:03:01.330196Z"
    },
    "papermill": {
     "duration": 0.239143,
     "end_time": "2022-03-18T14:33:03.790932",
     "exception": false,
     "start_time": "2022-03-18T14:33:03.551789",
     "status": "completed"
    },
    "tags": []
   },
   "outputs": [
    {
     "data": {
      "text/plain": [
       "0"
      ]
     },
     "execution_count": 114,
     "metadata": {},
     "output_type": "execute_result"
    }
   ],
   "source": [
    "del joined_feature, joined_recent; gc.collect()"
   ]
  },
  {
   "cell_type": "code",
   "execution_count": 115,
   "metadata": {
    "execution": {
     "iopub.execute_input": "2022-03-18T14:33:04.031401Z",
     "iopub.status.busy": "2022-03-18T14:33:04.029363Z",
     "iopub.status.idle": "2022-03-18T14:33:07.656321Z",
     "shell.execute_reply": "2022-03-18T14:33:07.655311Z",
     "shell.execute_reply.started": "2022-03-18T14:03:01.453940Z"
    },
    "papermill": {
     "duration": 3.751912,
     "end_time": "2022-03-18T14:33:07.656515",
     "exception": false,
     "start_time": "2022-03-18T14:33:03.904603",
     "status": "completed"
    },
    "tags": []
   },
   "outputs": [
    {
     "data": {
      "text/plain": [
       "0"
      ]
     },
     "execution_count": 115,
     "metadata": {},
     "output_type": "execute_result"
    }
   ],
   "source": [
    "joined_train = pd.merge(train_group, customers, on='customer_id', how='left')\n",
    "del train_group, customers; gc.collect()"
   ]
  },
  {
   "cell_type": "code",
   "execution_count": 116,
   "metadata": {
    "execution": {
     "iopub.execute_input": "2022-03-18T14:33:07.897435Z",
     "iopub.status.busy": "2022-03-18T14:33:07.896456Z",
     "iopub.status.idle": "2022-03-18T14:33:16.280208Z",
     "shell.execute_reply": "2022-03-18T14:33:16.280665Z",
     "shell.execute_reply.started": "2022-03-18T14:03:05.148191Z"
    },
    "papermill": {
     "duration": 8.507361,
     "end_time": "2022-03-18T14:33:16.280870",
     "exception": false,
     "start_time": "2022-03-18T14:33:07.773509",
     "status": "completed"
    },
    "tags": []
   },
   "outputs": [
    {
     "data": {
      "text/plain": [
       "0"
      ]
     },
     "execution_count": 116,
     "metadata": {},
     "output_type": "execute_result"
    }
   ],
   "source": [
    "joined_train = pd.merge(joined_train, articles, on='article_id', how='left')\n",
    "del articles; gc.collect()"
   ]
  },
  {
   "cell_type": "code",
   "execution_count": 117,
   "metadata": {
    "execution": {
     "iopub.execute_input": "2022-03-18T14:33:16.510301Z",
     "iopub.status.busy": "2022-03-18T14:33:16.509390Z",
     "iopub.status.idle": "2022-03-18T14:37:50.295298Z",
     "shell.execute_reply": "2022-03-18T14:37:50.295871Z",
     "shell.execute_reply.started": "2022-03-18T14:03:13.167454Z"
    },
    "papermill": {
     "duration": 273.902389,
     "end_time": "2022-03-18T14:37:50.296096",
     "exception": false,
     "start_time": "2022-03-18T14:33:16.393707",
     "status": "completed"
    },
    "tags": []
   },
   "outputs": [
    {
     "data": {
      "text/plain": [
       "0"
      ]
     },
     "execution_count": 117,
     "metadata": {},
     "output_type": "execute_result"
    }
   ],
   "source": [
    "joined_train.to_csv(f'train_{train_start_date}.csv', index=False)\n",
    "del joined_train; gc.collect()"
   ]
  },
  {
   "cell_type": "code",
   "execution_count": null,
   "metadata": {
    "papermill": {
     "duration": 0.125031,
     "end_time": "2022-03-18T14:54:06.058891",
     "exception": false,
     "start_time": "2022-03-18T14:54:05.933860",
     "status": "completed"
    },
    "tags": []
   },
   "outputs": [],
   "source": []
  }
 ],
 "metadata": {
  "celltoolbar": "Tags",
  "kernelspec": {
   "display_name": "Python 3",
   "language": "python",
   "name": "python3"
  },
  "language_info": {
   "codemirror_mode": {
    "name": "ipython",
    "version": 3
   },
   "file_extension": ".py",
   "mimetype": "text/x-python",
   "name": "python",
   "nbconvert_exporter": "python",
   "pygments_lexer": "ipython3",
   "version": "3.8.10"
  },
  "papermill": {
   "default_parameters": {},
   "duration": 1527.726807,
   "end_time": "2022-03-18T14:54:08.508631",
   "environment_variables": {},
   "exception": null,
   "input_path": "__notebook__.ipynb",
   "output_path": "__notebook__.ipynb",
   "parameters": {},
   "start_time": "2022-03-18T14:28:40.781824",
   "version": "2.3.3"
  }
 },
 "nbformat": 4,
 "nbformat_minor": 5
}
