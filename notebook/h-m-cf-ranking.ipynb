{
 "cells": [
  {
   "cell_type": "code",
   "execution_count": 1,
   "id": "37ab234a",
   "metadata": {
    "_cell_guid": "b1076dfc-b9ad-4769-8c92-a6c4dae69d19",
    "_uuid": "8f2839f25d086af736a60e9eeb907d3b93b6e0e5",
    "execution": {
     "iopub.execute_input": "2022-03-12T08:03:19.746583Z",
     "iopub.status.busy": "2022-03-12T08:03:19.744949Z",
     "iopub.status.idle": "2022-03-12T08:03:19.822974Z",
     "shell.execute_reply": "2022-03-12T08:03:19.822232Z",
     "shell.execute_reply.started": "2022-03-12T07:43:35.093352Z"
    },
    "papermill": {
     "duration": 0.17964,
     "end_time": "2022-03-12T08:03:19.823234",
     "exception": false,
     "start_time": "2022-03-12T08:03:19.643594",
     "status": "completed"
    },
    "tags": []
   },
   "outputs": [],
   "source": [
    "import numpy as np\n",
    "import pandas as pd\n",
    "import gc\n",
    "import os\n",
    "import time\n",
    "import random\n",
    "from tqdm.auto import tqdm\n",
    "import datetime"
   ]
  },
  {
   "cell_type": "code",
   "execution_count": 2,
   "id": "3dc68957",
   "metadata": {
    "execution": {
     "iopub.execute_input": "2022-03-12T08:03:20.010957Z",
     "iopub.status.busy": "2022-03-12T08:03:20.009888Z",
     "iopub.status.idle": "2022-03-12T08:03:20.014823Z",
     "shell.execute_reply": "2022-03-12T08:03:20.014141Z",
     "shell.execute_reply.started": "2022-03-12T07:43:35.210839Z"
    },
    "papermill": {
     "duration": 0.099503,
     "end_time": "2022-03-12T08:03:20.015012",
     "exception": false,
     "start_time": "2022-03-12T08:03:19.915509",
     "status": "completed"
    },
    "tags": []
   },
   "outputs": [],
   "source": [
    "Nval = 50\n",
    "#Nsub = 12 # 提出用\n",
    "Nsub = Nval\n",
    "#val_start_date = '2020-09-09' # 他のnotebookに日付の書き方揃える\n",
    "val_start_date = '2020-09-16' #prod"
   ]
  },
  {
   "cell_type": "code",
   "execution_count": 3,
   "id": "d90a779f",
   "metadata": {},
   "outputs": [],
   "source": [
    "from datetime import datetime, date, timedelta\n",
    "val_end_date = pd.to_datetime(val_start_date) + timedelta(days=7)"
   ]
  },
  {
   "cell_type": "code",
   "execution_count": 4,
   "id": "d5aec662",
   "metadata": {},
   "outputs": [
    {
     "name": "stdout",
     "output_type": "stream",
     "text": [
      "2020-09-16 2020-09-23\n"
     ]
    }
   ],
   "source": [
    "val_end_date = str(val_end_date.strftime('%Y-%m-%d'))\n",
    "print(val_start_date, val_end_date)"
   ]
  },
  {
   "cell_type": "code",
   "execution_count": 5,
   "id": "e812be9e",
   "metadata": {
    "execution": {
     "iopub.execute_input": "2022-03-12T08:03:20.205441Z",
     "iopub.status.busy": "2022-03-12T08:03:20.204499Z",
     "iopub.status.idle": "2022-03-12T08:03:20.207386Z",
     "shell.execute_reply": "2022-03-12T08:03:20.206859Z",
     "shell.execute_reply.started": "2022-03-12T07:43:35.216228Z"
    },
    "papermill": {
     "duration": 0.099834,
     "end_time": "2022-03-12T08:03:20.207534",
     "exception": false,
     "start_time": "2022-03-12T08:03:20.107700",
     "status": "completed"
    },
    "tags": []
   },
   "outputs": [],
   "source": [
    "def visualize_df(df):\n",
    "    print(df.shape)\n",
    "    display(df.head())"
   ]
  },
  {
   "cell_type": "code",
   "execution_count": 6,
   "id": "1b1536fe",
   "metadata": {
    "execution": {
     "iopub.execute_input": "2022-03-12T08:03:20.396643Z",
     "iopub.status.busy": "2022-03-12T08:03:20.395958Z",
     "iopub.status.idle": "2022-03-12T08:04:28.997069Z",
     "shell.execute_reply": "2022-03-12T08:04:28.996275Z",
     "shell.execute_reply.started": "2022-03-12T07:43:37.617624Z"
    },
    "papermill": {
     "duration": 68.698611,
     "end_time": "2022-03-12T08:04:28.997233",
     "exception": false,
     "start_time": "2022-03-12T08:03:20.298622",
     "status": "completed"
    },
    "tags": []
   },
   "outputs": [],
   "source": [
    "# データの読み込み\n",
    "dir = 'h-and-m-personalized-fashion-recommendations/'\n",
    "path = '../input/' + dir \n",
    "\n",
    "#customers = pd.read_csv(path + 'customers.csv')\n",
    "#articles = pd.read_csv(path + 'articles.csv')\n",
    "transactions_train = pd.read_csv(path + 'transactions_train.csv', usecols=['t_dat', 'customer_id', 'article_id', 'price'])\n",
    "transactions_train['customer_id'] = transactions_train['customer_id'].apply(lambda x: int(x[-16:],16) ).astype('int64')\n",
    "transactions_train['article_id'] = transactions_train['article_id'].astype('int32')"
   ]
  },
  {
   "cell_type": "code",
   "execution_count": 7,
   "id": "bc2d4bc8",
   "metadata": {},
   "outputs": [
    {
     "data": {
      "text/html": [
       "<div>\n",
       "<style scoped>\n",
       "    .dataframe tbody tr th:only-of-type {\n",
       "        vertical-align: middle;\n",
       "    }\n",
       "\n",
       "    .dataframe tbody tr th {\n",
       "        vertical-align: top;\n",
       "    }\n",
       "\n",
       "    .dataframe thead th {\n",
       "        text-align: right;\n",
       "    }\n",
       "</style>\n",
       "<table border=\"1\" class=\"dataframe\">\n",
       "  <thead>\n",
       "    <tr style=\"text-align: right;\">\n",
       "      <th></th>\n",
       "      <th>t_dat</th>\n",
       "      <th>customer_id</th>\n",
       "      <th>article_id</th>\n",
       "      <th>price</th>\n",
       "    </tr>\n",
       "  </thead>\n",
       "  <tbody>\n",
       "    <tr>\n",
       "      <th>0</th>\n",
       "      <td>2018-09-20</td>\n",
       "      <td>-6846340800584936</td>\n",
       "      <td>663713001</td>\n",
       "      <td>0.050831</td>\n",
       "    </tr>\n",
       "    <tr>\n",
       "      <th>1</th>\n",
       "      <td>2018-09-20</td>\n",
       "      <td>-6846340800584936</td>\n",
       "      <td>541518023</td>\n",
       "      <td>0.030492</td>\n",
       "    </tr>\n",
       "    <tr>\n",
       "      <th>2</th>\n",
       "      <td>2018-09-20</td>\n",
       "      <td>-8334631767138808638</td>\n",
       "      <td>505221004</td>\n",
       "      <td>0.015237</td>\n",
       "    </tr>\n",
       "    <tr>\n",
       "      <th>3</th>\n",
       "      <td>2018-09-20</td>\n",
       "      <td>-8334631767138808638</td>\n",
       "      <td>685687003</td>\n",
       "      <td>0.016932</td>\n",
       "    </tr>\n",
       "    <tr>\n",
       "      <th>4</th>\n",
       "      <td>2018-09-20</td>\n",
       "      <td>-8334631767138808638</td>\n",
       "      <td>685687004</td>\n",
       "      <td>0.016932</td>\n",
       "    </tr>\n",
       "    <tr>\n",
       "      <th>...</th>\n",
       "      <td>...</td>\n",
       "      <td>...</td>\n",
       "      <td>...</td>\n",
       "      <td>...</td>\n",
       "    </tr>\n",
       "    <tr>\n",
       "      <th>31788319</th>\n",
       "      <td>2020-09-22</td>\n",
       "      <td>4685485978980270934</td>\n",
       "      <td>929511001</td>\n",
       "      <td>0.059305</td>\n",
       "    </tr>\n",
       "    <tr>\n",
       "      <th>31788320</th>\n",
       "      <td>2020-09-22</td>\n",
       "      <td>4685485978980270934</td>\n",
       "      <td>891322004</td>\n",
       "      <td>0.042356</td>\n",
       "    </tr>\n",
       "    <tr>\n",
       "      <th>31788321</th>\n",
       "      <td>2020-09-22</td>\n",
       "      <td>3959348689921271969</td>\n",
       "      <td>918325001</td>\n",
       "      <td>0.043203</td>\n",
       "    </tr>\n",
       "    <tr>\n",
       "      <th>31788322</th>\n",
       "      <td>2020-09-22</td>\n",
       "      <td>-8639340045377511665</td>\n",
       "      <td>833459002</td>\n",
       "      <td>0.006763</td>\n",
       "    </tr>\n",
       "    <tr>\n",
       "      <th>31788323</th>\n",
       "      <td>2020-09-22</td>\n",
       "      <td>3235222691137941515</td>\n",
       "      <td>898573003</td>\n",
       "      <td>0.033881</td>\n",
       "    </tr>\n",
       "  </tbody>\n",
       "</table>\n",
       "<p>31788324 rows × 4 columns</p>\n",
       "</div>"
      ],
      "text/plain": [
       "               t_dat          customer_id  article_id     price\n",
       "0         2018-09-20    -6846340800584936   663713001  0.050831\n",
       "1         2018-09-20    -6846340800584936   541518023  0.030492\n",
       "2         2018-09-20 -8334631767138808638   505221004  0.015237\n",
       "3         2018-09-20 -8334631767138808638   685687003  0.016932\n",
       "4         2018-09-20 -8334631767138808638   685687004  0.016932\n",
       "...              ...                  ...         ...       ...\n",
       "31788319  2020-09-22  4685485978980270934   929511001  0.059305\n",
       "31788320  2020-09-22  4685485978980270934   891322004  0.042356\n",
       "31788321  2020-09-22  3959348689921271969   918325001  0.043203\n",
       "31788322  2020-09-22 -8639340045377511665   833459002  0.006763\n",
       "31788323  2020-09-22  3235222691137941515   898573003  0.033881\n",
       "\n",
       "[31788324 rows x 4 columns]"
      ]
     },
     "execution_count": 7,
     "metadata": {},
     "output_type": "execute_result"
    }
   ],
   "source": [
    "transactions_train"
   ]
  },
  {
   "cell_type": "code",
   "execution_count": 8,
   "id": "7818e5f1",
   "metadata": {},
   "outputs": [],
   "source": [
    "## https://www.kaggle.com/code/lichtlab/h-m-data-deep-dive-chap-1-understand-article\n",
    "## 現在売れてない商品は除く\n",
    "#dfagg1 = transactions_train.groupby(['article_id'])[['price']].sum().reset_index().rename(columns={'price': 'article_ttl_sales'})\n",
    "#dfagg2 = transactions_train[transactions_train['t_dat'] < '2019-09-01'].groupby(['article_id'])[['price']].sum().reset_index().rename(columns={'price': 'before_201909_article_ttl_sales'})\n",
    "#dfagg3 = transactions_train['2019-09-01' < transactions_train['t_dat']].groupby(['article_id'])[['price']].sum().reset_index().rename(columns={'price': 'after_201909_article_ttl_sales'})\n",
    "#\n",
    "#dfagg1 = pd.merge(dfagg1, dfagg2, on='article_id')\n",
    "#dfagg1 = pd.merge(dfagg1, dfagg3, on='article_id')\n",
    "#del dfagg2, dfagg3; gc.collect()\n",
    "#dfagg1['before_201909_article_ttl_sales_ratio'] = dfagg1['before_201909_article_ttl_sales'] / dfagg1['article_ttl_sales'] * 100\n",
    "#dfagg1['not_for_sales_flg'] = (dfagg1['before_201909_article_ttl_sales_ratio'] > 99.9).astype(int)\n",
    "#dfagg1"
   ]
  },
  {
   "cell_type": "code",
   "execution_count": 9,
   "id": "cc63d055",
   "metadata": {},
   "outputs": [],
   "source": [
    "## 使えるarticle_idだけ残す\n",
    "#dfagg1 = dfagg1.query(\"not_for_sales_flg == 0\")['article_id'].reset_index(drop=True)\n",
    "#dfagg1"
   ]
  },
  {
   "cell_type": "code",
   "execution_count": 10,
   "id": "2b9937cc",
   "metadata": {
    "execution": {
     "iopub.execute_input": "2022-03-12T08:04:29.188311Z",
     "iopub.status.busy": "2022-03-12T08:04:29.187501Z",
     "iopub.status.idle": "2022-03-12T08:04:35.625623Z",
     "shell.execute_reply": "2022-03-12T08:04:35.626180Z",
     "shell.execute_reply.started": "2022-03-12T07:44:40.141384Z"
    },
    "papermill": {
     "duration": 6.535391,
     "end_time": "2022-03-12T08:04:35.626363",
     "exception": false,
     "start_time": "2022-03-12T08:04:29.090972",
     "status": "completed"
    },
    "tags": []
   },
   "outputs": [
    {
     "name": "stdout",
     "output_type": "stream",
     "text": [
      "(1371980, 1)\n"
     ]
    },
    {
     "data": {
      "text/html": [
       "<div>\n",
       "<style scoped>\n",
       "    .dataframe tbody tr th:only-of-type {\n",
       "        vertical-align: middle;\n",
       "    }\n",
       "\n",
       "    .dataframe tbody tr th {\n",
       "        vertical-align: top;\n",
       "    }\n",
       "\n",
       "    .dataframe thead th {\n",
       "        text-align: right;\n",
       "    }\n",
       "</style>\n",
       "<table border=\"1\" class=\"dataframe\">\n",
       "  <thead>\n",
       "    <tr style=\"text-align: right;\">\n",
       "      <th></th>\n",
       "      <th>customer_id</th>\n",
       "    </tr>\n",
       "  </thead>\n",
       "  <tbody>\n",
       "    <tr>\n",
       "      <th>0</th>\n",
       "      <td>6883939031699146327</td>\n",
       "    </tr>\n",
       "    <tr>\n",
       "      <th>1</th>\n",
       "      <td>-7200416642310594310</td>\n",
       "    </tr>\n",
       "    <tr>\n",
       "      <th>2</th>\n",
       "      <td>-6846340800584936</td>\n",
       "    </tr>\n",
       "    <tr>\n",
       "      <th>3</th>\n",
       "      <td>-94071612138601410</td>\n",
       "    </tr>\n",
       "    <tr>\n",
       "      <th>4</th>\n",
       "      <td>-283965518499174310</td>\n",
       "    </tr>\n",
       "  </tbody>\n",
       "</table>\n",
       "</div>"
      ],
      "text/plain": [
       "           customer_id\n",
       "0  6883939031699146327\n",
       "1 -7200416642310594310\n",
       "2    -6846340800584936\n",
       "3   -94071612138601410\n",
       "4  -283965518499174310"
      ]
     },
     "metadata": {},
     "output_type": "display_data"
    }
   ],
   "source": [
    "sub = pd.read_csv(path + 'sample_submission.csv')\n",
    "sub['customer_id'] = sub['customer_id'].apply(lambda x: int(x[-16:],16) ).astype('int64')\n",
    "del sub['prediction']; gc.collect()\n",
    "visualize_df(sub)"
   ]
  },
  {
   "cell_type": "code",
   "execution_count": 11,
   "id": "30f7ec81",
   "metadata": {
    "execution": {
     "iopub.execute_input": "2022-03-12T08:04:54.744891Z",
     "iopub.status.busy": "2022-03-12T08:04:54.743958Z",
     "iopub.status.idle": "2022-03-12T08:04:54.748974Z",
     "shell.execute_reply": "2022-03-12T08:04:54.749667Z",
     "shell.execute_reply.started": "2022-03-12T07:45:03.621756Z"
    },
    "papermill": {
     "duration": 0.109579,
     "end_time": "2022-03-12T08:04:54.749919",
     "exception": false,
     "start_time": "2022-03-12T08:04:54.640340",
     "status": "completed"
    },
    "tags": []
   },
   "outputs": [
    {
     "name": "stdout",
     "output_type": "stream",
     "text": [
      "(31788324, 4)\n"
     ]
    },
    {
     "data": {
      "text/html": [
       "<div>\n",
       "<style scoped>\n",
       "    .dataframe tbody tr th:only-of-type {\n",
       "        vertical-align: middle;\n",
       "    }\n",
       "\n",
       "    .dataframe tbody tr th {\n",
       "        vertical-align: top;\n",
       "    }\n",
       "\n",
       "    .dataframe thead th {\n",
       "        text-align: right;\n",
       "    }\n",
       "</style>\n",
       "<table border=\"1\" class=\"dataframe\">\n",
       "  <thead>\n",
       "    <tr style=\"text-align: right;\">\n",
       "      <th></th>\n",
       "      <th>t_dat</th>\n",
       "      <th>customer_id</th>\n",
       "      <th>article_id</th>\n",
       "      <th>price</th>\n",
       "    </tr>\n",
       "  </thead>\n",
       "  <tbody>\n",
       "    <tr>\n",
       "      <th>0</th>\n",
       "      <td>2018-09-20</td>\n",
       "      <td>-6846340800584936</td>\n",
       "      <td>663713001</td>\n",
       "      <td>0.050831</td>\n",
       "    </tr>\n",
       "    <tr>\n",
       "      <th>1</th>\n",
       "      <td>2018-09-20</td>\n",
       "      <td>-6846340800584936</td>\n",
       "      <td>541518023</td>\n",
       "      <td>0.030492</td>\n",
       "    </tr>\n",
       "    <tr>\n",
       "      <th>2</th>\n",
       "      <td>2018-09-20</td>\n",
       "      <td>-8334631767138808638</td>\n",
       "      <td>505221004</td>\n",
       "      <td>0.015237</td>\n",
       "    </tr>\n",
       "    <tr>\n",
       "      <th>3</th>\n",
       "      <td>2018-09-20</td>\n",
       "      <td>-8334631767138808638</td>\n",
       "      <td>685687003</td>\n",
       "      <td>0.016932</td>\n",
       "    </tr>\n",
       "    <tr>\n",
       "      <th>4</th>\n",
       "      <td>2018-09-20</td>\n",
       "      <td>-8334631767138808638</td>\n",
       "      <td>685687004</td>\n",
       "      <td>0.016932</td>\n",
       "    </tr>\n",
       "  </tbody>\n",
       "</table>\n",
       "</div>"
      ],
      "text/plain": [
       "        t_dat          customer_id  article_id     price\n",
       "0  2018-09-20    -6846340800584936   663713001  0.050831\n",
       "1  2018-09-20    -6846340800584936   541518023  0.030492\n",
       "2  2018-09-20 -8334631767138808638   505221004  0.015237\n",
       "3  2018-09-20 -8334631767138808638   685687003  0.016932\n",
       "4  2018-09-20 -8334631767138808638   685687004  0.016932"
      ]
     },
     "metadata": {},
     "output_type": "display_data"
    }
   ],
   "source": [
    "visualize_df(transactions_train)"
   ]
  },
  {
   "cell_type": "code",
   "execution_count": 12,
   "id": "cb1e9216",
   "metadata": {
    "execution": {
     "iopub.execute_input": "2022-03-12T08:04:54.961350Z",
     "iopub.status.busy": "2022-03-12T08:04:54.960537Z",
     "iopub.status.idle": "2022-03-12T08:04:54.963648Z",
     "shell.execute_reply": "2022-03-12T08:04:54.962954Z",
     "shell.execute_reply.started": "2022-03-12T07:45:03.636835Z"
    },
    "papermill": {
     "duration": 0.113382,
     "end_time": "2022-03-12T08:04:54.963794",
     "exception": false,
     "start_time": "2022-03-12T08:04:54.850412",
     "status": "completed"
    },
    "tags": []
   },
   "outputs": [],
   "source": [
    "# transactions_train['t_dat'].unique()[-7:]\n",
    "\n",
    "# array(['2020-09-16', '2020-09-17', '2020-09-18', '2020-09-19',\n",
    "#       '2020-09-20', '2020-09-21', '2020-09-22'], dtype=object)"
   ]
  },
  {
   "cell_type": "code",
   "execution_count": 13,
   "id": "d606fa5e",
   "metadata": {
    "execution": {
     "iopub.execute_input": "2022-03-12T08:04:55.157678Z",
     "iopub.status.busy": "2022-03-12T08:04:55.156325Z",
     "iopub.status.idle": "2022-03-12T08:05:11.591420Z",
     "shell.execute_reply": "2022-03-12T08:05:11.591871Z",
     "shell.execute_reply.started": "2022-03-12T07:45:03.659752Z"
    },
    "papermill": {
     "duration": 16.534238,
     "end_time": "2022-03-12T08:05:11.592063",
     "exception": false,
     "start_time": "2022-03-12T08:04:55.057825",
     "status": "completed"
    },
    "tags": []
   },
   "outputs": [
    {
     "name": "stdout",
     "output_type": "stream",
     "text": [
      "(31788324, 4)\n"
     ]
    },
    {
     "data": {
      "text/html": [
       "<div>\n",
       "<style scoped>\n",
       "    .dataframe tbody tr th:only-of-type {\n",
       "        vertical-align: middle;\n",
       "    }\n",
       "\n",
       "    .dataframe tbody tr th {\n",
       "        vertical-align: top;\n",
       "    }\n",
       "\n",
       "    .dataframe thead th {\n",
       "        text-align: right;\n",
       "    }\n",
       "</style>\n",
       "<table border=\"1\" class=\"dataframe\">\n",
       "  <thead>\n",
       "    <tr style=\"text-align: right;\">\n",
       "      <th></th>\n",
       "      <th>t_dat</th>\n",
       "      <th>customer_id</th>\n",
       "      <th>article_id</th>\n",
       "      <th>price</th>\n",
       "    </tr>\n",
       "  </thead>\n",
       "  <tbody>\n",
       "    <tr>\n",
       "      <th>0</th>\n",
       "      <td>2018-09-20</td>\n",
       "      <td>-6846340800584936</td>\n",
       "      <td>663713001</td>\n",
       "      <td>0.050831</td>\n",
       "    </tr>\n",
       "    <tr>\n",
       "      <th>1</th>\n",
       "      <td>2018-09-20</td>\n",
       "      <td>-6846340800584936</td>\n",
       "      <td>541518023</td>\n",
       "      <td>0.030492</td>\n",
       "    </tr>\n",
       "    <tr>\n",
       "      <th>2</th>\n",
       "      <td>2018-09-20</td>\n",
       "      <td>-8334631767138808638</td>\n",
       "      <td>505221004</td>\n",
       "      <td>0.015237</td>\n",
       "    </tr>\n",
       "    <tr>\n",
       "      <th>3</th>\n",
       "      <td>2018-09-20</td>\n",
       "      <td>-8334631767138808638</td>\n",
       "      <td>685687003</td>\n",
       "      <td>0.016932</td>\n",
       "    </tr>\n",
       "    <tr>\n",
       "      <th>4</th>\n",
       "      <td>2018-09-20</td>\n",
       "      <td>-8334631767138808638</td>\n",
       "      <td>685687004</td>\n",
       "      <td>0.016932</td>\n",
       "    </tr>\n",
       "  </tbody>\n",
       "</table>\n",
       "</div>"
      ],
      "text/plain": [
       "        t_dat          customer_id  article_id     price\n",
       "0  2018-09-20    -6846340800584936   663713001  0.050831\n",
       "1  2018-09-20    -6846340800584936   541518023  0.030492\n",
       "2  2018-09-20 -8334631767138808638   505221004  0.015237\n",
       "3  2018-09-20 -8334631767138808638   685687003  0.016932\n",
       "4  2018-09-20 -8334631767138808638   685687004  0.016932"
      ]
     },
     "metadata": {},
     "output_type": "display_data"
    },
    {
     "name": "stdout",
     "output_type": "stream",
     "text": [
      "(240311, 4)\n"
     ]
    },
    {
     "data": {
      "text/html": [
       "<div>\n",
       "<style scoped>\n",
       "    .dataframe tbody tr th:only-of-type {\n",
       "        vertical-align: middle;\n",
       "    }\n",
       "\n",
       "    .dataframe tbody tr th {\n",
       "        vertical-align: top;\n",
       "    }\n",
       "\n",
       "    .dataframe thead th {\n",
       "        text-align: right;\n",
       "    }\n",
       "</style>\n",
       "<table border=\"1\" class=\"dataframe\">\n",
       "  <thead>\n",
       "    <tr style=\"text-align: right;\">\n",
       "      <th></th>\n",
       "      <th>t_dat</th>\n",
       "      <th>customer_id</th>\n",
       "      <th>article_id</th>\n",
       "      <th>price</th>\n",
       "    </tr>\n",
       "  </thead>\n",
       "  <tbody>\n",
       "    <tr>\n",
       "      <th>0</th>\n",
       "      <td>2020-09-16</td>\n",
       "      <td>8055340703569116761</td>\n",
       "      <td>786022008</td>\n",
       "      <td>0.048441</td>\n",
       "    </tr>\n",
       "    <tr>\n",
       "      <th>1</th>\n",
       "      <td>2020-09-16</td>\n",
       "      <td>8055340703569116761</td>\n",
       "      <td>913272003</td>\n",
       "      <td>0.032288</td>\n",
       "    </tr>\n",
       "    <tr>\n",
       "      <th>2</th>\n",
       "      <td>2020-09-16</td>\n",
       "      <td>8055340703569116761</td>\n",
       "      <td>889669006</td>\n",
       "      <td>0.056508</td>\n",
       "    </tr>\n",
       "    <tr>\n",
       "      <th>3</th>\n",
       "      <td>2020-09-16</td>\n",
       "      <td>2563761487478961358</td>\n",
       "      <td>237347060</td>\n",
       "      <td>0.033881</td>\n",
       "    </tr>\n",
       "    <tr>\n",
       "      <th>4</th>\n",
       "      <td>2020-09-16</td>\n",
       "      <td>2563761487478961358</td>\n",
       "      <td>562245001</td>\n",
       "      <td>0.013542</td>\n",
       "    </tr>\n",
       "  </tbody>\n",
       "</table>\n",
       "</div>"
      ],
      "text/plain": [
       "        t_dat          customer_id  article_id     price\n",
       "0  2020-09-16  8055340703569116761   786022008  0.048441\n",
       "1  2020-09-16  8055340703569116761   913272003  0.032288\n",
       "2  2020-09-16  8055340703569116761   889669006  0.056508\n",
       "3  2020-09-16  2563761487478961358   237347060  0.033881\n",
       "4  2020-09-16  2563761487478961358   562245001  0.013542"
      ]
     },
     "metadata": {},
     "output_type": "display_data"
    }
   ],
   "source": [
    "train_data = transactions_train.query(f\"t_dat < '{val_end_date}'\").reset_index(drop=True)\n",
    "valid_data = transactions_train.query(f\"'2020-09-16' <= t_dat\").reset_index(drop=True) # fix\n",
    "visualize_df(train_data)\n",
    "visualize_df(valid_data)"
   ]
  },
  {
   "cell_type": "code",
   "execution_count": 14,
   "id": "c43a5578",
   "metadata": {
    "execution": {
     "iopub.execute_input": "2022-03-12T08:05:12.350641Z",
     "iopub.status.busy": "2022-03-12T08:05:12.349859Z",
     "iopub.status.idle": "2022-03-12T08:05:12.353920Z",
     "shell.execute_reply": "2022-03-12T08:05:12.353376Z",
     "shell.execute_reply.started": "2022-03-12T07:45:20.097813Z"
    },
    "papermill": {
     "duration": 0.666012,
     "end_time": "2022-03-12T08:05:12.354063",
     "exception": false,
     "start_time": "2022-03-12T08:05:11.688051",
     "status": "completed"
    },
    "tags": []
   },
   "outputs": [
    {
     "data": {
      "text/plain": [
       "3"
      ]
     },
     "execution_count": 14,
     "metadata": {},
     "output_type": "execute_result"
    }
   ],
   "source": [
    "# メモリ節約\n",
    "del transactions_train\n",
    "gc.collect()  "
   ]
  },
  {
   "cell_type": "markdown",
   "id": "fdd1d06f",
   "metadata": {
    "papermill": {
     "duration": 0.096857,
     "end_time": "2022-03-12T08:05:12.952244",
     "exception": false,
     "start_time": "2022-03-12T08:05:12.855387",
     "status": "completed"
    },
    "tags": []
   },
   "source": [
    "### Simple Collaborative Filtering"
   ]
  },
  {
   "cell_type": "code",
   "execution_count": 15,
   "id": "13f57d86",
   "metadata": {
    "execution": {
     "iopub.execute_input": "2022-03-12T08:05:13.151381Z",
     "iopub.status.busy": "2022-03-12T08:05:13.150718Z",
     "iopub.status.idle": "2022-03-12T08:05:13.153110Z",
     "shell.execute_reply": "2022-03-12T08:05:13.152517Z",
     "shell.execute_reply.started": "2022-03-12T07:45:20.703505Z"
    },
    "papermill": {
     "duration": 0.103656,
     "end_time": "2022-03-12T08:05:13.153256",
     "exception": false,
     "start_time": "2022-03-12T08:05:13.049600",
     "status": "completed"
    },
    "tags": []
   },
   "outputs": [],
   "source": [
    "# t_datを週ごとの値に変換したものを追加\n",
    "# customer_id, article_idとtimeのみ残す\n",
    "# t_datを1週間進めたdfを作る\n",
    "# cross　joinしてt_dat, customer_idごとにまとめる"
   ]
  },
  {
   "cell_type": "markdown",
   "id": "4cce2394",
   "metadata": {
    "papermill": {
     "duration": 0.095389,
     "end_time": "2022-03-12T08:05:14.331935",
     "exception": false,
     "start_time": "2022-03-12T08:05:14.236546",
     "status": "completed"
    },
    "tags": []
   },
   "source": [
    "#### wbywの場合"
   ]
  },
  {
   "cell_type": "code",
   "execution_count": 16,
   "id": "23b1811a",
   "metadata": {
    "execution": {
     "iopub.execute_input": "2022-03-12T08:05:16.367381Z",
     "iopub.status.busy": "2022-03-12T08:05:16.366659Z",
     "iopub.status.idle": "2022-03-12T08:05:22.152177Z",
     "shell.execute_reply": "2022-03-12T08:05:22.151491Z",
     "shell.execute_reply.started": "2022-03-12T07:45:20.769903Z"
    },
    "papermill": {
     "duration": 7.72413,
     "end_time": "2022-03-12T08:05:22.152352",
     "exception": false,
     "start_time": "2022-03-12T08:05:14.428222",
     "status": "completed"
    },
    "tags": []
   },
   "outputs": [],
   "source": [
    "# t_datをobjectからtimestamp型に変換\n",
    "train_data['t_dat'] = pd.to_datetime(train_data['t_dat'])\n",
    "train_data['t_dat_1week'] = train_data['t_dat'] + timedelta(days=7)"
   ]
  },
  {
   "cell_type": "code",
   "execution_count": 17,
   "id": "a3184794",
   "metadata": {
    "execution": {
     "iopub.execute_input": "2022-03-12T08:05:22.356022Z",
     "iopub.status.busy": "2022-03-12T08:05:22.355290Z",
     "iopub.status.idle": "2022-03-12T08:05:22.359419Z",
     "shell.execute_reply": "2022-03-12T08:05:22.358879Z",
     "shell.execute_reply.started": "2022-03-12T07:45:28.403771Z"
    },
    "papermill": {
     "duration": 0.111168,
     "end_time": "2022-03-12T08:05:22.359556",
     "exception": false,
     "start_time": "2022-03-12T08:05:22.248388",
     "status": "completed"
    },
    "tags": []
   },
   "outputs": [
    {
     "data": {
      "text/html": [
       "<div>\n",
       "<style scoped>\n",
       "    .dataframe tbody tr th:only-of-type {\n",
       "        vertical-align: middle;\n",
       "    }\n",
       "\n",
       "    .dataframe tbody tr th {\n",
       "        vertical-align: top;\n",
       "    }\n",
       "\n",
       "    .dataframe thead th {\n",
       "        text-align: right;\n",
       "    }\n",
       "</style>\n",
       "<table border=\"1\" class=\"dataframe\">\n",
       "  <thead>\n",
       "    <tr style=\"text-align: right;\">\n",
       "      <th></th>\n",
       "      <th>t_dat</th>\n",
       "      <th>customer_id</th>\n",
       "      <th>article_id</th>\n",
       "      <th>price</th>\n",
       "      <th>t_dat_1week</th>\n",
       "    </tr>\n",
       "  </thead>\n",
       "  <tbody>\n",
       "    <tr>\n",
       "      <th>0</th>\n",
       "      <td>2018-09-20</td>\n",
       "      <td>-6846340800584936</td>\n",
       "      <td>663713001</td>\n",
       "      <td>0.050831</td>\n",
       "      <td>2018-09-27</td>\n",
       "    </tr>\n",
       "    <tr>\n",
       "      <th>1</th>\n",
       "      <td>2018-09-20</td>\n",
       "      <td>-6846340800584936</td>\n",
       "      <td>541518023</td>\n",
       "      <td>0.030492</td>\n",
       "      <td>2018-09-27</td>\n",
       "    </tr>\n",
       "    <tr>\n",
       "      <th>2</th>\n",
       "      <td>2018-09-20</td>\n",
       "      <td>-8334631767138808638</td>\n",
       "      <td>505221004</td>\n",
       "      <td>0.015237</td>\n",
       "      <td>2018-09-27</td>\n",
       "    </tr>\n",
       "    <tr>\n",
       "      <th>3</th>\n",
       "      <td>2018-09-20</td>\n",
       "      <td>-8334631767138808638</td>\n",
       "      <td>685687003</td>\n",
       "      <td>0.016932</td>\n",
       "      <td>2018-09-27</td>\n",
       "    </tr>\n",
       "    <tr>\n",
       "      <th>4</th>\n",
       "      <td>2018-09-20</td>\n",
       "      <td>-8334631767138808638</td>\n",
       "      <td>685687004</td>\n",
       "      <td>0.016932</td>\n",
       "      <td>2018-09-27</td>\n",
       "    </tr>\n",
       "  </tbody>\n",
       "</table>\n",
       "</div>"
      ],
      "text/plain": [
       "       t_dat          customer_id  article_id     price t_dat_1week\n",
       "0 2018-09-20    -6846340800584936   663713001  0.050831  2018-09-27\n",
       "1 2018-09-20    -6846340800584936   541518023  0.030492  2018-09-27\n",
       "2 2018-09-20 -8334631767138808638   505221004  0.015237  2018-09-27\n",
       "3 2018-09-20 -8334631767138808638   685687003  0.016932  2018-09-27\n",
       "4 2018-09-20 -8334631767138808638   685687004  0.016932  2018-09-27"
      ]
     },
     "execution_count": 17,
     "metadata": {},
     "output_type": "execute_result"
    }
   ],
   "source": [
    "train_data.head()"
   ]
  },
  {
   "cell_type": "code",
   "execution_count": 18,
   "id": "32d2f127",
   "metadata": {
    "execution": {
     "iopub.execute_input": "2022-03-12T08:05:25.978579Z",
     "iopub.status.busy": "2022-03-12T08:05:25.977802Z",
     "iopub.status.idle": "2022-03-12T08:05:29.783599Z",
     "shell.execute_reply": "2022-03-12T08:05:29.782937Z",
     "shell.execute_reply.started": "2022-03-12T07:45:28.418397Z"
    },
    "papermill": {
     "duration": 7.328241,
     "end_time": "2022-03-12T08:05:29.783741",
     "exception": false,
     "start_time": "2022-03-12T08:05:22.455500",
     "status": "completed"
    },
    "tags": []
   },
   "outputs": [],
   "source": [
    "# 週ごとのカラムを追加\n",
    "train_data['week'] = train_data['t_dat'].dt.to_period(\"W\")\n",
    "train_data['week_future'] = train_data['t_dat_1week'].dt.to_period(\"W\")\n",
    "# train_cf = train_data.set_index('t_dat')[['customer_id', 'article_id']]"
   ]
  },
  {
   "cell_type": "code",
   "execution_count": 19,
   "id": "96c18e86",
   "metadata": {
    "execution": {
     "iopub.execute_input": "2022-03-12T08:05:29.987351Z",
     "iopub.status.busy": "2022-03-12T08:05:29.986652Z",
     "iopub.status.idle": "2022-03-12T08:05:31.144795Z",
     "shell.execute_reply": "2022-03-12T08:05:31.144219Z",
     "shell.execute_reply.started": "2022-03-12T07:45:35.728094Z"
    },
    "papermill": {
     "duration": 1.262412,
     "end_time": "2022-03-12T08:05:31.144976",
     "exception": false,
     "start_time": "2022-03-12T08:05:29.882564",
     "status": "completed"
    },
    "tags": []
   },
   "outputs": [
    {
     "data": {
      "text/html": [
       "<div>\n",
       "<style scoped>\n",
       "    .dataframe tbody tr th:only-of-type {\n",
       "        vertical-align: middle;\n",
       "    }\n",
       "\n",
       "    .dataframe tbody tr th {\n",
       "        vertical-align: top;\n",
       "    }\n",
       "\n",
       "    .dataframe thead th {\n",
       "        text-align: right;\n",
       "    }\n",
       "</style>\n",
       "<table border=\"1\" class=\"dataframe\">\n",
       "  <thead>\n",
       "    <tr style=\"text-align: right;\">\n",
       "      <th></th>\n",
       "      <th>week</th>\n",
       "      <th>week_future</th>\n",
       "      <th>customer_id</th>\n",
       "      <th>article_id</th>\n",
       "    </tr>\n",
       "  </thead>\n",
       "  <tbody>\n",
       "    <tr>\n",
       "      <th>0</th>\n",
       "      <td>2018-09-17/2018-09-23</td>\n",
       "      <td>2018-09-24/2018-09-30</td>\n",
       "      <td>-6846340800584936</td>\n",
       "      <td>663713001</td>\n",
       "    </tr>\n",
       "    <tr>\n",
       "      <th>1</th>\n",
       "      <td>2018-09-17/2018-09-23</td>\n",
       "      <td>2018-09-24/2018-09-30</td>\n",
       "      <td>-6846340800584936</td>\n",
       "      <td>541518023</td>\n",
       "    </tr>\n",
       "    <tr>\n",
       "      <th>2</th>\n",
       "      <td>2018-09-17/2018-09-23</td>\n",
       "      <td>2018-09-24/2018-09-30</td>\n",
       "      <td>-8334631767138808638</td>\n",
       "      <td>505221004</td>\n",
       "    </tr>\n",
       "    <tr>\n",
       "      <th>3</th>\n",
       "      <td>2018-09-17/2018-09-23</td>\n",
       "      <td>2018-09-24/2018-09-30</td>\n",
       "      <td>-8334631767138808638</td>\n",
       "      <td>685687003</td>\n",
       "    </tr>\n",
       "    <tr>\n",
       "      <th>4</th>\n",
       "      <td>2018-09-17/2018-09-23</td>\n",
       "      <td>2018-09-24/2018-09-30</td>\n",
       "      <td>-8334631767138808638</td>\n",
       "      <td>685687004</td>\n",
       "    </tr>\n",
       "    <tr>\n",
       "      <th>...</th>\n",
       "      <td>...</td>\n",
       "      <td>...</td>\n",
       "      <td>...</td>\n",
       "      <td>...</td>\n",
       "    </tr>\n",
       "    <tr>\n",
       "      <th>31788319</th>\n",
       "      <td>2020-09-21/2020-09-27</td>\n",
       "      <td>2020-09-28/2020-10-04</td>\n",
       "      <td>4685485978980270934</td>\n",
       "      <td>929511001</td>\n",
       "    </tr>\n",
       "    <tr>\n",
       "      <th>31788320</th>\n",
       "      <td>2020-09-21/2020-09-27</td>\n",
       "      <td>2020-09-28/2020-10-04</td>\n",
       "      <td>4685485978980270934</td>\n",
       "      <td>891322004</td>\n",
       "    </tr>\n",
       "    <tr>\n",
       "      <th>31788321</th>\n",
       "      <td>2020-09-21/2020-09-27</td>\n",
       "      <td>2020-09-28/2020-10-04</td>\n",
       "      <td>3959348689921271969</td>\n",
       "      <td>918325001</td>\n",
       "    </tr>\n",
       "    <tr>\n",
       "      <th>31788322</th>\n",
       "      <td>2020-09-21/2020-09-27</td>\n",
       "      <td>2020-09-28/2020-10-04</td>\n",
       "      <td>-8639340045377511665</td>\n",
       "      <td>833459002</td>\n",
       "    </tr>\n",
       "    <tr>\n",
       "      <th>31788323</th>\n",
       "      <td>2020-09-21/2020-09-27</td>\n",
       "      <td>2020-09-28/2020-10-04</td>\n",
       "      <td>3235222691137941515</td>\n",
       "      <td>898573003</td>\n",
       "    </tr>\n",
       "  </tbody>\n",
       "</table>\n",
       "<p>31788324 rows × 4 columns</p>\n",
       "</div>"
      ],
      "text/plain": [
       "                           week            week_future          customer_id  \\\n",
       "0         2018-09-17/2018-09-23  2018-09-24/2018-09-30    -6846340800584936   \n",
       "1         2018-09-17/2018-09-23  2018-09-24/2018-09-30    -6846340800584936   \n",
       "2         2018-09-17/2018-09-23  2018-09-24/2018-09-30 -8334631767138808638   \n",
       "3         2018-09-17/2018-09-23  2018-09-24/2018-09-30 -8334631767138808638   \n",
       "4         2018-09-17/2018-09-23  2018-09-24/2018-09-30 -8334631767138808638   \n",
       "...                         ...                    ...                  ...   \n",
       "31788319  2020-09-21/2020-09-27  2020-09-28/2020-10-04  4685485978980270934   \n",
       "31788320  2020-09-21/2020-09-27  2020-09-28/2020-10-04  4685485978980270934   \n",
       "31788321  2020-09-21/2020-09-27  2020-09-28/2020-10-04  3959348689921271969   \n",
       "31788322  2020-09-21/2020-09-27  2020-09-28/2020-10-04 -8639340045377511665   \n",
       "31788323  2020-09-21/2020-09-27  2020-09-28/2020-10-04  3235222691137941515   \n",
       "\n",
       "          article_id  \n",
       "0          663713001  \n",
       "1          541518023  \n",
       "2          505221004  \n",
       "3          685687003  \n",
       "4          685687004  \n",
       "...              ...  \n",
       "31788319   929511001  \n",
       "31788320   891322004  \n",
       "31788321   918325001  \n",
       "31788322   833459002  \n",
       "31788323   898573003  \n",
       "\n",
       "[31788324 rows x 4 columns]"
      ]
     },
     "execution_count": 19,
     "metadata": {},
     "output_type": "execute_result"
    }
   ],
   "source": [
    "train_cf = train_data[['week', 'week_future', 'customer_id', 'article_id']]\n",
    "train_cf"
   ]
  },
  {
   "cell_type": "code",
   "execution_count": 20,
   "id": "38d7a70e",
   "metadata": {
    "execution": {
     "iopub.execute_input": "2022-03-12T08:05:32.128278Z",
     "iopub.status.busy": "2022-03-12T08:05:31.664973Z",
     "iopub.status.idle": "2022-03-12T08:05:33.739981Z",
     "shell.execute_reply": "2022-03-12T08:05:33.739358Z",
     "shell.execute_reply.started": "2022-03-12T07:45:36.901263Z"
    },
    "papermill": {
     "duration": 2.498743,
     "end_time": "2022-03-12T08:05:33.740136",
     "exception": false,
     "start_time": "2022-03-12T08:05:31.241393",
     "status": "completed"
    },
    "tags": []
   },
   "outputs": [],
   "source": [
    "train_future = train_cf\n",
    "train_future = train_future.drop('week', axis='columns')\n",
    "train_future = train_future.rename(columns={'week_future':'week'})"
   ]
  },
  {
   "cell_type": "code",
   "execution_count": 21,
   "id": "c6932ca8",
   "metadata": {
    "execution": {
     "iopub.execute_input": "2022-03-12T08:05:33.938096Z",
     "iopub.status.busy": "2022-03-12T08:05:33.937033Z",
     "iopub.status.idle": "2022-03-12T08:06:01.986471Z",
     "shell.execute_reply": "2022-03-12T08:06:01.986992Z",
     "shell.execute_reply.started": "2022-03-12T07:45:39.351606Z"
    },
    "papermill": {
     "duration": 28.149838,
     "end_time": "2022-03-12T08:06:01.987209",
     "exception": false,
     "start_time": "2022-03-12T08:05:33.837371",
     "status": "completed"
    },
    "tags": []
   },
   "outputs": [],
   "source": [
    "## join\n",
    "joined_train =  pd.merge(train_cf, train_future, on=['customer_id','week'], how='inner')"
   ]
  },
  {
   "cell_type": "code",
   "execution_count": 22,
   "id": "22ddf5d6",
   "metadata": {
    "execution": {
     "iopub.execute_input": "2022-03-12T08:06:02.668157Z",
     "iopub.status.busy": "2022-03-12T08:06:02.186879Z",
     "iopub.status.idle": "2022-03-12T08:06:02.671734Z",
     "shell.execute_reply": "2022-03-12T08:06:02.671082Z",
     "shell.execute_reply.started": "2022-03-12T07:46:07.757403Z"
    },
    "papermill": {
     "duration": 0.584682,
     "end_time": "2022-03-12T08:06:02.671890",
     "exception": false,
     "start_time": "2022-03-12T08:06:02.087208",
     "status": "completed"
    },
    "tags": []
   },
   "outputs": [
    {
     "data": {
      "text/plain": [
       "36"
      ]
     },
     "execution_count": 22,
     "metadata": {},
     "output_type": "execute_result"
    }
   ],
   "source": [
    "del train_future\n",
    "del train_cf\n",
    "gc.collect() "
   ]
  },
  {
   "cell_type": "markdown",
   "id": "0bb18953",
   "metadata": {
    "papermill": {
     "duration": 0.096403,
     "end_time": "2022-03-12T08:06:02.865097",
     "exception": false,
     "start_time": "2022-03-12T08:06:02.768694",
     "status": "completed"
    },
    "tags": []
   },
   "source": [
    "#### fromとtoを結合後"
   ]
  },
  {
   "cell_type": "code",
   "execution_count": 23,
   "id": "53c582b7",
   "metadata": {
    "execution": {
     "iopub.execute_input": "2022-03-12T08:06:03.086617Z",
     "iopub.status.busy": "2022-03-12T08:06:03.077243Z",
     "iopub.status.idle": "2022-03-12T08:06:03.090742Z",
     "shell.execute_reply": "2022-03-12T08:06:03.091622Z",
     "shell.execute_reply.started": "2022-03-12T07:46:08.254678Z"
    },
    "papermill": {
     "duration": 0.129136,
     "end_time": "2022-03-12T08:06:03.091884",
     "exception": false,
     "start_time": "2022-03-12T08:06:02.962748",
     "status": "completed"
    },
    "tags": []
   },
   "outputs": [
    {
     "data": {
      "text/html": [
       "<div>\n",
       "<style scoped>\n",
       "    .dataframe tbody tr th:only-of-type {\n",
       "        vertical-align: middle;\n",
       "    }\n",
       "\n",
       "    .dataframe tbody tr th {\n",
       "        vertical-align: top;\n",
       "    }\n",
       "\n",
       "    .dataframe thead th {\n",
       "        text-align: right;\n",
       "    }\n",
       "</style>\n",
       "<table border=\"1\" class=\"dataframe\">\n",
       "  <thead>\n",
       "    <tr style=\"text-align: right;\">\n",
       "      <th></th>\n",
       "      <th>week</th>\n",
       "      <th>week_future</th>\n",
       "      <th>customer_id</th>\n",
       "      <th>article_id_x</th>\n",
       "      <th>article_id_y</th>\n",
       "    </tr>\n",
       "  </thead>\n",
       "  <tbody>\n",
       "    <tr>\n",
       "      <th>0</th>\n",
       "      <td>2018-09-24/2018-09-30</td>\n",
       "      <td>2018-10-01/2018-10-07</td>\n",
       "      <td>-6846340800584936</td>\n",
       "      <td>663713001</td>\n",
       "      <td>663713001</td>\n",
       "    </tr>\n",
       "    <tr>\n",
       "      <th>1</th>\n",
       "      <td>2018-09-24/2018-09-30</td>\n",
       "      <td>2018-10-01/2018-10-07</td>\n",
       "      <td>-6846340800584936</td>\n",
       "      <td>663713001</td>\n",
       "      <td>541518023</td>\n",
       "    </tr>\n",
       "    <tr>\n",
       "      <th>2</th>\n",
       "      <td>2018-09-24/2018-09-30</td>\n",
       "      <td>2018-10-01/2018-10-07</td>\n",
       "      <td>-1654819258089153483</td>\n",
       "      <td>380609010</td>\n",
       "      <td>625939013</td>\n",
       "    </tr>\n",
       "    <tr>\n",
       "      <th>3</th>\n",
       "      <td>2018-09-24/2018-09-30</td>\n",
       "      <td>2018-10-01/2018-10-07</td>\n",
       "      <td>-1654819258089153483</td>\n",
       "      <td>380609010</td>\n",
       "      <td>625939013</td>\n",
       "    </tr>\n",
       "    <tr>\n",
       "      <th>4</th>\n",
       "      <td>2018-09-24/2018-09-30</td>\n",
       "      <td>2018-10-01/2018-10-07</td>\n",
       "      <td>-1654819258089153483</td>\n",
       "      <td>380609010</td>\n",
       "      <td>712838007</td>\n",
       "    </tr>\n",
       "    <tr>\n",
       "      <th>...</th>\n",
       "      <td>...</td>\n",
       "      <td>...</td>\n",
       "      <td>...</td>\n",
       "      <td>...</td>\n",
       "      <td>...</td>\n",
       "    </tr>\n",
       "    <tr>\n",
       "      <th>31649731</th>\n",
       "      <td>2020-09-21/2020-09-27</td>\n",
       "      <td>2020-09-28/2020-10-04</td>\n",
       "      <td>4685485978980270934</td>\n",
       "      <td>891322004</td>\n",
       "      <td>918892001</td>\n",
       "    </tr>\n",
       "    <tr>\n",
       "      <th>31649732</th>\n",
       "      <td>2020-09-21/2020-09-27</td>\n",
       "      <td>2020-09-28/2020-10-04</td>\n",
       "      <td>4685485978980270934</td>\n",
       "      <td>891322004</td>\n",
       "      <td>918892001</td>\n",
       "    </tr>\n",
       "    <tr>\n",
       "      <th>31649733</th>\n",
       "      <td>2020-09-21/2020-09-27</td>\n",
       "      <td>2020-09-28/2020-10-04</td>\n",
       "      <td>4685485978980270934</td>\n",
       "      <td>891322004</td>\n",
       "      <td>879088001</td>\n",
       "    </tr>\n",
       "    <tr>\n",
       "      <th>31649734</th>\n",
       "      <td>2020-09-21/2020-09-27</td>\n",
       "      <td>2020-09-28/2020-10-04</td>\n",
       "      <td>4685485978980270934</td>\n",
       "      <td>891322004</td>\n",
       "      <td>894780001</td>\n",
       "    </tr>\n",
       "    <tr>\n",
       "      <th>31649735</th>\n",
       "      <td>2020-09-21/2020-09-27</td>\n",
       "      <td>2020-09-28/2020-10-04</td>\n",
       "      <td>4685485978980270934</td>\n",
       "      <td>891322004</td>\n",
       "      <td>894780001</td>\n",
       "    </tr>\n",
       "  </tbody>\n",
       "</table>\n",
       "<p>31649736 rows × 5 columns</p>\n",
       "</div>"
      ],
      "text/plain": [
       "                           week            week_future          customer_id  \\\n",
       "0         2018-09-24/2018-09-30  2018-10-01/2018-10-07    -6846340800584936   \n",
       "1         2018-09-24/2018-09-30  2018-10-01/2018-10-07    -6846340800584936   \n",
       "2         2018-09-24/2018-09-30  2018-10-01/2018-10-07 -1654819258089153483   \n",
       "3         2018-09-24/2018-09-30  2018-10-01/2018-10-07 -1654819258089153483   \n",
       "4         2018-09-24/2018-09-30  2018-10-01/2018-10-07 -1654819258089153483   \n",
       "...                         ...                    ...                  ...   \n",
       "31649731  2020-09-21/2020-09-27  2020-09-28/2020-10-04  4685485978980270934   \n",
       "31649732  2020-09-21/2020-09-27  2020-09-28/2020-10-04  4685485978980270934   \n",
       "31649733  2020-09-21/2020-09-27  2020-09-28/2020-10-04  4685485978980270934   \n",
       "31649734  2020-09-21/2020-09-27  2020-09-28/2020-10-04  4685485978980270934   \n",
       "31649735  2020-09-21/2020-09-27  2020-09-28/2020-10-04  4685485978980270934   \n",
       "\n",
       "          article_id_x  article_id_y  \n",
       "0            663713001     663713001  \n",
       "1            663713001     541518023  \n",
       "2            380609010     625939013  \n",
       "3            380609010     625939013  \n",
       "4            380609010     712838007  \n",
       "...                ...           ...  \n",
       "31649731     891322004     918892001  \n",
       "31649732     891322004     918892001  \n",
       "31649733     891322004     879088001  \n",
       "31649734     891322004     894780001  \n",
       "31649735     891322004     894780001  \n",
       "\n",
       "[31649736 rows x 5 columns]"
      ]
     },
     "execution_count": 23,
     "metadata": {},
     "output_type": "execute_result"
    }
   ],
   "source": [
    "joined_train"
   ]
  },
  {
   "cell_type": "code",
   "execution_count": 24,
   "id": "edd0fd46",
   "metadata": {
    "execution": {
     "iopub.execute_input": "2022-03-12T08:06:07.357633Z",
     "iopub.status.busy": "2022-03-12T08:06:04.980087Z",
     "iopub.status.idle": "2022-03-12T08:06:08.162078Z",
     "shell.execute_reply": "2022-03-12T08:06:08.161359Z",
     "shell.execute_reply.started": "2022-03-12T07:46:08.286003Z"
    },
    "papermill": {
     "duration": 4.741089,
     "end_time": "2022-03-12T08:06:08.162227",
     "exception": false,
     "start_time": "2022-03-12T08:06:03.421138",
     "status": "completed"
    },
    "tags": []
   },
   "outputs": [],
   "source": [
    "# 使わなくなったカラムは消す\n",
    "joined_train = joined_train[['article_id_x', 'article_id_y']]"
   ]
  },
  {
   "cell_type": "code",
   "execution_count": 25,
   "id": "ed912785",
   "metadata": {
    "execution": {
     "iopub.execute_input": "2022-03-12T08:06:09.356730Z",
     "iopub.status.busy": "2022-03-12T08:06:09.356017Z",
     "iopub.status.idle": "2022-03-12T08:06:09.684095Z",
     "shell.execute_reply": "2022-03-12T08:06:09.683463Z",
     "shell.execute_reply.started": "2022-03-12T07:46:12.974890Z"
    },
    "papermill": {
     "duration": 1.423115,
     "end_time": "2022-03-12T08:06:09.684261",
     "exception": false,
     "start_time": "2022-03-12T08:06:08.261146",
     "status": "completed"
    },
    "tags": []
   },
   "outputs": [
    {
     "data": {
      "text/html": [
       "<div>\n",
       "<style scoped>\n",
       "    .dataframe tbody tr th:only-of-type {\n",
       "        vertical-align: middle;\n",
       "    }\n",
       "\n",
       "    .dataframe tbody tr th {\n",
       "        vertical-align: top;\n",
       "    }\n",
       "\n",
       "    .dataframe thead th {\n",
       "        text-align: right;\n",
       "    }\n",
       "</style>\n",
       "<table border=\"1\" class=\"dataframe\">\n",
       "  <thead>\n",
       "    <tr style=\"text-align: right;\">\n",
       "      <th></th>\n",
       "      <th>from_article_id</th>\n",
       "      <th>to_article_id</th>\n",
       "    </tr>\n",
       "  </thead>\n",
       "  <tbody>\n",
       "    <tr>\n",
       "      <th>0</th>\n",
       "      <td>663713001</td>\n",
       "      <td>663713001</td>\n",
       "    </tr>\n",
       "    <tr>\n",
       "      <th>1</th>\n",
       "      <td>663713001</td>\n",
       "      <td>541518023</td>\n",
       "    </tr>\n",
       "    <tr>\n",
       "      <th>2</th>\n",
       "      <td>380609010</td>\n",
       "      <td>625939013</td>\n",
       "    </tr>\n",
       "    <tr>\n",
       "      <th>3</th>\n",
       "      <td>380609010</td>\n",
       "      <td>625939013</td>\n",
       "    </tr>\n",
       "    <tr>\n",
       "      <th>4</th>\n",
       "      <td>380609010</td>\n",
       "      <td>712838007</td>\n",
       "    </tr>\n",
       "    <tr>\n",
       "      <th>...</th>\n",
       "      <td>...</td>\n",
       "      <td>...</td>\n",
       "    </tr>\n",
       "    <tr>\n",
       "      <th>31649731</th>\n",
       "      <td>891322004</td>\n",
       "      <td>918892001</td>\n",
       "    </tr>\n",
       "    <tr>\n",
       "      <th>31649732</th>\n",
       "      <td>891322004</td>\n",
       "      <td>918892001</td>\n",
       "    </tr>\n",
       "    <tr>\n",
       "      <th>31649733</th>\n",
       "      <td>891322004</td>\n",
       "      <td>879088001</td>\n",
       "    </tr>\n",
       "    <tr>\n",
       "      <th>31649734</th>\n",
       "      <td>891322004</td>\n",
       "      <td>894780001</td>\n",
       "    </tr>\n",
       "    <tr>\n",
       "      <th>31649735</th>\n",
       "      <td>891322004</td>\n",
       "      <td>894780001</td>\n",
       "    </tr>\n",
       "  </tbody>\n",
       "</table>\n",
       "<p>31649736 rows × 2 columns</p>\n",
       "</div>"
      ],
      "text/plain": [
       "          from_article_id  to_article_id\n",
       "0               663713001      663713001\n",
       "1               663713001      541518023\n",
       "2               380609010      625939013\n",
       "3               380609010      625939013\n",
       "4               380609010      712838007\n",
       "...                   ...            ...\n",
       "31649731        891322004      918892001\n",
       "31649732        891322004      918892001\n",
       "31649733        891322004      879088001\n",
       "31649734        891322004      894780001\n",
       "31649735        891322004      894780001\n",
       "\n",
       "[31649736 rows x 2 columns]"
      ]
     },
     "execution_count": 25,
     "metadata": {},
     "output_type": "execute_result"
    }
   ],
   "source": [
    "joined_train = joined_train.rename(columns={'article_id_x':'from_article_id', 'article_id_y':'to_article_id'})\n",
    "joined_train"
   ]
  },
  {
   "cell_type": "code",
   "execution_count": 26,
   "id": "a6234690",
   "metadata": {},
   "outputs": [],
   "source": [
    "## 使われてないarticel_idがtoのものを削除\n",
    "#joined_train = pd.merge(joined_train, dfagg1, left_on='to_article_id', right_on='article_id', how='inner')\n",
    "#joined_train = joined_train.drop('article_id', axis='columns')\n",
    "#del dfagg1; gc.collect() "
   ]
  },
  {
   "cell_type": "code",
   "execution_count": 27,
   "id": "758a6a29",
   "metadata": {
    "execution": {
     "iopub.execute_input": "2022-03-12T08:06:10.108351Z",
     "iopub.status.busy": "2022-03-12T08:06:10.107669Z",
     "iopub.status.idle": "2022-03-12T08:06:10.111410Z",
     "shell.execute_reply": "2022-03-12T08:06:10.111867Z",
     "shell.execute_reply.started": "2022-03-12T07:46:14.349621Z"
    },
    "papermill": {
     "duration": 0.107803,
     "end_time": "2022-03-12T08:06:10.112063",
     "exception": false,
     "start_time": "2022-03-12T08:06:10.004260",
     "status": "completed"
    },
    "tags": []
   },
   "outputs": [],
   "source": [
    "group = joined_train.groupby(['from_article_id', 'to_article_id'])"
   ]
  },
  {
   "cell_type": "code",
   "execution_count": 28,
   "id": "fdb56a3d",
   "metadata": {
    "execution": {
     "iopub.execute_input": "2022-03-12T08:06:10.316275Z",
     "iopub.status.busy": "2022-03-12T08:06:10.315522Z",
     "iopub.status.idle": "2022-03-12T08:06:10.421823Z",
     "shell.execute_reply": "2022-03-12T08:06:10.422341Z",
     "shell.execute_reply.started": "2022-03-12T07:46:14.371007Z"
    },
    "papermill": {
     "duration": 0.210762,
     "end_time": "2022-03-12T08:06:10.422535",
     "exception": false,
     "start_time": "2022-03-12T08:06:10.211773",
     "status": "completed"
    },
    "tags": []
   },
   "outputs": [
    {
     "data": {
      "text/plain": [
       "0"
      ]
     },
     "execution_count": 28,
     "metadata": {},
     "output_type": "execute_result"
    }
   ],
   "source": [
    "del joined_train\n",
    "gc.collect() "
   ]
  },
  {
   "cell_type": "code",
   "execution_count": 29,
   "id": "5d7ed4eb",
   "metadata": {
    "execution": {
     "iopub.execute_input": "2022-03-12T08:06:10.642760Z",
     "iopub.status.busy": "2022-03-12T08:06:10.641688Z",
     "iopub.status.idle": "2022-03-12T08:06:41.257338Z",
     "shell.execute_reply": "2022-03-12T08:06:41.257855Z",
     "shell.execute_reply.started": "2022-03-12T07:46:14.487133Z"
    },
    "papermill": {
     "duration": 30.725063,
     "end_time": "2022-03-12T08:06:41.258052",
     "exception": false,
     "start_time": "2022-03-12T08:06:10.532989",
     "status": "completed"
    },
    "tags": []
   },
   "outputs": [
    {
     "data": {
      "text/html": [
       "<div>\n",
       "<style scoped>\n",
       "    .dataframe tbody tr th:only-of-type {\n",
       "        vertical-align: middle;\n",
       "    }\n",
       "\n",
       "    .dataframe tbody tr th {\n",
       "        vertical-align: top;\n",
       "    }\n",
       "\n",
       "    .dataframe thead th {\n",
       "        text-align: right;\n",
       "    }\n",
       "</style>\n",
       "<table border=\"1\" class=\"dataframe\">\n",
       "  <thead>\n",
       "    <tr style=\"text-align: right;\">\n",
       "      <th></th>\n",
       "      <th>from_article_id</th>\n",
       "      <th>to_article_id</th>\n",
       "      <th>counts</th>\n",
       "    </tr>\n",
       "  </thead>\n",
       "  <tbody>\n",
       "    <tr>\n",
       "      <th>20805181</th>\n",
       "      <td>956217002</td>\n",
       "      <td>926166001</td>\n",
       "      <td>4</td>\n",
       "    </tr>\n",
       "    <tr>\n",
       "      <th>20805125</th>\n",
       "      <td>956217002</td>\n",
       "      <td>746070007</td>\n",
       "      <td>2</td>\n",
       "    </tr>\n",
       "    <tr>\n",
       "      <th>20805127</th>\n",
       "      <td>956217002</td>\n",
       "      <td>771759011</td>\n",
       "      <td>2</td>\n",
       "    </tr>\n",
       "    <tr>\n",
       "      <th>20805133</th>\n",
       "      <td>956217002</td>\n",
       "      <td>815848001</td>\n",
       "      <td>2</td>\n",
       "    </tr>\n",
       "    <tr>\n",
       "      <th>20805134</th>\n",
       "      <td>956217002</td>\n",
       "      <td>855198005</td>\n",
       "      <td>2</td>\n",
       "    </tr>\n",
       "    <tr>\n",
       "      <th>...</th>\n",
       "      <td>...</td>\n",
       "      <td>...</td>\n",
       "      <td>...</td>\n",
       "    </tr>\n",
       "    <tr>\n",
       "      <th>3407</th>\n",
       "      <td>108775015</td>\n",
       "      <td>874465005</td>\n",
       "      <td>1</td>\n",
       "    </tr>\n",
       "    <tr>\n",
       "      <th>3408</th>\n",
       "      <td>108775015</td>\n",
       "      <td>878013004</td>\n",
       "      <td>1</td>\n",
       "    </tr>\n",
       "    <tr>\n",
       "      <th>3409</th>\n",
       "      <td>108775015</td>\n",
       "      <td>880839006</td>\n",
       "      <td>1</td>\n",
       "    </tr>\n",
       "    <tr>\n",
       "      <th>3410</th>\n",
       "      <td>108775015</td>\n",
       "      <td>899247005</td>\n",
       "      <td>1</td>\n",
       "    </tr>\n",
       "    <tr>\n",
       "      <th>3411</th>\n",
       "      <td>108775015</td>\n",
       "      <td>901607001</td>\n",
       "      <td>1</td>\n",
       "    </tr>\n",
       "  </tbody>\n",
       "</table>\n",
       "<p>20805189 rows × 3 columns</p>\n",
       "</div>"
      ],
      "text/plain": [
       "          from_article_id  to_article_id  counts\n",
       "20805181        956217002      926166001       4\n",
       "20805125        956217002      746070007       2\n",
       "20805127        956217002      771759011       2\n",
       "20805133        956217002      815848001       2\n",
       "20805134        956217002      855198005       2\n",
       "...                   ...            ...     ...\n",
       "3407            108775015      874465005       1\n",
       "3408            108775015      878013004       1\n",
       "3409            108775015      880839006       1\n",
       "3410            108775015      899247005       1\n",
       "3411            108775015      901607001       1\n",
       "\n",
       "[20805189 rows x 3 columns]"
      ]
     },
     "execution_count": 29,
     "metadata": {},
     "output_type": "execute_result"
    }
   ],
   "source": [
    "group_df = group.size().reset_index(name='counts')\n",
    "group_df = group_df.sort_values(['from_article_id', 'counts'],ascending=False)\n",
    "group_df"
   ]
  },
  {
   "cell_type": "markdown",
   "id": "7fe46f71",
   "metadata": {
    "papermill": {
     "duration": 0.100589,
     "end_time": "2022-03-12T08:06:41.459447",
     "exception": false,
     "start_time": "2022-03-12T08:06:41.358858",
     "status": "completed"
    },
    "tags": []
   },
   "source": [
    "### Threthold"
   ]
  },
  {
   "cell_type": "code",
   "execution_count": 30,
   "id": "389212af",
   "metadata": {
    "execution": {
     "iopub.execute_input": "2022-03-12T08:06:41.667300Z",
     "iopub.status.busy": "2022-03-12T08:06:41.665888Z",
     "iopub.status.idle": "2022-03-12T08:06:42.158183Z",
     "shell.execute_reply": "2022-03-12T08:06:42.159106Z",
     "shell.execute_reply.started": "2022-03-12T07:46:45.879915Z"
    },
    "papermill": {
     "duration": 0.598889,
     "end_time": "2022-03-12T08:06:42.159370",
     "exception": false,
     "start_time": "2022-03-12T08:06:41.560481",
     "status": "completed"
    },
    "tags": []
   },
   "outputs": [
    {
     "data": {
      "text/plain": [
       "count    2.080519e+07\n",
       "mean     1.521242e+00\n",
       "std      1.033580e+01\n",
       "min      1.000000e+00\n",
       "25%      1.000000e+00\n",
       "50%      1.000000e+00\n",
       "75%      2.000000e+00\n",
       "max      4.560100e+04\n",
       "Name: counts, dtype: float64"
      ]
     },
     "execution_count": 30,
     "metadata": {},
     "output_type": "execute_result"
    }
   ],
   "source": [
    "group_df['counts'].describe()"
   ]
  },
  {
   "cell_type": "code",
   "execution_count": 31,
   "id": "72d9c62f",
   "metadata": {
    "execution": {
     "iopub.execute_input": "2022-03-12T08:06:42.391609Z",
     "iopub.status.busy": "2022-03-12T08:06:42.390062Z",
     "iopub.status.idle": "2022-03-12T08:06:45.335602Z",
     "shell.execute_reply": "2022-03-12T08:06:45.336150Z",
     "shell.execute_reply.started": "2022-03-12T07:46:46.337707Z"
    },
    "papermill": {
     "duration": 3.057658,
     "end_time": "2022-03-12T08:06:45.336333",
     "exception": false,
     "start_time": "2022-03-12T08:06:42.278675",
     "status": "completed"
    },
    "tags": []
   },
   "outputs": [
    {
     "data": {
      "text/plain": [
       "count    69323.000000\n",
       "mean        23.154797\n",
       "std        176.921391\n",
       "min         11.000000\n",
       "25%         12.000000\n",
       "50%         15.000000\n",
       "75%         21.000000\n",
       "max      45601.000000\n",
       "Name: counts, dtype: float64"
      ]
     },
     "execution_count": 31,
     "metadata": {},
     "output_type": "execute_result"
    }
   ],
   "source": [
    "# Thretholdの設定 10以上とか\n",
    "group_df = group_df.query('counts>10')\n",
    "group_df['counts'].describe()"
   ]
  },
  {
   "cell_type": "code",
   "execution_count": 32,
   "id": "bc1e85d7",
   "metadata": {
    "execution": {
     "iopub.execute_input": "2022-03-12T08:06:45.541164Z",
     "iopub.status.busy": "2022-03-12T08:06:45.540365Z",
     "iopub.status.idle": "2022-03-12T08:06:45.970398Z",
     "shell.execute_reply": "2022-03-12T08:06:45.970990Z",
     "shell.execute_reply.started": "2022-03-12T07:46:49.214610Z"
    },
    "papermill": {
     "duration": 0.534528,
     "end_time": "2022-03-12T08:06:45.971172",
     "exception": false,
     "start_time": "2022-03-12T08:06:45.436644",
     "status": "completed"
    },
    "tags": []
   },
   "outputs": [],
   "source": [
    "group2 = group_df.groupby('from_article_id')['to_article_id'].apply(list).reset_index(name='rec_list')"
   ]
  },
  {
   "cell_type": "code",
   "execution_count": 33,
   "id": "ffea7e9c",
   "metadata": {
    "execution": {
     "iopub.execute_input": "2022-03-12T08:06:46.187996Z",
     "iopub.status.busy": "2022-03-12T08:06:46.187302Z",
     "iopub.status.idle": "2022-03-12T08:06:46.322714Z",
     "shell.execute_reply": "2022-03-12T08:06:46.323341Z",
     "shell.execute_reply.started": "2022-03-12T07:46:49.645351Z"
    },
    "papermill": {
     "duration": 0.245758,
     "end_time": "2022-03-12T08:06:46.323528",
     "exception": false,
     "start_time": "2022-03-12T08:06:46.077770",
     "status": "completed"
    },
    "tags": []
   },
   "outputs": [
    {
     "data": {
      "text/plain": [
       "0"
      ]
     },
     "execution_count": 33,
     "metadata": {},
     "output_type": "execute_result"
    }
   ],
   "source": [
    "# メモリ節約\n",
    "del group_df\n",
    "del group\n",
    "gc.collect() "
   ]
  },
  {
   "cell_type": "code",
   "execution_count": 34,
   "id": "93f526d5",
   "metadata": {
    "execution": {
     "iopub.execute_input": "2022-03-12T08:06:46.545725Z",
     "iopub.status.busy": "2022-03-12T08:06:46.534256Z",
     "iopub.status.idle": "2022-03-12T08:06:46.549592Z",
     "shell.execute_reply": "2022-03-12T08:06:46.548944Z",
     "shell.execute_reply.started": "2022-03-12T07:46:49.787638Z"
    },
    "papermill": {
     "duration": 0.124894,
     "end_time": "2022-03-12T08:06:46.549757",
     "exception": false,
     "start_time": "2022-03-12T08:06:46.424863",
     "status": "completed"
    },
    "tags": []
   },
   "outputs": [
    {
     "data": {
      "text/html": [
       "<div>\n",
       "<style scoped>\n",
       "    .dataframe tbody tr th:only-of-type {\n",
       "        vertical-align: middle;\n",
       "    }\n",
       "\n",
       "    .dataframe tbody tr th {\n",
       "        vertical-align: top;\n",
       "    }\n",
       "\n",
       "    .dataframe thead th {\n",
       "        text-align: right;\n",
       "    }\n",
       "</style>\n",
       "<table border=\"1\" class=\"dataframe\">\n",
       "  <thead>\n",
       "    <tr style=\"text-align: right;\">\n",
       "      <th></th>\n",
       "      <th>rec_list</th>\n",
       "    </tr>\n",
       "    <tr>\n",
       "      <th>from_article_id</th>\n",
       "      <th></th>\n",
       "    </tr>\n",
       "  </thead>\n",
       "  <tbody>\n",
       "    <tr>\n",
       "      <th>108775015</th>\n",
       "      <td>[108775015, 565379001, 108775044, 372860001, 6...</td>\n",
       "    </tr>\n",
       "    <tr>\n",
       "      <th>108775044</th>\n",
       "      <td>[108775044, 108775015, 664074001, 479167001, 3...</td>\n",
       "    </tr>\n",
       "    <tr>\n",
       "      <th>110065011</th>\n",
       "      <td>[110065011, 687260002]</td>\n",
       "    </tr>\n",
       "    <tr>\n",
       "      <th>111565001</th>\n",
       "      <td>[111565001, 700910001, 228257001, 529012025, 5...</td>\n",
       "    </tr>\n",
       "    <tr>\n",
       "      <th>111586001</th>\n",
       "      <td>[111586001, 436261001, 111593001, 158340001, 6...</td>\n",
       "    </tr>\n",
       "  </tbody>\n",
       "</table>\n",
       "</div>"
      ],
      "text/plain": [
       "                                                          rec_list\n",
       "from_article_id                                                   \n",
       "108775015        [108775015, 565379001, 108775044, 372860001, 6...\n",
       "108775044        [108775044, 108775015, 664074001, 479167001, 3...\n",
       "110065011                                   [110065011, 687260002]\n",
       "111565001        [111565001, 700910001, 228257001, 529012025, 5...\n",
       "111586001        [111586001, 436261001, 111593001, 158340001, 6..."
      ]
     },
     "execution_count": 34,
     "metadata": {},
     "output_type": "execute_result"
    }
   ],
   "source": [
    "group2 = group2.set_index('from_article_id')\n",
    "group2.head()"
   ]
  },
  {
   "cell_type": "code",
   "execution_count": 35,
   "id": "867be4e5",
   "metadata": {
    "execution": {
     "iopub.execute_input": "2022-03-12T08:06:46.759947Z",
     "iopub.status.busy": "2022-03-12T08:06:46.759272Z",
     "iopub.status.idle": "2022-03-12T08:06:46.762082Z",
     "shell.execute_reply": "2022-03-12T08:06:46.761472Z",
     "shell.execute_reply.started": "2022-03-12T07:46:49.813827Z"
    },
    "papermill": {
     "duration": 0.109419,
     "end_time": "2022-03-12T08:06:46.762228",
     "exception": false,
     "start_time": "2022-03-12T08:06:46.652809",
     "status": "completed"
    },
    "tags": []
   },
   "outputs": [],
   "source": [
    "# ちゃんとsortされてlistになってるか確認\n",
    "#group2.loc[956217002]"
   ]
  },
  {
   "cell_type": "code",
   "execution_count": 36,
   "id": "260fc440",
   "metadata": {
    "execution": {
     "iopub.execute_input": "2022-03-12T08:06:46.983156Z",
     "iopub.status.busy": "2022-03-12T08:06:46.982139Z",
     "iopub.status.idle": "2022-03-12T08:06:46.990761Z",
     "shell.execute_reply": "2022-03-12T08:06:46.990174Z",
     "shell.execute_reply.started": "2022-03-12T07:46:49.818994Z"
    },
    "papermill": {
     "duration": 0.125947,
     "end_time": "2022-03-12T08:06:46.990922",
     "exception": false,
     "start_time": "2022-03-12T08:06:46.864975",
     "status": "completed"
    },
    "tags": []
   },
   "outputs": [
    {
     "data": {
      "text/plain": [
       "count    17713.000000\n",
       "mean         3.913679\n",
       "std          7.922570\n",
       "min          1.000000\n",
       "25%          1.000000\n",
       "50%          2.000000\n",
       "75%          4.000000\n",
       "max        299.000000\n",
       "Name: rec_list, dtype: float64"
      ]
     },
     "execution_count": 36,
     "metadata": {},
     "output_type": "execute_result"
    }
   ],
   "source": [
    "group2['rec_list'].apply(len).describe()"
   ]
  },
  {
   "cell_type": "code",
   "execution_count": 37,
   "id": "82a1801a",
   "metadata": {
    "execution": {
     "iopub.execute_input": "2022-03-12T08:06:47.224315Z",
     "iopub.status.busy": "2022-03-12T08:06:47.223644Z",
     "iopub.status.idle": "2022-03-12T08:06:47.237210Z",
     "shell.execute_reply": "2022-03-12T08:06:47.237717Z",
     "shell.execute_reply.started": "2022-03-12T07:46:49.847075Z"
    },
    "papermill": {
     "duration": 0.136875,
     "end_time": "2022-03-12T08:06:47.237888",
     "exception": false,
     "start_time": "2022-03-12T08:06:47.101013",
     "status": "completed"
    },
    "tags": []
   },
   "outputs": [],
   "source": [
    "group2['len'] = group2['rec_list'].apply(len)"
   ]
  },
  {
   "cell_type": "code",
   "execution_count": 38,
   "id": "ba5e86e4",
   "metadata": {
    "execution": {
     "iopub.execute_input": "2022-03-12T08:06:47.447214Z",
     "iopub.status.busy": "2022-03-12T08:06:47.446554Z",
     "iopub.status.idle": "2022-03-12T08:06:47.458646Z",
     "shell.execute_reply": "2022-03-12T08:06:47.458113Z",
     "shell.execute_reply.started": "2022-03-12T07:46:49.862744Z"
    },
    "papermill": {
     "duration": 0.118239,
     "end_time": "2022-03-12T08:06:47.458801",
     "exception": false,
     "start_time": "2022-03-12T08:06:47.340562",
     "status": "completed"
    },
    "tags": []
   },
   "outputs": [
    {
     "data": {
      "text/html": [
       "<div>\n",
       "<style scoped>\n",
       "    .dataframe tbody tr th:only-of-type {\n",
       "        vertical-align: middle;\n",
       "    }\n",
       "\n",
       "    .dataframe tbody tr th {\n",
       "        vertical-align: top;\n",
       "    }\n",
       "\n",
       "    .dataframe thead th {\n",
       "        text-align: right;\n",
       "    }\n",
       "</style>\n",
       "<table border=\"1\" class=\"dataframe\">\n",
       "  <thead>\n",
       "    <tr style=\"text-align: right;\">\n",
       "      <th></th>\n",
       "      <th>rec_list</th>\n",
       "      <th>len</th>\n",
       "    </tr>\n",
       "    <tr>\n",
       "      <th>from_article_id</th>\n",
       "      <th></th>\n",
       "      <th></th>\n",
       "    </tr>\n",
       "  </thead>\n",
       "  <tbody>\n",
       "    <tr>\n",
       "      <th>108775015</th>\n",
       "      <td>[108775015, 565379001, 108775044, 372860001, 6...</td>\n",
       "      <td>33</td>\n",
       "    </tr>\n",
       "    <tr>\n",
       "      <th>108775044</th>\n",
       "      <td>[108775044, 108775015, 664074001, 479167001, 3...</td>\n",
       "      <td>34</td>\n",
       "    </tr>\n",
       "    <tr>\n",
       "      <th>110065011</th>\n",
       "      <td>[110065011, 687260002]</td>\n",
       "      <td>2</td>\n",
       "    </tr>\n",
       "    <tr>\n",
       "      <th>111565001</th>\n",
       "      <td>[111565001, 700910001, 228257001, 529012025, 5...</td>\n",
       "      <td>11</td>\n",
       "    </tr>\n",
       "    <tr>\n",
       "      <th>111586001</th>\n",
       "      <td>[111586001, 436261001, 111593001, 158340001, 6...</td>\n",
       "      <td>30</td>\n",
       "    </tr>\n",
       "  </tbody>\n",
       "</table>\n",
       "</div>"
      ],
      "text/plain": [
       "                                                          rec_list  len\n",
       "from_article_id                                                        \n",
       "108775015        [108775015, 565379001, 108775044, 372860001, 6...   33\n",
       "108775044        [108775044, 108775015, 664074001, 479167001, 3...   34\n",
       "110065011                                   [110065011, 687260002]    2\n",
       "111565001        [111565001, 700910001, 228257001, 529012025, 5...   11\n",
       "111586001        [111586001, 436261001, 111593001, 158340001, 6...   30"
      ]
     },
     "execution_count": 38,
     "metadata": {},
     "output_type": "execute_result"
    }
   ],
   "source": [
    "group2.head()"
   ]
  },
  {
   "cell_type": "code",
   "execution_count": 39,
   "id": "6deb245b",
   "metadata": {
    "execution": {
     "iopub.execute_input": "2022-03-12T08:06:47.667295Z",
     "iopub.status.busy": "2022-03-12T08:06:47.666604Z",
     "iopub.status.idle": "2022-03-12T08:06:47.692260Z",
     "shell.execute_reply": "2022-03-12T08:06:47.691628Z",
     "shell.execute_reply.started": "2022-03-12T07:46:49.884845Z"
    },
    "papermill": {
     "duration": 0.130943,
     "end_time": "2022-03-12T08:06:47.692439",
     "exception": false,
     "start_time": "2022-03-12T08:06:47.561496",
     "status": "completed"
    },
    "tags": []
   },
   "outputs": [],
   "source": [
    "# 長さがN以上のものは上位Nにまるめる\n",
    "group2['rec_list'] = group2['rec_list'].apply(lambda x: x[:Nval])"
   ]
  },
  {
   "cell_type": "code",
   "execution_count": 40,
   "id": "2afa9a46",
   "metadata": {
    "execution": {
     "iopub.execute_input": "2022-03-12T08:06:47.920962Z",
     "iopub.status.busy": "2022-03-12T08:06:47.911127Z",
     "iopub.status.idle": "2022-03-12T08:06:47.929163Z",
     "shell.execute_reply": "2022-03-12T08:06:47.929673Z",
     "shell.execute_reply.started": "2022-03-12T07:46:49.915980Z"
    },
    "papermill": {
     "duration": 0.134871,
     "end_time": "2022-03-12T08:06:47.929860",
     "exception": false,
     "start_time": "2022-03-12T08:06:47.794989",
     "status": "completed"
    },
    "tags": []
   },
   "outputs": [
    {
     "data": {
      "text/plain": [
       "count    17713.000000\n",
       "mean         3.778637\n",
       "std          6.154363\n",
       "min          1.000000\n",
       "25%          1.000000\n",
       "50%          2.000000\n",
       "75%          4.000000\n",
       "max         50.000000\n",
       "Name: rec_list, dtype: float64"
      ]
     },
     "execution_count": 40,
     "metadata": {},
     "output_type": "execute_result"
    }
   ],
   "source": [
    "group2['len'] = group2['rec_list'].apply(len)\n",
    "group2['rec_list'].apply(len).describe()"
   ]
  },
  {
   "cell_type": "code",
   "execution_count": 41,
   "id": "bf28a68d",
   "metadata": {
    "execution": {
     "iopub.execute_input": "2022-03-12T08:06:48.153380Z",
     "iopub.status.busy": "2022-03-12T08:06:48.152658Z",
     "iopub.status.idle": "2022-03-12T08:06:48.156807Z",
     "shell.execute_reply": "2022-03-12T08:06:48.156264Z",
     "shell.execute_reply.started": "2022-03-12T07:46:49.954141Z"
    },
    "papermill": {
     "duration": 0.123631,
     "end_time": "2022-03-12T08:06:48.156964",
     "exception": false,
     "start_time": "2022-03-12T08:06:48.033333",
     "status": "completed"
    },
    "tags": []
   },
   "outputs": [
    {
     "data": {
      "text/html": [
       "<div>\n",
       "<style scoped>\n",
       "    .dataframe tbody tr th:only-of-type {\n",
       "        vertical-align: middle;\n",
       "    }\n",
       "\n",
       "    .dataframe tbody tr th {\n",
       "        vertical-align: top;\n",
       "    }\n",
       "\n",
       "    .dataframe thead th {\n",
       "        text-align: right;\n",
       "    }\n",
       "</style>\n",
       "<table border=\"1\" class=\"dataframe\">\n",
       "  <thead>\n",
       "    <tr style=\"text-align: right;\">\n",
       "      <th></th>\n",
       "      <th>rec_list</th>\n",
       "      <th>len</th>\n",
       "    </tr>\n",
       "    <tr>\n",
       "      <th>from_article_id</th>\n",
       "      <th></th>\n",
       "      <th></th>\n",
       "    </tr>\n",
       "  </thead>\n",
       "  <tbody>\n",
       "    <tr>\n",
       "      <th>108775015</th>\n",
       "      <td>[108775015, 565379001, 108775044, 372860001, 6...</td>\n",
       "      <td>33</td>\n",
       "    </tr>\n",
       "    <tr>\n",
       "      <th>108775044</th>\n",
       "      <td>[108775044, 108775015, 664074001, 479167001, 3...</td>\n",
       "      <td>34</td>\n",
       "    </tr>\n",
       "    <tr>\n",
       "      <th>110065011</th>\n",
       "      <td>[110065011, 687260002]</td>\n",
       "      <td>2</td>\n",
       "    </tr>\n",
       "    <tr>\n",
       "      <th>111565001</th>\n",
       "      <td>[111565001, 700910001, 228257001, 529012025, 5...</td>\n",
       "      <td>11</td>\n",
       "    </tr>\n",
       "    <tr>\n",
       "      <th>111586001</th>\n",
       "      <td>[111586001, 436261001, 111593001, 158340001, 6...</td>\n",
       "      <td>30</td>\n",
       "    </tr>\n",
       "    <tr>\n",
       "      <th>...</th>\n",
       "      <td>...</td>\n",
       "      <td>...</td>\n",
       "    </tr>\n",
       "    <tr>\n",
       "      <th>941005003</th>\n",
       "      <td>[941005003]</td>\n",
       "      <td>1</td>\n",
       "    </tr>\n",
       "    <tr>\n",
       "      <th>941005005</th>\n",
       "      <td>[751664001, 941005005]</td>\n",
       "      <td>2</td>\n",
       "    </tr>\n",
       "    <tr>\n",
       "      <th>944506001</th>\n",
       "      <td>[909924002, 944506001]</td>\n",
       "      <td>2</td>\n",
       "    </tr>\n",
       "    <tr>\n",
       "      <th>945995002</th>\n",
       "      <td>[836367001]</td>\n",
       "      <td>1</td>\n",
       "    </tr>\n",
       "    <tr>\n",
       "      <th>946748003</th>\n",
       "      <td>[946748003, 923134001]</td>\n",
       "      <td>2</td>\n",
       "    </tr>\n",
       "  </tbody>\n",
       "</table>\n",
       "<p>17713 rows × 2 columns</p>\n",
       "</div>"
      ],
      "text/plain": [
       "                                                          rec_list  len\n",
       "from_article_id                                                        \n",
       "108775015        [108775015, 565379001, 108775044, 372860001, 6...   33\n",
       "108775044        [108775044, 108775015, 664074001, 479167001, 3...   34\n",
       "110065011                                   [110065011, 687260002]    2\n",
       "111565001        [111565001, 700910001, 228257001, 529012025, 5...   11\n",
       "111586001        [111586001, 436261001, 111593001, 158340001, 6...   30\n",
       "...                                                            ...  ...\n",
       "941005003                                              [941005003]    1\n",
       "941005005                                   [751664001, 941005005]    2\n",
       "944506001                                   [909924002, 944506001]    2\n",
       "945995002                                              [836367001]    1\n",
       "946748003                                   [946748003, 923134001]    2\n",
       "\n",
       "[17713 rows x 2 columns]"
      ]
     },
     "execution_count": 41,
     "metadata": {},
     "output_type": "execute_result"
    }
   ],
   "source": [
    "group2"
   ]
  },
  {
   "cell_type": "markdown",
   "id": "fa2f1285",
   "metadata": {
    "papermill": {
     "duration": 0.10346,
     "end_time": "2022-03-12T08:06:48.365109",
     "exception": false,
     "start_time": "2022-03-12T08:06:48.261649",
     "status": "completed"
    },
    "tags": []
   },
   "source": [
    "### analyse user behaviour"
   ]
  },
  {
   "cell_type": "code",
   "execution_count": 42,
   "id": "3e7d4eca",
   "metadata": {
    "execution": {
     "iopub.execute_input": "2022-03-12T08:06:48.575128Z",
     "iopub.status.busy": "2022-03-12T08:06:48.573752Z",
     "iopub.status.idle": "2022-03-12T08:06:48.578408Z",
     "shell.execute_reply": "2022-03-12T08:06:48.577766Z",
     "shell.execute_reply.started": "2022-03-12T07:46:49.974864Z"
    },
    "papermill": {
     "duration": 0.110095,
     "end_time": "2022-03-12T08:06:48.578552",
     "exception": false,
     "start_time": "2022-03-12T08:06:48.468457",
     "status": "completed"
    },
    "tags": []
   },
   "outputs": [],
   "source": [
    "# userごとに直近の購入商品をいくつか集める"
   ]
  },
  {
   "cell_type": "code",
   "execution_count": 43,
   "id": "9f5c047e",
   "metadata": {
    "execution": {
     "iopub.execute_input": "2022-03-12T08:06:48.799105Z",
     "iopub.status.busy": "2022-03-12T08:06:48.798278Z",
     "iopub.status.idle": "2022-03-12T08:06:48.801740Z",
     "shell.execute_reply": "2022-03-12T08:06:48.801149Z",
     "shell.execute_reply.started": "2022-03-12T07:46:49.987614Z"
    },
    "papermill": {
     "duration": 0.12001,
     "end_time": "2022-03-12T08:06:48.801889",
     "exception": false,
     "start_time": "2022-03-12T08:06:48.681879",
     "status": "completed"
    },
    "tags": []
   },
   "outputs": [
    {
     "data": {
      "text/html": [
       "<div>\n",
       "<style scoped>\n",
       "    .dataframe tbody tr th:only-of-type {\n",
       "        vertical-align: middle;\n",
       "    }\n",
       "\n",
       "    .dataframe tbody tr th {\n",
       "        vertical-align: top;\n",
       "    }\n",
       "\n",
       "    .dataframe thead th {\n",
       "        text-align: right;\n",
       "    }\n",
       "</style>\n",
       "<table border=\"1\" class=\"dataframe\">\n",
       "  <thead>\n",
       "    <tr style=\"text-align: right;\">\n",
       "      <th></th>\n",
       "      <th>t_dat</th>\n",
       "      <th>customer_id</th>\n",
       "      <th>article_id</th>\n",
       "      <th>price</th>\n",
       "      <th>t_dat_1week</th>\n",
       "      <th>week</th>\n",
       "      <th>week_future</th>\n",
       "    </tr>\n",
       "  </thead>\n",
       "  <tbody>\n",
       "    <tr>\n",
       "      <th>0</th>\n",
       "      <td>2018-09-20</td>\n",
       "      <td>-6846340800584936</td>\n",
       "      <td>663713001</td>\n",
       "      <td>0.050831</td>\n",
       "      <td>2018-09-27</td>\n",
       "      <td>2018-09-17/2018-09-23</td>\n",
       "      <td>2018-09-24/2018-09-30</td>\n",
       "    </tr>\n",
       "    <tr>\n",
       "      <th>1</th>\n",
       "      <td>2018-09-20</td>\n",
       "      <td>-6846340800584936</td>\n",
       "      <td>541518023</td>\n",
       "      <td>0.030492</td>\n",
       "      <td>2018-09-27</td>\n",
       "      <td>2018-09-17/2018-09-23</td>\n",
       "      <td>2018-09-24/2018-09-30</td>\n",
       "    </tr>\n",
       "    <tr>\n",
       "      <th>2</th>\n",
       "      <td>2018-09-20</td>\n",
       "      <td>-8334631767138808638</td>\n",
       "      <td>505221004</td>\n",
       "      <td>0.015237</td>\n",
       "      <td>2018-09-27</td>\n",
       "      <td>2018-09-17/2018-09-23</td>\n",
       "      <td>2018-09-24/2018-09-30</td>\n",
       "    </tr>\n",
       "    <tr>\n",
       "      <th>3</th>\n",
       "      <td>2018-09-20</td>\n",
       "      <td>-8334631767138808638</td>\n",
       "      <td>685687003</td>\n",
       "      <td>0.016932</td>\n",
       "      <td>2018-09-27</td>\n",
       "      <td>2018-09-17/2018-09-23</td>\n",
       "      <td>2018-09-24/2018-09-30</td>\n",
       "    </tr>\n",
       "    <tr>\n",
       "      <th>4</th>\n",
       "      <td>2018-09-20</td>\n",
       "      <td>-8334631767138808638</td>\n",
       "      <td>685687004</td>\n",
       "      <td>0.016932</td>\n",
       "      <td>2018-09-27</td>\n",
       "      <td>2018-09-17/2018-09-23</td>\n",
       "      <td>2018-09-24/2018-09-30</td>\n",
       "    </tr>\n",
       "  </tbody>\n",
       "</table>\n",
       "</div>"
      ],
      "text/plain": [
       "       t_dat          customer_id  article_id     price t_dat_1week  \\\n",
       "0 2018-09-20    -6846340800584936   663713001  0.050831  2018-09-27   \n",
       "1 2018-09-20    -6846340800584936   541518023  0.030492  2018-09-27   \n",
       "2 2018-09-20 -8334631767138808638   505221004  0.015237  2018-09-27   \n",
       "3 2018-09-20 -8334631767138808638   685687003  0.016932  2018-09-27   \n",
       "4 2018-09-20 -8334631767138808638   685687004  0.016932  2018-09-27   \n",
       "\n",
       "                    week            week_future  \n",
       "0  2018-09-17/2018-09-23  2018-09-24/2018-09-30  \n",
       "1  2018-09-17/2018-09-23  2018-09-24/2018-09-30  \n",
       "2  2018-09-17/2018-09-23  2018-09-24/2018-09-30  \n",
       "3  2018-09-17/2018-09-23  2018-09-24/2018-09-30  \n",
       "4  2018-09-17/2018-09-23  2018-09-24/2018-09-30  "
      ]
     },
     "execution_count": 43,
     "metadata": {},
     "output_type": "execute_result"
    }
   ],
   "source": [
    "train_data.head()"
   ]
  },
  {
   "cell_type": "code",
   "execution_count": 44,
   "id": "b4295a42",
   "metadata": {
    "execution": {
     "iopub.execute_input": "2022-03-12T08:06:51.057728Z",
     "iopub.status.busy": "2022-03-12T08:06:49.552855Z",
     "iopub.status.idle": "2022-03-12T08:08:07.285560Z",
     "shell.execute_reply": "2022-03-12T08:08:07.284985Z",
     "shell.execute_reply.started": "2022-03-12T07:46:50.012294Z"
    },
    "papermill": {
     "duration": 78.379496,
     "end_time": "2022-03-12T08:08:07.285725",
     "exception": false,
     "start_time": "2022-03-12T08:06:48.906229",
     "status": "completed"
    },
    "tags": []
   },
   "outputs": [],
   "source": [
    "train_data = train_data.sort_values(['customer_id', 't_dat'],ascending=False)\n",
    "group3 = train_data.groupby('customer_id')['article_id'].apply(list).reset_index(name='seed_list')"
   ]
  },
  {
   "cell_type": "code",
   "execution_count": 45,
   "id": "521dc0cc",
   "metadata": {
    "execution": {
     "iopub.execute_input": "2022-03-12T08:08:07.499037Z",
     "iopub.status.busy": "2022-03-12T08:08:07.498392Z",
     "iopub.status.idle": "2022-03-12T08:08:13.445388Z",
     "shell.execute_reply": "2022-03-12T08:08:13.446100Z",
     "shell.execute_reply.started": "2022-03-12T07:48:09.101881Z"
    },
    "papermill": {
     "duration": 6.055714,
     "end_time": "2022-03-12T08:08:13.446299",
     "exception": false,
     "start_time": "2022-03-12T08:08:07.390585",
     "status": "completed"
    },
    "tags": []
   },
   "outputs": [],
   "source": [
    "group3['seed_list'] = group3['seed_list'].apply(lambda x: x[:3])"
   ]
  },
  {
   "cell_type": "code",
   "execution_count": 46,
   "id": "20bacb55",
   "metadata": {
    "execution": {
     "iopub.execute_input": "2022-03-12T08:08:13.661323Z",
     "iopub.status.busy": "2022-03-12T08:08:13.660641Z",
     "iopub.status.idle": "2022-03-12T08:08:14.206113Z",
     "shell.execute_reply": "2022-03-12T08:08:14.206610Z",
     "shell.execute_reply.started": "2022-03-12T07:48:14.997817Z"
    },
    "papermill": {
     "duration": 0.654592,
     "end_time": "2022-03-12T08:08:14.206802",
     "exception": false,
     "start_time": "2022-03-12T08:08:13.552210",
     "status": "completed"
    },
    "tags": []
   },
   "outputs": [],
   "source": [
    "group3['top_seed'] = group3['seed_list'].apply(lambda x: x[0])\n",
    "#group3['second_seed'] = group3['seed_list'].apply(lambda x: x[1])\n",
    "#group3['third_seed'] = group3['seed_list'].apply(lambda x: x[2])"
   ]
  },
  {
   "cell_type": "code",
   "execution_count": 47,
   "id": "4027d1e3",
   "metadata": {
    "execution": {
     "iopub.execute_input": "2022-03-12T08:08:14.422674Z",
     "iopub.status.busy": "2022-03-12T08:08:14.420714Z",
     "iopub.status.idle": "2022-03-12T08:08:14.435885Z",
     "shell.execute_reply": "2022-03-12T08:08:14.436468Z",
     "shell.execute_reply.started": "2022-03-12T07:48:15.613983Z"
    },
    "papermill": {
     "duration": 0.124788,
     "end_time": "2022-03-12T08:08:14.436636",
     "exception": false,
     "start_time": "2022-03-12T08:08:14.311848",
     "status": "completed"
    },
    "tags": []
   },
   "outputs": [
    {
     "data": {
      "text/html": [
       "<div>\n",
       "<style scoped>\n",
       "    .dataframe tbody tr th:only-of-type {\n",
       "        vertical-align: middle;\n",
       "    }\n",
       "\n",
       "    .dataframe tbody tr th {\n",
       "        vertical-align: top;\n",
       "    }\n",
       "\n",
       "    .dataframe thead th {\n",
       "        text-align: right;\n",
       "    }\n",
       "</style>\n",
       "<table border=\"1\" class=\"dataframe\">\n",
       "  <thead>\n",
       "    <tr style=\"text-align: right;\">\n",
       "      <th></th>\n",
       "      <th>customer_id</th>\n",
       "      <th>seed_list</th>\n",
       "      <th>top_seed</th>\n",
       "    </tr>\n",
       "  </thead>\n",
       "  <tbody>\n",
       "    <tr>\n",
       "      <th>0</th>\n",
       "      <td>-9223352921020755230</td>\n",
       "      <td>[673396002, 812167004, 849493006]</td>\n",
       "      <td>673396002</td>\n",
       "    </tr>\n",
       "    <tr>\n",
       "      <th>1</th>\n",
       "      <td>-9223343869995384291</td>\n",
       "      <td>[910601003, 908292002, 903926002]</td>\n",
       "      <td>910601003</td>\n",
       "    </tr>\n",
       "    <tr>\n",
       "      <th>2</th>\n",
       "      <td>-9223321797620987725</td>\n",
       "      <td>[580600006, 610776035]</td>\n",
       "      <td>580600006</td>\n",
       "    </tr>\n",
       "    <tr>\n",
       "      <th>3</th>\n",
       "      <td>-9223319430705797669</td>\n",
       "      <td>[470985003, 562245001, 646592007]</td>\n",
       "      <td>470985003</td>\n",
       "    </tr>\n",
       "    <tr>\n",
       "      <th>4</th>\n",
       "      <td>-9223308614576639426</td>\n",
       "      <td>[750423005]</td>\n",
       "      <td>750423005</td>\n",
       "    </tr>\n",
       "    <tr>\n",
       "      <th>...</th>\n",
       "      <td>...</td>\n",
       "      <td>...</td>\n",
       "      <td>...</td>\n",
       "    </tr>\n",
       "    <tr>\n",
       "      <th>1362276</th>\n",
       "      <td>9223319300843860958</td>\n",
       "      <td>[821663003, 640735005]</td>\n",
       "      <td>821663003</td>\n",
       "    </tr>\n",
       "    <tr>\n",
       "      <th>1362277</th>\n",
       "      <td>9223333063893176977</td>\n",
       "      <td>[658030020, 452818021, 689365016]</td>\n",
       "      <td>658030020</td>\n",
       "    </tr>\n",
       "    <tr>\n",
       "      <th>1362278</th>\n",
       "      <td>9223345314868180224</td>\n",
       "      <td>[552018006, 549403003, 625672005]</td>\n",
       "      <td>552018006</td>\n",
       "    </tr>\n",
       "    <tr>\n",
       "      <th>1362279</th>\n",
       "      <td>9223357421094039679</td>\n",
       "      <td>[565379022, 565379022, 565379022]</td>\n",
       "      <td>565379022</td>\n",
       "    </tr>\n",
       "    <tr>\n",
       "      <th>1362280</th>\n",
       "      <td>9223370729206611574</td>\n",
       "      <td>[781758003, 679525012]</td>\n",
       "      <td>781758003</td>\n",
       "    </tr>\n",
       "  </tbody>\n",
       "</table>\n",
       "<p>1362281 rows × 3 columns</p>\n",
       "</div>"
      ],
      "text/plain": [
       "                 customer_id                          seed_list   top_seed\n",
       "0       -9223352921020755230  [673396002, 812167004, 849493006]  673396002\n",
       "1       -9223343869995384291  [910601003, 908292002, 903926002]  910601003\n",
       "2       -9223321797620987725             [580600006, 610776035]  580600006\n",
       "3       -9223319430705797669  [470985003, 562245001, 646592007]  470985003\n",
       "4       -9223308614576639426                        [750423005]  750423005\n",
       "...                      ...                                ...        ...\n",
       "1362276  9223319300843860958             [821663003, 640735005]  821663003\n",
       "1362277  9223333063893176977  [658030020, 452818021, 689365016]  658030020\n",
       "1362278  9223345314868180224  [552018006, 549403003, 625672005]  552018006\n",
       "1362279  9223357421094039679  [565379022, 565379022, 565379022]  565379022\n",
       "1362280  9223370729206611574             [781758003, 679525012]  781758003\n",
       "\n",
       "[1362281 rows x 3 columns]"
      ]
     },
     "execution_count": 47,
     "metadata": {},
     "output_type": "execute_result"
    }
   ],
   "source": [
    "group3"
   ]
  },
  {
   "cell_type": "code",
   "execution_count": 48,
   "id": "677b9289",
   "metadata": {
    "execution": {
     "iopub.execute_input": "2022-03-12T08:08:14.653014Z",
     "iopub.status.busy": "2022-03-12T08:08:14.652328Z",
     "iopub.status.idle": "2022-03-12T08:08:17.067851Z",
     "shell.execute_reply": "2022-03-12T08:08:17.066544Z",
     "shell.execute_reply.started": "2022-03-12T07:48:15.636699Z"
    },
    "papermill": {
     "duration": 2.523945,
     "end_time": "2022-03-12T08:08:17.068088",
     "exception": false,
     "start_time": "2022-03-12T08:08:14.544143",
     "status": "completed"
    },
    "tags": []
   },
   "outputs": [],
   "source": [
    "joined_group3 =  pd.merge(group3, group2, left_on='top_seed', right_on='from_article_id', how='left').fillna('')"
   ]
  },
  {
   "cell_type": "code",
   "execution_count": 49,
   "id": "dad724a6",
   "metadata": {
    "execution": {
     "iopub.execute_input": "2022-03-12T08:08:17.322666Z",
     "iopub.status.busy": "2022-03-12T08:08:17.321959Z",
     "iopub.status.idle": "2022-03-12T08:08:17.325350Z",
     "shell.execute_reply": "2022-03-12T08:08:17.324531Z",
     "shell.execute_reply.started": "2022-03-12T07:48:18.014210Z"
    },
    "papermill": {
     "duration": 0.119324,
     "end_time": "2022-03-12T08:08:17.325637",
     "exception": false,
     "start_time": "2022-03-12T08:08:17.206313",
     "status": "completed"
    },
    "tags": []
   },
   "outputs": [],
   "source": [
    "## rec_listがない場合はsecond, thirdでjoinしたい"
   ]
  },
  {
   "cell_type": "code",
   "execution_count": 50,
   "id": "9b491820",
   "metadata": {
    "execution": {
     "iopub.execute_input": "2022-03-12T08:08:17.550550Z",
     "iopub.status.busy": "2022-03-12T08:08:17.549619Z",
     "iopub.status.idle": "2022-03-12T08:08:18.656676Z",
     "shell.execute_reply": "2022-03-12T08:08:18.656025Z",
     "shell.execute_reply.started": "2022-03-12T07:48:18.020662Z"
    },
    "papermill": {
     "duration": 1.221475,
     "end_time": "2022-03-12T08:08:18.656832",
     "exception": false,
     "start_time": "2022-03-12T08:08:17.435357",
     "status": "completed"
    },
    "tags": []
   },
   "outputs": [
    {
     "data": {
      "text/plain": [
       "0"
      ]
     },
     "execution_count": 50,
     "metadata": {},
     "output_type": "execute_result"
    }
   ],
   "source": [
    "# メモリ節約\n",
    "del group2\n",
    "del group3\n",
    "del train_data\n",
    "gc.collect() "
   ]
  },
  {
   "cell_type": "code",
   "execution_count": 51,
   "id": "fbd78335",
   "metadata": {
    "execution": {
     "iopub.execute_input": "2022-03-12T08:08:18.880349Z",
     "iopub.status.busy": "2022-03-12T08:08:18.879640Z",
     "iopub.status.idle": "2022-03-12T08:08:19.396243Z",
     "shell.execute_reply": "2022-03-12T08:08:19.396832Z",
     "shell.execute_reply.started": "2022-03-12T07:48:19.109982Z"
    },
    "papermill": {
     "duration": 0.63029,
     "end_time": "2022-03-12T08:08:19.397033",
     "exception": false,
     "start_time": "2022-03-12T08:08:18.766743",
     "status": "completed"
    },
    "tags": []
   },
   "outputs": [],
   "source": [
    "joined_group3 = joined_group3[['customer_id', 'rec_list', 'len']]"
   ]
  },
  {
   "cell_type": "code",
   "execution_count": 52,
   "id": "13f3b464",
   "metadata": {
    "execution": {
     "iopub.execute_input": "2022-03-12T08:08:19.613192Z",
     "iopub.status.busy": "2022-03-12T08:08:19.612476Z",
     "iopub.status.idle": "2022-03-12T08:08:19.625523Z",
     "shell.execute_reply": "2022-03-12T08:08:19.626060Z",
     "shell.execute_reply.started": "2022-03-12T07:48:19.724049Z"
    },
    "papermill": {
     "duration": 0.122543,
     "end_time": "2022-03-12T08:08:19.626242",
     "exception": false,
     "start_time": "2022-03-12T08:08:19.503699",
     "status": "completed"
    },
    "tags": []
   },
   "outputs": [
    {
     "data": {
      "text/html": [
       "<div>\n",
       "<style scoped>\n",
       "    .dataframe tbody tr th:only-of-type {\n",
       "        vertical-align: middle;\n",
       "    }\n",
       "\n",
       "    .dataframe tbody tr th {\n",
       "        vertical-align: top;\n",
       "    }\n",
       "\n",
       "    .dataframe thead th {\n",
       "        text-align: right;\n",
       "    }\n",
       "</style>\n",
       "<table border=\"1\" class=\"dataframe\">\n",
       "  <thead>\n",
       "    <tr style=\"text-align: right;\">\n",
       "      <th></th>\n",
       "      <th>customer_id</th>\n",
       "      <th>rec_list</th>\n",
       "      <th>len</th>\n",
       "    </tr>\n",
       "  </thead>\n",
       "  <tbody>\n",
       "    <tr>\n",
       "      <th>0</th>\n",
       "      <td>-9223352921020755230</td>\n",
       "      <td>[673396002, 589748001, 706016001, 448509014, 7...</td>\n",
       "      <td>30.0</td>\n",
       "    </tr>\n",
       "    <tr>\n",
       "      <th>1</th>\n",
       "      <td>-9223343869995384291</td>\n",
       "      <td>[910601003, 910601002, 910601001, 751471001, 8...</td>\n",
       "      <td>8.0</td>\n",
       "    </tr>\n",
       "    <tr>\n",
       "      <th>2</th>\n",
       "      <td>-9223321797620987725</td>\n",
       "      <td></td>\n",
       "      <td></td>\n",
       "    </tr>\n",
       "    <tr>\n",
       "      <th>3</th>\n",
       "      <td>-9223319430705797669</td>\n",
       "      <td>[470985003, 875469002, 803757012, 817353007, 6...</td>\n",
       "      <td>5.0</td>\n",
       "    </tr>\n",
       "    <tr>\n",
       "      <th>4</th>\n",
       "      <td>-9223308614576639426</td>\n",
       "      <td>[750423005, 787880003, 777504001]</td>\n",
       "      <td>3.0</td>\n",
       "    </tr>\n",
       "    <tr>\n",
       "      <th>...</th>\n",
       "      <td>...</td>\n",
       "      <td>...</td>\n",
       "      <td>...</td>\n",
       "    </tr>\n",
       "    <tr>\n",
       "      <th>1362276</th>\n",
       "      <td>9223319300843860958</td>\n",
       "      <td>[821663003, 821663005, 179208001]</td>\n",
       "      <td>3.0</td>\n",
       "    </tr>\n",
       "    <tr>\n",
       "      <th>1362277</th>\n",
       "      <td>9223333063893176977</td>\n",
       "      <td>[658030020, 556260002, 658030011, 658030006, 6...</td>\n",
       "      <td>20.0</td>\n",
       "    </tr>\n",
       "    <tr>\n",
       "      <th>1362278</th>\n",
       "      <td>9223345314868180224</td>\n",
       "      <td></td>\n",
       "      <td></td>\n",
       "    </tr>\n",
       "    <tr>\n",
       "      <th>1362279</th>\n",
       "      <td>9223357421094039679</td>\n",
       "      <td>[565379022, 565379002, 565379023, 565379032, 3...</td>\n",
       "      <td>12.0</td>\n",
       "    </tr>\n",
       "    <tr>\n",
       "      <th>1362280</th>\n",
       "      <td>9223370729206611574</td>\n",
       "      <td>[781758003, 790519001, 607224013, 673677002, 8...</td>\n",
       "      <td>9.0</td>\n",
       "    </tr>\n",
       "  </tbody>\n",
       "</table>\n",
       "<p>1362281 rows × 3 columns</p>\n",
       "</div>"
      ],
      "text/plain": [
       "                 customer_id  \\\n",
       "0       -9223352921020755230   \n",
       "1       -9223343869995384291   \n",
       "2       -9223321797620987725   \n",
       "3       -9223319430705797669   \n",
       "4       -9223308614576639426   \n",
       "...                      ...   \n",
       "1362276  9223319300843860958   \n",
       "1362277  9223333063893176977   \n",
       "1362278  9223345314868180224   \n",
       "1362279  9223357421094039679   \n",
       "1362280  9223370729206611574   \n",
       "\n",
       "                                                  rec_list   len  \n",
       "0        [673396002, 589748001, 706016001, 448509014, 7...  30.0  \n",
       "1        [910601003, 910601002, 910601001, 751471001, 8...   8.0  \n",
       "2                                                                 \n",
       "3        [470985003, 875469002, 803757012, 817353007, 6...   5.0  \n",
       "4                        [750423005, 787880003, 777504001]   3.0  \n",
       "...                                                    ...   ...  \n",
       "1362276                  [821663003, 821663005, 179208001]   3.0  \n",
       "1362277  [658030020, 556260002, 658030011, 658030006, 6...  20.0  \n",
       "1362278                                                           \n",
       "1362279  [565379022, 565379002, 565379023, 565379032, 3...  12.0  \n",
       "1362280  [781758003, 790519001, 607224013, 673677002, 8...   9.0  \n",
       "\n",
       "[1362281 rows x 3 columns]"
      ]
     },
     "execution_count": 52,
     "metadata": {},
     "output_type": "execute_result"
    }
   ],
   "source": [
    "joined_group3"
   ]
  },
  {
   "cell_type": "markdown",
   "id": "5f606169",
   "metadata": {
    "papermill": {
     "duration": 0.107357,
     "end_time": "2022-03-12T08:08:19.843647",
     "exception": false,
     "start_time": "2022-03-12T08:08:19.736290",
     "status": "completed"
    },
    "tags": []
   },
   "source": [
    "### ランキング csvの読み込み"
   ]
  },
  {
   "cell_type": "code",
   "execution_count": 53,
   "id": "13cd3e1e",
   "metadata": {
    "execution": {
     "iopub.execute_input": "2022-03-12T08:08:20.063516Z",
     "iopub.status.busy": "2022-03-12T08:08:20.062744Z",
     "iopub.status.idle": "2022-03-12T08:08:33.043162Z",
     "shell.execute_reply": "2022-03-12T08:08:33.042540Z",
     "shell.execute_reply.started": "2022-03-12T07:48:19.741536Z"
    },
    "papermill": {
     "duration": 13.092281,
     "end_time": "2022-03-12T08:08:33.043335",
     "exception": false,
     "start_time": "2022-03-12T08:08:19.951054",
     "status": "completed"
    },
    "tags": []
   },
   "outputs": [],
   "source": [
    "# 事前に出力しておいたrankingデータの読み込み\n",
    "simple_ranking = pd.read_csv(f'./simple_ranking_{val_start_date}_{Nval}.csv')"
   ]
  },
  {
   "cell_type": "code",
   "execution_count": 54,
   "id": "6c57c941",
   "metadata": {
    "execution": {
     "iopub.execute_input": "2022-03-12T08:08:33.265327Z",
     "iopub.status.busy": "2022-03-12T08:08:33.264624Z",
     "iopub.status.idle": "2022-03-12T08:08:33.309528Z",
     "shell.execute_reply": "2022-03-12T08:08:33.308945Z",
     "shell.execute_reply.started": "2022-03-12T07:48:30.247107Z"
    },
    "papermill": {
     "duration": 0.157782,
     "end_time": "2022-03-12T08:08:33.309675",
     "exception": false,
     "start_time": "2022-03-12T08:08:33.151893",
     "status": "completed"
    },
    "tags": []
   },
   "outputs": [],
   "source": [
    "simple_ranking = simple_ranking.rename(columns={'prediction':'ranking'})"
   ]
  },
  {
   "cell_type": "code",
   "execution_count": 55,
   "id": "f49cccbe",
   "metadata": {
    "execution": {
     "iopub.execute_input": "2022-03-12T08:08:33.530883Z",
     "iopub.status.busy": "2022-03-12T08:08:33.529799Z",
     "iopub.status.idle": "2022-03-12T08:08:34.229544Z",
     "shell.execute_reply": "2022-03-12T08:08:34.228951Z",
     "shell.execute_reply.started": "2022-03-12T07:48:30.296332Z"
    },
    "papermill": {
     "duration": 0.811245,
     "end_time": "2022-03-12T08:08:34.229694",
     "exception": false,
     "start_time": "2022-03-12T08:08:33.418449",
     "status": "completed"
    },
    "tags": []
   },
   "outputs": [
    {
     "data": {
      "text/plain": [
       "count    1371980.0\n",
       "mean         499.0\n",
       "std            0.0\n",
       "min          499.0\n",
       "25%          499.0\n",
       "50%          499.0\n",
       "75%          499.0\n",
       "max          499.0\n",
       "Name: ranking, dtype: float64"
      ]
     },
     "execution_count": 55,
     "metadata": {},
     "output_type": "execute_result"
    }
   ],
   "source": [
    "simple_ranking['ranking'].apply(len).describe()"
   ]
  },
  {
   "cell_type": "code",
   "execution_count": 56,
   "id": "450c756a",
   "metadata": {
    "execution": {
     "iopub.execute_input": "2022-03-12T08:08:34.447502Z",
     "iopub.status.busy": "2022-03-12T08:08:34.446811Z",
     "iopub.status.idle": "2022-03-12T08:08:34.449808Z",
     "shell.execute_reply": "2022-03-12T08:08:34.450356Z",
     "shell.execute_reply.started": "2022-03-12T07:48:31.005107Z"
    },
    "papermill": {
     "duration": 0.113778,
     "end_time": "2022-03-12T08:08:34.450527",
     "exception": false,
     "start_time": "2022-03-12T08:08:34.336749",
     "status": "completed"
    },
    "tags": []
   },
   "outputs": [],
   "source": [
    "#simple_ranking['ranking'] = simple_ranking['ranking'].apply(lambda x: x[:N])"
   ]
  },
  {
   "cell_type": "code",
   "execution_count": 57,
   "id": "b876e387",
   "metadata": {
    "execution": {
     "iopub.execute_input": "2022-03-12T08:08:34.668202Z",
     "iopub.status.busy": "2022-03-12T08:08:34.667566Z",
     "iopub.status.idle": "2022-03-12T08:08:45.367279Z",
     "shell.execute_reply": "2022-03-12T08:08:45.366724Z",
     "shell.execute_reply.started": "2022-03-12T07:48:31.010835Z"
    },
    "papermill": {
     "duration": 10.80964,
     "end_time": "2022-03-12T08:08:45.367431",
     "exception": false,
     "start_time": "2022-03-12T08:08:34.557791",
     "status": "completed"
    },
    "tags": []
   },
   "outputs": [
    {
     "data": {
      "text/html": [
       "<div>\n",
       "<style scoped>\n",
       "    .dataframe tbody tr th:only-of-type {\n",
       "        vertical-align: middle;\n",
       "    }\n",
       "\n",
       "    .dataframe tbody tr th {\n",
       "        vertical-align: top;\n",
       "    }\n",
       "\n",
       "    .dataframe thead th {\n",
       "        text-align: right;\n",
       "    }\n",
       "</style>\n",
       "<table border=\"1\" class=\"dataframe\">\n",
       "  <thead>\n",
       "    <tr style=\"text-align: right;\">\n",
       "      <th></th>\n",
       "      <th>customer_id</th>\n",
       "      <th>ranking</th>\n",
       "    </tr>\n",
       "  </thead>\n",
       "  <tbody>\n",
       "    <tr>\n",
       "      <th>0</th>\n",
       "      <td>-7200416642310594310</td>\n",
       "      <td>[924243001, 918522001, 866731001, 448509014, 9...</td>\n",
       "    </tr>\n",
       "    <tr>\n",
       "      <th>1</th>\n",
       "      <td>-6846340800584936</td>\n",
       "      <td>[924243001, 918522001, 866731001, 448509014, 9...</td>\n",
       "    </tr>\n",
       "    <tr>\n",
       "      <th>2</th>\n",
       "      <td>-2477030216582433370</td>\n",
       "      <td>[924243001, 918522001, 866731001, 448509014, 9...</td>\n",
       "    </tr>\n",
       "    <tr>\n",
       "      <th>3</th>\n",
       "      <td>-3402710142238164438</td>\n",
       "      <td>[924243001, 918522001, 866731001, 448509014, 9...</td>\n",
       "    </tr>\n",
       "    <tr>\n",
       "      <th>4</th>\n",
       "      <td>5669685583838440396</td>\n",
       "      <td>[924243001, 918522001, 866731001, 448509014, 9...</td>\n",
       "    </tr>\n",
       "    <tr>\n",
       "      <th>...</th>\n",
       "      <td>...</td>\n",
       "      <td>...</td>\n",
       "    </tr>\n",
       "    <tr>\n",
       "      <th>1371975</th>\n",
       "      <td>8959640756044895752</td>\n",
       "      <td>[924243001, 930380001, 924243002, 928206001, 9...</td>\n",
       "    </tr>\n",
       "    <tr>\n",
       "      <th>1371976</th>\n",
       "      <td>8536186189414498976</td>\n",
       "      <td>[924243001, 930380001, 924243002, 928206001, 9...</td>\n",
       "    </tr>\n",
       "    <tr>\n",
       "      <th>1371977</th>\n",
       "      <td>-1244504865876165278</td>\n",
       "      <td>[924243001, 930380001, 924243002, 928206001, 9...</td>\n",
       "    </tr>\n",
       "    <tr>\n",
       "      <th>1371978</th>\n",
       "      <td>5823894334162843119</td>\n",
       "      <td>[924243001, 930380001, 924243002, 928206001, 9...</td>\n",
       "    </tr>\n",
       "    <tr>\n",
       "      <th>1371979</th>\n",
       "      <td>-1516792180973952447</td>\n",
       "      <td>[924243001, 930380001, 924243002, 928206001, 9...</td>\n",
       "    </tr>\n",
       "  </tbody>\n",
       "</table>\n",
       "<p>1371980 rows × 2 columns</p>\n",
       "</div>"
      ],
      "text/plain": [
       "                 customer_id  \\\n",
       "0       -7200416642310594310   \n",
       "1          -6846340800584936   \n",
       "2       -2477030216582433370   \n",
       "3       -3402710142238164438   \n",
       "4        5669685583838440396   \n",
       "...                      ...   \n",
       "1371975  8959640756044895752   \n",
       "1371976  8536186189414498976   \n",
       "1371977 -1244504865876165278   \n",
       "1371978  5823894334162843119   \n",
       "1371979 -1516792180973952447   \n",
       "\n",
       "                                                   ranking  \n",
       "0        [924243001, 918522001, 866731001, 448509014, 9...  \n",
       "1        [924243001, 918522001, 866731001, 448509014, 9...  \n",
       "2        [924243001, 918522001, 866731001, 448509014, 9...  \n",
       "3        [924243001, 918522001, 866731001, 448509014, 9...  \n",
       "4        [924243001, 918522001, 866731001, 448509014, 9...  \n",
       "...                                                    ...  \n",
       "1371975  [924243001, 930380001, 924243002, 928206001, 9...  \n",
       "1371976  [924243001, 930380001, 924243002, 928206001, 9...  \n",
       "1371977  [924243001, 930380001, 924243002, 928206001, 9...  \n",
       "1371978  [924243001, 930380001, 924243002, 928206001, 9...  \n",
       "1371979  [924243001, 930380001, 924243002, 928206001, 9...  \n",
       "\n",
       "[1371980 rows x 2 columns]"
      ]
     },
     "execution_count": 57,
     "metadata": {},
     "output_type": "execute_result"
    }
   ],
   "source": [
    "simple_ranking['ranking'] = simple_ranking['ranking'].str.split(' ')\n",
    "simple_ranking"
   ]
  },
  {
   "cell_type": "code",
   "execution_count": 58,
   "id": "5615bd65",
   "metadata": {
    "execution": {
     "iopub.execute_input": "2022-03-12T08:08:45.587770Z",
     "iopub.status.busy": "2022-03-12T08:08:45.587110Z",
     "iopub.status.idle": "2022-03-12T08:08:55.035319Z",
     "shell.execute_reply": "2022-03-12T08:08:55.034732Z",
     "shell.execute_reply.started": "2022-03-12T07:48:41.954422Z"
    },
    "papermill": {
     "duration": 9.560497,
     "end_time": "2022-03-12T08:08:55.035472",
     "exception": false,
     "start_time": "2022-03-12T08:08:45.474975",
     "status": "completed"
    },
    "tags": []
   },
   "outputs": [
    {
     "data": {
      "text/plain": [
       "count    1371980.0\n",
       "mean          50.0\n",
       "std            0.0\n",
       "min           50.0\n",
       "25%           50.0\n",
       "50%           50.0\n",
       "75%           50.0\n",
       "max           50.0\n",
       "Name: ranking, dtype: float64"
      ]
     },
     "execution_count": 58,
     "metadata": {},
     "output_type": "execute_result"
    }
   ],
   "source": [
    "simple_ranking['ranking'] = simple_ranking['ranking'].apply(lambda x: x[:Nval])\n",
    "simple_ranking['ranking'].apply(len).describe()"
   ]
  },
  {
   "cell_type": "markdown",
   "id": "dd56277b",
   "metadata": {
    "papermill": {
     "duration": 0.111402,
     "end_time": "2022-03-12T08:08:55.255694",
     "exception": false,
     "start_time": "2022-03-12T08:08:55.144292",
     "status": "completed"
    },
    "tags": []
   },
   "source": [
    "### join ranking"
   ]
  },
  {
   "cell_type": "code",
   "execution_count": 59,
   "id": "58417240",
   "metadata": {
    "execution": {
     "iopub.execute_input": "2022-03-12T08:08:55.478841Z",
     "iopub.status.busy": "2022-03-12T08:08:55.478128Z",
     "iopub.status.idle": "2022-03-12T08:08:55.537920Z",
     "shell.execute_reply": "2022-03-12T08:08:55.538389Z",
     "shell.execute_reply.started": "2022-03-12T07:48:51.731950Z"
    },
    "papermill": {
     "duration": 0.173769,
     "end_time": "2022-03-12T08:08:55.538560",
     "exception": false,
     "start_time": "2022-03-12T08:08:55.364791",
     "status": "completed"
    },
    "tags": []
   },
   "outputs": [
    {
     "data": {
      "text/html": [
       "<div>\n",
       "<style scoped>\n",
       "    .dataframe tbody tr th:only-of-type {\n",
       "        vertical-align: middle;\n",
       "    }\n",
       "\n",
       "    .dataframe tbody tr th {\n",
       "        vertical-align: top;\n",
       "    }\n",
       "\n",
       "    .dataframe thead th {\n",
       "        text-align: right;\n",
       "    }\n",
       "</style>\n",
       "<table border=\"1\" class=\"dataframe\">\n",
       "  <thead>\n",
       "    <tr style=\"text-align: right;\">\n",
       "      <th></th>\n",
       "      <th>customer_id</th>\n",
       "      <th>rec_list</th>\n",
       "    </tr>\n",
       "  </thead>\n",
       "  <tbody>\n",
       "    <tr>\n",
       "      <th>0</th>\n",
       "      <td>-9223352921020755230</td>\n",
       "      <td>[673396002, 589748001, 706016001, 448509014, 7...</td>\n",
       "    </tr>\n",
       "    <tr>\n",
       "      <th>1</th>\n",
       "      <td>-9223343869995384291</td>\n",
       "      <td>[910601003, 910601002, 910601001, 751471001, 8...</td>\n",
       "    </tr>\n",
       "    <tr>\n",
       "      <th>2</th>\n",
       "      <td>-9223321797620987725</td>\n",
       "      <td></td>\n",
       "    </tr>\n",
       "    <tr>\n",
       "      <th>3</th>\n",
       "      <td>-9223319430705797669</td>\n",
       "      <td>[470985003, 875469002, 803757012, 817353007, 6...</td>\n",
       "    </tr>\n",
       "    <tr>\n",
       "      <th>4</th>\n",
       "      <td>-9223308614576639426</td>\n",
       "      <td>[750423005, 787880003, 777504001]</td>\n",
       "    </tr>\n",
       "    <tr>\n",
       "      <th>...</th>\n",
       "      <td>...</td>\n",
       "      <td>...</td>\n",
       "    </tr>\n",
       "    <tr>\n",
       "      <th>1362276</th>\n",
       "      <td>9223319300843860958</td>\n",
       "      <td>[821663003, 821663005, 179208001]</td>\n",
       "    </tr>\n",
       "    <tr>\n",
       "      <th>1362277</th>\n",
       "      <td>9223333063893176977</td>\n",
       "      <td>[658030020, 556260002, 658030011, 658030006, 6...</td>\n",
       "    </tr>\n",
       "    <tr>\n",
       "      <th>1362278</th>\n",
       "      <td>9223345314868180224</td>\n",
       "      <td></td>\n",
       "    </tr>\n",
       "    <tr>\n",
       "      <th>1362279</th>\n",
       "      <td>9223357421094039679</td>\n",
       "      <td>[565379022, 565379002, 565379023, 565379032, 3...</td>\n",
       "    </tr>\n",
       "    <tr>\n",
       "      <th>1362280</th>\n",
       "      <td>9223370729206611574</td>\n",
       "      <td>[781758003, 790519001, 607224013, 673677002, 8...</td>\n",
       "    </tr>\n",
       "  </tbody>\n",
       "</table>\n",
       "<p>1362281 rows × 2 columns</p>\n",
       "</div>"
      ],
      "text/plain": [
       "                 customer_id  \\\n",
       "0       -9223352921020755230   \n",
       "1       -9223343869995384291   \n",
       "2       -9223321797620987725   \n",
       "3       -9223319430705797669   \n",
       "4       -9223308614576639426   \n",
       "...                      ...   \n",
       "1362276  9223319300843860958   \n",
       "1362277  9223333063893176977   \n",
       "1362278  9223345314868180224   \n",
       "1362279  9223357421094039679   \n",
       "1362280  9223370729206611574   \n",
       "\n",
       "                                                  rec_list  \n",
       "0        [673396002, 589748001, 706016001, 448509014, 7...  \n",
       "1        [910601003, 910601002, 910601001, 751471001, 8...  \n",
       "2                                                           \n",
       "3        [470985003, 875469002, 803757012, 817353007, 6...  \n",
       "4                        [750423005, 787880003, 777504001]  \n",
       "...                                                    ...  \n",
       "1362276                  [821663003, 821663005, 179208001]  \n",
       "1362277  [658030020, 556260002, 658030011, 658030006, 6...  \n",
       "1362278                                                     \n",
       "1362279  [565379022, 565379002, 565379023, 565379032, 3...  \n",
       "1362280  [781758003, 790519001, 607224013, 673677002, 8...  \n",
       "\n",
       "[1362281 rows x 2 columns]"
      ]
     },
     "execution_count": 59,
     "metadata": {},
     "output_type": "execute_result"
    }
   ],
   "source": [
    "joined_group3 = joined_group3[['customer_id','rec_list']]\n",
    "joined_group3"
   ]
  },
  {
   "cell_type": "code",
   "execution_count": 60,
   "id": "c012f4b0",
   "metadata": {
    "execution": {
     "iopub.execute_input": "2022-03-12T08:08:55.759598Z",
     "iopub.status.busy": "2022-03-12T08:08:55.758922Z",
     "iopub.status.idle": "2022-03-12T08:08:58.292666Z",
     "shell.execute_reply": "2022-03-12T08:08:58.292118Z",
     "shell.execute_reply.started": "2022-03-12T07:48:51.796361Z"
    },
    "papermill": {
     "duration": 2.646763,
     "end_time": "2022-03-12T08:08:58.292822",
     "exception": false,
     "start_time": "2022-03-12T08:08:55.646059",
     "status": "completed"
    },
    "tags": []
   },
   "outputs": [],
   "source": [
    "joined_group3 = pd.merge(simple_ranking, joined_group3, on='customer_id', how='left').fillna('')"
   ]
  },
  {
   "cell_type": "code",
   "execution_count": 61,
   "id": "eb0364a4",
   "metadata": {
    "execution": {
     "iopub.execute_input": "2022-03-12T08:08:58.512667Z",
     "iopub.status.busy": "2022-03-12T08:08:58.511992Z",
     "iopub.status.idle": "2022-03-12T08:09:00.417586Z",
     "shell.execute_reply": "2022-03-12T08:09:00.417019Z",
     "shell.execute_reply.started": "2022-03-12T07:48:54.333298Z"
    },
    "papermill": {
     "duration": 2.01617,
     "end_time": "2022-03-12T08:09:00.417728",
     "exception": false,
     "start_time": "2022-03-12T08:08:58.401558",
     "status": "completed"
    },
    "tags": []
   },
   "outputs": [
    {
     "data": {
      "text/html": [
       "<div>\n",
       "<style scoped>\n",
       "    .dataframe tbody tr th:only-of-type {\n",
       "        vertical-align: middle;\n",
       "    }\n",
       "\n",
       "    .dataframe tbody tr th {\n",
       "        vertical-align: top;\n",
       "    }\n",
       "\n",
       "    .dataframe thead th {\n",
       "        text-align: right;\n",
       "    }\n",
       "</style>\n",
       "<table border=\"1\" class=\"dataframe\">\n",
       "  <thead>\n",
       "    <tr style=\"text-align: right;\">\n",
       "      <th></th>\n",
       "      <th>customer_id</th>\n",
       "      <th>ranking</th>\n",
       "      <th>rec_list</th>\n",
       "    </tr>\n",
       "  </thead>\n",
       "  <tbody>\n",
       "    <tr>\n",
       "      <th>0</th>\n",
       "      <td>-7200416642310594310</td>\n",
       "      <td>[924243001, 918522001, 866731001, 448509014, 9...</td>\n",
       "      <td></td>\n",
       "    </tr>\n",
       "    <tr>\n",
       "      <th>1</th>\n",
       "      <td>-6846340800584936</td>\n",
       "      <td>[924243001, 918522001, 866731001, 448509014, 9...</td>\n",
       "      <td>[805000001, 794321007]</td>\n",
       "    </tr>\n",
       "    <tr>\n",
       "      <th>2</th>\n",
       "      <td>-2477030216582433370</td>\n",
       "      <td>[924243001, 918522001, 866731001, 448509014, 9...</td>\n",
       "      <td>[738133005, 738133007, 738133006, 158340001]</td>\n",
       "    </tr>\n",
       "    <tr>\n",
       "      <th>3</th>\n",
       "      <td>-3402710142238164438</td>\n",
       "      <td>[924243001, 918522001, 866731001, 448509014, 9...</td>\n",
       "      <td>[719530003, 719530004, 706016001, 719530007, 5...</td>\n",
       "    </tr>\n",
       "    <tr>\n",
       "      <th>4</th>\n",
       "      <td>5669685583838440396</td>\n",
       "      <td>[924243001, 918522001, 866731001, 448509014, 9...</td>\n",
       "      <td></td>\n",
       "    </tr>\n",
       "    <tr>\n",
       "      <th>...</th>\n",
       "      <td>...</td>\n",
       "      <td>...</td>\n",
       "      <td>...</td>\n",
       "    </tr>\n",
       "    <tr>\n",
       "      <th>1371975</th>\n",
       "      <td>8959640756044895752</td>\n",
       "      <td>[924243001, 930380001, 924243002, 928206001, 9...</td>\n",
       "      <td>[160442010, 160442007, 160442043, 355072001, 3...</td>\n",
       "    </tr>\n",
       "    <tr>\n",
       "      <th>1371976</th>\n",
       "      <td>8536186189414498976</td>\n",
       "      <td>[924243001, 930380001, 924243002, 928206001, 9...</td>\n",
       "      <td></td>\n",
       "    </tr>\n",
       "    <tr>\n",
       "      <th>1371977</th>\n",
       "      <td>-1244504865876165278</td>\n",
       "      <td>[924243001, 930380001, 924243002, 928206001, 9...</td>\n",
       "      <td></td>\n",
       "    </tr>\n",
       "    <tr>\n",
       "      <th>1371978</th>\n",
       "      <td>5823894334162843119</td>\n",
       "      <td>[924243001, 930380001, 924243002, 928206001, 9...</td>\n",
       "      <td></td>\n",
       "    </tr>\n",
       "    <tr>\n",
       "      <th>1371979</th>\n",
       "      <td>-1516792180973952447</td>\n",
       "      <td>[924243001, 930380001, 924243002, 928206001, 9...</td>\n",
       "      <td>[758470001]</td>\n",
       "    </tr>\n",
       "  </tbody>\n",
       "</table>\n",
       "<p>1371980 rows × 3 columns</p>\n",
       "</div>"
      ],
      "text/plain": [
       "                 customer_id  \\\n",
       "0       -7200416642310594310   \n",
       "1          -6846340800584936   \n",
       "2       -2477030216582433370   \n",
       "3       -3402710142238164438   \n",
       "4        5669685583838440396   \n",
       "...                      ...   \n",
       "1371975  8959640756044895752   \n",
       "1371976  8536186189414498976   \n",
       "1371977 -1244504865876165278   \n",
       "1371978  5823894334162843119   \n",
       "1371979 -1516792180973952447   \n",
       "\n",
       "                                                   ranking  \\\n",
       "0        [924243001, 918522001, 866731001, 448509014, 9...   \n",
       "1        [924243001, 918522001, 866731001, 448509014, 9...   \n",
       "2        [924243001, 918522001, 866731001, 448509014, 9...   \n",
       "3        [924243001, 918522001, 866731001, 448509014, 9...   \n",
       "4        [924243001, 918522001, 866731001, 448509014, 9...   \n",
       "...                                                    ...   \n",
       "1371975  [924243001, 930380001, 924243002, 928206001, 9...   \n",
       "1371976  [924243001, 930380001, 924243002, 928206001, 9...   \n",
       "1371977  [924243001, 930380001, 924243002, 928206001, 9...   \n",
       "1371978  [924243001, 930380001, 924243002, 928206001, 9...   \n",
       "1371979  [924243001, 930380001, 924243002, 928206001, 9...   \n",
       "\n",
       "                                                  rec_list  \n",
       "0                                                           \n",
       "1                                   [805000001, 794321007]  \n",
       "2             [738133005, 738133007, 738133006, 158340001]  \n",
       "3        [719530003, 719530004, 706016001, 719530007, 5...  \n",
       "4                                                           \n",
       "...                                                    ...  \n",
       "1371975  [160442010, 160442007, 160442043, 355072001, 3...  \n",
       "1371976                                                     \n",
       "1371977                                                     \n",
       "1371978                                                     \n",
       "1371979                                        [758470001]  \n",
       "\n",
       "[1371980 rows x 3 columns]"
      ]
     },
     "execution_count": 61,
     "metadata": {},
     "output_type": "execute_result"
    }
   ],
   "source": [
    "del simple_ranking; gc.collect()\n",
    "joined_group3"
   ]
  },
  {
   "cell_type": "code",
   "execution_count": 62,
   "id": "0f998d3d",
   "metadata": {
    "execution": {
     "iopub.execute_input": "2022-03-12T08:09:00.641590Z",
     "iopub.status.busy": "2022-03-12T08:09:00.640888Z",
     "iopub.status.idle": "2022-03-12T08:18:07.644316Z",
     "shell.execute_reply": "2022-03-12T08:18:07.643606Z",
     "shell.execute_reply.started": "2022-03-12T07:48:56.077835Z"
    },
    "papermill": {
     "duration": 547.11775,
     "end_time": "2022-03-12T08:18:07.644482",
     "exception": false,
     "start_time": "2022-03-12T08:09:00.526732",
     "status": "completed"
    },
    "tags": []
   },
   "outputs": [],
   "source": [
    "# 重複排除, このやり方だと時間かかる\n",
    "joined_group3['ranking'] = joined_group3['ranking'].map(lambda x: [i for i in x if i not in joined_group3['rec_list']] )"
   ]
  },
  {
   "cell_type": "code",
   "execution_count": 63,
   "id": "b8ea317a",
   "metadata": {
    "execution": {
     "iopub.execute_input": "2022-03-12T08:18:07.871588Z",
     "iopub.status.busy": "2022-03-12T08:18:07.870856Z",
     "iopub.status.idle": "2022-03-12T08:18:46.179084Z",
     "shell.execute_reply": "2022-03-12T08:18:46.179617Z",
     "shell.execute_reply.started": "2022-03-12T07:58:24.365121Z"
    },
    "papermill": {
     "duration": 38.424821,
     "end_time": "2022-03-12T08:18:46.179794",
     "exception": false,
     "start_time": "2022-03-12T08:18:07.754973",
     "status": "completed"
    },
    "tags": []
   },
   "outputs": [
    {
     "data": {
      "text/html": [
       "<div>\n",
       "<style scoped>\n",
       "    .dataframe tbody tr th:only-of-type {\n",
       "        vertical-align: middle;\n",
       "    }\n",
       "\n",
       "    .dataframe tbody tr th {\n",
       "        vertical-align: top;\n",
       "    }\n",
       "\n",
       "    .dataframe thead th {\n",
       "        text-align: right;\n",
       "    }\n",
       "</style>\n",
       "<table border=\"1\" class=\"dataframe\">\n",
       "  <thead>\n",
       "    <tr style=\"text-align: right;\">\n",
       "      <th></th>\n",
       "      <th>customer_id</th>\n",
       "      <th>rec_list</th>\n",
       "    </tr>\n",
       "  </thead>\n",
       "  <tbody>\n",
       "    <tr>\n",
       "      <th>0</th>\n",
       "      <td>-7200416642310594310</td>\n",
       "      <td>[924243001, 918522001, 866731001, 448509014, 9...</td>\n",
       "    </tr>\n",
       "    <tr>\n",
       "      <th>1</th>\n",
       "      <td>-6846340800584936</td>\n",
       "      <td>[805000001, 794321007, 924243001, 918522001, 8...</td>\n",
       "    </tr>\n",
       "    <tr>\n",
       "      <th>2</th>\n",
       "      <td>-2477030216582433370</td>\n",
       "      <td>[738133005, 738133007, 738133006, 158340001, 9...</td>\n",
       "    </tr>\n",
       "    <tr>\n",
       "      <th>3</th>\n",
       "      <td>-3402710142238164438</td>\n",
       "      <td>[719530003, 719530004, 706016001, 719530007, 5...</td>\n",
       "    </tr>\n",
       "    <tr>\n",
       "      <th>4</th>\n",
       "      <td>5669685583838440396</td>\n",
       "      <td>[924243001, 918522001, 866731001, 448509014, 9...</td>\n",
       "    </tr>\n",
       "    <tr>\n",
       "      <th>...</th>\n",
       "      <td>...</td>\n",
       "      <td>...</td>\n",
       "    </tr>\n",
       "    <tr>\n",
       "      <th>1371975</th>\n",
       "      <td>8959640756044895752</td>\n",
       "      <td>[160442010, 160442007, 160442043, 355072001, 3...</td>\n",
       "    </tr>\n",
       "    <tr>\n",
       "      <th>1371976</th>\n",
       "      <td>8536186189414498976</td>\n",
       "      <td>[924243001, 930380001, 924243002, 928206001, 9...</td>\n",
       "    </tr>\n",
       "    <tr>\n",
       "      <th>1371977</th>\n",
       "      <td>-1244504865876165278</td>\n",
       "      <td>[924243001, 930380001, 924243002, 928206001, 9...</td>\n",
       "    </tr>\n",
       "    <tr>\n",
       "      <th>1371978</th>\n",
       "      <td>5823894334162843119</td>\n",
       "      <td>[924243001, 930380001, 924243002, 928206001, 9...</td>\n",
       "    </tr>\n",
       "    <tr>\n",
       "      <th>1371979</th>\n",
       "      <td>-1516792180973952447</td>\n",
       "      <td>[758470001, 924243001, 930380001, 924243002, 9...</td>\n",
       "    </tr>\n",
       "  </tbody>\n",
       "</table>\n",
       "<p>1371980 rows × 2 columns</p>\n",
       "</div>"
      ],
      "text/plain": [
       "                 customer_id  \\\n",
       "0       -7200416642310594310   \n",
       "1          -6846340800584936   \n",
       "2       -2477030216582433370   \n",
       "3       -3402710142238164438   \n",
       "4        5669685583838440396   \n",
       "...                      ...   \n",
       "1371975  8959640756044895752   \n",
       "1371976  8536186189414498976   \n",
       "1371977 -1244504865876165278   \n",
       "1371978  5823894334162843119   \n",
       "1371979 -1516792180973952447   \n",
       "\n",
       "                                                  rec_list  \n",
       "0        [924243001, 918522001, 866731001, 448509014, 9...  \n",
       "1        [805000001, 794321007, 924243001, 918522001, 8...  \n",
       "2        [738133005, 738133007, 738133006, 158340001, 9...  \n",
       "3        [719530003, 719530004, 706016001, 719530007, 5...  \n",
       "4        [924243001, 918522001, 866731001, 448509014, 9...  \n",
       "...                                                    ...  \n",
       "1371975  [160442010, 160442007, 160442043, 355072001, 3...  \n",
       "1371976  [924243001, 930380001, 924243002, 928206001, 9...  \n",
       "1371977  [924243001, 930380001, 924243002, 928206001, 9...  \n",
       "1371978  [924243001, 930380001, 924243002, 928206001, 9...  \n",
       "1371979  [758470001, 924243001, 930380001, 924243002, 9...  \n",
       "\n",
       "[1371980 rows x 2 columns]"
      ]
     },
     "execution_count": 63,
     "metadata": {},
     "output_type": "execute_result"
    }
   ],
   "source": [
    "# rec_listの空文字はlistにしてから結合する必要がある\n",
    "joined_group3['rec_list'] = joined_group3.apply(lambda x: (list(x['rec_list'])+x['ranking'])[:Nsub], axis = 1)\n",
    "joined_group3 = joined_group3.drop(columns='ranking')\n",
    "gc.collect() \n",
    "joined_group3"
   ]
  },
  {
   "cell_type": "code",
   "execution_count": 64,
   "id": "20e6c17e",
   "metadata": {
    "execution": {
     "iopub.execute_input": "2022-03-12T08:18:46.403093Z",
     "iopub.status.busy": "2022-03-12T08:18:46.402401Z",
     "iopub.status.idle": "2022-03-12T08:18:47.040809Z",
     "shell.execute_reply": "2022-03-12T08:18:47.040188Z",
     "shell.execute_reply.started": "2022-03-12T07:59:02.255537Z"
    },
    "papermill": {
     "duration": 0.752105,
     "end_time": "2022-03-12T08:18:47.040965",
     "exception": false,
     "start_time": "2022-03-12T08:18:46.288860",
     "status": "completed"
    },
    "tags": []
   },
   "outputs": [
    {
     "data": {
      "text/plain": [
       "0          50\n",
       "1          50\n",
       "2          50\n",
       "3          50\n",
       "4          50\n",
       "           ..\n",
       "1371975    50\n",
       "1371976    50\n",
       "1371977    50\n",
       "1371978    50\n",
       "1371979    50\n",
       "Name: rec_list, Length: 1371980, dtype: int64"
      ]
     },
     "execution_count": 64,
     "metadata": {},
     "output_type": "execute_result"
    }
   ],
   "source": [
    "joined_group3['rec_list'].apply(len)"
   ]
  },
  {
   "cell_type": "code",
   "execution_count": 65,
   "id": "8ef43ab8",
   "metadata": {
    "execution": {
     "iopub.execute_input": "2022-03-12T08:18:51.110132Z",
     "iopub.status.busy": "2022-03-12T08:18:51.109063Z",
     "iopub.status.idle": "2022-03-12T08:18:51.114626Z",
     "shell.execute_reply": "2022-03-12T08:18:51.114107Z",
     "shell.execute_reply.started": "2022-03-12T07:59:02.947024Z"
    },
    "papermill": {
     "duration": 3.962227,
     "end_time": "2022-03-12T08:18:51.114772",
     "exception": false,
     "start_time": "2022-03-12T08:18:47.152545",
     "status": "completed"
    },
    "tags": []
   },
   "outputs": [
    {
     "data": {
      "text/plain": [
       "0"
      ]
     },
     "execution_count": 65,
     "metadata": {},
     "output_type": "execute_result"
    }
   ],
   "source": [
    "gc.collect()"
   ]
  },
  {
   "cell_type": "code",
   "execution_count": 66,
   "id": "f9fef64f",
   "metadata": {},
   "outputs": [
    {
     "data": {
      "text/html": [
       "<div>\n",
       "<style scoped>\n",
       "    .dataframe tbody tr th:only-of-type {\n",
       "        vertical-align: middle;\n",
       "    }\n",
       "\n",
       "    .dataframe tbody tr th {\n",
       "        vertical-align: top;\n",
       "    }\n",
       "\n",
       "    .dataframe thead th {\n",
       "        text-align: right;\n",
       "    }\n",
       "</style>\n",
       "<table border=\"1\" class=\"dataframe\">\n",
       "  <thead>\n",
       "    <tr style=\"text-align: right;\">\n",
       "      <th></th>\n",
       "      <th>customer_id</th>\n",
       "      <th>rec_list</th>\n",
       "    </tr>\n",
       "  </thead>\n",
       "  <tbody>\n",
       "    <tr>\n",
       "      <th>0</th>\n",
       "      <td>-7200416642310594310</td>\n",
       "      <td>[924243001, 918522001, 866731001, 448509014, 9...</td>\n",
       "    </tr>\n",
       "    <tr>\n",
       "      <th>1</th>\n",
       "      <td>-6846340800584936</td>\n",
       "      <td>[805000001, 794321007, 924243001, 918522001, 8...</td>\n",
       "    </tr>\n",
       "    <tr>\n",
       "      <th>2</th>\n",
       "      <td>-2477030216582433370</td>\n",
       "      <td>[738133005, 738133007, 738133006, 158340001, 9...</td>\n",
       "    </tr>\n",
       "    <tr>\n",
       "      <th>3</th>\n",
       "      <td>-3402710142238164438</td>\n",
       "      <td>[719530003, 719530004, 706016001, 719530007, 5...</td>\n",
       "    </tr>\n",
       "    <tr>\n",
       "      <th>4</th>\n",
       "      <td>5669685583838440396</td>\n",
       "      <td>[924243001, 918522001, 866731001, 448509014, 9...</td>\n",
       "    </tr>\n",
       "    <tr>\n",
       "      <th>...</th>\n",
       "      <td>...</td>\n",
       "      <td>...</td>\n",
       "    </tr>\n",
       "    <tr>\n",
       "      <th>1371975</th>\n",
       "      <td>8959640756044895752</td>\n",
       "      <td>[160442010, 160442007, 160442043, 355072001, 3...</td>\n",
       "    </tr>\n",
       "    <tr>\n",
       "      <th>1371976</th>\n",
       "      <td>8536186189414498976</td>\n",
       "      <td>[924243001, 930380001, 924243002, 928206001, 9...</td>\n",
       "    </tr>\n",
       "    <tr>\n",
       "      <th>1371977</th>\n",
       "      <td>-1244504865876165278</td>\n",
       "      <td>[924243001, 930380001, 924243002, 928206001, 9...</td>\n",
       "    </tr>\n",
       "    <tr>\n",
       "      <th>1371978</th>\n",
       "      <td>5823894334162843119</td>\n",
       "      <td>[924243001, 930380001, 924243002, 928206001, 9...</td>\n",
       "    </tr>\n",
       "    <tr>\n",
       "      <th>1371979</th>\n",
       "      <td>-1516792180973952447</td>\n",
       "      <td>[758470001, 924243001, 930380001, 924243002, 9...</td>\n",
       "    </tr>\n",
       "  </tbody>\n",
       "</table>\n",
       "<p>1371980 rows × 2 columns</p>\n",
       "</div>"
      ],
      "text/plain": [
       "                 customer_id  \\\n",
       "0       -7200416642310594310   \n",
       "1          -6846340800584936   \n",
       "2       -2477030216582433370   \n",
       "3       -3402710142238164438   \n",
       "4        5669685583838440396   \n",
       "...                      ...   \n",
       "1371975  8959640756044895752   \n",
       "1371976  8536186189414498976   \n",
       "1371977 -1244504865876165278   \n",
       "1371978  5823894334162843119   \n",
       "1371979 -1516792180973952447   \n",
       "\n",
       "                                                  rec_list  \n",
       "0        [924243001, 918522001, 866731001, 448509014, 9...  \n",
       "1        [805000001, 794321007, 924243001, 918522001, 8...  \n",
       "2        [738133005, 738133007, 738133006, 158340001, 9...  \n",
       "3        [719530003, 719530004, 706016001, 719530007, 5...  \n",
       "4        [924243001, 918522001, 866731001, 448509014, 9...  \n",
       "...                                                    ...  \n",
       "1371975  [160442010, 160442007, 160442043, 355072001, 3...  \n",
       "1371976  [924243001, 930380001, 924243002, 928206001, 9...  \n",
       "1371977  [924243001, 930380001, 924243002, 928206001, 9...  \n",
       "1371978  [924243001, 930380001, 924243002, 928206001, 9...  \n",
       "1371979  [758470001, 924243001, 930380001, 924243002, 9...  \n",
       "\n",
       "[1371980 rows x 2 columns]"
      ]
     },
     "execution_count": 66,
     "metadata": {},
     "output_type": "execute_result"
    }
   ],
   "source": [
    "joined_group3"
   ]
  },
  {
   "cell_type": "code",
   "execution_count": 67,
   "id": "920f68f4",
   "metadata": {
    "execution": {
     "iopub.execute_input": "2022-03-12T08:18:51.342674Z",
     "iopub.status.busy": "2022-03-12T08:18:51.341963Z",
     "iopub.status.idle": "2022-03-12T08:18:52.981765Z",
     "shell.execute_reply": "2022-03-12T08:18:52.981075Z",
     "shell.execute_reply.started": "2022-03-12T07:59:06.755724Z"
    },
    "papermill": {
     "duration": 1.756476,
     "end_time": "2022-03-12T08:18:52.981947",
     "exception": false,
     "start_time": "2022-03-12T08:18:51.225471",
     "status": "completed"
    },
    "tags": []
   },
   "outputs": [],
   "source": [
    "joined_group3['rec_list'] = joined_group3['rec_list'].map(lambda x:  ' '.join(map(str, x))) \n",
    "joined_group3 = joined_group3.rename(columns={'rec_list':'valid_pred'})"
   ]
  },
  {
   "cell_type": "code",
   "execution_count": 68,
   "id": "a2c1d64d",
   "metadata": {
    "execution": {
     "iopub.execute_input": "2022-03-12T08:18:53.246092Z",
     "iopub.status.busy": "2022-03-12T08:18:53.245327Z",
     "iopub.status.idle": "2022-03-12T08:18:57.176362Z",
     "shell.execute_reply": "2022-03-12T08:18:57.176846Z",
     "shell.execute_reply.started": "2022-03-12T07:59:08.351030Z"
    },
    "papermill": {
     "duration": 4.075793,
     "end_time": "2022-03-12T08:18:57.177077",
     "exception": false,
     "start_time": "2022-03-12T08:18:53.101284",
     "status": "completed"
    },
    "tags": []
   },
   "outputs": [
    {
     "data": {
      "text/plain": [
       "0"
      ]
     },
     "execution_count": 68,
     "metadata": {},
     "output_type": "execute_result"
    }
   ],
   "source": [
    "gc.collect() "
   ]
  },
  {
   "cell_type": "code",
   "execution_count": 69,
   "id": "f6c04fc7",
   "metadata": {
    "execution": {
     "iopub.execute_input": "2022-03-12T08:18:57.402857Z",
     "iopub.status.busy": "2022-03-12T08:18:57.402250Z",
     "iopub.status.idle": "2022-03-12T08:18:57.412705Z",
     "shell.execute_reply": "2022-03-12T08:18:57.413300Z",
     "shell.execute_reply.started": "2022-03-12T07:59:12.159769Z"
    },
    "papermill": {
     "duration": 0.124699,
     "end_time": "2022-03-12T08:18:57.413469",
     "exception": false,
     "start_time": "2022-03-12T08:18:57.288770",
     "status": "completed"
    },
    "tags": []
   },
   "outputs": [
    {
     "data": {
      "text/html": [
       "<div>\n",
       "<style scoped>\n",
       "    .dataframe tbody tr th:only-of-type {\n",
       "        vertical-align: middle;\n",
       "    }\n",
       "\n",
       "    .dataframe tbody tr th {\n",
       "        vertical-align: top;\n",
       "    }\n",
       "\n",
       "    .dataframe thead th {\n",
       "        text-align: right;\n",
       "    }\n",
       "</style>\n",
       "<table border=\"1\" class=\"dataframe\">\n",
       "  <thead>\n",
       "    <tr style=\"text-align: right;\">\n",
       "      <th></th>\n",
       "      <th>customer_id</th>\n",
       "      <th>valid_pred</th>\n",
       "    </tr>\n",
       "  </thead>\n",
       "  <tbody>\n",
       "    <tr>\n",
       "      <th>0</th>\n",
       "      <td>-7200416642310594310</td>\n",
       "      <td>924243001 918522001 866731001 448509014 909370...</td>\n",
       "    </tr>\n",
       "    <tr>\n",
       "      <th>1</th>\n",
       "      <td>-6846340800584936</td>\n",
       "      <td>805000001 794321007 924243001 918522001 866731...</td>\n",
       "    </tr>\n",
       "    <tr>\n",
       "      <th>2</th>\n",
       "      <td>-2477030216582433370</td>\n",
       "      <td>738133005 738133007 738133006 158340001 924243...</td>\n",
       "    </tr>\n",
       "    <tr>\n",
       "      <th>3</th>\n",
       "      <td>-3402710142238164438</td>\n",
       "      <td>719530003 719530004 706016001 719530007 572797...</td>\n",
       "    </tr>\n",
       "    <tr>\n",
       "      <th>4</th>\n",
       "      <td>5669685583838440396</td>\n",
       "      <td>924243001 918522001 866731001 448509014 909370...</td>\n",
       "    </tr>\n",
       "    <tr>\n",
       "      <th>...</th>\n",
       "      <td>...</td>\n",
       "      <td>...</td>\n",
       "    </tr>\n",
       "    <tr>\n",
       "      <th>1371975</th>\n",
       "      <td>8959640756044895752</td>\n",
       "      <td>160442010 160442007 160442043 355072001 373506...</td>\n",
       "    </tr>\n",
       "    <tr>\n",
       "      <th>1371976</th>\n",
       "      <td>8536186189414498976</td>\n",
       "      <td>924243001 930380001 924243002 928206001 910601...</td>\n",
       "    </tr>\n",
       "    <tr>\n",
       "      <th>1371977</th>\n",
       "      <td>-1244504865876165278</td>\n",
       "      <td>924243001 930380001 924243002 928206001 910601...</td>\n",
       "    </tr>\n",
       "    <tr>\n",
       "      <th>1371978</th>\n",
       "      <td>5823894334162843119</td>\n",
       "      <td>924243001 930380001 924243002 928206001 910601...</td>\n",
       "    </tr>\n",
       "    <tr>\n",
       "      <th>1371979</th>\n",
       "      <td>-1516792180973952447</td>\n",
       "      <td>758470001 924243001 930380001 924243002 928206...</td>\n",
       "    </tr>\n",
       "  </tbody>\n",
       "</table>\n",
       "<p>1371980 rows × 2 columns</p>\n",
       "</div>"
      ],
      "text/plain": [
       "                 customer_id  \\\n",
       "0       -7200416642310594310   \n",
       "1          -6846340800584936   \n",
       "2       -2477030216582433370   \n",
       "3       -3402710142238164438   \n",
       "4        5669685583838440396   \n",
       "...                      ...   \n",
       "1371975  8959640756044895752   \n",
       "1371976  8536186189414498976   \n",
       "1371977 -1244504865876165278   \n",
       "1371978  5823894334162843119   \n",
       "1371979 -1516792180973952447   \n",
       "\n",
       "                                                valid_pred  \n",
       "0        924243001 918522001 866731001 448509014 909370...  \n",
       "1        805000001 794321007 924243001 918522001 866731...  \n",
       "2        738133005 738133007 738133006 158340001 924243...  \n",
       "3        719530003 719530004 706016001 719530007 572797...  \n",
       "4        924243001 918522001 866731001 448509014 909370...  \n",
       "...                                                    ...  \n",
       "1371975  160442010 160442007 160442043 355072001 373506...  \n",
       "1371976  924243001 930380001 924243002 928206001 910601...  \n",
       "1371977  924243001 930380001 924243002 928206001 910601...  \n",
       "1371978  924243001 930380001 924243002 928206001 910601...  \n",
       "1371979  758470001 924243001 930380001 924243002 928206...  \n",
       "\n",
       "[1371980 rows x 2 columns]"
      ]
     },
     "execution_count": 69,
     "metadata": {},
     "output_type": "execute_result"
    }
   ],
   "source": [
    "joined_group3"
   ]
  },
  {
   "cell_type": "markdown",
   "id": "72b4b7cb",
   "metadata": {
    "papermill": {
     "duration": 0.112358,
     "end_time": "2022-03-12T08:18:57.639093",
     "exception": false,
     "start_time": "2022-03-12T08:18:57.526735",
     "status": "completed"
    },
    "tags": []
   },
   "source": [
    "### Validation data"
   ]
  },
  {
   "cell_type": "code",
   "execution_count": 70,
   "id": "a3759b41",
   "metadata": {
    "execution": {
     "iopub.execute_input": "2022-03-12T08:18:57.865049Z",
     "iopub.status.busy": "2022-03-12T08:18:57.864363Z",
     "iopub.status.idle": "2022-03-12T08:19:03.308261Z",
     "shell.execute_reply": "2022-03-12T08:19:03.307577Z",
     "shell.execute_reply.started": "2022-03-12T07:59:12.182015Z"
    },
    "papermill": {
     "duration": 5.557954,
     "end_time": "2022-03-12T08:19:03.308410",
     "exception": false,
     "start_time": "2022-03-12T08:18:57.750456",
     "status": "completed"
    },
    "tags": []
   },
   "outputs": [
    {
     "name": "stdout",
     "output_type": "stream",
     "text": [
      "(68984, 3)\n"
     ]
    },
    {
     "data": {
      "text/html": [
       "<div>\n",
       "<style scoped>\n",
       "    .dataframe tbody tr th:only-of-type {\n",
       "        vertical-align: middle;\n",
       "    }\n",
       "\n",
       "    .dataframe tbody tr th {\n",
       "        vertical-align: top;\n",
       "    }\n",
       "\n",
       "    .dataframe thead th {\n",
       "        text-align: right;\n",
       "    }\n",
       "</style>\n",
       "<table border=\"1\" class=\"dataframe\">\n",
       "  <thead>\n",
       "    <tr style=\"text-align: right;\">\n",
       "      <th></th>\n",
       "      <th>customer_id</th>\n",
       "      <th>article_id</th>\n",
       "      <th>valid_true</th>\n",
       "    </tr>\n",
       "  </thead>\n",
       "  <tbody>\n",
       "    <tr>\n",
       "      <th>0</th>\n",
       "      <td>-9223100958908512198</td>\n",
       "      <td>[785034009, 673677027, 673677024]</td>\n",
       "      <td>785034009 673677027 673677024</td>\n",
       "    </tr>\n",
       "    <tr>\n",
       "      <th>1</th>\n",
       "      <td>-9223002534477110135</td>\n",
       "      <td>[793699001]</td>\n",
       "      <td>793699001</td>\n",
       "    </tr>\n",
       "    <tr>\n",
       "      <th>2</th>\n",
       "      <td>-9222810895170663723</td>\n",
       "      <td>[892309001, 903306004]</td>\n",
       "      <td>892309001 903306004</td>\n",
       "    </tr>\n",
       "    <tr>\n",
       "      <th>3</th>\n",
       "      <td>-9221924794303263774</td>\n",
       "      <td>[888343003, 892857002, 708138013]</td>\n",
       "      <td>888343003 892857002 708138013</td>\n",
       "    </tr>\n",
       "    <tr>\n",
       "      <th>4</th>\n",
       "      <td>-9221811157628158522</td>\n",
       "      <td>[891663002]</td>\n",
       "      <td>891663002</td>\n",
       "    </tr>\n",
       "  </tbody>\n",
       "</table>\n",
       "</div>"
      ],
      "text/plain": [
       "           customer_id                         article_id  \\\n",
       "0 -9223100958908512198  [785034009, 673677027, 673677024]   \n",
       "1 -9223002534477110135                        [793699001]   \n",
       "2 -9222810895170663723             [892309001, 903306004]   \n",
       "3 -9221924794303263774  [888343003, 892857002, 708138013]   \n",
       "4 -9221811157628158522                        [891663002]   \n",
       "\n",
       "                      valid_true  \n",
       "0  785034009 673677027 673677024  \n",
       "1                      793699001  \n",
       "2            892309001 903306004  \n",
       "3  888343003 892857002 708138013  \n",
       "4                      891663002  "
      ]
     },
     "metadata": {},
     "output_type": "display_data"
    }
   ],
   "source": [
    "valid_unq = valid_data.groupby('customer_id')['article_id'].apply(list).reset_index()\n",
    "del valid_data; gc.collect()\n",
    "valid_unq['valid_true'] = valid_unq['article_id'].map(lambda x: ' '.join(map(str, x)))\n",
    "visualize_df(valid_unq)"
   ]
  },
  {
   "cell_type": "markdown",
   "id": "7baab5fd",
   "metadata": {
    "papermill": {
     "duration": 0.113423,
     "end_time": "2022-03-12T08:19:03.534226",
     "exception": false,
     "start_time": "2022-03-12T08:19:03.420803",
     "status": "completed"
    },
    "tags": []
   },
   "source": [
    "### merge train and valid"
   ]
  },
  {
   "cell_type": "code",
   "execution_count": 71,
   "id": "ec8c1257",
   "metadata": {
    "execution": {
     "iopub.execute_input": "2022-03-12T08:19:03.761545Z",
     "iopub.status.busy": "2022-03-12T08:19:03.760935Z",
     "iopub.status.idle": "2022-03-12T08:19:09.492458Z",
     "shell.execute_reply": "2022-03-12T08:19:09.491802Z",
     "shell.execute_reply.started": "2022-03-12T07:59:17.748256Z"
    },
    "papermill": {
     "duration": 5.845661,
     "end_time": "2022-03-12T08:19:09.492605",
     "exception": false,
     "start_time": "2022-03-12T08:19:03.646944",
     "status": "completed"
    },
    "tags": []
   },
   "outputs": [
    {
     "data": {
      "text/plain": [
       "0"
      ]
     },
     "execution_count": 71,
     "metadata": {},
     "output_type": "execute_result"
    }
   ],
   "source": [
    "merged = pd.merge(joined_group3, valid_unq, on='customer_id', how='left').fillna('')\n",
    "del joined_group3, valid_unq; gc.collect()"
   ]
  },
  {
   "cell_type": "code",
   "execution_count": 72,
   "id": "f36fcca5",
   "metadata": {
    "execution": {
     "iopub.execute_input": "2022-03-12T08:19:09.726997Z",
     "iopub.status.busy": "2022-03-12T08:19:09.726274Z",
     "iopub.status.idle": "2022-03-12T08:19:09.736207Z",
     "shell.execute_reply": "2022-03-12T08:19:09.736699Z",
     "shell.execute_reply.started": "2022-03-12T07:59:23.443354Z"
    },
    "papermill": {
     "duration": 0.129924,
     "end_time": "2022-03-12T08:19:09.736867",
     "exception": false,
     "start_time": "2022-03-12T08:19:09.606943",
     "status": "completed"
    },
    "tags": []
   },
   "outputs": [
    {
     "data": {
      "text/html": [
       "<div>\n",
       "<style scoped>\n",
       "    .dataframe tbody tr th:only-of-type {\n",
       "        vertical-align: middle;\n",
       "    }\n",
       "\n",
       "    .dataframe tbody tr th {\n",
       "        vertical-align: top;\n",
       "    }\n",
       "\n",
       "    .dataframe thead th {\n",
       "        text-align: right;\n",
       "    }\n",
       "</style>\n",
       "<table border=\"1\" class=\"dataframe\">\n",
       "  <thead>\n",
       "    <tr style=\"text-align: right;\">\n",
       "      <th></th>\n",
       "      <th>customer_id</th>\n",
       "      <th>valid_pred</th>\n",
       "      <th>article_id</th>\n",
       "      <th>valid_true</th>\n",
       "    </tr>\n",
       "  </thead>\n",
       "  <tbody>\n",
       "    <tr>\n",
       "      <th>0</th>\n",
       "      <td>-7200416642310594310</td>\n",
       "      <td>924243001 918522001 866731001 448509014 909370...</td>\n",
       "      <td></td>\n",
       "      <td></td>\n",
       "    </tr>\n",
       "    <tr>\n",
       "      <th>1</th>\n",
       "      <td>-6846340800584936</td>\n",
       "      <td>805000001 794321007 924243001 918522001 866731...</td>\n",
       "      <td></td>\n",
       "      <td></td>\n",
       "    </tr>\n",
       "    <tr>\n",
       "      <th>2</th>\n",
       "      <td>-2477030216582433370</td>\n",
       "      <td>738133005 738133007 738133006 158340001 924243...</td>\n",
       "      <td></td>\n",
       "      <td></td>\n",
       "    </tr>\n",
       "    <tr>\n",
       "      <th>3</th>\n",
       "      <td>-3402710142238164438</td>\n",
       "      <td>719530003 719530004 706016001 719530007 572797...</td>\n",
       "      <td></td>\n",
       "      <td></td>\n",
       "    </tr>\n",
       "    <tr>\n",
       "      <th>4</th>\n",
       "      <td>5669685583838440396</td>\n",
       "      <td>924243001 918522001 866731001 448509014 909370...</td>\n",
       "      <td></td>\n",
       "      <td></td>\n",
       "    </tr>\n",
       "    <tr>\n",
       "      <th>...</th>\n",
       "      <td>...</td>\n",
       "      <td>...</td>\n",
       "      <td>...</td>\n",
       "      <td>...</td>\n",
       "    </tr>\n",
       "    <tr>\n",
       "      <th>1371975</th>\n",
       "      <td>8959640756044895752</td>\n",
       "      <td>160442010 160442007 160442043 355072001 373506...</td>\n",
       "      <td></td>\n",
       "      <td></td>\n",
       "    </tr>\n",
       "    <tr>\n",
       "      <th>1371976</th>\n",
       "      <td>8536186189414498976</td>\n",
       "      <td>924243001 930380001 924243002 928206001 910601...</td>\n",
       "      <td></td>\n",
       "      <td></td>\n",
       "    </tr>\n",
       "    <tr>\n",
       "      <th>1371977</th>\n",
       "      <td>-1244504865876165278</td>\n",
       "      <td>924243001 930380001 924243002 928206001 910601...</td>\n",
       "      <td></td>\n",
       "      <td></td>\n",
       "    </tr>\n",
       "    <tr>\n",
       "      <th>1371978</th>\n",
       "      <td>5823894334162843119</td>\n",
       "      <td>924243001 930380001 924243002 928206001 910601...</td>\n",
       "      <td></td>\n",
       "      <td></td>\n",
       "    </tr>\n",
       "    <tr>\n",
       "      <th>1371979</th>\n",
       "      <td>-1516792180973952447</td>\n",
       "      <td>758470001 924243001 930380001 924243002 928206...</td>\n",
       "      <td></td>\n",
       "      <td></td>\n",
       "    </tr>\n",
       "  </tbody>\n",
       "</table>\n",
       "<p>1371980 rows × 4 columns</p>\n",
       "</div>"
      ],
      "text/plain": [
       "                 customer_id  \\\n",
       "0       -7200416642310594310   \n",
       "1          -6846340800584936   \n",
       "2       -2477030216582433370   \n",
       "3       -3402710142238164438   \n",
       "4        5669685583838440396   \n",
       "...                      ...   \n",
       "1371975  8959640756044895752   \n",
       "1371976  8536186189414498976   \n",
       "1371977 -1244504865876165278   \n",
       "1371978  5823894334162843119   \n",
       "1371979 -1516792180973952447   \n",
       "\n",
       "                                                valid_pred article_id  \\\n",
       "0        924243001 918522001 866731001 448509014 909370...              \n",
       "1        805000001 794321007 924243001 918522001 866731...              \n",
       "2        738133005 738133007 738133006 158340001 924243...              \n",
       "3        719530003 719530004 706016001 719530007 572797...              \n",
       "4        924243001 918522001 866731001 448509014 909370...              \n",
       "...                                                    ...        ...   \n",
       "1371975  160442010 160442007 160442043 355072001 373506...              \n",
       "1371976  924243001 930380001 924243002 928206001 910601...              \n",
       "1371977  924243001 930380001 924243002 928206001 910601...              \n",
       "1371978  924243001 930380001 924243002 928206001 910601...              \n",
       "1371979  758470001 924243001 930380001 924243002 928206...              \n",
       "\n",
       "        valid_true  \n",
       "0                   \n",
       "1                   \n",
       "2                   \n",
       "3                   \n",
       "4                   \n",
       "...            ...  \n",
       "1371975             \n",
       "1371976             \n",
       "1371977             \n",
       "1371978             \n",
       "1371979             \n",
       "\n",
       "[1371980 rows x 4 columns]"
      ]
     },
     "execution_count": 72,
     "metadata": {},
     "output_type": "execute_result"
    }
   ],
   "source": [
    "merged"
   ]
  },
  {
   "cell_type": "code",
   "execution_count": 73,
   "id": "695b1ba1",
   "metadata": {
    "execution": {
     "iopub.execute_input": "2022-03-12T08:19:13.852801Z",
     "iopub.status.busy": "2022-03-12T08:19:13.851950Z",
     "iopub.status.idle": "2022-03-12T08:19:13.855434Z",
     "shell.execute_reply": "2022-03-12T08:19:13.855962Z",
     "shell.execute_reply.started": "2022-03-12T07:59:23.460516Z"
    },
    "papermill": {
     "duration": 4.006184,
     "end_time": "2022-03-12T08:19:13.856139",
     "exception": false,
     "start_time": "2022-03-12T08:19:09.849955",
     "status": "completed"
    },
    "tags": []
   },
   "outputs": [
    {
     "data": {
      "text/html": [
       "<div>\n",
       "<style scoped>\n",
       "    .dataframe tbody tr th:only-of-type {\n",
       "        vertical-align: middle;\n",
       "    }\n",
       "\n",
       "    .dataframe tbody tr th {\n",
       "        vertical-align: top;\n",
       "    }\n",
       "\n",
       "    .dataframe thead th {\n",
       "        text-align: right;\n",
       "    }\n",
       "</style>\n",
       "<table border=\"1\" class=\"dataframe\">\n",
       "  <thead>\n",
       "    <tr style=\"text-align: right;\">\n",
       "      <th></th>\n",
       "      <th>customer_id</th>\n",
       "      <th>valid_pred</th>\n",
       "      <th>valid_true</th>\n",
       "    </tr>\n",
       "  </thead>\n",
       "  <tbody>\n",
       "    <tr>\n",
       "      <th>0</th>\n",
       "      <td>-7200416642310594310</td>\n",
       "      <td>924243001 918522001 866731001 448509014 909370...</td>\n",
       "      <td></td>\n",
       "    </tr>\n",
       "    <tr>\n",
       "      <th>1</th>\n",
       "      <td>-6846340800584936</td>\n",
       "      <td>805000001 794321007 924243001 918522001 866731...</td>\n",
       "      <td></td>\n",
       "    </tr>\n",
       "    <tr>\n",
       "      <th>2</th>\n",
       "      <td>-2477030216582433370</td>\n",
       "      <td>738133005 738133007 738133006 158340001 924243...</td>\n",
       "      <td></td>\n",
       "    </tr>\n",
       "    <tr>\n",
       "      <th>3</th>\n",
       "      <td>-3402710142238164438</td>\n",
       "      <td>719530003 719530004 706016001 719530007 572797...</td>\n",
       "      <td></td>\n",
       "    </tr>\n",
       "    <tr>\n",
       "      <th>4</th>\n",
       "      <td>5669685583838440396</td>\n",
       "      <td>924243001 918522001 866731001 448509014 909370...</td>\n",
       "      <td></td>\n",
       "    </tr>\n",
       "  </tbody>\n",
       "</table>\n",
       "</div>"
      ],
      "text/plain": [
       "           customer_id                                         valid_pred  \\\n",
       "0 -7200416642310594310  924243001 918522001 866731001 448509014 909370...   \n",
       "1    -6846340800584936  805000001 794321007 924243001 918522001 866731...   \n",
       "2 -2477030216582433370  738133005 738133007 738133006 158340001 924243...   \n",
       "3 -3402710142238164438  719530003 719530004 706016001 719530007 572797...   \n",
       "4  5669685583838440396  924243001 918522001 866731001 448509014 909370...   \n",
       "\n",
       "  valid_true  \n",
       "0             \n",
       "1             \n",
       "2             \n",
       "3             \n",
       "4             "
      ]
     },
     "execution_count": 73,
     "metadata": {},
     "output_type": "execute_result"
    }
   ],
   "source": [
    "del merged['article_id']; gc.collect()\n",
    "merged.head()"
   ]
  },
  {
   "cell_type": "code",
   "execution_count": 74,
   "id": "ea701e8a",
   "metadata": {
    "execution": {
     "iopub.execute_input": "2022-03-12T08:19:14.093612Z",
     "iopub.status.busy": "2022-03-12T08:19:14.091557Z",
     "iopub.status.idle": "2022-03-12T08:19:14.325260Z",
     "shell.execute_reply": "2022-03-12T08:19:14.324685Z",
     "shell.execute_reply.started": "2022-03-12T07:59:27.326257Z"
    },
    "papermill": {
     "duration": 0.354479,
     "end_time": "2022-03-12T08:19:14.325419",
     "exception": false,
     "start_time": "2022-03-12T08:19:13.970940",
     "status": "completed"
    },
    "tags": []
   },
   "outputs": [],
   "source": [
    "merged_small = merged.query('valid_true!=\"\"')"
   ]
  },
  {
   "cell_type": "code",
   "execution_count": 75,
   "id": "4009ca62",
   "metadata": {
    "execution": {
     "iopub.execute_input": "2022-03-12T08:19:14.570043Z",
     "iopub.status.busy": "2022-03-12T08:19:14.560745Z",
     "iopub.status.idle": "2022-03-12T08:19:14.574193Z",
     "shell.execute_reply": "2022-03-12T08:19:14.573569Z",
     "shell.execute_reply.started": "2022-03-12T07:59:27.556412Z"
    },
    "papermill": {
     "duration": 0.133725,
     "end_time": "2022-03-12T08:19:14.574339",
     "exception": false,
     "start_time": "2022-03-12T08:19:14.440614",
     "status": "completed"
    },
    "tags": []
   },
   "outputs": [
    {
     "data": {
      "text/html": [
       "<div>\n",
       "<style scoped>\n",
       "    .dataframe tbody tr th:only-of-type {\n",
       "        vertical-align: middle;\n",
       "    }\n",
       "\n",
       "    .dataframe tbody tr th {\n",
       "        vertical-align: top;\n",
       "    }\n",
       "\n",
       "    .dataframe thead th {\n",
       "        text-align: right;\n",
       "    }\n",
       "</style>\n",
       "<table border=\"1\" class=\"dataframe\">\n",
       "  <thead>\n",
       "    <tr style=\"text-align: right;\">\n",
       "      <th></th>\n",
       "      <th>customer_id</th>\n",
       "      <th>valid_pred</th>\n",
       "      <th>valid_true</th>\n",
       "    </tr>\n",
       "  </thead>\n",
       "  <tbody>\n",
       "    <tr>\n",
       "      <th>37</th>\n",
       "      <td>8215006181404469139</td>\n",
       "      <td>624486001 624486002 624486003 706016002 624486...</td>\n",
       "      <td>624486001</td>\n",
       "    </tr>\n",
       "    <tr>\n",
       "      <th>49</th>\n",
       "      <td>-7604547624187760215</td>\n",
       "      <td>757926001 711053003 413029008 861442003 924243...</td>\n",
       "      <td>757926001 788575004 640021019</td>\n",
       "    </tr>\n",
       "    <tr>\n",
       "      <th>53</th>\n",
       "      <td>-7555520646521469595</td>\n",
       "      <td>924243001 918522001 866731001 448509014 909370...</td>\n",
       "      <td>874110016</td>\n",
       "    </tr>\n",
       "    <tr>\n",
       "      <th>91</th>\n",
       "      <td>-7641768468830472284</td>\n",
       "      <td>158340001 436261001 111586001 111593001 792515...</td>\n",
       "      <td>903762001 879189005 158340001 867966009 915529...</td>\n",
       "    </tr>\n",
       "    <tr>\n",
       "      <th>112</th>\n",
       "      <td>-6733796282925309862</td>\n",
       "      <td>924243001 918522001 866731001 448509014 909370...</td>\n",
       "      <td>786304008</td>\n",
       "    </tr>\n",
       "    <tr>\n",
       "      <th>...</th>\n",
       "      <td>...</td>\n",
       "      <td>...</td>\n",
       "      <td>...</td>\n",
       "    </tr>\n",
       "    <tr>\n",
       "      <th>1371911</th>\n",
       "      <td>237419416267454517</td>\n",
       "      <td>909370001 924243001 915526001 910601003 893059...</td>\n",
       "      <td>924243001 873679001 910601002</td>\n",
       "    </tr>\n",
       "    <tr>\n",
       "      <th>1371917</th>\n",
       "      <td>3959348689921271969</td>\n",
       "      <td>924243001 930380001 924243002 928206001 910601...</td>\n",
       "      <td>918325001</td>\n",
       "    </tr>\n",
       "    <tr>\n",
       "      <th>1371939</th>\n",
       "      <td>-8993704402252896919</td>\n",
       "      <td>909370001 924243001 915526001 910601003 893059...</td>\n",
       "      <td>924243001</td>\n",
       "    </tr>\n",
       "    <tr>\n",
       "      <th>1371954</th>\n",
       "      <td>4987941324272823374</td>\n",
       "      <td>898918002 917843001 828050002 664074072 898918...</td>\n",
       "      <td>898918002 855198005 902163001 913688001 874465...</td>\n",
       "    </tr>\n",
       "    <tr>\n",
       "      <th>1371957</th>\n",
       "      <td>-1670952078729494825</td>\n",
       "      <td>861803014 894956001 924243001 930380001 924243...</td>\n",
       "      <td>861803014 849886010</td>\n",
       "    </tr>\n",
       "  </tbody>\n",
       "</table>\n",
       "<p>68984 rows × 3 columns</p>\n",
       "</div>"
      ],
      "text/plain": [
       "                 customer_id  \\\n",
       "37       8215006181404469139   \n",
       "49      -7604547624187760215   \n",
       "53      -7555520646521469595   \n",
       "91      -7641768468830472284   \n",
       "112     -6733796282925309862   \n",
       "...                      ...   \n",
       "1371911   237419416267454517   \n",
       "1371917  3959348689921271969   \n",
       "1371939 -8993704402252896919   \n",
       "1371954  4987941324272823374   \n",
       "1371957 -1670952078729494825   \n",
       "\n",
       "                                                valid_pred  \\\n",
       "37       624486001 624486002 624486003 706016002 624486...   \n",
       "49       757926001 711053003 413029008 861442003 924243...   \n",
       "53       924243001 918522001 866731001 448509014 909370...   \n",
       "91       158340001 436261001 111586001 111593001 792515...   \n",
       "112      924243001 918522001 866731001 448509014 909370...   \n",
       "...                                                    ...   \n",
       "1371911  909370001 924243001 915526001 910601003 893059...   \n",
       "1371917  924243001 930380001 924243002 928206001 910601...   \n",
       "1371939  909370001 924243001 915526001 910601003 893059...   \n",
       "1371954  898918002 917843001 828050002 664074072 898918...   \n",
       "1371957  861803014 894956001 924243001 930380001 924243...   \n",
       "\n",
       "                                                valid_true  \n",
       "37                                               624486001  \n",
       "49                           757926001 788575004 640021019  \n",
       "53                                               874110016  \n",
       "91       903762001 879189005 158340001 867966009 915529...  \n",
       "112                                              786304008  \n",
       "...                                                    ...  \n",
       "1371911                      924243001 873679001 910601002  \n",
       "1371917                                          918325001  \n",
       "1371939                                          924243001  \n",
       "1371954  898918002 855198005 902163001 913688001 874465...  \n",
       "1371957                                861803014 849886010  \n",
       "\n",
       "[68984 rows x 3 columns]"
      ]
     },
     "execution_count": 75,
     "metadata": {},
     "output_type": "execute_result"
    }
   ],
   "source": [
    "merged_small"
   ]
  },
  {
   "cell_type": "code",
   "execution_count": 76,
   "id": "aaa645f8",
   "metadata": {
    "execution": {
     "iopub.execute_input": "2022-03-12T08:19:14.826782Z",
     "iopub.status.busy": "2022-03-12T08:19:14.826088Z",
     "iopub.status.idle": "2022-03-12T08:19:14.860856Z",
     "shell.execute_reply": "2022-03-12T08:19:14.861402Z",
     "shell.execute_reply.started": "2022-03-12T07:59:27.570566Z"
    },
    "papermill": {
     "duration": 0.167199,
     "end_time": "2022-03-12T08:19:14.861581",
     "exception": false,
     "start_time": "2022-03-12T08:19:14.694382",
     "status": "completed"
    },
    "tags": []
   },
   "outputs": [
    {
     "data": {
      "text/plain": [
       "count    68984.000000\n",
       "mean        33.835759\n",
       "std         35.351441\n",
       "min          9.000000\n",
       "25%          9.000000\n",
       "50%         19.000000\n",
       "75%         39.000000\n",
       "max       1039.000000\n",
       "Name: valid_true, dtype: float64"
      ]
     },
     "execution_count": 76,
     "metadata": {},
     "output_type": "execute_result"
    }
   ],
   "source": [
    "merged_small['valid_true'].apply(len).describe()"
   ]
  },
  {
   "cell_type": "markdown",
   "id": "68ff9fc3",
   "metadata": {
    "papermill": {
     "duration": 0.121873,
     "end_time": "2022-03-12T08:19:15.101641",
     "exception": false,
     "start_time": "2022-03-12T08:19:14.979768",
     "status": "completed"
    },
    "tags": []
   },
   "source": [
    "### Function"
   ]
  },
  {
   "cell_type": "code",
   "execution_count": 77,
   "id": "1c71f9bc",
   "metadata": {
    "execution": {
     "iopub.execute_input": "2022-03-12T08:19:15.362360Z",
     "iopub.status.busy": "2022-03-12T08:19:15.361573Z",
     "iopub.status.idle": "2022-03-12T08:19:15.364541Z",
     "shell.execute_reply": "2022-03-12T08:19:15.363888Z",
     "shell.execute_reply.started": "2022-03-12T07:59:27.629400Z"
    },
    "papermill": {
     "duration": 0.128931,
     "end_time": "2022-03-12T08:19:15.364684",
     "exception": false,
     "start_time": "2022-03-12T08:19:15.235753",
     "status": "completed"
    },
    "tags": []
   },
   "outputs": [],
   "source": [
    "# https://www.kaggle.com/c/h-and-m-personalized-fashion-recommendations/discussion/306007\n",
    "# https://github.com/benhamner/Metrics/blob/master/Python/ml_metrics/average_precision.py\n",
    "\n",
    "\n",
    "def apk(actual, predicted, k=10):\n",
    "    \"\"\"\n",
    "    Computes the average precision at k.\n",
    "    This function computes the average prescision at k between two lists of\n",
    "    items.\n",
    "    Parameters\n",
    "    ----------\n",
    "    actual : list\n",
    "             A list of elements that are to be predicted (order doesn't matter)\n",
    "    predicted : list\n",
    "                A list of predicted elements (order does matter)\n",
    "    k : int, optional\n",
    "        The maximum number of predicted elements\n",
    "    Returns\n",
    "    -------\n",
    "    score : double\n",
    "            The average precision at k over the input lists\n",
    "    \"\"\"\n",
    "    if len(predicted)>k:\n",
    "        predicted = predicted[:k]\n",
    "\n",
    "    score = 0.0\n",
    "    num_hits = 0.0\n",
    "\n",
    "    for i,p in enumerate(predicted):\n",
    "        if p in actual and p not in predicted[:i]:\n",
    "            num_hits += 1.0\n",
    "            score += num_hits / (i+1.0)\n",
    "\n",
    "    if not actual:\n",
    "        return 0.0\n",
    "\n",
    "    return score / min(len(actual), k)\n",
    "\n",
    "\n",
    "def mapk(actual, predicted, k=10):\n",
    "    \"\"\"\n",
    "    Computes the mean average precision at k.\n",
    "    This function computes the mean average prescision at k between two lists\n",
    "    of lists of items.\n",
    "    Parameters\n",
    "    ----------\n",
    "    actual : list\n",
    "             A list of lists of elements that are to be predicted \n",
    "             (order doesn't matter in the lists)\n",
    "    predicted : list\n",
    "                A list of lists of predicted elements\n",
    "                (order matters in the lists)\n",
    "    k : int, optional\n",
    "        The maximum number of predicted elements\n",
    "    Returns\n",
    "    -------\n",
    "    score : double\n",
    "            The mean average precision at k over the input lists\n",
    "    \"\"\"\n",
    "    return np.mean([apk(a,p,k) for a,p in zip(actual, predicted)])"
   ]
  },
  {
   "cell_type": "code",
   "execution_count": 78,
   "id": "b5ae17d2",
   "metadata": {
    "execution": {
     "iopub.execute_input": "2022-03-12T08:19:15.605049Z",
     "iopub.status.busy": "2022-03-12T08:19:15.604346Z",
     "iopub.status.idle": "2022-03-12T08:19:15.606874Z",
     "shell.execute_reply": "2022-03-12T08:19:15.606402Z",
     "shell.execute_reply.started": "2022-03-12T07:59:27.642361Z"
    },
    "papermill": {
     "duration": 0.125957,
     "end_time": "2022-03-12T08:19:15.607038",
     "exception": false,
     "start_time": "2022-03-12T08:19:15.481081",
     "status": "completed"
    },
    "tags": []
   },
   "outputs": [],
   "source": [
    "# https://www.kaggle.com/c/h-and-m-personalized-fashion-recommendations/discussion/306007\n",
    "# https://github.com/benhamner/Metrics/blob/master/Python/ml_metrics/average_precision.py\n",
    "\n",
    "\n",
    "def recallk(actual, predicted, k=10):\n",
    "  \n",
    "    if len(predicted)>k:\n",
    "        predicted = predicted[:k]\n",
    "\n",
    "    num_hits = 0.0\n",
    " \n",
    "    for i,a in enumerate(actual):\n",
    "        if a in predicted and a not in actual[:i]:\n",
    "            num_hits += 1.0\n",
    "\n",
    "    if not actual:\n",
    "        return 0.0\n",
    "\n",
    "    return num_hits / min(len(actual), k)\n",
    "\n",
    "\n",
    "def mrecallk(actual, predicted, k=10):\n",
    "\n",
    "    return np.mean([recallk(a,p,k) for a,p in zip(actual, predicted)])"
   ]
  },
  {
   "cell_type": "code",
   "execution_count": 79,
   "id": "a9445106",
   "metadata": {
    "execution": {
     "iopub.execute_input": "2022-03-12T08:19:15.861155Z",
     "iopub.status.busy": "2022-03-12T08:19:15.848137Z",
     "iopub.status.idle": "2022-03-12T08:19:16.322537Z",
     "shell.execute_reply": "2022-03-12T08:19:16.323050Z",
     "shell.execute_reply.started": "2022-03-12T07:59:27.661926Z"
    },
    "papermill": {
     "duration": 0.597955,
     "end_time": "2022-03-12T08:19:16.323218",
     "exception": false,
     "start_time": "2022-03-12T08:19:15.725263",
     "status": "completed"
    },
    "tags": []
   },
   "outputs": [
    {
     "data": {
      "text/plain": [
       "0.2292538374496016"
      ]
     },
     "execution_count": 79,
     "metadata": {},
     "output_type": "execute_result"
    }
   ],
   "source": [
    "tqdm.pandas()\n",
    "\n",
    "mapk(merged_small['valid_true'].map(lambda x: x.split()), merged_small['valid_pred'].map(lambda x: x.split()), k=12)\n",
    "# week by week 0.011140732679736226\n",
    "# to: last week, from: others 0.00782014766757182\n",
    "# to: last, from: 1 momth 0.006115032090255837\n",
    "\n",
    "# ranking穴埋め\n",
    "# rankingのみ 0.008645699012343824\n",
    "# wbw 0.012118011333393222\n",
    "# wbw + th>10: 0.014159445419290496\n",
    "# to: last, from: 1 momth 0.003676811944912249\n",
    "# to: last, from: 1 momth + th>10 : 0.010828227012764523\n",
    "# to: last week, from: others 0.00870956577336267\n",
    "# to: last week, from: others  + th>10 0.010946752128587353\n",
    "# new 0.013703949842627761\n",
    "# new+remove: 0.010583134597773845\n"
   ]
  },
  {
   "cell_type": "code",
   "execution_count": 80,
   "id": "34e99e1d",
   "metadata": {
    "execution": {
     "iopub.execute_input": "2022-03-12T08:19:16.558201Z",
     "iopub.status.busy": "2022-03-12T08:19:16.557534Z",
     "iopub.status.idle": "2022-03-12T08:19:16.945957Z",
     "shell.execute_reply": "2022-03-12T08:19:16.946512Z",
     "shell.execute_reply.started": "2022-03-12T07:59:28.178577Z"
    },
    "papermill": {
     "duration": 0.508144,
     "end_time": "2022-03-12T08:19:16.946680",
     "exception": false,
     "start_time": "2022-03-12T08:19:16.438536",
     "status": "completed"
    },
    "tags": []
   },
   "outputs": [
    {
     "data": {
      "text/plain": [
       "0.25792405968533766"
      ]
     },
     "execution_count": 80,
     "metadata": {},
     "output_type": "execute_result"
    }
   ],
   "source": [
    "mrecallk(merged_small['valid_true'].map(lambda x: x.split()), merged_small['valid_pred'].map(lambda x: x.split()), k=5)\n",
    "# week by week : 0.015262959526846804\n",
    "# to: last week, from: others 0.012488644709884417\n",
    "# to: last, from: 1 momth 0.0095742007808574\n",
    "\n",
    "# ranking穴埋め\n",
    "# rankingのみ 0.014520128496282925\n",
    "# wbw 0.016654527029166803\n",
    "# wbw + th>10: 0.02062814706906926\n",
    "# to: last, from: 1 momth 0.00807206722192313\n",
    "# to: last, from: 1 momth + th>10 : 0.017264939671279726\n",
    "# to: last week, from: others 0.013864257740338429\n",
    "# to: last week, from: others  + th>10 0.017488203439212084\n",
    "\n",
    "# new wbw + th>10: 0.0201575727704975\n",
    "# new+remove: 0.016397763732652983"
   ]
  },
  {
   "cell_type": "code",
   "execution_count": 81,
   "id": "62dfbfa6",
   "metadata": {
    "execution": {
     "iopub.execute_input": "2022-03-12T08:19:17.181945Z",
     "iopub.status.busy": "2022-03-12T08:19:17.180939Z",
     "iopub.status.idle": "2022-03-12T08:19:17.593098Z",
     "shell.execute_reply": "2022-03-12T08:19:17.592601Z",
     "shell.execute_reply.started": "2022-03-12T07:59:28.572467Z"
    },
    "papermill": {
     "duration": 0.53099,
     "end_time": "2022-03-12T08:19:17.593250",
     "exception": false,
     "start_time": "2022-03-12T08:19:17.062260",
     "status": "completed"
    },
    "tags": []
   },
   "outputs": [
    {
     "data": {
      "text/plain": [
       "0.26094793673217653"
      ]
     },
     "execution_count": 81,
     "metadata": {},
     "output_type": "execute_result"
    }
   ],
   "source": [
    "mrecallk(merged_small['valid_true'].map(lambda x: x.split()), merged_small['valid_pred'].map(lambda x: x.split()), k=12)\n",
    "# week by week : 0.01932784589487593\n",
    "# to: last week, from: others 0.019874239612874656\n",
    "# to: last, from: 1 momth 0.014448328587476795\n",
    "\n",
    "# ranking穴埋め\n",
    "# rankingのみ 0.025815260523814648\n",
    "# wbw 0.02123677863694331\n",
    "# wbw + th>10: 0.032301029444915814\n",
    "# to: last, from: 1 momth 0.01646668081929506\n",
    "# to: last, from: 1 momth + th>10 : 0.028598971245121927\n",
    "# to: last week, from: others 0.022308354127003778\n",
    "# to: last week, from: others  + th>10 0.029319012491099767\n",
    "\n",
    "# new wbw + th>10: 0.0316992153606441\n",
    "# new+remove: 0.02783908661757148"
   ]
  },
  {
   "cell_type": "code",
   "execution_count": 82,
   "id": "5ddd1d22",
   "metadata": {
    "execution": {
     "iopub.execute_input": "2022-03-12T08:19:17.831640Z",
     "iopub.status.busy": "2022-03-12T08:19:17.830620Z",
     "iopub.status.idle": "2022-03-12T08:19:18.244308Z",
     "shell.execute_reply": "2022-03-12T08:19:18.243731Z",
     "shell.execute_reply.started": "2022-03-12T07:59:29.000041Z"
    },
    "papermill": {
     "duration": 0.53469,
     "end_time": "2022-03-12T08:19:18.244455",
     "exception": false,
     "start_time": "2022-03-12T08:19:17.709765",
     "status": "completed"
    },
    "tags": []
   },
   "outputs": [
    {
     "data": {
      "text/plain": [
       "0.2682391792227964"
      ]
     },
     "execution_count": 82,
     "metadata": {},
     "output_type": "execute_result"
    }
   ],
   "source": [
    "mrecallk(merged_small['valid_true'].map(lambda x: x.split()), merged_small['valid_pred'].map(lambda x: x.split()), k=20)\n",
    "# week by week : 0.02257593075135928\n",
    "# to: last week, from: others 0.026311201687301257\n",
    "# to: last, from: 1 momth 0.018838052674924232\n",
    "\n",
    "# ranking穴埋め\n",
    "# rankingのみ 0.03797998284689133\n",
    "# wbw 0.025000857027370597\n",
    "# wbw + th>10: 0.04350661359738316\n",
    "\n",
    "# to: last, from: 1 momth 0.024878600349887987\n",
    "# to: last, from: 1 momth + th>10 : 0.040501679138651214\n",
    "# to: last week, from: others 0.02990506652374502\n",
    "# to: last week, from: others  + th>10 0.04073618499720119\n",
    "\n",
    "# new wbw + th>10: 0.04289436483459848\n",
    "# new remove: 0.0.039404877884636855"
   ]
  },
  {
   "cell_type": "code",
   "execution_count": 83,
   "id": "b12cd7a8",
   "metadata": {
    "execution": {
     "iopub.execute_input": "2022-03-12T08:19:18.487968Z",
     "iopub.status.busy": "2022-03-12T08:19:18.487192Z",
     "iopub.status.idle": "2022-03-12T08:19:18.896992Z",
     "shell.execute_reply": "2022-03-12T08:19:18.897479Z",
     "shell.execute_reply.started": "2022-03-12T07:59:29.432622Z"
    },
    "papermill": {
     "duration": 0.536453,
     "end_time": "2022-03-12T08:19:18.897657",
     "exception": false,
     "start_time": "2022-03-12T08:19:18.361204",
     "status": "completed"
    },
    "tags": []
   },
   "outputs": [
    {
     "data": {
      "text/plain": [
       "0.29338384223648184"
      ]
     },
     "execution_count": 83,
     "metadata": {},
     "output_type": "execute_result"
    }
   ],
   "source": [
    "mrecallk(merged_small['valid_true'].map(lambda x: x.split()), merged_small['valid_pred'].map(lambda x: x.split()), k=50)\n",
    "# week by week : 0.029968311213853332\n",
    "# to: last week, from: others 0.045209030309751125\n",
    "# to: last, from: 1 momth 0.029489627092570865\n",
    "\n",
    "# ranking穴埋め\n",
    "# rankingのみ 0.07263431758086934\n",
    "# wbw 0.03439503464484325\n",
    "# wbw + th>10: 0.07790532307586577\n",
    "# to: last, from: 1 momth 0.05102074236713631\n",
    "# to: last, from: 1 momth + th>10 : 0.07474854400839524\n",
    "# to: last week, from: others 0.05306972787354015\n",
    "# to: last week, from: others  + th>10 0.07461423895697561\n",
    "\n",
    "# new wbw + th>10: 0.07703617148752748\n",
    "# new+remove: 0.07356823386454821"
   ]
  },
  {
   "cell_type": "code",
   "execution_count": 84,
   "id": "ac223b7a",
   "metadata": {
    "execution": {
     "iopub.execute_input": "2022-03-12T08:19:19.136282Z",
     "iopub.status.busy": "2022-03-12T08:19:19.135596Z",
     "iopub.status.idle": "2022-03-12T08:19:19.545823Z",
     "shell.execute_reply": "2022-03-12T08:19:19.545311Z",
     "shell.execute_reply.started": "2022-03-12T07:59:29.851941Z"
    },
    "papermill": {
     "duration": 0.529953,
     "end_time": "2022-03-12T08:19:19.546003",
     "exception": false,
     "start_time": "2022-03-12T08:19:19.016050",
     "status": "completed"
    },
    "tags": []
   },
   "outputs": [
    {
     "data": {
      "text/plain": [
       "0.29338125904910245"
      ]
     },
     "execution_count": 84,
     "metadata": {},
     "output_type": "execute_result"
    }
   ],
   "source": [
    "mrecallk(merged_small['valid_true'].map(lambda x: x.split()), merged_small['valid_pred'].map(lambda x: x.split()), k=100)\n",
    "# week by week : 0.03837003067670086\n",
    "# to: last week, from: others 0.06662652084060305\n",
    "# to: last, from: 1 momth 0.03967563687281079\n",
    "\n",
    "# new wbw + th>10:  "
   ]
  },
  {
   "cell_type": "markdown",
   "id": "7884e7cf",
   "metadata": {
    "papermill": {
     "duration": 0.118803,
     "end_time": "2022-03-12T08:19:19.782817",
     "exception": false,
     "start_time": "2022-03-12T08:19:19.664014",
     "status": "completed"
    },
    "tags": []
   },
   "source": [
    "### submit"
   ]
  },
  {
   "cell_type": "code",
   "execution_count": 85,
   "id": "4a8e895b",
   "metadata": {
    "execution": {
     "iopub.execute_input": "2022-03-12T08:19:20.022239Z",
     "iopub.status.busy": "2022-03-12T08:19:20.021544Z",
     "iopub.status.idle": "2022-03-12T08:19:33.043705Z",
     "shell.execute_reply": "2022-03-12T08:19:33.043128Z",
     "shell.execute_reply.started": "2022-03-12T08:02:36.177661Z"
    },
    "papermill": {
     "duration": 13.143211,
     "end_time": "2022-03-12T08:19:33.043848",
     "exception": false,
     "start_time": "2022-03-12T08:19:19.900637",
     "status": "completed"
    },
    "tags": []
   },
   "outputs": [
    {
     "name": "stdout",
     "output_type": "stream",
     "text": [
      "(1371980, 2)\n"
     ]
    }
   ],
   "source": [
    "sub = merged[['customer_id', 'valid_pred']].copy()\n",
    "sub.columns = ['customer_id', 'prediction']\n",
    "print(sub.shape)\n",
    "\n",
    "#sub.to_csv('submission.csv', index=False)\n",
    "sub.to_csv(f'cf_{val_start_date}_{Nval}.csv', index=False)"
   ]
  },
  {
   "cell_type": "code",
   "execution_count": null,
   "id": "286c3bfe",
   "metadata": {
    "papermill": {
     "duration": 0.121997,
     "end_time": "2022-03-12T08:19:33.285935",
     "exception": false,
     "start_time": "2022-03-12T08:19:33.163938",
     "status": "completed"
    },
    "tags": []
   },
   "outputs": [],
   "source": []
  }
 ],
 "metadata": {
  "kernelspec": {
   "display_name": "Python 3",
   "language": "python",
   "name": "python3"
  },
  "language_info": {
   "codemirror_mode": {
    "name": "ipython",
    "version": 3
   },
   "file_extension": ".py",
   "mimetype": "text/x-python",
   "name": "python",
   "nbconvert_exporter": "python",
   "pygments_lexer": "ipython3",
   "version": "3.8.10"
  },
  "papermill": {
   "default_parameters": {},
   "duration": 987.598572,
   "end_time": "2022-03-12T08:19:36.718732",
   "environment_variables": {},
   "exception": null,
   "input_path": "__notebook__.ipynb",
   "output_path": "__notebook__.ipynb",
   "parameters": {},
   "start_time": "2022-03-12T08:03:09.120160",
   "version": "2.3.3"
  }
 },
 "nbformat": 4,
 "nbformat_minor": 5
}
